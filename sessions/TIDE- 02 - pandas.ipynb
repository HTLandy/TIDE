{
 "cells": [
  {
   "cell_type": "markdown",
   "metadata": {
    "collapsed": true
   },
   "source": [
    "# Master TIDE - Conférences Python 2021\n",
    "\n",
    "Francis Wolinski\n",
    "\n",
    "&copy; 2021 Yotta Conseil\n",
    "\n",
    "# 2. Pandas : accès aux données"
   ]
  },
  {
   "cell_type": "code",
   "execution_count": null,
   "metadata": {},
   "outputs": [],
   "source": [
    "# terminal\n",
    "# git clone https://github.com/fran6w/TIDE/\n",
    "# git pull"
   ]
  },
  {
   "cell_type": "code",
   "execution_count": 1,
   "metadata": {
    "scrolled": false
   },
   "outputs": [],
   "source": [
    "# import des modules usuels\n",
    "import pandas as pd\n",
    "import numpy as np\n",
    "\n",
    "# options d'affichage\n",
    "pd.set_option(\"display.max_rows\", 16)"
   ]
  },
  {
   "cell_type": "code",
   "execution_count": 2,
   "metadata": {
    "scrolled": false
   },
   "outputs": [
    {
     "data": {
      "text/html": [
       "<div>\n",
       "<style scoped>\n",
       "    .dataframe tbody tr th:only-of-type {\n",
       "        vertical-align: middle;\n",
       "    }\n",
       "\n",
       "    .dataframe tbody tr th {\n",
       "        vertical-align: top;\n",
       "    }\n",
       "\n",
       "    .dataframe thead th {\n",
       "        text-align: right;\n",
       "    }\n",
       "</style>\n",
       "<table border=\"1\" class=\"dataframe\">\n",
       "  <thead>\n",
       "    <tr style=\"text-align: right;\">\n",
       "      <th></th>\n",
       "      <th>Code Postal</th>\n",
       "      <th>Commune</th>\n",
       "      <th>Département</th>\n",
       "      <th>Région</th>\n",
       "      <th>Statut</th>\n",
       "      <th>Altitude Moyenne</th>\n",
       "      <th>Superficie</th>\n",
       "      <th>Population</th>\n",
       "      <th>geo_point_2d</th>\n",
       "      <th>geo_shape</th>\n",
       "    </tr>\n",
       "    <tr>\n",
       "      <th>Code INSEE</th>\n",
       "      <th></th>\n",
       "      <th></th>\n",
       "      <th></th>\n",
       "      <th></th>\n",
       "      <th></th>\n",
       "      <th></th>\n",
       "      <th></th>\n",
       "      <th></th>\n",
       "      <th></th>\n",
       "      <th></th>\n",
       "    </tr>\n",
       "  </thead>\n",
       "  <tbody>\n",
       "    <tr>\n",
       "      <th>01001</th>\n",
       "      <td>01400</td>\n",
       "      <td>L'ABERGEMENT-CLEMENCIAT</td>\n",
       "      <td>AIN</td>\n",
       "      <td>RHONE-ALPES</td>\n",
       "      <td>Commune simple</td>\n",
       "      <td>242.0</td>\n",
       "      <td>1565.0</td>\n",
       "      <td>0.8</td>\n",
       "      <td>46.1534255214, 4.92611354223</td>\n",
       "      <td>{\"type\": \"Polygon\", \"coordinates\": [[[4.926273...</td>\n",
       "    </tr>\n",
       "    <tr>\n",
       "      <th>01002</th>\n",
       "      <td>01640</td>\n",
       "      <td>L'ABERGEMENT-DE-VAREY</td>\n",
       "      <td>AIN</td>\n",
       "      <td>RHONE-ALPES</td>\n",
       "      <td>Commune simple</td>\n",
       "      <td>483.0</td>\n",
       "      <td>912.0</td>\n",
       "      <td>0.2</td>\n",
       "      <td>46.0091878776, 5.42801696363</td>\n",
       "      <td>{\"type\": \"Polygon\", \"coordinates\": [[[5.430089...</td>\n",
       "    </tr>\n",
       "    <tr>\n",
       "      <th>01004</th>\n",
       "      <td>01500</td>\n",
       "      <td>AMBERIEU-EN-BUGEY</td>\n",
       "      <td>AIN</td>\n",
       "      <td>RHONE-ALPES</td>\n",
       "      <td>Chef-lieu canton</td>\n",
       "      <td>379.0</td>\n",
       "      <td>2448.0</td>\n",
       "      <td>13.4</td>\n",
       "      <td>45.9608475114, 5.3729257777</td>\n",
       "      <td>{\"type\": \"Polygon\", \"coordinates\": [[[5.386190...</td>\n",
       "    </tr>\n",
       "    <tr>\n",
       "      <th>01005</th>\n",
       "      <td>01330</td>\n",
       "      <td>AMBERIEUX-EN-DOMBES</td>\n",
       "      <td>AIN</td>\n",
       "      <td>RHONE-ALPES</td>\n",
       "      <td>Commune simple</td>\n",
       "      <td>290.0</td>\n",
       "      <td>1605.0</td>\n",
       "      <td>1.6</td>\n",
       "      <td>45.9961799872, 4.91227250796</td>\n",
       "      <td>{\"type\": \"Polygon\", \"coordinates\": [[[4.895580...</td>\n",
       "    </tr>\n",
       "    <tr>\n",
       "      <th>01006</th>\n",
       "      <td>01300</td>\n",
       "      <td>AMBLEON</td>\n",
       "      <td>AIN</td>\n",
       "      <td>RHONE-ALPES</td>\n",
       "      <td>Commune simple</td>\n",
       "      <td>589.0</td>\n",
       "      <td>602.0</td>\n",
       "      <td>0.1</td>\n",
       "      <td>45.7494989044, 5.59432017366</td>\n",
       "      <td>{\"type\": \"Polygon\", \"coordinates\": [[[5.614854...</td>\n",
       "    </tr>\n",
       "  </tbody>\n",
       "</table>\n",
       "</div>"
      ],
      "text/plain": [
       "           Code Postal                  Commune Département       Région  \\\n",
       "Code INSEE                                                                 \n",
       "01001            01400  L'ABERGEMENT-CLEMENCIAT         AIN  RHONE-ALPES   \n",
       "01002            01640    L'ABERGEMENT-DE-VAREY         AIN  RHONE-ALPES   \n",
       "01004            01500        AMBERIEU-EN-BUGEY         AIN  RHONE-ALPES   \n",
       "01005            01330      AMBERIEUX-EN-DOMBES         AIN  RHONE-ALPES   \n",
       "01006            01300                  AMBLEON         AIN  RHONE-ALPES   \n",
       "\n",
       "                      Statut  Altitude Moyenne  Superficie  Population  \\\n",
       "Code INSEE                                                               \n",
       "01001         Commune simple             242.0      1565.0         0.8   \n",
       "01002         Commune simple             483.0       912.0         0.2   \n",
       "01004       Chef-lieu canton             379.0      2448.0        13.4   \n",
       "01005         Commune simple             290.0      1605.0         1.6   \n",
       "01006         Commune simple             589.0       602.0         0.1   \n",
       "\n",
       "                            geo_point_2d  \\\n",
       "Code INSEE                                 \n",
       "01001       46.1534255214, 4.92611354223   \n",
       "01002       46.0091878776, 5.42801696363   \n",
       "01004        45.9608475114, 5.3729257777   \n",
       "01005       45.9961799872, 4.91227250796   \n",
       "01006       45.7494989044, 5.59432017366   \n",
       "\n",
       "                                                    geo_shape  \n",
       "Code INSEE                                                     \n",
       "01001       {\"type\": \"Polygon\", \"coordinates\": [[[4.926273...  \n",
       "01002       {\"type\": \"Polygon\", \"coordinates\": [[[5.430089...  \n",
       "01004       {\"type\": \"Polygon\", \"coordinates\": [[[5.386190...  \n",
       "01005       {\"type\": \"Polygon\", \"coordinates\": [[[4.895580...  \n",
       "01006       {\"type\": \"Polygon\", \"coordinates\": [[[5.614854...  "
      ]
     },
     "execution_count": 2,
     "metadata": {},
     "output_type": "execute_result"
    }
   ],
   "source": [
    "# chargement des données\n",
    "geo = pd.read_csv(\"correspondance-code-insee-code-postal.csv\",\n",
    "                   sep=';',\n",
    "                   usecols=range(11),\n",
    "                   index_col=\"Code INSEE\")\n",
    "geo = geo.sort_index()\n",
    "geo.head()"
   ]
  },
  {
   "cell_type": "code",
   "execution_count": 3,
   "metadata": {},
   "outputs": [
    {
     "data": {
      "text/plain": [
       "Index(['01001', '01002', '01004', '01005', '01006', '01007', '01008', '01009',\n",
       "       '01010', '01011',\n",
       "       ...\n",
       "       '97608', '97609', '97610', '97611', '97612', '97613', '97614', '97615',\n",
       "       '97616', '97617'],\n",
       "      dtype='object', name='Code INSEE', length=36742)"
      ]
     },
     "execution_count": 3,
     "metadata": {},
     "output_type": "execute_result"
    }
   ],
   "source": [
    "# index\n",
    "geo.index"
   ]
  },
  {
   "cell_type": "code",
   "execution_count": 4,
   "metadata": {},
   "outputs": [
    {
     "data": {
      "text/plain": [
       "Index(['Code Postal', 'Commune', 'Département', 'Région', 'Statut',\n",
       "       'Altitude Moyenne', 'Superficie', 'Population', 'geo_point_2d',\n",
       "       'geo_shape'],\n",
       "      dtype='object')"
      ]
     },
     "execution_count": 4,
     "metadata": {},
     "output_type": "execute_result"
    }
   ],
   "source": [
    "# colonnes\n",
    "geo.columns"
   ]
  },
  {
   "cell_type": "code",
   "execution_count": 5,
   "metadata": {},
   "outputs": [
    {
     "data": {
      "text/plain": [
       "Code INSEE\n",
       "01001    L'ABERGEMENT-CLEMENCIAT\n",
       "01002      L'ABERGEMENT-DE-VAREY\n",
       "01004          AMBERIEU-EN-BUGEY\n",
       "01005        AMBERIEUX-EN-DOMBES\n",
       "01006                    AMBLEON\n",
       "                  ...           \n",
       "97613              M'TSANGAMOUJI\n",
       "97614                   OUANGANI\n",
       "97615                   PAMANDZI\n",
       "97616                       SADA\n",
       "97617                   TSINGONI\n",
       "Name: Commune, Length: 36742, dtype: object"
      ]
     },
     "execution_count": 5,
     "metadata": {},
     "output_type": "execute_result"
    }
   ],
   "source": [
    "# accès avec []\n",
    "geo['Commune']"
   ]
  },
  {
   "cell_type": "code",
   "execution_count": 6,
   "metadata": {},
   "outputs": [
    {
     "data": {
      "text/plain": [
       "Code INSEE\n",
       "01001    L'ABERGEMENT-CLEMENCIAT\n",
       "01002      L'ABERGEMENT-DE-VAREY\n",
       "01004          AMBERIEU-EN-BUGEY\n",
       "01005        AMBERIEUX-EN-DOMBES\n",
       "01006                    AMBLEON\n",
       "                  ...           \n",
       "97613              M'TSANGAMOUJI\n",
       "97614                   OUANGANI\n",
       "97615                   PAMANDZI\n",
       "97616                       SADA\n",
       "97617                   TSINGONI\n",
       "Name: Commune, Length: 36742, dtype: object"
      ]
     },
     "execution_count": 6,
     "metadata": {},
     "output_type": "execute_result"
    }
   ],
   "source": [
    "# accès par attribut : ne fonctionne pas toujours\n",
    "geo.Commune"
   ]
  },
  {
   "cell_type": "markdown",
   "metadata": {},
   "source": [
    "Point de vocabulaire :\n",
    "- Les objets *Series* et *DataFrame* possèdent des *index* qui peuvent être des entiers (par défaut) ou bien des labels (chaines de caractères, ou encore des tuples pour les index multiples / hiérarchiques). Lorsque l'index est unique, ils ont un comportement de type dictionnaire auquel on accède au moyen d'une clé.\n",
    "- Ces objets sont aussi basés sur des tableaux (*ndarray*) auxquels on peut accéder par position, c'est-à-dire par un entier appelé *indice* (en démarrant à 0). Ils ont un comportement de type séquence auquel on accède par un entier.\n",
    "\n",
    "## 2.1 Rappel sur les accès par indices en Python\n",
    "\n"
   ]
  },
  {
   "cell_type": "markdown",
   "metadata": {},
   "source": [
    "Notation|Signification\n",
    "-|-\n",
    "s[i]|accès à l'élement situé à la position i (démarrant à 0)\n",
    "s[i:j]|accès aux élements situés entre la position i et la position j-1\n",
    "s[i:j:k]|accès aux élements situés entre la position i et la position j-1 par pas de k\n",
    "s[:i]| accès à tous les éléments jusqu'à la position i-1\n",
    "s[i:]|accès à tous les éléments à partir de la position i\n",
    "s[:]|accès à tous les éléments\n",
    "s[::-1]|accès à tous les éléments dans l'ordre inverse"
   ]
  },
  {
   "cell_type": "markdown",
   "metadata": {},
   "source": [
    "**Rappel** : en Python le premier indice d'une séquence de longueur L est 0 et le dernier est L - 1. Par commodité, une séquence peut aussi être accédée par des indices négatifs allant de -L à -1."
   ]
  },
  {
   "cell_type": "markdown",
   "metadata": {},
   "source": [
    "P|y|t|h|o|n\n",
    "-|-|-|-|-|-\n",
    "0|1|2|3|4|5\n",
    "-6|-5|-4|-3|-2|-1"
   ]
  },
  {
   "cell_type": "markdown",
   "metadata": {},
   "source": [
    "**Remarques importantes**\n",
    "\n",
    "Cette notation utilisée pour les indices a été reprise pour les index des objets *Series* et *dataFrame*.\n",
    "- Lorsque 2 index sont indiqués, le second index est inclus dans la sélection, contrairement aux indices (idem avec les colonnes).\n",
    "- Lorsque 2 index sont indiqués, la notation fonctionne uniquement lorsque l'index est unique (idem avec les colonnes)."
   ]
  },
  {
   "cell_type": "markdown",
   "metadata": {},
   "source": [
    "## 2.2 *Series*\n",
    "\n",
    "Il existe plusieurs opérateurs pour effectuer des sélections dans les objets *Series* :\n",
    "+ `[]` : sélection à partir d'un index ou d'un indice (si l'index n'est pas un entier) :\n",
    "    - un seul index ou indice : `s[i]`\n",
    "    - liste d'index ou d'indices : `s[[i, j, k]]` (fancy indexing)\n",
    "    - plage d'index ou d'indices : `s[i:j]` et `s[i:j:k]` (attention index vs indices)\n",
    "    - vecteur de booléens (masque) : `True` = sélection, `False` = non sélection\n",
    "+ `.loc[]` idem mais réservé aux index\n",
    "+ `.iloc[]` idem mais réservé aux indices\n",
    "\n",
    "Lorsque la sélection correspond à une seule valeur, l'opération retourne un scalaire.\n",
    "Lorsque la sélection correspond à plusieurs valeurs, l'opération retourne un objet `Series`.\n",
    "\n",
    "N.B. : Les instructions de sélection avec les opérateurs `loc` et `iloc` permettent aussi l'affectation de valeurs."
   ]
  },
  {
   "cell_type": "markdown",
   "metadata": {},
   "source": [
    "### 2.2.1 Sélection par index ou indice"
   ]
  },
  {
   "cell_type": "code",
   "execution_count": 7,
   "metadata": {},
   "outputs": [
    {
     "data": {
      "text/plain": [
       "'PARIS-13E-ARRONDISSEMENT'"
      ]
     },
     "execution_count": 7,
     "metadata": {},
     "output_type": "execute_result"
    }
   ],
   "source": [
    "# sélection par index\n",
    "s = geo['Commune']\n",
    "s.loc['75113'] # ou s['75113']"
   ]
  },
  {
   "cell_type": "code",
   "execution_count": 8,
   "metadata": {},
   "outputs": [
    {
     "data": {
      "text/plain": [
       "'PARIS-13E-ARRONDISSEMENT'"
      ]
     },
     "execution_count": 8,
     "metadata": {},
     "output_type": "execute_result"
    }
   ],
   "source": [
    "# sélection par indice\n",
    "s.iloc[30836] # ou s[30836]"
   ]
  },
  {
   "cell_type": "code",
   "execution_count": 9,
   "metadata": {},
   "outputs": [
    {
     "data": {
      "text/plain": [
       "'PARIS-13E-ARRONDISSEMENT'"
      ]
     },
     "execution_count": 9,
     "metadata": {},
     "output_type": "execute_result"
    }
   ],
   "source": [
    "geo.loc['75113', 'Commune']"
   ]
  },
  {
   "cell_type": "code",
   "execution_count": 12,
   "metadata": {},
   "outputs": [
    {
     "data": {
      "text/plain": [
       "'PARIS-13E-ARRONDISSEMENT'"
      ]
     },
     "execution_count": 12,
     "metadata": {},
     "output_type": "execute_result"
    }
   ],
   "source": [
    "geo.iloc[30836, 1]"
   ]
  },
  {
   "cell_type": "code",
   "execution_count": 13,
   "metadata": {},
   "outputs": [
    {
     "data": {
      "text/plain": [
       "'PARIS-13E-ARRONDISSEMENT'"
      ]
     },
     "execution_count": 13,
     "metadata": {},
     "output_type": "execute_result"
    }
   ],
   "source": [
    "geo.iat[30836, 1]"
   ]
  },
  {
   "cell_type": "code",
   "execution_count": 10,
   "metadata": {},
   "outputs": [
    {
     "data": {
      "text/plain": [
       "'PARIS-13E-ARRONDISSEMENT'"
      ]
     },
     "execution_count": 10,
     "metadata": {},
     "output_type": "execute_result"
    }
   ],
   "source": [
    "geo.at['75113', 'Commune']"
   ]
  },
  {
   "cell_type": "code",
   "execution_count": 14,
   "metadata": {},
   "outputs": [
    {
     "data": {
      "text/plain": [
       "Code INSEE\n",
       "01001    L'ABERGEMENT-CLEMENCIAT\n",
       "01004          AMBERIEU-EN-BUGEY\n",
       "01006                    AMBLEON\n",
       "Name: Commune, dtype: object"
      ]
     },
     "execution_count": 14,
     "metadata": {},
     "output_type": "execute_result"
    }
   ],
   "source": [
    "# sélection par une liste d'index\n",
    "s.loc[['01001', '01004', '01006']] # ou s[['01001', '01004', '01006']]"
   ]
  },
  {
   "cell_type": "code",
   "execution_count": 15,
   "metadata": {},
   "outputs": [
    {
     "data": {
      "text/plain": [
       "Code INSEE\n",
       "01001    L'ABERGEMENT-CLEMENCIAT\n",
       "01004          AMBERIEU-EN-BUGEY\n",
       "01006                    AMBLEON\n",
       "Name: Commune, dtype: object"
      ]
     },
     "execution_count": 15,
     "metadata": {},
     "output_type": "execute_result"
    }
   ],
   "source": [
    "# sélection par une liste d'index\n",
    "l = ['01001', '01004', '01006']\n",
    "s.loc[l] # ou s[l]"
   ]
  },
  {
   "cell_type": "code",
   "execution_count": 16,
   "metadata": {},
   "outputs": [
    {
     "data": {
      "text/plain": [
       "Code INSEE\n",
       "01001    L'ABERGEMENT-CLEMENCIAT\n",
       "01004          AMBERIEU-EN-BUGEY\n",
       "01006                    AMBLEON\n",
       "Name: Commune, dtype: object"
      ]
     },
     "execution_count": 16,
     "metadata": {},
     "output_type": "execute_result"
    }
   ],
   "source": [
    "# sélection par une liste d'indices\n",
    "s.iloc[[0, 2, 4]] # ou s[[0, 2, 4]]"
   ]
  },
  {
   "cell_type": "code",
   "execution_count": 17,
   "metadata": {},
   "outputs": [
    {
     "data": {
      "text/plain": [
       "Code INSEE\n",
       "01001    L'ABERGEMENT-CLEMENCIAT\n",
       "01002      L'ABERGEMENT-DE-VAREY\n",
       "01004          AMBERIEU-EN-BUGEY\n",
       "01005        AMBERIEUX-EN-DOMBES\n",
       "01006                    AMBLEON\n",
       "Name: Commune, dtype: object"
      ]
     },
     "execution_count": 17,
     "metadata": {},
     "output_type": "execute_result"
    }
   ],
   "source": [
    "# sélection par une plage d'index\n",
    "# 01006 est inclus\n",
    "s.loc['01001':'01006'] # ou s['01001':'01006']"
   ]
  },
  {
   "cell_type": "code",
   "execution_count": 24,
   "metadata": {},
   "outputs": [
    {
     "data": {
      "text/plain": [
       "'01002'"
      ]
     },
     "execution_count": 24,
     "metadata": {},
     "output_type": "execute_result"
    }
   ],
   "source": [
    "str(1002).zfill(5)"
   ]
  },
  {
   "cell_type": "code",
   "execution_count": 20,
   "metadata": {},
   "outputs": [
    {
     "data": {
      "text/html": [
       "<div>\n",
       "<style scoped>\n",
       "    .dataframe tbody tr th:only-of-type {\n",
       "        vertical-align: middle;\n",
       "    }\n",
       "\n",
       "    .dataframe tbody tr th {\n",
       "        vertical-align: top;\n",
       "    }\n",
       "\n",
       "    .dataframe thead th {\n",
       "        text-align: right;\n",
       "    }\n",
       "</style>\n",
       "<table border=\"1\" class=\"dataframe\">\n",
       "  <thead>\n",
       "    <tr style=\"text-align: right;\">\n",
       "      <th></th>\n",
       "      <th>Commune</th>\n",
       "      <th>Région</th>\n",
       "    </tr>\n",
       "    <tr>\n",
       "      <th>Code INSEE</th>\n",
       "      <th></th>\n",
       "      <th></th>\n",
       "    </tr>\n",
       "  </thead>\n",
       "  <tbody>\n",
       "    <tr>\n",
       "      <th>01001</th>\n",
       "      <td>L'ABERGEMENT-CLEMENCIAT</td>\n",
       "      <td>RHONE-ALPES</td>\n",
       "    </tr>\n",
       "    <tr>\n",
       "      <th>01002</th>\n",
       "      <td>L'ABERGEMENT-DE-VAREY</td>\n",
       "      <td>RHONE-ALPES</td>\n",
       "    </tr>\n",
       "    <tr>\n",
       "      <th>01004</th>\n",
       "      <td>AMBERIEU-EN-BUGEY</td>\n",
       "      <td>RHONE-ALPES</td>\n",
       "    </tr>\n",
       "    <tr>\n",
       "      <th>01005</th>\n",
       "      <td>AMBERIEUX-EN-DOMBES</td>\n",
       "      <td>RHONE-ALPES</td>\n",
       "    </tr>\n",
       "    <tr>\n",
       "      <th>01006</th>\n",
       "      <td>AMBLEON</td>\n",
       "      <td>RHONE-ALPES</td>\n",
       "    </tr>\n",
       "  </tbody>\n",
       "</table>\n",
       "</div>"
      ],
      "text/plain": [
       "                            Commune       Région\n",
       "Code INSEE                                      \n",
       "01001       L'ABERGEMENT-CLEMENCIAT  RHONE-ALPES\n",
       "01002         L'ABERGEMENT-DE-VAREY  RHONE-ALPES\n",
       "01004             AMBERIEU-EN-BUGEY  RHONE-ALPES\n",
       "01005           AMBERIEUX-EN-DOMBES  RHONE-ALPES\n",
       "01006                       AMBLEON  RHONE-ALPES"
      ]
     },
     "execution_count": 20,
     "metadata": {},
     "output_type": "execute_result"
    }
   ],
   "source": [
    "# sélection par une plage d'index\n",
    "# 01006 est inclus\n",
    "geo.loc['01001':'01006', ['Commune', 'Région']] # ou s['01001':'01006']"
   ]
  },
  {
   "cell_type": "code",
   "execution_count": 18,
   "metadata": {},
   "outputs": [
    {
     "data": {
      "text/plain": [
       "Code INSEE\n",
       "01001    L'ABERGEMENT-CLEMENCIAT\n",
       "01002      L'ABERGEMENT-DE-VAREY\n",
       "01004          AMBERIEU-EN-BUGEY\n",
       "01005        AMBERIEUX-EN-DOMBES\n",
       "01006                    AMBLEON\n",
       "Name: Commune, dtype: object"
      ]
     },
     "execution_count": 18,
     "metadata": {},
     "output_type": "execute_result"
    }
   ],
   "source": [
    "# sélection par une plage d'indices\n",
    "# 5 est exclu\n",
    "s.iloc[0:5] # ou s[0:5]"
   ]
  },
  {
   "cell_type": "code",
   "execution_count": 25,
   "metadata": {},
   "outputs": [
    {
     "data": {
      "text/plain": [
       "Code INSEE\n",
       "01001    L'ABERGEMENT-CLEMENCIAT\n",
       "01004          AMBERIEU-EN-BUGEY\n",
       "01006                    AMBLEON\n",
       "Name: Commune, dtype: object"
      ]
     },
     "execution_count": 25,
     "metadata": {},
     "output_type": "execute_result"
    }
   ],
   "source": [
    "# sélection par une plage d'index\n",
    "# 01006 est inclus\n",
    "s.loc['01001':'01006':2] # ou s['01001':'01006':2]"
   ]
  },
  {
   "cell_type": "code",
   "execution_count": 26,
   "metadata": {},
   "outputs": [
    {
     "data": {
      "text/plain": [
       "Code INSEE\n",
       "01001    L'ABERGEMENT-CLEMENCIAT\n",
       "01004          AMBERIEU-EN-BUGEY\n",
       "01006                    AMBLEON\n",
       "Name: Commune, dtype: object"
      ]
     },
     "execution_count": 26,
     "metadata": {},
     "output_type": "execute_result"
    }
   ],
   "source": [
    "# sélection par une plage d'indices\n",
    "# 5 est exclu\n",
    "s.iloc[0:5:2] # ou s[0:5:2]"
   ]
  },
  {
   "cell_type": "markdown",
   "metadata": {},
   "source": [
    "### 2.2.1 Sélection avec un masque booléen\n",
    "\n",
    "Il est possible de sélectionner une partie d'un objet `Series` à partir d'un masque booléen, i.e. un autre objet `Series` de même dimension et composé de booléens.\n",
    "\n",
    "Opérateurs logiques:\n",
    "- & (ET)\n",
    "- | (OU)\n",
    "- ~ (NON)"
   ]
  },
  {
   "cell_type": "code",
   "execution_count": 27,
   "metadata": {},
   "outputs": [
    {
     "data": {
      "text/plain": [
       "Code INSEE\n",
       "01001    L'ABERGEMENT-CLEMENCIAT\n",
       "01002      L'ABERGEMENT-DE-VAREY\n",
       "01004          AMBERIEU-EN-BUGEY\n",
       "01005        AMBERIEUX-EN-DOMBES\n",
       "01006                    AMBLEON\n",
       "                  ...           \n",
       "97613              M'TSANGAMOUJI\n",
       "97614                   OUANGANI\n",
       "97615                   PAMANDZI\n",
       "97616                       SADA\n",
       "97617                   TSINGONI\n",
       "Name: Commune, Length: 36742, dtype: object"
      ]
     },
     "execution_count": 27,
     "metadata": {},
     "output_type": "execute_result"
    }
   ],
   "source": [
    "# Series\n",
    "s"
   ]
  },
  {
   "cell_type": "code",
   "execution_count": 28,
   "metadata": {
    "scrolled": false
   },
   "outputs": [
    {
     "data": {
      "text/plain": [
       "Code INSEE\n",
       "01001    False\n",
       "01002    False\n",
       "01004     True\n",
       "01005     True\n",
       "01006     True\n",
       "         ...  \n",
       "97613    False\n",
       "97614    False\n",
       "97615    False\n",
       "97616    False\n",
       "97617    False\n",
       "Name: Commune, Length: 36742, dtype: bool"
      ]
     },
     "execution_count": 28,
     "metadata": {},
     "output_type": "execute_result"
    }
   ],
   "source": [
    "# vecteur de booléens selon si le nom de la ville commence par \"A\"\n",
    "masque = s.str.startswith(\"A\")\n",
    "masque"
   ]
  },
  {
   "cell_type": "markdown",
   "metadata": {},
   "source": [
    "On obtient 2 objets `Series` parallèles et on ne retient que les élements qui correspondent à un `True`."
   ]
  },
  {
   "cell_type": "code",
   "execution_count": 29,
   "metadata": {
    "scrolled": false
   },
   "outputs": [
    {
     "data": {
      "text/plain": [
       "Code INSEE\n",
       "01004      AMBERIEU-EN-BUGEY\n",
       "01005    AMBERIEUX-EN-DOMBES\n",
       "01006                AMBLEON\n",
       "01007               AMBRONAY\n",
       "01008               AMBUTRIX\n",
       "                ...         \n",
       "95040                AVERNES\n",
       "97102          ANSE-BERTRAND\n",
       "97360                 APATOU\n",
       "97361         AWALA-YALIMAPO\n",
       "97601                  ACOUA\n",
       "Name: Commune, Length: 1934, dtype: object"
      ]
     },
     "execution_count": 29,
     "metadata": {},
     "output_type": "execute_result"
    }
   ],
   "source": [
    "# sélection à partir du vecteur de booléens\n",
    "s.loc[masque]  # ou bien s[masque]"
   ]
  },
  {
   "cell_type": "code",
   "execution_count": 30,
   "metadata": {
    "scrolled": false
   },
   "outputs": [
    {
     "data": {
      "text/plain": [
       "Code INSEE\n",
       "01331                SAINT-ALBAN\n",
       "01332        SAINT-ANDRE-DE-BAGE\n",
       "01333       SAINT-ANDRE-DE-CORCY\n",
       "01334      SAINT-ANDRE-D'HUIRIAT\n",
       "01335    SAINT-ANDRE-LE-BOUCHOUX\n",
       "                  ...           \n",
       "97416               SAINT-PIERRE\n",
       "97417             SAINT-PHILIPPE\n",
       "97418               SAINTE-MARIE\n",
       "97419                SAINTE-ROSE\n",
       "97420             SAINTE-SUZANNE\n",
       "Name: Commune, Length: 4256, dtype: object"
      ]
     },
     "execution_count": 30,
     "metadata": {},
     "output_type": "execute_result"
    }
   ],
   "source": [
    "# les communes qui commencent par SAINT\n",
    "s.loc[s.str.startswith(\"SAINT\")]"
   ]
  },
  {
   "cell_type": "markdown",
   "metadata": {},
   "source": [
    "<div class=\"alert alert-success\">\n",
    "<b>Exercice 1</b>\n",
    "<ul>\n",
    "    <li>Quelles communes commencent par la lettre \"Z\" ?</li>\n",
    "    <li>Quelles communes commencent et finissent par la lettre \"Y\" ?</li>\n",
    "    <li>Combien de communes sont \"SUR-MER\" ?</li>\n",
    "    <li>Quelles communes ont un nom avec la préposition \"SOUS\" ?</li>\n",
    "    <li>Quelles communes ont un nom avec \"SOUS\" mais pas la préposition \"SOUS\" ?</li>\n",
    "</ul>\n",
    "</div>"
   ]
  },
  {
   "cell_type": "code",
   "execution_count": 31,
   "metadata": {},
   "outputs": [
    {
     "data": {
      "text/plain": [
       "Code INSEE\n",
       "2A357        ZERUBIA\n",
       "2A358         ZEVACO\n",
       "2A359         ZICAVO\n",
       "2A360       ZIGLIARA\n",
       "2A362          ZONZA\n",
       "            ...     \n",
       "68383     ZELLENBERG\n",
       "68384     ZILLISHEIM\n",
       "68385     ZIMMERBACH\n",
       "68386    ZIMMERSHEIM\n",
       "88532       ZINCOURT\n",
       "Name: Commune, Length: 35, dtype: object"
      ]
     },
     "execution_count": 31,
     "metadata": {},
     "output_type": "execute_result"
    }
   ],
   "source": [
    "s.loc[s.str.startswith(\"Z\")]"
   ]
  },
  {
   "cell_type": "code",
   "execution_count": 32,
   "metadata": {},
   "outputs": [
    {
     "data": {
      "text/plain": [
       "Code INSEE\n",
       "28425     YMERAY\n",
       "49381    YZERNAY\n",
       "80829          Y\n",
       "86300    YVERSAY\n",
       "Name: Commune, dtype: object"
      ]
     },
     "execution_count": 32,
     "metadata": {},
     "output_type": "execute_result"
    }
   ],
   "source": [
    "s.loc[s.str.startswith(\"Y\") & s.str.endswith(\"Y\")]"
   ]
  },
  {
   "cell_type": "code",
   "execution_count": 34,
   "metadata": {},
   "outputs": [
    {
     "data": {
      "text/plain": [
       "100"
      ]
     },
     "execution_count": 34,
     "metadata": {},
     "output_type": "execute_result"
    }
   ],
   "source": [
    "s[s.str.endswith(\"-SUR-MER\")].size"
   ]
  },
  {
   "cell_type": "code",
   "execution_count": 36,
   "metadata": {},
   "outputs": [
    {
     "data": {
      "text/plain": [
       "Code INSEE\n",
       "17433              SOUSMOULINS\n",
       "21613      SOUSSEY-SUR-BRIONNE\n",
       "23175              SOUS-PARSAT\n",
       "25001           ABBANS-DESSOUS\n",
       "25034            AUXON-DESSOUS\n",
       "                 ...          \n",
       "47066         CLERMONT-DESSOUS\n",
       "51545                SOMMESOUS\n",
       "65032           ARRENS-MARSOUS\n",
       "73263    SAINT-OFFENGE-DESSOUS\n",
       "91689                  WISSOUS\n",
       "Name: Commune, Length: 22, dtype: object"
      ]
     },
     "execution_count": 36,
     "metadata": {},
     "output_type": "execute_result"
    }
   ],
   "source": [
    "s[s.str.contains('SOUS') & ~s.str.contains('-SOUS-')]"
   ]
  },
  {
   "cell_type": "markdown",
   "metadata": {},
   "source": [
    "#### Point sur les expressions régulières"
   ]
  },
  {
   "cell_type": "code",
   "execution_count": null,
   "metadata": {},
   "outputs": [],
   "source": [
    "# module re"
   ]
  },
  {
   "cell_type": "code",
   "execution_count": 44,
   "metadata": {},
   "outputs": [
    {
     "data": {
      "text/plain": [
       "Code INSEE\n",
       "01002       L'ABERGEMENT-DE-VAREY\n",
       "01004           AMBERIEU-EN-BUGEY\n",
       "01005         AMBERIEUX-EN-DOMBES\n",
       "01009            ANDERT-ET-CONDON\n",
       "01021             ARS-SUR-FORMANS\n",
       "01023          ASNIERES-SUR-SAONE\n",
       "01025               BAGE-LA-VILLE\n",
       "01026              BAGE-LE-CHATEL\n",
       "01033    BELLEGARDE-SUR-VALSERINE\n",
       "01053             BOURG-EN-BRESSE\n",
       "01054      BOURG-SAINT-CHRISTOPHE\n",
       "01056         BOYEUX-SAINT-JEROME\n",
       "01077         CHALLES-LA-MONTAGNE\n",
       "01079       CHAMPAGNE-EN-VALROMEY\n",
       "01085    LA CHAPELLE-DU-CHATELARD\n",
       "01088             CHARNOZ-SUR-AIN\n",
       "Name: Commune, dtype: object"
      ]
     },
     "execution_count": 44,
     "metadata": {},
     "output_type": "execute_result"
    }
   ],
   "source": [
    "# les communes comportant 2 Z\n",
    "s.loc[s.str.contains(\"-.+-\")].head(16)"
   ]
  },
  {
   "cell_type": "code",
   "execution_count": 42,
   "metadata": {},
   "outputs": [],
   "source": [
    "pd.Series.str.contains?"
   ]
  },
  {
   "cell_type": "markdown",
   "metadata": {},
   "source": [
    "Les **expressions régulières**, ou **regex**, permettent de filtrer des chaines de caractères selon un motif. Dans ces expressions, certains caractères ont une signification spéciale pour permettre le filtrage :\n",
    "\n",
    "- `.`: tout caractère\n",
    "- `^`: le début de la chaine\n",
    "- `$`: la fin de la chaine\n",
    "- `*`: 0 ou plusieurs répétitions du motif précédent\n",
    "- `+`: 1 ou plusieurs répétitions du motif précédent\n",
    "- `?`: 0 ou 1 répétition du motif précédent\n",
    "- `\\`: pour que ces caractères soient traités normalement, il faut les préfixer pat un `\\`.\n",
    "\n",
    "La méthode `contains()` prend des expressions régulières par défaut. Il faut utiliser l'option `regex=False` pour chercher des chaines normales.\n",
    "\n",
    "Toutes les caractères alphanumériques : `[A-Za-zÀ-ÿ0-9]`"
   ]
  },
  {
   "cell_type": "markdown",
   "metadata": {},
   "source": [
    "## 2.3 *DataFrame*\n",
    "\n",
    "Les mêmes opérateurs existent pour effectuer des sélections dans les objets de type *DataFrame* :\n",
    "+ `[]` : sélection à partir d'un index ou d'un indice (si l'index n'est pas un entier) :\n",
    "    - une seule colonne : df[a]\n",
    "    - liste de colonnes ou d'indices : df[[a, b, c]] (fancy indexing)\n",
    "    - plage d'index ou d'indices : df[i:j] et df[i:j:k] (Attention index vs indices)\n",
    "    - vecteur de booléens (masque) : *True* = sélection, *False* = non sélection\n",
    "+ `.loc[]` idem mais réservé aux index\n",
    "+ `.iloc[]` idem mais réservé aux indices\n",
    "\n",
    "Lorsque la sélection correspond à une seule valeur, l'opération retourne un scalaire.\n",
    "Lorsque la sélection correspond à une colonne ou à une ligne, l'opération retourne un objet `Series`.\n",
    "Lorsque la sélection correspond à plusieurs colonnes et à plusieurs lignes, l'opération retourne un objet `DataFrame`.\n",
    "\n",
    "N.B. : Les instructions de sélection avec les opérateurs `loc` et `iloc` permettent aussi l'affectation de valeurs.\n",
    "\n",
    "### 2.3.1 Sélection de colonnes\n",
    "\n",
    "En sélectionnant une seule colonne, on obtient un objet `Series` qui partage l'index du `DataFrame` initial. Cf. ci-dessus.\n",
    "\n",
    "En sélectionnant plusieurs colonnes, on obtient un nouveau `DataFrame` sous-ensemble du `DataFrame` initial et partageant son index avec autant de lignes que le `DataFrame` initial."
   ]
  },
  {
   "cell_type": "code",
   "execution_count": 45,
   "metadata": {
    "scrolled": false
   },
   "outputs": [
    {
     "data": {
      "text/plain": [
       "Code INSEE\n",
       "01001    L'ABERGEMENT-CLEMENCIAT\n",
       "01002      L'ABERGEMENT-DE-VAREY\n",
       "01004          AMBERIEU-EN-BUGEY\n",
       "01005        AMBERIEUX-EN-DOMBES\n",
       "01006                    AMBLEON\n",
       "                  ...           \n",
       "97613              M'TSANGAMOUJI\n",
       "97614                   OUANGANI\n",
       "97615                   PAMANDZI\n",
       "97616                       SADA\n",
       "97617                   TSINGONI\n",
       "Name: Commune, Length: 36742, dtype: object"
      ]
     },
     "execution_count": 45,
     "metadata": {},
     "output_type": "execute_result"
    }
   ],
   "source": [
    "# sélection d'une colonne\n",
    "geo[\"Commune\"]"
   ]
  },
  {
   "cell_type": "code",
   "execution_count": 46,
   "metadata": {
    "scrolled": false
   },
   "outputs": [
    {
     "data": {
      "text/html": [
       "<div>\n",
       "<style scoped>\n",
       "    .dataframe tbody tr th:only-of-type {\n",
       "        vertical-align: middle;\n",
       "    }\n",
       "\n",
       "    .dataframe tbody tr th {\n",
       "        vertical-align: top;\n",
       "    }\n",
       "\n",
       "    .dataframe thead th {\n",
       "        text-align: right;\n",
       "    }\n",
       "</style>\n",
       "<table border=\"1\" class=\"dataframe\">\n",
       "  <thead>\n",
       "    <tr style=\"text-align: right;\">\n",
       "      <th></th>\n",
       "      <th>Commune</th>\n",
       "      <th>Superficie</th>\n",
       "      <th>Population</th>\n",
       "    </tr>\n",
       "    <tr>\n",
       "      <th>Code INSEE</th>\n",
       "      <th></th>\n",
       "      <th></th>\n",
       "      <th></th>\n",
       "    </tr>\n",
       "  </thead>\n",
       "  <tbody>\n",
       "    <tr>\n",
       "      <th>01001</th>\n",
       "      <td>L'ABERGEMENT-CLEMENCIAT</td>\n",
       "      <td>1565.0</td>\n",
       "      <td>0.8</td>\n",
       "    </tr>\n",
       "    <tr>\n",
       "      <th>01002</th>\n",
       "      <td>L'ABERGEMENT-DE-VAREY</td>\n",
       "      <td>912.0</td>\n",
       "      <td>0.2</td>\n",
       "    </tr>\n",
       "    <tr>\n",
       "      <th>01004</th>\n",
       "      <td>AMBERIEU-EN-BUGEY</td>\n",
       "      <td>2448.0</td>\n",
       "      <td>13.4</td>\n",
       "    </tr>\n",
       "    <tr>\n",
       "      <th>01005</th>\n",
       "      <td>AMBERIEUX-EN-DOMBES</td>\n",
       "      <td>1605.0</td>\n",
       "      <td>1.6</td>\n",
       "    </tr>\n",
       "    <tr>\n",
       "      <th>01006</th>\n",
       "      <td>AMBLEON</td>\n",
       "      <td>602.0</td>\n",
       "      <td>0.1</td>\n",
       "    </tr>\n",
       "  </tbody>\n",
       "</table>\n",
       "</div>"
      ],
      "text/plain": [
       "                            Commune  Superficie  Population\n",
       "Code INSEE                                                 \n",
       "01001       L'ABERGEMENT-CLEMENCIAT      1565.0         0.8\n",
       "01002         L'ABERGEMENT-DE-VAREY       912.0         0.2\n",
       "01004             AMBERIEU-EN-BUGEY      2448.0        13.4\n",
       "01005           AMBERIEUX-EN-DOMBES      1605.0         1.6\n",
       "01006                       AMBLEON       602.0         0.1"
      ]
     },
     "execution_count": 46,
     "metadata": {},
     "output_type": "execute_result"
    }
   ],
   "source": [
    "# communes + superficie et population\n",
    "l = [\"Commune\", \"Superficie\", \"Population\"]\n",
    "geo[l].head()"
   ]
  },
  {
   "cell_type": "code",
   "execution_count": 47,
   "metadata": {
    "scrolled": false
   },
   "outputs": [
    {
     "data": {
      "text/html": [
       "<div>\n",
       "<style scoped>\n",
       "    .dataframe tbody tr th:only-of-type {\n",
       "        vertical-align: middle;\n",
       "    }\n",
       "\n",
       "    .dataframe tbody tr th {\n",
       "        vertical-align: top;\n",
       "    }\n",
       "\n",
       "    .dataframe thead th {\n",
       "        text-align: right;\n",
       "    }\n",
       "</style>\n",
       "<table border=\"1\" class=\"dataframe\">\n",
       "  <thead>\n",
       "    <tr style=\"text-align: right;\">\n",
       "      <th></th>\n",
       "      <th>Commune</th>\n",
       "      <th>Superficie</th>\n",
       "      <th>Population</th>\n",
       "    </tr>\n",
       "    <tr>\n",
       "      <th>Code INSEE</th>\n",
       "      <th></th>\n",
       "      <th></th>\n",
       "      <th></th>\n",
       "    </tr>\n",
       "  </thead>\n",
       "  <tbody>\n",
       "    <tr>\n",
       "      <th>01001</th>\n",
       "      <td>L'ABERGEMENT-CLEMENCIAT</td>\n",
       "      <td>1565.0</td>\n",
       "      <td>0.8</td>\n",
       "    </tr>\n",
       "    <tr>\n",
       "      <th>01002</th>\n",
       "      <td>L'ABERGEMENT-DE-VAREY</td>\n",
       "      <td>912.0</td>\n",
       "      <td>0.2</td>\n",
       "    </tr>\n",
       "    <tr>\n",
       "      <th>01004</th>\n",
       "      <td>AMBERIEU-EN-BUGEY</td>\n",
       "      <td>2448.0</td>\n",
       "      <td>13.4</td>\n",
       "    </tr>\n",
       "    <tr>\n",
       "      <th>01005</th>\n",
       "      <td>AMBERIEUX-EN-DOMBES</td>\n",
       "      <td>1605.0</td>\n",
       "      <td>1.6</td>\n",
       "    </tr>\n",
       "    <tr>\n",
       "      <th>01006</th>\n",
       "      <td>AMBLEON</td>\n",
       "      <td>602.0</td>\n",
       "      <td>0.1</td>\n",
       "    </tr>\n",
       "  </tbody>\n",
       "</table>\n",
       "</div>"
      ],
      "text/plain": [
       "                            Commune  Superficie  Population\n",
       "Code INSEE                                                 \n",
       "01001       L'ABERGEMENT-CLEMENCIAT      1565.0         0.8\n",
       "01002         L'ABERGEMENT-DE-VAREY       912.0         0.2\n",
       "01004             AMBERIEU-EN-BUGEY      2448.0        13.4\n",
       "01005           AMBERIEUX-EN-DOMBES      1605.0         1.6\n",
       "01006                       AMBLEON       602.0         0.1"
      ]
     },
     "execution_count": 47,
     "metadata": {},
     "output_type": "execute_result"
    }
   ],
   "source": [
    "# communes + superficie et population\n",
    "geo[[\"Commune\", \"Superficie\", \"Population\"]].head()"
   ]
  },
  {
   "cell_type": "markdown",
   "metadata": {},
   "source": [
    "### 2.3.2 Sélection de lignes\n",
    "\n",
    "En sélectionnant une seule ligne, on obtient un objet `Series` dont l'index correspond aux colonnes du `DataFrame` initial.\n",
    "\n",
    "En sélectionnant plusieurs lignes, on obtient un nouveau `DataFrame` sous-ensemble du `DataFrame` initial et partageant son index avec autant de colonnes que le `DataFrame` initial."
   ]
  },
  {
   "cell_type": "code",
   "execution_count": 48,
   "metadata": {
    "scrolled": false
   },
   "outputs": [
    {
     "data": {
      "text/plain": [
       "Code Postal                                                     01400\n",
       "Commune                                       L'ABERGEMENT-CLEMENCIAT\n",
       "Département                                                       AIN\n",
       "Région                                                    RHONE-ALPES\n",
       "Statut                                                 Commune simple\n",
       "Altitude Moyenne                                                242.0\n",
       "Superficie                                                     1565.0\n",
       "Population                                                        0.8\n",
       "geo_point_2d                             46.1534255214, 4.92611354223\n",
       "geo_shape           {\"type\": \"Polygon\", \"coordinates\": [[[4.926273...\n",
       "Name: 01001, dtype: object"
      ]
     },
     "execution_count": 48,
     "metadata": {},
     "output_type": "execute_result"
    }
   ],
   "source": [
    "# sélection d'une ligne\n",
    "s = geo.loc[\"01001\"]\n",
    "s"
   ]
  },
  {
   "cell_type": "code",
   "execution_count": 50,
   "metadata": {},
   "outputs": [
    {
     "data": {
      "text/plain": [
       "\"L'ABERGEMENT-CLEMENCIAT\""
      ]
     },
     "execution_count": 50,
     "metadata": {},
     "output_type": "execute_result"
    }
   ],
   "source": [
    "geo.at[\"01001\", \"Commune\"]"
   ]
  },
  {
   "cell_type": "code",
   "execution_count": 51,
   "metadata": {},
   "outputs": [
    {
     "data": {
      "text/plain": [
       "pandas.core.series.Series"
      ]
     },
     "execution_count": 51,
     "metadata": {},
     "output_type": "execute_result"
    }
   ],
   "source": [
    "# type\n",
    "type(s)"
   ]
  },
  {
   "cell_type": "code",
   "execution_count": 52,
   "metadata": {
    "scrolled": false
   },
   "outputs": [
    {
     "data": {
      "text/plain": [
       "Code Postal                                                     01400\n",
       "Commune                                       L'ABERGEMENT-CLEMENCIAT\n",
       "Département                                                       AIN\n",
       "Région                                                    RHONE-ALPES\n",
       "Statut                                                 Commune simple\n",
       "Altitude Moyenne                                                242.0\n",
       "Superficie                                                     1565.0\n",
       "Population                                                        0.8\n",
       "geo_point_2d                             46.1534255214, 4.92611354223\n",
       "geo_shape           {\"type\": \"Polygon\", \"coordinates\": [[[4.926273...\n",
       "Name: 01001, dtype: object"
      ]
     },
     "execution_count": 52,
     "metadata": {},
     "output_type": "execute_result"
    }
   ],
   "source": [
    "# sélection d'une ligne\n",
    "geo.iloc[0]"
   ]
  },
  {
   "cell_type": "code",
   "execution_count": 53,
   "metadata": {
    "scrolled": false
   },
   "outputs": [
    {
     "data": {
      "text/html": [
       "<div>\n",
       "<style scoped>\n",
       "    .dataframe tbody tr th:only-of-type {\n",
       "        vertical-align: middle;\n",
       "    }\n",
       "\n",
       "    .dataframe tbody tr th {\n",
       "        vertical-align: top;\n",
       "    }\n",
       "\n",
       "    .dataframe thead th {\n",
       "        text-align: right;\n",
       "    }\n",
       "</style>\n",
       "<table border=\"1\" class=\"dataframe\">\n",
       "  <thead>\n",
       "    <tr style=\"text-align: right;\">\n",
       "      <th></th>\n",
       "      <th>Code Postal</th>\n",
       "      <th>Commune</th>\n",
       "      <th>Département</th>\n",
       "      <th>Région</th>\n",
       "      <th>Statut</th>\n",
       "      <th>Altitude Moyenne</th>\n",
       "      <th>Superficie</th>\n",
       "      <th>Population</th>\n",
       "      <th>geo_point_2d</th>\n",
       "      <th>geo_shape</th>\n",
       "    </tr>\n",
       "    <tr>\n",
       "      <th>Code INSEE</th>\n",
       "      <th></th>\n",
       "      <th></th>\n",
       "      <th></th>\n",
       "      <th></th>\n",
       "      <th></th>\n",
       "      <th></th>\n",
       "      <th></th>\n",
       "      <th></th>\n",
       "      <th></th>\n",
       "      <th></th>\n",
       "    </tr>\n",
       "  </thead>\n",
       "  <tbody>\n",
       "    <tr>\n",
       "      <th>01001</th>\n",
       "      <td>01400</td>\n",
       "      <td>L'ABERGEMENT-CLEMENCIAT</td>\n",
       "      <td>AIN</td>\n",
       "      <td>RHONE-ALPES</td>\n",
       "      <td>Commune simple</td>\n",
       "      <td>242.0</td>\n",
       "      <td>1565.0</td>\n",
       "      <td>0.8</td>\n",
       "      <td>46.1534255214, 4.92611354223</td>\n",
       "      <td>{\"type\": \"Polygon\", \"coordinates\": [[[4.926273...</td>\n",
       "    </tr>\n",
       "    <tr>\n",
       "      <th>01002</th>\n",
       "      <td>01640</td>\n",
       "      <td>L'ABERGEMENT-DE-VAREY</td>\n",
       "      <td>AIN</td>\n",
       "      <td>RHONE-ALPES</td>\n",
       "      <td>Commune simple</td>\n",
       "      <td>483.0</td>\n",
       "      <td>912.0</td>\n",
       "      <td>0.2</td>\n",
       "      <td>46.0091878776, 5.42801696363</td>\n",
       "      <td>{\"type\": \"Polygon\", \"coordinates\": [[[5.430089...</td>\n",
       "    </tr>\n",
       "    <tr>\n",
       "      <th>01004</th>\n",
       "      <td>01500</td>\n",
       "      <td>AMBERIEU-EN-BUGEY</td>\n",
       "      <td>AIN</td>\n",
       "      <td>RHONE-ALPES</td>\n",
       "      <td>Chef-lieu canton</td>\n",
       "      <td>379.0</td>\n",
       "      <td>2448.0</td>\n",
       "      <td>13.4</td>\n",
       "      <td>45.9608475114, 5.3729257777</td>\n",
       "      <td>{\"type\": \"Polygon\", \"coordinates\": [[[5.386190...</td>\n",
       "    </tr>\n",
       "    <tr>\n",
       "      <th>01005</th>\n",
       "      <td>01330</td>\n",
       "      <td>AMBERIEUX-EN-DOMBES</td>\n",
       "      <td>AIN</td>\n",
       "      <td>RHONE-ALPES</td>\n",
       "      <td>Commune simple</td>\n",
       "      <td>290.0</td>\n",
       "      <td>1605.0</td>\n",
       "      <td>1.6</td>\n",
       "      <td>45.9961799872, 4.91227250796</td>\n",
       "      <td>{\"type\": \"Polygon\", \"coordinates\": [[[4.895580...</td>\n",
       "    </tr>\n",
       "    <tr>\n",
       "      <th>01006</th>\n",
       "      <td>01300</td>\n",
       "      <td>AMBLEON</td>\n",
       "      <td>AIN</td>\n",
       "      <td>RHONE-ALPES</td>\n",
       "      <td>Commune simple</td>\n",
       "      <td>589.0</td>\n",
       "      <td>602.0</td>\n",
       "      <td>0.1</td>\n",
       "      <td>45.7494989044, 5.59432017366</td>\n",
       "      <td>{\"type\": \"Polygon\", \"coordinates\": [[[5.614854...</td>\n",
       "    </tr>\n",
       "  </tbody>\n",
       "</table>\n",
       "</div>"
      ],
      "text/plain": [
       "           Code Postal                  Commune Département       Région  \\\n",
       "Code INSEE                                                                 \n",
       "01001            01400  L'ABERGEMENT-CLEMENCIAT         AIN  RHONE-ALPES   \n",
       "01002            01640    L'ABERGEMENT-DE-VAREY         AIN  RHONE-ALPES   \n",
       "01004            01500        AMBERIEU-EN-BUGEY         AIN  RHONE-ALPES   \n",
       "01005            01330      AMBERIEUX-EN-DOMBES         AIN  RHONE-ALPES   \n",
       "01006            01300                  AMBLEON         AIN  RHONE-ALPES   \n",
       "\n",
       "                      Statut  Altitude Moyenne  Superficie  Population  \\\n",
       "Code INSEE                                                               \n",
       "01001         Commune simple             242.0      1565.0         0.8   \n",
       "01002         Commune simple             483.0       912.0         0.2   \n",
       "01004       Chef-lieu canton             379.0      2448.0        13.4   \n",
       "01005         Commune simple             290.0      1605.0         1.6   \n",
       "01006         Commune simple             589.0       602.0         0.1   \n",
       "\n",
       "                            geo_point_2d  \\\n",
       "Code INSEE                                 \n",
       "01001       46.1534255214, 4.92611354223   \n",
       "01002       46.0091878776, 5.42801696363   \n",
       "01004        45.9608475114, 5.3729257777   \n",
       "01005       45.9961799872, 4.91227250796   \n",
       "01006       45.7494989044, 5.59432017366   \n",
       "\n",
       "                                                    geo_shape  \n",
       "Code INSEE                                                     \n",
       "01001       {\"type\": \"Polygon\", \"coordinates\": [[[4.926273...  \n",
       "01002       {\"type\": \"Polygon\", \"coordinates\": [[[5.430089...  \n",
       "01004       {\"type\": \"Polygon\", \"coordinates\": [[[5.386190...  \n",
       "01005       {\"type\": \"Polygon\", \"coordinates\": [[[4.895580...  \n",
       "01006       {\"type\": \"Polygon\", \"coordinates\": [[[5.614854...  "
      ]
     },
     "execution_count": 53,
     "metadata": {},
     "output_type": "execute_result"
    }
   ],
   "source": [
    "# sélection de plusieurs lignes\n",
    "geo.loc[\"01001\":\"01006\"]"
   ]
  },
  {
   "cell_type": "code",
   "execution_count": 54,
   "metadata": {
    "scrolled": false
   },
   "outputs": [
    {
     "data": {
      "text/html": [
       "<div>\n",
       "<style scoped>\n",
       "    .dataframe tbody tr th:only-of-type {\n",
       "        vertical-align: middle;\n",
       "    }\n",
       "\n",
       "    .dataframe tbody tr th {\n",
       "        vertical-align: top;\n",
       "    }\n",
       "\n",
       "    .dataframe thead th {\n",
       "        text-align: right;\n",
       "    }\n",
       "</style>\n",
       "<table border=\"1\" class=\"dataframe\">\n",
       "  <thead>\n",
       "    <tr style=\"text-align: right;\">\n",
       "      <th></th>\n",
       "      <th>Code Postal</th>\n",
       "      <th>Commune</th>\n",
       "      <th>Département</th>\n",
       "      <th>Région</th>\n",
       "      <th>Statut</th>\n",
       "      <th>Altitude Moyenne</th>\n",
       "      <th>Superficie</th>\n",
       "      <th>Population</th>\n",
       "      <th>geo_point_2d</th>\n",
       "      <th>geo_shape</th>\n",
       "    </tr>\n",
       "    <tr>\n",
       "      <th>Code INSEE</th>\n",
       "      <th></th>\n",
       "      <th></th>\n",
       "      <th></th>\n",
       "      <th></th>\n",
       "      <th></th>\n",
       "      <th></th>\n",
       "      <th></th>\n",
       "      <th></th>\n",
       "      <th></th>\n",
       "      <th></th>\n",
       "    </tr>\n",
       "  </thead>\n",
       "  <tbody>\n",
       "    <tr>\n",
       "      <th>01001</th>\n",
       "      <td>01400</td>\n",
       "      <td>L'ABERGEMENT-CLEMENCIAT</td>\n",
       "      <td>AIN</td>\n",
       "      <td>RHONE-ALPES</td>\n",
       "      <td>Commune simple</td>\n",
       "      <td>242.0</td>\n",
       "      <td>1565.0</td>\n",
       "      <td>0.8</td>\n",
       "      <td>46.1534255214, 4.92611354223</td>\n",
       "      <td>{\"type\": \"Polygon\", \"coordinates\": [[[4.926273...</td>\n",
       "    </tr>\n",
       "    <tr>\n",
       "      <th>01002</th>\n",
       "      <td>01640</td>\n",
       "      <td>L'ABERGEMENT-DE-VAREY</td>\n",
       "      <td>AIN</td>\n",
       "      <td>RHONE-ALPES</td>\n",
       "      <td>Commune simple</td>\n",
       "      <td>483.0</td>\n",
       "      <td>912.0</td>\n",
       "      <td>0.2</td>\n",
       "      <td>46.0091878776, 5.42801696363</td>\n",
       "      <td>{\"type\": \"Polygon\", \"coordinates\": [[[5.430089...</td>\n",
       "    </tr>\n",
       "    <tr>\n",
       "      <th>01004</th>\n",
       "      <td>01500</td>\n",
       "      <td>AMBERIEU-EN-BUGEY</td>\n",
       "      <td>AIN</td>\n",
       "      <td>RHONE-ALPES</td>\n",
       "      <td>Chef-lieu canton</td>\n",
       "      <td>379.0</td>\n",
       "      <td>2448.0</td>\n",
       "      <td>13.4</td>\n",
       "      <td>45.9608475114, 5.3729257777</td>\n",
       "      <td>{\"type\": \"Polygon\", \"coordinates\": [[[5.386190...</td>\n",
       "    </tr>\n",
       "    <tr>\n",
       "      <th>01005</th>\n",
       "      <td>01330</td>\n",
       "      <td>AMBERIEUX-EN-DOMBES</td>\n",
       "      <td>AIN</td>\n",
       "      <td>RHONE-ALPES</td>\n",
       "      <td>Commune simple</td>\n",
       "      <td>290.0</td>\n",
       "      <td>1605.0</td>\n",
       "      <td>1.6</td>\n",
       "      <td>45.9961799872, 4.91227250796</td>\n",
       "      <td>{\"type\": \"Polygon\", \"coordinates\": [[[4.895580...</td>\n",
       "    </tr>\n",
       "    <tr>\n",
       "      <th>01006</th>\n",
       "      <td>01300</td>\n",
       "      <td>AMBLEON</td>\n",
       "      <td>AIN</td>\n",
       "      <td>RHONE-ALPES</td>\n",
       "      <td>Commune simple</td>\n",
       "      <td>589.0</td>\n",
       "      <td>602.0</td>\n",
       "      <td>0.1</td>\n",
       "      <td>45.7494989044, 5.59432017366</td>\n",
       "      <td>{\"type\": \"Polygon\", \"coordinates\": [[[5.614854...</td>\n",
       "    </tr>\n",
       "  </tbody>\n",
       "</table>\n",
       "</div>"
      ],
      "text/plain": [
       "           Code Postal                  Commune Département       Région  \\\n",
       "Code INSEE                                                                 \n",
       "01001            01400  L'ABERGEMENT-CLEMENCIAT         AIN  RHONE-ALPES   \n",
       "01002            01640    L'ABERGEMENT-DE-VAREY         AIN  RHONE-ALPES   \n",
       "01004            01500        AMBERIEU-EN-BUGEY         AIN  RHONE-ALPES   \n",
       "01005            01330      AMBERIEUX-EN-DOMBES         AIN  RHONE-ALPES   \n",
       "01006            01300                  AMBLEON         AIN  RHONE-ALPES   \n",
       "\n",
       "                      Statut  Altitude Moyenne  Superficie  Population  \\\n",
       "Code INSEE                                                               \n",
       "01001         Commune simple             242.0      1565.0         0.8   \n",
       "01002         Commune simple             483.0       912.0         0.2   \n",
       "01004       Chef-lieu canton             379.0      2448.0        13.4   \n",
       "01005         Commune simple             290.0      1605.0         1.6   \n",
       "01006         Commune simple             589.0       602.0         0.1   \n",
       "\n",
       "                            geo_point_2d  \\\n",
       "Code INSEE                                 \n",
       "01001       46.1534255214, 4.92611354223   \n",
       "01002       46.0091878776, 5.42801696363   \n",
       "01004        45.9608475114, 5.3729257777   \n",
       "01005       45.9961799872, 4.91227250796   \n",
       "01006       45.7494989044, 5.59432017366   \n",
       "\n",
       "                                                    geo_shape  \n",
       "Code INSEE                                                     \n",
       "01001       {\"type\": \"Polygon\", \"coordinates\": [[[4.926273...  \n",
       "01002       {\"type\": \"Polygon\", \"coordinates\": [[[5.430089...  \n",
       "01004       {\"type\": \"Polygon\", \"coordinates\": [[[5.386190...  \n",
       "01005       {\"type\": \"Polygon\", \"coordinates\": [[[4.895580...  \n",
       "01006       {\"type\": \"Polygon\", \"coordinates\": [[[5.614854...  "
      ]
     },
     "execution_count": 54,
     "metadata": {},
     "output_type": "execute_result"
    }
   ],
   "source": [
    "# sélection de plusieurs lignes\n",
    "geo.iloc[0:5]"
   ]
  },
  {
   "cell_type": "markdown",
   "metadata": {},
   "source": [
    "### 2.3.3 Sélection de lignes et de colonnes\n",
    "\n",
    "En sélectionnant plusieurs lignes et plusieurs colonnes, on obtient un nouveau `DataFrame` sous-ensemble du `DataFrame` initial."
   ]
  },
  {
   "cell_type": "code",
   "execution_count": 55,
   "metadata": {
    "scrolled": false
   },
   "outputs": [
    {
     "data": {
      "text/html": [
       "<div>\n",
       "<style scoped>\n",
       "    .dataframe tbody tr th:only-of-type {\n",
       "        vertical-align: middle;\n",
       "    }\n",
       "\n",
       "    .dataframe tbody tr th {\n",
       "        vertical-align: top;\n",
       "    }\n",
       "\n",
       "    .dataframe thead th {\n",
       "        text-align: right;\n",
       "    }\n",
       "</style>\n",
       "<table border=\"1\" class=\"dataframe\">\n",
       "  <thead>\n",
       "    <tr style=\"text-align: right;\">\n",
       "      <th></th>\n",
       "      <th>Commune</th>\n",
       "      <th>Département</th>\n",
       "      <th>Région</th>\n",
       "      <th>Statut</th>\n",
       "    </tr>\n",
       "    <tr>\n",
       "      <th>Code INSEE</th>\n",
       "      <th></th>\n",
       "      <th></th>\n",
       "      <th></th>\n",
       "      <th></th>\n",
       "    </tr>\n",
       "  </thead>\n",
       "  <tbody>\n",
       "    <tr>\n",
       "      <th>01001</th>\n",
       "      <td>L'ABERGEMENT-CLEMENCIAT</td>\n",
       "      <td>AIN</td>\n",
       "      <td>RHONE-ALPES</td>\n",
       "      <td>Commune simple</td>\n",
       "    </tr>\n",
       "    <tr>\n",
       "      <th>01002</th>\n",
       "      <td>L'ABERGEMENT-DE-VAREY</td>\n",
       "      <td>AIN</td>\n",
       "      <td>RHONE-ALPES</td>\n",
       "      <td>Commune simple</td>\n",
       "    </tr>\n",
       "    <tr>\n",
       "      <th>01004</th>\n",
       "      <td>AMBERIEU-EN-BUGEY</td>\n",
       "      <td>AIN</td>\n",
       "      <td>RHONE-ALPES</td>\n",
       "      <td>Chef-lieu canton</td>\n",
       "    </tr>\n",
       "    <tr>\n",
       "      <th>01005</th>\n",
       "      <td>AMBERIEUX-EN-DOMBES</td>\n",
       "      <td>AIN</td>\n",
       "      <td>RHONE-ALPES</td>\n",
       "      <td>Commune simple</td>\n",
       "    </tr>\n",
       "    <tr>\n",
       "      <th>01006</th>\n",
       "      <td>AMBLEON</td>\n",
       "      <td>AIN</td>\n",
       "      <td>RHONE-ALPES</td>\n",
       "      <td>Commune simple</td>\n",
       "    </tr>\n",
       "  </tbody>\n",
       "</table>\n",
       "</div>"
      ],
      "text/plain": [
       "                            Commune Département       Région            Statut\n",
       "Code INSEE                                                                    \n",
       "01001       L'ABERGEMENT-CLEMENCIAT         AIN  RHONE-ALPES    Commune simple\n",
       "01002         L'ABERGEMENT-DE-VAREY         AIN  RHONE-ALPES    Commune simple\n",
       "01004             AMBERIEU-EN-BUGEY         AIN  RHONE-ALPES  Chef-lieu canton\n",
       "01005           AMBERIEUX-EN-DOMBES         AIN  RHONE-ALPES    Commune simple\n",
       "01006                       AMBLEON         AIN  RHONE-ALPES    Commune simple"
      ]
     },
     "execution_count": 55,
     "metadata": {},
     "output_type": "execute_result"
    }
   ],
   "source": [
    "# sélection de plusieurs lignes et de plusieurs colonnes\n",
    "geo.loc[\"01001\":\"01006\", \"Commune\":\"Statut\"]"
   ]
  },
  {
   "cell_type": "code",
   "execution_count": 56,
   "metadata": {
    "scrolled": false
   },
   "outputs": [
    {
     "data": {
      "text/html": [
       "<div>\n",
       "<style scoped>\n",
       "    .dataframe tbody tr th:only-of-type {\n",
       "        vertical-align: middle;\n",
       "    }\n",
       "\n",
       "    .dataframe tbody tr th {\n",
       "        vertical-align: top;\n",
       "    }\n",
       "\n",
       "    .dataframe thead th {\n",
       "        text-align: right;\n",
       "    }\n",
       "</style>\n",
       "<table border=\"1\" class=\"dataframe\">\n",
       "  <thead>\n",
       "    <tr style=\"text-align: right;\">\n",
       "      <th></th>\n",
       "      <th>Commune</th>\n",
       "      <th>Département</th>\n",
       "      <th>Région</th>\n",
       "      <th>Statut</th>\n",
       "    </tr>\n",
       "    <tr>\n",
       "      <th>Code INSEE</th>\n",
       "      <th></th>\n",
       "      <th></th>\n",
       "      <th></th>\n",
       "      <th></th>\n",
       "    </tr>\n",
       "  </thead>\n",
       "  <tbody>\n",
       "    <tr>\n",
       "      <th>01001</th>\n",
       "      <td>L'ABERGEMENT-CLEMENCIAT</td>\n",
       "      <td>AIN</td>\n",
       "      <td>RHONE-ALPES</td>\n",
       "      <td>Commune simple</td>\n",
       "    </tr>\n",
       "    <tr>\n",
       "      <th>01002</th>\n",
       "      <td>L'ABERGEMENT-DE-VAREY</td>\n",
       "      <td>AIN</td>\n",
       "      <td>RHONE-ALPES</td>\n",
       "      <td>Commune simple</td>\n",
       "    </tr>\n",
       "    <tr>\n",
       "      <th>01004</th>\n",
       "      <td>AMBERIEU-EN-BUGEY</td>\n",
       "      <td>AIN</td>\n",
       "      <td>RHONE-ALPES</td>\n",
       "      <td>Chef-lieu canton</td>\n",
       "    </tr>\n",
       "    <tr>\n",
       "      <th>01005</th>\n",
       "      <td>AMBERIEUX-EN-DOMBES</td>\n",
       "      <td>AIN</td>\n",
       "      <td>RHONE-ALPES</td>\n",
       "      <td>Commune simple</td>\n",
       "    </tr>\n",
       "    <tr>\n",
       "      <th>01006</th>\n",
       "      <td>AMBLEON</td>\n",
       "      <td>AIN</td>\n",
       "      <td>RHONE-ALPES</td>\n",
       "      <td>Commune simple</td>\n",
       "    </tr>\n",
       "  </tbody>\n",
       "</table>\n",
       "</div>"
      ],
      "text/plain": [
       "                            Commune Département       Région            Statut\n",
       "Code INSEE                                                                    \n",
       "01001       L'ABERGEMENT-CLEMENCIAT         AIN  RHONE-ALPES    Commune simple\n",
       "01002         L'ABERGEMENT-DE-VAREY         AIN  RHONE-ALPES    Commune simple\n",
       "01004             AMBERIEU-EN-BUGEY         AIN  RHONE-ALPES  Chef-lieu canton\n",
       "01005           AMBERIEUX-EN-DOMBES         AIN  RHONE-ALPES    Commune simple\n",
       "01006                       AMBLEON         AIN  RHONE-ALPES    Commune simple"
      ]
     },
     "execution_count": 56,
     "metadata": {},
     "output_type": "execute_result"
    }
   ],
   "source": [
    "# sélection de plusieurs lignes et de plusieurs colonnes\n",
    "geo.iloc[0:5, 1:5]"
   ]
  },
  {
   "cell_type": "markdown",
   "metadata": {},
   "source": [
    "### 2.3.4 Sélection avec des conditions portant sur les valeurs\n",
    "\n",
    "Il est également possible de sélectionner une partie d'un `DataFrame` à partir de conditions portant sur les valeurs.\n",
    "\n",
    "La conjonction de conditions est notée `&`, la disjonction est notée `|` et la négation `~`."
   ]
  },
  {
   "cell_type": "code",
   "execution_count": 57,
   "metadata": {
    "scrolled": false
   },
   "outputs": [
    {
     "data": {
      "text/html": [
       "<div>\n",
       "<style scoped>\n",
       "    .dataframe tbody tr th:only-of-type {\n",
       "        vertical-align: middle;\n",
       "    }\n",
       "\n",
       "    .dataframe tbody tr th {\n",
       "        vertical-align: top;\n",
       "    }\n",
       "\n",
       "    .dataframe thead th {\n",
       "        text-align: right;\n",
       "    }\n",
       "</style>\n",
       "<table border=\"1\" class=\"dataframe\">\n",
       "  <thead>\n",
       "    <tr style=\"text-align: right;\">\n",
       "      <th></th>\n",
       "      <th>Code Postal</th>\n",
       "      <th>Commune</th>\n",
       "      <th>Département</th>\n",
       "      <th>Région</th>\n",
       "      <th>Statut</th>\n",
       "      <th>Altitude Moyenne</th>\n",
       "      <th>Superficie</th>\n",
       "      <th>Population</th>\n",
       "      <th>geo_point_2d</th>\n",
       "      <th>geo_shape</th>\n",
       "    </tr>\n",
       "    <tr>\n",
       "      <th>Code INSEE</th>\n",
       "      <th></th>\n",
       "      <th></th>\n",
       "      <th></th>\n",
       "      <th></th>\n",
       "      <th></th>\n",
       "      <th></th>\n",
       "      <th></th>\n",
       "      <th></th>\n",
       "      <th></th>\n",
       "      <th></th>\n",
       "    </tr>\n",
       "  </thead>\n",
       "  <tbody>\n",
       "    <tr>\n",
       "      <th>92004</th>\n",
       "      <td>92600</td>\n",
       "      <td>ASNIERES-SUR-SEINE</td>\n",
       "      <td>HAUTS-DE-SEINE</td>\n",
       "      <td>ILE-DE-FRANCE</td>\n",
       "      <td>Chef-lieu canton</td>\n",
       "      <td>31.0</td>\n",
       "      <td>482.0</td>\n",
       "      <td>81.6</td>\n",
       "      <td>48.9153530123, 2.2880384663</td>\n",
       "      <td>{\"type\": \"Polygon\", \"coordinates\": [[[2.284270...</td>\n",
       "    </tr>\n",
       "    <tr>\n",
       "      <th>92012</th>\n",
       "      <td>92100</td>\n",
       "      <td>BOULOGNE-BILLANCOURT</td>\n",
       "      <td>HAUTS-DE-SEINE</td>\n",
       "      <td>ILE-DE-FRANCE</td>\n",
       "      <td>Sous-préfecture</td>\n",
       "      <td>33.0</td>\n",
       "      <td>615.0</td>\n",
       "      <td>113.1</td>\n",
       "      <td>48.8365843138, 2.23913599058</td>\n",
       "      <td>{\"type\": \"Polygon\", \"coordinates\": [[[2.236100...</td>\n",
       "    </tr>\n",
       "    <tr>\n",
       "      <th>92025</th>\n",
       "      <td>92700</td>\n",
       "      <td>COLOMBES</td>\n",
       "      <td>HAUTS-DE-SEINE</td>\n",
       "      <td>ILE-DE-FRANCE</td>\n",
       "      <td>Chef-lieu canton</td>\n",
       "      <td>33.0</td>\n",
       "      <td>778.0</td>\n",
       "      <td>84.6</td>\n",
       "      <td>48.9225179147, 2.24675160629</td>\n",
       "      <td>{\"type\": \"Polygon\", \"coordinates\": [[[2.229103...</td>\n",
       "    </tr>\n",
       "    <tr>\n",
       "      <th>92026</th>\n",
       "      <td>92400</td>\n",
       "      <td>COURBEVOIE</td>\n",
       "      <td>HAUTS-DE-SEINE</td>\n",
       "      <td>ILE-DE-FRANCE</td>\n",
       "      <td>Chef-lieu canton</td>\n",
       "      <td>41.0</td>\n",
       "      <td>416.0</td>\n",
       "      <td>86.9</td>\n",
       "      <td>48.8984504771, 2.25570587289</td>\n",
       "      <td>{\"type\": \"Polygon\", \"coordinates\": [[[2.253756...</td>\n",
       "    </tr>\n",
       "    <tr>\n",
       "      <th>92050</th>\n",
       "      <td>92000</td>\n",
       "      <td>NANTERRE</td>\n",
       "      <td>HAUTS-DE-SEINE</td>\n",
       "      <td>ILE-DE-FRANCE</td>\n",
       "      <td>Préfecture</td>\n",
       "      <td>43.0</td>\n",
       "      <td>1223.0</td>\n",
       "      <td>90.0</td>\n",
       "      <td>48.8960701282, 2.20671346353</td>\n",
       "      <td>{\"type\": \"Polygon\", \"coordinates\": [[[2.207759...</td>\n",
       "    </tr>\n",
       "  </tbody>\n",
       "</table>\n",
       "</div>"
      ],
      "text/plain": [
       "           Code Postal               Commune     Département         Région  \\\n",
       "Code INSEE                                                                    \n",
       "92004            92600    ASNIERES-SUR-SEINE  HAUTS-DE-SEINE  ILE-DE-FRANCE   \n",
       "92012            92100  BOULOGNE-BILLANCOURT  HAUTS-DE-SEINE  ILE-DE-FRANCE   \n",
       "92025            92700              COLOMBES  HAUTS-DE-SEINE  ILE-DE-FRANCE   \n",
       "92026            92400            COURBEVOIE  HAUTS-DE-SEINE  ILE-DE-FRANCE   \n",
       "92050            92000              NANTERRE  HAUTS-DE-SEINE  ILE-DE-FRANCE   \n",
       "\n",
       "                      Statut  Altitude Moyenne  Superficie  Population  \\\n",
       "Code INSEE                                                               \n",
       "92004       Chef-lieu canton              31.0       482.0        81.6   \n",
       "92012        Sous-préfecture              33.0       615.0       113.1   \n",
       "92025       Chef-lieu canton              33.0       778.0        84.6   \n",
       "92026       Chef-lieu canton              41.0       416.0        86.9   \n",
       "92050             Préfecture              43.0      1223.0        90.0   \n",
       "\n",
       "                            geo_point_2d  \\\n",
       "Code INSEE                                 \n",
       "92004        48.9153530123, 2.2880384663   \n",
       "92012       48.8365843138, 2.23913599058   \n",
       "92025       48.9225179147, 2.24675160629   \n",
       "92026       48.8984504771, 2.25570587289   \n",
       "92050       48.8960701282, 2.20671346353   \n",
       "\n",
       "                                                    geo_shape  \n",
       "Code INSEE                                                     \n",
       "92004       {\"type\": \"Polygon\", \"coordinates\": [[[2.284270...  \n",
       "92012       {\"type\": \"Polygon\", \"coordinates\": [[[2.236100...  \n",
       "92025       {\"type\": \"Polygon\", \"coordinates\": [[[2.229103...  \n",
       "92026       {\"type\": \"Polygon\", \"coordinates\": [[[2.253756...  \n",
       "92050       {\"type\": \"Polygon\", \"coordinates\": [[[2.207759...  "
      ]
     },
     "execution_count": 57,
     "metadata": {},
     "output_type": "execute_result"
    }
   ],
   "source": [
    "# les communes des Hauts-de-Seine avec une population supérieure à 80000\n",
    "geo.loc[(geo[\"Département\"] == \"HAUTS-DE-SEINE\") & (geo[\"Population\"] > 80.0)]"
   ]
  },
  {
   "cell_type": "markdown",
   "metadata": {},
   "source": [
    "<div class=\"alert alert-success\">\n",
    "<b>Exercice 2</b>\n",
    "<ul>\n",
    "    <li>Affichez l'altitude moyenne, la superficie et la population de toutes les communes dénommées Sainte-Colombe.</li>\n",
    "    <li>Combien y a-t-il de départements dans lesquels au moins une commune a plus de 200.000 habitants ?</li>\n",
    "    <li>Donner la liste de ces départements.</li>\n",
    "    <li>Combien y a-t-il de communes dont le nom comporte 2 lettres?</li>\n",
    "    <li>Donnez la liste de ces communes dans l'ordre alphabétique.</li>\n",
    "    <li>Sélectionnez les communes pour lesquelles l'altitude moyenne vaut la superficie.</li>\n",
    "    <li>Quelle est la population totale de ces communes ?</li>\n",
    "    <li>Y a-t-il des communes au niveau de la mer ?</li>\n",
    "</ul>\n",
    "</div>"
   ]
  },
  {
   "cell_type": "code",
   "execution_count": 58,
   "metadata": {},
   "outputs": [
    {
     "data": {
      "text/html": [
       "<div>\n",
       "<style scoped>\n",
       "    .dataframe tbody tr th:only-of-type {\n",
       "        vertical-align: middle;\n",
       "    }\n",
       "\n",
       "    .dataframe tbody tr th {\n",
       "        vertical-align: top;\n",
       "    }\n",
       "\n",
       "    .dataframe thead th {\n",
       "        text-align: right;\n",
       "    }\n",
       "</style>\n",
       "<table border=\"1\" class=\"dataframe\">\n",
       "  <thead>\n",
       "    <tr style=\"text-align: right;\">\n",
       "      <th></th>\n",
       "      <th>Altitude Moyenne</th>\n",
       "      <th>Superficie</th>\n",
       "      <th>Population</th>\n",
       "    </tr>\n",
       "    <tr>\n",
       "      <th>Code INSEE</th>\n",
       "      <th></th>\n",
       "      <th></th>\n",
       "      <th></th>\n",
       "    </tr>\n",
       "  </thead>\n",
       "  <tbody>\n",
       "    <tr>\n",
       "      <th>05135</th>\n",
       "      <td>965.0</td>\n",
       "      <td>1726.0</td>\n",
       "      <td>0.1</td>\n",
       "    </tr>\n",
       "    <tr>\n",
       "      <th>16309</th>\n",
       "      <td>102.0</td>\n",
       "      <td>654.0</td>\n",
       "      <td>0.2</td>\n",
       "    </tr>\n",
       "    <tr>\n",
       "      <th>17319</th>\n",
       "      <td>111.0</td>\n",
       "      <td>440.0</td>\n",
       "      <td>0.1</td>\n",
       "    </tr>\n",
       "    <tr>\n",
       "      <th>21544</th>\n",
       "      <td>441.0</td>\n",
       "      <td>633.0</td>\n",
       "      <td>0.1</td>\n",
       "    </tr>\n",
       "    <tr>\n",
       "      <th>25515</th>\n",
       "      <td>884.0</td>\n",
       "      <td>1052.0</td>\n",
       "      <td>0.3</td>\n",
       "    </tr>\n",
       "    <tr>\n",
       "      <th>33390</th>\n",
       "      <td>61.0</td>\n",
       "      <td>404.0</td>\n",
       "      <td>0.4</td>\n",
       "    </tr>\n",
       "    <tr>\n",
       "      <th>35262</th>\n",
       "      <td>75.0</td>\n",
       "      <td>776.0</td>\n",
       "      <td>0.3</td>\n",
       "    </tr>\n",
       "    <tr>\n",
       "      <th>40252</th>\n",
       "      <td>96.0</td>\n",
       "      <td>1289.0</td>\n",
       "      <td>0.6</td>\n",
       "    </tr>\n",
       "    <tr>\n",
       "      <th>46260</th>\n",
       "      <td>516.0</td>\n",
       "      <td>1131.0</td>\n",
       "      <td>0.2</td>\n",
       "    </tr>\n",
       "    <tr>\n",
       "      <th>50457</th>\n",
       "      <td>20.0</td>\n",
       "      <td>509.0</td>\n",
       "      <td>0.2</td>\n",
       "    </tr>\n",
       "    <tr>\n",
       "      <th>69189</th>\n",
       "      <td>216.0</td>\n",
       "      <td>158.0</td>\n",
       "      <td>1.9</td>\n",
       "    </tr>\n",
       "    <tr>\n",
       "      <th>76569</th>\n",
       "      <td>100.0</td>\n",
       "      <td>584.0</td>\n",
       "      <td>0.2</td>\n",
       "    </tr>\n",
       "    <tr>\n",
       "      <th>77404</th>\n",
       "      <td>115.0</td>\n",
       "      <td>813.0</td>\n",
       "      <td>1.8</td>\n",
       "    </tr>\n",
       "    <tr>\n",
       "      <th>89339</th>\n",
       "      <td>279.0</td>\n",
       "      <td>1851.0</td>\n",
       "      <td>0.2</td>\n",
       "    </tr>\n",
       "  </tbody>\n",
       "</table>\n",
       "</div>"
      ],
      "text/plain": [
       "            Altitude Moyenne  Superficie  Population\n",
       "Code INSEE                                          \n",
       "05135                  965.0      1726.0         0.1\n",
       "16309                  102.0       654.0         0.2\n",
       "17319                  111.0       440.0         0.1\n",
       "21544                  441.0       633.0         0.1\n",
       "25515                  884.0      1052.0         0.3\n",
       "33390                   61.0       404.0         0.4\n",
       "35262                   75.0       776.0         0.3\n",
       "40252                   96.0      1289.0         0.6\n",
       "46260                  516.0      1131.0         0.2\n",
       "50457                   20.0       509.0         0.2\n",
       "69189                  216.0       158.0         1.9\n",
       "76569                  100.0       584.0         0.2\n",
       "77404                  115.0       813.0         1.8\n",
       "89339                  279.0      1851.0         0.2"
      ]
     },
     "execution_count": 58,
     "metadata": {},
     "output_type": "execute_result"
    }
   ],
   "source": [
    "geo.loc[geo[\"Commune\"]==\"SAINTE-COLOMBE\", \"Altitude Moyenne\":\"Population\"]"
   ]
  },
  {
   "cell_type": "code",
   "execution_count": 59,
   "metadata": {},
   "outputs": [
    {
     "data": {
      "text/plain": [
       "9"
      ]
     },
     "execution_count": 59,
     "metadata": {},
     "output_type": "execute_result"
    }
   ],
   "source": [
    "geo.loc[geo[\"Population\"]>=200, \"Département\"].nunique()"
   ]
  },
  {
   "cell_type": "code",
   "execution_count": 61,
   "metadata": {},
   "outputs": [
    {
     "data": {
      "text/plain": [
       "['ALPES-MARITIMES',\n",
       " 'HAUTE-GARONNE',\n",
       " 'GIRONDE',\n",
       " 'HERAULT',\n",
       " 'ILLE-ET-VILAINE',\n",
       " 'LOIRE-ATLANTIQUE',\n",
       " 'NORD',\n",
       " 'BAS-RHIN',\n",
       " 'PARIS']"
      ]
     },
     "execution_count": 61,
     "metadata": {},
     "output_type": "execute_result"
    }
   ],
   "source": [
    "geo.loc[geo[\"Population\"]>=200, \"Département\"].unique().tolist()"
   ]
  },
  {
   "cell_type": "code",
   "execution_count": 65,
   "metadata": {},
   "outputs": [
    {
     "data": {
      "text/plain": [
       "15"
      ]
     },
     "execution_count": 65,
     "metadata": {},
     "output_type": "execute_result"
    }
   ],
   "source": [
    "len(geo.loc[geo[\"Commune\"].str.len()==2])"
   ]
  },
  {
   "cell_type": "code",
   "execution_count": 69,
   "metadata": {},
   "outputs": [
    {
     "data": {
      "text/plain": [
       "['AY',\n",
       " 'BU',\n",
       " 'BY',\n",
       " 'EU',\n",
       " 'FA',\n",
       " 'GY',\n",
       " 'OO',\n",
       " 'OZ',\n",
       " 'PY',\n",
       " 'RI',\n",
       " 'RY',\n",
       " 'SY',\n",
       " 'UR',\n",
       " 'US',\n",
       " 'UZ']"
      ]
     },
     "execution_count": 69,
     "metadata": {},
     "output_type": "execute_result"
    }
   ],
   "source": [
    "sorted(geo.loc[geo[\"Commune\"].str.len()==2, \"Commune\"].tolist())"
   ]
  },
  {
   "cell_type": "code",
   "execution_count": 70,
   "metadata": {},
   "outputs": [
    {
     "data": {
      "text/plain": [
       "['AY',\n",
       " 'BU',\n",
       " 'BY',\n",
       " 'EU',\n",
       " 'FA',\n",
       " 'GY',\n",
       " 'OO',\n",
       " 'OZ',\n",
       " 'PY',\n",
       " 'RI',\n",
       " 'RY',\n",
       " 'SY',\n",
       " 'UR',\n",
       " 'US',\n",
       " 'UZ']"
      ]
     },
     "execution_count": 70,
     "metadata": {},
     "output_type": "execute_result"
    }
   ],
   "source": [
    "geo.loc[geo[\"Commune\"].str.len()==2, \"Commune\"].sort_values().tolist()"
   ]
  },
  {
   "cell_type": "code",
   "execution_count": 71,
   "metadata": {},
   "outputs": [
    {
     "data": {
      "text/html": [
       "<div>\n",
       "<style scoped>\n",
       "    .dataframe tbody tr th:only-of-type {\n",
       "        vertical-align: middle;\n",
       "    }\n",
       "\n",
       "    .dataframe tbody tr th {\n",
       "        vertical-align: top;\n",
       "    }\n",
       "\n",
       "    .dataframe thead th {\n",
       "        text-align: right;\n",
       "    }\n",
       "</style>\n",
       "<table border=\"1\" class=\"dataframe\">\n",
       "  <thead>\n",
       "    <tr style=\"text-align: right;\">\n",
       "      <th></th>\n",
       "      <th>Code Postal</th>\n",
       "      <th>Commune</th>\n",
       "      <th>Département</th>\n",
       "      <th>Région</th>\n",
       "      <th>Statut</th>\n",
       "      <th>Altitude Moyenne</th>\n",
       "      <th>Superficie</th>\n",
       "      <th>Population</th>\n",
       "      <th>geo_point_2d</th>\n",
       "      <th>geo_shape</th>\n",
       "    </tr>\n",
       "    <tr>\n",
       "      <th>Code INSEE</th>\n",
       "      <th></th>\n",
       "      <th></th>\n",
       "      <th></th>\n",
       "      <th></th>\n",
       "      <th></th>\n",
       "      <th></th>\n",
       "      <th></th>\n",
       "      <th></th>\n",
       "      <th></th>\n",
       "      <th></th>\n",
       "    </tr>\n",
       "  </thead>\n",
       "  <tbody>\n",
       "    <tr>\n",
       "      <th>06026</th>\n",
       "      <td>06530</td>\n",
       "      <td>CABRIS</td>\n",
       "      <td>ALPES-MARITIMES</td>\n",
       "      <td>PROVENCE-ALPES-COTE D'AZUR</td>\n",
       "      <td>Commune simple</td>\n",
       "      <td>540.0</td>\n",
       "      <td>540.0</td>\n",
       "      <td>1.4</td>\n",
       "      <td>43.6599560638, 6.87825509814</td>\n",
       "      <td>{\"type\": \"Polygon\", \"coordinates\": [[[6.868991...</td>\n",
       "    </tr>\n",
       "    <tr>\n",
       "      <th>21010</th>\n",
       "      <td>21420</td>\n",
       "      <td>ALOXE-CORTON</td>\n",
       "      <td>COTE-D'OR</td>\n",
       "      <td>BOURGOGNE</td>\n",
       "      <td>Commune simple</td>\n",
       "      <td>261.0</td>\n",
       "      <td>261.0</td>\n",
       "      <td>0.2</td>\n",
       "      <td>47.0682393129, 4.86123205088</td>\n",
       "      <td>{\"type\": \"Polygon\", \"coordinates\": [[[4.866669...</td>\n",
       "    </tr>\n",
       "    <tr>\n",
       "      <th>25391</th>\n",
       "      <td>25210</td>\n",
       "      <td>MONT-DE-LAVAL</td>\n",
       "      <td>DOUBS</td>\n",
       "      <td>FRANCHE-COMTE</td>\n",
       "      <td>Commune simple</td>\n",
       "      <td>845.0</td>\n",
       "      <td>845.0</td>\n",
       "      <td>0.2</td>\n",
       "      <td>47.161609954, 6.63636805448</td>\n",
       "      <td>{\"type\": \"Polygon\", \"coordinates\": [[[6.627720...</td>\n",
       "    </tr>\n",
       "    <tr>\n",
       "      <th>38230</th>\n",
       "      <td>38300</td>\n",
       "      <td>MEYRIE</td>\n",
       "      <td>ISERE</td>\n",
       "      <td>RHONE-ALPES</td>\n",
       "      <td>Commune simple</td>\n",
       "      <td>346.0</td>\n",
       "      <td>346.0</td>\n",
       "      <td>1.0</td>\n",
       "      <td>45.5602461635, 5.2848381306</td>\n",
       "      <td>{\"type\": \"Polygon\", \"coordinates\": [[[5.293302...</td>\n",
       "    </tr>\n",
       "    <tr>\n",
       "      <th>65102</th>\n",
       "      <td>65140</td>\n",
       "      <td>BOUILH-DEVANT</td>\n",
       "      <td>HAUTES-PYRENEES</td>\n",
       "      <td>MIDI-PYRENEES</td>\n",
       "      <td>Commune simple</td>\n",
       "      <td>298.0</td>\n",
       "      <td>298.0</td>\n",
       "      <td>0.0</td>\n",
       "      <td>43.3365484114, 0.261492915975</td>\n",
       "      <td>{\"type\": \"Polygon\", \"coordinates\": [[[0.267934...</td>\n",
       "    </tr>\n",
       "    <tr>\n",
       "      <th>68211</th>\n",
       "      <td>68470</td>\n",
       "      <td>MITZACH</td>\n",
       "      <td>HAUT-RHIN</td>\n",
       "      <td>ALSACE</td>\n",
       "      <td>Commune simple</td>\n",
       "      <td>637.0</td>\n",
       "      <td>637.0</td>\n",
       "      <td>0.4</td>\n",
       "      <td>47.8611986942, 6.99775039385</td>\n",
       "      <td>{\"type\": \"Polygon\", \"coordinates\": [[[6.987666...</td>\n",
       "    </tr>\n",
       "    <tr>\n",
       "      <th>88215</th>\n",
       "      <td>88210</td>\n",
       "      <td>GRANDRUPT</td>\n",
       "      <td>VOSGES</td>\n",
       "      <td>LORRAINE</td>\n",
       "      <td>Commune simple</td>\n",
       "      <td>634.0</td>\n",
       "      <td>634.0</td>\n",
       "      <td>0.1</td>\n",
       "      <td>48.3669519771, 7.06206760711</td>\n",
       "      <td>{\"type\": \"Polygon\", \"coordinates\": [[[7.064913...</td>\n",
       "    </tr>\n",
       "  </tbody>\n",
       "</table>\n",
       "</div>"
      ],
      "text/plain": [
       "           Code Postal        Commune      Département  \\\n",
       "Code INSEE                                               \n",
       "06026            06530         CABRIS  ALPES-MARITIMES   \n",
       "21010            21420   ALOXE-CORTON        COTE-D'OR   \n",
       "25391            25210  MONT-DE-LAVAL            DOUBS   \n",
       "38230            38300         MEYRIE            ISERE   \n",
       "65102            65140  BOUILH-DEVANT  HAUTES-PYRENEES   \n",
       "68211            68470        MITZACH        HAUT-RHIN   \n",
       "88215            88210      GRANDRUPT           VOSGES   \n",
       "\n",
       "                                Région          Statut  Altitude Moyenne  \\\n",
       "Code INSEE                                                                 \n",
       "06026       PROVENCE-ALPES-COTE D'AZUR  Commune simple             540.0   \n",
       "21010                        BOURGOGNE  Commune simple             261.0   \n",
       "25391                    FRANCHE-COMTE  Commune simple             845.0   \n",
       "38230                      RHONE-ALPES  Commune simple             346.0   \n",
       "65102                    MIDI-PYRENEES  Commune simple             298.0   \n",
       "68211                           ALSACE  Commune simple             637.0   \n",
       "88215                         LORRAINE  Commune simple             634.0   \n",
       "\n",
       "            Superficie  Population                   geo_point_2d  \\\n",
       "Code INSEE                                                          \n",
       "06026            540.0         1.4   43.6599560638, 6.87825509814   \n",
       "21010            261.0         0.2   47.0682393129, 4.86123205088   \n",
       "25391            845.0         0.2    47.161609954, 6.63636805448   \n",
       "38230            346.0         1.0    45.5602461635, 5.2848381306   \n",
       "65102            298.0         0.0  43.3365484114, 0.261492915975   \n",
       "68211            637.0         0.4   47.8611986942, 6.99775039385   \n",
       "88215            634.0         0.1   48.3669519771, 7.06206760711   \n",
       "\n",
       "                                                    geo_shape  \n",
       "Code INSEE                                                     \n",
       "06026       {\"type\": \"Polygon\", \"coordinates\": [[[6.868991...  \n",
       "21010       {\"type\": \"Polygon\", \"coordinates\": [[[4.866669...  \n",
       "25391       {\"type\": \"Polygon\", \"coordinates\": [[[6.627720...  \n",
       "38230       {\"type\": \"Polygon\", \"coordinates\": [[[5.293302...  \n",
       "65102       {\"type\": \"Polygon\", \"coordinates\": [[[0.267934...  \n",
       "68211       {\"type\": \"Polygon\", \"coordinates\": [[[6.987666...  \n",
       "88215       {\"type\": \"Polygon\", \"coordinates\": [[[7.064913...  "
      ]
     },
     "execution_count": 71,
     "metadata": {},
     "output_type": "execute_result"
    }
   ],
   "source": [
    "geo.loc[geo[\"Altitude Moyenne\"]==geo[\"Superficie\"]]"
   ]
  },
  {
   "cell_type": "code",
   "execution_count": 73,
   "metadata": {},
   "outputs": [
    {
     "data": {
      "text/plain": [
       "3.3"
      ]
     },
     "execution_count": 73,
     "metadata": {},
     "output_type": "execute_result"
    }
   ],
   "source": [
    "geo.loc[geo[\"Altitude Moyenne\"]==geo[\"Superficie\"], \"Population\"].sum()"
   ]
  },
  {
   "cell_type": "code",
   "execution_count": 74,
   "metadata": {},
   "outputs": [
    {
     "data": {
      "text/html": [
       "<div>\n",
       "<style scoped>\n",
       "    .dataframe tbody tr th:only-of-type {\n",
       "        vertical-align: middle;\n",
       "    }\n",
       "\n",
       "    .dataframe tbody tr th {\n",
       "        vertical-align: top;\n",
       "    }\n",
       "\n",
       "    .dataframe thead th {\n",
       "        text-align: right;\n",
       "    }\n",
       "</style>\n",
       "<table border=\"1\" class=\"dataframe\">\n",
       "  <thead>\n",
       "    <tr style=\"text-align: right;\">\n",
       "      <th></th>\n",
       "      <th>Code Postal</th>\n",
       "      <th>Commune</th>\n",
       "      <th>Département</th>\n",
       "      <th>Région</th>\n",
       "      <th>Statut</th>\n",
       "      <th>Altitude Moyenne</th>\n",
       "      <th>Superficie</th>\n",
       "      <th>Population</th>\n",
       "      <th>geo_point_2d</th>\n",
       "      <th>geo_shape</th>\n",
       "    </tr>\n",
       "    <tr>\n",
       "      <th>Code INSEE</th>\n",
       "      <th></th>\n",
       "      <th></th>\n",
       "      <th></th>\n",
       "      <th></th>\n",
       "      <th></th>\n",
       "      <th></th>\n",
       "      <th></th>\n",
       "      <th></th>\n",
       "      <th></th>\n",
       "      <th></th>\n",
       "    </tr>\n",
       "  </thead>\n",
       "  <tbody>\n",
       "    <tr>\n",
       "      <th>34192</th>\n",
       "      <td>34250</td>\n",
       "      <td>PALAVAS-LES-FLOTS</td>\n",
       "      <td>HERAULT</td>\n",
       "      <td>LANGUEDOC-ROUSSILLON</td>\n",
       "      <td>Commune simple</td>\n",
       "      <td>0.0</td>\n",
       "      <td>920.0</td>\n",
       "      <td>6.0</td>\n",
       "      <td>43.533536456, 3.92620839566</td>\n",
       "      <td>{\"type\": \"Polygon\", \"coordinates\": [[[3.907955...</td>\n",
       "    </tr>\n",
       "    <tr>\n",
       "      <th>59404</th>\n",
       "      <td>59122</td>\n",
       "      <td>LES MOERES</td>\n",
       "      <td>NORD</td>\n",
       "      <td>NORD-PAS-DE-CALAIS</td>\n",
       "      <td>Commune simple</td>\n",
       "      <td>0.0</td>\n",
       "      <td>1967.0</td>\n",
       "      <td>0.8</td>\n",
       "      <td>51.0240965472, 2.5473689484</td>\n",
       "      <td>{\"type\": \"Polygon\", \"coordinates\": [[[2.572476...</td>\n",
       "    </tr>\n",
       "  </tbody>\n",
       "</table>\n",
       "</div>"
      ],
      "text/plain": [
       "           Code Postal            Commune Département                Région  \\\n",
       "Code INSEE                                                                    \n",
       "34192            34250  PALAVAS-LES-FLOTS     HERAULT  LANGUEDOC-ROUSSILLON   \n",
       "59404            59122         LES MOERES        NORD    NORD-PAS-DE-CALAIS   \n",
       "\n",
       "                    Statut  Altitude Moyenne  Superficie  Population  \\\n",
       "Code INSEE                                                             \n",
       "34192       Commune simple               0.0       920.0         6.0   \n",
       "59404       Commune simple               0.0      1967.0         0.8   \n",
       "\n",
       "                           geo_point_2d  \\\n",
       "Code INSEE                                \n",
       "34192       43.533536456, 3.92620839566   \n",
       "59404       51.0240965472, 2.5473689484   \n",
       "\n",
       "                                                    geo_shape  \n",
       "Code INSEE                                                     \n",
       "34192       {\"type\": \"Polygon\", \"coordinates\": [[[3.907955...  \n",
       "59404       {\"type\": \"Polygon\", \"coordinates\": [[[2.572476...  "
      ]
     },
     "execution_count": 74,
     "metadata": {},
     "output_type": "execute_result"
    }
   ],
   "source": [
    "geo.loc[geo[\"Altitude Moyenne\"]==0]"
   ]
  },
  {
   "cell_type": "markdown",
   "metadata": {},
   "source": [
    "### Index non unique"
   ]
  },
  {
   "cell_type": "code",
   "execution_count": 75,
   "metadata": {},
   "outputs": [
    {
     "data": {
      "text/plain": [
       "True"
      ]
     },
     "execution_count": 75,
     "metadata": {},
     "output_type": "execute_result"
    }
   ],
   "source": [
    "# test de l'unicité de l'index\n",
    "geo.index.is_unique"
   ]
  },
  {
   "cell_type": "code",
   "execution_count": 77,
   "metadata": {},
   "outputs": [
    {
     "data": {
      "text/html": [
       "<div>\n",
       "<style scoped>\n",
       "    .dataframe tbody tr th:only-of-type {\n",
       "        vertical-align: middle;\n",
       "    }\n",
       "\n",
       "    .dataframe tbody tr th {\n",
       "        vertical-align: top;\n",
       "    }\n",
       "\n",
       "    .dataframe thead th {\n",
       "        text-align: right;\n",
       "    }\n",
       "</style>\n",
       "<table border=\"1\" class=\"dataframe\">\n",
       "  <thead>\n",
       "    <tr style=\"text-align: right;\">\n",
       "      <th></th>\n",
       "      <th>index</th>\n",
       "      <th>Code INSEE</th>\n",
       "      <th>Code Postal</th>\n",
       "      <th>Département</th>\n",
       "      <th>Région</th>\n",
       "      <th>Statut</th>\n",
       "      <th>Altitude Moyenne</th>\n",
       "      <th>Superficie</th>\n",
       "      <th>Population</th>\n",
       "      <th>geo_point_2d</th>\n",
       "      <th>geo_shape</th>\n",
       "    </tr>\n",
       "    <tr>\n",
       "      <th>Commune</th>\n",
       "      <th></th>\n",
       "      <th></th>\n",
       "      <th></th>\n",
       "      <th></th>\n",
       "      <th></th>\n",
       "      <th></th>\n",
       "      <th></th>\n",
       "      <th></th>\n",
       "      <th></th>\n",
       "      <th></th>\n",
       "      <th></th>\n",
       "    </tr>\n",
       "  </thead>\n",
       "  <tbody>\n",
       "    <tr>\n",
       "      <th>L'ABERGEMENT-CLEMENCIAT</th>\n",
       "      <td>0</td>\n",
       "      <td>01001</td>\n",
       "      <td>01400</td>\n",
       "      <td>AIN</td>\n",
       "      <td>RHONE-ALPES</td>\n",
       "      <td>Commune simple</td>\n",
       "      <td>242.0</td>\n",
       "      <td>1565.0</td>\n",
       "      <td>0.8</td>\n",
       "      <td>46.1534255214, 4.92611354223</td>\n",
       "      <td>{\"type\": \"Polygon\", \"coordinates\": [[[4.926273...</td>\n",
       "    </tr>\n",
       "    <tr>\n",
       "      <th>L'ABERGEMENT-DE-VAREY</th>\n",
       "      <td>1</td>\n",
       "      <td>01002</td>\n",
       "      <td>01640</td>\n",
       "      <td>AIN</td>\n",
       "      <td>RHONE-ALPES</td>\n",
       "      <td>Commune simple</td>\n",
       "      <td>483.0</td>\n",
       "      <td>912.0</td>\n",
       "      <td>0.2</td>\n",
       "      <td>46.0091878776, 5.42801696363</td>\n",
       "      <td>{\"type\": \"Polygon\", \"coordinates\": [[[5.430089...</td>\n",
       "    </tr>\n",
       "    <tr>\n",
       "      <th>AMBERIEU-EN-BUGEY</th>\n",
       "      <td>2</td>\n",
       "      <td>01004</td>\n",
       "      <td>01500</td>\n",
       "      <td>AIN</td>\n",
       "      <td>RHONE-ALPES</td>\n",
       "      <td>Chef-lieu canton</td>\n",
       "      <td>379.0</td>\n",
       "      <td>2448.0</td>\n",
       "      <td>13.4</td>\n",
       "      <td>45.9608475114, 5.3729257777</td>\n",
       "      <td>{\"type\": \"Polygon\", \"coordinates\": [[[5.386190...</td>\n",
       "    </tr>\n",
       "    <tr>\n",
       "      <th>AMBERIEUX-EN-DOMBES</th>\n",
       "      <td>3</td>\n",
       "      <td>01005</td>\n",
       "      <td>01330</td>\n",
       "      <td>AIN</td>\n",
       "      <td>RHONE-ALPES</td>\n",
       "      <td>Commune simple</td>\n",
       "      <td>290.0</td>\n",
       "      <td>1605.0</td>\n",
       "      <td>1.6</td>\n",
       "      <td>45.9961799872, 4.91227250796</td>\n",
       "      <td>{\"type\": \"Polygon\", \"coordinates\": [[[4.895580...</td>\n",
       "    </tr>\n",
       "    <tr>\n",
       "      <th>AMBLEON</th>\n",
       "      <td>4</td>\n",
       "      <td>01006</td>\n",
       "      <td>01300</td>\n",
       "      <td>AIN</td>\n",
       "      <td>RHONE-ALPES</td>\n",
       "      <td>Commune simple</td>\n",
       "      <td>589.0</td>\n",
       "      <td>602.0</td>\n",
       "      <td>0.1</td>\n",
       "      <td>45.7494989044, 5.59432017366</td>\n",
       "      <td>{\"type\": \"Polygon\", \"coordinates\": [[[5.614854...</td>\n",
       "    </tr>\n",
       "  </tbody>\n",
       "</table>\n",
       "</div>"
      ],
      "text/plain": [
       "                         index Code INSEE Code Postal Département  \\\n",
       "Commune                                                             \n",
       "L'ABERGEMENT-CLEMENCIAT      0      01001       01400         AIN   \n",
       "L'ABERGEMENT-DE-VAREY        1      01002       01640         AIN   \n",
       "AMBERIEU-EN-BUGEY            2      01004       01500         AIN   \n",
       "AMBERIEUX-EN-DOMBES          3      01005       01330         AIN   \n",
       "AMBLEON                      4      01006       01300         AIN   \n",
       "\n",
       "                              Région            Statut  Altitude Moyenne  \\\n",
       "Commune                                                                    \n",
       "L'ABERGEMENT-CLEMENCIAT  RHONE-ALPES    Commune simple             242.0   \n",
       "L'ABERGEMENT-DE-VAREY    RHONE-ALPES    Commune simple             483.0   \n",
       "AMBERIEU-EN-BUGEY        RHONE-ALPES  Chef-lieu canton             379.0   \n",
       "AMBERIEUX-EN-DOMBES      RHONE-ALPES    Commune simple             290.0   \n",
       "AMBLEON                  RHONE-ALPES    Commune simple             589.0   \n",
       "\n",
       "                         Superficie  Population                  geo_point_2d  \\\n",
       "Commune                                                                         \n",
       "L'ABERGEMENT-CLEMENCIAT      1565.0         0.8  46.1534255214, 4.92611354223   \n",
       "L'ABERGEMENT-DE-VAREY         912.0         0.2  46.0091878776, 5.42801696363   \n",
       "AMBERIEU-EN-BUGEY            2448.0        13.4   45.9608475114, 5.3729257777   \n",
       "AMBERIEUX-EN-DOMBES          1605.0         1.6  45.9961799872, 4.91227250796   \n",
       "AMBLEON                       602.0         0.1  45.7494989044, 5.59432017366   \n",
       "\n",
       "                                                                 geo_shape  \n",
       "Commune                                                                     \n",
       "L'ABERGEMENT-CLEMENCIAT  {\"type\": \"Polygon\", \"coordinates\": [[[4.926273...  \n",
       "L'ABERGEMENT-DE-VAREY    {\"type\": \"Polygon\", \"coordinates\": [[[5.430089...  \n",
       "AMBERIEU-EN-BUGEY        {\"type\": \"Polygon\", \"coordinates\": [[[5.386190...  \n",
       "AMBERIEUX-EN-DOMBES      {\"type\": \"Polygon\", \"coordinates\": [[[4.895580...  \n",
       "AMBLEON                  {\"type\": \"Polygon\", \"coordinates\": [[[5.614854...  "
      ]
     },
     "execution_count": 77,
     "metadata": {},
     "output_type": "execute_result"
    }
   ],
   "source": [
    "# reset de l'index\n",
    "geo = geo.reset_index()\n",
    "geo = geo.set_index('Commune', drop=True)\n",
    "geo.head()"
   ]
  },
  {
   "cell_type": "code",
   "execution_count": 78,
   "metadata": {},
   "outputs": [
    {
     "data": {
      "text/plain": [
       "False"
      ]
     },
     "execution_count": 78,
     "metadata": {},
     "output_type": "execute_result"
    }
   ],
   "source": [
    "# test de l'unicité de l'index\n",
    "geo.index.is_unique"
   ]
  },
  {
   "cell_type": "code",
   "execution_count": 79,
   "metadata": {},
   "outputs": [
    {
     "data": {
      "text/html": [
       "<div>\n",
       "<style scoped>\n",
       "    .dataframe tbody tr th:only-of-type {\n",
       "        vertical-align: middle;\n",
       "    }\n",
       "\n",
       "    .dataframe tbody tr th {\n",
       "        vertical-align: top;\n",
       "    }\n",
       "\n",
       "    .dataframe thead th {\n",
       "        text-align: right;\n",
       "    }\n",
       "</style>\n",
       "<table border=\"1\" class=\"dataframe\">\n",
       "  <thead>\n",
       "    <tr style=\"text-align: right;\">\n",
       "      <th></th>\n",
       "      <th>index</th>\n",
       "      <th>Code INSEE</th>\n",
       "      <th>Code Postal</th>\n",
       "      <th>Département</th>\n",
       "      <th>Région</th>\n",
       "      <th>Statut</th>\n",
       "      <th>Altitude Moyenne</th>\n",
       "      <th>Superficie</th>\n",
       "      <th>Population</th>\n",
       "      <th>geo_point_2d</th>\n",
       "      <th>geo_shape</th>\n",
       "    </tr>\n",
       "    <tr>\n",
       "      <th>Commune</th>\n",
       "      <th></th>\n",
       "      <th></th>\n",
       "      <th></th>\n",
       "      <th></th>\n",
       "      <th></th>\n",
       "      <th></th>\n",
       "      <th></th>\n",
       "      <th></th>\n",
       "      <th></th>\n",
       "      <th></th>\n",
       "      <th></th>\n",
       "    </tr>\n",
       "  </thead>\n",
       "  <tbody>\n",
       "    <tr>\n",
       "      <th>SAINTE-COLOMBE</th>\n",
       "      <td>1883</td>\n",
       "      <td>05135</td>\n",
       "      <td>05700</td>\n",
       "      <td>HAUTES-ALPES</td>\n",
       "      <td>PROVENCE-ALPES-COTE D'AZUR</td>\n",
       "      <td>Commune simple</td>\n",
       "      <td>965.0</td>\n",
       "      <td>1726.0</td>\n",
       "      <td>0.1</td>\n",
       "      <td>44.2889272211, 5.66834974647</td>\n",
       "      <td>{\"type\": \"Polygon\", \"coordinates\": [[[5.646781...</td>\n",
       "    </tr>\n",
       "    <tr>\n",
       "      <th>SAINTE-COLOMBE</th>\n",
       "      <td>5799</td>\n",
       "      <td>16309</td>\n",
       "      <td>16230</td>\n",
       "      <td>CHARENTE</td>\n",
       "      <td>POITOU-CHARENTES</td>\n",
       "      <td>Commune simple</td>\n",
       "      <td>102.0</td>\n",
       "      <td>654.0</td>\n",
       "      <td>0.2</td>\n",
       "      <td>45.8295299814, 0.320048436517</td>\n",
       "      <td>{\"type\": \"Polygon\", \"coordinates\": [[[0.326195...</td>\n",
       "    </tr>\n",
       "    <tr>\n",
       "      <th>SAINTE-COLOMBE</th>\n",
       "      <td>6218</td>\n",
       "      <td>17319</td>\n",
       "      <td>17210</td>\n",
       "      <td>CHARENTE-MARITIME</td>\n",
       "      <td>POITOU-CHARENTES</td>\n",
       "      <td>Commune simple</td>\n",
       "      <td>111.0</td>\n",
       "      <td>440.0</td>\n",
       "      <td>0.1</td>\n",
       "      <td>45.281890465, -0.273965618336</td>\n",
       "      <td>{\"type\": \"Polygon\", \"coordinates\": [[[-0.28042...</td>\n",
       "    </tr>\n",
       "    <tr>\n",
       "      <th>SAINTE-COLOMBE</th>\n",
       "      <td>7492</td>\n",
       "      <td>21544</td>\n",
       "      <td>21350</td>\n",
       "      <td>COTE-D'OR</td>\n",
       "      <td>BOURGOGNE</td>\n",
       "      <td>Commune simple</td>\n",
       "      <td>441.0</td>\n",
       "      <td>633.0</td>\n",
       "      <td>0.1</td>\n",
       "      <td>47.4272975926, 4.46203899793</td>\n",
       "      <td>{\"type\": \"Polygon\", \"coordinates\": [[[4.462906...</td>\n",
       "    </tr>\n",
       "    <tr>\n",
       "      <th>SAINTE-COLOMBE</th>\n",
       "      <td>9331</td>\n",
       "      <td>25515</td>\n",
       "      <td>25300</td>\n",
       "      <td>DOUBS</td>\n",
       "      <td>FRANCHE-COMTE</td>\n",
       "      <td>Commune simple</td>\n",
       "      <td>884.0</td>\n",
       "      <td>1052.0</td>\n",
       "      <td>0.3</td>\n",
       "      <td>46.8735551517, 6.27545445456</td>\n",
       "      <td>{\"type\": \"Polygon\", \"coordinates\": [[[6.293376...</td>\n",
       "    </tr>\n",
       "    <tr>\n",
       "      <th>SAINTE-COLOMBE</th>\n",
       "      <td>13321</td>\n",
       "      <td>33390</td>\n",
       "      <td>33350</td>\n",
       "      <td>GIRONDE</td>\n",
       "      <td>AQUITAINE</td>\n",
       "      <td>Commune simple</td>\n",
       "      <td>61.0</td>\n",
       "      <td>404.0</td>\n",
       "      <td>0.4</td>\n",
       "      <td>44.8789588977, -0.0634971172004</td>\n",
       "      <td>{\"type\": \"Polygon\", \"coordinates\": [[[-0.04871...</td>\n",
       "    </tr>\n",
       "    <tr>\n",
       "      <th>SAINTE-COLOMBE</th>\n",
       "      <td>14079</td>\n",
       "      <td>35262</td>\n",
       "      <td>35134</td>\n",
       "      <td>ILLE-ET-VILAINE</td>\n",
       "      <td>BRETAGNE</td>\n",
       "      <td>Commune simple</td>\n",
       "      <td>75.0</td>\n",
       "      <td>776.0</td>\n",
       "      <td>0.3</td>\n",
       "      <td>47.8955543395, -1.45748423621</td>\n",
       "      <td>{\"type\": \"Polygon\", \"coordinates\": [[[-1.46368...</td>\n",
       "    </tr>\n",
       "    <tr>\n",
       "      <th>SAINTE-COLOMBE</th>\n",
       "      <td>16027</td>\n",
       "      <td>40252</td>\n",
       "      <td>40700</td>\n",
       "      <td>LANDES</td>\n",
       "      <td>AQUITAINE</td>\n",
       "      <td>Commune simple</td>\n",
       "      <td>96.0</td>\n",
       "      <td>1289.0</td>\n",
       "      <td>0.6</td>\n",
       "      <td>43.6810025684, -0.556768147827</td>\n",
       "      <td>{\"type\": \"Polygon\", \"coordinates\": [[[-0.54208...</td>\n",
       "    </tr>\n",
       "    <tr>\n",
       "      <th>SAINTE-COLOMBE</th>\n",
       "      <td>17802</td>\n",
       "      <td>46260</td>\n",
       "      <td>46120</td>\n",
       "      <td>LOT</td>\n",
       "      <td>MIDI-PYRENEES</td>\n",
       "      <td>Commune simple</td>\n",
       "      <td>516.0</td>\n",
       "      <td>1131.0</td>\n",
       "      <td>0.2</td>\n",
       "      <td>44.7204297846, 2.01266388255</td>\n",
       "      <td>{\"type\": \"Polygon\", \"coordinates\": [[[2.038138...</td>\n",
       "    </tr>\n",
       "    <tr>\n",
       "      <th>SAINTE-COLOMBE</th>\n",
       "      <td>19173</td>\n",
       "      <td>50457</td>\n",
       "      <td>50390</td>\n",
       "      <td>MANCHE</td>\n",
       "      <td>BASSE-NORMANDIE</td>\n",
       "      <td>Commune simple</td>\n",
       "      <td>20.0</td>\n",
       "      <td>509.0</td>\n",
       "      <td>0.2</td>\n",
       "      <td>49.4151457162, -1.51172159828</td>\n",
       "      <td>{\"type\": \"Polygon\", \"coordinates\": [[[-1.49421...</td>\n",
       "    </tr>\n",
       "    <tr>\n",
       "      <th>SAINTE-COLOMBE</th>\n",
       "      <td>28616</td>\n",
       "      <td>69189</td>\n",
       "      <td>69560</td>\n",
       "      <td>RHONE</td>\n",
       "      <td>RHONE-ALPES</td>\n",
       "      <td>Commune simple</td>\n",
       "      <td>216.0</td>\n",
       "      <td>158.0</td>\n",
       "      <td>1.9</td>\n",
       "      <td>45.5250030617, 4.85931457938</td>\n",
       "      <td>{\"type\": \"Polygon\", \"coordinates\": [[[4.861328...</td>\n",
       "    </tr>\n",
       "    <tr>\n",
       "      <th>SAINTE-COLOMBE</th>\n",
       "      <td>31403</td>\n",
       "      <td>76569</td>\n",
       "      <td>76460</td>\n",
       "      <td>SEINE-MARITIME</td>\n",
       "      <td>HAUTE-NORMANDIE</td>\n",
       "      <td>Commune simple</td>\n",
       "      <td>100.0</td>\n",
       "      <td>584.0</td>\n",
       "      <td>0.2</td>\n",
       "      <td>49.7963787198, 0.761815502519</td>\n",
       "      <td>{\"type\": \"Polygon\", \"coordinates\": [[[0.753089...</td>\n",
       "    </tr>\n",
       "    <tr>\n",
       "      <th>SAINTE-COLOMBE</th>\n",
       "      <td>31977</td>\n",
       "      <td>77404</td>\n",
       "      <td>77650</td>\n",
       "      <td>SEINE-ET-MARNE</td>\n",
       "      <td>ILE-DE-FRANCE</td>\n",
       "      <td>Commune simple</td>\n",
       "      <td>115.0</td>\n",
       "      <td>813.0</td>\n",
       "      <td>1.8</td>\n",
       "      <td>48.5343555436, 3.25919071204</td>\n",
       "      <td>{\"type\": \"Polygon\", \"coordinates\": [[[3.264675...</td>\n",
       "    </tr>\n",
       "    <tr>\n",
       "      <th>SAINTE-COLOMBE</th>\n",
       "      <td>35868</td>\n",
       "      <td>89339</td>\n",
       "      <td>89440</td>\n",
       "      <td>YONNE</td>\n",
       "      <td>BOURGOGNE</td>\n",
       "      <td>Commune simple</td>\n",
       "      <td>279.0</td>\n",
       "      <td>1851.0</td>\n",
       "      <td>0.2</td>\n",
       "      <td>47.5733326756, 3.95597782049</td>\n",
       "      <td>{\"type\": \"Polygon\", \"coordinates\": [[[3.983814...</td>\n",
       "    </tr>\n",
       "  </tbody>\n",
       "</table>\n",
       "</div>"
      ],
      "text/plain": [
       "                index Code INSEE Code Postal        Département  \\\n",
       "Commune                                                           \n",
       "SAINTE-COLOMBE   1883      05135       05700       HAUTES-ALPES   \n",
       "SAINTE-COLOMBE   5799      16309       16230           CHARENTE   \n",
       "SAINTE-COLOMBE   6218      17319       17210  CHARENTE-MARITIME   \n",
       "SAINTE-COLOMBE   7492      21544       21350          COTE-D'OR   \n",
       "SAINTE-COLOMBE   9331      25515       25300              DOUBS   \n",
       "SAINTE-COLOMBE  13321      33390       33350            GIRONDE   \n",
       "SAINTE-COLOMBE  14079      35262       35134    ILLE-ET-VILAINE   \n",
       "SAINTE-COLOMBE  16027      40252       40700             LANDES   \n",
       "SAINTE-COLOMBE  17802      46260       46120                LOT   \n",
       "SAINTE-COLOMBE  19173      50457       50390             MANCHE   \n",
       "SAINTE-COLOMBE  28616      69189       69560              RHONE   \n",
       "SAINTE-COLOMBE  31403      76569       76460     SEINE-MARITIME   \n",
       "SAINTE-COLOMBE  31977      77404       77650     SEINE-ET-MARNE   \n",
       "SAINTE-COLOMBE  35868      89339       89440              YONNE   \n",
       "\n",
       "                                    Région          Statut  Altitude Moyenne  \\\n",
       "Commune                                                                        \n",
       "SAINTE-COLOMBE  PROVENCE-ALPES-COTE D'AZUR  Commune simple             965.0   \n",
       "SAINTE-COLOMBE            POITOU-CHARENTES  Commune simple             102.0   \n",
       "SAINTE-COLOMBE            POITOU-CHARENTES  Commune simple             111.0   \n",
       "SAINTE-COLOMBE                   BOURGOGNE  Commune simple             441.0   \n",
       "SAINTE-COLOMBE               FRANCHE-COMTE  Commune simple             884.0   \n",
       "SAINTE-COLOMBE                   AQUITAINE  Commune simple              61.0   \n",
       "SAINTE-COLOMBE                    BRETAGNE  Commune simple              75.0   \n",
       "SAINTE-COLOMBE                   AQUITAINE  Commune simple              96.0   \n",
       "SAINTE-COLOMBE               MIDI-PYRENEES  Commune simple             516.0   \n",
       "SAINTE-COLOMBE             BASSE-NORMANDIE  Commune simple              20.0   \n",
       "SAINTE-COLOMBE                 RHONE-ALPES  Commune simple             216.0   \n",
       "SAINTE-COLOMBE             HAUTE-NORMANDIE  Commune simple             100.0   \n",
       "SAINTE-COLOMBE               ILE-DE-FRANCE  Commune simple             115.0   \n",
       "SAINTE-COLOMBE                   BOURGOGNE  Commune simple             279.0   \n",
       "\n",
       "                Superficie  Population                     geo_point_2d  \\\n",
       "Commune                                                                   \n",
       "SAINTE-COLOMBE      1726.0         0.1     44.2889272211, 5.66834974647   \n",
       "SAINTE-COLOMBE       654.0         0.2    45.8295299814, 0.320048436517   \n",
       "SAINTE-COLOMBE       440.0         0.1    45.281890465, -0.273965618336   \n",
       "SAINTE-COLOMBE       633.0         0.1     47.4272975926, 4.46203899793   \n",
       "SAINTE-COLOMBE      1052.0         0.3     46.8735551517, 6.27545445456   \n",
       "SAINTE-COLOMBE       404.0         0.4  44.8789588977, -0.0634971172004   \n",
       "SAINTE-COLOMBE       776.0         0.3    47.8955543395, -1.45748423621   \n",
       "SAINTE-COLOMBE      1289.0         0.6   43.6810025684, -0.556768147827   \n",
       "SAINTE-COLOMBE      1131.0         0.2     44.7204297846, 2.01266388255   \n",
       "SAINTE-COLOMBE       509.0         0.2    49.4151457162, -1.51172159828   \n",
       "SAINTE-COLOMBE       158.0         1.9     45.5250030617, 4.85931457938   \n",
       "SAINTE-COLOMBE       584.0         0.2    49.7963787198, 0.761815502519   \n",
       "SAINTE-COLOMBE       813.0         1.8     48.5343555436, 3.25919071204   \n",
       "SAINTE-COLOMBE      1851.0         0.2     47.5733326756, 3.95597782049   \n",
       "\n",
       "                                                        geo_shape  \n",
       "Commune                                                            \n",
       "SAINTE-COLOMBE  {\"type\": \"Polygon\", \"coordinates\": [[[5.646781...  \n",
       "SAINTE-COLOMBE  {\"type\": \"Polygon\", \"coordinates\": [[[0.326195...  \n",
       "SAINTE-COLOMBE  {\"type\": \"Polygon\", \"coordinates\": [[[-0.28042...  \n",
       "SAINTE-COLOMBE  {\"type\": \"Polygon\", \"coordinates\": [[[4.462906...  \n",
       "SAINTE-COLOMBE  {\"type\": \"Polygon\", \"coordinates\": [[[6.293376...  \n",
       "SAINTE-COLOMBE  {\"type\": \"Polygon\", \"coordinates\": [[[-0.04871...  \n",
       "SAINTE-COLOMBE  {\"type\": \"Polygon\", \"coordinates\": [[[-1.46368...  \n",
       "SAINTE-COLOMBE  {\"type\": \"Polygon\", \"coordinates\": [[[-0.54208...  \n",
       "SAINTE-COLOMBE  {\"type\": \"Polygon\", \"coordinates\": [[[2.038138...  \n",
       "SAINTE-COLOMBE  {\"type\": \"Polygon\", \"coordinates\": [[[-1.49421...  \n",
       "SAINTE-COLOMBE  {\"type\": \"Polygon\", \"coordinates\": [[[4.861328...  \n",
       "SAINTE-COLOMBE  {\"type\": \"Polygon\", \"coordinates\": [[[0.753089...  \n",
       "SAINTE-COLOMBE  {\"type\": \"Polygon\", \"coordinates\": [[[3.264675...  \n",
       "SAINTE-COLOMBE  {\"type\": \"Polygon\", \"coordinates\": [[[3.983814...  "
      ]
     },
     "execution_count": 79,
     "metadata": {},
     "output_type": "execute_result"
    }
   ],
   "source": [
    "# accès avec un index non unique\n",
    "geo.loc['SAINTE-COLOMBE']"
   ]
  },
  {
   "cell_type": "code",
   "execution_count": 80,
   "metadata": {},
   "outputs": [
    {
     "data": {
      "text/html": [
       "<div>\n",
       "<style scoped>\n",
       "    .dataframe tbody tr th:only-of-type {\n",
       "        vertical-align: middle;\n",
       "    }\n",
       "\n",
       "    .dataframe tbody tr th {\n",
       "        vertical-align: top;\n",
       "    }\n",
       "\n",
       "    .dataframe thead th {\n",
       "        text-align: right;\n",
       "    }\n",
       "</style>\n",
       "<table border=\"1\" class=\"dataframe\">\n",
       "  <thead>\n",
       "    <tr style=\"text-align: right;\">\n",
       "      <th></th>\n",
       "      <th>index</th>\n",
       "      <th>Code INSEE</th>\n",
       "      <th>Code Postal</th>\n",
       "      <th>Département</th>\n",
       "      <th>Région</th>\n",
       "      <th>Statut</th>\n",
       "      <th>Altitude Moyenne</th>\n",
       "      <th>Superficie</th>\n",
       "      <th>Population</th>\n",
       "      <th>geo_point_2d</th>\n",
       "      <th>geo_shape</th>\n",
       "    </tr>\n",
       "    <tr>\n",
       "      <th>Commune</th>\n",
       "      <th></th>\n",
       "      <th></th>\n",
       "      <th></th>\n",
       "      <th></th>\n",
       "      <th></th>\n",
       "      <th></th>\n",
       "      <th></th>\n",
       "      <th></th>\n",
       "      <th></th>\n",
       "      <th></th>\n",
       "      <th></th>\n",
       "    </tr>\n",
       "  </thead>\n",
       "  <tbody>\n",
       "    <tr>\n",
       "      <th>L'ABERGEMENT-CLEMENCIAT</th>\n",
       "      <td>0</td>\n",
       "      <td>01001</td>\n",
       "      <td>01400</td>\n",
       "      <td>AIN</td>\n",
       "      <td>RHONE-ALPES</td>\n",
       "      <td>Commune simple</td>\n",
       "      <td>242.0</td>\n",
       "      <td>1565.0</td>\n",
       "      <td>0.8</td>\n",
       "      <td>46.1534255214, 4.92611354223</td>\n",
       "      <td>{\"type\": \"Polygon\", \"coordinates\": [[[4.926273...</td>\n",
       "    </tr>\n",
       "    <tr>\n",
       "      <th>L'ABERGEMENT-DE-VAREY</th>\n",
       "      <td>1</td>\n",
       "      <td>01002</td>\n",
       "      <td>01640</td>\n",
       "      <td>AIN</td>\n",
       "      <td>RHONE-ALPES</td>\n",
       "      <td>Commune simple</td>\n",
       "      <td>483.0</td>\n",
       "      <td>912.0</td>\n",
       "      <td>0.2</td>\n",
       "      <td>46.0091878776, 5.42801696363</td>\n",
       "      <td>{\"type\": \"Polygon\", \"coordinates\": [[[5.430089...</td>\n",
       "    </tr>\n",
       "    <tr>\n",
       "      <th>AMBERIEU-EN-BUGEY</th>\n",
       "      <td>2</td>\n",
       "      <td>01004</td>\n",
       "      <td>01500</td>\n",
       "      <td>AIN</td>\n",
       "      <td>RHONE-ALPES</td>\n",
       "      <td>Chef-lieu canton</td>\n",
       "      <td>379.0</td>\n",
       "      <td>2448.0</td>\n",
       "      <td>13.4</td>\n",
       "      <td>45.9608475114, 5.3729257777</td>\n",
       "      <td>{\"type\": \"Polygon\", \"coordinates\": [[[5.386190...</td>\n",
       "    </tr>\n",
       "    <tr>\n",
       "      <th>AMBERIEUX-EN-DOMBES</th>\n",
       "      <td>3</td>\n",
       "      <td>01005</td>\n",
       "      <td>01330</td>\n",
       "      <td>AIN</td>\n",
       "      <td>RHONE-ALPES</td>\n",
       "      <td>Commune simple</td>\n",
       "      <td>290.0</td>\n",
       "      <td>1605.0</td>\n",
       "      <td>1.6</td>\n",
       "      <td>45.9961799872, 4.91227250796</td>\n",
       "      <td>{\"type\": \"Polygon\", \"coordinates\": [[[4.895580...</td>\n",
       "    </tr>\n",
       "    <tr>\n",
       "      <th>AMBLEON</th>\n",
       "      <td>4</td>\n",
       "      <td>01006</td>\n",
       "      <td>01300</td>\n",
       "      <td>AIN</td>\n",
       "      <td>RHONE-ALPES</td>\n",
       "      <td>Commune simple</td>\n",
       "      <td>589.0</td>\n",
       "      <td>602.0</td>\n",
       "      <td>0.1</td>\n",
       "      <td>45.7494989044, 5.59432017366</td>\n",
       "      <td>{\"type\": \"Polygon\", \"coordinates\": [[[5.614854...</td>\n",
       "    </tr>\n",
       "  </tbody>\n",
       "</table>\n",
       "</div>"
      ],
      "text/plain": [
       "                         index Code INSEE Code Postal Département  \\\n",
       "Commune                                                             \n",
       "L'ABERGEMENT-CLEMENCIAT      0      01001       01400         AIN   \n",
       "L'ABERGEMENT-DE-VAREY        1      01002       01640         AIN   \n",
       "AMBERIEU-EN-BUGEY            2      01004       01500         AIN   \n",
       "AMBERIEUX-EN-DOMBES          3      01005       01330         AIN   \n",
       "AMBLEON                      4      01006       01300         AIN   \n",
       "\n",
       "                              Région            Statut  Altitude Moyenne  \\\n",
       "Commune                                                                    \n",
       "L'ABERGEMENT-CLEMENCIAT  RHONE-ALPES    Commune simple             242.0   \n",
       "L'ABERGEMENT-DE-VAREY    RHONE-ALPES    Commune simple             483.0   \n",
       "AMBERIEU-EN-BUGEY        RHONE-ALPES  Chef-lieu canton             379.0   \n",
       "AMBERIEUX-EN-DOMBES      RHONE-ALPES    Commune simple             290.0   \n",
       "AMBLEON                  RHONE-ALPES    Commune simple             589.0   \n",
       "\n",
       "                         Superficie  Population                  geo_point_2d  \\\n",
       "Commune                                                                         \n",
       "L'ABERGEMENT-CLEMENCIAT      1565.0         0.8  46.1534255214, 4.92611354223   \n",
       "L'ABERGEMENT-DE-VAREY         912.0         0.2  46.0091878776, 5.42801696363   \n",
       "AMBERIEU-EN-BUGEY            2448.0        13.4   45.9608475114, 5.3729257777   \n",
       "AMBERIEUX-EN-DOMBES          1605.0         1.6  45.9961799872, 4.91227250796   \n",
       "AMBLEON                       602.0         0.1  45.7494989044, 5.59432017366   \n",
       "\n",
       "                                                                 geo_shape  \n",
       "Commune                                                                     \n",
       "L'ABERGEMENT-CLEMENCIAT  {\"type\": \"Polygon\", \"coordinates\": [[[4.926273...  \n",
       "L'ABERGEMENT-DE-VAREY    {\"type\": \"Polygon\", \"coordinates\": [[[5.430089...  \n",
       "AMBERIEU-EN-BUGEY        {\"type\": \"Polygon\", \"coordinates\": [[[5.386190...  \n",
       "AMBERIEUX-EN-DOMBES      {\"type\": \"Polygon\", \"coordinates\": [[[4.895580...  \n",
       "AMBLEON                  {\"type\": \"Polygon\", \"coordinates\": [[[5.614854...  "
      ]
     },
     "execution_count": 80,
     "metadata": {},
     "output_type": "execute_result"
    }
   ],
   "source": [
    "# tête\n",
    "geo.head()"
   ]
  },
  {
   "cell_type": "code",
   "execution_count": 81,
   "metadata": {},
   "outputs": [
    {
     "ename": "KeyError",
     "evalue": "\"Cannot get right slice bound for non-unique label: 'SAINTE-COLOMBE'\"",
     "output_type": "error",
     "traceback": [
      "\u001b[1;31m---------------------------------------------------------------------------\u001b[0m",
      "\u001b[1;31mKeyError\u001b[0m                                  Traceback (most recent call last)",
      "\u001b[1;32m<ipython-input-81-969cb686bfe2>\u001b[0m in \u001b[0;36m<module>\u001b[1;34m\u001b[0m\n\u001b[0;32m      1\u001b[0m \u001b[1;31m# tentative d'accès à une plage d'index\u001b[0m\u001b[1;33m\u001b[0m\u001b[1;33m\u001b[0m\u001b[1;33m\u001b[0m\u001b[0m\n\u001b[1;32m----> 2\u001b[1;33m \u001b[0mgeo\u001b[0m\u001b[1;33m.\u001b[0m\u001b[0mloc\u001b[0m\u001b[1;33m[\u001b[0m\u001b[1;34m\"L'ABERGEMENT-CLEMENCIAT\"\u001b[0m\u001b[1;33m:\u001b[0m\u001b[1;34m\"SAINTE-COLOMBE\"\u001b[0m\u001b[1;33m]\u001b[0m\u001b[1;33m\u001b[0m\u001b[1;33m\u001b[0m\u001b[0m\n\u001b[0m",
      "\u001b[1;32mc:\\users\\francis\\miniconda3\\envs\\bdf\\lib\\site-packages\\pandas\\core\\indexing.py\u001b[0m in \u001b[0;36m__getitem__\u001b[1;34m(self, key)\u001b[0m\n\u001b[0;32m    893\u001b[0m \u001b[1;33m\u001b[0m\u001b[0m\n\u001b[0;32m    894\u001b[0m             \u001b[0mmaybe_callable\u001b[0m \u001b[1;33m=\u001b[0m \u001b[0mcom\u001b[0m\u001b[1;33m.\u001b[0m\u001b[0mapply_if_callable\u001b[0m\u001b[1;33m(\u001b[0m\u001b[0mkey\u001b[0m\u001b[1;33m,\u001b[0m \u001b[0mself\u001b[0m\u001b[1;33m.\u001b[0m\u001b[0mobj\u001b[0m\u001b[1;33m)\u001b[0m\u001b[1;33m\u001b[0m\u001b[1;33m\u001b[0m\u001b[0m\n\u001b[1;32m--> 895\u001b[1;33m             \u001b[1;32mreturn\u001b[0m \u001b[0mself\u001b[0m\u001b[1;33m.\u001b[0m\u001b[0m_getitem_axis\u001b[0m\u001b[1;33m(\u001b[0m\u001b[0mmaybe_callable\u001b[0m\u001b[1;33m,\u001b[0m \u001b[0maxis\u001b[0m\u001b[1;33m=\u001b[0m\u001b[0maxis\u001b[0m\u001b[1;33m)\u001b[0m\u001b[1;33m\u001b[0m\u001b[1;33m\u001b[0m\u001b[0m\n\u001b[0m\u001b[0;32m    896\u001b[0m \u001b[1;33m\u001b[0m\u001b[0m\n\u001b[0;32m    897\u001b[0m     \u001b[1;32mdef\u001b[0m \u001b[0m_is_scalar_access\u001b[0m\u001b[1;33m(\u001b[0m\u001b[0mself\u001b[0m\u001b[1;33m,\u001b[0m \u001b[0mkey\u001b[0m\u001b[1;33m:\u001b[0m \u001b[0mTuple\u001b[0m\u001b[1;33m)\u001b[0m\u001b[1;33m:\u001b[0m\u001b[1;33m\u001b[0m\u001b[1;33m\u001b[0m\u001b[0m\n",
      "\u001b[1;32mc:\\users\\francis\\miniconda3\\envs\\bdf\\lib\\site-packages\\pandas\\core\\indexing.py\u001b[0m in \u001b[0;36m_getitem_axis\u001b[1;34m(self, key, axis)\u001b[0m\n\u001b[0;32m   1100\u001b[0m         \u001b[1;32mif\u001b[0m \u001b[0misinstance\u001b[0m\u001b[1;33m(\u001b[0m\u001b[0mkey\u001b[0m\u001b[1;33m,\u001b[0m \u001b[0mslice\u001b[0m\u001b[1;33m)\u001b[0m\u001b[1;33m:\u001b[0m\u001b[1;33m\u001b[0m\u001b[1;33m\u001b[0m\u001b[0m\n\u001b[0;32m   1101\u001b[0m             \u001b[0mself\u001b[0m\u001b[1;33m.\u001b[0m\u001b[0m_validate_key\u001b[0m\u001b[1;33m(\u001b[0m\u001b[0mkey\u001b[0m\u001b[1;33m,\u001b[0m \u001b[0maxis\u001b[0m\u001b[1;33m)\u001b[0m\u001b[1;33m\u001b[0m\u001b[1;33m\u001b[0m\u001b[0m\n\u001b[1;32m-> 1102\u001b[1;33m             \u001b[1;32mreturn\u001b[0m \u001b[0mself\u001b[0m\u001b[1;33m.\u001b[0m\u001b[0m_get_slice_axis\u001b[0m\u001b[1;33m(\u001b[0m\u001b[0mkey\u001b[0m\u001b[1;33m,\u001b[0m \u001b[0maxis\u001b[0m\u001b[1;33m=\u001b[0m\u001b[0maxis\u001b[0m\u001b[1;33m)\u001b[0m\u001b[1;33m\u001b[0m\u001b[1;33m\u001b[0m\u001b[0m\n\u001b[0m\u001b[0;32m   1103\u001b[0m         \u001b[1;32melif\u001b[0m \u001b[0mcom\u001b[0m\u001b[1;33m.\u001b[0m\u001b[0mis_bool_indexer\u001b[0m\u001b[1;33m(\u001b[0m\u001b[0mkey\u001b[0m\u001b[1;33m)\u001b[0m\u001b[1;33m:\u001b[0m\u001b[1;33m\u001b[0m\u001b[1;33m\u001b[0m\u001b[0m\n\u001b[0;32m   1104\u001b[0m             \u001b[1;32mreturn\u001b[0m \u001b[0mself\u001b[0m\u001b[1;33m.\u001b[0m\u001b[0m_getbool_axis\u001b[0m\u001b[1;33m(\u001b[0m\u001b[0mkey\u001b[0m\u001b[1;33m,\u001b[0m \u001b[0maxis\u001b[0m\u001b[1;33m=\u001b[0m\u001b[0maxis\u001b[0m\u001b[1;33m)\u001b[0m\u001b[1;33m\u001b[0m\u001b[1;33m\u001b[0m\u001b[0m\n",
      "\u001b[1;32mc:\\users\\francis\\miniconda3\\envs\\bdf\\lib\\site-packages\\pandas\\core\\indexing.py\u001b[0m in \u001b[0;36m_get_slice_axis\u001b[1;34m(self, slice_obj, axis)\u001b[0m\n\u001b[0;32m   1134\u001b[0m \u001b[1;33m\u001b[0m\u001b[0m\n\u001b[0;32m   1135\u001b[0m         \u001b[0mlabels\u001b[0m \u001b[1;33m=\u001b[0m \u001b[0mobj\u001b[0m\u001b[1;33m.\u001b[0m\u001b[0m_get_axis\u001b[0m\u001b[1;33m(\u001b[0m\u001b[0maxis\u001b[0m\u001b[1;33m)\u001b[0m\u001b[1;33m\u001b[0m\u001b[1;33m\u001b[0m\u001b[0m\n\u001b[1;32m-> 1136\u001b[1;33m         indexer = labels.slice_indexer(\n\u001b[0m\u001b[0;32m   1137\u001b[0m             \u001b[0mslice_obj\u001b[0m\u001b[1;33m.\u001b[0m\u001b[0mstart\u001b[0m\u001b[1;33m,\u001b[0m \u001b[0mslice_obj\u001b[0m\u001b[1;33m.\u001b[0m\u001b[0mstop\u001b[0m\u001b[1;33m,\u001b[0m \u001b[0mslice_obj\u001b[0m\u001b[1;33m.\u001b[0m\u001b[0mstep\u001b[0m\u001b[1;33m,\u001b[0m \u001b[0mkind\u001b[0m\u001b[1;33m=\u001b[0m\u001b[1;34m\"loc\"\u001b[0m\u001b[1;33m\u001b[0m\u001b[1;33m\u001b[0m\u001b[0m\n\u001b[0;32m   1138\u001b[0m         )\n",
      "\u001b[1;32mc:\\users\\francis\\miniconda3\\envs\\bdf\\lib\\site-packages\\pandas\\core\\indexes\\base.py\u001b[0m in \u001b[0;36mslice_indexer\u001b[1;34m(self, start, end, step, kind)\u001b[0m\n\u001b[0;32m   5275\u001b[0m         \u001b[0mslice\u001b[0m\u001b[1;33m(\u001b[0m\u001b[1;36m1\u001b[0m\u001b[1;33m,\u001b[0m \u001b[1;36m3\u001b[0m\u001b[1;33m,\u001b[0m \u001b[1;32mNone\u001b[0m\u001b[1;33m)\u001b[0m\u001b[1;33m\u001b[0m\u001b[1;33m\u001b[0m\u001b[0m\n\u001b[0;32m   5276\u001b[0m         \"\"\"\n\u001b[1;32m-> 5277\u001b[1;33m         \u001b[0mstart_slice\u001b[0m\u001b[1;33m,\u001b[0m \u001b[0mend_slice\u001b[0m \u001b[1;33m=\u001b[0m \u001b[0mself\u001b[0m\u001b[1;33m.\u001b[0m\u001b[0mslice_locs\u001b[0m\u001b[1;33m(\u001b[0m\u001b[0mstart\u001b[0m\u001b[1;33m,\u001b[0m \u001b[0mend\u001b[0m\u001b[1;33m,\u001b[0m \u001b[0mstep\u001b[0m\u001b[1;33m=\u001b[0m\u001b[0mstep\u001b[0m\u001b[1;33m,\u001b[0m \u001b[0mkind\u001b[0m\u001b[1;33m=\u001b[0m\u001b[0mkind\u001b[0m\u001b[1;33m)\u001b[0m\u001b[1;33m\u001b[0m\u001b[1;33m\u001b[0m\u001b[0m\n\u001b[0m\u001b[0;32m   5278\u001b[0m \u001b[1;33m\u001b[0m\u001b[0m\n\u001b[0;32m   5279\u001b[0m         \u001b[1;31m# return a slice\u001b[0m\u001b[1;33m\u001b[0m\u001b[1;33m\u001b[0m\u001b[1;33m\u001b[0m\u001b[0m\n",
      "\u001b[1;32mc:\\users\\francis\\miniconda3\\envs\\bdf\\lib\\site-packages\\pandas\\core\\indexes\\base.py\u001b[0m in \u001b[0;36mslice_locs\u001b[1;34m(self, start, end, step, kind)\u001b[0m\n\u001b[0;32m   5480\u001b[0m         \u001b[0mend_slice\u001b[0m \u001b[1;33m=\u001b[0m \u001b[1;32mNone\u001b[0m\u001b[1;33m\u001b[0m\u001b[1;33m\u001b[0m\u001b[0m\n\u001b[0;32m   5481\u001b[0m         \u001b[1;32mif\u001b[0m \u001b[0mend\u001b[0m \u001b[1;32mis\u001b[0m \u001b[1;32mnot\u001b[0m \u001b[1;32mNone\u001b[0m\u001b[1;33m:\u001b[0m\u001b[1;33m\u001b[0m\u001b[1;33m\u001b[0m\u001b[0m\n\u001b[1;32m-> 5482\u001b[1;33m             \u001b[0mend_slice\u001b[0m \u001b[1;33m=\u001b[0m \u001b[0mself\u001b[0m\u001b[1;33m.\u001b[0m\u001b[0mget_slice_bound\u001b[0m\u001b[1;33m(\u001b[0m\u001b[0mend\u001b[0m\u001b[1;33m,\u001b[0m \u001b[1;34m\"right\"\u001b[0m\u001b[1;33m,\u001b[0m \u001b[0mkind\u001b[0m\u001b[1;33m)\u001b[0m\u001b[1;33m\u001b[0m\u001b[1;33m\u001b[0m\u001b[0m\n\u001b[0m\u001b[0;32m   5483\u001b[0m         \u001b[1;32mif\u001b[0m \u001b[0mend_slice\u001b[0m \u001b[1;32mis\u001b[0m \u001b[1;32mNone\u001b[0m\u001b[1;33m:\u001b[0m\u001b[1;33m\u001b[0m\u001b[1;33m\u001b[0m\u001b[0m\n\u001b[0;32m   5484\u001b[0m             \u001b[0mend_slice\u001b[0m \u001b[1;33m=\u001b[0m \u001b[0mlen\u001b[0m\u001b[1;33m(\u001b[0m\u001b[0mself\u001b[0m\u001b[1;33m)\u001b[0m\u001b[1;33m\u001b[0m\u001b[1;33m\u001b[0m\u001b[0m\n",
      "\u001b[1;32mc:\\users\\francis\\miniconda3\\envs\\bdf\\lib\\site-packages\\pandas\\core\\indexes\\base.py\u001b[0m in \u001b[0;36mget_slice_bound\u001b[1;34m(self, label, side, kind)\u001b[0m\n\u001b[0;32m   5406\u001b[0m                 )\n\u001b[0;32m   5407\u001b[0m             \u001b[1;32mif\u001b[0m \u001b[0misinstance\u001b[0m\u001b[1;33m(\u001b[0m\u001b[0mslc\u001b[0m\u001b[1;33m,\u001b[0m \u001b[0mnp\u001b[0m\u001b[1;33m.\u001b[0m\u001b[0mndarray\u001b[0m\u001b[1;33m)\u001b[0m\u001b[1;33m:\u001b[0m\u001b[1;33m\u001b[0m\u001b[1;33m\u001b[0m\u001b[0m\n\u001b[1;32m-> 5408\u001b[1;33m                 raise KeyError(\n\u001b[0m\u001b[0;32m   5409\u001b[0m                     \u001b[1;34mf\"Cannot get {side} slice bound for non-unique \"\u001b[0m\u001b[1;33m\u001b[0m\u001b[1;33m\u001b[0m\u001b[0m\n\u001b[0;32m   5410\u001b[0m                     \u001b[1;34mf\"label: {repr(original_label)}\"\u001b[0m\u001b[1;33m\u001b[0m\u001b[1;33m\u001b[0m\u001b[0m\n",
      "\u001b[1;31mKeyError\u001b[0m: \"Cannot get right slice bound for non-unique label: 'SAINTE-COLOMBE'\""
     ]
    }
   ],
   "source": [
    "# tentative d'accès à une plage d'index\n",
    "geo.loc[\"L'ABERGEMENT-CLEMENCIAT\":\"SAINTE-COLOMBE\"]"
   ]
  },
  {
   "cell_type": "code",
   "execution_count": 83,
   "metadata": {},
   "outputs": [
    {
     "data": {
      "text/plain": [
       "['TIDE- 00.ipynb',\n",
       " 'TIDE- 01 - pandas.ipynb',\n",
       " 'TIDE- 02 - pandas.ipynb',\n",
       " 'TIDE- 03 - pandas.ipynb',\n",
       " 'TIDE- 04 - matplotlib.ipynb',\n",
       " 'TIDE- 05 - matplotlib.ipynb',\n",
       " 'TIDE- 06 - pandas.ipynb',\n",
       " 'TIDE- 07 - pandas.ipynb',\n",
       " 'TIDE- 08 - pandas.ipynb',\n",
       " 'TIDE- 09 - pandas.ipynb']"
      ]
     },
     "execution_count": 83,
     "metadata": {},
     "output_type": "execute_result"
    }
   ],
   "source": [
    "import glob\n",
    "\n",
    "glob.glob('TIDE- 0*.ipynb')"
   ]
  },
  {
   "cell_type": "code",
   "execution_count": 90,
   "metadata": {},
   "outputs": [
    {
     "name": "stdout",
     "output_type": "stream",
     "text": [
      "../github ['.git', 'data', 'docs', 'notebooks', 'sessions'] ['ressources.md']\n",
      "../github\\ressources.md\n",
      "../github\\.git ['hooks', 'info', 'logs', 'objects', 'refs'] ['COMMIT_EDITMSG', 'config', 'description', 'FETCH_HEAD', 'HEAD', 'index', 'ORIG_HEAD']\n",
      "../github\\.git\\COMMIT_EDITMSG\n",
      "../github\\.git\\config\n",
      "../github\\.git\\description\n",
      "../github\\.git\\FETCH_HEAD\n",
      "../github\\.git\\HEAD\n",
      "../github\\.git\\index\n",
      "../github\\.git\\ORIG_HEAD\n",
      "../github\\.git\\hooks [] ['applypatch-msg.sample', 'commit-msg.sample', 'fsmonitor-watchman.sample', 'post-update.sample', 'pre-applypatch.sample', 'pre-commit.sample', 'pre-merge-commit.sample', 'pre-push.sample', 'pre-rebase.sample', 'pre-receive.sample', 'prepare-commit-msg.sample', 'update.sample']\n",
      "../github\\.git\\hooks\\applypatch-msg.sample\n",
      "../github\\.git\\hooks\\commit-msg.sample\n",
      "../github\\.git\\hooks\\fsmonitor-watchman.sample\n",
      "../github\\.git\\hooks\\post-update.sample\n",
      "../github\\.git\\hooks\\pre-applypatch.sample\n",
      "../github\\.git\\hooks\\pre-commit.sample\n",
      "../github\\.git\\hooks\\pre-merge-commit.sample\n",
      "../github\\.git\\hooks\\pre-push.sample\n",
      "../github\\.git\\hooks\\pre-rebase.sample\n",
      "../github\\.git\\hooks\\pre-receive.sample\n",
      "../github\\.git\\hooks\\prepare-commit-msg.sample\n",
      "../github\\.git\\hooks\\update.sample\n",
      "../github\\.git\\info [] ['exclude']\n",
      "../github\\.git\\info\\exclude\n",
      "../github\\.git\\logs ['refs'] ['HEAD']\n",
      "../github\\.git\\logs\\HEAD\n",
      "../github\\.git\\logs\\refs ['heads', 'remotes'] []\n",
      "../github\\.git\\logs\\refs\\heads [] ['master']\n",
      "../github\\.git\\logs\\refs\\heads\\master\n",
      "../github\\.git\\logs\\refs\\remotes ['origin'] []\n",
      "../github\\.git\\logs\\refs\\remotes\\origin [] ['master']\n",
      "../github\\.git\\logs\\refs\\remotes\\origin\\master\n",
      "../github\\.git\\objects ['07', '0c', '0e', '29', '2b', '2e', '33', '3d', '48', '4a', '56', '5c', '6d', '71', '7c', '7f', '81', '8e', '9a', '9c', 'a6', 'a7', 'a9', 'ab', 'b1', 'b7', 'bc', 'c7', 'cc', 'd7', 'd8', 'e3', 'e4', 'f8', 'ff', 'info', 'pack'] []\n",
      "../github\\.git\\objects\\07 [] ['25986be013fbae072313c9467d8801100d5bc8']\n",
      "../github\\.git\\objects\\07\\25986be013fbae072313c9467d8801100d5bc8\n",
      "../github\\.git\\objects\\0c [] ['eb70db98efc6d254f10b59adb122bb6a984eb0']\n",
      "../github\\.git\\objects\\0c\\eb70db98efc6d254f10b59adb122bb6a984eb0\n",
      "../github\\.git\\objects\\0e [] ['6d9f3a1328db6d1b24888a7ba1627b4804ff7e']\n",
      "../github\\.git\\objects\\0e\\6d9f3a1328db6d1b24888a7ba1627b4804ff7e\n",
      "../github\\.git\\objects\\29 [] ['47bb05f38151c8ed319ee06e7387e8659c288a']\n",
      "../github\\.git\\objects\\29\\47bb05f38151c8ed319ee06e7387e8659c288a\n",
      "../github\\.git\\objects\\2b [] ['638465dd2815ec27bca6b97db51f498f0e602a']\n",
      "../github\\.git\\objects\\2b\\638465dd2815ec27bca6b97db51f498f0e602a\n",
      "../github\\.git\\objects\\2e [] ['375c9b123981fd4e2301c25b853c1c79c139e9']\n",
      "../github\\.git\\objects\\2e\\375c9b123981fd4e2301c25b853c1c79c139e9\n",
      "../github\\.git\\objects\\33 [] ['623142e173fd2dc1425cf15e1a89f027e7eac7']\n",
      "../github\\.git\\objects\\33\\623142e173fd2dc1425cf15e1a89f027e7eac7\n",
      "../github\\.git\\objects\\3d [] ['b29cf734195829200acde045e5e6db17db383d']\n",
      "../github\\.git\\objects\\3d\\b29cf734195829200acde045e5e6db17db383d\n",
      "../github\\.git\\objects\\48 [] ['565693f9ef761b6f7ae324a26148b8799e3df8']\n",
      "../github\\.git\\objects\\48\\565693f9ef761b6f7ae324a26148b8799e3df8\n",
      "../github\\.git\\objects\\4a [] ['5649a6402fe0521e08dbfbcf3069b4800e5473']\n",
      "../github\\.git\\objects\\4a\\5649a6402fe0521e08dbfbcf3069b4800e5473\n",
      "../github\\.git\\objects\\56 [] ['7058bb7e9737e71e8e4b9842d7231f33436cc0']\n",
      "../github\\.git\\objects\\56\\7058bb7e9737e71e8e4b9842d7231f33436cc0\n",
      "../github\\.git\\objects\\5c [] ['da872f18752210925eecb0e0edeae713880312']\n",
      "../github\\.git\\objects\\5c\\da872f18752210925eecb0e0edeae713880312\n",
      "../github\\.git\\objects\\6d [] ['ff3b6f8588956c62711d9b890c7cabf812e846']\n",
      "../github\\.git\\objects\\6d\\ff3b6f8588956c62711d9b890c7cabf812e846\n",
      "../github\\.git\\objects\\71 [] ['f2179af62f351143f1bf5cac44dee070349b7c']\n",
      "../github\\.git\\objects\\71\\f2179af62f351143f1bf5cac44dee070349b7c\n",
      "../github\\.git\\objects\\7c [] ['54706e48c9b273f4eaf11501942c9fa55e5b37']\n",
      "../github\\.git\\objects\\7c\\54706e48c9b273f4eaf11501942c9fa55e5b37\n",
      "../github\\.git\\objects\\7f [] ['190da6ef35c567fede563d2fa498951b7e0ad0']\n",
      "../github\\.git\\objects\\7f\\190da6ef35c567fede563d2fa498951b7e0ad0\n",
      "../github\\.git\\objects\\81 [] ['6e4168403a0691161794312a1d89e9f078b4af']\n",
      "../github\\.git\\objects\\81\\6e4168403a0691161794312a1d89e9f078b4af\n",
      "../github\\.git\\objects\\8e [] ['936ac03baa955329c1d13067f2d05cf301a690']\n",
      "../github\\.git\\objects\\8e\\936ac03baa955329c1d13067f2d05cf301a690\n",
      "../github\\.git\\objects\\9a [] ['e78fdf2e108386317374866e6eb559871718d2']\n",
      "../github\\.git\\objects\\9a\\e78fdf2e108386317374866e6eb559871718d2\n",
      "../github\\.git\\objects\\9c [] ['8570f6d219154a1c5fe9da64cbb441addd2b47']\n",
      "../github\\.git\\objects\\9c\\8570f6d219154a1c5fe9da64cbb441addd2b47\n",
      "../github\\.git\\objects\\a6 [] ['4831abb205890fd536827304a19b37f4068260']\n",
      "../github\\.git\\objects\\a6\\4831abb205890fd536827304a19b37f4068260\n",
      "../github\\.git\\objects\\a7 [] ['6ef7419e95d8a0bc40f5282d33291b4bf48230']\n",
      "../github\\.git\\objects\\a7\\6ef7419e95d8a0bc40f5282d33291b4bf48230\n",
      "../github\\.git\\objects\\a9 [] ['e0de848172cab124971e1aa2c7373ccd310efe']\n",
      "../github\\.git\\objects\\a9\\e0de848172cab124971e1aa2c7373ccd310efe\n",
      "../github\\.git\\objects\\ab [] ['7c59c67495336af9d062ee80368a52120758f5']\n",
      "../github\\.git\\objects\\ab\\7c59c67495336af9d062ee80368a52120758f5\n",
      "../github\\.git\\objects\\b1 [] ['974b7585469fcf246555bc7bd2a2515a823a02']\n",
      "../github\\.git\\objects\\b1\\974b7585469fcf246555bc7bd2a2515a823a02\n",
      "../github\\.git\\objects\\b7 [] ['78a31dcfe295bc614e3d8b6019c1bd43f09e66']\n",
      "../github\\.git\\objects\\b7\\78a31dcfe295bc614e3d8b6019c1bd43f09e66\n",
      "../github\\.git\\objects\\bc [] ['c8fede9414da3a9b819263c6c235c18445416b']\n",
      "../github\\.git\\objects\\bc\\c8fede9414da3a9b819263c6c235c18445416b\n",
      "../github\\.git\\objects\\c7 [] ['25d41967d4d4b4835d8d7b7b52ee789cc36b56']\n",
      "../github\\.git\\objects\\c7\\25d41967d4d4b4835d8d7b7b52ee789cc36b56\n",
      "../github\\.git\\objects\\cc [] ['d3bff9c8993e4f818e17785f035353bdbbe28c']\n",
      "../github\\.git\\objects\\cc\\d3bff9c8993e4f818e17785f035353bdbbe28c\n",
      "../github\\.git\\objects\\d7 [] ['a21a3c0a9e5c516a07c54e54fd9f6a38984431']\n",
      "../github\\.git\\objects\\d7\\a21a3c0a9e5c516a07c54e54fd9f6a38984431\n",
      "../github\\.git\\objects\\d8 [] ['e2ab39437cefb6a6cc5cb70c7706a74028763f']\n",
      "../github\\.git\\objects\\d8\\e2ab39437cefb6a6cc5cb70c7706a74028763f\n",
      "../github\\.git\\objects\\e3 [] ['967e85d27c8e066051e0fefc9bcbb3fabc7e86']\n",
      "../github\\.git\\objects\\e3\\967e85d27c8e066051e0fefc9bcbb3fabc7e86\n",
      "../github\\.git\\objects\\e4 [] ['20bf9de400558357ed6c01b58ae28b9812c0d5']\n",
      "../github\\.git\\objects\\e4\\20bf9de400558357ed6c01b58ae28b9812c0d5\n",
      "../github\\.git\\objects\\f8 [] ['3cd86b897f1e7d07c67946dca2e3a260fee8d7']\n",
      "../github\\.git\\objects\\f8\\3cd86b897f1e7d07c67946dca2e3a260fee8d7\n",
      "../github\\.git\\objects\\ff [] ['0dd2eb215bdce3704726cba6286fdc88e80fa1']\n",
      "../github\\.git\\objects\\ff\\0dd2eb215bdce3704726cba6286fdc88e80fa1\n",
      "../github\\.git\\objects\\info [] []\n",
      "../github\\.git\\objects\\pack [] []\n",
      "../github\\.git\\refs ['heads', 'remotes', 'tags'] []\n",
      "../github\\.git\\refs\\heads [] ['master']\n",
      "../github\\.git\\refs\\heads\\master\n",
      "../github\\.git\\refs\\remotes ['origin'] []\n",
      "../github\\.git\\refs\\remotes\\origin [] ['master']\n",
      "../github\\.git\\refs\\remotes\\origin\\master\n",
      "../github\\.git\\refs\\tags [] []\n",
      "../github\\data [] ['correspondance-code-insee-code-postal.csv', 'FranceTHD_Open_Data_Observatoire_2017_T2.xlsx']\n",
      "../github\\data\\correspondance-code-insee-code-postal.csv\n",
      "../github\\data\\FranceTHD_Open_Data_Observatoire_2017_T2.xlsx\n",
      "../github\\docs [] ['Présentation Python TIDE 2021-10-14.pdf']\n",
      "../github\\docs\\Présentation Python TIDE 2021-10-14.pdf\n",
      "../github\\notebooks [] ['TIDE- 00.ipynb', 'TIDE- 01 - pandas.ipynb', 'TIDE- 02 - pandas.ipynb', 'TIDE- 03 - pandas.ipynb', 'TIDE- 04 - matplotlib.ipynb', 'TIDE- 05 - matplotlib.ipynb', 'up1.jpg']\n",
      "../github\\notebooks\\TIDE- 00.ipynb\n",
      "../github\\notebooks\\TIDE- 01 - pandas.ipynb\n",
      "../github\\notebooks\\TIDE- 02 - pandas.ipynb\n",
      "../github\\notebooks\\TIDE- 03 - pandas.ipynb\n",
      "../github\\notebooks\\TIDE- 04 - matplotlib.ipynb\n",
      "../github\\notebooks\\TIDE- 05 - matplotlib.ipynb\n",
      "../github\\notebooks\\up1.jpg\n",
      "../github\\sessions [] ['Présentation Python TIDE 2021-10-14.pdf', 'TIDE- 01 - pandas.ipynb']\n",
      "../github\\sessions\\Présentation Python TIDE 2021-10-14.pdf\n",
      "../github\\sessions\\TIDE- 01 - pandas.ipynb\n"
     ]
    }
   ],
   "source": [
    "import os\n",
    "\n",
    "for root, dirs, files in os.walk('../github'):\n",
    "    print(root, dirs, files)\n",
    "    for file in files:\n",
    "        print(os.path.join(root, file))"
   ]
  }
 ],
 "metadata": {
  "anaconda-cloud": {},
  "kernelspec": {
   "display_name": "Python 3",
   "language": "python",
   "name": "python3"
  },
  "language_info": {
   "codemirror_mode": {
    "name": "ipython",
    "version": 3
   },
   "file_extension": ".py",
   "mimetype": "text/x-python",
   "name": "python",
   "nbconvert_exporter": "python",
   "pygments_lexer": "ipython3",
   "version": "3.8.10"
  }
 },
 "nbformat": 4,
 "nbformat_minor": 1
}
