{
 "cells": [
  {
   "cell_type": "markdown",
   "metadata": {},
   "source": [
    "# Master TIDE - Conférences Python 2021\n",
    "\n",
    "Francis Wolinski\n",
    "\n",
    "&copy; 2021 Yotta Conseil"
   ]
  },
  {
   "cell_type": "code",
   "execution_count": 1,
   "metadata": {},
   "outputs": [],
   "source": [
    "import numpy as np\n",
    "import pandas as pd\n",
    "import matplotlib.pyplot as plt\n",
    "#%matplotlib inline\n",
    "\n",
    "# display options\n",
    "pd.set_option(\"display.max_rows\", 20)"
   ]
  },
  {
   "cell_type": "markdown",
   "metadata": {},
   "source": [
    "# 10. Séries temporelles\n",
    "\n",
    "\n",
    "Introduction aux séries temporelles avec Python et pandas.\n",
    "\n",
    "Le module standard `datetime` permet de manipuler des données temporelles avec Python.\n",
    "\n",
    "Il existe d'autres modules avec le même objectif: `calendar`, `dateutil`, `pytz`, ...\n",
    "\n",
    "Le module `datetime` fournit différents types de données temporelles :\n",
    "\n",
    "- **date**: date (année, mois, jour) dans le caledrier Grégorien\n",
    "- **time**: temps non rattaché à une date (heures, minutes, secondes, microsecondes)\n",
    "- **datetime**: horodatage (date + temps)\n",
    "- **timedelta**: durée, difference entre 2 dates ou 2 temps (jours, heures, minutes, secondes, microsecondes)\n",
    "- **tzinfo**: gestion des fuseaux horaires"
   ]
  },
  {
   "cell_type": "code",
   "execution_count": 2,
   "metadata": {},
   "outputs": [],
   "source": [
    "# import de la librairie datetime\n",
    "import datetime"
   ]
  },
  {
   "cell_type": "markdown",
   "metadata": {},
   "source": [
    "## 10.1 Objets temporels Python\n",
    "\n",
    "### Date"
   ]
  },
  {
   "cell_type": "code",
   "execution_count": 3,
   "metadata": {},
   "outputs": [
    {
     "data": {
      "text/plain": [
       "datetime.date(2021, 11, 25)"
      ]
     },
     "execution_count": 3,
     "metadata": {},
     "output_type": "execute_result"
    }
   ],
   "source": [
    "# date\n",
    "today = datetime.date.today()\n",
    "today"
   ]
  },
  {
   "cell_type": "markdown",
   "metadata": {},
   "source": [
    "### Datetime"
   ]
  },
  {
   "cell_type": "code",
   "execution_count": 4,
   "metadata": {},
   "outputs": [
    {
     "data": {
      "text/plain": [
       "datetime.datetime(2021, 11, 25, 14, 10, 38, 29282)"
      ]
     },
     "execution_count": 4,
     "metadata": {},
     "output_type": "execute_result"
    }
   ],
   "source": [
    "# datetime\n",
    "now = datetime.datetime.now()\n",
    "now"
   ]
  },
  {
   "cell_type": "code",
   "execution_count": 5,
   "metadata": {},
   "outputs": [
    {
     "data": {
      "text/plain": [
       "datetime.datetime(2021, 11, 25, 13, 11, 14, 139333)"
      ]
     },
     "execution_count": 5,
     "metadata": {},
     "output_type": "execute_result"
    }
   ],
   "source": [
    "# datetime en temps universel\n",
    "now_utc = datetime.datetime.utcnow()\n",
    "now_utc"
   ]
  },
  {
   "cell_type": "code",
   "execution_count": 6,
   "metadata": {},
   "outputs": [
    {
     "data": {
      "text/plain": [
       "datetime.date(2021, 8, 17)"
      ]
     },
     "execution_count": 6,
     "metadata": {},
     "output_type": "execute_result"
    }
   ],
   "source": [
    "today - datetime.timedelta(100)"
   ]
  },
  {
   "cell_type": "code",
   "execution_count": 7,
   "metadata": {},
   "outputs": [
    {
     "data": {
      "text/plain": [
       "datetime.date(2022, 3, 5)"
      ]
     },
     "execution_count": 7,
     "metadata": {},
     "output_type": "execute_result"
    }
   ],
   "source": [
    "today + datetime.timedelta(100)"
   ]
  },
  {
   "cell_type": "code",
   "execution_count": 8,
   "metadata": {},
   "outputs": [
    {
     "data": {
      "text/plain": [
       "datetime.timedelta(days=328)"
      ]
     },
     "execution_count": 8,
     "metadata": {},
     "output_type": "execute_result"
    }
   ],
   "source": [
    "today - datetime.date(2021, 1, 1)"
   ]
  },
  {
   "cell_type": "markdown",
   "metadata": {},
   "source": [
    "### Fuseau horaire\n",
    "\n",
    "Le module standard `pytz` gère les fuseaux horaires.\n",
    "\n",
    "Un objet de type `datetime` peut être converti avec la méthode `astimezone()` dans un objet `datetime` d'un autre fuseau horaire.\n",
    "\n",
    "Il est recommandé de travailler en temps universel (UTC) pour pallier la difficulté de gérer des objets de temps de différents fuseaux horaires."
   ]
  },
  {
   "cell_type": "code",
   "execution_count": 10,
   "metadata": {},
   "outputs": [],
   "source": [
    "# import pytz\n",
    "from pytz import timezone"
   ]
  },
  {
   "cell_type": "code",
   "execution_count": 11,
   "metadata": {},
   "outputs": [
    {
     "data": {
      "text/plain": [
       "<DstTzInfo 'Asia/Shanghai' LMT+8:06:00 STD>"
      ]
     },
     "execution_count": 11,
     "metadata": {},
     "output_type": "execute_result"
    }
   ],
   "source": [
    "# instance de fuseau horaire\n",
    "tz = timezone('Asia/Shanghai')\n",
    "tz"
   ]
  },
  {
   "cell_type": "code",
   "execution_count": 12,
   "metadata": {},
   "outputs": [
    {
     "data": {
      "text/plain": [
       "datetime.datetime(2021, 11, 25, 14, 10, 38, 29282)"
      ]
     },
     "execution_count": 12,
     "metadata": {},
     "output_type": "execute_result"
    }
   ],
   "source": [
    "# now\n",
    "now"
   ]
  },
  {
   "cell_type": "code",
   "execution_count": 13,
   "metadata": {},
   "outputs": [
    {
     "data": {
      "text/plain": [
       "datetime.datetime(2021, 11, 25, 21, 10, 38, 29282, tzinfo=<DstTzInfo 'Asia/Shanghai' CST+8:00:00 STD>)"
      ]
     },
     "execution_count": 13,
     "metadata": {},
     "output_type": "execute_result"
    }
   ],
   "source": [
    "# convertit une datetime avec un objet de type fuseau horaire\n",
    "now.astimezone(tz)"
   ]
  },
  {
   "cell_type": "markdown",
   "metadata": {},
   "source": [
    "## 10.2 Ecriture et lecture\n",
    "\n",
    "La méthode `strftime()` et la fonction `strptime()`  permettent d'écrire et de lire des dates dans différents formats avec une codificaton empruntée au langage C.\n",
    "\n",
    "Le nombre de directives disponibles révèle la complexité du sujet.\n",
    "\n",
    "Directives | Commentaires\n",
    "- | -\n",
    "%a | Day of the week abbreviated\n",
    "%A | Day of the week\n",
    "%w | Day of the week 0 = Sunday ... 6 = Saturday\n",
    "%d | Day of month on 2 digits 01, 02, ..., 31\n",
    "%j | Day of year on 3 digits 001, 002, ..., 366\n",
    "%b | Month abbreviated\n",
    "%B | Month name\n",
    "%m | Month on 2 digits 01, 02, ..., 12\n",
    "%U | Number of week in year (Sunday = first day)\n",
    "%W | Number of week in year (Monday = first day)\n",
    "%y | Year without the century on 2 digits 00, 01, ..., 99\t \n",
    "%Y | Year with the century on 4 digits 0001, 0002, ..., 2018, 2019, ..., 9998, 9999\n",
    "%H | Hour over 24 00, 01, ..., 23\n",
    "%I | Hour over 12 01, 02, ..., 12\n",
    "%p | AM or PM\n",
    "%M | Minute on 2 digits 00, 01, ..., 59\n",
    "%S | Second on 2 digits 00, 01, ..., 59\n",
    "%f | Microsecond on 6 digits 000000, 000001, ..., 999999\n",
    "%z | UTC offset +HHMM or -HHMM\n",
    "%Z | Time zone \n",
    "%c | Representation date and temps\n",
    "%x | Representation date\n",
    "%X | Representation time\n",
    "%% | Character %"
   ]
  },
  {
   "cell_type": "code",
   "execution_count": 14,
   "metadata": {},
   "outputs": [
    {
     "data": {
      "text/plain": [
       "datetime.datetime(2021, 11, 25, 14, 21, 48, 172785)"
      ]
     },
     "execution_count": 14,
     "metadata": {},
     "output_type": "execute_result"
    }
   ],
   "source": [
    "# datetime\n",
    "now = datetime.datetime.now()\n",
    "now"
   ]
  },
  {
   "cell_type": "code",
   "execution_count": 17,
   "metadata": {},
   "outputs": [
    {
     "data": {
      "text/plain": [
       "'Thursday 25/11/2021'"
      ]
     },
     "execution_count": 17,
     "metadata": {},
     "output_type": "execute_result"
    }
   ],
   "source": [
    "# jour de la semaine\n",
    "now.strftime(\"%A %d/%m/%Y\")"
   ]
  },
  {
   "cell_type": "markdown",
   "metadata": {},
   "source": [
    "<div class=\"alert alert-success\">\n",
    "<b>Exercice 1</b>\n",
    "<ul>\n",
    "<li>Afficher la date du jour dans le format: `AAAA-MM-JJ/HH:MM:SS`</li>\n",
    "</ul>\n",
    "</div>"
   ]
  },
  {
   "cell_type": "code",
   "execution_count": 19,
   "metadata": {},
   "outputs": [
    {
     "data": {
      "text/plain": [
       "'2021-11-25/14:21:48'"
      ]
     },
     "execution_count": 19,
     "metadata": {},
     "output_type": "execute_result"
    }
   ],
   "source": [
    "now.strftime(\"%Y-%m-%d/%H:%M:%S\")"
   ]
  },
  {
   "cell_type": "markdown",
   "metadata": {},
   "source": [
    "Le module `locale` permet de gérer l'affichage selon la langue, par défaut en anglais."
   ]
  },
  {
   "cell_type": "code",
   "execution_count": 28,
   "metadata": {},
   "outputs": [
    {
     "name": "stdout",
     "output_type": "stream",
     "text": [
      "novembre jeudi 25/11/2021\n"
     ]
    },
    {
     "data": {
      "text/plain": [
       "'en'"
      ]
     },
     "execution_count": 28,
     "metadata": {},
     "output_type": "execute_result"
    }
   ],
   "source": [
    "import locale\n",
    "#locale.setlocale(locale.LC_ALL, 'fr') # français\n",
    "locale.setlocale(locale.LC_ALL, 'fr_FR') # français\n",
    "#locale.setlocale(locale.LC_ALL, 'fr_FR.UTF-8') # français\n",
    "\n",
    "print(now.strftime(\"%B %A %d/%m/%Y\"))\n",
    "\n",
    "locale.setlocale(locale.LC_ALL, 'en') # anglais\n",
    "#locale.setlocale(locale.LC_ALL, 'en_US') # anglais"
   ]
  },
  {
   "cell_type": "code",
   "execution_count": 29,
   "metadata": {},
   "outputs": [
    {
     "name": "stdout",
     "output_type": "stream",
     "text": [
      "November Thursday 25/11/2021\n"
     ]
    }
   ],
   "source": [
    "#locale.setlocale(locale.LC_ALL, 'hi')\n",
    "print(now.strftime(\"%B %A %d/%m/%Y\"))"
   ]
  },
  {
   "cell_type": "markdown",
   "metadata": {},
   "source": [
    "Inversement la fonction `strptime()` prend une chaine de caractères et un format de date en arguments et retourne un objet temporel."
   ]
  },
  {
   "cell_type": "code",
   "execution_count": 30,
   "metadata": {},
   "outputs": [
    {
     "data": {
      "text/plain": [
       "'15:00 26/03/2020'"
      ]
     },
     "execution_count": 30,
     "metadata": {},
     "output_type": "execute_result"
    }
   ],
   "source": [
    "# lecture à partir du format: AA-MM-DD-HH-MM\n",
    "# écriture dans le format : HH:MM DD/MM/YYYY\n",
    "var = datetime.datetime.strptime(\"20-03-26-15-00\", \"%y-%m-%d-%H-%M\")\n",
    "var.strftime(\"%H:%M %d/%m/%Y\")"
   ]
  },
  {
   "cell_type": "markdown",
   "metadata": {},
   "source": [
    "<div class=\"alert alert-success\">\n",
    "<b>Exercice 2</b>\n",
    "<ul>\n",
    "<li>Lire une date au format ISO : `AAAA-MM-JJTHH:MM:SS`, par exemple 2020-03-26T15:00:00</li>\n",
    "</ul>\n",
    "</div>"
   ]
  },
  {
   "cell_type": "code",
   "execution_count": 34,
   "metadata": {},
   "outputs": [
    {
     "data": {
      "text/plain": [
       "datetime.datetime(2020, 3, 26, 15, 0)"
      ]
     },
     "execution_count": 34,
     "metadata": {},
     "output_type": "execute_result"
    }
   ],
   "source": [
    "datetime.datetime.strptime(\"2020-03-26T15:00:00\", \"%Y-%m-%dT%H:%M:%S\")"
   ]
  },
  {
   "cell_type": "markdown",
   "metadata": {},
   "source": [
    "<div class=\"alert alert-success\">\n",
    "<b>Exercice 3</b>\n",
    "<ul>\n",
    "    <li>Charger le fichier 'cities500.zip', combien y a-t-il de fuseaux horaires différents ?</li>\n",
    "    <li>Convertir la colonne 'timezone' en objets de type fuseau horaire.</li>\n",
    "    <li>Prendre l'horodatage du jour et la convertir selon chaque fuseau horaire et produire une chaine au format : '%Y-%m-%d %H:%M:%S'.</li>\n",
    "    <li> Il y a 24 heure dans une journée, combien y a-t-il de fuseaux horaires différents ?</li>\n",
    "</ul>\n",
    "</div>"
   ]
  },
  {
   "cell_type": "code",
   "execution_count": 35,
   "metadata": {},
   "outputs": [
    {
     "data": {
      "text/html": [
       "<div>\n",
       "<style scoped>\n",
       "    .dataframe tbody tr th:only-of-type {\n",
       "        vertical-align: middle;\n",
       "    }\n",
       "\n",
       "    .dataframe tbody tr th {\n",
       "        vertical-align: top;\n",
       "    }\n",
       "\n",
       "    .dataframe thead th {\n",
       "        text-align: right;\n",
       "    }\n",
       "</style>\n",
       "<table border=\"1\" class=\"dataframe\">\n",
       "  <thead>\n",
       "    <tr style=\"text-align: right;\">\n",
       "      <th></th>\n",
       "      <th>geonameid</th>\n",
       "      <th>name</th>\n",
       "      <th>asciiname</th>\n",
       "      <th>alternatenames</th>\n",
       "      <th>latitude</th>\n",
       "      <th>longitude</th>\n",
       "      <th>feature class</th>\n",
       "      <th>feature code</th>\n",
       "      <th>country code</th>\n",
       "      <th>cc2</th>\n",
       "      <th>admin1 code</th>\n",
       "      <th>admin2 code</th>\n",
       "      <th>admin3 code</th>\n",
       "      <th>admin4 code</th>\n",
       "      <th>population</th>\n",
       "      <th>elevation</th>\n",
       "      <th>dem</th>\n",
       "      <th>timezone</th>\n",
       "      <th>modification date</th>\n",
       "    </tr>\n",
       "  </thead>\n",
       "  <tbody>\n",
       "    <tr>\n",
       "      <th>0</th>\n",
       "      <td>3038999</td>\n",
       "      <td>Soldeu</td>\n",
       "      <td>Soldeu</td>\n",
       "      <td>NaN</td>\n",
       "      <td>42.57688</td>\n",
       "      <td>1.66769</td>\n",
       "      <td>P</td>\n",
       "      <td>PPL</td>\n",
       "      <td>AD</td>\n",
       "      <td>NaN</td>\n",
       "      <td>02</td>\n",
       "      <td>NaN</td>\n",
       "      <td>NaN</td>\n",
       "      <td>NaN</td>\n",
       "      <td>602</td>\n",
       "      <td>NaN</td>\n",
       "      <td>1832.0</td>\n",
       "      <td>Europe/Andorra</td>\n",
       "      <td>2017-11-06</td>\n",
       "    </tr>\n",
       "    <tr>\n",
       "      <th>1</th>\n",
       "      <td>3039154</td>\n",
       "      <td>El Tarter</td>\n",
       "      <td>El Tarter</td>\n",
       "      <td>Ehl Tarter,Эл Тартер</td>\n",
       "      <td>42.57952</td>\n",
       "      <td>1.65362</td>\n",
       "      <td>P</td>\n",
       "      <td>PPL</td>\n",
       "      <td>AD</td>\n",
       "      <td>NaN</td>\n",
       "      <td>02</td>\n",
       "      <td>NaN</td>\n",
       "      <td>NaN</td>\n",
       "      <td>NaN</td>\n",
       "      <td>1052</td>\n",
       "      <td>NaN</td>\n",
       "      <td>1721.0</td>\n",
       "      <td>Europe/Andorra</td>\n",
       "      <td>2012-11-03</td>\n",
       "    </tr>\n",
       "    <tr>\n",
       "      <th>2</th>\n",
       "      <td>3039163</td>\n",
       "      <td>Sant Julià de Lòria</td>\n",
       "      <td>Sant Julia de Loria</td>\n",
       "      <td>San Julia,San Julià,Sant Julia de Loria,Sant J...</td>\n",
       "      <td>42.46372</td>\n",
       "      <td>1.49129</td>\n",
       "      <td>P</td>\n",
       "      <td>PPLA</td>\n",
       "      <td>AD</td>\n",
       "      <td>NaN</td>\n",
       "      <td>06</td>\n",
       "      <td>NaN</td>\n",
       "      <td>NaN</td>\n",
       "      <td>NaN</td>\n",
       "      <td>8022</td>\n",
       "      <td>NaN</td>\n",
       "      <td>921.0</td>\n",
       "      <td>Europe/Andorra</td>\n",
       "      <td>2013-11-23</td>\n",
       "    </tr>\n",
       "    <tr>\n",
       "      <th>3</th>\n",
       "      <td>3039604</td>\n",
       "      <td>Pas de la Casa</td>\n",
       "      <td>Pas de la Casa</td>\n",
       "      <td>Pas de la Kasa,Пас де ла Каса</td>\n",
       "      <td>42.54277</td>\n",
       "      <td>1.73361</td>\n",
       "      <td>P</td>\n",
       "      <td>PPL</td>\n",
       "      <td>AD</td>\n",
       "      <td>NaN</td>\n",
       "      <td>03</td>\n",
       "      <td>NaN</td>\n",
       "      <td>NaN</td>\n",
       "      <td>NaN</td>\n",
       "      <td>2363</td>\n",
       "      <td>2050.0</td>\n",
       "      <td>2106.0</td>\n",
       "      <td>Europe/Andorra</td>\n",
       "      <td>2008-06-09</td>\n",
       "    </tr>\n",
       "    <tr>\n",
       "      <th>4</th>\n",
       "      <td>3039678</td>\n",
       "      <td>Ordino</td>\n",
       "      <td>Ordino</td>\n",
       "      <td>Ordino,ao er di nuo,orudino jiao qu,Ордино,オルデ...</td>\n",
       "      <td>42.55623</td>\n",
       "      <td>1.53319</td>\n",
       "      <td>P</td>\n",
       "      <td>PPLA</td>\n",
       "      <td>AD</td>\n",
       "      <td>NaN</td>\n",
       "      <td>05</td>\n",
       "      <td>NaN</td>\n",
       "      <td>NaN</td>\n",
       "      <td>NaN</td>\n",
       "      <td>3066</td>\n",
       "      <td>NaN</td>\n",
       "      <td>1296.0</td>\n",
       "      <td>Europe/Andorra</td>\n",
       "      <td>2018-10-26</td>\n",
       "    </tr>\n",
       "  </tbody>\n",
       "</table>\n",
       "</div>"
      ],
      "text/plain": [
       "   geonameid                 name            asciiname  \\\n",
       "0    3038999               Soldeu               Soldeu   \n",
       "1    3039154            El Tarter            El Tarter   \n",
       "2    3039163  Sant Julià de Lòria  Sant Julia de Loria   \n",
       "3    3039604       Pas de la Casa       Pas de la Casa   \n",
       "4    3039678               Ordino               Ordino   \n",
       "\n",
       "                                      alternatenames  latitude  longitude  \\\n",
       "0                                                NaN  42.57688    1.66769   \n",
       "1                               Ehl Tarter,Эл Тартер  42.57952    1.65362   \n",
       "2  San Julia,San Julià,Sant Julia de Loria,Sant J...  42.46372    1.49129   \n",
       "3                      Pas de la Kasa,Пас де ла Каса  42.54277    1.73361   \n",
       "4  Ordino,ao er di nuo,orudino jiao qu,Ордино,オルデ...  42.55623    1.53319   \n",
       "\n",
       "  feature class feature code country code  cc2 admin1 code admin2 code  \\\n",
       "0             P          PPL           AD  NaN          02         NaN   \n",
       "1             P          PPL           AD  NaN          02         NaN   \n",
       "2             P         PPLA           AD  NaN          06         NaN   \n",
       "3             P          PPL           AD  NaN          03         NaN   \n",
       "4             P         PPLA           AD  NaN          05         NaN   \n",
       "\n",
       "  admin3 code admin4 code  population  elevation     dem        timezone  \\\n",
       "0         NaN         NaN         602        NaN  1832.0  Europe/Andorra   \n",
       "1         NaN         NaN        1052        NaN  1721.0  Europe/Andorra   \n",
       "2         NaN         NaN        8022        NaN   921.0  Europe/Andorra   \n",
       "3         NaN         NaN        2363     2050.0  2106.0  Europe/Andorra   \n",
       "4         NaN         NaN        3066        NaN  1296.0  Europe/Andorra   \n",
       "\n",
       "  modification date  \n",
       "0        2017-11-06  \n",
       "1        2012-11-03  \n",
       "2        2013-11-23  \n",
       "3        2008-06-09  \n",
       "4        2018-10-26  "
      ]
     },
     "execution_count": 35,
     "metadata": {},
     "output_type": "execute_result"
    }
   ],
   "source": [
    "# cities500.txt\n",
    "# http://download.geonames.org/export/dump/cities500.zip\n",
    "df = pd.read_csv('cities500.zip',\n",
    "                   sep='\\t',\n",
    "                   header=None,\n",
    "                   names=['geonameid', 'name', 'asciiname', 'alternatenames', 'latitude', 'longitude', 'feature class', 'feature code', 'country code', 'cc2', 'admin1 code', 'admin2 code', 'admin3 code', 'admin4 code', 'population', 'elevation', 'dem', 'timezone', 'modification date'],\n",
    "                   dtype={'admin1 code': str, 'admin2 code': str, 'admin3 code': str, 'admin4 code': str},\n",
    "                   keep_default_na=False,\n",
    "                   na_values=['', -9999])\n",
    "df.head()"
   ]
  },
  {
   "cell_type": "code",
   "execution_count": 36,
   "metadata": {},
   "outputs": [
    {
     "data": {
      "text/plain": [
       "400"
      ]
     },
     "execution_count": 36,
     "metadata": {},
     "output_type": "execute_result"
    }
   ],
   "source": [
    "df['timezone'].nunique()"
   ]
  },
  {
   "cell_type": "code",
   "execution_count": 37,
   "metadata": {},
   "outputs": [
    {
     "data": {
      "text/plain": [
       "array(['Europe/Andorra', 'Europe/Andorra', 'Europe/Andorra', ...,\n",
       "       'Africa/Harare', 'Africa/Harare', 'Africa/Harare'], dtype=object)"
      ]
     },
     "execution_count": 37,
     "metadata": {},
     "output_type": "execute_result"
    }
   ],
   "source": [
    "df['timezone'].values"
   ]
  },
  {
   "cell_type": "code",
   "execution_count": 39,
   "metadata": {},
   "outputs": [
    {
     "data": {
      "text/plain": [
       "0         Europe/Andorra\n",
       "1         Europe/Andorra\n",
       "2         Europe/Andorra\n",
       "3         Europe/Andorra\n",
       "4         Europe/Andorra\n",
       "               ...      \n",
       "197244     Africa/Harare\n",
       "197245     Africa/Harare\n",
       "197246     Africa/Harare\n",
       "197247     Africa/Harare\n",
       "197248     Africa/Harare\n",
       "Name: timezone, Length: 197249, dtype: object"
      ]
     },
     "execution_count": 39,
     "metadata": {},
     "output_type": "execute_result"
    }
   ],
   "source": [
    "# df = df.loc[~df['timezone'].isin(['America/Nuuk'])]\n",
    "timezones = df['timezone'].apply(timezone)\n",
    "timezones"
   ]
  },
  {
   "cell_type": "code",
   "execution_count": 40,
   "metadata": {},
   "outputs": [
    {
     "data": {
      "text/plain": [
       "array([<DstTzInfo 'Europe/Andorra' LMT+0:06:00 STD>,\n",
       "       <DstTzInfo 'Europe/Andorra' LMT+0:06:00 STD>,\n",
       "       <DstTzInfo 'Europe/Andorra' LMT+0:06:00 STD>, ...,\n",
       "       <DstTzInfo 'Africa/Harare' LMT+2:10:00 STD>,\n",
       "       <DstTzInfo 'Africa/Harare' LMT+2:10:00 STD>,\n",
       "       <DstTzInfo 'Africa/Harare' LMT+2:10:00 STD>], dtype=object)"
      ]
     },
     "execution_count": 40,
     "metadata": {},
     "output_type": "execute_result"
    }
   ],
   "source": [
    "timezones.values"
   ]
  },
  {
   "cell_type": "code",
   "execution_count": 41,
   "metadata": {},
   "outputs": [
    {
     "data": {
      "text/plain": [
       "datetime.datetime(2021, 11, 25, 14, 21, 48, 172785)"
      ]
     },
     "execution_count": 41,
     "metadata": {},
     "output_type": "execute_result"
    }
   ],
   "source": [
    "now"
   ]
  },
  {
   "cell_type": "code",
   "execution_count": 43,
   "metadata": {},
   "outputs": [
    {
     "data": {
      "text/plain": [
       "0         2021-11-25 14:21:48.172785+01:00\n",
       "1         2021-11-25 14:21:48.172785+01:00\n",
       "2         2021-11-25 14:21:48.172785+01:00\n",
       "3         2021-11-25 14:21:48.172785+01:00\n",
       "4         2021-11-25 14:21:48.172785+01:00\n",
       "                        ...               \n",
       "197244    2021-11-25 15:21:48.172785+02:00\n",
       "197245    2021-11-25 15:21:48.172785+02:00\n",
       "197246    2021-11-25 15:21:48.172785+02:00\n",
       "197247    2021-11-25 15:21:48.172785+02:00\n",
       "197248    2021-11-25 15:21:48.172785+02:00\n",
       "Name: timezone, Length: 197249, dtype: object"
      ]
     },
     "execution_count": 43,
     "metadata": {},
     "output_type": "execute_result"
    }
   ],
   "source": [
    "heures = timezones.apply(lambda tz: now.astimezone(tz))\n",
    "heures"
   ]
  },
  {
   "cell_type": "code",
   "execution_count": 44,
   "metadata": {},
   "outputs": [
    {
     "data": {
      "text/plain": [
       "0         2021-11-25 14:21:48.172785+01:00\n",
       "1         2021-11-25 14:21:48.172785+01:00\n",
       "2         2021-11-25 14:21:48.172785+01:00\n",
       "3         2021-11-25 14:21:48.172785+01:00\n",
       "4         2021-11-25 14:21:48.172785+01:00\n",
       "                        ...               \n",
       "197244    2021-11-25 15:21:48.172785+02:00\n",
       "197245    2021-11-25 15:21:48.172785+02:00\n",
       "197246    2021-11-25 15:21:48.172785+02:00\n",
       "197247    2021-11-25 15:21:48.172785+02:00\n",
       "197248    2021-11-25 15:21:48.172785+02:00\n",
       "Name: timezone, Length: 197249, dtype: object"
      ]
     },
     "execution_count": 44,
     "metadata": {},
     "output_type": "execute_result"
    }
   ],
   "source": [
    "timezones.apply(now.astimezone)"
   ]
  },
  {
   "cell_type": "code",
   "execution_count": 45,
   "metadata": {},
   "outputs": [
    {
     "data": {
      "text/plain": [
       "array([datetime.datetime(2021, 11, 25, 14, 21, 48, 172785, tzinfo=<DstTzInfo 'Europe/Andorra' CET+1:00:00 STD>),\n",
       "       datetime.datetime(2021, 11, 25, 14, 21, 48, 172785, tzinfo=<DstTzInfo 'Europe/Andorra' CET+1:00:00 STD>),\n",
       "       datetime.datetime(2021, 11, 25, 14, 21, 48, 172785, tzinfo=<DstTzInfo 'Europe/Andorra' CET+1:00:00 STD>),\n",
       "       ...,\n",
       "       datetime.datetime(2021, 11, 25, 15, 21, 48, 172785, tzinfo=<DstTzInfo 'Africa/Harare' CAT+2:00:00 STD>),\n",
       "       datetime.datetime(2021, 11, 25, 15, 21, 48, 172785, tzinfo=<DstTzInfo 'Africa/Harare' CAT+2:00:00 STD>),\n",
       "       datetime.datetime(2021, 11, 25, 15, 21, 48, 172785, tzinfo=<DstTzInfo 'Africa/Harare' CAT+2:00:00 STD>)],\n",
       "      dtype=object)"
      ]
     },
     "execution_count": 45,
     "metadata": {},
     "output_type": "execute_result"
    }
   ],
   "source": [
    "heures.values"
   ]
  },
  {
   "cell_type": "code",
   "execution_count": 48,
   "metadata": {},
   "outputs": [
    {
     "data": {
      "text/plain": [
       "36"
      ]
     },
     "execution_count": 48,
     "metadata": {},
     "output_type": "execute_result"
    }
   ],
   "source": [
    "heures.apply(lambda x: x.strftime(\"%Y-%m-%d %H:%M:%S\")).nunique()"
   ]
  },
  {
   "cell_type": "markdown",
   "metadata": {},
   "source": [
    "## 10.3 Séries temporelles\n",
    "\n",
    "Le librairie `pandas` gère les séries temporelles.\n",
    "\n",
    "Nous allons introduire quelques notions :\n",
    "- lecture de données temporelles\n",
    "- accès aux données temporelles\n",
    "- calcul d'agrégats temporels\n",
    "- graphiques et fenêtres glissantes\n",
    "\n",
    "### Chargement et préparation des données"
   ]
  },
  {
   "cell_type": "code",
   "execution_count": 52,
   "metadata": {},
   "outputs": [
    {
     "data": {
      "text/html": [
       "<div>\n",
       "<style scoped>\n",
       "    .dataframe tbody tr th:only-of-type {\n",
       "        vertical-align: middle;\n",
       "    }\n",
       "\n",
       "    .dataframe tbody tr th {\n",
       "        vertical-align: top;\n",
       "    }\n",
       "\n",
       "    .dataframe thead th {\n",
       "        text-align: right;\n",
       "    }\n",
       "</style>\n",
       "<table border=\"1\" class=\"dataframe\">\n",
       "  <thead>\n",
       "    <tr style=\"text-align: right;\">\n",
       "      <th></th>\n",
       "      <th>Titre :</th>\n",
       "      <th>Taux de change effectif réel - 36 partenaires commerciaux, variation sur 3 ans</th>\n",
       "      <th>Taux de change effectif réel - 16 partenaires commerciaux (zone euro)</th>\n",
       "      <th>Dollar australien (AUD)</th>\n",
       "      <th>Lev bulgare (BGN)</th>\n",
       "      <th>Real brésilien (BRL)</th>\n",
       "      <th>Dollar canadien (CAD)</th>\n",
       "      <th>Franc suisse (CHF)</th>\n",
       "      <th>Yuan renminbi chinois (CNY)</th>\n",
       "      <th>Livre chypriote (CYP)</th>\n",
       "      <th>...</th>\n",
       "      <th>Leu roumain (RON)</th>\n",
       "      <th>Rouble russe (RUB)</th>\n",
       "      <th>Couronne suédoise (SEK)</th>\n",
       "      <th>Dollar de Singapour (SGD)</th>\n",
       "      <th>Tolar slovène (SIT)</th>\n",
       "      <th>Couronne slovaque (SKK)</th>\n",
       "      <th>Baht thaïlandais (THB)</th>\n",
       "      <th>Livre turque (TRY)</th>\n",
       "      <th>Dollar des Etats-Unis (USD)</th>\n",
       "      <th>Cours de l'or contre dollar - 1er fixing à Londres</th>\n",
       "    </tr>\n",
       "  </thead>\n",
       "  <tbody>\n",
       "    <tr>\n",
       "      <th>0</th>\n",
       "      <td>2021-10-29</td>\n",
       "      <td>NaN</td>\n",
       "      <td>NaN</td>\n",
       "      <td>1.5455</td>\n",
       "      <td>1.9558</td>\n",
       "      <td>6.5698</td>\n",
       "      <td>1.4383</td>\n",
       "      <td>1.0611</td>\n",
       "      <td>7.4488</td>\n",
       "      <td>NaN</td>\n",
       "      <td>...</td>\n",
       "      <td>4.9493</td>\n",
       "      <td>82.3284</td>\n",
       "      <td>9.9368</td>\n",
       "      <td>1.5676</td>\n",
       "      <td>NaN</td>\n",
       "      <td>NaN</td>\n",
       "      <td>38.7200</td>\n",
       "      <td>11.1393</td>\n",
       "      <td>1.1645</td>\n",
       "      <td>1796.30</td>\n",
       "    </tr>\n",
       "    <tr>\n",
       "      <th>1</th>\n",
       "      <td>2021-10-28</td>\n",
       "      <td>NaN</td>\n",
       "      <td>NaN</td>\n",
       "      <td>1.5411</td>\n",
       "      <td>1.9558</td>\n",
       "      <td>6.4798</td>\n",
       "      <td>1.4325</td>\n",
       "      <td>1.0656</td>\n",
       "      <td>7.4169</td>\n",
       "      <td>NaN</td>\n",
       "      <td>...</td>\n",
       "      <td>4.9495</td>\n",
       "      <td>81.6042</td>\n",
       "      <td>9.9690</td>\n",
       "      <td>1.5623</td>\n",
       "      <td>NaN</td>\n",
       "      <td>NaN</td>\n",
       "      <td>38.5470</td>\n",
       "      <td>11.1435</td>\n",
       "      <td>1.1593</td>\n",
       "      <td>1798.20</td>\n",
       "    </tr>\n",
       "    <tr>\n",
       "      <th>2</th>\n",
       "      <td>2021-10-27</td>\n",
       "      <td>NaN</td>\n",
       "      <td>NaN</td>\n",
       "      <td>1.5458</td>\n",
       "      <td>1.9558</td>\n",
       "      <td>6.4510</td>\n",
       "      <td>1.4414</td>\n",
       "      <td>1.0670</td>\n",
       "      <td>7.4260</td>\n",
       "      <td>NaN</td>\n",
       "      <td>...</td>\n",
       "      <td>4.9484</td>\n",
       "      <td>81.4950</td>\n",
       "      <td>9.9713</td>\n",
       "      <td>1.5665</td>\n",
       "      <td>NaN</td>\n",
       "      <td>NaN</td>\n",
       "      <td>38.6500</td>\n",
       "      <td>11.0173</td>\n",
       "      <td>1.1617</td>\n",
       "      <td>1783.85</td>\n",
       "    </tr>\n",
       "    <tr>\n",
       "      <th>3</th>\n",
       "      <td>2021-10-26</td>\n",
       "      <td>NaN</td>\n",
       "      <td>NaN</td>\n",
       "      <td>1.5465</td>\n",
       "      <td>1.9558</td>\n",
       "      <td>6.4620</td>\n",
       "      <td>1.4361</td>\n",
       "      <td>1.0684</td>\n",
       "      <td>7.4124</td>\n",
       "      <td>NaN</td>\n",
       "      <td>...</td>\n",
       "      <td>4.9468</td>\n",
       "      <td>80.6417</td>\n",
       "      <td>9.9848</td>\n",
       "      <td>1.5637</td>\n",
       "      <td>NaN</td>\n",
       "      <td>NaN</td>\n",
       "      <td>38.4560</td>\n",
       "      <td>10.9744</td>\n",
       "      <td>1.1618</td>\n",
       "      <td>1801.90</td>\n",
       "    </tr>\n",
       "    <tr>\n",
       "      <th>4</th>\n",
       "      <td>2021-10-25</td>\n",
       "      <td>NaN</td>\n",
       "      <td>NaN</td>\n",
       "      <td>1.5505</td>\n",
       "      <td>1.9558</td>\n",
       "      <td>6.5405</td>\n",
       "      <td>1.4347</td>\n",
       "      <td>1.0666</td>\n",
       "      <td>7.4142</td>\n",
       "      <td>NaN</td>\n",
       "      <td>...</td>\n",
       "      <td>4.9475</td>\n",
       "      <td>81.1067</td>\n",
       "      <td>10.0000</td>\n",
       "      <td>1.5633</td>\n",
       "      <td>NaN</td>\n",
       "      <td>NaN</td>\n",
       "      <td>38.4230</td>\n",
       "      <td>11.2232</td>\n",
       "      <td>1.1603</td>\n",
       "      <td>1799.20</td>\n",
       "    </tr>\n",
       "    <tr>\n",
       "      <th>...</th>\n",
       "      <td>...</td>\n",
       "      <td>...</td>\n",
       "      <td>...</td>\n",
       "      <td>...</td>\n",
       "      <td>...</td>\n",
       "      <td>...</td>\n",
       "      <td>...</td>\n",
       "      <td>...</td>\n",
       "      <td>...</td>\n",
       "      <td>...</td>\n",
       "      <td>...</td>\n",
       "      <td>...</td>\n",
       "      <td>...</td>\n",
       "      <td>...</td>\n",
       "      <td>...</td>\n",
       "      <td>...</td>\n",
       "      <td>...</td>\n",
       "      <td>...</td>\n",
       "      <td>...</td>\n",
       "      <td>...</td>\n",
       "      <td>...</td>\n",
       "    </tr>\n",
       "    <tr>\n",
       "      <th>8331</th>\n",
       "      <td>1999-01-07</td>\n",
       "      <td>NaN</td>\n",
       "      <td>NaN</td>\n",
       "      <td>1.8474</td>\n",
       "      <td>NaN</td>\n",
       "      <td>NaN</td>\n",
       "      <td>1.7602</td>\n",
       "      <td>1.6165</td>\n",
       "      <td>NaN</td>\n",
       "      <td>0.58187</td>\n",
       "      <td>...</td>\n",
       "      <td>1.3092</td>\n",
       "      <td>26.9876</td>\n",
       "      <td>9.1800</td>\n",
       "      <td>1.9436</td>\n",
       "      <td>188.800</td>\n",
       "      <td>42.765</td>\n",
       "      <td>42.1678</td>\n",
       "      <td>0.3701</td>\n",
       "      <td>1.1632</td>\n",
       "      <td>NaN</td>\n",
       "    </tr>\n",
       "    <tr>\n",
       "      <th>8332</th>\n",
       "      <td>1999-01-06</td>\n",
       "      <td>NaN</td>\n",
       "      <td>NaN</td>\n",
       "      <td>1.8820</td>\n",
       "      <td>NaN</td>\n",
       "      <td>NaN</td>\n",
       "      <td>1.7711</td>\n",
       "      <td>1.6116</td>\n",
       "      <td>NaN</td>\n",
       "      <td>0.58200</td>\n",
       "      <td>...</td>\n",
       "      <td>1.3168</td>\n",
       "      <td>27.4315</td>\n",
       "      <td>9.3050</td>\n",
       "      <td>1.9699</td>\n",
       "      <td>188.700</td>\n",
       "      <td>42.778</td>\n",
       "      <td>42.6949</td>\n",
       "      <td>0.3722</td>\n",
       "      <td>1.1743</td>\n",
       "      <td>NaN</td>\n",
       "    </tr>\n",
       "    <tr>\n",
       "      <th>8333</th>\n",
       "      <td>1999-01-05</td>\n",
       "      <td>NaN</td>\n",
       "      <td>NaN</td>\n",
       "      <td>1.8944</td>\n",
       "      <td>NaN</td>\n",
       "      <td>NaN</td>\n",
       "      <td>1.7965</td>\n",
       "      <td>1.6123</td>\n",
       "      <td>NaN</td>\n",
       "      <td>0.58230</td>\n",
       "      <td>...</td>\n",
       "      <td>1.3168</td>\n",
       "      <td>26.5876</td>\n",
       "      <td>9.4025</td>\n",
       "      <td>1.9655</td>\n",
       "      <td>188.775</td>\n",
       "      <td>42.848</td>\n",
       "      <td>42.5048</td>\n",
       "      <td>0.3728</td>\n",
       "      <td>1.1790</td>\n",
       "      <td>NaN</td>\n",
       "    </tr>\n",
       "    <tr>\n",
       "      <th>8334</th>\n",
       "      <td>1999-01-04</td>\n",
       "      <td>NaN</td>\n",
       "      <td>NaN</td>\n",
       "      <td>1.9100</td>\n",
       "      <td>NaN</td>\n",
       "      <td>NaN</td>\n",
       "      <td>1.8004</td>\n",
       "      <td>1.6168</td>\n",
       "      <td>NaN</td>\n",
       "      <td>0.58231</td>\n",
       "      <td>...</td>\n",
       "      <td>1.3111</td>\n",
       "      <td>25.2875</td>\n",
       "      <td>9.4696</td>\n",
       "      <td>1.9554</td>\n",
       "      <td>189.045</td>\n",
       "      <td>42.991</td>\n",
       "      <td>42.6799</td>\n",
       "      <td>0.3723</td>\n",
       "      <td>1.1789</td>\n",
       "      <td>NaN</td>\n",
       "    </tr>\n",
       "    <tr>\n",
       "      <th>8335</th>\n",
       "      <td>1999-01-01</td>\n",
       "      <td>NaN</td>\n",
       "      <td>NaN</td>\n",
       "      <td>NaN</td>\n",
       "      <td>NaN</td>\n",
       "      <td>NaN</td>\n",
       "      <td>NaN</td>\n",
       "      <td>NaN</td>\n",
       "      <td>NaN</td>\n",
       "      <td>NaN</td>\n",
       "      <td>...</td>\n",
       "      <td>NaN</td>\n",
       "      <td>NaN</td>\n",
       "      <td>NaN</td>\n",
       "      <td>NaN</td>\n",
       "      <td>NaN</td>\n",
       "      <td>NaN</td>\n",
       "      <td>NaN</td>\n",
       "      <td>NaN</td>\n",
       "      <td>NaN</td>\n",
       "      <td>NaN</td>\n",
       "    </tr>\n",
       "  </tbody>\n",
       "</table>\n",
       "<p>8336 rows × 43 columns</p>\n",
       "</div>"
      ],
      "text/plain": [
       "        Titre :  \\\n",
       "0    2021-10-29   \n",
       "1    2021-10-28   \n",
       "2    2021-10-27   \n",
       "3    2021-10-26   \n",
       "4    2021-10-25   \n",
       "...         ...   \n",
       "8331 1999-01-07   \n",
       "8332 1999-01-06   \n",
       "8333 1999-01-05   \n",
       "8334 1999-01-04   \n",
       "8335 1999-01-01   \n",
       "\n",
       "      Taux de change effectif réel - 36 partenaires commerciaux, variation sur 3 ans  \\\n",
       "0                                                   NaN                                \n",
       "1                                                   NaN                                \n",
       "2                                                   NaN                                \n",
       "3                                                   NaN                                \n",
       "4                                                   NaN                                \n",
       "...                                                 ...                                \n",
       "8331                                                NaN                                \n",
       "8332                                                NaN                                \n",
       "8333                                                NaN                                \n",
       "8334                                                NaN                                \n",
       "8335                                                NaN                                \n",
       "\n",
       "      Taux de change effectif réel - 16 partenaires commerciaux (zone euro)  \\\n",
       "0                                                   NaN                       \n",
       "1                                                   NaN                       \n",
       "2                                                   NaN                       \n",
       "3                                                   NaN                       \n",
       "4                                                   NaN                       \n",
       "...                                                 ...                       \n",
       "8331                                                NaN                       \n",
       "8332                                                NaN                       \n",
       "8333                                                NaN                       \n",
       "8334                                                NaN                       \n",
       "8335                                                NaN                       \n",
       "\n",
       "      Dollar australien (AUD)  Lev bulgare (BGN)  Real brésilien (BRL)  \\\n",
       "0                      1.5455             1.9558                6.5698   \n",
       "1                      1.5411             1.9558                6.4798   \n",
       "2                      1.5458             1.9558                6.4510   \n",
       "3                      1.5465             1.9558                6.4620   \n",
       "4                      1.5505             1.9558                6.5405   \n",
       "...                       ...                ...                   ...   \n",
       "8331                   1.8474                NaN                   NaN   \n",
       "8332                   1.8820                NaN                   NaN   \n",
       "8333                   1.8944                NaN                   NaN   \n",
       "8334                   1.9100                NaN                   NaN   \n",
       "8335                      NaN                NaN                   NaN   \n",
       "\n",
       "      Dollar canadien (CAD)  Franc suisse (CHF)  Yuan renminbi chinois (CNY)  \\\n",
       "0                    1.4383              1.0611                       7.4488   \n",
       "1                    1.4325              1.0656                       7.4169   \n",
       "2                    1.4414              1.0670                       7.4260   \n",
       "3                    1.4361              1.0684                       7.4124   \n",
       "4                    1.4347              1.0666                       7.4142   \n",
       "...                     ...                 ...                          ...   \n",
       "8331                 1.7602              1.6165                          NaN   \n",
       "8332                 1.7711              1.6116                          NaN   \n",
       "8333                 1.7965              1.6123                          NaN   \n",
       "8334                 1.8004              1.6168                          NaN   \n",
       "8335                    NaN                 NaN                          NaN   \n",
       "\n",
       "      Livre chypriote (CYP)  ...  Leu roumain (RON)  Rouble russe (RUB)  \\\n",
       "0                       NaN  ...             4.9493             82.3284   \n",
       "1                       NaN  ...             4.9495             81.6042   \n",
       "2                       NaN  ...             4.9484             81.4950   \n",
       "3                       NaN  ...             4.9468             80.6417   \n",
       "4                       NaN  ...             4.9475             81.1067   \n",
       "...                     ...  ...                ...                 ...   \n",
       "8331                0.58187  ...             1.3092             26.9876   \n",
       "8332                0.58200  ...             1.3168             27.4315   \n",
       "8333                0.58230  ...             1.3168             26.5876   \n",
       "8334                0.58231  ...             1.3111             25.2875   \n",
       "8335                    NaN  ...                NaN                 NaN   \n",
       "\n",
       "      Couronne suédoise (SEK)  Dollar de Singapour (SGD)  Tolar slovène (SIT)  \\\n",
       "0                      9.9368                     1.5676                  NaN   \n",
       "1                      9.9690                     1.5623                  NaN   \n",
       "2                      9.9713                     1.5665                  NaN   \n",
       "3                      9.9848                     1.5637                  NaN   \n",
       "4                     10.0000                     1.5633                  NaN   \n",
       "...                       ...                        ...                  ...   \n",
       "8331                   9.1800                     1.9436              188.800   \n",
       "8332                   9.3050                     1.9699              188.700   \n",
       "8333                   9.4025                     1.9655              188.775   \n",
       "8334                   9.4696                     1.9554              189.045   \n",
       "8335                      NaN                        NaN                  NaN   \n",
       "\n",
       "      Couronne slovaque (SKK)  Baht thaïlandais (THB)  Livre turque (TRY)  \\\n",
       "0                         NaN                 38.7200             11.1393   \n",
       "1                         NaN                 38.5470             11.1435   \n",
       "2                         NaN                 38.6500             11.0173   \n",
       "3                         NaN                 38.4560             10.9744   \n",
       "4                         NaN                 38.4230             11.2232   \n",
       "...                       ...                     ...                 ...   \n",
       "8331                   42.765                 42.1678              0.3701   \n",
       "8332                   42.778                 42.6949              0.3722   \n",
       "8333                   42.848                 42.5048              0.3728   \n",
       "8334                   42.991                 42.6799              0.3723   \n",
       "8335                      NaN                     NaN                 NaN   \n",
       "\n",
       "      Dollar des Etats-Unis (USD)  \\\n",
       "0                          1.1645   \n",
       "1                          1.1593   \n",
       "2                          1.1617   \n",
       "3                          1.1618   \n",
       "4                          1.1603   \n",
       "...                           ...   \n",
       "8331                       1.1632   \n",
       "8332                       1.1743   \n",
       "8333                       1.1790   \n",
       "8334                       1.1789   \n",
       "8335                          NaN   \n",
       "\n",
       "      Cours de l'or contre dollar - 1er fixing à Londres  \n",
       "0                                               1796.30   \n",
       "1                                               1798.20   \n",
       "2                                               1783.85   \n",
       "3                                               1801.90   \n",
       "4                                               1799.20   \n",
       "...                                                 ...   \n",
       "8331                                                NaN   \n",
       "8332                                                NaN   \n",
       "8333                                                NaN   \n",
       "8334                                                NaN   \n",
       "8335                                                NaN   \n",
       "\n",
       "[8336 rows x 43 columns]"
      ]
     },
     "execution_count": 52,
     "metadata": {},
     "output_type": "execute_result"
    }
   ],
   "source": [
    "# source:\n",
    "# https://www.banque-france.fr/statistiques/taux-et-cours/les-taux-de-change-salle-des-marches/parites-quotidiennes\n",
    "\n",
    "# chargement du fichier\n",
    "tx_change = pd.read_csv(\"Webstat_Export.csv\",\n",
    "                        sep=\";\",\n",
    "                        na_values='-',\n",
    "                        decimal=',',\n",
    "                        skiprows=[1, 2],  # le skiprows permet à l'option \"decimal\" de fonctionner\n",
    "                        usecols=range(43),\n",
    "                        converters={0: lambda x: pd.to_datetime(x, format='%d/%m/%Y', errors='ignore')})\n",
    "tx_change"
   ]
  },
  {
   "cell_type": "markdown",
   "metadata": {},
   "source": [
    "#### Préparation des données :\n",
    "\n",
    "- extraction des codes ISO des devises\n",
    "- sélection de quelques devises\n",
    "- drop NaN"
   ]
  },
  {
   "cell_type": "code",
   "execution_count": 54,
   "metadata": {},
   "outputs": [
    {
     "data": {
      "text/plain": [
       "['Titre :',\n",
       " 'Taux de change effectif réel - 36 partenaires commerciaux, variation sur 3 ans',\n",
       " 'Taux de change effectif réel - 16 partenaires commerciaux (zone euro)',\n",
       " 'Dollar australien (AUD)',\n",
       " 'Lev bulgare (BGN)',\n",
       " 'Real brésilien (BRL)',\n",
       " 'Dollar canadien (CAD)',\n",
       " 'Franc suisse (CHF)',\n",
       " 'Yuan renminbi chinois (CNY)',\n",
       " 'Livre chypriote (CYP)',\n",
       " 'Couronne tchèque (CZK)',\n",
       " 'Couronne danoise (DKK)',\n",
       " 'Couronne estonienne (EEK)',\n",
       " \"Cours de l'or contre euro - 1er fixing à Londres\",\n",
       " 'Livre sterling (GBP)',\n",
       " 'Dollar de Hong Kong (HKD)',\n",
       " 'Kuna croate (HRK)',\n",
       " 'Forint hongrois (HUF)',\n",
       " 'Roupie indonésienne (IDR)',\n",
       " 'Sheqel israélien (ILS)',\n",
       " 'Roupie Indienne (100 paise)',\n",
       " 'Couronne islandaise (ISK)',\n",
       " 'Yen japonais (JPY)',\n",
       " 'Won coréen (KRW)',\n",
       " 'Litas lituanien (LTL)',\n",
       " 'Lats letton (LVL)',\n",
       " 'Livre maltaise (MTL)',\n",
       " 'Peso méxicain (MXN)',\n",
       " 'Ringgit malaisien (MYR)',\n",
       " 'Couronne norvégienne (NOK)',\n",
       " 'Dollar neo-zélandais (NZD)',\n",
       " 'Peso philippin (PHP)',\n",
       " 'Zloty polonais (PLN)',\n",
       " 'Leu roumain (RON)',\n",
       " 'Rouble russe (RUB)',\n",
       " 'Couronne suédoise (SEK)',\n",
       " 'Dollar de Singapour (SGD)',\n",
       " 'Tolar slovène (SIT)',\n",
       " 'Couronne slovaque (SKK)',\n",
       " 'Baht thaïlandais (THB)',\n",
       " 'Livre turque (TRY)',\n",
       " 'Dollar des Etats-Unis (USD)',\n",
       " \"Cours de l'or contre dollar - 1er fixing à Londres\"]"
      ]
     },
     "execution_count": 54,
     "metadata": {},
     "output_type": "execute_result"
    }
   ],
   "source": [
    "tx_change.columns.tolist()"
   ]
  },
  {
   "cell_type": "code",
   "execution_count": 55,
   "metadata": {},
   "outputs": [
    {
     "data": {
      "text/plain": [
       "0                                               Titre :\n",
       "1     Taux de change effectif réel - 36 partenaires ...\n",
       "2     Taux de change effectif réel - 16 partenaires ...\n",
       "3                               Dollar australien (AUD)\n",
       "4                                     Lev bulgare (BGN)\n",
       "                            ...                        \n",
       "38                              Couronne slovaque (SKK)\n",
       "39                               Baht thaïlandais (THB)\n",
       "40                                   Livre turque (TRY)\n",
       "41                          Dollar des Etats-Unis (USD)\n",
       "42    Cours de l'or contre dollar - 1er fixing à Lon...\n",
       "Length: 43, dtype: object"
      ]
     },
     "execution_count": 55,
     "metadata": {},
     "output_type": "execute_result"
    }
   ],
   "source": [
    "pd.Series(tx_change.columns.tolist())"
   ]
  },
  {
   "cell_type": "code",
   "execution_count": 53,
   "metadata": {},
   "outputs": [
    {
     "data": {
      "text/plain": [
       "0     NaN\n",
       "1     NaN\n",
       "2     NaN\n",
       "3     AUD\n",
       "4     BGN\n",
       "     ... \n",
       "38    SKK\n",
       "39    THB\n",
       "40    TRY\n",
       "41    USD\n",
       "42    NaN\n",
       "Length: 43, dtype: object"
      ]
     },
     "execution_count": 53,
     "metadata": {},
     "output_type": "execute_result"
    }
   ],
   "source": [
    "pd.Series(tx_change.columns.tolist()).str.extract('\\(([A-Z]{3})\\)', expand=False)"
   ]
  },
  {
   "cell_type": "code",
   "execution_count": 56,
   "metadata": {},
   "outputs": [
    {
     "data": {
      "text/html": [
       "<div>\n",
       "<style scoped>\n",
       "    .dataframe tbody tr th:only-of-type {\n",
       "        vertical-align: middle;\n",
       "    }\n",
       "\n",
       "    .dataframe tbody tr th {\n",
       "        vertical-align: top;\n",
       "    }\n",
       "\n",
       "    .dataframe thead th {\n",
       "        text-align: right;\n",
       "    }\n",
       "</style>\n",
       "<table border=\"1\" class=\"dataframe\">\n",
       "  <thead>\n",
       "    <tr style=\"text-align: right;\">\n",
       "      <th></th>\n",
       "      <th>Date</th>\n",
       "      <th>USD</th>\n",
       "      <th>CHF</th>\n",
       "      <th>GBP</th>\n",
       "      <th>JPY</th>\n",
       "      <th>RUB</th>\n",
       "      <th>CNY</th>\n",
       "    </tr>\n",
       "  </thead>\n",
       "  <tbody>\n",
       "    <tr>\n",
       "      <th>0</th>\n",
       "      <td>2021-10-29</td>\n",
       "      <td>1.1645</td>\n",
       "      <td>1.0611</td>\n",
       "      <td>0.84490</td>\n",
       "      <td>132.62</td>\n",
       "      <td>82.3284</td>\n",
       "      <td>7.4488</td>\n",
       "    </tr>\n",
       "    <tr>\n",
       "      <th>1</th>\n",
       "      <td>2021-10-28</td>\n",
       "      <td>1.1593</td>\n",
       "      <td>1.0656</td>\n",
       "      <td>0.84373</td>\n",
       "      <td>131.70</td>\n",
       "      <td>81.6042</td>\n",
       "      <td>7.4169</td>\n",
       "    </tr>\n",
       "    <tr>\n",
       "      <th>2</th>\n",
       "      <td>2021-10-27</td>\n",
       "      <td>1.1617</td>\n",
       "      <td>1.0670</td>\n",
       "      <td>0.84530</td>\n",
       "      <td>132.00</td>\n",
       "      <td>81.4950</td>\n",
       "      <td>7.4260</td>\n",
       "    </tr>\n",
       "    <tr>\n",
       "      <th>3</th>\n",
       "      <td>2021-10-26</td>\n",
       "      <td>1.1618</td>\n",
       "      <td>1.0684</td>\n",
       "      <td>0.84178</td>\n",
       "      <td>132.47</td>\n",
       "      <td>80.6417</td>\n",
       "      <td>7.4124</td>\n",
       "    </tr>\n",
       "    <tr>\n",
       "      <th>4</th>\n",
       "      <td>2021-10-25</td>\n",
       "      <td>1.1603</td>\n",
       "      <td>1.0666</td>\n",
       "      <td>0.84380</td>\n",
       "      <td>131.88</td>\n",
       "      <td>81.1067</td>\n",
       "      <td>7.4142</td>\n",
       "    </tr>\n",
       "    <tr>\n",
       "      <th>...</th>\n",
       "      <td>...</td>\n",
       "      <td>...</td>\n",
       "      <td>...</td>\n",
       "      <td>...</td>\n",
       "      <td>...</td>\n",
       "      <td>...</td>\n",
       "      <td>...</td>\n",
       "    </tr>\n",
       "    <tr>\n",
       "      <th>7954</th>\n",
       "      <td>2000-01-19</td>\n",
       "      <td>1.0105</td>\n",
       "      <td>1.6120</td>\n",
       "      <td>0.61720</td>\n",
       "      <td>106.99</td>\n",
       "      <td>28.8815</td>\n",
       "      <td>8.3639</td>\n",
       "    </tr>\n",
       "    <tr>\n",
       "      <th>7955</th>\n",
       "      <td>2000-01-18</td>\n",
       "      <td>1.0093</td>\n",
       "      <td>1.6131</td>\n",
       "      <td>0.61740</td>\n",
       "      <td>106.42</td>\n",
       "      <td>28.8510</td>\n",
       "      <td>8.3540</td>\n",
       "    </tr>\n",
       "    <tr>\n",
       "      <th>7956</th>\n",
       "      <td>2000-01-17</td>\n",
       "      <td>1.0094</td>\n",
       "      <td>1.6136</td>\n",
       "      <td>0.61800</td>\n",
       "      <td>105.81</td>\n",
       "      <td>28.9738</td>\n",
       "      <td>8.3548</td>\n",
       "    </tr>\n",
       "    <tr>\n",
       "      <th>7959</th>\n",
       "      <td>2000-01-14</td>\n",
       "      <td>1.0225</td>\n",
       "      <td>1.6130</td>\n",
       "      <td>0.62210</td>\n",
       "      <td>108.05</td>\n",
       "      <td>29.2350</td>\n",
       "      <td>8.4632</td>\n",
       "    </tr>\n",
       "    <tr>\n",
       "      <th>7960</th>\n",
       "      <td>2000-01-13</td>\n",
       "      <td>1.0276</td>\n",
       "      <td>1.6111</td>\n",
       "      <td>0.62550</td>\n",
       "      <td>108.89</td>\n",
       "      <td>29.4837</td>\n",
       "      <td>8.5054</td>\n",
       "    </tr>\n",
       "  </tbody>\n",
       "</table>\n",
       "<p>5578 rows × 7 columns</p>\n",
       "</div>"
      ],
      "text/plain": [
       "           Date     USD     CHF      GBP     JPY      RUB     CNY\n",
       "0    2021-10-29  1.1645  1.0611  0.84490  132.62  82.3284  7.4488\n",
       "1    2021-10-28  1.1593  1.0656  0.84373  131.70  81.6042  7.4169\n",
       "2    2021-10-27  1.1617  1.0670  0.84530  132.00  81.4950  7.4260\n",
       "3    2021-10-26  1.1618  1.0684  0.84178  132.47  80.6417  7.4124\n",
       "4    2021-10-25  1.1603  1.0666  0.84380  131.88  81.1067  7.4142\n",
       "...         ...     ...     ...      ...     ...      ...     ...\n",
       "7954 2000-01-19  1.0105  1.6120  0.61720  106.99  28.8815  8.3639\n",
       "7955 2000-01-18  1.0093  1.6131  0.61740  106.42  28.8510  8.3540\n",
       "7956 2000-01-17  1.0094  1.6136  0.61800  105.81  28.9738  8.3548\n",
       "7959 2000-01-14  1.0225  1.6130  0.62210  108.05  29.2350  8.4632\n",
       "7960 2000-01-13  1.0276  1.6111  0.62550  108.89  29.4837  8.5054\n",
       "\n",
       "[5578 rows x 7 columns]"
      ]
     },
     "execution_count": 56,
     "metadata": {},
     "output_type": "execute_result"
    }
   ],
   "source": [
    "# extraction des codes monnaies\n",
    "cols = pd.Series(tx_change.columns.tolist()).str.extract('\\(([A-Z]{3})\\)', expand=False)\n",
    "tx_change.columns = ['Date'] + list(cols[1:])\n",
    "\n",
    "# sélection de quelques colonnes monnaies\n",
    "currencies = ['USD', 'CHF', 'GBP', 'JPY', 'RUB', 'CNY']\n",
    "tx_change = tx_change[['Date'] + currencies]\n",
    "\n",
    "# drop na\n",
    "tx_change = tx_change.dropna()\n",
    "\n",
    "tx_change"
   ]
  },
  {
   "cell_type": "code",
   "execution_count": 57,
   "metadata": {},
   "outputs": [
    {
     "name": "stdout",
     "output_type": "stream",
     "text": [
      "<class 'pandas.core.frame.DataFrame'>\n",
      "Int64Index: 5578 entries, 0 to 7960\n",
      "Data columns (total 7 columns):\n",
      " #   Column  Non-Null Count  Dtype         \n",
      "---  ------  --------------  -----         \n",
      " 0   Date    5578 non-null   datetime64[ns]\n",
      " 1   USD     5578 non-null   float64       \n",
      " 2   CHF     5578 non-null   float64       \n",
      " 3   GBP     5578 non-null   float64       \n",
      " 4   JPY     5578 non-null   float64       \n",
      " 5   RUB     5578 non-null   float64       \n",
      " 6   CNY     5578 non-null   float64       \n",
      "dtypes: datetime64[ns](1), float64(6)\n",
      "memory usage: 348.6 KB\n"
     ]
    }
   ],
   "source": [
    "# info\n",
    "tx_change.info()"
   ]
  },
  {
   "cell_type": "markdown",
   "metadata": {},
   "source": [
    "### L'opérateur `dt`\n",
    "\n",
    "L'opérateur `dt` se comporte de manière analogue à l'opérateur `str` pour les `Series`. Il permet d'accéder aux propriététs temporelles des éléments."
   ]
  },
  {
   "cell_type": "code",
   "execution_count": 58,
   "metadata": {},
   "outputs": [
    {
     "data": {
      "text/plain": [
       "0      2021-10-29\n",
       "1      2021-10-28\n",
       "2      2021-10-27\n",
       "3      2021-10-26\n",
       "4      2021-10-25\n",
       "          ...    \n",
       "7954   2000-01-19\n",
       "7955   2000-01-18\n",
       "7956   2000-01-17\n",
       "7959   2000-01-14\n",
       "7960   2000-01-13\n",
       "Name: Date, Length: 5578, dtype: datetime64[ns]"
      ]
     },
     "execution_count": 58,
     "metadata": {},
     "output_type": "execute_result"
    }
   ],
   "source": [
    "# date\n",
    "tx_change['Date']"
   ]
  },
  {
   "cell_type": "code",
   "execution_count": 59,
   "metadata": {},
   "outputs": [
    {
     "data": {
      "text/plain": [
       "numpy.datetime64('2021-10-29T00:00:00.000000000')"
      ]
     },
     "execution_count": 59,
     "metadata": {},
     "output_type": "execute_result"
    }
   ],
   "source": [
    "# les valeurs sont des numpy.datetime64\n",
    "tx_change['Date'].values[0]"
   ]
  },
  {
   "cell_type": "code",
   "execution_count": 60,
   "metadata": {},
   "outputs": [
    {
     "data": {
      "text/plain": [
       "0       2021\n",
       "1       2021\n",
       "2       2021\n",
       "3       2021\n",
       "4       2021\n",
       "        ... \n",
       "7954    2000\n",
       "7955    2000\n",
       "7956    2000\n",
       "7959    2000\n",
       "7960    2000\n",
       "Name: Date, Length: 5578, dtype: int64"
      ]
     },
     "execution_count": 60,
     "metadata": {},
     "output_type": "execute_result"
    }
   ],
   "source": [
    "# accès à l'année\n",
    "tx_change['Date'].dt.year"
   ]
  },
  {
   "cell_type": "code",
   "execution_count": 61,
   "metadata": {},
   "outputs": [
    {
     "data": {
      "text/plain": [
       "0       10\n",
       "1       10\n",
       "2       10\n",
       "3       10\n",
       "4       10\n",
       "        ..\n",
       "7954     1\n",
       "7955     1\n",
       "7956     1\n",
       "7959     1\n",
       "7960     1\n",
       "Name: Date, Length: 5578, dtype: int64"
      ]
     },
     "execution_count": 61,
     "metadata": {},
     "output_type": "execute_result"
    }
   ],
   "source": [
    "# accès au mois\n",
    "tx_change['Date'].dt.month"
   ]
  },
  {
   "cell_type": "code",
   "execution_count": 62,
   "metadata": {},
   "outputs": [
    {
     "data": {
      "text/plain": [
       "0       4\n",
       "1       3\n",
       "2       2\n",
       "3       1\n",
       "4       0\n",
       "       ..\n",
       "7954    2\n",
       "7955    1\n",
       "7956    0\n",
       "7959    4\n",
       "7960    3\n",
       "Name: Date, Length: 5578, dtype: int64"
      ]
     },
     "execution_count": 62,
     "metadata": {},
     "output_type": "execute_result"
    }
   ],
   "source": [
    "# access aux jours de la semaine\n",
    "tx_change['Date'].dt.weekday"
   ]
  },
  {
   "cell_type": "code",
   "execution_count": 63,
   "metadata": {},
   "outputs": [
    {
     "data": {
      "text/plain": [
       "array([4, 3, 2, 1, 0], dtype=int64)"
      ]
     },
     "execution_count": 63,
     "metadata": {},
     "output_type": "execute_result"
    }
   ],
   "source": [
    "# valeurs uniques\n",
    "tx_change['Date'].dt.weekday.unique()"
   ]
  },
  {
   "cell_type": "markdown",
   "metadata": {},
   "source": [
    "### Sélection de données temporelles\n",
    "\n",
    "Lorsque l'index est un objet de type `datetime`, il est possible d'opérer des sélections en utilisant des dates représentées par des chaines de caractères."
   ]
  },
  {
   "cell_type": "code",
   "execution_count": 64,
   "metadata": {},
   "outputs": [
    {
     "data": {
      "text/html": [
       "<div>\n",
       "<style scoped>\n",
       "    .dataframe tbody tr th:only-of-type {\n",
       "        vertical-align: middle;\n",
       "    }\n",
       "\n",
       "    .dataframe tbody tr th {\n",
       "        vertical-align: top;\n",
       "    }\n",
       "\n",
       "    .dataframe thead th {\n",
       "        text-align: right;\n",
       "    }\n",
       "</style>\n",
       "<table border=\"1\" class=\"dataframe\">\n",
       "  <thead>\n",
       "    <tr style=\"text-align: right;\">\n",
       "      <th></th>\n",
       "      <th>USD</th>\n",
       "      <th>CHF</th>\n",
       "      <th>GBP</th>\n",
       "      <th>JPY</th>\n",
       "      <th>RUB</th>\n",
       "      <th>CNY</th>\n",
       "    </tr>\n",
       "    <tr>\n",
       "      <th>Date</th>\n",
       "      <th></th>\n",
       "      <th></th>\n",
       "      <th></th>\n",
       "      <th></th>\n",
       "      <th></th>\n",
       "      <th></th>\n",
       "    </tr>\n",
       "  </thead>\n",
       "  <tbody>\n",
       "    <tr>\n",
       "      <th>2000-01-13</th>\n",
       "      <td>1.0276</td>\n",
       "      <td>1.6111</td>\n",
       "      <td>0.62550</td>\n",
       "      <td>108.89</td>\n",
       "      <td>29.4837</td>\n",
       "      <td>8.5054</td>\n",
       "    </tr>\n",
       "    <tr>\n",
       "      <th>2000-01-14</th>\n",
       "      <td>1.0225</td>\n",
       "      <td>1.6130</td>\n",
       "      <td>0.62210</td>\n",
       "      <td>108.05</td>\n",
       "      <td>29.2350</td>\n",
       "      <td>8.4632</td>\n",
       "    </tr>\n",
       "    <tr>\n",
       "      <th>2000-01-17</th>\n",
       "      <td>1.0094</td>\n",
       "      <td>1.6136</td>\n",
       "      <td>0.61800</td>\n",
       "      <td>105.81</td>\n",
       "      <td>28.9738</td>\n",
       "      <td>8.3548</td>\n",
       "    </tr>\n",
       "    <tr>\n",
       "      <th>2000-01-18</th>\n",
       "      <td>1.0093</td>\n",
       "      <td>1.6131</td>\n",
       "      <td>0.61740</td>\n",
       "      <td>106.42</td>\n",
       "      <td>28.8510</td>\n",
       "      <td>8.3540</td>\n",
       "    </tr>\n",
       "    <tr>\n",
       "      <th>2000-01-19</th>\n",
       "      <td>1.0105</td>\n",
       "      <td>1.6120</td>\n",
       "      <td>0.61720</td>\n",
       "      <td>106.99</td>\n",
       "      <td>28.8815</td>\n",
       "      <td>8.3639</td>\n",
       "    </tr>\n",
       "    <tr>\n",
       "      <th>...</th>\n",
       "      <td>...</td>\n",
       "      <td>...</td>\n",
       "      <td>...</td>\n",
       "      <td>...</td>\n",
       "      <td>...</td>\n",
       "      <td>...</td>\n",
       "    </tr>\n",
       "    <tr>\n",
       "      <th>2021-10-25</th>\n",
       "      <td>1.1603</td>\n",
       "      <td>1.0666</td>\n",
       "      <td>0.84380</td>\n",
       "      <td>131.88</td>\n",
       "      <td>81.1067</td>\n",
       "      <td>7.4142</td>\n",
       "    </tr>\n",
       "    <tr>\n",
       "      <th>2021-10-26</th>\n",
       "      <td>1.1618</td>\n",
       "      <td>1.0684</td>\n",
       "      <td>0.84178</td>\n",
       "      <td>132.47</td>\n",
       "      <td>80.6417</td>\n",
       "      <td>7.4124</td>\n",
       "    </tr>\n",
       "    <tr>\n",
       "      <th>2021-10-27</th>\n",
       "      <td>1.1617</td>\n",
       "      <td>1.0670</td>\n",
       "      <td>0.84530</td>\n",
       "      <td>132.00</td>\n",
       "      <td>81.4950</td>\n",
       "      <td>7.4260</td>\n",
       "    </tr>\n",
       "    <tr>\n",
       "      <th>2021-10-28</th>\n",
       "      <td>1.1593</td>\n",
       "      <td>1.0656</td>\n",
       "      <td>0.84373</td>\n",
       "      <td>131.70</td>\n",
       "      <td>81.6042</td>\n",
       "      <td>7.4169</td>\n",
       "    </tr>\n",
       "    <tr>\n",
       "      <th>2021-10-29</th>\n",
       "      <td>1.1645</td>\n",
       "      <td>1.0611</td>\n",
       "      <td>0.84490</td>\n",
       "      <td>132.62</td>\n",
       "      <td>82.3284</td>\n",
       "      <td>7.4488</td>\n",
       "    </tr>\n",
       "  </tbody>\n",
       "</table>\n",
       "<p>5578 rows × 6 columns</p>\n",
       "</div>"
      ],
      "text/plain": [
       "               USD     CHF      GBP     JPY      RUB     CNY\n",
       "Date                                                        \n",
       "2000-01-13  1.0276  1.6111  0.62550  108.89  29.4837  8.5054\n",
       "2000-01-14  1.0225  1.6130  0.62210  108.05  29.2350  8.4632\n",
       "2000-01-17  1.0094  1.6136  0.61800  105.81  28.9738  8.3548\n",
       "2000-01-18  1.0093  1.6131  0.61740  106.42  28.8510  8.3540\n",
       "2000-01-19  1.0105  1.6120  0.61720  106.99  28.8815  8.3639\n",
       "...            ...     ...      ...     ...      ...     ...\n",
       "2021-10-25  1.1603  1.0666  0.84380  131.88  81.1067  7.4142\n",
       "2021-10-26  1.1618  1.0684  0.84178  132.47  80.6417  7.4124\n",
       "2021-10-27  1.1617  1.0670  0.84530  132.00  81.4950  7.4260\n",
       "2021-10-28  1.1593  1.0656  0.84373  131.70  81.6042  7.4169\n",
       "2021-10-29  1.1645  1.0611  0.84490  132.62  82.3284  7.4488\n",
       "\n",
       "[5578 rows x 6 columns]"
      ]
     },
     "execution_count": 64,
     "metadata": {},
     "output_type": "execute_result"
    }
   ],
   "source": [
    "# setting the index as a datetime object\n",
    "tx_change = tx_change.set_index('Date')\n",
    "tx_change = tx_change.sort_index()\n",
    "tx_change"
   ]
  },
  {
   "cell_type": "code",
   "execution_count": 65,
   "metadata": {},
   "outputs": [
    {
     "data": {
      "text/plain": [
       "DatetimeIndex(['2000-01-13', '2000-01-14', '2000-01-17', '2000-01-18',\n",
       "               '2000-01-19', '2000-01-20', '2000-01-21', '2000-01-24',\n",
       "               '2000-01-25', '2000-01-26',\n",
       "               ...\n",
       "               '2021-10-18', '2021-10-19', '2021-10-20', '2021-10-21',\n",
       "               '2021-10-22', '2021-10-25', '2021-10-26', '2021-10-27',\n",
       "               '2021-10-28', '2021-10-29'],\n",
       "              dtype='datetime64[ns]', name='Date', length=5578, freq=None)"
      ]
     },
     "execution_count": 65,
     "metadata": {},
     "output_type": "execute_result"
    }
   ],
   "source": [
    "tx_change.index"
   ]
  },
  {
   "cell_type": "code",
   "execution_count": 66,
   "metadata": {},
   "outputs": [
    {
     "data": {
      "text/html": [
       "<div>\n",
       "<style scoped>\n",
       "    .dataframe tbody tr th:only-of-type {\n",
       "        vertical-align: middle;\n",
       "    }\n",
       "\n",
       "    .dataframe tbody tr th {\n",
       "        vertical-align: top;\n",
       "    }\n",
       "\n",
       "    .dataframe thead th {\n",
       "        text-align: right;\n",
       "    }\n",
       "</style>\n",
       "<table border=\"1\" class=\"dataframe\">\n",
       "  <thead>\n",
       "    <tr style=\"text-align: right;\">\n",
       "      <th></th>\n",
       "      <th>USD</th>\n",
       "      <th>CHF</th>\n",
       "      <th>GBP</th>\n",
       "      <th>JPY</th>\n",
       "      <th>RUB</th>\n",
       "      <th>CNY</th>\n",
       "    </tr>\n",
       "    <tr>\n",
       "      <th>Date</th>\n",
       "      <th></th>\n",
       "      <th></th>\n",
       "      <th></th>\n",
       "      <th></th>\n",
       "      <th></th>\n",
       "      <th></th>\n",
       "    </tr>\n",
       "  </thead>\n",
       "  <tbody>\n",
       "    <tr>\n",
       "      <th>2021-01-04</th>\n",
       "      <td>1.2296</td>\n",
       "      <td>1.0811</td>\n",
       "      <td>0.90160</td>\n",
       "      <td>126.62</td>\n",
       "      <td>90.3420</td>\n",
       "      <td>7.9484</td>\n",
       "    </tr>\n",
       "    <tr>\n",
       "      <th>2021-01-05</th>\n",
       "      <td>1.2271</td>\n",
       "      <td>1.0803</td>\n",
       "      <td>0.90333</td>\n",
       "      <td>126.25</td>\n",
       "      <td>91.6715</td>\n",
       "      <td>7.9315</td>\n",
       "    </tr>\n",
       "    <tr>\n",
       "      <th>2021-01-06</th>\n",
       "      <td>1.2338</td>\n",
       "      <td>1.0821</td>\n",
       "      <td>0.90635</td>\n",
       "      <td>127.03</td>\n",
       "      <td>90.8175</td>\n",
       "      <td>7.9653</td>\n",
       "    </tr>\n",
       "    <tr>\n",
       "      <th>2021-01-07</th>\n",
       "      <td>1.2276</td>\n",
       "      <td>1.0833</td>\n",
       "      <td>0.90190</td>\n",
       "      <td>127.13</td>\n",
       "      <td>91.2000</td>\n",
       "      <td>7.9392</td>\n",
       "    </tr>\n",
       "    <tr>\n",
       "      <th>2021-01-08</th>\n",
       "      <td>1.2250</td>\n",
       "      <td>1.0827</td>\n",
       "      <td>0.90128</td>\n",
       "      <td>127.26</td>\n",
       "      <td>90.8000</td>\n",
       "      <td>7.9184</td>\n",
       "    </tr>\n",
       "    <tr>\n",
       "      <th>...</th>\n",
       "      <td>...</td>\n",
       "      <td>...</td>\n",
       "      <td>...</td>\n",
       "      <td>...</td>\n",
       "      <td>...</td>\n",
       "      <td>...</td>\n",
       "    </tr>\n",
       "    <tr>\n",
       "      <th>2021-10-25</th>\n",
       "      <td>1.1603</td>\n",
       "      <td>1.0666</td>\n",
       "      <td>0.84380</td>\n",
       "      <td>131.88</td>\n",
       "      <td>81.1067</td>\n",
       "      <td>7.4142</td>\n",
       "    </tr>\n",
       "    <tr>\n",
       "      <th>2021-10-26</th>\n",
       "      <td>1.1618</td>\n",
       "      <td>1.0684</td>\n",
       "      <td>0.84178</td>\n",
       "      <td>132.47</td>\n",
       "      <td>80.6417</td>\n",
       "      <td>7.4124</td>\n",
       "    </tr>\n",
       "    <tr>\n",
       "      <th>2021-10-27</th>\n",
       "      <td>1.1617</td>\n",
       "      <td>1.0670</td>\n",
       "      <td>0.84530</td>\n",
       "      <td>132.00</td>\n",
       "      <td>81.4950</td>\n",
       "      <td>7.4260</td>\n",
       "    </tr>\n",
       "    <tr>\n",
       "      <th>2021-10-28</th>\n",
       "      <td>1.1593</td>\n",
       "      <td>1.0656</td>\n",
       "      <td>0.84373</td>\n",
       "      <td>131.70</td>\n",
       "      <td>81.6042</td>\n",
       "      <td>7.4169</td>\n",
       "    </tr>\n",
       "    <tr>\n",
       "      <th>2021-10-29</th>\n",
       "      <td>1.1645</td>\n",
       "      <td>1.0611</td>\n",
       "      <td>0.84490</td>\n",
       "      <td>132.62</td>\n",
       "      <td>82.3284</td>\n",
       "      <td>7.4488</td>\n",
       "    </tr>\n",
       "  </tbody>\n",
       "</table>\n",
       "<p>213 rows × 6 columns</p>\n",
       "</div>"
      ],
      "text/plain": [
       "               USD     CHF      GBP     JPY      RUB     CNY\n",
       "Date                                                        \n",
       "2021-01-04  1.2296  1.0811  0.90160  126.62  90.3420  7.9484\n",
       "2021-01-05  1.2271  1.0803  0.90333  126.25  91.6715  7.9315\n",
       "2021-01-06  1.2338  1.0821  0.90635  127.03  90.8175  7.9653\n",
       "2021-01-07  1.2276  1.0833  0.90190  127.13  91.2000  7.9392\n",
       "2021-01-08  1.2250  1.0827  0.90128  127.26  90.8000  7.9184\n",
       "...            ...     ...      ...     ...      ...     ...\n",
       "2021-10-25  1.1603  1.0666  0.84380  131.88  81.1067  7.4142\n",
       "2021-10-26  1.1618  1.0684  0.84178  132.47  80.6417  7.4124\n",
       "2021-10-27  1.1617  1.0670  0.84530  132.00  81.4950  7.4260\n",
       "2021-10-28  1.1593  1.0656  0.84373  131.70  81.6042  7.4169\n",
       "2021-10-29  1.1645  1.0611  0.84490  132.62  82.3284  7.4488\n",
       "\n",
       "[213 rows x 6 columns]"
      ]
     },
     "execution_count": 66,
     "metadata": {},
     "output_type": "execute_result"
    }
   ],
   "source": [
    "# année entière\n",
    "tx_change.loc['2021']"
   ]
  },
  {
   "cell_type": "code",
   "execution_count": 67,
   "metadata": {},
   "outputs": [
    {
     "data": {
      "text/html": [
       "<div>\n",
       "<style scoped>\n",
       "    .dataframe tbody tr th:only-of-type {\n",
       "        vertical-align: middle;\n",
       "    }\n",
       "\n",
       "    .dataframe tbody tr th {\n",
       "        vertical-align: top;\n",
       "    }\n",
       "\n",
       "    .dataframe thead th {\n",
       "        text-align: right;\n",
       "    }\n",
       "</style>\n",
       "<table border=\"1\" class=\"dataframe\">\n",
       "  <thead>\n",
       "    <tr style=\"text-align: right;\">\n",
       "      <th></th>\n",
       "      <th>USD</th>\n",
       "      <th>CHF</th>\n",
       "      <th>GBP</th>\n",
       "      <th>JPY</th>\n",
       "      <th>RUB</th>\n",
       "      <th>CNY</th>\n",
       "    </tr>\n",
       "    <tr>\n",
       "      <th>Date</th>\n",
       "      <th></th>\n",
       "      <th></th>\n",
       "      <th></th>\n",
       "      <th></th>\n",
       "      <th></th>\n",
       "      <th></th>\n",
       "    </tr>\n",
       "  </thead>\n",
       "  <tbody>\n",
       "    <tr>\n",
       "      <th>2021-10-01</th>\n",
       "      <td>1.1600</td>\n",
       "      <td>1.0791</td>\n",
       "      <td>0.85653</td>\n",
       "      <td>128.97</td>\n",
       "      <td>84.7187</td>\n",
       "      <td>7.4781</td>\n",
       "    </tr>\n",
       "    <tr>\n",
       "      <th>2021-10-04</th>\n",
       "      <td>1.1636</td>\n",
       "      <td>1.0768</td>\n",
       "      <td>0.85530</td>\n",
       "      <td>129.21</td>\n",
       "      <td>84.7198</td>\n",
       "      <td>7.5013</td>\n",
       "    </tr>\n",
       "    <tr>\n",
       "      <th>2021-10-05</th>\n",
       "      <td>1.1602</td>\n",
       "      <td>1.0752</td>\n",
       "      <td>0.85173</td>\n",
       "      <td>128.99</td>\n",
       "      <td>84.1541</td>\n",
       "      <td>7.4805</td>\n",
       "    </tr>\n",
       "    <tr>\n",
       "      <th>2021-10-06</th>\n",
       "      <td>1.1542</td>\n",
       "      <td>1.0715</td>\n",
       "      <td>0.84970</td>\n",
       "      <td>128.52</td>\n",
       "      <td>83.6242</td>\n",
       "      <td>7.4407</td>\n",
       "    </tr>\n",
       "    <tr>\n",
       "      <th>2021-10-07</th>\n",
       "      <td>1.1562</td>\n",
       "      <td>1.0712</td>\n",
       "      <td>0.85023</td>\n",
       "      <td>128.78</td>\n",
       "      <td>83.1780</td>\n",
       "      <td>7.4536</td>\n",
       "    </tr>\n",
       "    <tr>\n",
       "      <th>...</th>\n",
       "      <td>...</td>\n",
       "      <td>...</td>\n",
       "      <td>...</td>\n",
       "      <td>...</td>\n",
       "      <td>...</td>\n",
       "      <td>...</td>\n",
       "    </tr>\n",
       "    <tr>\n",
       "      <th>2021-10-25</th>\n",
       "      <td>1.1603</td>\n",
       "      <td>1.0666</td>\n",
       "      <td>0.84380</td>\n",
       "      <td>131.88</td>\n",
       "      <td>81.1067</td>\n",
       "      <td>7.4142</td>\n",
       "    </tr>\n",
       "    <tr>\n",
       "      <th>2021-10-26</th>\n",
       "      <td>1.1618</td>\n",
       "      <td>1.0684</td>\n",
       "      <td>0.84178</td>\n",
       "      <td>132.47</td>\n",
       "      <td>80.6417</td>\n",
       "      <td>7.4124</td>\n",
       "    </tr>\n",
       "    <tr>\n",
       "      <th>2021-10-27</th>\n",
       "      <td>1.1617</td>\n",
       "      <td>1.0670</td>\n",
       "      <td>0.84530</td>\n",
       "      <td>132.00</td>\n",
       "      <td>81.4950</td>\n",
       "      <td>7.4260</td>\n",
       "    </tr>\n",
       "    <tr>\n",
       "      <th>2021-10-28</th>\n",
       "      <td>1.1593</td>\n",
       "      <td>1.0656</td>\n",
       "      <td>0.84373</td>\n",
       "      <td>131.70</td>\n",
       "      <td>81.6042</td>\n",
       "      <td>7.4169</td>\n",
       "    </tr>\n",
       "    <tr>\n",
       "      <th>2021-10-29</th>\n",
       "      <td>1.1645</td>\n",
       "      <td>1.0611</td>\n",
       "      <td>0.84490</td>\n",
       "      <td>132.62</td>\n",
       "      <td>82.3284</td>\n",
       "      <td>7.4488</td>\n",
       "    </tr>\n",
       "  </tbody>\n",
       "</table>\n",
       "<p>21 rows × 6 columns</p>\n",
       "</div>"
      ],
      "text/plain": [
       "               USD     CHF      GBP     JPY      RUB     CNY\n",
       "Date                                                        \n",
       "2021-10-01  1.1600  1.0791  0.85653  128.97  84.7187  7.4781\n",
       "2021-10-04  1.1636  1.0768  0.85530  129.21  84.7198  7.5013\n",
       "2021-10-05  1.1602  1.0752  0.85173  128.99  84.1541  7.4805\n",
       "2021-10-06  1.1542  1.0715  0.84970  128.52  83.6242  7.4407\n",
       "2021-10-07  1.1562  1.0712  0.85023  128.78  83.1780  7.4536\n",
       "...            ...     ...      ...     ...      ...     ...\n",
       "2021-10-25  1.1603  1.0666  0.84380  131.88  81.1067  7.4142\n",
       "2021-10-26  1.1618  1.0684  0.84178  132.47  80.6417  7.4124\n",
       "2021-10-27  1.1617  1.0670  0.84530  132.00  81.4950  7.4260\n",
       "2021-10-28  1.1593  1.0656  0.84373  131.70  81.6042  7.4169\n",
       "2021-10-29  1.1645  1.0611  0.84490  132.62  82.3284  7.4488\n",
       "\n",
       "[21 rows x 6 columns]"
      ]
     },
     "execution_count": 67,
     "metadata": {},
     "output_type": "execute_result"
    }
   ],
   "source": [
    "# un mois d'une année\n",
    "tx_change.loc['2021/10']  # ou tx_change.loc['10/2021']"
   ]
  },
  {
   "cell_type": "code",
   "execution_count": 68,
   "metadata": {},
   "outputs": [
    {
     "data": {
      "text/html": [
       "<div>\n",
       "<style scoped>\n",
       "    .dataframe tbody tr th:only-of-type {\n",
       "        vertical-align: middle;\n",
       "    }\n",
       "\n",
       "    .dataframe tbody tr th {\n",
       "        vertical-align: top;\n",
       "    }\n",
       "\n",
       "    .dataframe thead th {\n",
       "        text-align: right;\n",
       "    }\n",
       "</style>\n",
       "<table border=\"1\" class=\"dataframe\">\n",
       "  <thead>\n",
       "    <tr style=\"text-align: right;\">\n",
       "      <th></th>\n",
       "      <th>USD</th>\n",
       "      <th>CHF</th>\n",
       "      <th>GBP</th>\n",
       "      <th>JPY</th>\n",
       "      <th>RUB</th>\n",
       "      <th>CNY</th>\n",
       "    </tr>\n",
       "    <tr>\n",
       "      <th>Date</th>\n",
       "      <th></th>\n",
       "      <th></th>\n",
       "      <th></th>\n",
       "      <th></th>\n",
       "      <th></th>\n",
       "      <th></th>\n",
       "    </tr>\n",
       "  </thead>\n",
       "  <tbody>\n",
       "    <tr>\n",
       "      <th>2020-12-01</th>\n",
       "      <td>1.1968</td>\n",
       "      <td>1.0836</td>\n",
       "      <td>0.89798</td>\n",
       "      <td>124.92</td>\n",
       "      <td>90.7837</td>\n",
       "      <td>7.8639</td>\n",
       "    </tr>\n",
       "    <tr>\n",
       "      <th>2020-12-02</th>\n",
       "      <td>1.2066</td>\n",
       "      <td>1.0819</td>\n",
       "      <td>0.90490</td>\n",
       "      <td>126.13</td>\n",
       "      <td>91.3194</td>\n",
       "      <td>7.9203</td>\n",
       "    </tr>\n",
       "    <tr>\n",
       "      <th>2020-12-03</th>\n",
       "      <td>1.2151</td>\n",
       "      <td>1.0831</td>\n",
       "      <td>0.90358</td>\n",
       "      <td>126.49</td>\n",
       "      <td>90.8441</td>\n",
       "      <td>7.9567</td>\n",
       "    </tr>\n",
       "    <tr>\n",
       "      <th>2020-12-04</th>\n",
       "      <td>1.2159</td>\n",
       "      <td>1.0822</td>\n",
       "      <td>0.90282</td>\n",
       "      <td>126.44</td>\n",
       "      <td>90.0679</td>\n",
       "      <td>7.9421</td>\n",
       "    </tr>\n",
       "    <tr>\n",
       "      <th>2020-12-07</th>\n",
       "      <td>1.2128</td>\n",
       "      <td>1.0802</td>\n",
       "      <td>0.91215</td>\n",
       "      <td>126.30</td>\n",
       "      <td>89.7900</td>\n",
       "      <td>7.9310</td>\n",
       "    </tr>\n",
       "    <tr>\n",
       "      <th>...</th>\n",
       "      <td>...</td>\n",
       "      <td>...</td>\n",
       "      <td>...</td>\n",
       "      <td>...</td>\n",
       "      <td>...</td>\n",
       "      <td>...</td>\n",
       "    </tr>\n",
       "    <tr>\n",
       "      <th>2021-02-22</th>\n",
       "      <td>1.2133</td>\n",
       "      <td>1.0888</td>\n",
       "      <td>0.86530</td>\n",
       "      <td>128.00</td>\n",
       "      <td>90.9800</td>\n",
       "      <td>7.8447</td>\n",
       "    </tr>\n",
       "    <tr>\n",
       "      <th>2021-02-23</th>\n",
       "      <td>1.2143</td>\n",
       "      <td>1.0946</td>\n",
       "      <td>0.86308</td>\n",
       "      <td>127.98</td>\n",
       "      <td>89.9219</td>\n",
       "      <td>7.8506</td>\n",
       "    </tr>\n",
       "    <tr>\n",
       "      <th>2021-02-24</th>\n",
       "      <td>1.2146</td>\n",
       "      <td>1.1029</td>\n",
       "      <td>0.86030</td>\n",
       "      <td>128.69</td>\n",
       "      <td>89.4919</td>\n",
       "      <td>7.8362</td>\n",
       "    </tr>\n",
       "    <tr>\n",
       "      <th>2021-02-25</th>\n",
       "      <td>1.2225</td>\n",
       "      <td>1.1076</td>\n",
       "      <td>0.86408</td>\n",
       "      <td>129.73</td>\n",
       "      <td>90.3519</td>\n",
       "      <td>7.8898</td>\n",
       "    </tr>\n",
       "    <tr>\n",
       "      <th>2021-02-26</th>\n",
       "      <td>1.2121</td>\n",
       "      <td>1.0986</td>\n",
       "      <td>0.87053</td>\n",
       "      <td>128.83</td>\n",
       "      <td>90.6697</td>\n",
       "      <td>7.8385</td>\n",
       "    </tr>\n",
       "  </tbody>\n",
       "</table>\n",
       "<p>62 rows × 6 columns</p>\n",
       "</div>"
      ],
      "text/plain": [
       "               USD     CHF      GBP     JPY      RUB     CNY\n",
       "Date                                                        \n",
       "2020-12-01  1.1968  1.0836  0.89798  124.92  90.7837  7.8639\n",
       "2020-12-02  1.2066  1.0819  0.90490  126.13  91.3194  7.9203\n",
       "2020-12-03  1.2151  1.0831  0.90358  126.49  90.8441  7.9567\n",
       "2020-12-04  1.2159  1.0822  0.90282  126.44  90.0679  7.9421\n",
       "2020-12-07  1.2128  1.0802  0.91215  126.30  89.7900  7.9310\n",
       "...            ...     ...      ...     ...      ...     ...\n",
       "2021-02-22  1.2133  1.0888  0.86530  128.00  90.9800  7.8447\n",
       "2021-02-23  1.2143  1.0946  0.86308  127.98  89.9219  7.8506\n",
       "2021-02-24  1.2146  1.1029  0.86030  128.69  89.4919  7.8362\n",
       "2021-02-25  1.2225  1.1076  0.86408  129.73  90.3519  7.8898\n",
       "2021-02-26  1.2121  1.0986  0.87053  128.83  90.6697  7.8385\n",
       "\n",
       "[62 rows x 6 columns]"
      ]
     },
     "execution_count": 68,
     "metadata": {},
     "output_type": "execute_result"
    }
   ],
   "source": [
    "# sélection de slices - la seconde période est incluse\n",
    "tx_change['12/2020':'02/2021']"
   ]
  },
  {
   "cell_type": "markdown",
   "metadata": {},
   "source": [
    "### Complétion de données temporelles"
   ]
  },
  {
   "cell_type": "code",
   "execution_count": 69,
   "metadata": {},
   "outputs": [
    {
     "data": {
      "text/html": [
       "<div>\n",
       "<style scoped>\n",
       "    .dataframe tbody tr th:only-of-type {\n",
       "        vertical-align: middle;\n",
       "    }\n",
       "\n",
       "    .dataframe tbody tr th {\n",
       "        vertical-align: top;\n",
       "    }\n",
       "\n",
       "    .dataframe thead th {\n",
       "        text-align: right;\n",
       "    }\n",
       "</style>\n",
       "<table border=\"1\" class=\"dataframe\">\n",
       "  <thead>\n",
       "    <tr style=\"text-align: right;\">\n",
       "      <th></th>\n",
       "      <th>USD</th>\n",
       "      <th>CHF</th>\n",
       "      <th>GBP</th>\n",
       "      <th>JPY</th>\n",
       "      <th>RUB</th>\n",
       "      <th>CNY</th>\n",
       "    </tr>\n",
       "    <tr>\n",
       "      <th>Date</th>\n",
       "      <th></th>\n",
       "      <th></th>\n",
       "      <th></th>\n",
       "      <th></th>\n",
       "      <th></th>\n",
       "      <th></th>\n",
       "    </tr>\n",
       "  </thead>\n",
       "  <tbody>\n",
       "    <tr>\n",
       "      <th>2000-01-13</th>\n",
       "      <td>1.0276</td>\n",
       "      <td>1.6111</td>\n",
       "      <td>0.6255</td>\n",
       "      <td>108.89</td>\n",
       "      <td>29.4837</td>\n",
       "      <td>8.5054</td>\n",
       "    </tr>\n",
       "    <tr>\n",
       "      <th>2000-01-14</th>\n",
       "      <td>1.0225</td>\n",
       "      <td>1.6130</td>\n",
       "      <td>0.6221</td>\n",
       "      <td>108.05</td>\n",
       "      <td>29.2350</td>\n",
       "      <td>8.4632</td>\n",
       "    </tr>\n",
       "    <tr>\n",
       "      <th>2000-01-17</th>\n",
       "      <td>1.0094</td>\n",
       "      <td>1.6136</td>\n",
       "      <td>0.6180</td>\n",
       "      <td>105.81</td>\n",
       "      <td>28.9738</td>\n",
       "      <td>8.3548</td>\n",
       "    </tr>\n",
       "    <tr>\n",
       "      <th>2000-01-18</th>\n",
       "      <td>1.0093</td>\n",
       "      <td>1.6131</td>\n",
       "      <td>0.6174</td>\n",
       "      <td>106.42</td>\n",
       "      <td>28.8510</td>\n",
       "      <td>8.3540</td>\n",
       "    </tr>\n",
       "    <tr>\n",
       "      <th>2000-01-19</th>\n",
       "      <td>1.0105</td>\n",
       "      <td>1.6120</td>\n",
       "      <td>0.6172</td>\n",
       "      <td>106.99</td>\n",
       "      <td>28.8815</td>\n",
       "      <td>8.3639</td>\n",
       "    </tr>\n",
       "    <tr>\n",
       "      <th>2000-01-20</th>\n",
       "      <td>1.0089</td>\n",
       "      <td>1.6147</td>\n",
       "      <td>0.6127</td>\n",
       "      <td>106.44</td>\n",
       "      <td>28.8048</td>\n",
       "      <td>8.3507</td>\n",
       "    </tr>\n",
       "    <tr>\n",
       "      <th>2000-01-21</th>\n",
       "      <td>1.0097</td>\n",
       "      <td>1.6102</td>\n",
       "      <td>0.6113</td>\n",
       "      <td>105.53</td>\n",
       "      <td>28.8342</td>\n",
       "      <td>8.3573</td>\n",
       "    </tr>\n",
       "    <tr>\n",
       "      <th>2000-01-24</th>\n",
       "      <td>1.0027</td>\n",
       "      <td>1.6136</td>\n",
       "      <td>0.6062</td>\n",
       "      <td>105.54</td>\n",
       "      <td>28.6018</td>\n",
       "      <td>8.2993</td>\n",
       "    </tr>\n",
       "    <tr>\n",
       "      <th>2000-01-25</th>\n",
       "      <td>1.0008</td>\n",
       "      <td>1.6121</td>\n",
       "      <td>0.6083</td>\n",
       "      <td>105.69</td>\n",
       "      <td>28.5957</td>\n",
       "      <td>8.2836</td>\n",
       "    </tr>\n",
       "    <tr>\n",
       "      <th>2000-01-26</th>\n",
       "      <td>1.0019</td>\n",
       "      <td>1.6116</td>\n",
       "      <td>0.6094</td>\n",
       "      <td>106.04</td>\n",
       "      <td>28.6658</td>\n",
       "      <td>8.2927</td>\n",
       "    </tr>\n",
       "  </tbody>\n",
       "</table>\n",
       "</div>"
      ],
      "text/plain": [
       "               USD     CHF     GBP     JPY      RUB     CNY\n",
       "Date                                                       \n",
       "2000-01-13  1.0276  1.6111  0.6255  108.89  29.4837  8.5054\n",
       "2000-01-14  1.0225  1.6130  0.6221  108.05  29.2350  8.4632\n",
       "2000-01-17  1.0094  1.6136  0.6180  105.81  28.9738  8.3548\n",
       "2000-01-18  1.0093  1.6131  0.6174  106.42  28.8510  8.3540\n",
       "2000-01-19  1.0105  1.6120  0.6172  106.99  28.8815  8.3639\n",
       "2000-01-20  1.0089  1.6147  0.6127  106.44  28.8048  8.3507\n",
       "2000-01-21  1.0097  1.6102  0.6113  105.53  28.8342  8.3573\n",
       "2000-01-24  1.0027  1.6136  0.6062  105.54  28.6018  8.2993\n",
       "2000-01-25  1.0008  1.6121  0.6083  105.69  28.5957  8.2836\n",
       "2000-01-26  1.0019  1.6116  0.6094  106.04  28.6658  8.2927"
      ]
     },
     "execution_count": 69,
     "metadata": {},
     "output_type": "execute_result"
    }
   ],
   "source": [
    "tx_change.head(10)"
   ]
  },
  {
   "cell_type": "code",
   "execution_count": 70,
   "metadata": {},
   "outputs": [
    {
     "data": {
      "text/plain": [
       "DatetimeIndex(['2000-01-13', '2000-01-14', '2000-01-15', '2000-01-16',\n",
       "               '2000-01-17', '2000-01-18', '2000-01-19', '2000-01-20',\n",
       "               '2000-01-21', '2000-01-22',\n",
       "               ...\n",
       "               '2021-10-20', '2021-10-21', '2021-10-22', '2021-10-23',\n",
       "               '2021-10-24', '2021-10-25', '2021-10-26', '2021-10-27',\n",
       "               '2021-10-28', '2021-10-29'],\n",
       "              dtype='datetime64[ns]', length=7961, freq='D')"
      ]
     },
     "execution_count": 70,
     "metadata": {},
     "output_type": "execute_result"
    }
   ],
   "source": [
    "pd.date_range(tx_change.index[0], tx_change.index[-1], freq='D')"
   ]
  },
  {
   "cell_type": "code",
   "execution_count": 71,
   "metadata": {},
   "outputs": [
    {
     "data": {
      "text/html": [
       "<div>\n",
       "<style scoped>\n",
       "    .dataframe tbody tr th:only-of-type {\n",
       "        vertical-align: middle;\n",
       "    }\n",
       "\n",
       "    .dataframe tbody tr th {\n",
       "        vertical-align: top;\n",
       "    }\n",
       "\n",
       "    .dataframe thead th {\n",
       "        text-align: right;\n",
       "    }\n",
       "</style>\n",
       "<table border=\"1\" class=\"dataframe\">\n",
       "  <thead>\n",
       "    <tr style=\"text-align: right;\">\n",
       "      <th></th>\n",
       "      <th>USD</th>\n",
       "      <th>CHF</th>\n",
       "      <th>GBP</th>\n",
       "      <th>JPY</th>\n",
       "      <th>RUB</th>\n",
       "      <th>CNY</th>\n",
       "    </tr>\n",
       "  </thead>\n",
       "  <tbody>\n",
       "    <tr>\n",
       "      <th>2000-01-13</th>\n",
       "      <td>1.0276</td>\n",
       "      <td>1.6111</td>\n",
       "      <td>0.62550</td>\n",
       "      <td>108.89</td>\n",
       "      <td>29.4837</td>\n",
       "      <td>8.5054</td>\n",
       "    </tr>\n",
       "    <tr>\n",
       "      <th>2000-01-14</th>\n",
       "      <td>1.0225</td>\n",
       "      <td>1.6130</td>\n",
       "      <td>0.62210</td>\n",
       "      <td>108.05</td>\n",
       "      <td>29.2350</td>\n",
       "      <td>8.4632</td>\n",
       "    </tr>\n",
       "    <tr>\n",
       "      <th>2000-01-15</th>\n",
       "      <td>NaN</td>\n",
       "      <td>NaN</td>\n",
       "      <td>NaN</td>\n",
       "      <td>NaN</td>\n",
       "      <td>NaN</td>\n",
       "      <td>NaN</td>\n",
       "    </tr>\n",
       "    <tr>\n",
       "      <th>2000-01-16</th>\n",
       "      <td>NaN</td>\n",
       "      <td>NaN</td>\n",
       "      <td>NaN</td>\n",
       "      <td>NaN</td>\n",
       "      <td>NaN</td>\n",
       "      <td>NaN</td>\n",
       "    </tr>\n",
       "    <tr>\n",
       "      <th>2000-01-17</th>\n",
       "      <td>1.0094</td>\n",
       "      <td>1.6136</td>\n",
       "      <td>0.61800</td>\n",
       "      <td>105.81</td>\n",
       "      <td>28.9738</td>\n",
       "      <td>8.3548</td>\n",
       "    </tr>\n",
       "    <tr>\n",
       "      <th>...</th>\n",
       "      <td>...</td>\n",
       "      <td>...</td>\n",
       "      <td>...</td>\n",
       "      <td>...</td>\n",
       "      <td>...</td>\n",
       "      <td>...</td>\n",
       "    </tr>\n",
       "    <tr>\n",
       "      <th>2021-10-25</th>\n",
       "      <td>1.1603</td>\n",
       "      <td>1.0666</td>\n",
       "      <td>0.84380</td>\n",
       "      <td>131.88</td>\n",
       "      <td>81.1067</td>\n",
       "      <td>7.4142</td>\n",
       "    </tr>\n",
       "    <tr>\n",
       "      <th>2021-10-26</th>\n",
       "      <td>1.1618</td>\n",
       "      <td>1.0684</td>\n",
       "      <td>0.84178</td>\n",
       "      <td>132.47</td>\n",
       "      <td>80.6417</td>\n",
       "      <td>7.4124</td>\n",
       "    </tr>\n",
       "    <tr>\n",
       "      <th>2021-10-27</th>\n",
       "      <td>1.1617</td>\n",
       "      <td>1.0670</td>\n",
       "      <td>0.84530</td>\n",
       "      <td>132.00</td>\n",
       "      <td>81.4950</td>\n",
       "      <td>7.4260</td>\n",
       "    </tr>\n",
       "    <tr>\n",
       "      <th>2021-10-28</th>\n",
       "      <td>1.1593</td>\n",
       "      <td>1.0656</td>\n",
       "      <td>0.84373</td>\n",
       "      <td>131.70</td>\n",
       "      <td>81.6042</td>\n",
       "      <td>7.4169</td>\n",
       "    </tr>\n",
       "    <tr>\n",
       "      <th>2021-10-29</th>\n",
       "      <td>1.1645</td>\n",
       "      <td>1.0611</td>\n",
       "      <td>0.84490</td>\n",
       "      <td>132.62</td>\n",
       "      <td>82.3284</td>\n",
       "      <td>7.4488</td>\n",
       "    </tr>\n",
       "  </tbody>\n",
       "</table>\n",
       "<p>7961 rows × 6 columns</p>\n",
       "</div>"
      ],
      "text/plain": [
       "               USD     CHF      GBP     JPY      RUB     CNY\n",
       "2000-01-13  1.0276  1.6111  0.62550  108.89  29.4837  8.5054\n",
       "2000-01-14  1.0225  1.6130  0.62210  108.05  29.2350  8.4632\n",
       "2000-01-15     NaN     NaN      NaN     NaN      NaN     NaN\n",
       "2000-01-16     NaN     NaN      NaN     NaN      NaN     NaN\n",
       "2000-01-17  1.0094  1.6136  0.61800  105.81  28.9738  8.3548\n",
       "...            ...     ...      ...     ...      ...     ...\n",
       "2021-10-25  1.1603  1.0666  0.84380  131.88  81.1067  7.4142\n",
       "2021-10-26  1.1618  1.0684  0.84178  132.47  80.6417  7.4124\n",
       "2021-10-27  1.1617  1.0670  0.84530  132.00  81.4950  7.4260\n",
       "2021-10-28  1.1593  1.0656  0.84373  131.70  81.6042  7.4169\n",
       "2021-10-29  1.1645  1.0611  0.84490  132.62  82.3284  7.4488\n",
       "\n",
       "[7961 rows x 6 columns]"
      ]
     },
     "execution_count": 71,
     "metadata": {},
     "output_type": "execute_result"
    }
   ],
   "source": [
    "# complétion des données sur une année\n",
    "idx = pd.date_range(tx_change.index[0], tx_change.index[-1], freq='D')\n",
    "tx_change_full = tx_change.reindex(idx)\n",
    "tx_change_full"
   ]
  },
  {
   "cell_type": "code",
   "execution_count": 72,
   "metadata": {},
   "outputs": [
    {
     "data": {
      "text/html": [
       "<div>\n",
       "<style scoped>\n",
       "    .dataframe tbody tr th:only-of-type {\n",
       "        vertical-align: middle;\n",
       "    }\n",
       "\n",
       "    .dataframe tbody tr th {\n",
       "        vertical-align: top;\n",
       "    }\n",
       "\n",
       "    .dataframe thead th {\n",
       "        text-align: right;\n",
       "    }\n",
       "</style>\n",
       "<table border=\"1\" class=\"dataframe\">\n",
       "  <thead>\n",
       "    <tr style=\"text-align: right;\">\n",
       "      <th></th>\n",
       "      <th>USD</th>\n",
       "      <th>CHF</th>\n",
       "      <th>GBP</th>\n",
       "      <th>JPY</th>\n",
       "      <th>RUB</th>\n",
       "      <th>CNY</th>\n",
       "    </tr>\n",
       "  </thead>\n",
       "  <tbody>\n",
       "    <tr>\n",
       "      <th>2000-01-13</th>\n",
       "      <td>1.0276</td>\n",
       "      <td>1.6111</td>\n",
       "      <td>0.6255</td>\n",
       "      <td>108.89</td>\n",
       "      <td>29.4837</td>\n",
       "      <td>8.5054</td>\n",
       "    </tr>\n",
       "    <tr>\n",
       "      <th>2000-01-14</th>\n",
       "      <td>1.0225</td>\n",
       "      <td>1.6130</td>\n",
       "      <td>0.6221</td>\n",
       "      <td>108.05</td>\n",
       "      <td>29.2350</td>\n",
       "      <td>8.4632</td>\n",
       "    </tr>\n",
       "    <tr>\n",
       "      <th>2000-01-15</th>\n",
       "      <td>NaN</td>\n",
       "      <td>NaN</td>\n",
       "      <td>NaN</td>\n",
       "      <td>NaN</td>\n",
       "      <td>NaN</td>\n",
       "      <td>NaN</td>\n",
       "    </tr>\n",
       "    <tr>\n",
       "      <th>2000-01-16</th>\n",
       "      <td>NaN</td>\n",
       "      <td>NaN</td>\n",
       "      <td>NaN</td>\n",
       "      <td>NaN</td>\n",
       "      <td>NaN</td>\n",
       "      <td>NaN</td>\n",
       "    </tr>\n",
       "    <tr>\n",
       "      <th>2000-01-17</th>\n",
       "      <td>1.0094</td>\n",
       "      <td>1.6136</td>\n",
       "      <td>0.6180</td>\n",
       "      <td>105.81</td>\n",
       "      <td>28.9738</td>\n",
       "      <td>8.3548</td>\n",
       "    </tr>\n",
       "    <tr>\n",
       "      <th>2000-01-18</th>\n",
       "      <td>1.0093</td>\n",
       "      <td>1.6131</td>\n",
       "      <td>0.6174</td>\n",
       "      <td>106.42</td>\n",
       "      <td>28.8510</td>\n",
       "      <td>8.3540</td>\n",
       "    </tr>\n",
       "    <tr>\n",
       "      <th>2000-01-19</th>\n",
       "      <td>1.0105</td>\n",
       "      <td>1.6120</td>\n",
       "      <td>0.6172</td>\n",
       "      <td>106.99</td>\n",
       "      <td>28.8815</td>\n",
       "      <td>8.3639</td>\n",
       "    </tr>\n",
       "    <tr>\n",
       "      <th>2000-01-20</th>\n",
       "      <td>1.0089</td>\n",
       "      <td>1.6147</td>\n",
       "      <td>0.6127</td>\n",
       "      <td>106.44</td>\n",
       "      <td>28.8048</td>\n",
       "      <td>8.3507</td>\n",
       "    </tr>\n",
       "    <tr>\n",
       "      <th>2000-01-21</th>\n",
       "      <td>1.0097</td>\n",
       "      <td>1.6102</td>\n",
       "      <td>0.6113</td>\n",
       "      <td>105.53</td>\n",
       "      <td>28.8342</td>\n",
       "      <td>8.3573</td>\n",
       "    </tr>\n",
       "    <tr>\n",
       "      <th>2000-01-22</th>\n",
       "      <td>NaN</td>\n",
       "      <td>NaN</td>\n",
       "      <td>NaN</td>\n",
       "      <td>NaN</td>\n",
       "      <td>NaN</td>\n",
       "      <td>NaN</td>\n",
       "    </tr>\n",
       "  </tbody>\n",
       "</table>\n",
       "</div>"
      ],
      "text/plain": [
       "               USD     CHF     GBP     JPY      RUB     CNY\n",
       "2000-01-13  1.0276  1.6111  0.6255  108.89  29.4837  8.5054\n",
       "2000-01-14  1.0225  1.6130  0.6221  108.05  29.2350  8.4632\n",
       "2000-01-15     NaN     NaN     NaN     NaN      NaN     NaN\n",
       "2000-01-16     NaN     NaN     NaN     NaN      NaN     NaN\n",
       "2000-01-17  1.0094  1.6136  0.6180  105.81  28.9738  8.3548\n",
       "2000-01-18  1.0093  1.6131  0.6174  106.42  28.8510  8.3540\n",
       "2000-01-19  1.0105  1.6120  0.6172  106.99  28.8815  8.3639\n",
       "2000-01-20  1.0089  1.6147  0.6127  106.44  28.8048  8.3507\n",
       "2000-01-21  1.0097  1.6102  0.6113  105.53  28.8342  8.3573\n",
       "2000-01-22     NaN     NaN     NaN     NaN      NaN     NaN"
      ]
     },
     "execution_count": 72,
     "metadata": {},
     "output_type": "execute_result"
    }
   ],
   "source": [
    "tx_change_full.head(10)"
   ]
  },
  {
   "cell_type": "code",
   "execution_count": 73,
   "metadata": {},
   "outputs": [
    {
     "data": {
      "text/html": [
       "<div>\n",
       "<style scoped>\n",
       "    .dataframe tbody tr th:only-of-type {\n",
       "        vertical-align: middle;\n",
       "    }\n",
       "\n",
       "    .dataframe tbody tr th {\n",
       "        vertical-align: top;\n",
       "    }\n",
       "\n",
       "    .dataframe thead th {\n",
       "        text-align: right;\n",
       "    }\n",
       "</style>\n",
       "<table border=\"1\" class=\"dataframe\">\n",
       "  <thead>\n",
       "    <tr style=\"text-align: right;\">\n",
       "      <th></th>\n",
       "      <th>USD</th>\n",
       "      <th>CHF</th>\n",
       "      <th>GBP</th>\n",
       "      <th>JPY</th>\n",
       "      <th>RUB</th>\n",
       "      <th>CNY</th>\n",
       "    </tr>\n",
       "  </thead>\n",
       "  <tbody>\n",
       "    <tr>\n",
       "      <th>2000-01-13</th>\n",
       "      <td>1.0276</td>\n",
       "      <td>1.6111</td>\n",
       "      <td>0.62550</td>\n",
       "      <td>108.89</td>\n",
       "      <td>29.4837</td>\n",
       "      <td>8.5054</td>\n",
       "    </tr>\n",
       "    <tr>\n",
       "      <th>2000-01-14</th>\n",
       "      <td>1.0225</td>\n",
       "      <td>1.6130</td>\n",
       "      <td>0.62210</td>\n",
       "      <td>108.05</td>\n",
       "      <td>29.2350</td>\n",
       "      <td>8.4632</td>\n",
       "    </tr>\n",
       "    <tr>\n",
       "      <th>2000-01-15</th>\n",
       "      <td>1.0225</td>\n",
       "      <td>1.6130</td>\n",
       "      <td>0.62210</td>\n",
       "      <td>108.05</td>\n",
       "      <td>29.2350</td>\n",
       "      <td>8.4632</td>\n",
       "    </tr>\n",
       "    <tr>\n",
       "      <th>2000-01-16</th>\n",
       "      <td>1.0225</td>\n",
       "      <td>1.6130</td>\n",
       "      <td>0.62210</td>\n",
       "      <td>108.05</td>\n",
       "      <td>29.2350</td>\n",
       "      <td>8.4632</td>\n",
       "    </tr>\n",
       "    <tr>\n",
       "      <th>2000-01-17</th>\n",
       "      <td>1.0094</td>\n",
       "      <td>1.6136</td>\n",
       "      <td>0.61800</td>\n",
       "      <td>105.81</td>\n",
       "      <td>28.9738</td>\n",
       "      <td>8.3548</td>\n",
       "    </tr>\n",
       "    <tr>\n",
       "      <th>...</th>\n",
       "      <td>...</td>\n",
       "      <td>...</td>\n",
       "      <td>...</td>\n",
       "      <td>...</td>\n",
       "      <td>...</td>\n",
       "      <td>...</td>\n",
       "    </tr>\n",
       "    <tr>\n",
       "      <th>2021-10-25</th>\n",
       "      <td>1.1603</td>\n",
       "      <td>1.0666</td>\n",
       "      <td>0.84380</td>\n",
       "      <td>131.88</td>\n",
       "      <td>81.1067</td>\n",
       "      <td>7.4142</td>\n",
       "    </tr>\n",
       "    <tr>\n",
       "      <th>2021-10-26</th>\n",
       "      <td>1.1618</td>\n",
       "      <td>1.0684</td>\n",
       "      <td>0.84178</td>\n",
       "      <td>132.47</td>\n",
       "      <td>80.6417</td>\n",
       "      <td>7.4124</td>\n",
       "    </tr>\n",
       "    <tr>\n",
       "      <th>2021-10-27</th>\n",
       "      <td>1.1617</td>\n",
       "      <td>1.0670</td>\n",
       "      <td>0.84530</td>\n",
       "      <td>132.00</td>\n",
       "      <td>81.4950</td>\n",
       "      <td>7.4260</td>\n",
       "    </tr>\n",
       "    <tr>\n",
       "      <th>2021-10-28</th>\n",
       "      <td>1.1593</td>\n",
       "      <td>1.0656</td>\n",
       "      <td>0.84373</td>\n",
       "      <td>131.70</td>\n",
       "      <td>81.6042</td>\n",
       "      <td>7.4169</td>\n",
       "    </tr>\n",
       "    <tr>\n",
       "      <th>2021-10-29</th>\n",
       "      <td>1.1645</td>\n",
       "      <td>1.0611</td>\n",
       "      <td>0.84490</td>\n",
       "      <td>132.62</td>\n",
       "      <td>82.3284</td>\n",
       "      <td>7.4488</td>\n",
       "    </tr>\n",
       "  </tbody>\n",
       "</table>\n",
       "<p>7961 rows × 6 columns</p>\n",
       "</div>"
      ],
      "text/plain": [
       "               USD     CHF      GBP     JPY      RUB     CNY\n",
       "2000-01-13  1.0276  1.6111  0.62550  108.89  29.4837  8.5054\n",
       "2000-01-14  1.0225  1.6130  0.62210  108.05  29.2350  8.4632\n",
       "2000-01-15  1.0225  1.6130  0.62210  108.05  29.2350  8.4632\n",
       "2000-01-16  1.0225  1.6130  0.62210  108.05  29.2350  8.4632\n",
       "2000-01-17  1.0094  1.6136  0.61800  105.81  28.9738  8.3548\n",
       "...            ...     ...      ...     ...      ...     ...\n",
       "2021-10-25  1.1603  1.0666  0.84380  131.88  81.1067  7.4142\n",
       "2021-10-26  1.1618  1.0684  0.84178  132.47  80.6417  7.4124\n",
       "2021-10-27  1.1617  1.0670  0.84530  132.00  81.4950  7.4260\n",
       "2021-10-28  1.1593  1.0656  0.84373  131.70  81.6042  7.4169\n",
       "2021-10-29  1.1645  1.0611  0.84490  132.62  82.3284  7.4488\n",
       "\n",
       "[7961 rows x 6 columns]"
      ]
     },
     "execution_count": 73,
     "metadata": {},
     "output_type": "execute_result"
    }
   ],
   "source": [
    "# forward filling\n",
    "tx_change_full.fillna(method='ffill')"
   ]
  },
  {
   "cell_type": "code",
   "execution_count": 74,
   "metadata": {},
   "outputs": [
    {
     "data": {
      "text/html": [
       "<div>\n",
       "<style scoped>\n",
       "    .dataframe tbody tr th:only-of-type {\n",
       "        vertical-align: middle;\n",
       "    }\n",
       "\n",
       "    .dataframe tbody tr th {\n",
       "        vertical-align: top;\n",
       "    }\n",
       "\n",
       "    .dataframe thead th {\n",
       "        text-align: right;\n",
       "    }\n",
       "</style>\n",
       "<table border=\"1\" class=\"dataframe\">\n",
       "  <thead>\n",
       "    <tr style=\"text-align: right;\">\n",
       "      <th></th>\n",
       "      <th>USD</th>\n",
       "      <th>CHF</th>\n",
       "      <th>GBP</th>\n",
       "      <th>JPY</th>\n",
       "      <th>RUB</th>\n",
       "      <th>CNY</th>\n",
       "    </tr>\n",
       "  </thead>\n",
       "  <tbody>\n",
       "    <tr>\n",
       "      <th>2000-01-13</th>\n",
       "      <td>1.0276</td>\n",
       "      <td>1.6111</td>\n",
       "      <td>0.62550</td>\n",
       "      <td>108.89</td>\n",
       "      <td>29.4837</td>\n",
       "      <td>8.5054</td>\n",
       "    </tr>\n",
       "    <tr>\n",
       "      <th>2000-01-14</th>\n",
       "      <td>1.0225</td>\n",
       "      <td>1.6130</td>\n",
       "      <td>0.62210</td>\n",
       "      <td>108.05</td>\n",
       "      <td>29.2350</td>\n",
       "      <td>8.4632</td>\n",
       "    </tr>\n",
       "    <tr>\n",
       "      <th>2000-01-15</th>\n",
       "      <td>1.0094</td>\n",
       "      <td>1.6136</td>\n",
       "      <td>0.61800</td>\n",
       "      <td>105.81</td>\n",
       "      <td>28.9738</td>\n",
       "      <td>8.3548</td>\n",
       "    </tr>\n",
       "    <tr>\n",
       "      <th>2000-01-16</th>\n",
       "      <td>1.0094</td>\n",
       "      <td>1.6136</td>\n",
       "      <td>0.61800</td>\n",
       "      <td>105.81</td>\n",
       "      <td>28.9738</td>\n",
       "      <td>8.3548</td>\n",
       "    </tr>\n",
       "    <tr>\n",
       "      <th>2000-01-17</th>\n",
       "      <td>1.0094</td>\n",
       "      <td>1.6136</td>\n",
       "      <td>0.61800</td>\n",
       "      <td>105.81</td>\n",
       "      <td>28.9738</td>\n",
       "      <td>8.3548</td>\n",
       "    </tr>\n",
       "    <tr>\n",
       "      <th>...</th>\n",
       "      <td>...</td>\n",
       "      <td>...</td>\n",
       "      <td>...</td>\n",
       "      <td>...</td>\n",
       "      <td>...</td>\n",
       "      <td>...</td>\n",
       "    </tr>\n",
       "    <tr>\n",
       "      <th>2021-10-25</th>\n",
       "      <td>1.1603</td>\n",
       "      <td>1.0666</td>\n",
       "      <td>0.84380</td>\n",
       "      <td>131.88</td>\n",
       "      <td>81.1067</td>\n",
       "      <td>7.4142</td>\n",
       "    </tr>\n",
       "    <tr>\n",
       "      <th>2021-10-26</th>\n",
       "      <td>1.1618</td>\n",
       "      <td>1.0684</td>\n",
       "      <td>0.84178</td>\n",
       "      <td>132.47</td>\n",
       "      <td>80.6417</td>\n",
       "      <td>7.4124</td>\n",
       "    </tr>\n",
       "    <tr>\n",
       "      <th>2021-10-27</th>\n",
       "      <td>1.1617</td>\n",
       "      <td>1.0670</td>\n",
       "      <td>0.84530</td>\n",
       "      <td>132.00</td>\n",
       "      <td>81.4950</td>\n",
       "      <td>7.4260</td>\n",
       "    </tr>\n",
       "    <tr>\n",
       "      <th>2021-10-28</th>\n",
       "      <td>1.1593</td>\n",
       "      <td>1.0656</td>\n",
       "      <td>0.84373</td>\n",
       "      <td>131.70</td>\n",
       "      <td>81.6042</td>\n",
       "      <td>7.4169</td>\n",
       "    </tr>\n",
       "    <tr>\n",
       "      <th>2021-10-29</th>\n",
       "      <td>1.1645</td>\n",
       "      <td>1.0611</td>\n",
       "      <td>0.84490</td>\n",
       "      <td>132.62</td>\n",
       "      <td>82.3284</td>\n",
       "      <td>7.4488</td>\n",
       "    </tr>\n",
       "  </tbody>\n",
       "</table>\n",
       "<p>7961 rows × 6 columns</p>\n",
       "</div>"
      ],
      "text/plain": [
       "               USD     CHF      GBP     JPY      RUB     CNY\n",
       "2000-01-13  1.0276  1.6111  0.62550  108.89  29.4837  8.5054\n",
       "2000-01-14  1.0225  1.6130  0.62210  108.05  29.2350  8.4632\n",
       "2000-01-15  1.0094  1.6136  0.61800  105.81  28.9738  8.3548\n",
       "2000-01-16  1.0094  1.6136  0.61800  105.81  28.9738  8.3548\n",
       "2000-01-17  1.0094  1.6136  0.61800  105.81  28.9738  8.3548\n",
       "...            ...     ...      ...     ...      ...     ...\n",
       "2021-10-25  1.1603  1.0666  0.84380  131.88  81.1067  7.4142\n",
       "2021-10-26  1.1618  1.0684  0.84178  132.47  80.6417  7.4124\n",
       "2021-10-27  1.1617  1.0670  0.84530  132.00  81.4950  7.4260\n",
       "2021-10-28  1.1593  1.0656  0.84373  131.70  81.6042  7.4169\n",
       "2021-10-29  1.1645  1.0611  0.84490  132.62  82.3284  7.4488\n",
       "\n",
       "[7961 rows x 6 columns]"
      ]
     },
     "execution_count": 74,
     "metadata": {},
     "output_type": "execute_result"
    }
   ],
   "source": [
    "# backward filling\n",
    "tx_change_full.fillna(method='bfill')"
   ]
  },
  {
   "cell_type": "code",
   "execution_count": 75,
   "metadata": {},
   "outputs": [
    {
     "data": {
      "text/html": [
       "<div>\n",
       "<style scoped>\n",
       "    .dataframe tbody tr th:only-of-type {\n",
       "        vertical-align: middle;\n",
       "    }\n",
       "\n",
       "    .dataframe tbody tr th {\n",
       "        vertical-align: top;\n",
       "    }\n",
       "\n",
       "    .dataframe thead th {\n",
       "        text-align: right;\n",
       "    }\n",
       "</style>\n",
       "<table border=\"1\" class=\"dataframe\">\n",
       "  <thead>\n",
       "    <tr style=\"text-align: right;\">\n",
       "      <th></th>\n",
       "      <th>USD</th>\n",
       "      <th>CHF</th>\n",
       "      <th>GBP</th>\n",
       "      <th>JPY</th>\n",
       "      <th>RUB</th>\n",
       "      <th>CNY</th>\n",
       "    </tr>\n",
       "  </thead>\n",
       "  <tbody>\n",
       "    <tr>\n",
       "      <th>2000-01-13</th>\n",
       "      <td>1.027600</td>\n",
       "      <td>1.6111</td>\n",
       "      <td>0.625500</td>\n",
       "      <td>108.890000</td>\n",
       "      <td>29.483700</td>\n",
       "      <td>8.505400</td>\n",
       "    </tr>\n",
       "    <tr>\n",
       "      <th>2000-01-14</th>\n",
       "      <td>1.022500</td>\n",
       "      <td>1.6130</td>\n",
       "      <td>0.622100</td>\n",
       "      <td>108.050000</td>\n",
       "      <td>29.235000</td>\n",
       "      <td>8.463200</td>\n",
       "    </tr>\n",
       "    <tr>\n",
       "      <th>2000-01-15</th>\n",
       "      <td>1.018133</td>\n",
       "      <td>1.6132</td>\n",
       "      <td>0.620733</td>\n",
       "      <td>107.303333</td>\n",
       "      <td>29.147933</td>\n",
       "      <td>8.427067</td>\n",
       "    </tr>\n",
       "    <tr>\n",
       "      <th>2000-01-16</th>\n",
       "      <td>1.013767</td>\n",
       "      <td>1.6134</td>\n",
       "      <td>0.619367</td>\n",
       "      <td>106.556667</td>\n",
       "      <td>29.060867</td>\n",
       "      <td>8.390933</td>\n",
       "    </tr>\n",
       "    <tr>\n",
       "      <th>2000-01-17</th>\n",
       "      <td>1.009400</td>\n",
       "      <td>1.6136</td>\n",
       "      <td>0.618000</td>\n",
       "      <td>105.810000</td>\n",
       "      <td>28.973800</td>\n",
       "      <td>8.354800</td>\n",
       "    </tr>\n",
       "    <tr>\n",
       "      <th>...</th>\n",
       "      <td>...</td>\n",
       "      <td>...</td>\n",
       "      <td>...</td>\n",
       "      <td>...</td>\n",
       "      <td>...</td>\n",
       "      <td>...</td>\n",
       "    </tr>\n",
       "    <tr>\n",
       "      <th>2021-10-25</th>\n",
       "      <td>1.160300</td>\n",
       "      <td>1.0666</td>\n",
       "      <td>0.843800</td>\n",
       "      <td>131.880000</td>\n",
       "      <td>81.106700</td>\n",
       "      <td>7.414200</td>\n",
       "    </tr>\n",
       "    <tr>\n",
       "      <th>2021-10-26</th>\n",
       "      <td>1.161800</td>\n",
       "      <td>1.0684</td>\n",
       "      <td>0.841780</td>\n",
       "      <td>132.470000</td>\n",
       "      <td>80.641700</td>\n",
       "      <td>7.412400</td>\n",
       "    </tr>\n",
       "    <tr>\n",
       "      <th>2021-10-27</th>\n",
       "      <td>1.161700</td>\n",
       "      <td>1.0670</td>\n",
       "      <td>0.845300</td>\n",
       "      <td>132.000000</td>\n",
       "      <td>81.495000</td>\n",
       "      <td>7.426000</td>\n",
       "    </tr>\n",
       "    <tr>\n",
       "      <th>2021-10-28</th>\n",
       "      <td>1.159300</td>\n",
       "      <td>1.0656</td>\n",
       "      <td>0.843730</td>\n",
       "      <td>131.700000</td>\n",
       "      <td>81.604200</td>\n",
       "      <td>7.416900</td>\n",
       "    </tr>\n",
       "    <tr>\n",
       "      <th>2021-10-29</th>\n",
       "      <td>1.164500</td>\n",
       "      <td>1.0611</td>\n",
       "      <td>0.844900</td>\n",
       "      <td>132.620000</td>\n",
       "      <td>82.328400</td>\n",
       "      <td>7.448800</td>\n",
       "    </tr>\n",
       "  </tbody>\n",
       "</table>\n",
       "<p>7961 rows × 6 columns</p>\n",
       "</div>"
      ],
      "text/plain": [
       "                 USD     CHF       GBP         JPY        RUB       CNY\n",
       "2000-01-13  1.027600  1.6111  0.625500  108.890000  29.483700  8.505400\n",
       "2000-01-14  1.022500  1.6130  0.622100  108.050000  29.235000  8.463200\n",
       "2000-01-15  1.018133  1.6132  0.620733  107.303333  29.147933  8.427067\n",
       "2000-01-16  1.013767  1.6134  0.619367  106.556667  29.060867  8.390933\n",
       "2000-01-17  1.009400  1.6136  0.618000  105.810000  28.973800  8.354800\n",
       "...              ...     ...       ...         ...        ...       ...\n",
       "2021-10-25  1.160300  1.0666  0.843800  131.880000  81.106700  7.414200\n",
       "2021-10-26  1.161800  1.0684  0.841780  132.470000  80.641700  7.412400\n",
       "2021-10-27  1.161700  1.0670  0.845300  132.000000  81.495000  7.426000\n",
       "2021-10-28  1.159300  1.0656  0.843730  131.700000  81.604200  7.416900\n",
       "2021-10-29  1.164500  1.0611  0.844900  132.620000  82.328400  7.448800\n",
       "\n",
       "[7961 rows x 6 columns]"
      ]
     },
     "execution_count": 75,
     "metadata": {},
     "output_type": "execute_result"
    }
   ],
   "source": [
    "# interpolate\n",
    "tx_change_full.interpolate()"
   ]
  },
  {
   "cell_type": "code",
   "execution_count": 78,
   "metadata": {},
   "outputs": [
    {
     "data": {
      "text/plain": [
       "array([  0.,   5.,  10.,  15.,  20.,  25.,  30.,  35.,  40.,  45.,  50.,\n",
       "        55.,  60.,  65.,  70.,  75.,  80.,  85.,  90.,  95., 100.])"
      ]
     },
     "execution_count": 78,
     "metadata": {},
     "output_type": "execute_result"
    }
   ],
   "source": [
    "# numpy.linspace\n",
    "np.linspace(0, 100, 21)"
   ]
  },
  {
   "cell_type": "code",
   "execution_count": 79,
   "metadata": {},
   "outputs": [
    {
     "data": {
      "text/html": [
       "<div>\n",
       "<style scoped>\n",
       "    .dataframe tbody tr th:only-of-type {\n",
       "        vertical-align: middle;\n",
       "    }\n",
       "\n",
       "    .dataframe tbody tr th {\n",
       "        vertical-align: top;\n",
       "    }\n",
       "\n",
       "    .dataframe thead th {\n",
       "        text-align: right;\n",
       "    }\n",
       "</style>\n",
       "<table border=\"1\" class=\"dataframe\">\n",
       "  <thead>\n",
       "    <tr style=\"text-align: right;\">\n",
       "      <th></th>\n",
       "      <th>0</th>\n",
       "      <th>1</th>\n",
       "      <th>2</th>\n",
       "      <th>3</th>\n",
       "      <th>4</th>\n",
       "      <th>5</th>\n",
       "    </tr>\n",
       "  </thead>\n",
       "  <tbody>\n",
       "    <tr>\n",
       "      <th>0</th>\n",
       "      <td>1.022500</td>\n",
       "      <td>1.6130</td>\n",
       "      <td>0.622100</td>\n",
       "      <td>108.050000</td>\n",
       "      <td>29.235000</td>\n",
       "      <td>8.463200</td>\n",
       "    </tr>\n",
       "    <tr>\n",
       "      <th>1</th>\n",
       "      <td>1.018133</td>\n",
       "      <td>1.6132</td>\n",
       "      <td>0.620733</td>\n",
       "      <td>107.303333</td>\n",
       "      <td>29.147933</td>\n",
       "      <td>8.427067</td>\n",
       "    </tr>\n",
       "    <tr>\n",
       "      <th>2</th>\n",
       "      <td>1.013767</td>\n",
       "      <td>1.6134</td>\n",
       "      <td>0.619367</td>\n",
       "      <td>106.556667</td>\n",
       "      <td>29.060867</td>\n",
       "      <td>8.390933</td>\n",
       "    </tr>\n",
       "    <tr>\n",
       "      <th>3</th>\n",
       "      <td>1.009400</td>\n",
       "      <td>1.6136</td>\n",
       "      <td>0.618000</td>\n",
       "      <td>105.810000</td>\n",
       "      <td>28.973800</td>\n",
       "      <td>8.354800</td>\n",
       "    </tr>\n",
       "  </tbody>\n",
       "</table>\n",
       "</div>"
      ],
      "text/plain": [
       "          0       1         2           3          4         5\n",
       "0  1.022500  1.6130  0.622100  108.050000  29.235000  8.463200\n",
       "1  1.018133  1.6132  0.620733  107.303333  29.147933  8.427067\n",
       "2  1.013767  1.6134  0.619367  106.556667  29.060867  8.390933\n",
       "3  1.009400  1.6136  0.618000  105.810000  28.973800  8.354800"
      ]
     },
     "execution_count": 79,
     "metadata": {},
     "output_type": "execute_result"
    }
   ],
   "source": [
    "# numpy.linspace\n",
    "arr = np.linspace(tx_change_full.iloc[1], tx_change_full.iloc[4], 4)\n",
    "pd.DataFrame(arr)"
   ]
  },
  {
   "cell_type": "markdown",
   "metadata": {},
   "source": [
    "### Agrégations temporelles\n",
    "\n",
    "Il est possible d'agréger les données selon une certain période de temps en utilisant la méthode `resample()` avec un symbol signifiant la période considérée en ensuite appliquer une méthode d'agrégat.\n",
    "\n",
    "La méthode `resample()` agit de manière similaire à la méthode `groupby()`."
   ]
  },
  {
   "cell_type": "code",
   "execution_count": 80,
   "metadata": {},
   "outputs": [
    {
     "name": "stdout",
     "output_type": "stream",
     "text": [
      "<class 'pandas.core.frame.DataFrame'>\n",
      "DatetimeIndex: 5578 entries, 2000-01-13 to 2021-10-29\n",
      "Data columns (total 6 columns):\n",
      " #   Column  Non-Null Count  Dtype  \n",
      "---  ------  --------------  -----  \n",
      " 0   USD     5578 non-null   float64\n",
      " 1   CHF     5578 non-null   float64\n",
      " 2   GBP     5578 non-null   float64\n",
      " 3   JPY     5578 non-null   float64\n",
      " 4   RUB     5578 non-null   float64\n",
      " 5   CNY     5578 non-null   float64\n",
      "dtypes: float64(6)\n",
      "memory usage: 434.1 KB\n"
     ]
    }
   ],
   "source": [
    "tx_change.info()"
   ]
  },
  {
   "cell_type": "code",
   "execution_count": 81,
   "metadata": {},
   "outputs": [
    {
     "data": {
      "text/plain": [
       "Date\n",
       "2000-12-31    247\n",
       "2001-12-31    254\n",
       "2002-12-31    255\n",
       "2003-12-31    255\n",
       "2004-12-31    259\n",
       "             ... \n",
       "2017-12-31    255\n",
       "2018-12-31    255\n",
       "2019-12-31    255\n",
       "2020-12-31    257\n",
       "2021-12-31    213\n",
       "Freq: A-DEC, Length: 22, dtype: int64"
      ]
     },
     "execution_count": 81,
     "metadata": {},
     "output_type": "execute_result"
    }
   ],
   "source": [
    "# agrégation annuelle\n",
    "tx_change.resample('A').size()"
   ]
  },
  {
   "cell_type": "code",
   "execution_count": 82,
   "metadata": {},
   "outputs": [
    {
     "data": {
      "text/html": [
       "<div>\n",
       "<style scoped>\n",
       "    .dataframe tbody tr th:only-of-type {\n",
       "        vertical-align: middle;\n",
       "    }\n",
       "\n",
       "    .dataframe tbody tr th {\n",
       "        vertical-align: top;\n",
       "    }\n",
       "\n",
       "    .dataframe thead th {\n",
       "        text-align: right;\n",
       "    }\n",
       "</style>\n",
       "<table border=\"1\" class=\"dataframe\">\n",
       "  <thead>\n",
       "    <tr style=\"text-align: right;\">\n",
       "      <th></th>\n",
       "      <th>USD</th>\n",
       "      <th>CHF</th>\n",
       "      <th>GBP</th>\n",
       "      <th>JPY</th>\n",
       "      <th>RUB</th>\n",
       "      <th>CNY</th>\n",
       "    </tr>\n",
       "    <tr>\n",
       "      <th>Date</th>\n",
       "      <th></th>\n",
       "      <th></th>\n",
       "      <th></th>\n",
       "      <th></th>\n",
       "      <th></th>\n",
       "      <th></th>\n",
       "    </tr>\n",
       "  </thead>\n",
       "  <tbody>\n",
       "    <tr>\n",
       "      <th>2000-12-31</th>\n",
       "      <td>1.0276</td>\n",
       "      <td>1.6147</td>\n",
       "      <td>0.64020</td>\n",
       "      <td>111.88</td>\n",
       "      <td>29.4837</td>\n",
       "      <td>8.5054</td>\n",
       "    </tr>\n",
       "    <tr>\n",
       "      <th>2001-12-31</th>\n",
       "      <td>0.9545</td>\n",
       "      <td>1.5434</td>\n",
       "      <td>0.64080</td>\n",
       "      <td>115.90</td>\n",
       "      <td>27.5286</td>\n",
       "      <td>7.9004</td>\n",
       "    </tr>\n",
       "    <tr>\n",
       "      <th>2002-12-31</th>\n",
       "      <td>1.0487</td>\n",
       "      <td>1.4856</td>\n",
       "      <td>0.65050</td>\n",
       "      <td>125.18</td>\n",
       "      <td>33.5108</td>\n",
       "      <td>8.6801</td>\n",
       "    </tr>\n",
       "    <tr>\n",
       "      <th>2003-12-31</th>\n",
       "      <td>1.2630</td>\n",
       "      <td>1.5729</td>\n",
       "      <td>0.72350</td>\n",
       "      <td>140.31</td>\n",
       "      <td>36.9555</td>\n",
       "      <td>10.4539</td>\n",
       "    </tr>\n",
       "    <tr>\n",
       "      <th>2004-12-31</th>\n",
       "      <td>1.3633</td>\n",
       "      <td>1.5838</td>\n",
       "      <td>0.70880</td>\n",
       "      <td>141.03</td>\n",
       "      <td>37.9096</td>\n",
       "      <td>11.2840</td>\n",
       "    </tr>\n",
       "    <tr>\n",
       "      <th>...</th>\n",
       "      <td>...</td>\n",
       "      <td>...</td>\n",
       "      <td>...</td>\n",
       "      <td>...</td>\n",
       "      <td>...</td>\n",
       "      <td>...</td>\n",
       "    </tr>\n",
       "    <tr>\n",
       "      <th>2017-12-31</th>\n",
       "      <td>1.2060</td>\n",
       "      <td>1.1772</td>\n",
       "      <td>0.92965</td>\n",
       "      <td>135.01</td>\n",
       "      <td>71.8059</td>\n",
       "      <td>7.9757</td>\n",
       "    </tr>\n",
       "    <tr>\n",
       "      <th>2018-12-31</th>\n",
       "      <td>1.2493</td>\n",
       "      <td>1.1986</td>\n",
       "      <td>0.90680</td>\n",
       "      <td>137.22</td>\n",
       "      <td>81.2688</td>\n",
       "      <td>8.0958</td>\n",
       "    </tr>\n",
       "    <tr>\n",
       "      <th>2019-12-31</th>\n",
       "      <td>1.1535</td>\n",
       "      <td>1.1470</td>\n",
       "      <td>0.92830</td>\n",
       "      <td>127.35</td>\n",
       "      <td>79.3589</td>\n",
       "      <td>7.9519</td>\n",
       "    </tr>\n",
       "    <tr>\n",
       "      <th>2020-12-31</th>\n",
       "      <td>1.2281</td>\n",
       "      <td>1.0866</td>\n",
       "      <td>0.92985</td>\n",
       "      <td>127.23</td>\n",
       "      <td>93.7450</td>\n",
       "      <td>8.2637</td>\n",
       "    </tr>\n",
       "    <tr>\n",
       "      <th>2021-12-31</th>\n",
       "      <td>1.2338</td>\n",
       "      <td>1.1114</td>\n",
       "      <td>0.90635</td>\n",
       "      <td>134.05</td>\n",
       "      <td>92.3842</td>\n",
       "      <td>7.9653</td>\n",
       "    </tr>\n",
       "  </tbody>\n",
       "</table>\n",
       "<p>22 rows × 6 columns</p>\n",
       "</div>"
      ],
      "text/plain": [
       "               USD     CHF      GBP     JPY      RUB      CNY\n",
       "Date                                                         \n",
       "2000-12-31  1.0276  1.6147  0.64020  111.88  29.4837   8.5054\n",
       "2001-12-31  0.9545  1.5434  0.64080  115.90  27.5286   7.9004\n",
       "2002-12-31  1.0487  1.4856  0.65050  125.18  33.5108   8.6801\n",
       "2003-12-31  1.2630  1.5729  0.72350  140.31  36.9555  10.4539\n",
       "2004-12-31  1.3633  1.5838  0.70880  141.03  37.9096  11.2840\n",
       "...            ...     ...      ...     ...      ...      ...\n",
       "2017-12-31  1.2060  1.1772  0.92965  135.01  71.8059   7.9757\n",
       "2018-12-31  1.2493  1.1986  0.90680  137.22  81.2688   8.0958\n",
       "2019-12-31  1.1535  1.1470  0.92830  127.35  79.3589   7.9519\n",
       "2020-12-31  1.2281  1.0866  0.92985  127.23  93.7450   8.2637\n",
       "2021-12-31  1.2338  1.1114  0.90635  134.05  92.3842   7.9653\n",
       "\n",
       "[22 rows x 6 columns]"
      ]
     },
     "execution_count": 82,
     "metadata": {},
     "output_type": "execute_result"
    }
   ],
   "source": [
    "# agrégation annuelle\n",
    "tx_change.resample('A').max()"
   ]
  },
  {
   "cell_type": "code",
   "execution_count": 83,
   "metadata": {},
   "outputs": [
    {
     "data": {
      "text/html": [
       "<div>\n",
       "<style scoped>\n",
       "    .dataframe tbody tr th:only-of-type {\n",
       "        vertical-align: middle;\n",
       "    }\n",
       "\n",
       "    .dataframe tbody tr th {\n",
       "        vertical-align: top;\n",
       "    }\n",
       "\n",
       "    .dataframe thead th {\n",
       "        text-align: right;\n",
       "    }\n",
       "</style>\n",
       "<table border=\"1\" class=\"dataframe\">\n",
       "  <thead>\n",
       "    <tr style=\"text-align: right;\">\n",
       "      <th></th>\n",
       "      <th>USD</th>\n",
       "      <th>CHF</th>\n",
       "      <th>GBP</th>\n",
       "      <th>JPY</th>\n",
       "      <th>RUB</th>\n",
       "      <th>CNY</th>\n",
       "    </tr>\n",
       "    <tr>\n",
       "      <th>Date</th>\n",
       "      <th></th>\n",
       "      <th></th>\n",
       "      <th></th>\n",
       "      <th></th>\n",
       "      <th></th>\n",
       "      <th></th>\n",
       "    </tr>\n",
       "  </thead>\n",
       "  <tbody>\n",
       "    <tr>\n",
       "      <th>2000-01-31</th>\n",
       "      <td>1.004985</td>\n",
       "      <td>1.612115</td>\n",
       "      <td>0.612831</td>\n",
       "      <td>106.091538</td>\n",
       "      <td>28.742685</td>\n",
       "      <td>8.318246</td>\n",
       "    </tr>\n",
       "    <tr>\n",
       "      <th>2000-02-29</th>\n",
       "      <td>0.983424</td>\n",
       "      <td>1.606886</td>\n",
       "      <td>0.614657</td>\n",
       "      <td>107.640952</td>\n",
       "      <td>28.288986</td>\n",
       "      <td>8.139800</td>\n",
       "    </tr>\n",
       "    <tr>\n",
       "      <th>2000-03-31</th>\n",
       "      <td>0.964343</td>\n",
       "      <td>1.604243</td>\n",
       "      <td>0.610626</td>\n",
       "      <td>102.590870</td>\n",
       "      <td>27.466526</td>\n",
       "      <td>7.981870</td>\n",
       "    </tr>\n",
       "    <tr>\n",
       "      <th>2000-04-30</th>\n",
       "      <td>0.946950</td>\n",
       "      <td>1.573956</td>\n",
       "      <td>0.598017</td>\n",
       "      <td>99.924444</td>\n",
       "      <td>27.098239</td>\n",
       "      <td>7.837911</td>\n",
       "    </tr>\n",
       "    <tr>\n",
       "      <th>2000-05-31</th>\n",
       "      <td>0.905968</td>\n",
       "      <td>1.556164</td>\n",
       "      <td>0.601509</td>\n",
       "      <td>98.090455</td>\n",
       "      <td>25.657673</td>\n",
       "      <td>7.498705</td>\n",
       "    </tr>\n",
       "    <tr>\n",
       "      <th>...</th>\n",
       "      <td>...</td>\n",
       "      <td>...</td>\n",
       "      <td>...</td>\n",
       "      <td>...</td>\n",
       "      <td>...</td>\n",
       "      <td>...</td>\n",
       "    </tr>\n",
       "    <tr>\n",
       "      <th>2021-06-30</th>\n",
       "      <td>1.204709</td>\n",
       "      <td>1.094000</td>\n",
       "      <td>0.858720</td>\n",
       "      <td>132.631364</td>\n",
       "      <td>87.456068</td>\n",
       "      <td>7.739114</td>\n",
       "    </tr>\n",
       "    <tr>\n",
       "      <th>2021-07-31</th>\n",
       "      <td>1.182182</td>\n",
       "      <td>1.085595</td>\n",
       "      <td>0.856130</td>\n",
       "      <td>130.349091</td>\n",
       "      <td>87.397018</td>\n",
       "      <td>7.653632</td>\n",
       "    </tr>\n",
       "    <tr>\n",
       "      <th>2021-08-31</th>\n",
       "      <td>1.177182</td>\n",
       "      <td>1.076177</td>\n",
       "      <td>0.852874</td>\n",
       "      <td>129.284091</td>\n",
       "      <td>86.606650</td>\n",
       "      <td>7.623655</td>\n",
       "    </tr>\n",
       "    <tr>\n",
       "      <th>2021-09-30</th>\n",
       "      <td>1.177032</td>\n",
       "      <td>1.085732</td>\n",
       "      <td>0.856833</td>\n",
       "      <td>129.656364</td>\n",
       "      <td>85.773964</td>\n",
       "      <td>7.600718</td>\n",
       "    </tr>\n",
       "    <tr>\n",
       "      <th>2021-10-31</th>\n",
       "      <td>1.160148</td>\n",
       "      <td>1.070819</td>\n",
       "      <td>0.846944</td>\n",
       "      <td>131.212381</td>\n",
       "      <td>82.772662</td>\n",
       "      <td>7.449967</td>\n",
       "    </tr>\n",
       "  </tbody>\n",
       "</table>\n",
       "<p>262 rows × 6 columns</p>\n",
       "</div>"
      ],
      "text/plain": [
       "                 USD       CHF       GBP         JPY        RUB       CNY\n",
       "Date                                                                     \n",
       "2000-01-31  1.004985  1.612115  0.612831  106.091538  28.742685  8.318246\n",
       "2000-02-29  0.983424  1.606886  0.614657  107.640952  28.288986  8.139800\n",
       "2000-03-31  0.964343  1.604243  0.610626  102.590870  27.466526  7.981870\n",
       "2000-04-30  0.946950  1.573956  0.598017   99.924444  27.098239  7.837911\n",
       "2000-05-31  0.905968  1.556164  0.601509   98.090455  25.657673  7.498705\n",
       "...              ...       ...       ...         ...        ...       ...\n",
       "2021-06-30  1.204709  1.094000  0.858720  132.631364  87.456068  7.739114\n",
       "2021-07-31  1.182182  1.085595  0.856130  130.349091  87.397018  7.653632\n",
       "2021-08-31  1.177182  1.076177  0.852874  129.284091  86.606650  7.623655\n",
       "2021-09-30  1.177032  1.085732  0.856833  129.656364  85.773964  7.600718\n",
       "2021-10-31  1.160148  1.070819  0.846944  131.212381  82.772662  7.449967\n",
       "\n",
       "[262 rows x 6 columns]"
      ]
     },
     "execution_count": 83,
     "metadata": {},
     "output_type": "execute_result"
    }
   ],
   "source": [
    "# agrégation mensuelle\n",
    "tx_change.resample('M').mean()"
   ]
  },
  {
   "cell_type": "markdown",
   "metadata": {},
   "source": [
    "#### fréquences symboliques utilisables (extrait)"
   ]
  },
  {
   "cell_type": "markdown",
   "metadata": {},
   "source": [
    "Alias | Offset type | Description\n",
    "- | - | -\n",
    "D | Day | Calendar daily\n",
    "B | BusinessDay | Business daily\n",
    "H | Hour | Hourly\n",
    "T or min | Minute | Minutely\n",
    "S | Second | Secondly\n",
    "L or ms | Milli | Millisecond (1/1000th of 1 second)\n",
    "U | Micro | Microsecond (1/1000000th of 1 second)\n",
    "M | MonthEnd | Last calendar day of month\n",
    "BM | BusinessMonthEnd | Last business day (weekday) of month\n",
    "MS | MonthBegin | First calendar day of month\n",
    "BMS | BusinessMonthBegin | First weekday of month\n",
    "W-MON, W-TUE, ... | Week | Weekly on given day of week: MON, TUE, WED, THU, FRI, SAT, or SUN.\n",
    "Q-JAN, Q-FEB, ... | QuarterEnd | Quarterly dates anchored on last calendar day of each month,for year ending in indicated month: JAN, FEB, MAR, APR, MAY, JUN, JUL, AUG, SEP, OCT, NOV, or DEC.\n",
    "A-JAN, A-FEB, ... | YearEnd | Annual dates anchored on last calendar day of given month: JAN, FEB, MAR, APR, MAY, JUN, JUL, AUG, SEP, OCT, NOV, or DEC.\n",
    "\n",
    "Source: Python for Data Analysis, Wes McKinney, O'Reilly"
   ]
  },
  {
   "cell_type": "markdown",
   "metadata": {},
   "source": [
    "### Graphiques temporels\n",
    "\n",
    "Il est possible de produire directement des graphiques."
   ]
  },
  {
   "cell_type": "code",
   "execution_count": 84,
   "metadata": {},
   "outputs": [
    {
     "data": {
      "image/png": "[encoded data removed]",
      "text/plain": [
       "<Figure size 432x288 with 1 Axes>"
      ]
     },
     "metadata": {
      "needs_background": "light"
     },
     "output_type": "display_data"
    }
   ],
   "source": [
    "# taux de change\n",
    "tx_change.plot();"
   ]
  },
  {
   "cell_type": "markdown",
   "metadata": {},
   "source": [
    "Ci-dessous on divise les taux par leur moyenne respective afin d'ajuster les échelles et qu'elles soient comparables."
   ]
  },
  {
   "cell_type": "code",
   "execution_count": 85,
   "metadata": {},
   "outputs": [
    {
     "data": {
      "image/png": "[encoded data removed]",
      "text/plain": [
       "<Figure size 432x288 with 1 Axes>"
      ]
     },
     "metadata": {
      "needs_background": "light"
     },
     "output_type": "display_data"
    }
   ],
   "source": [
    "# taux de change divisés par leurs moyennes respectives\n",
    "(tx_change / tx_change.mean()).plot();"
   ]
  },
  {
   "cell_type": "markdown",
   "metadata": {},
   "source": [
    "La méthode `rolling()` permet de produire un graphique avec une moyenne mobile par exemple."
   ]
  },
  {
   "cell_type": "code",
   "execution_count": 86,
   "metadata": {},
   "outputs": [
    {
     "data": {
      "image/png": "[encoded data removed]",
      "text/plain": [
       "<Figure size 432x288 with 1 Axes>"
      ]
     },
     "metadata": {
      "needs_background": "light"
     },
     "output_type": "display_data"
    }
   ],
   "source": [
    "# taux de change divisés par leurs moyennes respectives avec une moyenne mobile de 30 jours\n",
    "(tx_change / tx_change.mean()).rolling(30).mean().plot();"
   ]
  },
  {
   "cell_type": "markdown",
   "metadata": {},
   "source": [
    "<div class=\"alert alert-success\">\n",
    "<b>Exercice 4</b>\n",
    "<ul>\n",
    "    <li>Afficher un graphique des taux de change divisés par leurs dernières valeurs</li>\n",
    "    <li>Afficher un graphique des taux de change divisés par leurs dernières valeurs avec une moyenne mobile de 30 jours</li>\n",
    "    <li>Afficher un graphique des taux de change divisés par leurs moyennes respectives avec un maximum mobile de 100 jours</li>\n",
    "</ul>\n",
    "</div>"
   ]
  },
  {
   "cell_type": "code",
   "execution_count": 87,
   "metadata": {},
   "outputs": [
    {
     "data": {
      "text/plain": [
       "USD      1.205874\n",
       "CHF      1.338836\n",
       "GBP      0.776745\n",
       "JPY    127.445014\n",
       "RUB     48.689352\n",
       "CNY      8.573021\n",
       "dtype: float64"
      ]
     },
     "execution_count": 87,
     "metadata": {},
     "output_type": "execute_result"
    }
   ],
   "source": [
    "tx_change.mean()"
   ]
  },
  {
   "cell_type": "code",
   "execution_count": 88,
   "metadata": {},
   "outputs": [
    {
     "data": {
      "text/plain": [
       "USD      1.1645\n",
       "CHF      1.0611\n",
       "GBP      0.8449\n",
       "JPY    132.6200\n",
       "RUB     82.3284\n",
       "CNY      7.4488\n",
       "Name: 2021-10-29 00:00:00, dtype: float64"
      ]
     },
     "execution_count": 88,
     "metadata": {},
     "output_type": "execute_result"
    }
   ],
   "source": [
    "tx_change.iloc[-1]"
   ]
  },
  {
   "cell_type": "code",
   "execution_count": 89,
   "metadata": {},
   "outputs": [
    {
     "data": {
      "image/png": "[encoded data removed]",
      "text/plain": [
       "<Figure size 432x288 with 1 Axes>"
      ]
     },
     "metadata": {
      "needs_background": "light"
     },
     "output_type": "display_data"
    }
   ],
   "source": [
    "(tx_change / tx_change.iloc[-1]).plot();"
   ]
  },
  {
   "cell_type": "code",
   "execution_count": 90,
   "metadata": {},
   "outputs": [
    {
     "data": {
      "image/png": "[encoded data removed]",
      "text/plain": [
       "<Figure size 432x288 with 1 Axes>"
      ]
     },
     "metadata": {
      "needs_background": "light"
     },
     "output_type": "display_data"
    }
   ],
   "source": [
    "(tx_change / tx_change.iloc[-1]).rolling(30).mean().plot();"
   ]
  },
  {
   "cell_type": "code",
   "execution_count": 91,
   "metadata": {},
   "outputs": [
    {
     "data": {
      "image/png": "[encoded data removed]",
      "text/plain": [
       "<Figure size 432x288 with 1 Axes>"
      ]
     },
     "metadata": {
      "needs_background": "light"
     },
     "output_type": "display_data"
    }
   ],
   "source": [
    "(tx_change / tx_change.mean()).rolling(100).max().plot();"
   ]
  }
 ],
 "metadata": {
  "kernelspec": {
   "display_name": "Python 3",
   "language": "python",
   "name": "python3"
  },
  "language_info": {
   "codemirror_mode": {
    "name": "ipython",
    "version": 3
   },
   "file_extension": ".py",
   "mimetype": "text/x-python",
   "name": "python",
   "nbconvert_exporter": "python",
   "pygments_lexer": "ipython3",
   "version": "3.8.10"
  }
 },
 "nbformat": 4,
 "nbformat_minor": 2
}
