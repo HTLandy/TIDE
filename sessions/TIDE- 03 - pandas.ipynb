{
 "cells": [
  {
   "cell_type": "markdown",
   "metadata": {},
   "source": [
    "# Master TIDE - Conférences Python 2021\n",
    "\n",
    "Francis Wolinski\n",
    "\n",
    "&copy; 2021 Yotta Conseil\n",
    "\n",
    "# 3. Pandas : manipulations et modifications des données"
   ]
  },
  {
   "cell_type": "code",
   "execution_count": 1,
   "metadata": {
    "scrolled": false
   },
   "outputs": [],
   "source": [
    "# import des modules usuels\n",
    "import pandas as pd\n",
    "import numpy as np\n",
    "\n",
    "# options d'affichage\n",
    "pd.set_option(\"display.max_rows\", 16)"
   ]
  },
  {
   "cell_type": "code",
   "execution_count": 2,
   "metadata": {
    "scrolled": false
   },
   "outputs": [
    {
     "data": {
      "text/html": [
       "<div>\n",
       "<style scoped>\n",
       "    .dataframe tbody tr th:only-of-type {\n",
       "        vertical-align: middle;\n",
       "    }\n",
       "\n",
       "    .dataframe tbody tr th {\n",
       "        vertical-align: top;\n",
       "    }\n",
       "\n",
       "    .dataframe thead th {\n",
       "        text-align: right;\n",
       "    }\n",
       "</style>\n",
       "<table border=\"1\" class=\"dataframe\">\n",
       "  <thead>\n",
       "    <tr style=\"text-align: right;\">\n",
       "      <th></th>\n",
       "      <th>Code Postal</th>\n",
       "      <th>Commune</th>\n",
       "      <th>Département</th>\n",
       "      <th>Région</th>\n",
       "      <th>Statut</th>\n",
       "      <th>Altitude Moyenne</th>\n",
       "      <th>Superficie</th>\n",
       "      <th>Population</th>\n",
       "      <th>geo_point_2d</th>\n",
       "      <th>geo_shape</th>\n",
       "    </tr>\n",
       "    <tr>\n",
       "      <th>Code INSEE</th>\n",
       "      <th></th>\n",
       "      <th></th>\n",
       "      <th></th>\n",
       "      <th></th>\n",
       "      <th></th>\n",
       "      <th></th>\n",
       "      <th></th>\n",
       "      <th></th>\n",
       "      <th></th>\n",
       "      <th></th>\n",
       "    </tr>\n",
       "  </thead>\n",
       "  <tbody>\n",
       "    <tr>\n",
       "      <th>31080</th>\n",
       "      <td>31350</td>\n",
       "      <td>BOULOGNE-SUR-GESSE</td>\n",
       "      <td>HAUTE-GARONNE</td>\n",
       "      <td>MIDI-PYRENEES</td>\n",
       "      <td>Chef-lieu canton</td>\n",
       "      <td>301.0</td>\n",
       "      <td>2470.0</td>\n",
       "      <td>1.6</td>\n",
       "      <td>43.2904403081, 0.650641474176</td>\n",
       "      <td>{\"type\": \"Polygon\", \"coordinates\": [[[0.671852...</td>\n",
       "    </tr>\n",
       "    <tr>\n",
       "      <th>11143</th>\n",
       "      <td>11510</td>\n",
       "      <td>FEUILLA</td>\n",
       "      <td>AUDE</td>\n",
       "      <td>LANGUEDOC-ROUSSILLON</td>\n",
       "      <td>Commune simple</td>\n",
       "      <td>314.0</td>\n",
       "      <td>2426.0</td>\n",
       "      <td>0.1</td>\n",
       "      <td>42.9291375888, 2.90138923544</td>\n",
       "      <td>{\"type\": \"Polygon\", \"coordinates\": [[[2.906996...</td>\n",
       "    </tr>\n",
       "    <tr>\n",
       "      <th>43028</th>\n",
       "      <td>43200</td>\n",
       "      <td>BESSAMOREL</td>\n",
       "      <td>HAUTE-LOIRE</td>\n",
       "      <td>AUVERGNE</td>\n",
       "      <td>Commune simple</td>\n",
       "      <td>888.0</td>\n",
       "      <td>743.0</td>\n",
       "      <td>0.4</td>\n",
       "      <td>45.1306448726, 4.07952494849</td>\n",
       "      <td>{\"type\": \"Polygon\", \"coordinates\": [[[4.091674...</td>\n",
       "    </tr>\n",
       "    <tr>\n",
       "      <th>78506</th>\n",
       "      <td>78660</td>\n",
       "      <td>PRUNAY-EN-YVELINES</td>\n",
       "      <td>YVELINES</td>\n",
       "      <td>ILE-DE-FRANCE</td>\n",
       "      <td>Commune simple</td>\n",
       "      <td>155.0</td>\n",
       "      <td>2717.0</td>\n",
       "      <td>0.8</td>\n",
       "      <td>48.5267627187, 1.80513972814</td>\n",
       "      <td>{\"type\": \"Polygon\", \"coordinates\": [[[1.829610...</td>\n",
       "    </tr>\n",
       "    <tr>\n",
       "      <th>84081</th>\n",
       "      <td>84310</td>\n",
       "      <td>MORIERES-LES-AVIGNON</td>\n",
       "      <td>VAUCLUSE</td>\n",
       "      <td>PROVENCE-ALPES-COTE D'AZUR</td>\n",
       "      <td>Commune simple</td>\n",
       "      <td>49.0</td>\n",
       "      <td>1042.0</td>\n",
       "      <td>7.6</td>\n",
       "      <td>43.9337788848, 4.90875878315</td>\n",
       "      <td>{\"type\": \"Polygon\", \"coordinates\": [[[4.927176...</td>\n",
       "    </tr>\n",
       "    <tr>\n",
       "      <th>...</th>\n",
       "      <td>...</td>\n",
       "      <td>...</td>\n",
       "      <td>...</td>\n",
       "      <td>...</td>\n",
       "      <td>...</td>\n",
       "      <td>...</td>\n",
       "      <td>...</td>\n",
       "      <td>...</td>\n",
       "      <td>...</td>\n",
       "      <td>...</td>\n",
       "    </tr>\n",
       "    <tr>\n",
       "      <th>74066</th>\n",
       "      <td>74270</td>\n",
       "      <td>CHAVANNAZ</td>\n",
       "      <td>HAUTE-SAVOIE</td>\n",
       "      <td>RHONE-ALPES</td>\n",
       "      <td>Commune simple</td>\n",
       "      <td>564.0</td>\n",
       "      <td>321.0</td>\n",
       "      <td>0.2</td>\n",
       "      <td>46.0500384099, 6.01652644319</td>\n",
       "      <td>{\"type\": \"Polygon\", \"coordinates\": [[[6.026228...</td>\n",
       "    </tr>\n",
       "    <tr>\n",
       "      <th>67315</th>\n",
       "      <td>67630</td>\n",
       "      <td>NEEWILLER-PRES-LAUTERBOURG</td>\n",
       "      <td>BAS-RHIN</td>\n",
       "      <td>ALSACE</td>\n",
       "      <td>Commune simple</td>\n",
       "      <td>157.0</td>\n",
       "      <td>725.0</td>\n",
       "      <td>0.7</td>\n",
       "      <td>48.9516989257, 8.11931601006</td>\n",
       "      <td>{\"type\": \"Polygon\", \"coordinates\": [[[8.106826...</td>\n",
       "    </tr>\n",
       "    <tr>\n",
       "      <th>07122</th>\n",
       "      <td>07200</td>\n",
       "      <td>LACHAPELLE-SOUS-AUBENAS</td>\n",
       "      <td>ARDECHE</td>\n",
       "      <td>RHONE-ALPES</td>\n",
       "      <td>Commune simple</td>\n",
       "      <td>257.0</td>\n",
       "      <td>1018.0</td>\n",
       "      <td>1.5</td>\n",
       "      <td>44.5622616562, 4.35906947518</td>\n",
       "      <td>{\"type\": \"Polygon\", \"coordinates\": [[[4.356584...</td>\n",
       "    </tr>\n",
       "    <tr>\n",
       "      <th>01026</th>\n",
       "      <td>01380</td>\n",
       "      <td>BAGE-LE-CHATEL</td>\n",
       "      <td>AIN</td>\n",
       "      <td>RHONE-ALPES</td>\n",
       "      <td>Chef-lieu canton</td>\n",
       "      <td>202.0</td>\n",
       "      <td>86.0</td>\n",
       "      <td>0.8</td>\n",
       "      <td>46.3077069231, 4.92862084189</td>\n",
       "      <td>{\"type\": \"Polygon\", \"coordinates\": [[[4.926593...</td>\n",
       "    </tr>\n",
       "    <tr>\n",
       "      <th>50224</th>\n",
       "      <td>50160</td>\n",
       "      <td>GUILBERVILLE</td>\n",
       "      <td>MANCHE</td>\n",
       "      <td>BASSE-NORMANDIE</td>\n",
       "      <td>Commune simple</td>\n",
       "      <td>165.0</td>\n",
       "      <td>2224.0</td>\n",
       "      <td>1.0</td>\n",
       "      <td>48.9866701737, -0.949588175705</td>\n",
       "      <td>{\"type\": \"Polygon\", \"coordinates\": [[[-0.99753...</td>\n",
       "    </tr>\n",
       "  </tbody>\n",
       "</table>\n",
       "<p>36742 rows × 10 columns</p>\n",
       "</div>"
      ],
      "text/plain": [
       "           Code Postal                     Commune    Département  \\\n",
       "Code INSEE                                                          \n",
       "31080            31350          BOULOGNE-SUR-GESSE  HAUTE-GARONNE   \n",
       "11143            11510                     FEUILLA           AUDE   \n",
       "43028            43200                  BESSAMOREL    HAUTE-LOIRE   \n",
       "78506            78660          PRUNAY-EN-YVELINES       YVELINES   \n",
       "84081            84310        MORIERES-LES-AVIGNON       VAUCLUSE   \n",
       "...                ...                         ...            ...   \n",
       "74066            74270                   CHAVANNAZ   HAUTE-SAVOIE   \n",
       "67315            67630  NEEWILLER-PRES-LAUTERBOURG       BAS-RHIN   \n",
       "07122            07200     LACHAPELLE-SOUS-AUBENAS        ARDECHE   \n",
       "01026            01380              BAGE-LE-CHATEL            AIN   \n",
       "50224            50160                GUILBERVILLE         MANCHE   \n",
       "\n",
       "                                Région            Statut  Altitude Moyenne  \\\n",
       "Code INSEE                                                                   \n",
       "31080                    MIDI-PYRENEES  Chef-lieu canton             301.0   \n",
       "11143             LANGUEDOC-ROUSSILLON    Commune simple             314.0   \n",
       "43028                         AUVERGNE    Commune simple             888.0   \n",
       "78506                    ILE-DE-FRANCE    Commune simple             155.0   \n",
       "84081       PROVENCE-ALPES-COTE D'AZUR    Commune simple              49.0   \n",
       "...                                ...               ...               ...   \n",
       "74066                      RHONE-ALPES    Commune simple             564.0   \n",
       "67315                           ALSACE    Commune simple             157.0   \n",
       "07122                      RHONE-ALPES    Commune simple             257.0   \n",
       "01026                      RHONE-ALPES  Chef-lieu canton             202.0   \n",
       "50224                  BASSE-NORMANDIE    Commune simple             165.0   \n",
       "\n",
       "            Superficie  Population                    geo_point_2d  \\\n",
       "Code INSEE                                                           \n",
       "31080           2470.0         1.6   43.2904403081, 0.650641474176   \n",
       "11143           2426.0         0.1    42.9291375888, 2.90138923544   \n",
       "43028            743.0         0.4    45.1306448726, 4.07952494849   \n",
       "78506           2717.0         0.8    48.5267627187, 1.80513972814   \n",
       "84081           1042.0         7.6    43.9337788848, 4.90875878315   \n",
       "...                ...         ...                             ...   \n",
       "74066            321.0         0.2    46.0500384099, 6.01652644319   \n",
       "67315            725.0         0.7    48.9516989257, 8.11931601006   \n",
       "07122           1018.0         1.5    44.5622616562, 4.35906947518   \n",
       "01026             86.0         0.8    46.3077069231, 4.92862084189   \n",
       "50224           2224.0         1.0  48.9866701737, -0.949588175705   \n",
       "\n",
       "                                                    geo_shape  \n",
       "Code INSEE                                                     \n",
       "31080       {\"type\": \"Polygon\", \"coordinates\": [[[0.671852...  \n",
       "11143       {\"type\": \"Polygon\", \"coordinates\": [[[2.906996...  \n",
       "43028       {\"type\": \"Polygon\", \"coordinates\": [[[4.091674...  \n",
       "78506       {\"type\": \"Polygon\", \"coordinates\": [[[1.829610...  \n",
       "84081       {\"type\": \"Polygon\", \"coordinates\": [[[4.927176...  \n",
       "...                                                       ...  \n",
       "74066       {\"type\": \"Polygon\", \"coordinates\": [[[6.026228...  \n",
       "67315       {\"type\": \"Polygon\", \"coordinates\": [[[8.106826...  \n",
       "07122       {\"type\": \"Polygon\", \"coordinates\": [[[4.356584...  \n",
       "01026       {\"type\": \"Polygon\", \"coordinates\": [[[4.926593...  \n",
       "50224       {\"type\": \"Polygon\", \"coordinates\": [[[-0.99753...  \n",
       "\n",
       "[36742 rows x 10 columns]"
      ]
     },
     "execution_count": 2,
     "metadata": {},
     "output_type": "execute_result"
    }
   ],
   "source": [
    "# chargement des données\n",
    "geo = pd.read_csv(\"correspondance-code-insee-code-postal.csv\",\n",
    "                   sep=';',\n",
    "                   usecols=range(11),\n",
    "                  index_col=\"Code INSEE\")\n",
    "geo"
   ]
  },
  {
   "cell_type": "markdown",
   "metadata": {},
   "source": [
    "## 3.1 Tri\n",
    "La méthode `sort_values()` permet de trier un *DataFrame* selon les valeurs d'une ou plusieurs colonnes (ordre lexicographique) et la méthode `sort_index()` selon les valeurs de l'index.\n",
    "\n",
    "Pour trier selon l'ordre inverse on utilise l'option `ascending=False`.\n",
    "\n",
    "Ces méthodes retournent des copies du `DataFrame` initial, sauf si l'option `inplace=True` est utilisée. Dans ce cas l'objet est effectivement modifié."
   ]
  },
  {
   "cell_type": "code",
   "execution_count": 3,
   "metadata": {
    "scrolled": false
   },
   "outputs": [
    {
     "data": {
      "text/html": [
       "<div>\n",
       "<style scoped>\n",
       "    .dataframe tbody tr th:only-of-type {\n",
       "        vertical-align: middle;\n",
       "    }\n",
       "\n",
       "    .dataframe tbody tr th {\n",
       "        vertical-align: top;\n",
       "    }\n",
       "\n",
       "    .dataframe thead th {\n",
       "        text-align: right;\n",
       "    }\n",
       "</style>\n",
       "<table border=\"1\" class=\"dataframe\">\n",
       "  <thead>\n",
       "    <tr style=\"text-align: right;\">\n",
       "      <th></th>\n",
       "      <th>Code Postal</th>\n",
       "      <th>Commune</th>\n",
       "      <th>Département</th>\n",
       "      <th>Région</th>\n",
       "      <th>Statut</th>\n",
       "      <th>Altitude Moyenne</th>\n",
       "      <th>Superficie</th>\n",
       "      <th>Population</th>\n",
       "      <th>geo_point_2d</th>\n",
       "      <th>geo_shape</th>\n",
       "    </tr>\n",
       "    <tr>\n",
       "      <th>Code INSEE</th>\n",
       "      <th></th>\n",
       "      <th></th>\n",
       "      <th></th>\n",
       "      <th></th>\n",
       "      <th></th>\n",
       "      <th></th>\n",
       "      <th></th>\n",
       "      <th></th>\n",
       "      <th></th>\n",
       "      <th></th>\n",
       "    </tr>\n",
       "  </thead>\n",
       "  <tbody>\n",
       "    <tr>\n",
       "      <th>59404</th>\n",
       "      <td>59122</td>\n",
       "      <td>LES MOERES</td>\n",
       "      <td>NORD</td>\n",
       "      <td>NORD-PAS-DE-CALAIS</td>\n",
       "      <td>Commune simple</td>\n",
       "      <td>0.0</td>\n",
       "      <td>1967.0</td>\n",
       "      <td>0.8</td>\n",
       "      <td>51.0240965472, 2.5473689484</td>\n",
       "      <td>{\"type\": \"Polygon\", \"coordinates\": [[[2.572476...</td>\n",
       "    </tr>\n",
       "    <tr>\n",
       "      <th>34192</th>\n",
       "      <td>34250</td>\n",
       "      <td>PALAVAS-LES-FLOTS</td>\n",
       "      <td>HERAULT</td>\n",
       "      <td>LANGUEDOC-ROUSSILLON</td>\n",
       "      <td>Commune simple</td>\n",
       "      <td>0.0</td>\n",
       "      <td>920.0</td>\n",
       "      <td>6.0</td>\n",
       "      <td>43.533536456, 3.92620839566</td>\n",
       "      <td>{\"type\": \"Polygon\", \"coordinates\": [[[3.907955...</td>\n",
       "    </tr>\n",
       "    <tr>\n",
       "      <th>13096</th>\n",
       "      <td>13460</td>\n",
       "      <td>SAINTES-MARIES-DE-LA-MER</td>\n",
       "      <td>BOUCHES-DU-RHONE</td>\n",
       "      <td>PROVENCE-ALPES-COTE D'AZUR</td>\n",
       "      <td>Chef-lieu canton</td>\n",
       "      <td>1.0</td>\n",
       "      <td>37242.0</td>\n",
       "      <td>2.3</td>\n",
       "      <td>43.50398297, 4.46396357194</td>\n",
       "      <td>{\"type\": \"Polygon\", \"coordinates\": [[[4.597237...</td>\n",
       "    </tr>\n",
       "    <tr>\n",
       "      <th>34344</th>\n",
       "      <td>34280</td>\n",
       "      <td>LA GRANDE-MOTTE</td>\n",
       "      <td>HERAULT</td>\n",
       "      <td>LANGUEDOC-ROUSSILLON</td>\n",
       "      <td>Commune simple</td>\n",
       "      <td>1.0</td>\n",
       "      <td>1391.0</td>\n",
       "      <td>8.4</td>\n",
       "      <td>43.5685394142, 4.0758328467</td>\n",
       "      <td>{\"type\": \"Polygon\", \"coordinates\": [[[4.101041...</td>\n",
       "    </tr>\n",
       "    <tr>\n",
       "      <th>59154</th>\n",
       "      <td>59380</td>\n",
       "      <td>COUDEKERQUE-VILLAGE</td>\n",
       "      <td>NORD</td>\n",
       "      <td>NORD-PAS-DE-CALAIS</td>\n",
       "      <td>Commune simple</td>\n",
       "      <td>1.0</td>\n",
       "      <td>1203.0</td>\n",
       "      <td>1.2</td>\n",
       "      <td>50.9945680467, 2.42167016066</td>\n",
       "      <td>{\"type\": \"Polygon\", \"coordinates\": [[[2.435660...</td>\n",
       "    </tr>\n",
       "  </tbody>\n",
       "</table>\n",
       "</div>"
      ],
      "text/plain": [
       "           Code Postal                   Commune       Département  \\\n",
       "Code INSEE                                                           \n",
       "59404            59122                LES MOERES              NORD   \n",
       "34192            34250         PALAVAS-LES-FLOTS           HERAULT   \n",
       "13096            13460  SAINTES-MARIES-DE-LA-MER  BOUCHES-DU-RHONE   \n",
       "34344            34280           LA GRANDE-MOTTE           HERAULT   \n",
       "59154            59380       COUDEKERQUE-VILLAGE              NORD   \n",
       "\n",
       "                                Région            Statut  Altitude Moyenne  \\\n",
       "Code INSEE                                                                   \n",
       "59404               NORD-PAS-DE-CALAIS    Commune simple               0.0   \n",
       "34192             LANGUEDOC-ROUSSILLON    Commune simple               0.0   \n",
       "13096       PROVENCE-ALPES-COTE D'AZUR  Chef-lieu canton               1.0   \n",
       "34344             LANGUEDOC-ROUSSILLON    Commune simple               1.0   \n",
       "59154               NORD-PAS-DE-CALAIS    Commune simple               1.0   \n",
       "\n",
       "            Superficie  Population                  geo_point_2d  \\\n",
       "Code INSEE                                                         \n",
       "59404           1967.0         0.8   51.0240965472, 2.5473689484   \n",
       "34192            920.0         6.0   43.533536456, 3.92620839566   \n",
       "13096          37242.0         2.3    43.50398297, 4.46396357194   \n",
       "34344           1391.0         8.4   43.5685394142, 4.0758328467   \n",
       "59154           1203.0         1.2  50.9945680467, 2.42167016066   \n",
       "\n",
       "                                                    geo_shape  \n",
       "Code INSEE                                                     \n",
       "59404       {\"type\": \"Polygon\", \"coordinates\": [[[2.572476...  \n",
       "34192       {\"type\": \"Polygon\", \"coordinates\": [[[3.907955...  \n",
       "13096       {\"type\": \"Polygon\", \"coordinates\": [[[4.597237...  \n",
       "34344       {\"type\": \"Polygon\", \"coordinates\": [[[4.101041...  \n",
       "59154       {\"type\": \"Polygon\", \"coordinates\": [[[2.435660...  "
      ]
     },
     "execution_count": 3,
     "metadata": {},
     "output_type": "execute_result"
    }
   ],
   "source": [
    "# tri selon l'altitude\n",
    "geo.sort_values(\"Altitude Moyenne\").head()"
   ]
  },
  {
   "cell_type": "code",
   "execution_count": 4,
   "metadata": {
    "scrolled": false
   },
   "outputs": [
    {
     "data": {
      "text/html": [
       "<div>\n",
       "<style scoped>\n",
       "    .dataframe tbody tr th:only-of-type {\n",
       "        vertical-align: middle;\n",
       "    }\n",
       "\n",
       "    .dataframe tbody tr th {\n",
       "        vertical-align: top;\n",
       "    }\n",
       "\n",
       "    .dataframe thead th {\n",
       "        text-align: right;\n",
       "    }\n",
       "</style>\n",
       "<table border=\"1\" class=\"dataframe\">\n",
       "  <thead>\n",
       "    <tr style=\"text-align: right;\">\n",
       "      <th></th>\n",
       "      <th>Code Postal</th>\n",
       "      <th>Commune</th>\n",
       "      <th>Département</th>\n",
       "      <th>Région</th>\n",
       "      <th>Statut</th>\n",
       "      <th>Altitude Moyenne</th>\n",
       "      <th>Superficie</th>\n",
       "      <th>Population</th>\n",
       "      <th>geo_point_2d</th>\n",
       "      <th>geo_shape</th>\n",
       "    </tr>\n",
       "    <tr>\n",
       "      <th>Code INSEE</th>\n",
       "      <th></th>\n",
       "      <th></th>\n",
       "      <th></th>\n",
       "      <th></th>\n",
       "      <th></th>\n",
       "      <th></th>\n",
       "      <th></th>\n",
       "      <th></th>\n",
       "      <th></th>\n",
       "      <th></th>\n",
       "    </tr>\n",
       "  </thead>\n",
       "  <tbody>\n",
       "    <tr>\n",
       "      <th>73047</th>\n",
       "      <td>73480</td>\n",
       "      <td>BONNEVAL-SUR-ARC</td>\n",
       "      <td>SAVOIE</td>\n",
       "      <td>RHONE-ALPES</td>\n",
       "      <td>Commune simple</td>\n",
       "      <td>2713.0</td>\n",
       "      <td>11231.0</td>\n",
       "      <td>0.2</td>\n",
       "      <td>45.3858269371, 7.09178979521</td>\n",
       "      <td>{\"type\": \"Polygon\", \"coordinates\": [[[7.110695...</td>\n",
       "    </tr>\n",
       "    <tr>\n",
       "      <th>73040</th>\n",
       "      <td>73480</td>\n",
       "      <td>BESSANS</td>\n",
       "      <td>SAVOIE</td>\n",
       "      <td>RHONE-ALPES</td>\n",
       "      <td>Commune simple</td>\n",
       "      <td>2649.0</td>\n",
       "      <td>15414.0</td>\n",
       "      <td>0.3</td>\n",
       "      <td>45.292032537, 7.04532734274</td>\n",
       "      <td>{\"type\": \"Polygon\", \"coordinates\": [[[7.110695...</td>\n",
       "    </tr>\n",
       "    <tr>\n",
       "      <th>73290</th>\n",
       "      <td>73500</td>\n",
       "      <td>TERMIGNON</td>\n",
       "      <td>SAVOIE</td>\n",
       "      <td>RHONE-ALPES</td>\n",
       "      <td>Commune simple</td>\n",
       "      <td>2584.0</td>\n",
       "      <td>18010.0</td>\n",
       "      <td>0.4</td>\n",
       "      <td>45.3441528771, 6.84789108583</td>\n",
       "      <td>{\"type\": \"Polygon\", \"coordinates\": [[[6.854937...</td>\n",
       "    </tr>\n",
       "    <tr>\n",
       "      <th>73304</th>\n",
       "      <td>73150</td>\n",
       "      <td>VAL-D'ISERE</td>\n",
       "      <td>SAVOIE</td>\n",
       "      <td>RHONE-ALPES</td>\n",
       "      <td>Commune simple</td>\n",
       "      <td>2583.0</td>\n",
       "      <td>10765.0</td>\n",
       "      <td>1.6</td>\n",
       "      <td>45.4310113935, 6.99852444032</td>\n",
       "      <td>{\"type\": \"Polygon\", \"coordinates\": [[[6.998183...</td>\n",
       "    </tr>\n",
       "    <tr>\n",
       "      <th>38375</th>\n",
       "      <td>38520</td>\n",
       "      <td>SAINT-CHRISTOPHE-EN-OISANS</td>\n",
       "      <td>ISERE</td>\n",
       "      <td>RHONE-ALPES</td>\n",
       "      <td>Commune simple</td>\n",
       "      <td>2557.0</td>\n",
       "      <td>23740.0</td>\n",
       "      <td>0.1</td>\n",
       "      <td>44.9290846615, 6.24454607842</td>\n",
       "      <td>{\"type\": \"Polygon\", \"coordinates\": [[[6.336319...</td>\n",
       "    </tr>\n",
       "  </tbody>\n",
       "</table>\n",
       "</div>"
      ],
      "text/plain": [
       "           Code Postal                     Commune Département       Région  \\\n",
       "Code INSEE                                                                    \n",
       "73047            73480            BONNEVAL-SUR-ARC      SAVOIE  RHONE-ALPES   \n",
       "73040            73480                     BESSANS      SAVOIE  RHONE-ALPES   \n",
       "73290            73500                   TERMIGNON      SAVOIE  RHONE-ALPES   \n",
       "73304            73150                 VAL-D'ISERE      SAVOIE  RHONE-ALPES   \n",
       "38375            38520  SAINT-CHRISTOPHE-EN-OISANS       ISERE  RHONE-ALPES   \n",
       "\n",
       "                    Statut  Altitude Moyenne  Superficie  Population  \\\n",
       "Code INSEE                                                             \n",
       "73047       Commune simple            2713.0     11231.0         0.2   \n",
       "73040       Commune simple            2649.0     15414.0         0.3   \n",
       "73290       Commune simple            2584.0     18010.0         0.4   \n",
       "73304       Commune simple            2583.0     10765.0         1.6   \n",
       "38375       Commune simple            2557.0     23740.0         0.1   \n",
       "\n",
       "                            geo_point_2d  \\\n",
       "Code INSEE                                 \n",
       "73047       45.3858269371, 7.09178979521   \n",
       "73040        45.292032537, 7.04532734274   \n",
       "73290       45.3441528771, 6.84789108583   \n",
       "73304       45.4310113935, 6.99852444032   \n",
       "38375       44.9290846615, 6.24454607842   \n",
       "\n",
       "                                                    geo_shape  \n",
       "Code INSEE                                                     \n",
       "73047       {\"type\": \"Polygon\", \"coordinates\": [[[7.110695...  \n",
       "73040       {\"type\": \"Polygon\", \"coordinates\": [[[7.110695...  \n",
       "73290       {\"type\": \"Polygon\", \"coordinates\": [[[6.854937...  \n",
       "73304       {\"type\": \"Polygon\", \"coordinates\": [[[6.998183...  \n",
       "38375       {\"type\": \"Polygon\", \"coordinates\": [[[6.336319...  "
      ]
     },
     "execution_count": 4,
     "metadata": {},
     "output_type": "execute_result"
    }
   ],
   "source": [
    "# tri selon l'altitude inverse\n",
    "geo.sort_values(\"Altitude Moyenne\", ascending=False).head()"
   ]
  },
  {
   "cell_type": "code",
   "execution_count": 5,
   "metadata": {
    "scrolled": false
   },
   "outputs": [
    {
     "data": {
      "text/html": [
       "<div>\n",
       "<style scoped>\n",
       "    .dataframe tbody tr th:only-of-type {\n",
       "        vertical-align: middle;\n",
       "    }\n",
       "\n",
       "    .dataframe tbody tr th {\n",
       "        vertical-align: top;\n",
       "    }\n",
       "\n",
       "    .dataframe thead th {\n",
       "        text-align: right;\n",
       "    }\n",
       "</style>\n",
       "<table border=\"1\" class=\"dataframe\">\n",
       "  <thead>\n",
       "    <tr style=\"text-align: right;\">\n",
       "      <th></th>\n",
       "      <th>Code Postal</th>\n",
       "      <th>Commune</th>\n",
       "      <th>Département</th>\n",
       "      <th>Région</th>\n",
       "      <th>Statut</th>\n",
       "      <th>Altitude Moyenne</th>\n",
       "      <th>Superficie</th>\n",
       "      <th>Population</th>\n",
       "      <th>geo_point_2d</th>\n",
       "      <th>geo_shape</th>\n",
       "    </tr>\n",
       "    <tr>\n",
       "      <th>Code INSEE</th>\n",
       "      <th></th>\n",
       "      <th></th>\n",
       "      <th></th>\n",
       "      <th></th>\n",
       "      <th></th>\n",
       "      <th></th>\n",
       "      <th></th>\n",
       "      <th></th>\n",
       "      <th></th>\n",
       "      <th></th>\n",
       "    </tr>\n",
       "  </thead>\n",
       "  <tbody>\n",
       "    <tr>\n",
       "      <th>59404</th>\n",
       "      <td>59122</td>\n",
       "      <td>LES MOERES</td>\n",
       "      <td>NORD</td>\n",
       "      <td>NORD-PAS-DE-CALAIS</td>\n",
       "      <td>Commune simple</td>\n",
       "      <td>0.0</td>\n",
       "      <td>1967.0</td>\n",
       "      <td>0.8</td>\n",
       "      <td>51.0240965472, 2.5473689484</td>\n",
       "      <td>{\"type\": \"Polygon\", \"coordinates\": [[[2.572476...</td>\n",
       "    </tr>\n",
       "    <tr>\n",
       "      <th>34192</th>\n",
       "      <td>34250</td>\n",
       "      <td>PALAVAS-LES-FLOTS</td>\n",
       "      <td>HERAULT</td>\n",
       "      <td>LANGUEDOC-ROUSSILLON</td>\n",
       "      <td>Commune simple</td>\n",
       "      <td>0.0</td>\n",
       "      <td>920.0</td>\n",
       "      <td>6.0</td>\n",
       "      <td>43.533536456, 3.92620839566</td>\n",
       "      <td>{\"type\": \"Polygon\", \"coordinates\": [[[3.907955...</td>\n",
       "    </tr>\n",
       "    <tr>\n",
       "      <th>30003</th>\n",
       "      <td>30220</td>\n",
       "      <td>AIGUES-MORTES</td>\n",
       "      <td>GARD</td>\n",
       "      <td>LANGUEDOC-ROUSSILLON</td>\n",
       "      <td>Chef-lieu canton</td>\n",
       "      <td>1.0</td>\n",
       "      <td>5776.0</td>\n",
       "      <td>8.1</td>\n",
       "      <td>43.5507249635, 4.18349802063</td>\n",
       "      <td>{\"type\": \"Polygon\", \"coordinates\": [[[4.237933...</td>\n",
       "    </tr>\n",
       "    <tr>\n",
       "      <th>59154</th>\n",
       "      <td>59380</td>\n",
       "      <td>COUDEKERQUE-VILLAGE</td>\n",
       "      <td>NORD</td>\n",
       "      <td>NORD-PAS-DE-CALAIS</td>\n",
       "      <td>Commune simple</td>\n",
       "      <td>1.0</td>\n",
       "      <td>1203.0</td>\n",
       "      <td>1.2</td>\n",
       "      <td>50.9945680467, 2.42167016066</td>\n",
       "      <td>{\"type\": \"Polygon\", \"coordinates\": [[[2.435660...</td>\n",
       "    </tr>\n",
       "    <tr>\n",
       "      <th>29085</th>\n",
       "      <td>29980</td>\n",
       "      <td>ILE-TUDY</td>\n",
       "      <td>FINISTERE</td>\n",
       "      <td>BRETAGNE</td>\n",
       "      <td>Commune simple</td>\n",
       "      <td>1.0</td>\n",
       "      <td>128.0</td>\n",
       "      <td>0.7</td>\n",
       "      <td>47.8527643575, -4.16160884308</td>\n",
       "      <td>{\"type\": \"Polygon\", \"coordinates\": [[[-4.15131...</td>\n",
       "    </tr>\n",
       "  </tbody>\n",
       "</table>\n",
       "</div>"
      ],
      "text/plain": [
       "           Code Postal              Commune Département                Région  \\\n",
       "Code INSEE                                                                      \n",
       "59404            59122           LES MOERES        NORD    NORD-PAS-DE-CALAIS   \n",
       "34192            34250    PALAVAS-LES-FLOTS     HERAULT  LANGUEDOC-ROUSSILLON   \n",
       "30003            30220        AIGUES-MORTES        GARD  LANGUEDOC-ROUSSILLON   \n",
       "59154            59380  COUDEKERQUE-VILLAGE        NORD    NORD-PAS-DE-CALAIS   \n",
       "29085            29980             ILE-TUDY   FINISTERE              BRETAGNE   \n",
       "\n",
       "                      Statut  Altitude Moyenne  Superficie  Population  \\\n",
       "Code INSEE                                                               \n",
       "59404         Commune simple               0.0      1967.0         0.8   \n",
       "34192         Commune simple               0.0       920.0         6.0   \n",
       "30003       Chef-lieu canton               1.0      5776.0         8.1   \n",
       "59154         Commune simple               1.0      1203.0         1.2   \n",
       "29085         Commune simple               1.0       128.0         0.7   \n",
       "\n",
       "                             geo_point_2d  \\\n",
       "Code INSEE                                  \n",
       "59404         51.0240965472, 2.5473689484   \n",
       "34192         43.533536456, 3.92620839566   \n",
       "30003        43.5507249635, 4.18349802063   \n",
       "59154        50.9945680467, 2.42167016066   \n",
       "29085       47.8527643575, -4.16160884308   \n",
       "\n",
       "                                                    geo_shape  \n",
       "Code INSEE                                                     \n",
       "59404       {\"type\": \"Polygon\", \"coordinates\": [[[2.572476...  \n",
       "34192       {\"type\": \"Polygon\", \"coordinates\": [[[3.907955...  \n",
       "30003       {\"type\": \"Polygon\", \"coordinates\": [[[4.237933...  \n",
       "59154       {\"type\": \"Polygon\", \"coordinates\": [[[2.435660...  \n",
       "29085       {\"type\": \"Polygon\", \"coordinates\": [[[-4.15131...  "
      ]
     },
     "execution_count": 5,
     "metadata": {},
     "output_type": "execute_result"
    }
   ],
   "source": [
    "# tri selon l'altitude puis suivant le nom de la commune A->Z\n",
    "geo.sort_values([\"Altitude Moyenne\", \"Commune\"]).head()"
   ]
  },
  {
   "cell_type": "code",
   "execution_count": 6,
   "metadata": {
    "scrolled": false
   },
   "outputs": [
    {
     "data": {
      "text/html": [
       "<div>\n",
       "<style scoped>\n",
       "    .dataframe tbody tr th:only-of-type {\n",
       "        vertical-align: middle;\n",
       "    }\n",
       "\n",
       "    .dataframe tbody tr th {\n",
       "        vertical-align: top;\n",
       "    }\n",
       "\n",
       "    .dataframe thead th {\n",
       "        text-align: right;\n",
       "    }\n",
       "</style>\n",
       "<table border=\"1\" class=\"dataframe\">\n",
       "  <thead>\n",
       "    <tr style=\"text-align: right;\">\n",
       "      <th></th>\n",
       "      <th>Code Postal</th>\n",
       "      <th>Commune</th>\n",
       "      <th>Département</th>\n",
       "      <th>Région</th>\n",
       "      <th>Statut</th>\n",
       "      <th>Altitude Moyenne</th>\n",
       "      <th>Superficie</th>\n",
       "      <th>Population</th>\n",
       "      <th>geo_point_2d</th>\n",
       "      <th>geo_shape</th>\n",
       "    </tr>\n",
       "    <tr>\n",
       "      <th>Code INSEE</th>\n",
       "      <th></th>\n",
       "      <th></th>\n",
       "      <th></th>\n",
       "      <th></th>\n",
       "      <th></th>\n",
       "      <th></th>\n",
       "      <th></th>\n",
       "      <th></th>\n",
       "      <th></th>\n",
       "      <th></th>\n",
       "    </tr>\n",
       "  </thead>\n",
       "  <tbody>\n",
       "    <tr>\n",
       "      <th>34192</th>\n",
       "      <td>34250</td>\n",
       "      <td>PALAVAS-LES-FLOTS</td>\n",
       "      <td>HERAULT</td>\n",
       "      <td>LANGUEDOC-ROUSSILLON</td>\n",
       "      <td>Commune simple</td>\n",
       "      <td>0.0</td>\n",
       "      <td>920.0</td>\n",
       "      <td>6.0</td>\n",
       "      <td>43.533536456, 3.92620839566</td>\n",
       "      <td>{\"type\": \"Polygon\", \"coordinates\": [[[3.907955...</td>\n",
       "    </tr>\n",
       "    <tr>\n",
       "      <th>59404</th>\n",
       "      <td>59122</td>\n",
       "      <td>LES MOERES</td>\n",
       "      <td>NORD</td>\n",
       "      <td>NORD-PAS-DE-CALAIS</td>\n",
       "      <td>Commune simple</td>\n",
       "      <td>0.0</td>\n",
       "      <td>1967.0</td>\n",
       "      <td>0.8</td>\n",
       "      <td>51.0240965472, 2.5473689484</td>\n",
       "      <td>{\"type\": \"Polygon\", \"coordinates\": [[[2.572476...</td>\n",
       "    </tr>\n",
       "    <tr>\n",
       "      <th>59605</th>\n",
       "      <td>59229</td>\n",
       "      <td>UXEM</td>\n",
       "      <td>NORD</td>\n",
       "      <td>NORD-PAS-DE-CALAIS</td>\n",
       "      <td>Commune simple</td>\n",
       "      <td>1.0</td>\n",
       "      <td>808.0</td>\n",
       "      <td>1.3</td>\n",
       "      <td>51.0239750832, 2.49246889837</td>\n",
       "      <td>{\"type\": \"Polygon\", \"coordinates\": [[[2.505855...</td>\n",
       "    </tr>\n",
       "    <tr>\n",
       "      <th>59588</th>\n",
       "      <td>59229</td>\n",
       "      <td>TETEGHEM</td>\n",
       "      <td>NORD</td>\n",
       "      <td>NORD-PAS-DE-CALAIS</td>\n",
       "      <td>Commune simple</td>\n",
       "      <td>1.0</td>\n",
       "      <td>1896.0</td>\n",
       "      <td>7.1</td>\n",
       "      <td>51.0158652678, 2.45278368133</td>\n",
       "      <td>{\"type\": \"Polygon\", \"coordinates\": [[[2.449611...</td>\n",
       "    </tr>\n",
       "    <tr>\n",
       "      <th>13096</th>\n",
       "      <td>13460</td>\n",
       "      <td>SAINTES-MARIES-DE-LA-MER</td>\n",
       "      <td>BOUCHES-DU-RHONE</td>\n",
       "      <td>PROVENCE-ALPES-COTE D'AZUR</td>\n",
       "      <td>Chef-lieu canton</td>\n",
       "      <td>1.0</td>\n",
       "      <td>37242.0</td>\n",
       "      <td>2.3</td>\n",
       "      <td>43.50398297, 4.46396357194</td>\n",
       "      <td>{\"type\": \"Polygon\", \"coordinates\": [[[4.597237...</td>\n",
       "    </tr>\n",
       "  </tbody>\n",
       "</table>\n",
       "</div>"
      ],
      "text/plain": [
       "           Code Postal                   Commune       Département  \\\n",
       "Code INSEE                                                           \n",
       "34192            34250         PALAVAS-LES-FLOTS           HERAULT   \n",
       "59404            59122                LES MOERES              NORD   \n",
       "59605            59229                      UXEM              NORD   \n",
       "59588            59229                  TETEGHEM              NORD   \n",
       "13096            13460  SAINTES-MARIES-DE-LA-MER  BOUCHES-DU-RHONE   \n",
       "\n",
       "                                Région            Statut  Altitude Moyenne  \\\n",
       "Code INSEE                                                                   \n",
       "34192             LANGUEDOC-ROUSSILLON    Commune simple               0.0   \n",
       "59404               NORD-PAS-DE-CALAIS    Commune simple               0.0   \n",
       "59605               NORD-PAS-DE-CALAIS    Commune simple               1.0   \n",
       "59588               NORD-PAS-DE-CALAIS    Commune simple               1.0   \n",
       "13096       PROVENCE-ALPES-COTE D'AZUR  Chef-lieu canton               1.0   \n",
       "\n",
       "            Superficie  Population                  geo_point_2d  \\\n",
       "Code INSEE                                                         \n",
       "34192            920.0         6.0   43.533536456, 3.92620839566   \n",
       "59404           1967.0         0.8   51.0240965472, 2.5473689484   \n",
       "59605            808.0         1.3  51.0239750832, 2.49246889837   \n",
       "59588           1896.0         7.1  51.0158652678, 2.45278368133   \n",
       "13096          37242.0         2.3    43.50398297, 4.46396357194   \n",
       "\n",
       "                                                    geo_shape  \n",
       "Code INSEE                                                     \n",
       "34192       {\"type\": \"Polygon\", \"coordinates\": [[[3.907955...  \n",
       "59404       {\"type\": \"Polygon\", \"coordinates\": [[[2.572476...  \n",
       "59605       {\"type\": \"Polygon\", \"coordinates\": [[[2.505855...  \n",
       "59588       {\"type\": \"Polygon\", \"coordinates\": [[[2.449611...  \n",
       "13096       {\"type\": \"Polygon\", \"coordinates\": [[[4.597237...  "
      ]
     },
     "execution_count": 6,
     "metadata": {},
     "output_type": "execute_result"
    }
   ],
   "source": [
    "# tri selon l'altitude puis suivant le nom de la commune Z->A\n",
    "geo.sort_values([\"Altitude Moyenne\", \"Commune\"], ascending=[True, False]).head()"
   ]
  },
  {
   "cell_type": "code",
   "execution_count": 7,
   "metadata": {
    "scrolled": false
   },
   "outputs": [
    {
     "data": {
      "text/html": [
       "<div>\n",
       "<style scoped>\n",
       "    .dataframe tbody tr th:only-of-type {\n",
       "        vertical-align: middle;\n",
       "    }\n",
       "\n",
       "    .dataframe tbody tr th {\n",
       "        vertical-align: top;\n",
       "    }\n",
       "\n",
       "    .dataframe thead th {\n",
       "        text-align: right;\n",
       "    }\n",
       "</style>\n",
       "<table border=\"1\" class=\"dataframe\">\n",
       "  <thead>\n",
       "    <tr style=\"text-align: right;\">\n",
       "      <th></th>\n",
       "      <th>Code Postal</th>\n",
       "      <th>Commune</th>\n",
       "      <th>Département</th>\n",
       "      <th>Région</th>\n",
       "      <th>Statut</th>\n",
       "      <th>Altitude Moyenne</th>\n",
       "      <th>Superficie</th>\n",
       "      <th>Population</th>\n",
       "      <th>geo_point_2d</th>\n",
       "      <th>geo_shape</th>\n",
       "    </tr>\n",
       "    <tr>\n",
       "      <th>Code INSEE</th>\n",
       "      <th></th>\n",
       "      <th></th>\n",
       "      <th></th>\n",
       "      <th></th>\n",
       "      <th></th>\n",
       "      <th></th>\n",
       "      <th></th>\n",
       "      <th></th>\n",
       "      <th></th>\n",
       "      <th></th>\n",
       "    </tr>\n",
       "  </thead>\n",
       "  <tbody>\n",
       "    <tr>\n",
       "      <th>01001</th>\n",
       "      <td>01400</td>\n",
       "      <td>L'ABERGEMENT-CLEMENCIAT</td>\n",
       "      <td>AIN</td>\n",
       "      <td>RHONE-ALPES</td>\n",
       "      <td>Commune simple</td>\n",
       "      <td>242.0</td>\n",
       "      <td>1565.0</td>\n",
       "      <td>0.8</td>\n",
       "      <td>46.1534255214, 4.92611354223</td>\n",
       "      <td>{\"type\": \"Polygon\", \"coordinates\": [[[4.926273...</td>\n",
       "    </tr>\n",
       "    <tr>\n",
       "      <th>01002</th>\n",
       "      <td>01640</td>\n",
       "      <td>L'ABERGEMENT-DE-VAREY</td>\n",
       "      <td>AIN</td>\n",
       "      <td>RHONE-ALPES</td>\n",
       "      <td>Commune simple</td>\n",
       "      <td>483.0</td>\n",
       "      <td>912.0</td>\n",
       "      <td>0.2</td>\n",
       "      <td>46.0091878776, 5.42801696363</td>\n",
       "      <td>{\"type\": \"Polygon\", \"coordinates\": [[[5.430089...</td>\n",
       "    </tr>\n",
       "    <tr>\n",
       "      <th>01004</th>\n",
       "      <td>01500</td>\n",
       "      <td>AMBERIEU-EN-BUGEY</td>\n",
       "      <td>AIN</td>\n",
       "      <td>RHONE-ALPES</td>\n",
       "      <td>Chef-lieu canton</td>\n",
       "      <td>379.0</td>\n",
       "      <td>2448.0</td>\n",
       "      <td>13.4</td>\n",
       "      <td>45.9608475114, 5.3729257777</td>\n",
       "      <td>{\"type\": \"Polygon\", \"coordinates\": [[[5.386190...</td>\n",
       "    </tr>\n",
       "    <tr>\n",
       "      <th>01005</th>\n",
       "      <td>01330</td>\n",
       "      <td>AMBERIEUX-EN-DOMBES</td>\n",
       "      <td>AIN</td>\n",
       "      <td>RHONE-ALPES</td>\n",
       "      <td>Commune simple</td>\n",
       "      <td>290.0</td>\n",
       "      <td>1605.0</td>\n",
       "      <td>1.6</td>\n",
       "      <td>45.9961799872, 4.91227250796</td>\n",
       "      <td>{\"type\": \"Polygon\", \"coordinates\": [[[4.895580...</td>\n",
       "    </tr>\n",
       "    <tr>\n",
       "      <th>01006</th>\n",
       "      <td>01300</td>\n",
       "      <td>AMBLEON</td>\n",
       "      <td>AIN</td>\n",
       "      <td>RHONE-ALPES</td>\n",
       "      <td>Commune simple</td>\n",
       "      <td>589.0</td>\n",
       "      <td>602.0</td>\n",
       "      <td>0.1</td>\n",
       "      <td>45.7494989044, 5.59432017366</td>\n",
       "      <td>{\"type\": \"Polygon\", \"coordinates\": [[[5.614854...</td>\n",
       "    </tr>\n",
       "  </tbody>\n",
       "</table>\n",
       "</div>"
      ],
      "text/plain": [
       "           Code Postal                  Commune Département       Région  \\\n",
       "Code INSEE                                                                 \n",
       "01001            01400  L'ABERGEMENT-CLEMENCIAT         AIN  RHONE-ALPES   \n",
       "01002            01640    L'ABERGEMENT-DE-VAREY         AIN  RHONE-ALPES   \n",
       "01004            01500        AMBERIEU-EN-BUGEY         AIN  RHONE-ALPES   \n",
       "01005            01330      AMBERIEUX-EN-DOMBES         AIN  RHONE-ALPES   \n",
       "01006            01300                  AMBLEON         AIN  RHONE-ALPES   \n",
       "\n",
       "                      Statut  Altitude Moyenne  Superficie  Population  \\\n",
       "Code INSEE                                                               \n",
       "01001         Commune simple             242.0      1565.0         0.8   \n",
       "01002         Commune simple             483.0       912.0         0.2   \n",
       "01004       Chef-lieu canton             379.0      2448.0        13.4   \n",
       "01005         Commune simple             290.0      1605.0         1.6   \n",
       "01006         Commune simple             589.0       602.0         0.1   \n",
       "\n",
       "                            geo_point_2d  \\\n",
       "Code INSEE                                 \n",
       "01001       46.1534255214, 4.92611354223   \n",
       "01002       46.0091878776, 5.42801696363   \n",
       "01004        45.9608475114, 5.3729257777   \n",
       "01005       45.9961799872, 4.91227250796   \n",
       "01006       45.7494989044, 5.59432017366   \n",
       "\n",
       "                                                    geo_shape  \n",
       "Code INSEE                                                     \n",
       "01001       {\"type\": \"Polygon\", \"coordinates\": [[[4.926273...  \n",
       "01002       {\"type\": \"Polygon\", \"coordinates\": [[[5.430089...  \n",
       "01004       {\"type\": \"Polygon\", \"coordinates\": [[[5.386190...  \n",
       "01005       {\"type\": \"Polygon\", \"coordinates\": [[[4.895580...  \n",
       "01006       {\"type\": \"Polygon\", \"coordinates\": [[[5.614854...  "
      ]
     },
     "execution_count": 7,
     "metadata": {},
     "output_type": "execute_result"
    }
   ],
   "source": [
    "# tri selon l'index\n",
    "geo = geo.sort_index()\n",
    "geo.head()"
   ]
  },
  {
   "cell_type": "markdown",
   "metadata": {},
   "source": [
    "## 3.2 Modification de colonnes et conversions\n",
    "\n",
    "Toutes les opérations de sélection permettent d'effectuer des modifications avec l'opérateur `=`.\n",
    "\n",
    "Par exemple, il est possible de modifier toutes les valeurs d'une colonne."
   ]
  },
  {
   "cell_type": "code",
   "execution_count": 8,
   "metadata": {
    "scrolled": false
   },
   "outputs": [
    {
     "data": {
      "text/html": [
       "<div>\n",
       "<style scoped>\n",
       "    .dataframe tbody tr th:only-of-type {\n",
       "        vertical-align: middle;\n",
       "    }\n",
       "\n",
       "    .dataframe tbody tr th {\n",
       "        vertical-align: top;\n",
       "    }\n",
       "\n",
       "    .dataframe thead th {\n",
       "        text-align: right;\n",
       "    }\n",
       "</style>\n",
       "<table border=\"1\" class=\"dataframe\">\n",
       "  <thead>\n",
       "    <tr style=\"text-align: right;\">\n",
       "      <th></th>\n",
       "      <th>Code Postal</th>\n",
       "      <th>Commune</th>\n",
       "      <th>Département</th>\n",
       "      <th>Région</th>\n",
       "      <th>Statut</th>\n",
       "      <th>Altitude Moyenne</th>\n",
       "      <th>Superficie</th>\n",
       "      <th>Population</th>\n",
       "      <th>geo_point_2d</th>\n",
       "      <th>geo_shape</th>\n",
       "    </tr>\n",
       "    <tr>\n",
       "      <th>Code INSEE</th>\n",
       "      <th></th>\n",
       "      <th></th>\n",
       "      <th></th>\n",
       "      <th></th>\n",
       "      <th></th>\n",
       "      <th></th>\n",
       "      <th></th>\n",
       "      <th></th>\n",
       "      <th></th>\n",
       "      <th></th>\n",
       "    </tr>\n",
       "  </thead>\n",
       "  <tbody>\n",
       "    <tr>\n",
       "      <th>01001</th>\n",
       "      <td>01400</td>\n",
       "      <td>L'ABERGEMENT-CLEMENCIAT</td>\n",
       "      <td>AIN</td>\n",
       "      <td>RHONE-ALPES</td>\n",
       "      <td>Commune simple</td>\n",
       "      <td>242.0</td>\n",
       "      <td>15.65</td>\n",
       "      <td>0.8</td>\n",
       "      <td>46.1534255214, 4.92611354223</td>\n",
       "      <td>{\"type\": \"Polygon\", \"coordinates\": [[[4.926273...</td>\n",
       "    </tr>\n",
       "    <tr>\n",
       "      <th>01002</th>\n",
       "      <td>01640</td>\n",
       "      <td>L'ABERGEMENT-DE-VAREY</td>\n",
       "      <td>AIN</td>\n",
       "      <td>RHONE-ALPES</td>\n",
       "      <td>Commune simple</td>\n",
       "      <td>483.0</td>\n",
       "      <td>9.12</td>\n",
       "      <td>0.2</td>\n",
       "      <td>46.0091878776, 5.42801696363</td>\n",
       "      <td>{\"type\": \"Polygon\", \"coordinates\": [[[5.430089...</td>\n",
       "    </tr>\n",
       "    <tr>\n",
       "      <th>01004</th>\n",
       "      <td>01500</td>\n",
       "      <td>AMBERIEU-EN-BUGEY</td>\n",
       "      <td>AIN</td>\n",
       "      <td>RHONE-ALPES</td>\n",
       "      <td>Chef-lieu canton</td>\n",
       "      <td>379.0</td>\n",
       "      <td>24.48</td>\n",
       "      <td>13.4</td>\n",
       "      <td>45.9608475114, 5.3729257777</td>\n",
       "      <td>{\"type\": \"Polygon\", \"coordinates\": [[[5.386190...</td>\n",
       "    </tr>\n",
       "    <tr>\n",
       "      <th>01005</th>\n",
       "      <td>01330</td>\n",
       "      <td>AMBERIEUX-EN-DOMBES</td>\n",
       "      <td>AIN</td>\n",
       "      <td>RHONE-ALPES</td>\n",
       "      <td>Commune simple</td>\n",
       "      <td>290.0</td>\n",
       "      <td>16.05</td>\n",
       "      <td>1.6</td>\n",
       "      <td>45.9961799872, 4.91227250796</td>\n",
       "      <td>{\"type\": \"Polygon\", \"coordinates\": [[[4.895580...</td>\n",
       "    </tr>\n",
       "    <tr>\n",
       "      <th>01006</th>\n",
       "      <td>01300</td>\n",
       "      <td>AMBLEON</td>\n",
       "      <td>AIN</td>\n",
       "      <td>RHONE-ALPES</td>\n",
       "      <td>Commune simple</td>\n",
       "      <td>589.0</td>\n",
       "      <td>6.02</td>\n",
       "      <td>0.1</td>\n",
       "      <td>45.7494989044, 5.59432017366</td>\n",
       "      <td>{\"type\": \"Polygon\", \"coordinates\": [[[5.614854...</td>\n",
       "    </tr>\n",
       "  </tbody>\n",
       "</table>\n",
       "</div>"
      ],
      "text/plain": [
       "           Code Postal                  Commune Département       Région  \\\n",
       "Code INSEE                                                                 \n",
       "01001            01400  L'ABERGEMENT-CLEMENCIAT         AIN  RHONE-ALPES   \n",
       "01002            01640    L'ABERGEMENT-DE-VAREY         AIN  RHONE-ALPES   \n",
       "01004            01500        AMBERIEU-EN-BUGEY         AIN  RHONE-ALPES   \n",
       "01005            01330      AMBERIEUX-EN-DOMBES         AIN  RHONE-ALPES   \n",
       "01006            01300                  AMBLEON         AIN  RHONE-ALPES   \n",
       "\n",
       "                      Statut  Altitude Moyenne  Superficie  Population  \\\n",
       "Code INSEE                                                               \n",
       "01001         Commune simple             242.0       15.65         0.8   \n",
       "01002         Commune simple             483.0        9.12         0.2   \n",
       "01004       Chef-lieu canton             379.0       24.48        13.4   \n",
       "01005         Commune simple             290.0       16.05         1.6   \n",
       "01006         Commune simple             589.0        6.02         0.1   \n",
       "\n",
       "                            geo_point_2d  \\\n",
       "Code INSEE                                 \n",
       "01001       46.1534255214, 4.92611354223   \n",
       "01002       46.0091878776, 5.42801696363   \n",
       "01004        45.9608475114, 5.3729257777   \n",
       "01005       45.9961799872, 4.91227250796   \n",
       "01006       45.7494989044, 5.59432017366   \n",
       "\n",
       "                                                    geo_shape  \n",
       "Code INSEE                                                     \n",
       "01001       {\"type\": \"Polygon\", \"coordinates\": [[[4.926273...  \n",
       "01002       {\"type\": \"Polygon\", \"coordinates\": [[[5.430089...  \n",
       "01004       {\"type\": \"Polygon\", \"coordinates\": [[[5.386190...  \n",
       "01005       {\"type\": \"Polygon\", \"coordinates\": [[[4.895580...  \n",
       "01006       {\"type\": \"Polygon\", \"coordinates\": [[[5.614854...  "
      ]
     },
     "execution_count": 8,
     "metadata": {},
     "output_type": "execute_result"
    }
   ],
   "source": [
    "# la superficie des communes est en hectares, on la passe en km2\n",
    "geo[\"Superficie\"] = geo[\"Superficie\"] / 100.0  # ou bien geo[\"Superficie\"] =/ 100.0\n",
    "geo.head()"
   ]
  },
  {
   "cell_type": "code",
   "execution_count": 12,
   "metadata": {},
   "outputs": [
    {
     "data": {
      "text/html": [
       "<div>\n",
       "<style scoped>\n",
       "    .dataframe tbody tr th:only-of-type {\n",
       "        vertical-align: middle;\n",
       "    }\n",
       "\n",
       "    .dataframe tbody tr th {\n",
       "        vertical-align: top;\n",
       "    }\n",
       "\n",
       "    .dataframe thead th {\n",
       "        text-align: right;\n",
       "    }\n",
       "</style>\n",
       "<table border=\"1\" class=\"dataframe\">\n",
       "  <thead>\n",
       "    <tr style=\"text-align: right;\">\n",
       "      <th></th>\n",
       "      <th>Code Postal</th>\n",
       "      <th>Commune</th>\n",
       "      <th>Département</th>\n",
       "      <th>Région</th>\n",
       "      <th>Statut</th>\n",
       "      <th>Altitude Moyenne</th>\n",
       "      <th>Superficie</th>\n",
       "      <th>Population</th>\n",
       "      <th>geo_point_2d</th>\n",
       "      <th>geo_shape</th>\n",
       "    </tr>\n",
       "    <tr>\n",
       "      <th>Code INSEE</th>\n",
       "      <th></th>\n",
       "      <th></th>\n",
       "      <th></th>\n",
       "      <th></th>\n",
       "      <th></th>\n",
       "      <th></th>\n",
       "      <th></th>\n",
       "      <th></th>\n",
       "      <th></th>\n",
       "      <th></th>\n",
       "    </tr>\n",
       "  </thead>\n",
       "  <tbody>\n",
       "    <tr>\n",
       "      <th>05135</th>\n",
       "      <td>05700</td>\n",
       "      <td>SAINTE-COLOMBE</td>\n",
       "      <td>HAUTES-ALPES</td>\n",
       "      <td>PROVENCE-ALPES-COTE D'AZUR</td>\n",
       "      <td>Commune simple</td>\n",
       "      <td>965.0</td>\n",
       "      <td>17.26</td>\n",
       "      <td>0.1</td>\n",
       "      <td>44.2889272211, 5.66834974647</td>\n",
       "      <td>{\"type\": \"Polygon\", \"coordinates\": [[[5.646781...</td>\n",
       "    </tr>\n",
       "    <tr>\n",
       "      <th>16309</th>\n",
       "      <td>16230</td>\n",
       "      <td>SAINTE-COLOMBE</td>\n",
       "      <td>CHARENTE</td>\n",
       "      <td>POITOU-CHARENTES</td>\n",
       "      <td>Commune simple</td>\n",
       "      <td>102.0</td>\n",
       "      <td>6.54</td>\n",
       "      <td>0.2</td>\n",
       "      <td>45.8295299814, 0.320048436517</td>\n",
       "      <td>{\"type\": \"Polygon\", \"coordinates\": [[[0.326195...</td>\n",
       "    </tr>\n",
       "    <tr>\n",
       "      <th>17319</th>\n",
       "      <td>17210</td>\n",
       "      <td>SAINTE-COLOMBE</td>\n",
       "      <td>CHARENTE-MARITIME</td>\n",
       "      <td>POITOU-CHARENTES</td>\n",
       "      <td>Commune simple</td>\n",
       "      <td>111.0</td>\n",
       "      <td>4.40</td>\n",
       "      <td>0.1</td>\n",
       "      <td>45.281890465, -0.273965618336</td>\n",
       "      <td>{\"type\": \"Polygon\", \"coordinates\": [[[-0.28042...</td>\n",
       "    </tr>\n",
       "    <tr>\n",
       "      <th>21544</th>\n",
       "      <td>21350</td>\n",
       "      <td>SAINTE-COLOMBE</td>\n",
       "      <td>COTE-D'OR</td>\n",
       "      <td>BOURGOGNE</td>\n",
       "      <td>Commune simple</td>\n",
       "      <td>441.0</td>\n",
       "      <td>6.33</td>\n",
       "      <td>0.1</td>\n",
       "      <td>47.4272975926, 4.46203899793</td>\n",
       "      <td>{\"type\": \"Polygon\", \"coordinates\": [[[4.462906...</td>\n",
       "    </tr>\n",
       "    <tr>\n",
       "      <th>25515</th>\n",
       "      <td>25300</td>\n",
       "      <td>SAINTE-COLOMBE</td>\n",
       "      <td>DOUBS</td>\n",
       "      <td>FRANCHE-COMTE</td>\n",
       "      <td>Commune simple</td>\n",
       "      <td>884.0</td>\n",
       "      <td>10.52</td>\n",
       "      <td>0.3</td>\n",
       "      <td>46.8735551517, 6.27545445456</td>\n",
       "      <td>{\"type\": \"Polygon\", \"coordinates\": [[[6.293376...</td>\n",
       "    </tr>\n",
       "    <tr>\n",
       "      <th>33390</th>\n",
       "      <td>33350</td>\n",
       "      <td>SAINTE-COLOMBE</td>\n",
       "      <td>GIRONDE</td>\n",
       "      <td>AQUITAINE</td>\n",
       "      <td>Commune simple</td>\n",
       "      <td>61.0</td>\n",
       "      <td>4.04</td>\n",
       "      <td>0.4</td>\n",
       "      <td>44.8789588977, -0.0634971172004</td>\n",
       "      <td>{\"type\": \"Polygon\", \"coordinates\": [[[-0.04871...</td>\n",
       "    </tr>\n",
       "    <tr>\n",
       "      <th>35262</th>\n",
       "      <td>35134</td>\n",
       "      <td>SAINTE-COLOMBE</td>\n",
       "      <td>ILLE-ET-VILAINE</td>\n",
       "      <td>BRETAGNE</td>\n",
       "      <td>Commune simple</td>\n",
       "      <td>75.0</td>\n",
       "      <td>7.76</td>\n",
       "      <td>0.3</td>\n",
       "      <td>47.8955543395, -1.45748423621</td>\n",
       "      <td>{\"type\": \"Polygon\", \"coordinates\": [[[-1.46368...</td>\n",
       "    </tr>\n",
       "    <tr>\n",
       "      <th>40252</th>\n",
       "      <td>40700</td>\n",
       "      <td>SAINTE-COLOMBE</td>\n",
       "      <td>LANDES</td>\n",
       "      <td>AQUITAINE</td>\n",
       "      <td>Commune simple</td>\n",
       "      <td>96.0</td>\n",
       "      <td>12.89</td>\n",
       "      <td>0.6</td>\n",
       "      <td>43.6810025684, -0.556768147827</td>\n",
       "      <td>{\"type\": \"Polygon\", \"coordinates\": [[[-0.54208...</td>\n",
       "    </tr>\n",
       "    <tr>\n",
       "      <th>46260</th>\n",
       "      <td>46120</td>\n",
       "      <td>SAINTE-COLOMBE</td>\n",
       "      <td>LOT</td>\n",
       "      <td>MIDI-PYRENEES</td>\n",
       "      <td>Commune simple</td>\n",
       "      <td>516.0</td>\n",
       "      <td>11.31</td>\n",
       "      <td>0.2</td>\n",
       "      <td>44.7204297846, 2.01266388255</td>\n",
       "      <td>{\"type\": \"Polygon\", \"coordinates\": [[[2.038138...</td>\n",
       "    </tr>\n",
       "    <tr>\n",
       "      <th>50457</th>\n",
       "      <td>50390</td>\n",
       "      <td>SAINTE-COLOMBE</td>\n",
       "      <td>MANCHE</td>\n",
       "      <td>BASSE-NORMANDIE</td>\n",
       "      <td>Commune simple</td>\n",
       "      <td>20.0</td>\n",
       "      <td>5.09</td>\n",
       "      <td>0.2</td>\n",
       "      <td>49.4151457162, -1.51172159828</td>\n",
       "      <td>{\"type\": \"Polygon\", \"coordinates\": [[[-1.49421...</td>\n",
       "    </tr>\n",
       "    <tr>\n",
       "      <th>69189</th>\n",
       "      <td>69560</td>\n",
       "      <td>SAINTE-COLOMBE</td>\n",
       "      <td>RHONE</td>\n",
       "      <td>RHONE-ALPES</td>\n",
       "      <td>Commune simple</td>\n",
       "      <td>216.0</td>\n",
       "      <td>1.58</td>\n",
       "      <td>1.9</td>\n",
       "      <td>45.5250030617, 4.85931457938</td>\n",
       "      <td>{\"type\": \"Polygon\", \"coordinates\": [[[4.861328...</td>\n",
       "    </tr>\n",
       "    <tr>\n",
       "      <th>76569</th>\n",
       "      <td>76460</td>\n",
       "      <td>SAINTE-COLOMBE</td>\n",
       "      <td>SEINE-MARITIME</td>\n",
       "      <td>HAUTE-NORMANDIE</td>\n",
       "      <td>Commune simple</td>\n",
       "      <td>100.0</td>\n",
       "      <td>5.84</td>\n",
       "      <td>0.2</td>\n",
       "      <td>49.7963787198, 0.761815502519</td>\n",
       "      <td>{\"type\": \"Polygon\", \"coordinates\": [[[0.753089...</td>\n",
       "    </tr>\n",
       "    <tr>\n",
       "      <th>77404</th>\n",
       "      <td>77650</td>\n",
       "      <td>SAINTE-COLOMBE</td>\n",
       "      <td>SEINE-ET-MARNE</td>\n",
       "      <td>ILE-DE-FRANCE</td>\n",
       "      <td>Commune simple</td>\n",
       "      <td>115.0</td>\n",
       "      <td>8.13</td>\n",
       "      <td>1.8</td>\n",
       "      <td>48.5343555436, 3.25919071204</td>\n",
       "      <td>{\"type\": \"Polygon\", \"coordinates\": [[[3.264675...</td>\n",
       "    </tr>\n",
       "    <tr>\n",
       "      <th>89339</th>\n",
       "      <td>89440</td>\n",
       "      <td>SAINTE-COLOMBE</td>\n",
       "      <td>YONNE</td>\n",
       "      <td>BOURGOGNE</td>\n",
       "      <td>Commune simple</td>\n",
       "      <td>279.0</td>\n",
       "      <td>18.51</td>\n",
       "      <td>0.2</td>\n",
       "      <td>47.5733326756, 3.95597782049</td>\n",
       "      <td>{\"type\": \"Polygon\", \"coordinates\": [[[3.983814...</td>\n",
       "    </tr>\n",
       "  </tbody>\n",
       "</table>\n",
       "</div>"
      ],
      "text/plain": [
       "           Code Postal         Commune        Département  \\\n",
       "Code INSEE                                                  \n",
       "05135            05700  SAINTE-COLOMBE       HAUTES-ALPES   \n",
       "16309            16230  SAINTE-COLOMBE           CHARENTE   \n",
       "17319            17210  SAINTE-COLOMBE  CHARENTE-MARITIME   \n",
       "21544            21350  SAINTE-COLOMBE          COTE-D'OR   \n",
       "25515            25300  SAINTE-COLOMBE              DOUBS   \n",
       "33390            33350  SAINTE-COLOMBE            GIRONDE   \n",
       "35262            35134  SAINTE-COLOMBE    ILLE-ET-VILAINE   \n",
       "40252            40700  SAINTE-COLOMBE             LANDES   \n",
       "46260            46120  SAINTE-COLOMBE                LOT   \n",
       "50457            50390  SAINTE-COLOMBE             MANCHE   \n",
       "69189            69560  SAINTE-COLOMBE              RHONE   \n",
       "76569            76460  SAINTE-COLOMBE     SEINE-MARITIME   \n",
       "77404            77650  SAINTE-COLOMBE     SEINE-ET-MARNE   \n",
       "89339            89440  SAINTE-COLOMBE              YONNE   \n",
       "\n",
       "                                Région          Statut  Altitude Moyenne  \\\n",
       "Code INSEE                                                                 \n",
       "05135       PROVENCE-ALPES-COTE D'AZUR  Commune simple             965.0   \n",
       "16309                 POITOU-CHARENTES  Commune simple             102.0   \n",
       "17319                 POITOU-CHARENTES  Commune simple             111.0   \n",
       "21544                        BOURGOGNE  Commune simple             441.0   \n",
       "25515                    FRANCHE-COMTE  Commune simple             884.0   \n",
       "33390                        AQUITAINE  Commune simple              61.0   \n",
       "35262                         BRETAGNE  Commune simple              75.0   \n",
       "40252                        AQUITAINE  Commune simple              96.0   \n",
       "46260                    MIDI-PYRENEES  Commune simple             516.0   \n",
       "50457                  BASSE-NORMANDIE  Commune simple              20.0   \n",
       "69189                      RHONE-ALPES  Commune simple             216.0   \n",
       "76569                  HAUTE-NORMANDIE  Commune simple             100.0   \n",
       "77404                    ILE-DE-FRANCE  Commune simple             115.0   \n",
       "89339                        BOURGOGNE  Commune simple             279.0   \n",
       "\n",
       "            Superficie  Population                     geo_point_2d  \\\n",
       "Code INSEE                                                            \n",
       "05135            17.26         0.1     44.2889272211, 5.66834974647   \n",
       "16309             6.54         0.2    45.8295299814, 0.320048436517   \n",
       "17319             4.40         0.1    45.281890465, -0.273965618336   \n",
       "21544             6.33         0.1     47.4272975926, 4.46203899793   \n",
       "25515            10.52         0.3     46.8735551517, 6.27545445456   \n",
       "33390             4.04         0.4  44.8789588977, -0.0634971172004   \n",
       "35262             7.76         0.3    47.8955543395, -1.45748423621   \n",
       "40252            12.89         0.6   43.6810025684, -0.556768147827   \n",
       "46260            11.31         0.2     44.7204297846, 2.01266388255   \n",
       "50457             5.09         0.2    49.4151457162, -1.51172159828   \n",
       "69189             1.58         1.9     45.5250030617, 4.85931457938   \n",
       "76569             5.84         0.2    49.7963787198, 0.761815502519   \n",
       "77404             8.13         1.8     48.5343555436, 3.25919071204   \n",
       "89339            18.51         0.2     47.5733326756, 3.95597782049   \n",
       "\n",
       "                                                    geo_shape  \n",
       "Code INSEE                                                     \n",
       "05135       {\"type\": \"Polygon\", \"coordinates\": [[[5.646781...  \n",
       "16309       {\"type\": \"Polygon\", \"coordinates\": [[[0.326195...  \n",
       "17319       {\"type\": \"Polygon\", \"coordinates\": [[[-0.28042...  \n",
       "21544       {\"type\": \"Polygon\", \"coordinates\": [[[4.462906...  \n",
       "25515       {\"type\": \"Polygon\", \"coordinates\": [[[6.293376...  \n",
       "33390       {\"type\": \"Polygon\", \"coordinates\": [[[-0.04871...  \n",
       "35262       {\"type\": \"Polygon\", \"coordinates\": [[[-1.46368...  \n",
       "40252       {\"type\": \"Polygon\", \"coordinates\": [[[-0.54208...  \n",
       "46260       {\"type\": \"Polygon\", \"coordinates\": [[[2.038138...  \n",
       "50457       {\"type\": \"Polygon\", \"coordinates\": [[[-1.49421...  \n",
       "69189       {\"type\": \"Polygon\", \"coordinates\": [[[4.861328...  \n",
       "76569       {\"type\": \"Polygon\", \"coordinates\": [[[0.753089...  \n",
       "77404       {\"type\": \"Polygon\", \"coordinates\": [[[3.264675...  \n",
       "89339       {\"type\": \"Polygon\", \"coordinates\": [[[3.983814...  "
      ]
     },
     "execution_count": 12,
     "metadata": {},
     "output_type": "execute_result"
    }
   ],
   "source": [
    "var = geo.loc[geo[\"Commune\"]==\"SAINTE-COLOMBE\"].copy()\n",
    "var"
   ]
  },
  {
   "cell_type": "code",
   "execution_count": 13,
   "metadata": {},
   "outputs": [],
   "source": [
    "var[\"Population\"] *= 1000  # pareil que var[\"Population\"] = var[\"Population\"] * 1000"
   ]
  },
  {
   "cell_type": "markdown",
   "metadata": {},
   "source": [
    "N. B. : La modification d'un objet issu d'un *DataFrame* (colonne par exemple) est répercutée sur l'objet initial.\n",
    "\n",
    "On peut également appliquer une méthode de conversion de type sur une colonne."
   ]
  },
  {
   "cell_type": "code",
   "execution_count": null,
   "metadata": {
    "scrolled": false
   },
   "outputs": [],
   "source": [
    "# exemple de conversion\n",
    "geo[\"Altitude Moyenne\"] = geo[\"Altitude Moyenne\"].astype(int)\n",
    "geo.head()"
   ]
  },
  {
   "cell_type": "markdown",
   "metadata": {},
   "source": [
    "Transformation d'une variable catégorielle sous forme de chaines de caractères et categorie.\n",
    "\n",
    "A noter, la catégorie peut être ordonnée."
   ]
  },
  {
   "cell_type": "code",
   "execution_count": 14,
   "metadata": {
    "scrolled": false
   },
   "outputs": [
    {
     "name": "stdout",
     "output_type": "stream",
     "text": [
      "<class 'pandas.core.frame.DataFrame'>\n",
      "Index: 36742 entries, 01001 to 97617\n",
      "Data columns (total 10 columns):\n",
      " #   Column            Non-Null Count  Dtype  \n",
      "---  ------            --------------  -----  \n",
      " 0   Code Postal       36742 non-null  object \n",
      " 1   Commune           36742 non-null  object \n",
      " 2   Département       36742 non-null  object \n",
      " 3   Région            36742 non-null  object \n",
      " 4   Statut            36742 non-null  object \n",
      " 5   Altitude Moyenne  36742 non-null  float64\n",
      " 6   Superficie        36742 non-null  float64\n",
      " 7   Population        36742 non-null  float64\n",
      " 8   geo_point_2d      36742 non-null  object \n",
      " 9   geo_shape         36742 non-null  object \n",
      "dtypes: float64(3), object(7)\n",
      "memory usage: 3.1+ MB\n"
     ]
    }
   ],
   "source": [
    "# info\n",
    "geo.info()"
   ]
  },
  {
   "cell_type": "code",
   "execution_count": 15,
   "metadata": {},
   "outputs": [
    {
     "name": "stdout",
     "output_type": "stream",
     "text": [
      "3.82 ms ± 66.9 µs per loop (mean ± std. dev. of 7 runs, 100 loops each)\n"
     ]
    }
   ],
   "source": [
    "# select avec des chaines\n",
    "%timeit geo.loc[geo['Statut']=='Chef-lieu canton']"
   ]
  },
  {
   "cell_type": "code",
   "execution_count": 16,
   "metadata": {
    "scrolled": false
   },
   "outputs": [
    {
     "name": "stdout",
     "output_type": "stream",
     "text": [
      "<class 'pandas.core.frame.DataFrame'>\n",
      "Index: 36742 entries, 01001 to 97617\n",
      "Data columns (total 10 columns):\n",
      " #   Column            Non-Null Count  Dtype   \n",
      "---  ------            --------------  -----   \n",
      " 0   Code Postal       36742 non-null  object  \n",
      " 1   Commune           36742 non-null  object  \n",
      " 2   Département       36742 non-null  object  \n",
      " 3   Région            36742 non-null  object  \n",
      " 4   Statut            36742 non-null  category\n",
      " 5   Altitude Moyenne  36742 non-null  float64 \n",
      " 6   Superficie        36742 non-null  float64 \n",
      " 7   Population        36742 non-null  float64 \n",
      " 8   geo_point_2d      36742 non-null  object  \n",
      " 9   geo_shape         36742 non-null  object  \n",
      "dtypes: category(1), float64(3), object(6)\n",
      "memory usage: 2.8+ MB\n"
     ]
    }
   ],
   "source": [
    "# conversion de la colonne Statut en catégorie\n",
    "\n",
    "statuts = [\"Commune simple\", \"Chef-lieu canton\", \"Sous-préfecture\",\n",
    "            \"Préfecture\", \"Préfecture de région\", \"Capitale d'état\"]\n",
    "\n",
    "cat_statut = pd.CategoricalDtype(categories=statuts, ordered=True)\n",
    "geo[\"Statut\"] = geo[\"Statut\"].astype(cat_statut)\n",
    "\n",
    "geo.info()"
   ]
  },
  {
   "cell_type": "code",
   "execution_count": 18,
   "metadata": {},
   "outputs": [
    {
     "data": {
      "text/plain": [
       "Index(['Commune simple', 'Chef-lieu canton', 'Sous-préfecture', 'Préfecture',\n",
       "       'Préfecture de région', 'Capitale d'état'],\n",
       "      dtype='object')"
      ]
     },
     "execution_count": 18,
     "metadata": {},
     "output_type": "execute_result"
    }
   ],
   "source": [
    "geo[\"Statut\"].cat.categories"
   ]
  },
  {
   "cell_type": "code",
   "execution_count": 19,
   "metadata": {},
   "outputs": [
    {
     "data": {
      "text/plain": [
       "Code INSEE\n",
       "01001    0\n",
       "01002    0\n",
       "01004    1\n",
       "01005    0\n",
       "01006    0\n",
       "        ..\n",
       "97613    1\n",
       "97614    1\n",
       "97615    1\n",
       "97616    1\n",
       "97617    1\n",
       "Length: 36742, dtype: int8"
      ]
     },
     "execution_count": 19,
     "metadata": {},
     "output_type": "execute_result"
    }
   ],
   "source": [
    "geo[\"Statut\"].cat.codes"
   ]
  },
  {
   "cell_type": "code",
   "execution_count": 20,
   "metadata": {},
   "outputs": [
    {
     "name": "stdout",
     "output_type": "stream",
     "text": [
      "1.59 ms ± 23 µs per loop (mean ± std. dev. of 7 runs, 1000 loops each)\n"
     ]
    }
   ],
   "source": [
    "# select avec des categories\n",
    "%timeit geo.loc[geo['Statut']=='Chef-lieu canton']"
   ]
  },
  {
   "cell_type": "code",
   "execution_count": 21,
   "metadata": {},
   "outputs": [
    {
     "data": {
      "text/plain": [
       "Index(['Commune simple', 'Chef-lieu canton', 'Sous-préfecture', 'Préfecture',\n",
       "       'Préfecture de région', 'Capitale d'état'],\n",
       "      dtype='object')"
      ]
     },
     "execution_count": 21,
     "metadata": {},
     "output_type": "execute_result"
    }
   ],
   "source": [
    "# opérateur cat\n",
    "geo['Statut'].cat.categories"
   ]
  },
  {
   "cell_type": "code",
   "execution_count": 22,
   "metadata": {},
   "outputs": [
    {
     "data": {
      "text/plain": [
       "Code INSEE\n",
       "01001    0\n",
       "01002    0\n",
       "01004    1\n",
       "01005    0\n",
       "01006    0\n",
       "        ..\n",
       "97613    1\n",
       "97614    1\n",
       "97615    1\n",
       "97616    1\n",
       "97617    1\n",
       "Length: 36742, dtype: int8"
      ]
     },
     "execution_count": 22,
     "metadata": {},
     "output_type": "execute_result"
    }
   ],
   "source": [
    "# opérateur cat\n",
    "geo['Statut'].cat.codes"
   ]
  },
  {
   "cell_type": "markdown",
   "metadata": {},
   "source": [
    "## 3.3 Ajout de colonnes"
   ]
  },
  {
   "cell_type": "code",
   "execution_count": 28,
   "metadata": {
    "scrolled": false
   },
   "outputs": [
    {
     "data": {
      "text/html": [
       "<div>\n",
       "<style scoped>\n",
       "    .dataframe tbody tr th:only-of-type {\n",
       "        vertical-align: middle;\n",
       "    }\n",
       "\n",
       "    .dataframe tbody tr th {\n",
       "        vertical-align: top;\n",
       "    }\n",
       "\n",
       "    .dataframe thead th {\n",
       "        text-align: right;\n",
       "    }\n",
       "</style>\n",
       "<table border=\"1\" class=\"dataframe\">\n",
       "  <thead>\n",
       "    <tr style=\"text-align: right;\">\n",
       "      <th></th>\n",
       "      <th>Code Postal</th>\n",
       "      <th>Commune</th>\n",
       "      <th>Département</th>\n",
       "      <th>Région</th>\n",
       "      <th>Statut</th>\n",
       "      <th>Altitude Moyenne</th>\n",
       "      <th>Superficie</th>\n",
       "      <th>Population</th>\n",
       "      <th>geo_point_2d</th>\n",
       "      <th>geo_shape</th>\n",
       "      <th>Densité</th>\n",
       "    </tr>\n",
       "    <tr>\n",
       "      <th>Code INSEE</th>\n",
       "      <th></th>\n",
       "      <th></th>\n",
       "      <th></th>\n",
       "      <th></th>\n",
       "      <th></th>\n",
       "      <th></th>\n",
       "      <th></th>\n",
       "      <th></th>\n",
       "      <th></th>\n",
       "      <th></th>\n",
       "      <th></th>\n",
       "    </tr>\n",
       "  </thead>\n",
       "  <tbody>\n",
       "    <tr>\n",
       "      <th>01001</th>\n",
       "      <td>01400</td>\n",
       "      <td>L'ABERGEMENT-CLEMENCIAT</td>\n",
       "      <td>AIN</td>\n",
       "      <td>RHONE-ALPES</td>\n",
       "      <td>Commune simple</td>\n",
       "      <td>242.0</td>\n",
       "      <td>15.65</td>\n",
       "      <td>0.8</td>\n",
       "      <td>46.1534255214, 4.92611354223</td>\n",
       "      <td>{\"type\": \"Polygon\", \"coordinates\": [[[4.926273...</td>\n",
       "      <td>51.118211</td>\n",
       "    </tr>\n",
       "    <tr>\n",
       "      <th>01002</th>\n",
       "      <td>01640</td>\n",
       "      <td>L'ABERGEMENT-DE-VAREY</td>\n",
       "      <td>AIN</td>\n",
       "      <td>RHONE-ALPES</td>\n",
       "      <td>Commune simple</td>\n",
       "      <td>483.0</td>\n",
       "      <td>9.12</td>\n",
       "      <td>0.2</td>\n",
       "      <td>46.0091878776, 5.42801696363</td>\n",
       "      <td>{\"type\": \"Polygon\", \"coordinates\": [[[5.430089...</td>\n",
       "      <td>21.929825</td>\n",
       "    </tr>\n",
       "    <tr>\n",
       "      <th>01004</th>\n",
       "      <td>01500</td>\n",
       "      <td>AMBERIEU-EN-BUGEY</td>\n",
       "      <td>AIN</td>\n",
       "      <td>RHONE-ALPES</td>\n",
       "      <td>Chef-lieu canton</td>\n",
       "      <td>379.0</td>\n",
       "      <td>24.48</td>\n",
       "      <td>13.4</td>\n",
       "      <td>45.9608475114, 5.3729257777</td>\n",
       "      <td>{\"type\": \"Polygon\", \"coordinates\": [[[5.386190...</td>\n",
       "      <td>547.385621</td>\n",
       "    </tr>\n",
       "    <tr>\n",
       "      <th>01005</th>\n",
       "      <td>01330</td>\n",
       "      <td>AMBERIEUX-EN-DOMBES</td>\n",
       "      <td>AIN</td>\n",
       "      <td>RHONE-ALPES</td>\n",
       "      <td>Commune simple</td>\n",
       "      <td>290.0</td>\n",
       "      <td>16.05</td>\n",
       "      <td>1.6</td>\n",
       "      <td>45.9961799872, 4.91227250796</td>\n",
       "      <td>{\"type\": \"Polygon\", \"coordinates\": [[[4.895580...</td>\n",
       "      <td>99.688474</td>\n",
       "    </tr>\n",
       "    <tr>\n",
       "      <th>01006</th>\n",
       "      <td>01300</td>\n",
       "      <td>AMBLEON</td>\n",
       "      <td>AIN</td>\n",
       "      <td>RHONE-ALPES</td>\n",
       "      <td>Commune simple</td>\n",
       "      <td>589.0</td>\n",
       "      <td>6.02</td>\n",
       "      <td>0.1</td>\n",
       "      <td>45.7494989044, 5.59432017366</td>\n",
       "      <td>{\"type\": \"Polygon\", \"coordinates\": [[[5.614854...</td>\n",
       "      <td>16.611296</td>\n",
       "    </tr>\n",
       "  </tbody>\n",
       "</table>\n",
       "</div>"
      ],
      "text/plain": [
       "           Code Postal                  Commune Département       Région  \\\n",
       "Code INSEE                                                                 \n",
       "01001            01400  L'ABERGEMENT-CLEMENCIAT         AIN  RHONE-ALPES   \n",
       "01002            01640    L'ABERGEMENT-DE-VAREY         AIN  RHONE-ALPES   \n",
       "01004            01500        AMBERIEU-EN-BUGEY         AIN  RHONE-ALPES   \n",
       "01005            01330      AMBERIEUX-EN-DOMBES         AIN  RHONE-ALPES   \n",
       "01006            01300                  AMBLEON         AIN  RHONE-ALPES   \n",
       "\n",
       "                      Statut  Altitude Moyenne  Superficie  Population  \\\n",
       "Code INSEE                                                               \n",
       "01001         Commune simple             242.0       15.65         0.8   \n",
       "01002         Commune simple             483.0        9.12         0.2   \n",
       "01004       Chef-lieu canton             379.0       24.48        13.4   \n",
       "01005         Commune simple             290.0       16.05         1.6   \n",
       "01006         Commune simple             589.0        6.02         0.1   \n",
       "\n",
       "                            geo_point_2d  \\\n",
       "Code INSEE                                 \n",
       "01001       46.1534255214, 4.92611354223   \n",
       "01002       46.0091878776, 5.42801696363   \n",
       "01004        45.9608475114, 5.3729257777   \n",
       "01005       45.9961799872, 4.91227250796   \n",
       "01006       45.7494989044, 5.59432017366   \n",
       "\n",
       "                                                    geo_shape     Densité  \n",
       "Code INSEE                                                                 \n",
       "01001       {\"type\": \"Polygon\", \"coordinates\": [[[4.926273...   51.118211  \n",
       "01002       {\"type\": \"Polygon\", \"coordinates\": [[[5.430089...   21.929825  \n",
       "01004       {\"type\": \"Polygon\", \"coordinates\": [[[5.386190...  547.385621  \n",
       "01005       {\"type\": \"Polygon\", \"coordinates\": [[[4.895580...   99.688474  \n",
       "01006       {\"type\": \"Polygon\", \"coordinates\": [[[5.614854...   16.611296  "
      ]
     },
     "execution_count": 28,
     "metadata": {},
     "output_type": "execute_result"
    }
   ],
   "source": [
    "# on ajoute la colonne \"Densité\"\n",
    "geo[\"Densité\"] = 1000 * geo[\"Population\"] / geo[\"Superficie\"]\n",
    "geo.head()"
   ]
  },
  {
   "cell_type": "markdown",
   "metadata": {},
   "source": [
    "#### Ajout de colonnes en utilisant la méthode *apply()* appliquée à une colonne"
   ]
  },
  {
   "cell_type": "markdown",
   "metadata": {},
   "source": [
    "La latitude et la longitude sont données sous la forme d'une chaîne de caractères dans la colonne *geo_point_2d*. La latitude et la longitude sont séparées par une virdule et un espace (\", \")"
   ]
  },
  {
   "cell_type": "code",
   "execution_count": 29,
   "metadata": {
    "scrolled": false
   },
   "outputs": [
    {
     "data": {
      "text/plain": [
       "Code INSEE\n",
       "01001     46.1534255214, 4.92611354223\n",
       "01002     46.0091878776, 5.42801696363\n",
       "01004      45.9608475114, 5.3729257777\n",
       "01005     45.9961799872, 4.91227250796\n",
       "01006     45.7494989044, 5.59432017366\n",
       "                     ...              \n",
       "97613    -12.7513099309, 45.0871696871\n",
       "97614    -12.8370955196, 45.1379095497\n",
       "97615    -12.7961353309, 45.2842063102\n",
       "97616    -12.8611649609, 45.1185503145\n",
       "97617    -12.7821666736, 45.1344279083\n",
       "Name: geo_point_2d, Length: 36742, dtype: object"
      ]
     },
     "execution_count": 29,
     "metadata": {},
     "output_type": "execute_result"
    }
   ],
   "source": [
    "# la colonne \"geo_point_2d\" est constituée de chaînes de caractères\n",
    "geo[\"geo_point_2d\"]"
   ]
  },
  {
   "cell_type": "code",
   "execution_count": 30,
   "metadata": {
    "scrolled": false
   },
   "outputs": [
    {
     "data": {
      "text/plain": [
       "'46.1534255214, 4.92611354223'"
      ]
     },
     "execution_count": 30,
     "metadata": {},
     "output_type": "execute_result"
    }
   ],
   "source": [
    "# par exemple\n",
    "geo_point_2d = geo.loc[\"01001\", \"geo_point_2d\"]\n",
    "geo_point_2d"
   ]
  },
  {
   "cell_type": "markdown",
   "metadata": {},
   "source": [
    "Pour extraire les 2 grandeurs, on va utiliser la méthode **split()** qui retourne la liste des sous-chaînes séparées par une chaîne donnée.\n",
    "\n",
    "On va l'utiliser avec la chaîne de séparation \", \".\n",
    "\n",
    "N.B. : Si la chaîne était variable (par ex., un ou plusieurs espaces) on pourrait utiliser une expression réguière (module *re* de Python)."
   ]
  },
  {
   "cell_type": "code",
   "execution_count": 34,
   "metadata": {
    "scrolled": false
   },
   "outputs": [
    {
     "data": {
      "text/plain": [
       "46.1534255214"
      ]
     },
     "execution_count": 34,
     "metadata": {},
     "output_type": "execute_result"
    }
   ],
   "source": [
    "# application de la méthode split()\n",
    "x = geo_point_2d.split(', ')\n",
    "float(x[0])"
   ]
  },
  {
   "cell_type": "markdown",
   "metadata": {},
   "source": [
    "Il va falloir extraire chacune des grandeurs et la transformer en nombre flottant."
   ]
  },
  {
   "cell_type": "markdown",
   "metadata": {},
   "source": [
    "Il va falloir appliquer cette technique à chaque ligne de la colonne et aux deux grandeurs. Dans un langage classique, on appliquerait une boucle.\n",
    "\n",
    "En pandas, la méthode *apply()* permet d'appliquer une fonction (ou une lambda) à chaque élement d'une *Series* ou d'un *DataFrame* et de retourner un objet avec le résultat de la fonction appliquée à chaque élément."
   ]
  },
  {
   "cell_type": "code",
   "execution_count": 35,
   "metadata": {
    "scrolled": false
   },
   "outputs": [
    {
     "data": {
      "text/html": [
       "<div>\n",
       "<style scoped>\n",
       "    .dataframe tbody tr th:only-of-type {\n",
       "        vertical-align: middle;\n",
       "    }\n",
       "\n",
       "    .dataframe tbody tr th {\n",
       "        vertical-align: top;\n",
       "    }\n",
       "\n",
       "    .dataframe thead th {\n",
       "        text-align: right;\n",
       "    }\n",
       "</style>\n",
       "<table border=\"1\" class=\"dataframe\">\n",
       "  <thead>\n",
       "    <tr style=\"text-align: right;\">\n",
       "      <th></th>\n",
       "      <th>Code Postal</th>\n",
       "      <th>Commune</th>\n",
       "      <th>Département</th>\n",
       "      <th>Région</th>\n",
       "      <th>Statut</th>\n",
       "      <th>Altitude Moyenne</th>\n",
       "      <th>Superficie</th>\n",
       "      <th>Population</th>\n",
       "      <th>geo_point_2d</th>\n",
       "      <th>geo_shape</th>\n",
       "      <th>Densité</th>\n",
       "      <th>Latitude</th>\n",
       "      <th>Longitude</th>\n",
       "    </tr>\n",
       "    <tr>\n",
       "      <th>Code INSEE</th>\n",
       "      <th></th>\n",
       "      <th></th>\n",
       "      <th></th>\n",
       "      <th></th>\n",
       "      <th></th>\n",
       "      <th></th>\n",
       "      <th></th>\n",
       "      <th></th>\n",
       "      <th></th>\n",
       "      <th></th>\n",
       "      <th></th>\n",
       "      <th></th>\n",
       "      <th></th>\n",
       "    </tr>\n",
       "  </thead>\n",
       "  <tbody>\n",
       "    <tr>\n",
       "      <th>01001</th>\n",
       "      <td>01400</td>\n",
       "      <td>L'ABERGEMENT-CLEMENCIAT</td>\n",
       "      <td>AIN</td>\n",
       "      <td>RHONE-ALPES</td>\n",
       "      <td>Commune simple</td>\n",
       "      <td>242.0</td>\n",
       "      <td>15.65</td>\n",
       "      <td>0.8</td>\n",
       "      <td>46.1534255214, 4.92611354223</td>\n",
       "      <td>{\"type\": \"Polygon\", \"coordinates\": [[[4.926273...</td>\n",
       "      <td>51.118211</td>\n",
       "      <td>46.153426</td>\n",
       "      <td>4.926114</td>\n",
       "    </tr>\n",
       "    <tr>\n",
       "      <th>01002</th>\n",
       "      <td>01640</td>\n",
       "      <td>L'ABERGEMENT-DE-VAREY</td>\n",
       "      <td>AIN</td>\n",
       "      <td>RHONE-ALPES</td>\n",
       "      <td>Commune simple</td>\n",
       "      <td>483.0</td>\n",
       "      <td>9.12</td>\n",
       "      <td>0.2</td>\n",
       "      <td>46.0091878776, 5.42801696363</td>\n",
       "      <td>{\"type\": \"Polygon\", \"coordinates\": [[[5.430089...</td>\n",
       "      <td>21.929825</td>\n",
       "      <td>46.009188</td>\n",
       "      <td>5.428017</td>\n",
       "    </tr>\n",
       "    <tr>\n",
       "      <th>01004</th>\n",
       "      <td>01500</td>\n",
       "      <td>AMBERIEU-EN-BUGEY</td>\n",
       "      <td>AIN</td>\n",
       "      <td>RHONE-ALPES</td>\n",
       "      <td>Chef-lieu canton</td>\n",
       "      <td>379.0</td>\n",
       "      <td>24.48</td>\n",
       "      <td>13.4</td>\n",
       "      <td>45.9608475114, 5.3729257777</td>\n",
       "      <td>{\"type\": \"Polygon\", \"coordinates\": [[[5.386190...</td>\n",
       "      <td>547.385621</td>\n",
       "      <td>45.960848</td>\n",
       "      <td>5.372926</td>\n",
       "    </tr>\n",
       "    <tr>\n",
       "      <th>01005</th>\n",
       "      <td>01330</td>\n",
       "      <td>AMBERIEUX-EN-DOMBES</td>\n",
       "      <td>AIN</td>\n",
       "      <td>RHONE-ALPES</td>\n",
       "      <td>Commune simple</td>\n",
       "      <td>290.0</td>\n",
       "      <td>16.05</td>\n",
       "      <td>1.6</td>\n",
       "      <td>45.9961799872, 4.91227250796</td>\n",
       "      <td>{\"type\": \"Polygon\", \"coordinates\": [[[4.895580...</td>\n",
       "      <td>99.688474</td>\n",
       "      <td>45.996180</td>\n",
       "      <td>4.912273</td>\n",
       "    </tr>\n",
       "    <tr>\n",
       "      <th>01006</th>\n",
       "      <td>01300</td>\n",
       "      <td>AMBLEON</td>\n",
       "      <td>AIN</td>\n",
       "      <td>RHONE-ALPES</td>\n",
       "      <td>Commune simple</td>\n",
       "      <td>589.0</td>\n",
       "      <td>6.02</td>\n",
       "      <td>0.1</td>\n",
       "      <td>45.7494989044, 5.59432017366</td>\n",
       "      <td>{\"type\": \"Polygon\", \"coordinates\": [[[5.614854...</td>\n",
       "      <td>16.611296</td>\n",
       "      <td>45.749499</td>\n",
       "      <td>5.594320</td>\n",
       "    </tr>\n",
       "  </tbody>\n",
       "</table>\n",
       "</div>"
      ],
      "text/plain": [
       "           Code Postal                  Commune Département       Région  \\\n",
       "Code INSEE                                                                 \n",
       "01001            01400  L'ABERGEMENT-CLEMENCIAT         AIN  RHONE-ALPES   \n",
       "01002            01640    L'ABERGEMENT-DE-VAREY         AIN  RHONE-ALPES   \n",
       "01004            01500        AMBERIEU-EN-BUGEY         AIN  RHONE-ALPES   \n",
       "01005            01330      AMBERIEUX-EN-DOMBES         AIN  RHONE-ALPES   \n",
       "01006            01300                  AMBLEON         AIN  RHONE-ALPES   \n",
       "\n",
       "                      Statut  Altitude Moyenne  Superficie  Population  \\\n",
       "Code INSEE                                                               \n",
       "01001         Commune simple             242.0       15.65         0.8   \n",
       "01002         Commune simple             483.0        9.12         0.2   \n",
       "01004       Chef-lieu canton             379.0       24.48        13.4   \n",
       "01005         Commune simple             290.0       16.05         1.6   \n",
       "01006         Commune simple             589.0        6.02         0.1   \n",
       "\n",
       "                            geo_point_2d  \\\n",
       "Code INSEE                                 \n",
       "01001       46.1534255214, 4.92611354223   \n",
       "01002       46.0091878776, 5.42801696363   \n",
       "01004        45.9608475114, 5.3729257777   \n",
       "01005       45.9961799872, 4.91227250796   \n",
       "01006       45.7494989044, 5.59432017366   \n",
       "\n",
       "                                                    geo_shape     Densité  \\\n",
       "Code INSEE                                                                  \n",
       "01001       {\"type\": \"Polygon\", \"coordinates\": [[[4.926273...   51.118211   \n",
       "01002       {\"type\": \"Polygon\", \"coordinates\": [[[5.430089...   21.929825   \n",
       "01004       {\"type\": \"Polygon\", \"coordinates\": [[[5.386190...  547.385621   \n",
       "01005       {\"type\": \"Polygon\", \"coordinates\": [[[4.895580...   99.688474   \n",
       "01006       {\"type\": \"Polygon\", \"coordinates\": [[[5.614854...   16.611296   \n",
       "\n",
       "             Latitude  Longitude  \n",
       "Code INSEE                        \n",
       "01001       46.153426   4.926114  \n",
       "01002       46.009188   5.428017  \n",
       "01004       45.960848   5.372926  \n",
       "01005       45.996180   4.912273  \n",
       "01006       45.749499   5.594320  "
      ]
     },
     "execution_count": 35,
     "metadata": {},
     "output_type": "execute_result"
    }
   ],
   "source": [
    "# on calcule  la latitude et la longitude et on ajoute les colones\n",
    "geo[\"Latitude\"] = geo[\"geo_point_2d\"].apply(lambda x: float(x.split(', ')[0]))\n",
    "geo[\"Longitude\"] = geo[\"geo_point_2d\"].apply(lambda x: float(x.split(', ')[1]))\n",
    "geo.head()"
   ]
  },
  {
   "cell_type": "code",
   "execution_count": 36,
   "metadata": {
    "scrolled": false
   },
   "outputs": [
    {
     "name": "stdout",
     "output_type": "stream",
     "text": [
      "<class 'pandas.core.frame.DataFrame'>\n",
      "Index: 36742 entries, 01001 to 97617\n",
      "Data columns (total 13 columns):\n",
      " #   Column            Non-Null Count  Dtype   \n",
      "---  ------            --------------  -----   \n",
      " 0   Code Postal       36742 non-null  object  \n",
      " 1   Commune           36742 non-null  object  \n",
      " 2   Département       36742 non-null  object  \n",
      " 3   Région            36742 non-null  object  \n",
      " 4   Statut            36742 non-null  category\n",
      " 5   Altitude Moyenne  36742 non-null  float64 \n",
      " 6   Superficie        36742 non-null  float64 \n",
      " 7   Population        36742 non-null  float64 \n",
      " 8   geo_point_2d      36742 non-null  object  \n",
      " 9   geo_shape         36742 non-null  object  \n",
      " 10  Densité           36742 non-null  float64 \n",
      " 11  Latitude          36742 non-null  float64 \n",
      " 12  Longitude         36742 non-null  float64 \n",
      "dtypes: category(1), float64(6), object(6)\n",
      "memory usage: 4.7+ MB\n"
     ]
    }
   ],
   "source": [
    "# on vérifie le type des colonne ajoutées\n",
    "geo.info()"
   ]
  },
  {
   "cell_type": "markdown",
   "metadata": {},
   "source": [
    "Une autre manière de faire est d'utiliser la méthode `extract` capable d'extraire un motif sous forme d'expression régulière."
   ]
  },
  {
   "cell_type": "code",
   "execution_count": 42,
   "metadata": {},
   "outputs": [
    {
     "data": {
      "text/html": [
       "<div>\n",
       "<style scoped>\n",
       "    .dataframe tbody tr th:only-of-type {\n",
       "        vertical-align: middle;\n",
       "    }\n",
       "\n",
       "    .dataframe tbody tr th {\n",
       "        vertical-align: top;\n",
       "    }\n",
       "\n",
       "    .dataframe thead th {\n",
       "        text-align: right;\n",
       "    }\n",
       "</style>\n",
       "<table border=\"1\" class=\"dataframe\">\n",
       "  <thead>\n",
       "    <tr style=\"text-align: right;\">\n",
       "      <th></th>\n",
       "      <th>0</th>\n",
       "      <th>1</th>\n",
       "    </tr>\n",
       "    <tr>\n",
       "      <th>Code INSEE</th>\n",
       "      <th></th>\n",
       "      <th></th>\n",
       "    </tr>\n",
       "  </thead>\n",
       "  <tbody>\n",
       "    <tr>\n",
       "      <th>01001</th>\n",
       "      <td>L'ABERGEMENT</td>\n",
       "      <td>CLEMENCIAT</td>\n",
       "    </tr>\n",
       "    <tr>\n",
       "      <th>01002</th>\n",
       "      <td>L'ABERGEMENT-DE</td>\n",
       "      <td>VAREY</td>\n",
       "    </tr>\n",
       "    <tr>\n",
       "      <th>01004</th>\n",
       "      <td>AMBERIEU-EN</td>\n",
       "      <td>BUGEY</td>\n",
       "    </tr>\n",
       "    <tr>\n",
       "      <th>01005</th>\n",
       "      <td>AMBERIEUX-EN</td>\n",
       "      <td>DOMBES</td>\n",
       "    </tr>\n",
       "    <tr>\n",
       "      <th>01006</th>\n",
       "      <td>NaN</td>\n",
       "      <td>NaN</td>\n",
       "    </tr>\n",
       "    <tr>\n",
       "      <th>...</th>\n",
       "      <td>...</td>\n",
       "      <td>...</td>\n",
       "    </tr>\n",
       "    <tr>\n",
       "      <th>97613</th>\n",
       "      <td>NaN</td>\n",
       "      <td>NaN</td>\n",
       "    </tr>\n",
       "    <tr>\n",
       "      <th>97614</th>\n",
       "      <td>NaN</td>\n",
       "      <td>NaN</td>\n",
       "    </tr>\n",
       "    <tr>\n",
       "      <th>97615</th>\n",
       "      <td>NaN</td>\n",
       "      <td>NaN</td>\n",
       "    </tr>\n",
       "    <tr>\n",
       "      <th>97616</th>\n",
       "      <td>NaN</td>\n",
       "      <td>NaN</td>\n",
       "    </tr>\n",
       "    <tr>\n",
       "      <th>97617</th>\n",
       "      <td>NaN</td>\n",
       "      <td>NaN</td>\n",
       "    </tr>\n",
       "  </tbody>\n",
       "</table>\n",
       "<p>36742 rows × 2 columns</p>\n",
       "</div>"
      ],
      "text/plain": [
       "                          0           1\n",
       "Code INSEE                             \n",
       "01001          L'ABERGEMENT  CLEMENCIAT\n",
       "01002       L'ABERGEMENT-DE       VAREY\n",
       "01004           AMBERIEU-EN       BUGEY\n",
       "01005          AMBERIEUX-EN      DOMBES\n",
       "01006                   NaN         NaN\n",
       "...                     ...         ...\n",
       "97613                   NaN         NaN\n",
       "97614                   NaN         NaN\n",
       "97615                   NaN         NaN\n",
       "97616                   NaN         NaN\n",
       "97617                   NaN         NaN\n",
       "\n",
       "[36742 rows x 2 columns]"
      ]
     },
     "execution_count": 42,
     "metadata": {},
     "output_type": "execute_result"
    }
   ],
   "source": [
    "geo[\"Commune\"].str.extract(\"(.*)-(.*)\")"
   ]
  },
  {
   "cell_type": "code",
   "execution_count": 41,
   "metadata": {},
   "outputs": [
    {
     "data": {
      "text/html": [
       "<div>\n",
       "<style scoped>\n",
       "    .dataframe tbody tr th:only-of-type {\n",
       "        vertical-align: middle;\n",
       "    }\n",
       "\n",
       "    .dataframe tbody tr th {\n",
       "        vertical-align: top;\n",
       "    }\n",
       "\n",
       "    .dataframe thead th {\n",
       "        text-align: right;\n",
       "    }\n",
       "</style>\n",
       "<table border=\"1\" class=\"dataframe\">\n",
       "  <thead>\n",
       "    <tr style=\"text-align: right;\">\n",
       "      <th></th>\n",
       "      <th>0</th>\n",
       "      <th>1</th>\n",
       "    </tr>\n",
       "    <tr>\n",
       "      <th>Code INSEE</th>\n",
       "      <th></th>\n",
       "      <th></th>\n",
       "    </tr>\n",
       "  </thead>\n",
       "  <tbody>\n",
       "    <tr>\n",
       "      <th>01001</th>\n",
       "      <td>46.1534255214</td>\n",
       "      <td>4.92611354223</td>\n",
       "    </tr>\n",
       "    <tr>\n",
       "      <th>01002</th>\n",
       "      <td>46.0091878776</td>\n",
       "      <td>5.42801696363</td>\n",
       "    </tr>\n",
       "    <tr>\n",
       "      <th>01004</th>\n",
       "      <td>45.9608475114</td>\n",
       "      <td>5.3729257777</td>\n",
       "    </tr>\n",
       "    <tr>\n",
       "      <th>01005</th>\n",
       "      <td>45.9961799872</td>\n",
       "      <td>4.91227250796</td>\n",
       "    </tr>\n",
       "    <tr>\n",
       "      <th>01006</th>\n",
       "      <td>45.7494989044</td>\n",
       "      <td>5.59432017366</td>\n",
       "    </tr>\n",
       "    <tr>\n",
       "      <th>...</th>\n",
       "      <td>...</td>\n",
       "      <td>...</td>\n",
       "    </tr>\n",
       "    <tr>\n",
       "      <th>97613</th>\n",
       "      <td>-12.7513099309</td>\n",
       "      <td>45.0871696871</td>\n",
       "    </tr>\n",
       "    <tr>\n",
       "      <th>97614</th>\n",
       "      <td>-12.8370955196</td>\n",
       "      <td>45.1379095497</td>\n",
       "    </tr>\n",
       "    <tr>\n",
       "      <th>97615</th>\n",
       "      <td>-12.7961353309</td>\n",
       "      <td>45.2842063102</td>\n",
       "    </tr>\n",
       "    <tr>\n",
       "      <th>97616</th>\n",
       "      <td>-12.8611649609</td>\n",
       "      <td>45.1185503145</td>\n",
       "    </tr>\n",
       "    <tr>\n",
       "      <th>97617</th>\n",
       "      <td>-12.7821666736</td>\n",
       "      <td>45.1344279083</td>\n",
       "    </tr>\n",
       "  </tbody>\n",
       "</table>\n",
       "<p>36742 rows × 2 columns</p>\n",
       "</div>"
      ],
      "text/plain": [
       "                         0              1\n",
       "Code INSEE                               \n",
       "01001        46.1534255214  4.92611354223\n",
       "01002        46.0091878776  5.42801696363\n",
       "01004        45.9608475114   5.3729257777\n",
       "01005        45.9961799872  4.91227250796\n",
       "01006        45.7494989044  5.59432017366\n",
       "...                    ...            ...\n",
       "97613       -12.7513099309  45.0871696871\n",
       "97614       -12.8370955196  45.1379095497\n",
       "97615       -12.7961353309  45.2842063102\n",
       "97616       -12.8611649609  45.1185503145\n",
       "97617       -12.7821666736  45.1344279083\n",
       "\n",
       "[36742 rows x 2 columns]"
      ]
     },
     "execution_count": 41,
     "metadata": {},
     "output_type": "execute_result"
    }
   ],
   "source": [
    "# méthode extract\n",
    "geo[\"geo_point_2d\"].str.extract(\"(.*), (.*)\")"
   ]
  },
  {
   "cell_type": "code",
   "execution_count": 38,
   "metadata": {},
   "outputs": [
    {
     "data": {
      "text/html": [
       "<div>\n",
       "<style scoped>\n",
       "    .dataframe tbody tr th:only-of-type {\n",
       "        vertical-align: middle;\n",
       "    }\n",
       "\n",
       "    .dataframe tbody tr th {\n",
       "        vertical-align: top;\n",
       "    }\n",
       "\n",
       "    .dataframe thead th {\n",
       "        text-align: right;\n",
       "    }\n",
       "</style>\n",
       "<table border=\"1\" class=\"dataframe\">\n",
       "  <thead>\n",
       "    <tr style=\"text-align: right;\">\n",
       "      <th></th>\n",
       "      <th>Code Postal</th>\n",
       "      <th>Commune</th>\n",
       "      <th>Département</th>\n",
       "      <th>Région</th>\n",
       "      <th>Statut</th>\n",
       "      <th>Altitude Moyenne</th>\n",
       "      <th>Superficie</th>\n",
       "      <th>Population</th>\n",
       "      <th>geo_point_2d</th>\n",
       "      <th>geo_shape</th>\n",
       "      <th>Densité</th>\n",
       "      <th>Latitude</th>\n",
       "      <th>Longitude</th>\n",
       "    </tr>\n",
       "    <tr>\n",
       "      <th>Code INSEE</th>\n",
       "      <th></th>\n",
       "      <th></th>\n",
       "      <th></th>\n",
       "      <th></th>\n",
       "      <th></th>\n",
       "      <th></th>\n",
       "      <th></th>\n",
       "      <th></th>\n",
       "      <th></th>\n",
       "      <th></th>\n",
       "      <th></th>\n",
       "      <th></th>\n",
       "      <th></th>\n",
       "    </tr>\n",
       "  </thead>\n",
       "  <tbody>\n",
       "    <tr>\n",
       "      <th>01001</th>\n",
       "      <td>01400</td>\n",
       "      <td>L'ABERGEMENT-CLEMENCIAT</td>\n",
       "      <td>AIN</td>\n",
       "      <td>RHONE-ALPES</td>\n",
       "      <td>Commune simple</td>\n",
       "      <td>242.0</td>\n",
       "      <td>15.65</td>\n",
       "      <td>0.8</td>\n",
       "      <td>46.1534255214, 4.92611354223</td>\n",
       "      <td>{\"type\": \"Polygon\", \"coordinates\": [[[4.926273...</td>\n",
       "      <td>51.118211</td>\n",
       "      <td>46.153426</td>\n",
       "      <td>4.926114</td>\n",
       "    </tr>\n",
       "    <tr>\n",
       "      <th>01002</th>\n",
       "      <td>01640</td>\n",
       "      <td>L'ABERGEMENT-DE-VAREY</td>\n",
       "      <td>AIN</td>\n",
       "      <td>RHONE-ALPES</td>\n",
       "      <td>Commune simple</td>\n",
       "      <td>483.0</td>\n",
       "      <td>9.12</td>\n",
       "      <td>0.2</td>\n",
       "      <td>46.0091878776, 5.42801696363</td>\n",
       "      <td>{\"type\": \"Polygon\", \"coordinates\": [[[5.430089...</td>\n",
       "      <td>21.929825</td>\n",
       "      <td>46.009188</td>\n",
       "      <td>5.428017</td>\n",
       "    </tr>\n",
       "    <tr>\n",
       "      <th>01004</th>\n",
       "      <td>01500</td>\n",
       "      <td>AMBERIEU-EN-BUGEY</td>\n",
       "      <td>AIN</td>\n",
       "      <td>RHONE-ALPES</td>\n",
       "      <td>Chef-lieu canton</td>\n",
       "      <td>379.0</td>\n",
       "      <td>24.48</td>\n",
       "      <td>13.4</td>\n",
       "      <td>45.9608475114, 5.3729257777</td>\n",
       "      <td>{\"type\": \"Polygon\", \"coordinates\": [[[5.386190...</td>\n",
       "      <td>547.385621</td>\n",
       "      <td>45.960848</td>\n",
       "      <td>5.372926</td>\n",
       "    </tr>\n",
       "    <tr>\n",
       "      <th>01005</th>\n",
       "      <td>01330</td>\n",
       "      <td>AMBERIEUX-EN-DOMBES</td>\n",
       "      <td>AIN</td>\n",
       "      <td>RHONE-ALPES</td>\n",
       "      <td>Commune simple</td>\n",
       "      <td>290.0</td>\n",
       "      <td>16.05</td>\n",
       "      <td>1.6</td>\n",
       "      <td>45.9961799872, 4.91227250796</td>\n",
       "      <td>{\"type\": \"Polygon\", \"coordinates\": [[[4.895580...</td>\n",
       "      <td>99.688474</td>\n",
       "      <td>45.996180</td>\n",
       "      <td>4.912273</td>\n",
       "    </tr>\n",
       "    <tr>\n",
       "      <th>01006</th>\n",
       "      <td>01300</td>\n",
       "      <td>AMBLEON</td>\n",
       "      <td>AIN</td>\n",
       "      <td>RHONE-ALPES</td>\n",
       "      <td>Commune simple</td>\n",
       "      <td>589.0</td>\n",
       "      <td>6.02</td>\n",
       "      <td>0.1</td>\n",
       "      <td>45.7494989044, 5.59432017366</td>\n",
       "      <td>{\"type\": \"Polygon\", \"coordinates\": [[[5.614854...</td>\n",
       "      <td>16.611296</td>\n",
       "      <td>45.749499</td>\n",
       "      <td>5.594320</td>\n",
       "    </tr>\n",
       "  </tbody>\n",
       "</table>\n",
       "</div>"
      ],
      "text/plain": [
       "           Code Postal                  Commune Département       Région  \\\n",
       "Code INSEE                                                                 \n",
       "01001            01400  L'ABERGEMENT-CLEMENCIAT         AIN  RHONE-ALPES   \n",
       "01002            01640    L'ABERGEMENT-DE-VAREY         AIN  RHONE-ALPES   \n",
       "01004            01500        AMBERIEU-EN-BUGEY         AIN  RHONE-ALPES   \n",
       "01005            01330      AMBERIEUX-EN-DOMBES         AIN  RHONE-ALPES   \n",
       "01006            01300                  AMBLEON         AIN  RHONE-ALPES   \n",
       "\n",
       "                      Statut  Altitude Moyenne  Superficie  Population  \\\n",
       "Code INSEE                                                               \n",
       "01001         Commune simple             242.0       15.65         0.8   \n",
       "01002         Commune simple             483.0        9.12         0.2   \n",
       "01004       Chef-lieu canton             379.0       24.48        13.4   \n",
       "01005         Commune simple             290.0       16.05         1.6   \n",
       "01006         Commune simple             589.0        6.02         0.1   \n",
       "\n",
       "                            geo_point_2d  \\\n",
       "Code INSEE                                 \n",
       "01001       46.1534255214, 4.92611354223   \n",
       "01002       46.0091878776, 5.42801696363   \n",
       "01004        45.9608475114, 5.3729257777   \n",
       "01005       45.9961799872, 4.91227250796   \n",
       "01006       45.7494989044, 5.59432017366   \n",
       "\n",
       "                                                    geo_shape     Densité  \\\n",
       "Code INSEE                                                                  \n",
       "01001       {\"type\": \"Polygon\", \"coordinates\": [[[4.926273...   51.118211   \n",
       "01002       {\"type\": \"Polygon\", \"coordinates\": [[[5.430089...   21.929825   \n",
       "01004       {\"type\": \"Polygon\", \"coordinates\": [[[5.386190...  547.385621   \n",
       "01005       {\"type\": \"Polygon\", \"coordinates\": [[[4.895580...   99.688474   \n",
       "01006       {\"type\": \"Polygon\", \"coordinates\": [[[5.614854...   16.611296   \n",
       "\n",
       "             Latitude  Longitude  \n",
       "Code INSEE                        \n",
       "01001       46.153426   4.926114  \n",
       "01002       46.009188   5.428017  \n",
       "01004       45.960848   5.372926  \n",
       "01005       45.996180   4.912273  \n",
       "01006       45.749499   5.594320  "
      ]
     },
     "execution_count": 38,
     "metadata": {},
     "output_type": "execute_result"
    }
   ],
   "source": [
    "# méthode extract\n",
    "geo[['Latitude', 'Longitude']] = geo[\"geo_point_2d\"].str.extract(\"(.*), (.*)\").astype(float)\n",
    "geo.head()"
   ]
  },
  {
   "cell_type": "markdown",
   "metadata": {},
   "source": [
    "<div class=\"alert alert-success\">\n",
    "<b>Exercice 1</b>\n",
    "<ul>\n",
    "    <li>Ajoutez une colonne 'CP Ville' avec le Code postal + un espace + et le nom de la Ville</li>\n",
    "    <li>Ecrivez une fonction qui détermine la commune la plus proche d'un point à partir de sa latitude et sa longitude.</li>\n",
    "    <li>Ajoutez une fonction de conversion pour pouvoir utiliser la première fonction avec un GPS (degrés, minutes, secondes).</li>\n",
    "</ul>\n",
    "</div>"
   ]
  },
  {
   "cell_type": "code",
   "execution_count": 43,
   "metadata": {},
   "outputs": [
    {
     "data": {
      "text/html": [
       "<div>\n",
       "<style scoped>\n",
       "    .dataframe tbody tr th:only-of-type {\n",
       "        vertical-align: middle;\n",
       "    }\n",
       "\n",
       "    .dataframe tbody tr th {\n",
       "        vertical-align: top;\n",
       "    }\n",
       "\n",
       "    .dataframe thead th {\n",
       "        text-align: right;\n",
       "    }\n",
       "</style>\n",
       "<table border=\"1\" class=\"dataframe\">\n",
       "  <thead>\n",
       "    <tr style=\"text-align: right;\">\n",
       "      <th></th>\n",
       "      <th>Code Postal</th>\n",
       "      <th>Commune</th>\n",
       "      <th>Département</th>\n",
       "      <th>Région</th>\n",
       "      <th>Statut</th>\n",
       "      <th>Altitude Moyenne</th>\n",
       "      <th>Superficie</th>\n",
       "      <th>Population</th>\n",
       "      <th>geo_point_2d</th>\n",
       "      <th>geo_shape</th>\n",
       "      <th>Densité</th>\n",
       "      <th>Latitude</th>\n",
       "      <th>Longitude</th>\n",
       "      <th>CP Ville</th>\n",
       "    </tr>\n",
       "    <tr>\n",
       "      <th>Code INSEE</th>\n",
       "      <th></th>\n",
       "      <th></th>\n",
       "      <th></th>\n",
       "      <th></th>\n",
       "      <th></th>\n",
       "      <th></th>\n",
       "      <th></th>\n",
       "      <th></th>\n",
       "      <th></th>\n",
       "      <th></th>\n",
       "      <th></th>\n",
       "      <th></th>\n",
       "      <th></th>\n",
       "      <th></th>\n",
       "    </tr>\n",
       "  </thead>\n",
       "  <tbody>\n",
       "    <tr>\n",
       "      <th>01001</th>\n",
       "      <td>01400</td>\n",
       "      <td>L'ABERGEMENT-CLEMENCIAT</td>\n",
       "      <td>AIN</td>\n",
       "      <td>RHONE-ALPES</td>\n",
       "      <td>Commune simple</td>\n",
       "      <td>242.0</td>\n",
       "      <td>15.65</td>\n",
       "      <td>0.8</td>\n",
       "      <td>46.1534255214, 4.92611354223</td>\n",
       "      <td>{\"type\": \"Polygon\", \"coordinates\": [[[4.926273...</td>\n",
       "      <td>51.118211</td>\n",
       "      <td>46.153426</td>\n",
       "      <td>4.926114</td>\n",
       "      <td>01400 L'ABERGEMENT-CLEMENCIAT</td>\n",
       "    </tr>\n",
       "    <tr>\n",
       "      <th>01002</th>\n",
       "      <td>01640</td>\n",
       "      <td>L'ABERGEMENT-DE-VAREY</td>\n",
       "      <td>AIN</td>\n",
       "      <td>RHONE-ALPES</td>\n",
       "      <td>Commune simple</td>\n",
       "      <td>483.0</td>\n",
       "      <td>9.12</td>\n",
       "      <td>0.2</td>\n",
       "      <td>46.0091878776, 5.42801696363</td>\n",
       "      <td>{\"type\": \"Polygon\", \"coordinates\": [[[5.430089...</td>\n",
       "      <td>21.929825</td>\n",
       "      <td>46.009188</td>\n",
       "      <td>5.428017</td>\n",
       "      <td>01640 L'ABERGEMENT-DE-VAREY</td>\n",
       "    </tr>\n",
       "    <tr>\n",
       "      <th>01004</th>\n",
       "      <td>01500</td>\n",
       "      <td>AMBERIEU-EN-BUGEY</td>\n",
       "      <td>AIN</td>\n",
       "      <td>RHONE-ALPES</td>\n",
       "      <td>Chef-lieu canton</td>\n",
       "      <td>379.0</td>\n",
       "      <td>24.48</td>\n",
       "      <td>13.4</td>\n",
       "      <td>45.9608475114, 5.3729257777</td>\n",
       "      <td>{\"type\": \"Polygon\", \"coordinates\": [[[5.386190...</td>\n",
       "      <td>547.385621</td>\n",
       "      <td>45.960848</td>\n",
       "      <td>5.372926</td>\n",
       "      <td>01500 AMBERIEU-EN-BUGEY</td>\n",
       "    </tr>\n",
       "    <tr>\n",
       "      <th>01005</th>\n",
       "      <td>01330</td>\n",
       "      <td>AMBERIEUX-EN-DOMBES</td>\n",
       "      <td>AIN</td>\n",
       "      <td>RHONE-ALPES</td>\n",
       "      <td>Commune simple</td>\n",
       "      <td>290.0</td>\n",
       "      <td>16.05</td>\n",
       "      <td>1.6</td>\n",
       "      <td>45.9961799872, 4.91227250796</td>\n",
       "      <td>{\"type\": \"Polygon\", \"coordinates\": [[[4.895580...</td>\n",
       "      <td>99.688474</td>\n",
       "      <td>45.996180</td>\n",
       "      <td>4.912273</td>\n",
       "      <td>01330 AMBERIEUX-EN-DOMBES</td>\n",
       "    </tr>\n",
       "    <tr>\n",
       "      <th>01006</th>\n",
       "      <td>01300</td>\n",
       "      <td>AMBLEON</td>\n",
       "      <td>AIN</td>\n",
       "      <td>RHONE-ALPES</td>\n",
       "      <td>Commune simple</td>\n",
       "      <td>589.0</td>\n",
       "      <td>6.02</td>\n",
       "      <td>0.1</td>\n",
       "      <td>45.7494989044, 5.59432017366</td>\n",
       "      <td>{\"type\": \"Polygon\", \"coordinates\": [[[5.614854...</td>\n",
       "      <td>16.611296</td>\n",
       "      <td>45.749499</td>\n",
       "      <td>5.594320</td>\n",
       "      <td>01300 AMBLEON</td>\n",
       "    </tr>\n",
       "  </tbody>\n",
       "</table>\n",
       "</div>"
      ],
      "text/plain": [
       "           Code Postal                  Commune Département       Région  \\\n",
       "Code INSEE                                                                 \n",
       "01001            01400  L'ABERGEMENT-CLEMENCIAT         AIN  RHONE-ALPES   \n",
       "01002            01640    L'ABERGEMENT-DE-VAREY         AIN  RHONE-ALPES   \n",
       "01004            01500        AMBERIEU-EN-BUGEY         AIN  RHONE-ALPES   \n",
       "01005            01330      AMBERIEUX-EN-DOMBES         AIN  RHONE-ALPES   \n",
       "01006            01300                  AMBLEON         AIN  RHONE-ALPES   \n",
       "\n",
       "                      Statut  Altitude Moyenne  Superficie  Population  \\\n",
       "Code INSEE                                                               \n",
       "01001         Commune simple             242.0       15.65         0.8   \n",
       "01002         Commune simple             483.0        9.12         0.2   \n",
       "01004       Chef-lieu canton             379.0       24.48        13.4   \n",
       "01005         Commune simple             290.0       16.05         1.6   \n",
       "01006         Commune simple             589.0        6.02         0.1   \n",
       "\n",
       "                            geo_point_2d  \\\n",
       "Code INSEE                                 \n",
       "01001       46.1534255214, 4.92611354223   \n",
       "01002       46.0091878776, 5.42801696363   \n",
       "01004        45.9608475114, 5.3729257777   \n",
       "01005       45.9961799872, 4.91227250796   \n",
       "01006       45.7494989044, 5.59432017366   \n",
       "\n",
       "                                                    geo_shape     Densité  \\\n",
       "Code INSEE                                                                  \n",
       "01001       {\"type\": \"Polygon\", \"coordinates\": [[[4.926273...   51.118211   \n",
       "01002       {\"type\": \"Polygon\", \"coordinates\": [[[5.430089...   21.929825   \n",
       "01004       {\"type\": \"Polygon\", \"coordinates\": [[[5.386190...  547.385621   \n",
       "01005       {\"type\": \"Polygon\", \"coordinates\": [[[4.895580...   99.688474   \n",
       "01006       {\"type\": \"Polygon\", \"coordinates\": [[[5.614854...   16.611296   \n",
       "\n",
       "             Latitude  Longitude                       CP Ville  \n",
       "Code INSEE                                                       \n",
       "01001       46.153426   4.926114  01400 L'ABERGEMENT-CLEMENCIAT  \n",
       "01002       46.009188   5.428017    01640 L'ABERGEMENT-DE-VAREY  \n",
       "01004       45.960848   5.372926        01500 AMBERIEU-EN-BUGEY  \n",
       "01005       45.996180   4.912273      01330 AMBERIEUX-EN-DOMBES  \n",
       "01006       45.749499   5.594320                  01300 AMBLEON  "
      ]
     },
     "execution_count": 43,
     "metadata": {},
     "output_type": "execute_result"
    }
   ],
   "source": [
    "geo[\"CP Ville\"] = geo[\"Code Postal\"] + \" \" + geo[\"Commune\"]\n",
    "geo.head()"
   ]
  },
  {
   "cell_type": "code",
   "execution_count": 44,
   "metadata": {
    "scrolled": false
   },
   "outputs": [],
   "source": [
    "# fonction recherche de ville\n",
    "def ville(lat, long):\n",
    "    dist = np.sqrt((geo[\"Latitude\"]-lat)**2+(geo[\"Longitude\"]-long)**2)\n",
    "    return geo.at[dist.idxmin(), \"CP Ville\"]"
   ]
  },
  {
   "cell_type": "code",
   "execution_count": 51,
   "metadata": {
    "scrolled": false
   },
   "outputs": [],
   "source": [
    "# fonction recherche de ville\n",
    "def ville(lat, long):\n",
    "    dist2 = (geo[\"Latitude\"]-lat)**2+(geo[\"Longitude\"]-long)**2\n",
    "    return geo.at[dist2.idxmin(), \"CP Ville\"]"
   ]
  },
  {
   "cell_type": "code",
   "execution_count": 47,
   "metadata": {
    "scrolled": false
   },
   "outputs": [
    {
     "name": "stdout",
     "output_type": "stream",
     "text": [
      "46.76860963770232 5.341764749037324\n"
     ]
    },
    {
     "data": {
      "text/plain": [
       "'71330 BOSJEAN'"
      ]
     },
     "execution_count": 47,
     "metadata": {},
     "output_type": "execute_result"
    }
   ],
   "source": [
    "# on applique la fonction à une coordonnée tirée au hasard\n",
    "np.random.seed(0)\n",
    "a, b = 41.5, 51.1  # latitude min et max de la France métropolitaine\n",
    "lat = (b - a) * np.random.random() + a\n",
    "a, b = -5.1, 9.5  # longitude min et max de la France métropolitaine\n",
    "long = (b - a) * np.random.random() + a\n",
    "print(lat, long)\n",
    "ville(lat, long)"
   ]
  },
  {
   "cell_type": "code",
   "execution_count": 48,
   "metadata": {
    "scrolled": false
   },
   "outputs": [],
   "source": [
    "# conversion degrés, minutes, secondes => décimal\n",
    "def dms2dec(deg, mn, sec):\n",
    "    return deg + mn/60 + sec/3600"
   ]
  },
  {
   "cell_type": "code",
   "execution_count": 52,
   "metadata": {},
   "outputs": [
    {
     "data": {
      "text/plain": [
       "'13124 PEYPIN'"
      ]
     },
     "execution_count": 52,
     "metadata": {},
     "output_type": "execute_result"
    }
   ],
   "source": [
    "# 43° 23′ 12″ nord, 5° 34′ 45″ est\n",
    "ville(dms2dec(43, 23, 12), dms2dec(5, 34, 45))"
   ]
  },
  {
   "cell_type": "markdown",
   "metadata": {},
   "source": [
    "<div class=\"alert alert-success\">\n",
    "<b>Exercice 2</b>\n",
    "<br />\n",
    "La colonne \"geo_shape\" est formée de chaines de catactères en JSON (JavaScript Object Notation). Le format JSON est très utilisé comme le format XML.\n",
    "\n",
    "<ul>\n",
    "    <li>Utiliser la librairie Python json pour parser la colonne \"geo_shape\" : json.loads()</li>\n",
    "    <li>Donner le décompte des valeurs accédées avec la clé \"type\".</li>\n",
    "    <li>Donner le décompte des longueurs des listes accédées avec la clé \"coordinates\".</li>\n",
    "    <li>Quelle commune est la plus complexe géométriquement ?</li>\n",
    "    <li>Quelles sont les villes qui sont de type \"Polygon\" mais dont la longueur des listes accédées avec la clé \"coordinates\" vaut 2 ?</li>\n",
    "    <li>Pour ces villes vérifier que le premier polygone contient bien le second (enclave). NB : installer la librairie shapely, utiliser la classe Polygon de shapely.geometry. Sur Windows shapely peut nécessiter d'installer la dll \"geos_c.dll\" dans le répertoire \"Library/bin\" de votre environnement Python.</li>\n",
    "</ul>\n",
    "</div>"
   ]
  },
  {
   "cell_type": "markdown",
   "metadata": {},
   "source": [
    "Les formes géométriques des communes sont des polygones ou composées de plusieurs polygones."
   ]
  },
  {
   "cell_type": "code",
   "execution_count": 55,
   "metadata": {},
   "outputs": [
    {
     "data": {
      "text/plain": [
       "'{\"type\": \"Polygon\", \"coordinates\": [[[4.92627342692396, 46.1200517234555], [4.92199538031264, 46.12069170563269], [4.921996260482057, 46.12663667307488], [4.90936269187648, 46.129164756530656], [4.916016986429157, 46.14461766984426], [4.903080786126749, 46.157977074275074], [4.904571300671208, 46.16096059498421], [4.910603091203733, 46.180432597608316], [4.914119126867876, 46.18271538441311], [4.932895432675545, 46.18304616431434], [4.938729478686701, 46.17383114520867], [4.933038591703602, 46.16429901579509], [4.958286230120842, 46.153246666893935], [4.943330383388636, 46.145964148557894], [4.939154593056283, 46.12938048470421], [4.931056072485923, 46.12087123131487], [4.92627342692396, 46.1200517234555]]]}'"
      ]
     },
     "execution_count": 55,
     "metadata": {},
     "output_type": "execute_result"
    }
   ],
   "source": [
    "geo_shape = geo[\"geo_shape\"]\n",
    "geo_shape[0]"
   ]
  },
  {
   "cell_type": "code",
   "execution_count": 57,
   "metadata": {},
   "outputs": [
    {
     "data": {
      "text/plain": [
       "dict"
      ]
     },
     "execution_count": 57,
     "metadata": {},
     "output_type": "execute_result"
    }
   ],
   "source": [
    "import json\n",
    "d = json.loads(geo_shape[0])\n",
    "type(d)"
   ]
  },
  {
   "cell_type": "code",
   "execution_count": 59,
   "metadata": {},
   "outputs": [
    {
     "data": {
      "text/plain": [
       "'Polygon'"
      ]
     },
     "execution_count": 59,
     "metadata": {},
     "output_type": "execute_result"
    }
   ],
   "source": [
    "d['type']"
   ]
  },
  {
   "cell_type": "code",
   "execution_count": 60,
   "metadata": {},
   "outputs": [
    {
     "data": {
      "text/plain": [
       "[[[4.92627342692396, 46.1200517234555],\n",
       "  [4.92199538031264, 46.12069170563269],\n",
       "  [4.921996260482057, 46.12663667307488],\n",
       "  [4.90936269187648, 46.129164756530656],\n",
       "  [4.916016986429157, 46.14461766984426],\n",
       "  [4.903080786126749, 46.157977074275074],\n",
       "  [4.904571300671208, 46.16096059498421],\n",
       "  [4.910603091203733, 46.180432597608316],\n",
       "  [4.914119126867876, 46.18271538441311],\n",
       "  [4.932895432675545, 46.18304616431434],\n",
       "  [4.938729478686701, 46.17383114520867],\n",
       "  [4.933038591703602, 46.16429901579509],\n",
       "  [4.958286230120842, 46.153246666893935],\n",
       "  [4.943330383388636, 46.145964148557894],\n",
       "  [4.939154593056283, 46.12938048470421],\n",
       "  [4.931056072485923, 46.12087123131487],\n",
       "  [4.92627342692396, 46.1200517234555]]]"
      ]
     },
     "execution_count": 60,
     "metadata": {},
     "output_type": "execute_result"
    }
   ],
   "source": [
    "d['coordinates']"
   ]
  },
  {
   "cell_type": "code",
   "execution_count": 63,
   "metadata": {},
   "outputs": [
    {
     "data": {
      "text/plain": [
       "{'type': 'Polygon',\n",
       " 'coordinates': [[[4.92627342692396, 46.1200517234555],\n",
       "   [4.92199538031264, 46.12069170563269],\n",
       "   [4.921996260482057, 46.12663667307488],\n",
       "   [4.90936269187648, 46.129164756530656],\n",
       "   [4.916016986429157, 46.14461766984426],\n",
       "   [4.903080786126749, 46.157977074275074],\n",
       "   [4.904571300671208, 46.16096059498421],\n",
       "   [4.910603091203733, 46.180432597608316],\n",
       "   [4.914119126867876, 46.18271538441311],\n",
       "   [4.932895432675545, 46.18304616431434],\n",
       "   [4.938729478686701, 46.17383114520867],\n",
       "   [4.933038591703602, 46.16429901579509],\n",
       "   [4.958286230120842, 46.153246666893935],\n",
       "   [4.943330383388636, 46.145964148557894],\n",
       "   [4.939154593056283, 46.12938048470421],\n",
       "   [4.931056072485923, 46.12087123131487],\n",
       "   [4.92627342692396, 46.1200517234555]]]}"
      ]
     },
     "execution_count": 63,
     "metadata": {},
     "output_type": "execute_result"
    }
   ],
   "source": [
    "# Utiliser la librairie Python json pour parser la colonne \"geo_shape\" : json.loads()\n",
    "geo_shape.apply(json.loads)"
   ]
  },
  {
   "cell_type": "code",
   "execution_count": 67,
   "metadata": {},
   "outputs": [
    {
     "data": {
      "text/plain": [
       "Polygon         36670\n",
       "MultiPolygon       72\n",
       "Name: geo_shape, dtype: int64"
      ]
     },
     "execution_count": 67,
     "metadata": {},
     "output_type": "execute_result"
    }
   ],
   "source": [
    "# Donner le décompte des valeurs accédées avec la clé \"type\".\n",
    "geo_shape.apply(json.loads).apply(lambda x: x['type']).value_counts()"
   ]
  },
  {
   "cell_type": "code",
   "execution_count": 68,
   "metadata": {},
   "outputs": [
    {
     "data": {
      "text/plain": [
       "1    36660\n",
       "2       80\n",
       "3        1\n",
       "4        1\n",
       "Name: geo_shape, dtype: int64"
      ]
     },
     "execution_count": 68,
     "metadata": {},
     "output_type": "execute_result"
    }
   ],
   "source": [
    "#Quelle commune est la plus complexe géométriquement ?\n",
    "geo_shape.apply(json.loads).apply(lambda x: len(x['coordinates'])).value_counts()"
   ]
  },
  {
   "cell_type": "code",
   "execution_count": 70,
   "metadata": {},
   "outputs": [
    {
     "data": {
      "text/plain": [
       "'83400 HYERES'"
      ]
     },
     "execution_count": 70,
     "metadata": {},
     "output_type": "execute_result"
    }
   ],
   "source": [
    "geo.loc[geo_shape.apply(json.loads).apply(lambda x: len(x['coordinates'])).idxmax(), 'CP Ville']"
   ]
  },
  {
   "cell_type": "code",
   "execution_count": 71,
   "metadata": {},
   "outputs": [
    {
     "data": {
      "text/plain": [
       "Code INSEE\n",
       "83069    83400 HYERES\n",
       "Name: CP Ville, dtype: object"
      ]
     },
     "execution_count": 71,
     "metadata": {},
     "output_type": "execute_result"
    }
   ],
   "source": [
    "geo.loc[geo_shape.apply(json.loads).apply(lambda x: len(x['coordinates']))==4, 'CP Ville']"
   ]
  },
  {
   "cell_type": "code",
   "execution_count": 74,
   "metadata": {},
   "outputs": [
    {
     "data": {
      "text/plain": [
       "Code INSEE\n",
       "02232               02600 COYOLLES\n",
       "05052               05600 EYGLIERS\n",
       "09042    09240 LA BASTIDE-DE-SEROU\n",
       "22209              22650 PLOUBALAY\n",
       "2A272                20100 SARTENE\n",
       "2B049              20214 CALENZANA\n",
       "48080               48300 LANGOGNE\n",
       "67486              67920 SUNDHOUSE\n",
       "68078              68420 EGUISHEIM\n",
       "71028            71270 BEAUVERNOIS\n",
       "Name: CP Ville, dtype: object"
      ]
     },
     "execution_count": 74,
     "metadata": {},
     "output_type": "execute_result"
    }
   ],
   "source": [
    "geo.loc[(geo_shape.apply(json.loads).apply(lambda x: x['type'])=='Polygon')\\\n",
    "       & (geo_shape.apply(json.loads).apply(lambda x: len(x['coordinates']))>1),\\\n",
    "       'CP Ville']"
   ]
  },
  {
   "cell_type": "code",
   "execution_count": 83,
   "metadata": {},
   "outputs": [
    {
     "data": {
      "text/plain": [
       "True"
      ]
     },
     "execution_count": 83,
     "metadata": {},
     "output_type": "execute_result"
    }
   ],
   "source": [
    "from shapely.geometry import Polygon\n",
    "\n",
    "p1 = Polygon(json.loads(geo.at['2A272', 'geo_shape'])['coordinates'][0])\n",
    "p2 = Polygon(json.loads(geo.at['2A272', 'geo_shape'])['coordinates'][1])\n",
    "p1.contains(p2)"
   ]
  },
  {
   "cell_type": "code",
   "execution_count": 88,
   "metadata": {},
   "outputs": [
    {
     "data": {
      "text/plain": [
       "True"
      ]
     },
     "execution_count": 88,
     "metadata": {},
     "output_type": "execute_result"
    }
   ],
   "source": [
    "def est_enclave(coordinates):\n",
    "    p1 = Polygon(coordinates[0])\n",
    "    p2 = Polygon(coordinates[1])\n",
    "    return p1.contains(p2)\n",
    "\n",
    "geo.loc[(geo_shape.apply(json.loads).apply(lambda x: x['type'])=='Polygon')\\\n",
    "       & (geo_shape.apply(json.loads).apply(lambda x: len(x['coordinates']))>1),\\\n",
    "       'geo_shape'].apply(json.loads).apply(lambda x: x['coordinates']).apply(est_enclave).all()"
   ]
  },
  {
   "cell_type": "markdown",
   "metadata": {},
   "source": [
    "## 3.4 Discrétisation de valeurs continues\n",
    "\n",
    "La fonction `cut()` permet de discrétiser des variables continues. Elle renvoie un objet de type `Series` numérique qui partage le même index que l'objet Series initial.\n",
    "\n",
    "A noter, on utilise la valeur `numpy.inf` qui désigne $+\\infty$."
   ]
  },
  {
   "cell_type": "code",
   "execution_count": 89,
   "metadata": {},
   "outputs": [
    {
     "data": {
      "text/plain": [
       "True"
      ]
     },
     "execution_count": 89,
     "metadata": {},
     "output_type": "execute_result"
    }
   ],
   "source": [
    "# + infini\n",
    "1e10 < np.inf"
   ]
  },
  {
   "cell_type": "code",
   "execution_count": 90,
   "metadata": {},
   "outputs": [
    {
     "data": {
      "text/plain": [
       "-inf"
      ]
     },
     "execution_count": 90,
     "metadata": {},
     "output_type": "execute_result"
    }
   ],
   "source": [
    "# - infini\n",
    "np.NINF"
   ]
  },
  {
   "cell_type": "code",
   "execution_count": 91,
   "metadata": {},
   "outputs": [
    {
     "data": {
      "text/plain": [
       "nan"
      ]
     },
     "execution_count": 91,
     "metadata": {},
     "output_type": "execute_result"
    }
   ],
   "source": [
    "# indéterminé\n",
    "np.inf + np.NINF"
   ]
  },
  {
   "cell_type": "code",
   "execution_count": 92,
   "metadata": {
    "scrolled": false
   },
   "outputs": [
    {
     "data": {
      "text/plain": [
       "Code INSEE\n",
       "01001    Village\n",
       "01002    Village\n",
       "01004      Ville\n",
       "01005    Village\n",
       "01006    Village\n",
       "          ...   \n",
       "97613      Ville\n",
       "97614      Ville\n",
       "97615      Ville\n",
       "97616      Ville\n",
       "97617      Ville\n",
       "Name: Population, Length: 36742, dtype: category\n",
       "Categories (2, object): ['Village' < 'Ville']"
      ]
     },
     "execution_count": 92,
     "metadata": {},
     "output_type": "execute_result"
    }
   ],
   "source": [
    "# une ville comporte plus de 2000 habitants\n",
    "var = pd.cut(geo[\"Population\"], [0.0, 2.0, np.inf], labels=[\"Village\", \"Ville\"])\n",
    "var"
   ]
  },
  {
   "cell_type": "code",
   "execution_count": 93,
   "metadata": {
    "scrolled": false
   },
   "outputs": [
    {
     "data": {
      "text/plain": [
       "Village    30819\n",
       "Ville       5008\n",
       "Name: Population, dtype: int64"
      ]
     },
     "execution_count": 93,
     "metadata": {},
     "output_type": "execute_result"
    }
   ],
   "source": [
    "# décompte des villages et des villes de France\n",
    "var.value_counts()"
   ]
  },
  {
   "cell_type": "markdown",
   "metadata": {},
   "source": [
    "La fonction `qcut()` cherche à discrétiser les valeurs en quantiles identiques."
   ]
  },
  {
   "cell_type": "code",
   "execution_count": 94,
   "metadata": {
    "scrolled": false
   },
   "outputs": [
    {
     "data": {
      "text/plain": [
       "Code INSEE\n",
       "01001       MaVille\n",
       "01002    MonVillage\n",
       "01004       MaVille\n",
       "01005       MaVille\n",
       "01006    MonVillage\n",
       "            ...    \n",
       "97613       MaVille\n",
       "97614       MaVille\n",
       "97615       MaVille\n",
       "97616       MaVille\n",
       "97617       MaVille\n",
       "Name: Population, Length: 36742, dtype: category\n",
       "Categories (2, object): ['MonVillage' < 'MaVille']"
      ]
     },
     "execution_count": 94,
     "metadata": {},
     "output_type": "execute_result"
    }
   ],
   "source": [
    "# On sépare en 2 catégories identiques\n",
    "var = pd.qcut(geo[\"Population\"], 2, labels=[\"MonVillage\", \"MaVille\"])\n",
    "var"
   ]
  },
  {
   "cell_type": "code",
   "execution_count": 95,
   "metadata": {
    "scrolled": false
   },
   "outputs": [
    {
     "data": {
      "text/plain": [
       "MonVillage    18953\n",
       "MaVille       17789\n",
       "Name: Population, dtype: int64"
      ]
     },
     "execution_count": 95,
     "metadata": {},
     "output_type": "execute_result"
    }
   ],
   "source": [
    "# décompte des villages et des villes de France\n",
    "var.value_counts()"
   ]
  },
  {
   "cell_type": "code",
   "execution_count": 96,
   "metadata": {
    "scrolled": false
   },
   "outputs": [
    {
     "data": {
      "text/plain": [
       "0.4"
      ]
     },
     "execution_count": 96,
     "metadata": {},
     "output_type": "execute_result"
    }
   ],
   "source": [
    "# seuil de la population pour MonVillage\n",
    "geo.loc[var == \"MonVillage\", \"Population\"].max()"
   ]
  },
  {
   "cell_type": "code",
   "execution_count": 98,
   "metadata": {
    "scrolled": false
   },
   "outputs": [
    {
     "data": {
      "text/plain": [
       "0.5"
      ]
     },
     "execution_count": 98,
     "metadata": {},
     "output_type": "execute_result"
    }
   ],
   "source": [
    "# seuil de la population pour MonVillage\n",
    "geo.loc[var == \"MaVille\", \"Population\"].min()"
   ]
  },
  {
   "cell_type": "code",
   "execution_count": 97,
   "metadata": {
    "scrolled": false
   },
   "outputs": [
    {
     "data": {
      "text/plain": [
       "0.4"
      ]
     },
     "execution_count": 97,
     "metadata": {},
     "output_type": "execute_result"
    }
   ],
   "source": [
    "# on vérifie qu'il s'agit bien de la médiane\n",
    "geo[\"Population\"].median()"
   ]
  }
 ],
 "metadata": {
  "anaconda-cloud": {},
  "kernelspec": {
   "display_name": "Python 3",
   "language": "python",
   "name": "python3"
  },
  "language_info": {
   "codemirror_mode": {
    "name": "ipython",
    "version": 3
   },
   "file_extension": ".py",
   "mimetype": "text/x-python",
   "name": "python",
   "nbconvert_exporter": "python",
   "pygments_lexer": "ipython3",
   "version": "3.8.10"
  }
 },
 "nbformat": 4,
 "nbformat_minor": 1
}
