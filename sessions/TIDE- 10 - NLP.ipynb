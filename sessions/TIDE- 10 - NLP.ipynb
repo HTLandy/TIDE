{
 "cells": [
  {
   "cell_type": "markdown",
   "metadata": {},
   "source": [
    "# Master TIDE - Conférences Python 2021\n",
    "\n",
    "### Natural Language Processing\n",
    "\n",
    "Francis Wolinski\n",
    "\n",
    "&copy; 2021 Yotta Conseil"
   ]
  },
  {
   "cell_type": "code",
   "execution_count": 2,
   "metadata": {},
   "outputs": [],
   "source": [
    "# imports\n",
    "import re\n",
    "\n",
    "import numpy as np\n",
    "import pandas as pd\n",
    "import matplotlib.pyplot as plt\n",
    "import seaborn as sns\n",
    "%matplotlib inline\n",
    "\n",
    "#no warning\n",
    "import warnings\n",
    "warnings.simplefilter(\"ignore\")\n",
    "\n",
    "pd.set_option('display.max_rows', 30)\n",
    "pd.set_option('display.max_colwidth', 100)"
   ]
  },
  {
   "cell_type": "markdown",
   "metadata": {},
   "source": [
    "## 1. Rappel sur les chaînes de caractères\n",
    "\n",
    "En Python, les chaînes de caractères sont des instances de la classe `str`. Ce sont des collections ordonnées immuables de caractères."
   ]
  },
  {
   "cell_type": "code",
   "execution_count": 2,
   "metadata": {},
   "outputs": [
    {
     "data": {
      "text/plain": [
       "str"
      ]
     },
     "execution_count": 2,
     "metadata": {},
     "output_type": "execute_result"
    }
   ],
   "source": [
    "# exemple\n",
    "s = 'Un exemple de chaîne de caractères'\n",
    "type(s)"
   ]
  },
  {
   "cell_type": "markdown",
   "metadata": {},
   "source": [
    "Une chaîne de caractères doit être vue comme une collection d'octets (bytes) qui représente la chaîne en machine et d'un encodage qui exprime la manière dont les caractères sont codés.\n",
    "\n",
    "La méthode `encode()` permet d'encoder une chaîne en octets selon un encodage particulier, par défaut en `UTF-8`. On obtient un objet de type `bytes`.\n",
    "\n",
    "Python gère tout un ensemble d'encodages: `utf-8` (par défaut en Python 3), `ascii`, `latin-1` ou `ISO-8859-1`, `ISO-8859-15`, `cp1252`, etc."
   ]
  },
  {
   "cell_type": "code",
   "execution_count": 3,
   "metadata": {},
   "outputs": [
    {
     "data": {
      "text/plain": [
       "b'Un exemple de cha\\xc3\\xaene de caract\\xc3\\xa8res'"
      ]
     },
     "execution_count": 3,
     "metadata": {},
     "output_type": "execute_result"
    }
   ],
   "source": [
    "# encodage en UTF-8\n",
    "s.encode()"
   ]
  },
  {
   "cell_type": "code",
   "execution_count": 4,
   "metadata": {},
   "outputs": [
    {
     "data": {
      "text/plain": [
       "b'Un exemple de cha\\xeene de caract\\xe8res'"
      ]
     },
     "execution_count": 4,
     "metadata": {},
     "output_type": "execute_result"
    }
   ],
   "source": [
    "# encodage en latin-1 ou ISO-8859-1\n",
    "s.encode('latin-1')"
   ]
  },
  {
   "cell_type": "code",
   "execution_count": 5,
   "metadata": {},
   "outputs": [
    {
     "data": {
      "text/plain": [
       "'Un exemple de chaîne de caractères'"
      ]
     },
     "execution_count": 5,
     "metadata": {},
     "output_type": "execute_result"
    }
   ],
   "source": [
    "# decodage bytes --> str\n",
    "b'Un exemple de cha\\xeene de caract\\xe8res'.decode('latin-1')"
   ]
  },
  {
   "cell_type": "code",
   "execution_count": 6,
   "metadata": {},
   "outputs": [],
   "source": [
    "# exemple d'écriture de fichier en UTF-8\n",
    "with open('texte.txt', 'w', encoding='utf-8') as f:\n",
    "    f.write(s + '\\n' + s)"
   ]
  },
  {
   "cell_type": "code",
   "execution_count": 7,
   "metadata": {},
   "outputs": [
    {
     "data": {
      "text/plain": [
       "'Un exemple de chaîne de caractères\\nUn exemple de chaîne de caractères'"
      ]
     },
     "execution_count": 7,
     "metadata": {},
     "output_type": "execute_result"
    }
   ],
   "source": [
    "# exemple de lecture de fichier en UTF-8\n",
    "with open('texte.txt', encoding='utf-8') as f:\n",
    "    texte = f.read()\n",
    "texte"
   ]
  },
  {
   "cell_type": "code",
   "execution_count": 8,
   "metadata": {},
   "outputs": [
    {
     "data": {
      "text/plain": [
       "'Un exemple de chaÃ®ne de caractÃ¨res\\nUn exemple de chaÃ®ne de caractÃ¨res'"
      ]
     },
     "execution_count": 8,
     "metadata": {},
     "output_type": "execute_result"
    }
   ],
   "source": [
    "# exemple de lecture de fichier en latin-1\n",
    "with open('texte.txt', encoding='latin-1') as f:\n",
    "    texte = f.read()\n",
    "texte"
   ]
  },
  {
   "cell_type": "markdown",
   "metadata": {},
   "source": [
    "## 2. Traitement vectoriel avec `pandas`\n",
    "\n",
    "La librairie `pandas` permet d'effectuer un traitement vectoriel des textes en utilisant l'accesseur `str`.\n",
    "\n",
    "Il existe de nombreuses méthodes de la classe `str` reprises dans `pandas`. Par exemple :\n",
    "- `startswith()` : teste si une chaîne commence par une sous-chaîne\n",
    "- `endswith()` : teste si une chaîne se termine par une sous-chaîne\n",
    "- `contains()` : teste si une chaîne contient un motif (regex)\n",
    "- `extract()` : extrait un ou plusieurs motifs (regex)"
   ]
  },
  {
   "cell_type": "code",
   "execution_count": 3,
   "metadata": {},
   "outputs": [
    {
     "data": {
      "text/plain": [
       "0    Once again Mr. Costner has dragged out a movie for far longer than necessary. Aside from the ter...\n",
       "1    This is an example of why the majority of action films are the same. Generic and boring, there's...\n",
       "2    First of all I hate those moronic rappers, who could'nt act if they had a gun pressed against th...\n",
       "3    Not even the Beatles could write songs everyone liked, and although Walter Hill is no mop-top he...\n",
       "4    Brass pictures (movies is not a fitting word for them) really are somewhat brassy. Their allurin...\n",
       "Name: review, dtype: object"
      ]
     },
     "execution_count": 3,
     "metadata": {},
     "output_type": "execute_result"
    }
   ],
   "source": [
    "# chargement d'un fichier texte dans une Series\n",
    "df = pd.read_csv('imdb_master.csv', usecols=['review'], encoding='latin-1')\n",
    "reviews = df['review']\n",
    "reviews.head()"
   ]
  },
  {
   "cell_type": "code",
   "execution_count": 10,
   "metadata": {},
   "outputs": [
    {
     "data": {
      "text/plain": [
       "(100000, 1)"
      ]
     },
     "execution_count": 10,
     "metadata": {},
     "output_type": "execute_result"
    }
   ],
   "source": [
    "df.shape"
   ]
  },
  {
   "cell_type": "code",
   "execution_count": 11,
   "metadata": {},
   "outputs": [
    {
     "data": {
      "image/png": "[encoded data removed]",
      "text/plain": [
       "<Figure size 432x288 with 1 Axes>"
      ]
     },
     "metadata": {
      "needs_background": "light"
     },
     "output_type": "display_data"
    }
   ],
   "source": [
    "df[\"review\"].str.len().plot.box();"
   ]
  },
  {
   "cell_type": "code",
   "execution_count": 12,
   "metadata": {},
   "outputs": [
    {
     "data": {
      "text/plain": [
       "review    Read the book, forget the movie!\n",
       "Name: 8999, dtype: object"
      ]
     },
     "execution_count": 12,
     "metadata": {},
     "output_type": "execute_result"
    }
   ],
   "source": [
    "df.loc[df[\"review\"].str.len().idxmin()]"
   ]
  },
  {
   "cell_type": "code",
   "execution_count": 14,
   "metadata": {},
   "outputs": [
    {
     "data": {
      "text/plain": [
       "1209     Very odd, this seems like a very average movie to me, if not slightly less. It is brilliantly sh...\n",
       "3171     Very dull show. Whats worse, its very racist. The white guys are dumb idiots and the only romanc...\n",
       "3229     Very slow, dull, enigmatic film. MAybe the kind of film Jean-Luc Godard would have made had he b...\n",
       "3269     Very resistible but ultimately harmless film version of the children's literary classic which in...\n",
       "4060     Very curious that Nichols and Hanks would team up for this, obviously they believe it. Strange b...\n",
       "                                                        ...                                                 \n",
       "97802    Very intriguing, kept me on the edge of my seat, the plot was different, it is worth watching. A...\n",
       "97819    Very touching warm film about two elderly men supporting each other both mentally and physically...\n",
       "98017    Very disappointing! I saw this documentary at a screening event and I actually walked out of the...\n",
       "99595    Very enjoyable. This is a very good Western. This movie is a must see for fans of the genre or o...\n",
       "99893    Very disappointing foray into slasher movie territory which misses one central pre-requisite for...\n",
       "Name: review, Length: 177, dtype: object"
      ]
     },
     "execution_count": 14,
     "metadata": {},
     "output_type": "execute_result"
    }
   ],
   "source": [
    "# sélection\n",
    "reviews.loc[reviews.str.startswith('Very ')]"
   ]
  },
  {
   "cell_type": "code",
   "execution_count": 15,
   "metadata": {},
   "outputs": [
    {
     "data": {
      "text/plain": [
       "173      oh well... its funny. should have been a sadistic comedy, a lot of horror movies lack common sen...\n",
       "327      The film's executive producer is none other than that messenger of peace thru transcendental med...\n",
       "817      I think this movie lacks so much of substance, it is even not worth a discussion.<br /><br />In ...\n",
       "874      All through his career Hitchcock did great films; this was not one of them.<br /><br />A man kno...\n",
       "875      I'll have to admit that I'm at a disadvantage here; when I learn more about a film from other re...\n",
       "                                                        ...                                                 \n",
       "99692    I'm stunned. I just finished watching this movie, and can't believe 1) how incredible it was; 2)...\n",
       "99791    \"Loose Change\" is a thought-provoking little documentary that draws attention to and questions t...\n",
       "99861    I thoroughly enjoyed this movie the first time I saw it ten years ago. The film reminded me of s...\n",
       "99883    LIGHTHOUSE <br /><br />(USA: Dead of Night) <br /><br />Aspect ratio: 1.85:1<br /><br />Sound fo...\n",
       "99891    The tension in \"Lighthouse\" is pretty unbearable. In fact, you don't even have to like or care f...\n",
       "Name: review, Length: 848, dtype: object"
      ]
     },
     "execution_count": 15,
     "metadata": {},
     "output_type": "execute_result"
    }
   ],
   "source": [
    "# sélection\n",
    "reviews.loc[reviews.str.contains('Hitchcock')]"
   ]
  },
  {
   "cell_type": "code",
   "execution_count": 16,
   "metadata": {},
   "outputs": [
    {
     "data": {
      "text/plain": [
       "173      oh well... its funny. should have been a sadistic comedy, a lot of horror movies lack common sen...\n",
       "327      The film's executive producer is none other than that messenger of peace thru transcendental med...\n",
       "817      I think this movie lacks so much of substance, it is even not worth a discussion.<br /><br />In ...\n",
       "874      All through his career Hitchcock did great films; this was not one of them.<br /><br />A man kno...\n",
       "875      I'll have to admit that I'm at a disadvantage here; when I learn more about a film from other re...\n",
       "                                                        ...                                                 \n",
       "99692    I'm stunned. I just finished watching this movie, and can't believe 1) how incredible it was; 2)...\n",
       "99791    \"Loose Change\" is a thought-provoking little documentary that draws attention to and questions t...\n",
       "99861    I thoroughly enjoyed this movie the first time I saw it ten years ago. The film reminded me of s...\n",
       "99883    LIGHTHOUSE <br /><br />(USA: Dead of Night) <br /><br />Aspect ratio: 1.85:1<br /><br />Sound fo...\n",
       "99891    The tension in \"Lighthouse\" is pretty unbearable. In fact, you don't even have to like or care f...\n",
       "Name: review, Length: 857, dtype: object"
      ]
     },
     "execution_count": 16,
     "metadata": {},
     "output_type": "execute_result"
    }
   ],
   "source": [
    "# sélection\n",
    "reviews.loc[reviews.str.contains('Hitchcock', flags=re.I)]"
   ]
  },
  {
   "cell_type": "code",
   "execution_count": 17,
   "metadata": {},
   "outputs": [
    {
     "data": {
      "text/plain": [
       "173        expect\n",
       "327        Alfred\n",
       "817            of\n",
       "874        career\n",
       "875        Alfred\n",
       "           ...   \n",
       "99617          as\n",
       "99692           a\n",
       "99861    favorite\n",
       "99883          of\n",
       "99891     exactly\n",
       "Name: review, Length: 788, dtype: object"
      ]
     },
     "execution_count": 17,
     "metadata": {},
     "output_type": "execute_result"
    }
   ],
   "source": [
    "# extract\n",
    "tab = reviews.str.extract(r'(\\w+) Hitchcock', expand=False)\n",
    "var = tab.dropna()\n",
    "var"
   ]
  },
  {
   "cell_type": "code",
   "execution_count": 19,
   "metadata": {},
   "outputs": [
    {
     "data": {
      "text/plain": [
       "Alfred     215\n",
       "of          86\n",
       "a           37\n",
       "to          28\n",
       "the         25\n",
       "from        18\n",
       "by          18\n",
       "like        15\n",
       "in          14\n",
       "and         14\n",
       "as          14\n",
       "with        11\n",
       "that         9\n",
       "on           6\n",
       "for          5\n",
       "Michael      5\n",
       "some         5\n",
       "no           4\n",
       "best         4\n",
       "or           4\n",
       "Name: review, dtype: int64"
      ]
     },
     "execution_count": 19,
     "metadata": {},
     "output_type": "execute_result"
    }
   ],
   "source": [
    "# mots précèdent Hitchcock\n",
    "var.value_counts().head(20)"
   ]
  },
  {
   "cell_type": "code",
   "execution_count": 20,
   "metadata": {},
   "outputs": [],
   "source": [
    "# alignement de textes\n",
    "def search(word):\n",
    "    selection = reviews[reviews.str.contains(word)]\n",
    "    result = selection.apply(lambda s: (' '*25 + s + ' '*25)[s.find(word):s.find(word) + 50 + len(word)])    \n",
    "    return result"
   ]
  },
  {
   "cell_type": "code",
   "execution_count": 22,
   "metadata": {},
   "outputs": [
    {
     "data": {
      "text/plain": [
       "170      uble feature DVD called \"Scream Theater\" and it's no dou\n",
       "1171     e thing: his blood. \"The Screaming\" was shot very cheapl\n",
       "1181      must have at least seen Scream (where they draw your at\n",
       "1262     m. Taking the Tagline of Scream 2 too far.<br /><br />SP\n",
       "1296     py hollywood movies like Scream and I Know What You Did \n",
       "                                   ...                           \n",
       "96483    e have choice other than Scream, the Blair Witch Project\n",
       "98886    remise (remind anyone of Scream 2?), doesn't try to pret\n",
       "99024    One of these flicks was \"Screamtime.\" As stated, this fi\n",
       "99826    uel will sit <br /><br />Screamers the Hunt is out soon \n",
       "99901    y're now too restrained. Scream made it okay to be cleve\n",
       "Name: review, Length: 412, dtype: object"
      ]
     },
     "execution_count": 22,
     "metadata": {},
     "output_type": "execute_result"
    }
   ],
   "source": [
    "search('Scream')"
   ]
  },
  {
   "cell_type": "code",
   "execution_count": 23,
   "metadata": {},
   "outputs": [
    {
     "data": {
      "text/plain": [
       "2        her and acting like clichÃ©'e version of gangsters.\n",
       "12       rs an astonishingly clichÃ©d sentimental sexual fan\n",
       "24       killer stalking the clichÃ© teenagers in the woods.\n",
       "27        and where a rip-off of BÃ©la BartÃ³k's \"Music for \n",
       "74       uel for me), namely the dÃ©cor of the rebellious go\n",
       "                                ...                         \n",
       "99875    uld chalk it up to naivetÃ©. Unfortunately, it got \n",
       "99886    a, his Uncle Mike's fiancÃ©e, being Jewish as well \n",
       "99903     fairly high. Every clichÃ© you can name features h\n",
       "99918    t to the new cinema-veritÃ© look (a chase through t\n",
       "99938    g a hero, especially a naÃ¯ve goody-two-shoes one, \n",
       "Name: review, Length: 6270, dtype: object"
      ]
     },
     "execution_count": 23,
     "metadata": {},
     "output_type": "execute_result"
    }
   ],
   "source": [
    "search('Ã')"
   ]
  },
  {
   "cell_type": "code",
   "execution_count": 24,
   "metadata": {},
   "outputs": [
    {
     "data": {
      "text/plain": [
       "1        t somewhat gratifying...<br /><br />Overall, this is\n",
       "2        'e version of gangsters.<br /><br />The movie doesn'\n",
       "4        hem) really are somewhat brassy. Their alluring visu\n",
       "6        he weirdest I have seen.<br /><br />I was not aware \n",
       "7        a good thing in my book.<br /><br />Fans of \"Beat\" T\n",
       "                                 ...                         \n",
       "99990    Will anyone really care?<br /><br />The answer to th\n",
       "99991    ...except not very good.<br /><br />The use of time \n",
       "99993     big-budget aspirations.<br /><br />The plot itself \n",
       "99995     at a very early effort.<br /><br />Most filmmakers \n",
       "99997    vie\", now we are warn...<br /><br />But they are wro\n",
       "Name: review, Length: 69974, dtype: object"
      ]
     },
     "execution_count": 24,
     "metadata": {},
     "output_type": "execute_result"
    }
   ],
   "source": [
    "search('br')"
   ]
  },
  {
   "cell_type": "code",
   "execution_count": 25,
   "metadata": {},
   "outputs": [],
   "source": [
    "# cleaning\n",
    "\n",
    "# replace character encoding mistakes\n",
    "reviews = reviews.apply(lambda x: x.replace('Ã¡', 'á'))\n",
    "reviews = reviews.apply(lambda x: x.replace('Ã ', 'à'))\n",
    "reviews = reviews.apply(lambda x: x.replace('Ã ', 'à'))\n",
    "reviews = reviews.apply(lambda x: x.replace('Ã¢', 'â'))\n",
    "reviews = reviews.apply(lambda x: x.replace('Ã\\xa0', 'à'))\n",
    "reviews = reviews.apply(lambda x: x.replace('Ã¥', 'å'))\n",
    "reviews = reviews.apply(lambda x: x.replace('Ã£', 'ã'))\n",
    "reviews = reviews.apply(lambda x: x.replace('Ã»', 'â'))\n",
    "reviews = reviews.apply(lambda x: x.replace('Ã§', 'ç'))\n",
    "reviews = reviews.apply(lambda x: x.replace('Ã©', 'é'))\n",
    "reviews = reviews.apply(lambda x: x.replace('Ã¨', 'è'))\n",
    "reviews = reviews.apply(lambda x: x.replace('Ã«', 'ë'))\n",
    "reviews = reviews.apply(lambda x: x.replace('Ãª', 'ê'))\n",
    "reviews = reviews.apply(lambda x: x.replace('Ã¯', 'ï'))\n",
    "reviews = reviews.apply(lambda x: x.replace('Ã®', 'î'))\n",
    "reviews = reviews.apply(lambda x: x.replace('Ã¬', 'ì'))\n",
    "reviews = reviews.apply(lambda x: x.replace('Ã\\xad', 'í'))\n",
    "reviews = reviews.apply(lambda x: x.replace('Ã±', 'ñ'))\n",
    "reviews = reviews.apply(lambda x: x.replace('Ã³', 'ó'))\n",
    "reviews = reviews.apply(lambda x: x.replace('Ã²', 'ò'))\n",
    "reviews = reviews.apply(lambda x: x.replace('Ã¶', 'ö'))\n",
    "reviews = reviews.apply(lambda x: x.replace('Ã´', 'ô'))\n",
    "reviews = reviews.apply(lambda x: x.replace('Ãµ', 'õ'))\n",
    "reviews = reviews.apply(lambda x: x.replace('Ã°', 'ð'))\n",
    "reviews = reviews.apply(lambda x: x.replace('Ã¸', 'ø'))\n",
    "reviews = reviews.apply(lambda x: x.replace('Ãº', 'ú'))\n",
    "reviews = reviews.apply(lambda x: x.replace('Ã¹', 'ù'))\n",
    "reviews = reviews.apply(lambda x: x.replace('Ã¼', 'ü'))\n",
    "reviews = reviews.apply(lambda x: x.replace('Ã½', 'ý'))\n",
    "reviews = reviews.apply(lambda x: x.replace('Ã¿', 'ÿ'))\n",
    "reviews = reviews.apply(lambda x: x.replace('Ã?', 'Æ'))\n",
    "reviews = reviews.apply(lambda x: x.replace('Ã¦', 'æ'))\n",
    "# br\n",
    "reviews = reviews.apply(lambda x: x.replace('<br />', ' '))"
   ]
  },
  {
   "cell_type": "code",
   "execution_count": 26,
   "metadata": {},
   "outputs": [
    {
     "data": {
      "text/plain": [
       "1486      that actors as dietmar bÃ¤r or charly hübner waste\n",
       "3327     they watched some KaurismÃ¤ki, too, to find out wha\n",
       "3328     go for any of the KaurismÃ¤ki brothers' movie, who \n",
       "8127     d on May 7, 1824 in the KÃ¤rntnertortheater in Vien\n",
       "11518    , Mies vailla menneisyyttÃ¤ (2002)                 \n",
       "                                ...                         \n",
       "89797    loying a bunch of kindergÃ¤rtners to do their scree\n",
       "93462    Fares' movies and Vuxna MÃ¤nniskor) that I saw from\n",
       "94067    ionery\" (in Romanian: \"stÃ¤tÃ¤tor\", as he said). \"I\n",
       "94708          I've just \"Der EisbÃ¤r\" and do not quite unde\n",
       "94713     a second or a third EisbÃ¤r Movie...              \n",
       "Name: review, Length: 93, dtype: object"
      ]
     },
     "execution_count": 26,
     "metadata": {},
     "output_type": "execute_result"
    }
   ],
   "source": [
    "search('Ã')"
   ]
  },
  {
   "cell_type": "code",
   "execution_count": 27,
   "metadata": {},
   "outputs": [],
   "source": [
    "# regex\n",
    "import re"
   ]
  },
  {
   "cell_type": "code",
   "execution_count": 29,
   "metadata": {},
   "outputs": [
    {
     "data": {
      "text/plain": [
       "'***SPOILERS*** ***SPOILERS*** The first Godzilla movie in the third movie series, whereas GODZILLA VS. DESTOROYAH, the previous entry, aptly ended the second series. What else can I say? Well, let\\'s break it down.  I once liked the 2nd series of Godzilla movies (1984-1995), even though I found something annoying about those movies (as either the bad or good guy, Godzilla was so sympathetic that the human characters came off as obnoxious). Then, in 1995, along came a movie called GAMERA: GUARDIAN OF THE UNIVERSE and its two successful sequels, all directed by master filmmaker Shuusuke Kaneko, who singlehandedly changed the face of Japanese monster movies forever. I was spoiled!!! The Series 2 Godzilla movies were suddenly looked down as half-hearted, heavy-handed, auto-piloted and lazy attempts at recreating the \"original\" Godzilla, and end up being an insult to the memory of genre masters Ishirou Honda and Eiji Tsuburaya. GAMERA 3: THE AWAKENING OF IRIS, released the same year as this film, was simply incredible. Once Hollywood moviegoers saw that movie, they would never look at Japanese monster movies the same way again.  Then, along came Tri-Star\\'s 1998 GINO (Godzilla In Name Only), which was understandably met with bitter hatred by true Godzilla fans the world over. The worst portrayal of Godzilla seen by the human eye, making Marvel\\'s 70s comics and Hanna-Barbera\\'s cartoon look better. Then, MOTHRA 3, released later that year, bombed at the box office. Toho was in deep crap. They felt as though Godzilla was about to lose his fans, because of this red-blooded American box-office disaster, so to make up for it, they made this movie, GOJIRA NI-SEN MIRENIAMU (Godzilla 2000: Millennium), which was a \"take that\" to GINO. This movie is definitely better than GINO, which isn\\'t saying much.  Is it the BEST Godzilla movie? Nope, not by a long shot. In fact, it quickly bombed at the box office in Japan (starting out at 4th place, and sinking to 8th in the second week!). A lot of Godzilla fans in Japan didn\\'t like the movie. Is it entertaining? Not if you\\'re spoiled by the Heisei Gamera trilogy, but if you don\\'t take the movie too seriously, yes, it is very entertaining. In fact, I hadn\\'t been entertained like this since TERROR OF MECHAGODZILLA (Toho; 1975), and despite the movie\\'s MAJOR flaws, GODZILLA 2000: MILLENNIUM is still very entertaining.  First of all, Godzilla has never looked better! His design has been in a rut since 1989, where his design was great, but once they stuck to it, he began to look slapped-together in each new film, but finally, a NEW Godzilla design! As Riverdancer Michael Flatley once said, \"It\\'s important to change, because if you stagnate, you die.\" I think this is a very good change, and one that stays true to Godzilla\\'s spirit. Godzilla\\'s design is a streamlined version of the Kin-Goji design from KING KONG VS. GODZILLA, with jagged DARK CRYSTAL-style dorsal fins that give him an evil look. I was neither bothered by the orange-colored Radioactive Heat Beam (most fans are used to blue), nor Godzilla\\'s green tone (this is the first time Toho made Godzilla officially green, whereas he had an ambiguous green-gray tone). I was very happy with this Godzilla. For the first time, Godzilla was played by former JAC stuntman Tsutomu Kitagawa (a veteran of Toei\\'s Sentai Series), who just started out in the Toho Monster genre (he played King Ghidorah in MOTHRA 3).  The UFO and the Millennian Alien/Orga were excellent and unique ideas (which the previous movie series wouldn\\'t have allowed, for fear of being \"over the top,\" but this was the cleverest portrayal of aliens in a Godzilla film), but half the time, they are poorly handled on film. That brings us to the story part. The Millennian, Toho\\'s first CGI monster, is a really bizarre creation, and Orga reminds me of GINO (the intention) as if over-mutated by comic-book artist Todd McFarlane! Definitely not your average Japanese monster!  The story has great ideas, and a more \"realistic\" feel than the previous Godzilla movies since the 90s. However, the main problem is that things were not spelled out for the viewer (mostly because production was rushed in the second half). As a result, lot of people did not know what was going on. After reading about the plot/story and having purchased both the Official Movie Compendium (which has TONS of useful info that Americans don\\'t know about the film) and the manga adaptation by Mondo Takimura (which is a MUCH better version of the film than the film itself!), I\\'ve seen critics/reviewers make up their own conclusion. Read the plot below so I\\'ll help out.  Throughout the film, there are parodies of both GINO and INDEPENDENCE DAY (one scene had a taxi driver in Shinjuku getting out of his taxi, staring dumbfounded at the UFO while his car gets smashed by another! Part of this was cut out in the US version; It shouldn\\'t have been)!  As of 1999, the special effects are probably the best in any Toho Godzilla film since Teruyoshi Nakano\\'s breathtaking work in the 1984 GODZILLA. Kenji Suzuki\\'s FX are a vast improvement over Kouichi Kawakita\\'s work in the films from 1989-1995. This is his second FX direction job (his first was MOTHRA 3). Definitely not up to Shinji Higuchi\\'s work in the Heisei Gamera trilogy (which Toho had been trying to keep up with), but definitely not too shabby for a Toho Godzilla film! The downside is that some of the FX looked rushed (especially in the climactic fight scene between Godzilla and Orga; Toho was definitely behind schedule).  As for the human characters, after 1975 (and probably 1984), we FINALLY get characters from all walks of life! Thus, they may not be the BEST characters, but very amusing ones (and thankfully, not too many of them, whereas previous Godzilla movies had byzantine amounts of important characters you didn\\'t care for). Takehiro Murata, no stranger to Godzilla films (he appeared in 1992\\'s GODZILLA VS. MOTHRA and 1995\\'s GODZILLA VS. DESTOROYAH), takes his first lead Godzilla film role as Yuuji Shinoda, who runs GPN (Godzilla Prediction Network) with his little daughter Io (Mayu Suzuki), and wants to study Godzilla to discover the secrets to life. Actress Naomi Nishida very well plays the part of O-Parts magazine photographer Yuuki Ichinose, who joins GPN to get pictures of Godzilla for the magazine. TV & movie heartthrob Hiroshi Abe totally steals the show as the ruthless Mitsuo Katagiri, who runs CCI (Crisis Control Intelligence Agency), the faction that wants Godzilla destroyed, period. Godzilla\\'s rooftop confrontation with Abe at the film\\'s end is a shining moment! And there\\'s actor and longtime Godzilla fan Shirou Sano as Shirou Miyasaka, Shinoda\\'s old college buddy/CCI executive, who provides a conflict between the two factions.  The music by Takayuki Hattori is an improvement over his own score for GODZILLA VS. SPACE GODZILLA, but in the film, it was done absolutely no justice. When one listens to the CD soundtrack, one finds that some of the best tracks aren\\'t even used in the film, thus Toho\\'s music editors do the same slapdash job of cutting & pasting tracks all over the place, but some of the important tracks are left in the right place. And as much as it livens the film, Toho\\'s throwing in a token stock track of Akira Ifukube\\'s \"Godzilla Theme\" (just to tell us that this is a Godzilla film) does detract from the film. It seems the fogeys over at Toho have a problem with simply doing new arrangements of Ifukube\\'s music (cost-effective, maybe?).  Then, there\\'s Takao Ookawara directing his last Godzilla film before quitting the series. Ookawara doesn\\'t care much for Godzilla, though his work is actually okay. He\\'s better than Kazuki Oomori (not only the worst Godzilla director, in my opinion, but he is completely embarrassed with monsters and stuff), though.  And last, but not least, Tri-Star\\'s US English-language version. Well, I\\'ve seen the Japanese version on tape, and when comparing it with the US version, the Japanese version actually makes more sense. Some of the US editing patronizes the original material by cutting out some important scenes and changing parts of the dialogue for PC reasons (like changing \"Organizer G1\" to \"Regenerator G1,\" and editing out all references to \"Millennium\"). However, the US version makes up for it with tighter pacing and some really fun dialogue, not to mention one bit of profanity (\"Nice try, a**hole!\")! About time Godzilla movies started growing up! The US music by J. Peter Robinson is okay, but really cheesy most of the time (noticably, much of the score was recycled from the 1998 TV movie, GARGANTUA, which was made by Fox to one-up GINO). Hattori\\'s original score is about 50-75% intact, though. Robinson actually rearranges Ifukube music with two tracks, the best in the scene where Orga makes his appearance, the worst being the scene in the end (after which, said token stock Ifukube track is repeated before cuing the complete original ending credits track). Speaking of which, the worst part of the Americanization was the tacky \"THE ? END\" title card at the end of the theatrical version of the film (blessedly removed for TV/Video/DVD versions). I was really embarrassed.  Speaking of embarrassing, a lot of people in the US seem to have lost sleep over the closing dialogue, the last part of which is a direct translation in the US version: \"Godzilla is . . . inside all of us!\" And yes, Japanese fans were pretty embarrassed with that scene! I didn\\'t mind it, though. The US version is still fun to sit through, and still manages to have respect for the original film. I did hear, though, that the US version was put together at the last minute (to meet a tight deadline), which explains a lot.  Before I close this review, well, everyone pretty much knows the plot, but here\\'s my version anyway: It\\'s basically Godzilla crossed with QUATERMASS AND THE PIT. This movie is a direct follow-up to the original 1954 GODZILLA, but HOW Godzilla came back is unexplained (a MAJOR weakness for the film). For what it\\'s worth, GPN (Godzilla Prediction Network) led by Yuuji Shinoda and his daughter Io, try to predict Godzilla\\'s city attacks so that he can evacuate precious lives in advance. In foggy Nemuro, Godzilla crunches a fishing ship with his powerful jaws in front of a lighthouse, smashes a bar, attacks a city and for some reason, destroys a power station (all this being among the best highlights of the film). According to Shinoda (in the Japanese version), \"Does Godzilla hate the energy that mankind produces?\" Meanwhile, CCI (Crisis Control Intelligence Agency), led by Mitsuo Katagiri, discovers a HUGE rock fragment beneath the Japan Trench, and try to transport it, but the rock transports ITSELF by floating to the surface of the ocean! CCI member Shirou Miyasaka suggests that the rock might contain an alien life form, and to their surprise, it does some weird things like stand right side up over the ocean. At the same time, despite Shinoda\\'s warnings, Katagiri, CCI and the Japan Self Defense Forces prepare to attack Godzilla in Tokaimura (where, at the same time of filming, a nuclear accident happened in real life) with a new set of super-missiles called Full Metal Missiles (Yes, they\\'re called that in the Japanese version! No doubt a tribute to Stanley Kubrick\\'s FULL METAL JACKET). The weird thing is that when Godzilla appears, he does absolutely nothing! He just lets the JSDF hit him with everything but the kitchen sink, to no good effect, although the Full Metal Missiles did kinda\\' do a number on him. Just then, Miyasaka finds that the giant rock follows the sun, so it starts to fly away and heads toward Godzilla, the two titans shoot rays at each other, and in the process, Godzilla is defeated, and the rock is revealed to be a huge, solar-powered metallic UFO! It flies to Shinjuku, where it lands on a network building (same building as O-Parts Magazine!), and starts draining info from the Internet so that it can find out more about Godzilla (it discovered that Godzilla has quick-regeneration process; Upon further study with Miyasaka, Shinoda calls it Organizer G1). It also starts transmitting message words such as \"Millennium,\" \"Kingdom,\" etc. Come evening, Katagiri even suggested blowing up the building with the UFO still on it (where a crazy mix-up gets Shinoda into DIE HARD-style hijinks), but guess what? The UFO stands triumphant and destroys the rest of the building! Shinoda emerges a survivor, and shows everyone why the UFO wants Godzilla: The Millennium Aliens (Millennians) want to start an empire on Earth by converting our planet\\'s air to make it more suitable for them. When they crashed on Earth in prehistoric times, they lost their solid composure and were reduced to anti-matter in the process. They need Godzilla\\'s cells to regenerate their bodies. Then, Godzilla shows up from Tokyo Bay, and has a fight with the UFO, which overpowers him (telepathically using underground cables to lasso him) and clones Organizer G1 from his body, thus, the Millennians emerge from the UFO, regenerating into their original form, a single giant squidlike alien! But unfortunately, Godzilla\\'s DNA overtook the alien\\'s shape and causes a painful Hulk-like transformation, thus Orga (named from \"Organizer G1\" - Get it?) was the tragic result. After Godzilla trashes the UFO, Orga proceeds to beat him silly (also telepathically controlling what\\'s left of the UFO to bash him around with it!). Can Godzilla destroy a giant alien mutant with many times his own healing speed?  Whew! That was a lengthy review! Well, I still think that the next Godzilla movie, GODZILLA X MEGAGUIRUS: THE G ANNIHILATION STRATEGY, is even better, and that it was the type of movie Toho should\\'ve made (and the movie that should\\'ve been shown in US theaters)! Nevertheless, enjoy GODZILLA 2000: MILLENNIUM, either in its more straightforward Japanese version and/or the campy-but-fun US version! A VERY flawed, yet entertaining step back in the right direction.  \"GOJIRAAAAAAAAAAAAAAAAAAAAAAAAAAAAAAAAAAAAAAAAAAAAAA!!!!!!!!!!\"'"
      ]
     },
     "execution_count": 29,
     "metadata": {},
     "output_type": "execute_result"
    }
   ],
   "source": [
    "big_review = reviews.loc[reviews.str.len().idxmax()]\n",
    "big_review"
   ]
  },
  {
   "cell_type": "code",
   "execution_count": 29,
   "metadata": {},
   "outputs": [
    {
     "data": {
      "text/plain": [
       "'***SPOILERS*** ***SPOILERS*** The first Godzilla movie in the third movie series, whereas GODZILLA VS. DESTOROYAH, the previous entry, aptly ended the second series. What else can I say? Well, let\\'s break it down.  I once liked the 2nd series of Godzilla movies (1984-1995), even though I found something annoying about those movies (as either the bad or good guy, Godzilla was so sympathetic that the human characters came off as obnoxious). Then, in 1995, along came a movie called GAMERA: GUARDIAN OF THE UNIVERSE and its two successful sequels, all directed by master filmmaker Shuusuke Kaneko, who singlehandedly changed the face of Japanese monster movies forever. I was spoiled!!! The Series 2 Godzilla movies were suddenly looked down as half-hearted, heavy-handed, auto-piloted and lazy attempts at recreating the \"original\" Godzilla, and end up being an insult to the memory of genre masters Ishirou Honda and Eiji Tsuburaya. GAMERA 3: THE AWAKENING OF IRIS, released the same year as this film, was simply incredible. Once Hollywood moviegoers saw that movie, they would never look at Japanese monster movies the same way again.  Then, along came Tri-Star\\'s 1998 GINO (Godzilla In Name Only), which was understandably met with bitter hatred by true Godzilla fans the world over. The worst portrayal of Godzilla seen by the human eye, making Marvel\\'s 70s comics and Hanna-Barbera\\'s cartoon look better. Then, MOTHRA 3, released later that year, bombed at the box office. Toho was in deep crap. They felt as though Godzilla was about to lose his fans, because of this red-blooded American box-office disaster, so to make up for it, they made this movie, GOJIRA NI-SEN MIRENIAMU (Godzilla 2000: Millennium), which was a \"take that\" to GINO. This movie is definitely better than GINO, which isn\\'t saying much.  Is it the BEST Godzilla movie? Nope, not by a long shot. In fact, it quickly bombed at the box office in Japan (starting out at 4th place, and sinking to 8th in the second week!). A lot of Godzilla fans in Japan didn\\'t like the movie. Is it entertaining? Not if you\\'re spoiled by the Heisei Gamera trilogy, but if you don\\'t take the movie too seriously, yes, it is very entertaining. In fact, I hadn\\'t been entertained like this since TERROR OF MECHAGODZILLA (Toho; 1975), and despite the movie\\'s MAJOR flaws, GODZILLA 2000: MILLENNIUM is still very entertaining.  First of all, Godzilla has never looked better! His design has been in a rut since 1989, where his design was great, but once they stuck to it, he began to look slapped-together in each new film, but finally, a NEW Godzilla design! As Riverdancer Michael Flatley once said, \"It\\'s important to change, because if you stagnate, you die.\" I think this is a very good change, and one that stays true to Godzilla\\'s spirit. Godzilla\\'s design is a streamlined version of the Kin-Goji design from KING KONG VS. GODZILLA, with jagged DARK CRYSTAL-style dorsal fins that give him an evil look. I was neither bothered by the orange-colored Radioactive Heat Beam (most fans are used to blue), nor Godzilla\\'s green tone (this is the first time Toho made Godzilla officially green, whereas he had an ambiguous green-gray tone). I was very happy with this Godzilla. For the first time, Godzilla was played by former JAC stuntman Tsutomu Kitagawa (a veteran of Toei\\'s Sentai Series), who just started out in the Toho Monster genre (he played King Ghidorah in MOTHRA 3).  The UFO and the Millennian Alien/Orga were excellent and unique ideas (which the previous movie series wouldn\\'t have allowed, for fear of being \"over the top,\" but this was the cleverest portrayal of aliens in a Godzilla film), but half the time, they are poorly handled on film. That brings us to the story part. The Millennian, Toho\\'s first CGI monster, is a really bizarre creation, and Orga reminds me of GINO (the intention) as if over-mutated by comic-book artist Todd McFarlane! Definitely not your average Japanese monster!  The story has great ideas, and a more \"realistic\" feel than the previous Godzilla movies since the 90s. However, the main problem is that things were not spelled out for the viewer (mostly because production was rushed in the second half). As a result, lot of people did not know what was going on. After reading about the plot/story and having purchased both the Official Movie Compendium (which has TONS of useful info that Americans don\\'t know about the film) and the manga adaptation by Mondo Takimura (which is a MUCH better version of the film than the film itself!), I\\'ve seen critics/reviewers make up their own conclusion. Read the plot below so I\\'ll help out.  Throughout the film, there are parodies of both GINO and INDEPENDENCE DAY (one scene had a taxi driver in Shinjuku getting out of his taxi, staring dumbfounded at the UFO while his car gets smashed by another! Part of this was cut out in the US version; It shouldn\\'t have been)!  As of 1999, the special effects are probably the best in any Toho Godzilla film since Teruyoshi Nakano\\'s breathtaking work in the 1984 GODZILLA. Kenji Suzuki\\'s FX are a vast improvement over Kouichi Kawakita\\'s work in the films from 1989-1995. This is his second FX direction job (his first was MOTHRA 3). Definitely not up to Shinji Higuchi\\'s work in the Heisei Gamera trilogy (which Toho had been trying to keep up with), but definitely not too shabby for a Toho Godzilla film! The downside is that some of the FX looked rushed (especially in the climactic fight scene between Godzilla and Orga; Toho was definitely behind schedule).  As for the human characters, after 1975 (and probably 1984), we FINALLY get characters from all walks of life! Thus, they may not be the BEST characters, but very amusing ones (and thankfully, not too many of them, whereas previous Godzilla movies had byzantine amounts of important characters you didn\\'t care for). Takehiro Murata, no stranger to Godzilla films (he appeared in 1992\\'s GODZILLA VS. MOTHRA and 1995\\'s GODZILLA VS. DESTOROYAH), takes his first lead Godzilla film role as Yuuji Shinoda, who runs GPN (Godzilla Prediction Network) with his little daughter Io (Mayu Suzuki), and wants to study Godzilla to discover the secrets to life. Actress Naomi Nishida very well plays the part of O-Parts magazine photographer Yuuki Ichinose, who joins GPN to get pictures of Godzilla for the magazine. TV & movie heartthrob Hiroshi Abe totally steals the show as the ruthless Mitsuo Katagiri, who runs CCI (Crisis Control Intelligence Agency), the faction that wants Godzilla destroyed, period. Godzilla\\'s rooftop confrontation with Abe at the film\\'s end is a shining moment! And there\\'s actor and longtime Godzilla fan Shirou Sano as Shirou Miyasaka, Shinoda\\'s old college buddy/CCI executive, who provides a conflict between the two factions.  The music by Takayuki Hattori is an improvement over his own score for GODZILLA VS. SPACE GODZILLA, but in the film, it was done absolutely no justice. When one listens to the CD soundtrack, one finds that some of the best tracks aren\\'t even used in the film, thus Toho\\'s music editors do the same slapdash job of cutting & pasting tracks all over the place, but some of the important tracks are left in the right place. And as much as it livens the film, Toho\\'s throwing in a token stock track of Akira Ifukube\\'s \"Godzilla Theme\" (just to tell us that this is a Godzilla film) does detract from the film. It seems the fogeys over at Toho have a problem with simply doing new arrangements of Ifukube\\'s music (cost-effective, maybe?).  Then, there\\'s Takao Ookawara directing his last Godzilla film before quitting the series. Ookawara doesn\\'t care much for Godzilla, though his work is actually okay. He\\'s better than Kazuki Oomori (not only the worst Godzilla director, in my opinion, but he is completely embarrassed with monsters and stuff), though.  And last, but not least, Tri-Star\\'s US English-language version. Well, I\\'ve seen the Japanese version on tape, and when comparing it with the US version, the Japanese version actually makes more sense. Some of the US editing patronizes the original material by cutting out some important scenes and changing parts of the dialogue for PC reasons (like changing \"Organizer G1\" to \"Regenerator G1,\" and editing out all references to \"Millennium\"). However, the US version makes up for it with tighter pacing and some really fun dialogue, not to mention one bit of profanity (\"Nice try, a**hole!\")! About time Godzilla movies started growing up! The US music by J. Peter Robinson is okay, but really cheesy most of the time (noticably, much of the score was recycled from the 1998 TV movie, GARGANTUA, which was made by Fox to one-up GINO). Hattori\\'s original score is about 50-75% intact, though. Robinson actually rearranges Ifukube music with two tracks, the best in the scene where Orga makes his appearance, the worst being the scene in the end (after which, said token stock Ifukube track is repeated before cuing the complete original ending credits track). Speaking of which, the worst part of the Americanization was the tacky \"THE ? END\" title card at the end of the theatrical version of the film (blessedly removed for TV/Video/DVD versions). I was really embarrassed.  Speaking of embarrassing, a lot of people in the US seem to have lost sleep over the closing dialogue, the last part of which is a direct translation in the US version: \"Godzilla is . . . inside all of us!\" And yes, Japanese fans were pretty embarrassed with that scene! I didn\\'t mind it, though. The US version is still fun to sit through, and still manages to have respect for the original film. I did hear, though, that the US version was put together at the last minute (to meet a tight deadline), which explains a lot.  Before I close this review, well, everyone pretty much knows the plot, but here\\'s my version anyway: It\\'s basically Godzilla crossed with QUATERMASS AND THE PIT. This movie is a direct follow-up to the original 1954 GODZILLA, but HOW Godzilla came back is unexplained (a MAJOR weakness for the film). For what it\\'s worth, GPN (Godzilla Prediction Network) led by Yuuji Shinoda and his daughter Io, try to predict Godzilla\\'s city attacks so that he can evacuate precious lives in advance. In foggy Nemuro, Godzilla crunches a fishing ship with his powerful jaws in front of a lighthouse, smashes a bar, attacks a city and for some reason, destroys a power station (all this being among the best highlights of the film). According to Shinoda (in the Japanese version), \"Does Godzilla hate the energy that mankind produces?\" Meanwhile, CCI (Crisis Control Intelligence Agency), led by Mitsuo Katagiri, discovers a HUGE rock fragment beneath the Japan Trench, and try to transport it, but the rock transports ITSELF by floating to the surface of the ocean! CCI member Shirou Miyasaka suggests that the rock might contain an alien life form, and to their surprise, it does some weird things like stand right side up over the ocean. At the same time, despite Shinoda\\'s warnings, Katagiri, CCI and the Japan Self Defense Forces prepare to attack Godzilla in Tokaimura (where, at the same time of filming, a nuclear accident happened in real life) with a new set of super-missiles called Full Metal Missiles (Yes, they\\'re called that in the Japanese version! No doubt a tribute to Stanley Kubrick\\'s FULL METAL JACKET). The weird thing is that when Godzilla appears, he does absolutely nothing! He just lets the JSDF hit him with everything but the kitchen sink, to no good effect, although the Full Metal Missiles did kinda\\' do a number on him. Just then, Miyasaka finds that the giant rock follows the sun, so it starts to fly away and heads toward Godzilla, the two titans shoot rays at each other, and in the process, Godzilla is defeated, and the rock is revealed to be a huge, solar-powered metallic UFO! It flies to Shinjuku, where it lands on a network building (same building as O-Parts Magazine!), and starts draining info from the Internet so that it can find out more about Godzilla (it discovered that Godzilla has quick-regeneration process; Upon further study with Miyasaka, Shinoda calls it Organizer G1). It also starts transmitting message words such as \"Millennium,\" \"Kingdom,\" etc. Come evening, Katagiri even suggested blowing up the building with the UFO still on it (where a crazy mix-up gets Shinoda into DIE HARD-style hijinks), but guess what? The UFO stands triumphant and destroys the rest of the building! Shinoda emerges a survivor, and shows everyone why the UFO wants Godzilla: The Millennium Aliens (Millennians) want to start an empire on Earth by converting our planet\\'s air to make it more suitable for them. When they crashed on Earth in prehistoric times, they lost their solid composure and were reduced to anti-matter in the process. They need Godzilla\\'s cells to regenerate their bodies. Then, Godzilla shows up from Tokyo Bay, and has a fight with the UFO, which overpowers him (telepathically using underground cables to lasso him) and clones Organizer G1 from his body, thus, the Millennians emerge from the UFO, regenerating into their original form, a single giant squidlike alien! But unfortunately, Godzilla\\'s DNA overtook the alien\\'s shape and causes a painful Hulk-like transformation, thus Orga (named from \"Organizer G1\" - Get it?) was the tragic result. After Godzilla trashes the UFO, Orga proceeds to beat him silly (also telepathically controlling what\\'s left of the UFO to bash him around with it!). Can Godzilla destroy a giant alien mutant with many times his own healing speed?  Whew! That was a lengthy review! Well, I still think that the next Godzilla movie, GODZILLA X MEGAGUIRUS: THE G ANNIHILATION STRATEGY, is even better, and that it was the type of movie Toho should\\'ve made (and the movie that should\\'ve been shown in US theaters)! Nevertheless, enjoy GODZILLA 2000: MILLENNIUM, either in its more straightforward Japanese version and/or the campy-but-fun US version! A VERY flawed, yet entertaining step back in the right direction.  \"GOJIRAAAAAAAAAAAAAAAAAAAAAAAAAAAAAAAAAAAAAAAAAAAAAA!!!!!!!!!!\"'"
      ]
     },
     "execution_count": 29,
     "metadata": {},
     "output_type": "execute_result"
    }
   ],
   "source": [
    "big_review = reviews.loc[reviews.str.len().idxmax()]\n",
    "big_review"
   ]
  },
  {
   "cell_type": "code",
   "execution_count": 38,
   "metadata": {},
   "outputs": [
    {
     "data": {
      "text/plain": [
       "['SPOILERS',\n",
       " 'SPOILERS',\n",
       " 'The',\n",
       " 'first',\n",
       " 'Godzilla',\n",
       " 'movie',\n",
       " 'in',\n",
       " 'the',\n",
       " 'third',\n",
       " 'movie',\n",
       " 'series',\n",
       " 'whereas',\n",
       " 'GODZILLA',\n",
       " 'VS',\n",
       " 'DESTOROYAH',\n",
       " 'the',\n",
       " 'previous',\n",
       " 'entry',\n",
       " 'aptly',\n",
       " 'ended',\n",
       " 'the',\n",
       " 'second',\n",
       " 'series',\n",
       " 'What',\n",
       " 'else',\n",
       " 'can',\n",
       " 'I',\n",
       " 'say',\n",
       " 'Well',\n",
       " 'let',\n",
       " 's',\n",
       " 'break',\n",
       " 'it',\n",
       " 'down',\n",
       " 'I',\n",
       " 'once',\n",
       " 'liked',\n",
       " 'the',\n",
       " '2nd',\n",
       " 'series',\n",
       " 'of',\n",
       " 'Godzilla',\n",
       " 'movies',\n",
       " '1984',\n",
       " '1995',\n",
       " 'even',\n",
       " 'though',\n",
       " 'I',\n",
       " 'found',\n",
       " 'something',\n",
       " 'annoying',\n",
       " 'about',\n",
       " 'those',\n",
       " 'movies',\n",
       " 'as',\n",
       " 'either',\n",
       " 'the',\n",
       " 'bad',\n",
       " 'or',\n",
       " 'good',\n",
       " 'guy',\n",
       " 'Godzilla',\n",
       " 'was',\n",
       " 'so',\n",
       " 'sympathetic',\n",
       " 'that',\n",
       " 'the',\n",
       " 'human',\n",
       " 'characters',\n",
       " 'came',\n",
       " 'off',\n",
       " 'as',\n",
       " 'obnoxious',\n",
       " 'Then',\n",
       " 'in',\n",
       " '1995',\n",
       " 'along',\n",
       " 'came',\n",
       " 'a',\n",
       " 'movie',\n",
       " 'called',\n",
       " 'GAMERA',\n",
       " 'GUARDIAN',\n",
       " 'OF',\n",
       " 'THE',\n",
       " 'UNIVERSE',\n",
       " 'and',\n",
       " 'its',\n",
       " 'two',\n",
       " 'successful',\n",
       " 'sequels',\n",
       " 'all',\n",
       " 'directed',\n",
       " 'by',\n",
       " 'master',\n",
       " 'filmmaker',\n",
       " 'Shuusuke',\n",
       " 'Kaneko',\n",
       " 'who',\n",
       " 'singlehandedly',\n",
       " 'changed',\n",
       " 'the',\n",
       " 'face',\n",
       " 'of',\n",
       " 'Japanese',\n",
       " 'monster',\n",
       " 'movies',\n",
       " 'forever',\n",
       " 'I',\n",
       " 'was',\n",
       " 'spoiled',\n",
       " 'The',\n",
       " 'Series',\n",
       " '2',\n",
       " 'Godzilla',\n",
       " 'movies',\n",
       " 'were',\n",
       " 'suddenly',\n",
       " 'looked',\n",
       " 'down',\n",
       " 'as',\n",
       " 'half',\n",
       " 'hearted',\n",
       " 'heavy',\n",
       " 'handed',\n",
       " 'auto',\n",
       " 'piloted',\n",
       " 'and',\n",
       " 'lazy',\n",
       " 'attempts',\n",
       " 'at',\n",
       " 'recreating',\n",
       " 'the',\n",
       " 'original',\n",
       " 'Godzilla',\n",
       " 'and',\n",
       " 'end',\n",
       " 'up',\n",
       " 'being',\n",
       " 'an',\n",
       " 'insult',\n",
       " 'to',\n",
       " 'the',\n",
       " 'memory',\n",
       " 'of',\n",
       " 'genre',\n",
       " 'masters',\n",
       " 'Ishirou',\n",
       " 'Honda',\n",
       " 'and',\n",
       " 'Eiji',\n",
       " 'Tsuburaya',\n",
       " 'GAMERA',\n",
       " '3',\n",
       " 'THE',\n",
       " 'AWAKENING',\n",
       " 'OF',\n",
       " 'IRIS',\n",
       " 'released',\n",
       " 'the',\n",
       " 'same',\n",
       " 'year',\n",
       " 'as',\n",
       " 'this',\n",
       " 'film',\n",
       " 'was',\n",
       " 'simply',\n",
       " 'incredible',\n",
       " 'Once',\n",
       " 'Hollywood',\n",
       " 'moviegoers',\n",
       " 'saw',\n",
       " 'that',\n",
       " 'movie',\n",
       " 'they',\n",
       " 'would',\n",
       " 'never',\n",
       " 'look',\n",
       " 'at',\n",
       " 'Japanese',\n",
       " 'monster',\n",
       " 'movies',\n",
       " 'the',\n",
       " 'same',\n",
       " 'way',\n",
       " 'again',\n",
       " 'Then',\n",
       " 'along',\n",
       " 'came',\n",
       " 'Tri',\n",
       " 'Star',\n",
       " 's',\n",
       " '1998',\n",
       " 'GINO',\n",
       " 'Godzilla',\n",
       " 'In',\n",
       " 'Name',\n",
       " 'Only',\n",
       " 'which',\n",
       " 'was',\n",
       " 'understandably',\n",
       " 'met',\n",
       " 'with',\n",
       " 'bitter',\n",
       " 'hatred',\n",
       " 'by',\n",
       " 'true',\n",
       " 'Godzilla',\n",
       " 'fans',\n",
       " 'the',\n",
       " 'world',\n",
       " 'over',\n",
       " 'The',\n",
       " 'worst',\n",
       " 'portrayal',\n",
       " 'of',\n",
       " 'Godzilla',\n",
       " 'seen',\n",
       " 'by',\n",
       " 'the',\n",
       " 'human',\n",
       " 'eye',\n",
       " 'making',\n",
       " 'Marvel',\n",
       " 's',\n",
       " '70s',\n",
       " 'comics',\n",
       " 'and',\n",
       " 'Hanna',\n",
       " 'Barbera',\n",
       " 's',\n",
       " 'cartoon',\n",
       " 'look',\n",
       " 'better',\n",
       " 'Then',\n",
       " 'MOTHRA',\n",
       " '3',\n",
       " 'released',\n",
       " 'later',\n",
       " 'that',\n",
       " 'year',\n",
       " 'bombed',\n",
       " 'at',\n",
       " 'the',\n",
       " 'box',\n",
       " 'office',\n",
       " 'Toho',\n",
       " 'was',\n",
       " 'in',\n",
       " 'deep',\n",
       " 'crap',\n",
       " 'They',\n",
       " 'felt',\n",
       " 'as',\n",
       " 'though',\n",
       " 'Godzilla',\n",
       " 'was',\n",
       " 'about',\n",
       " 'to',\n",
       " 'lose',\n",
       " 'his',\n",
       " 'fans',\n",
       " 'because',\n",
       " 'of',\n",
       " 'this',\n",
       " 'red',\n",
       " 'blooded',\n",
       " 'American',\n",
       " 'box',\n",
       " 'office',\n",
       " 'disaster',\n",
       " 'so',\n",
       " 'to',\n",
       " 'make',\n",
       " 'up',\n",
       " 'for',\n",
       " 'it',\n",
       " 'they',\n",
       " 'made',\n",
       " 'this',\n",
       " 'movie',\n",
       " 'GOJIRA',\n",
       " 'NI',\n",
       " 'SEN',\n",
       " 'MIRENIAMU',\n",
       " 'Godzilla',\n",
       " '2000',\n",
       " 'Millennium',\n",
       " 'which',\n",
       " 'was',\n",
       " 'a',\n",
       " 'take',\n",
       " 'that',\n",
       " 'to',\n",
       " 'GINO',\n",
       " 'This',\n",
       " 'movie',\n",
       " 'is',\n",
       " 'definitely',\n",
       " 'better',\n",
       " 'than',\n",
       " 'GINO',\n",
       " 'which',\n",
       " 'isn',\n",
       " 't',\n",
       " 'saying',\n",
       " 'much',\n",
       " 'Is',\n",
       " 'it',\n",
       " 'the',\n",
       " 'BEST',\n",
       " 'Godzilla',\n",
       " 'movie',\n",
       " 'Nope',\n",
       " 'not',\n",
       " 'by',\n",
       " 'a',\n",
       " 'long',\n",
       " 'shot',\n",
       " 'In',\n",
       " 'fact',\n",
       " 'it',\n",
       " 'quickly',\n",
       " 'bombed',\n",
       " 'at',\n",
       " 'the',\n",
       " 'box',\n",
       " 'office',\n",
       " 'in',\n",
       " 'Japan',\n",
       " 'starting',\n",
       " 'out',\n",
       " 'at',\n",
       " '4th',\n",
       " 'place',\n",
       " 'and',\n",
       " 'sinking',\n",
       " 'to',\n",
       " '8th',\n",
       " 'in',\n",
       " 'the',\n",
       " 'second',\n",
       " 'week',\n",
       " 'A',\n",
       " 'lot',\n",
       " 'of',\n",
       " 'Godzilla',\n",
       " 'fans',\n",
       " 'in',\n",
       " 'Japan',\n",
       " 'didn',\n",
       " 't',\n",
       " 'like',\n",
       " 'the',\n",
       " 'movie',\n",
       " 'Is',\n",
       " 'it',\n",
       " 'entertaining',\n",
       " 'Not',\n",
       " 'if',\n",
       " 'you',\n",
       " 're',\n",
       " 'spoiled',\n",
       " 'by',\n",
       " 'the',\n",
       " 'Heisei',\n",
       " 'Gamera',\n",
       " 'trilogy',\n",
       " 'but',\n",
       " 'if',\n",
       " 'you',\n",
       " 'don',\n",
       " 't',\n",
       " 'take',\n",
       " 'the',\n",
       " 'movie',\n",
       " 'too',\n",
       " 'seriously',\n",
       " 'yes',\n",
       " 'it',\n",
       " 'is',\n",
       " 'very',\n",
       " 'entertaining',\n",
       " 'In',\n",
       " 'fact',\n",
       " 'I',\n",
       " 'hadn',\n",
       " 't',\n",
       " 'been',\n",
       " 'entertained',\n",
       " 'like',\n",
       " 'this',\n",
       " 'since',\n",
       " 'TERROR',\n",
       " 'OF',\n",
       " 'MECHAGODZILLA',\n",
       " 'Toho',\n",
       " '1975',\n",
       " 'and',\n",
       " 'despite',\n",
       " 'the',\n",
       " 'movie',\n",
       " 's',\n",
       " 'MAJOR',\n",
       " 'flaws',\n",
       " 'GODZILLA',\n",
       " '2000',\n",
       " 'MILLENNIUM',\n",
       " 'is',\n",
       " 'still',\n",
       " 'very',\n",
       " 'entertaining',\n",
       " 'First',\n",
       " 'of',\n",
       " 'all',\n",
       " 'Godzilla',\n",
       " 'has',\n",
       " 'never',\n",
       " 'looked',\n",
       " 'better',\n",
       " 'His',\n",
       " 'design',\n",
       " 'has',\n",
       " 'been',\n",
       " 'in',\n",
       " 'a',\n",
       " 'rut',\n",
       " 'since',\n",
       " '1989',\n",
       " 'where',\n",
       " 'his',\n",
       " 'design',\n",
       " 'was',\n",
       " 'great',\n",
       " 'but',\n",
       " 'once',\n",
       " 'they',\n",
       " 'stuck',\n",
       " 'to',\n",
       " 'it',\n",
       " 'he',\n",
       " 'began',\n",
       " 'to',\n",
       " 'look',\n",
       " 'slapped',\n",
       " 'together',\n",
       " 'in',\n",
       " 'each',\n",
       " 'new',\n",
       " 'film',\n",
       " 'but',\n",
       " 'finally',\n",
       " 'a',\n",
       " 'NEW',\n",
       " 'Godzilla',\n",
       " 'design',\n",
       " 'As',\n",
       " 'Riverdancer',\n",
       " 'Michael',\n",
       " 'Flatley',\n",
       " 'once',\n",
       " 'said',\n",
       " 'It',\n",
       " 's',\n",
       " 'important',\n",
       " 'to',\n",
       " 'change',\n",
       " 'because',\n",
       " 'if',\n",
       " 'you',\n",
       " 'stagnate',\n",
       " 'you',\n",
       " 'die',\n",
       " 'I',\n",
       " 'think',\n",
       " 'this',\n",
       " 'is',\n",
       " 'a',\n",
       " 'very',\n",
       " 'good',\n",
       " 'change',\n",
       " 'and',\n",
       " 'one',\n",
       " 'that',\n",
       " 'stays',\n",
       " 'true',\n",
       " 'to',\n",
       " 'Godzilla',\n",
       " 's',\n",
       " 'spirit',\n",
       " 'Godzilla',\n",
       " 's',\n",
       " 'design',\n",
       " 'is',\n",
       " 'a',\n",
       " 'streamlined',\n",
       " 'version',\n",
       " 'of',\n",
       " 'the',\n",
       " 'Kin',\n",
       " 'Goji',\n",
       " 'design',\n",
       " 'from',\n",
       " 'KING',\n",
       " 'KONG',\n",
       " 'VS',\n",
       " 'GODZILLA',\n",
       " 'with',\n",
       " 'jagged',\n",
       " 'DARK',\n",
       " 'CRYSTAL',\n",
       " 'style',\n",
       " 'dorsal',\n",
       " 'fins',\n",
       " 'that',\n",
       " 'give',\n",
       " 'him',\n",
       " 'an',\n",
       " 'evil',\n",
       " 'look',\n",
       " 'I',\n",
       " 'was',\n",
       " 'neither',\n",
       " 'bothered',\n",
       " 'by',\n",
       " 'the',\n",
       " 'orange',\n",
       " 'colored',\n",
       " 'Radioactive',\n",
       " 'Heat',\n",
       " 'Beam',\n",
       " 'most',\n",
       " 'fans',\n",
       " 'are',\n",
       " 'used',\n",
       " 'to',\n",
       " 'blue',\n",
       " 'nor',\n",
       " 'Godzilla',\n",
       " 's',\n",
       " 'green',\n",
       " 'tone',\n",
       " 'this',\n",
       " 'is',\n",
       " 'the',\n",
       " 'first',\n",
       " 'time',\n",
       " 'Toho',\n",
       " 'made',\n",
       " 'Godzilla',\n",
       " 'officially',\n",
       " 'green',\n",
       " 'whereas',\n",
       " 'he',\n",
       " 'had',\n",
       " 'an',\n",
       " 'ambiguous',\n",
       " 'green',\n",
       " 'gray',\n",
       " 'tone',\n",
       " 'I',\n",
       " 'was',\n",
       " 'very',\n",
       " 'happy',\n",
       " 'with',\n",
       " 'this',\n",
       " 'Godzilla',\n",
       " 'For',\n",
       " 'the',\n",
       " 'first',\n",
       " 'time',\n",
       " 'Godzilla',\n",
       " 'was',\n",
       " 'played',\n",
       " 'by',\n",
       " 'former',\n",
       " 'JAC',\n",
       " 'stuntman',\n",
       " 'Tsutomu',\n",
       " 'Kitagawa',\n",
       " 'a',\n",
       " 'veteran',\n",
       " 'of',\n",
       " 'Toei',\n",
       " 's',\n",
       " 'Sentai',\n",
       " 'Series',\n",
       " 'who',\n",
       " 'just',\n",
       " 'started',\n",
       " 'out',\n",
       " 'in',\n",
       " 'the',\n",
       " 'Toho',\n",
       " 'Monster',\n",
       " 'genre',\n",
       " 'he',\n",
       " 'played',\n",
       " 'King',\n",
       " 'Ghidorah',\n",
       " 'in',\n",
       " 'MOTHRA',\n",
       " '3',\n",
       " 'The',\n",
       " 'UFO',\n",
       " 'and',\n",
       " 'the',\n",
       " 'Millennian',\n",
       " 'Alien',\n",
       " 'Orga',\n",
       " 'were',\n",
       " 'excellent',\n",
       " 'and',\n",
       " 'unique',\n",
       " 'ideas',\n",
       " 'which',\n",
       " 'the',\n",
       " 'previous',\n",
       " 'movie',\n",
       " 'series',\n",
       " 'wouldn',\n",
       " 't',\n",
       " 'have',\n",
       " 'allowed',\n",
       " 'for',\n",
       " 'fear',\n",
       " 'of',\n",
       " 'being',\n",
       " 'over',\n",
       " 'the',\n",
       " 'top',\n",
       " 'but',\n",
       " 'this',\n",
       " 'was',\n",
       " 'the',\n",
       " 'cleverest',\n",
       " 'portrayal',\n",
       " 'of',\n",
       " 'aliens',\n",
       " 'in',\n",
       " 'a',\n",
       " 'Godzilla',\n",
       " 'film',\n",
       " 'but',\n",
       " 'half',\n",
       " 'the',\n",
       " 'time',\n",
       " 'they',\n",
       " 'are',\n",
       " 'poorly',\n",
       " 'handled',\n",
       " 'on',\n",
       " 'film',\n",
       " 'That',\n",
       " 'brings',\n",
       " 'us',\n",
       " 'to',\n",
       " 'the',\n",
       " 'story',\n",
       " 'part',\n",
       " 'The',\n",
       " 'Millennian',\n",
       " 'Toho',\n",
       " 's',\n",
       " 'first',\n",
       " 'CGI',\n",
       " 'monster',\n",
       " 'is',\n",
       " 'a',\n",
       " 'really',\n",
       " 'bizarre',\n",
       " 'creation',\n",
       " 'and',\n",
       " 'Orga',\n",
       " 'reminds',\n",
       " 'me',\n",
       " 'of',\n",
       " 'GINO',\n",
       " 'the',\n",
       " 'intention',\n",
       " 'as',\n",
       " 'if',\n",
       " 'over',\n",
       " 'mutated',\n",
       " 'by',\n",
       " 'comic',\n",
       " 'book',\n",
       " 'artist',\n",
       " 'Todd',\n",
       " 'McFarlane',\n",
       " 'Definitely',\n",
       " 'not',\n",
       " 'your',\n",
       " 'average',\n",
       " 'Japanese',\n",
       " 'monster',\n",
       " 'The',\n",
       " 'story',\n",
       " 'has',\n",
       " 'great',\n",
       " 'ideas',\n",
       " 'and',\n",
       " 'a',\n",
       " 'more',\n",
       " 'realistic',\n",
       " 'feel',\n",
       " 'than',\n",
       " 'the',\n",
       " 'previous',\n",
       " 'Godzilla',\n",
       " 'movies',\n",
       " 'since',\n",
       " 'the',\n",
       " '90s',\n",
       " 'However',\n",
       " 'the',\n",
       " 'main',\n",
       " 'problem',\n",
       " 'is',\n",
       " 'that',\n",
       " 'things',\n",
       " 'were',\n",
       " 'not',\n",
       " 'spelled',\n",
       " 'out',\n",
       " 'for',\n",
       " 'the',\n",
       " 'viewer',\n",
       " 'mostly',\n",
       " 'because',\n",
       " 'production',\n",
       " 'was',\n",
       " 'rushed',\n",
       " 'in',\n",
       " 'the',\n",
       " 'second',\n",
       " 'half',\n",
       " 'As',\n",
       " 'a',\n",
       " 'result',\n",
       " 'lot',\n",
       " 'of',\n",
       " 'people',\n",
       " 'did',\n",
       " 'not',\n",
       " 'know',\n",
       " 'what',\n",
       " 'was',\n",
       " 'going',\n",
       " 'on',\n",
       " 'After',\n",
       " 'reading',\n",
       " 'about',\n",
       " 'the',\n",
       " 'plot',\n",
       " 'story',\n",
       " 'and',\n",
       " 'having',\n",
       " 'purchased',\n",
       " 'both',\n",
       " 'the',\n",
       " 'Official',\n",
       " 'Movie',\n",
       " 'Compendium',\n",
       " 'which',\n",
       " 'has',\n",
       " 'TONS',\n",
       " 'of',\n",
       " 'useful',\n",
       " 'info',\n",
       " 'that',\n",
       " 'Americans',\n",
       " 'don',\n",
       " 't',\n",
       " 'know',\n",
       " 'about',\n",
       " 'the',\n",
       " 'film',\n",
       " 'and',\n",
       " 'the',\n",
       " 'manga',\n",
       " 'adaptation',\n",
       " 'by',\n",
       " 'Mondo',\n",
       " 'Takimura',\n",
       " 'which',\n",
       " 'is',\n",
       " 'a',\n",
       " 'MUCH',\n",
       " 'better',\n",
       " 'version',\n",
       " 'of',\n",
       " 'the',\n",
       " 'film',\n",
       " 'than',\n",
       " 'the',\n",
       " 'film',\n",
       " 'itself',\n",
       " 'I',\n",
       " 've',\n",
       " 'seen',\n",
       " 'critics',\n",
       " 'reviewers',\n",
       " 'make',\n",
       " 'up',\n",
       " 'their',\n",
       " 'own',\n",
       " 'conclusion',\n",
       " 'Read',\n",
       " 'the',\n",
       " 'plot',\n",
       " 'below',\n",
       " 'so',\n",
       " 'I',\n",
       " 'll',\n",
       " 'help',\n",
       " 'out',\n",
       " 'Throughout',\n",
       " 'the',\n",
       " 'film',\n",
       " 'there',\n",
       " 'are',\n",
       " 'parodies',\n",
       " 'of',\n",
       " 'both',\n",
       " 'GINO',\n",
       " 'and',\n",
       " 'INDEPENDENCE',\n",
       " 'DAY',\n",
       " 'one',\n",
       " 'scene',\n",
       " 'had',\n",
       " 'a',\n",
       " 'taxi',\n",
       " 'driver',\n",
       " 'in',\n",
       " 'Shinjuku',\n",
       " 'getting',\n",
       " 'out',\n",
       " 'of',\n",
       " 'his',\n",
       " 'taxi',\n",
       " 'staring',\n",
       " 'dumbfounded',\n",
       " 'at',\n",
       " 'the',\n",
       " 'UFO',\n",
       " 'while',\n",
       " 'his',\n",
       " 'car',\n",
       " 'gets',\n",
       " 'smashed',\n",
       " 'by',\n",
       " 'another',\n",
       " 'Part',\n",
       " 'of',\n",
       " 'this',\n",
       " 'was',\n",
       " 'cut',\n",
       " 'out',\n",
       " 'in',\n",
       " 'the',\n",
       " 'US',\n",
       " 'version',\n",
       " 'It',\n",
       " 'shouldn',\n",
       " 't',\n",
       " 'have',\n",
       " 'been',\n",
       " 'As',\n",
       " 'of',\n",
       " '1999',\n",
       " 'the',\n",
       " 'special',\n",
       " 'effects',\n",
       " 'are',\n",
       " 'probably',\n",
       " 'the',\n",
       " 'best',\n",
       " 'in',\n",
       " 'any',\n",
       " 'Toho',\n",
       " 'Godzilla',\n",
       " 'film',\n",
       " 'since',\n",
       " 'Teruyoshi',\n",
       " 'Nakano',\n",
       " 's',\n",
       " 'breathtaking',\n",
       " 'work',\n",
       " 'in',\n",
       " 'the',\n",
       " '1984',\n",
       " 'GODZILLA',\n",
       " 'Kenji',\n",
       " 'Suzuki',\n",
       " 's',\n",
       " 'FX',\n",
       " 'are',\n",
       " 'a',\n",
       " 'vast',\n",
       " 'improvement',\n",
       " 'over',\n",
       " 'Kouichi',\n",
       " 'Kawakita',\n",
       " 's',\n",
       " 'work',\n",
       " 'in',\n",
       " 'the',\n",
       " 'films',\n",
       " 'from',\n",
       " '1989',\n",
       " '1995',\n",
       " 'This',\n",
       " 'is',\n",
       " 'his',\n",
       " 'second',\n",
       " 'FX',\n",
       " 'direction',\n",
       " 'job',\n",
       " 'his',\n",
       " 'first',\n",
       " 'was',\n",
       " 'MOTHRA',\n",
       " '3',\n",
       " 'Definitely',\n",
       " 'not',\n",
       " 'up',\n",
       " 'to',\n",
       " 'Shinji',\n",
       " 'Higuchi',\n",
       " 's',\n",
       " 'work',\n",
       " 'in',\n",
       " 'the',\n",
       " 'Heisei',\n",
       " 'Gamera',\n",
       " 'trilogy',\n",
       " 'which',\n",
       " 'Toho',\n",
       " 'had',\n",
       " 'been',\n",
       " 'trying',\n",
       " 'to',\n",
       " 'keep',\n",
       " 'up',\n",
       " 'with',\n",
       " 'but',\n",
       " 'definitely',\n",
       " 'not',\n",
       " 'too',\n",
       " 'shabby',\n",
       " 'for',\n",
       " 'a',\n",
       " 'Toho',\n",
       " 'Godzilla',\n",
       " 'film',\n",
       " 'The',\n",
       " 'downside',\n",
       " 'is',\n",
       " 'that',\n",
       " 'some',\n",
       " 'of',\n",
       " 'the',\n",
       " 'FX',\n",
       " 'looked',\n",
       " 'rushed',\n",
       " 'especially',\n",
       " 'in',\n",
       " 'the',\n",
       " 'climactic',\n",
       " 'fight',\n",
       " 'scene',\n",
       " 'between',\n",
       " 'Godzilla',\n",
       " 'and',\n",
       " 'Orga',\n",
       " 'Toho',\n",
       " 'was',\n",
       " 'definitely',\n",
       " 'behind',\n",
       " 'schedule',\n",
       " 'As',\n",
       " 'for',\n",
       " 'the',\n",
       " 'human',\n",
       " 'characters',\n",
       " 'after',\n",
       " '1975',\n",
       " 'and',\n",
       " 'probably',\n",
       " '1984',\n",
       " 'we',\n",
       " 'FINALLY',\n",
       " 'get',\n",
       " 'characters',\n",
       " 'from',\n",
       " 'all',\n",
       " 'walks',\n",
       " 'of',\n",
       " ...]"
      ]
     },
     "execution_count": 38,
     "metadata": {},
     "output_type": "execute_result"
    }
   ],
   "source": [
    "re.findall(\"[A-Za-z0-9À-ÿ]+\", big_review)"
   ]
  },
  {
   "cell_type": "code",
   "execution_count": 37,
   "metadata": {},
   "outputs": [
    {
     "data": {
      "text/plain": [
       "['2',\n",
       " '1984',\n",
       " '1995',\n",
       " '1995',\n",
       " '2',\n",
       " '3',\n",
       " '1998',\n",
       " '70',\n",
       " '3',\n",
       " '2000',\n",
       " '4',\n",
       " '8',\n",
       " '1975',\n",
       " '2000',\n",
       " '1989',\n",
       " '3',\n",
       " '90',\n",
       " '1999',\n",
       " '1984',\n",
       " '1989',\n",
       " '1995',\n",
       " '3',\n",
       " '1975',\n",
       " '1984',\n",
       " '1992',\n",
       " '1995',\n",
       " '1',\n",
       " '1',\n",
       " '1998',\n",
       " '50',\n",
       " '75',\n",
       " '1954',\n",
       " '1',\n",
       " '1',\n",
       " '1',\n",
       " '2000']"
      ]
     },
     "execution_count": 37,
     "metadata": {},
     "output_type": "execute_result"
    }
   ],
   "source": [
    "re.findall(\"[0-9]+\", big_review)"
   ]
  },
  {
   "cell_type": "code",
   "execution_count": 42,
   "metadata": {},
   "outputs": [
    {
     "data": {
      "text/html": [
       "<div>\n",
       "<style scoped>\n",
       "    .dataframe tbody tr th:only-of-type {\n",
       "        vertical-align: middle;\n",
       "    }\n",
       "\n",
       "    .dataframe tbody tr th {\n",
       "        vertical-align: top;\n",
       "    }\n",
       "\n",
       "    .dataframe thead th {\n",
       "        text-align: right;\n",
       "    }\n",
       "</style>\n",
       "<table border=\"1\" class=\"dataframe\">\n",
       "  <thead>\n",
       "    <tr style=\"text-align: right;\">\n",
       "      <th></th>\n",
       "      <th>0</th>\n",
       "      <th>1</th>\n",
       "    </tr>\n",
       "  </thead>\n",
       "  <tbody>\n",
       "    <tr>\n",
       "      <th>0</th>\n",
       "      <td>a</td>\n",
       "      <td>for</td>\n",
       "    </tr>\n",
       "    <tr>\n",
       "      <th>2</th>\n",
       "      <td>The</td>\n",
       "      <td>doesn</td>\n",
       "    </tr>\n",
       "    <tr>\n",
       "      <th>3</th>\n",
       "      <td>turned</td>\n",
       "      <td>star</td>\n",
       "    </tr>\n",
       "    <tr>\n",
       "      <th>6</th>\n",
       "      <td>strange</td>\n",
       "      <td>that</td>\n",
       "    </tr>\n",
       "    <tr>\n",
       "      <th>7</th>\n",
       "      <td>this</td>\n",
       "      <td>is</td>\n",
       "    </tr>\n",
       "    <tr>\n",
       "      <th>...</th>\n",
       "      <td>...</td>\n",
       "      <td>...</td>\n",
       "    </tr>\n",
       "    <tr>\n",
       "      <th>99986</th>\n",
       "      <td>The</td>\n",
       "      <td>then</td>\n",
       "    </tr>\n",
       "    <tr>\n",
       "      <th>99988</th>\n",
       "      <td>the</td>\n",
       "      <td>takes</td>\n",
       "    </tr>\n",
       "    <tr>\n",
       "      <th>99989</th>\n",
       "      <td>the</td>\n",
       "      <td>is</td>\n",
       "    </tr>\n",
       "    <tr>\n",
       "      <th>99997</th>\n",
       "      <td>a</td>\n",
       "      <td>like</td>\n",
       "    </tr>\n",
       "    <tr>\n",
       "      <th>99998</th>\n",
       "      <td>The</td>\n",
       "      <td>was</td>\n",
       "    </tr>\n",
       "  </tbody>\n",
       "</table>\n",
       "<p>51768 rows × 2 columns</p>\n",
       "</div>"
      ],
      "text/plain": [
       "             0      1\n",
       "0            a    for\n",
       "2          The  doesn\n",
       "3       turned   star\n",
       "6      strange   that\n",
       "7         this     is\n",
       "...        ...    ...\n",
       "99986      The   then\n",
       "99988      the  takes\n",
       "99989      the     is\n",
       "99997        a   like\n",
       "99998      The    was\n",
       "\n",
       "[51768 rows x 2 columns]"
      ]
     },
     "execution_count": 42,
     "metadata": {},
     "output_type": "execute_result"
    }
   ],
   "source": [
    "reviews.str.extract(\"(\\w+) movie (\\w+)\").dropna()"
   ]
  },
  {
   "cell_type": "markdown",
   "metadata": {},
   "source": [
    "## 3. Modèle du sac de mots (bag-of-words)\n",
    "\n",
    "Le modèle du sac de mots est un modèle dans lequel un texte est représenté par un dictionnaire (non ordonné) fréquentiel des mots : nombre d'occurences du mot dans un texte, nombre de documents contenant ce mot pour un corpus.\n",
    "\n",
    "Il est possible au préalable de défléchir les mots, c'est-à-dire de les remplacer par une forme simplifiée : passage en minuscules, lemmatisation (masculin, singulier, infinitif), racinisation (noyau lexical)."
   ]
  },
  {
   "cell_type": "code",
   "execution_count": 43,
   "metadata": {},
   "outputs": [],
   "source": [
    "# import\n",
    "from collections import Counter"
   ]
  },
  {
   "cell_type": "code",
   "execution_count": 44,
   "metadata": {},
   "outputs": [
    {
     "data": {
      "text/plain": [
       "['A', 'bon', 'chat', 'bon', 'rat']"
      ]
     },
     "execution_count": 44,
     "metadata": {},
     "output_type": "execute_result"
    }
   ],
   "source": [
    "'A bon chat bon rat'.split()"
   ]
  },
  {
   "cell_type": "code",
   "execution_count": 45,
   "metadata": {},
   "outputs": [
    {
     "data": {
      "text/plain": [
       "Counter({'A': 1, 'bon': 2, 'chat': 1, 'rat': 1})"
      ]
     },
     "execution_count": 45,
     "metadata": {},
     "output_type": "execute_result"
    }
   ],
   "source": [
    "# exemple\n",
    "c = Counter()\n",
    "c.update('A bon chat bon rat'.split())\n",
    "c"
   ]
  },
  {
   "cell_type": "code",
   "execution_count": 46,
   "metadata": {},
   "outputs": [
    {
     "data": {
      "text/plain": [
       "\"Once again Mr. Costner has dragged out a movie for far longer than necessary. Aside from the terrific sea rescue sequences, of which there are very few I just did not care about any of the characters. Most of us have ghosts in the closet, and Costner's character are realized early on, and then forgotten until much later, by which time I did not care. The character we should really care about is a very cocky, overconfident Ashton Kutcher. The problem is he comes off as kid who thinks he's better than anyone else around him and shows no signs of a cluttered closet. His only obstacle appears to be winning over Costner. Finally when we are well past the half way point of this stinker, Costner tells us all about Kutcher's ghosts. We are told why Kutcher is driven to be the best with no prior inkling or foreshadowing. No magic here, it was all I could do to keep from turning it off an hour in.\""
      ]
     },
     "execution_count": 46,
     "metadata": {},
     "output_type": "execute_result"
    }
   ],
   "source": [
    "# texte\n",
    "reviews[0]"
   ]
  },
  {
   "cell_type": "code",
   "execution_count": 47,
   "metadata": {},
   "outputs": [
    {
     "data": {
      "text/plain": [
       "Counter({'Once': 1,\n",
       "         'again': 1,\n",
       "         'Mr': 1,\n",
       "         'Costner': 4,\n",
       "         'has': 1,\n",
       "         'dragged': 1,\n",
       "         'out': 1,\n",
       "         'a': 3,\n",
       "         'movie': 1,\n",
       "         'for': 1,\n",
       "         'far': 1,\n",
       "         'longer': 1,\n",
       "         'than': 2,\n",
       "         'necessary': 1,\n",
       "         'Aside': 1,\n",
       "         'from': 2,\n",
       "         'the': 5,\n",
       "         'terrific': 1,\n",
       "         'sea': 1,\n",
       "         'rescue': 1,\n",
       "         'sequences': 1,\n",
       "         'of': 5,\n",
       "         'which': 2,\n",
       "         'there': 1,\n",
       "         'are': 4,\n",
       "         'very': 2,\n",
       "         'few': 1,\n",
       "         'I': 3,\n",
       "         'just': 1,\n",
       "         'did': 2,\n",
       "         'not': 2,\n",
       "         'care': 3,\n",
       "         'about': 3,\n",
       "         'any': 1,\n",
       "         'characters': 1,\n",
       "         'Most': 1,\n",
       "         'us': 2,\n",
       "         'have': 1,\n",
       "         'ghosts': 2,\n",
       "         'in': 2,\n",
       "         'closet': 2,\n",
       "         'and': 3,\n",
       "         's': 3,\n",
       "         'character': 2,\n",
       "         'realized': 1,\n",
       "         'early': 1,\n",
       "         'on': 1,\n",
       "         'then': 1,\n",
       "         'forgotten': 1,\n",
       "         'until': 1,\n",
       "         'much': 1,\n",
       "         'later': 1,\n",
       "         'by': 1,\n",
       "         'time': 1,\n",
       "         'The': 2,\n",
       "         'we': 2,\n",
       "         'should': 1,\n",
       "         'really': 1,\n",
       "         'is': 3,\n",
       "         'cocky': 1,\n",
       "         'overconfident': 1,\n",
       "         'Ashton': 1,\n",
       "         'Kutcher': 3,\n",
       "         'problem': 1,\n",
       "         'he': 2,\n",
       "         'comes': 1,\n",
       "         'off': 2,\n",
       "         'as': 1,\n",
       "         'kid': 1,\n",
       "         'who': 1,\n",
       "         'thinks': 1,\n",
       "         'better': 1,\n",
       "         'anyone': 1,\n",
       "         'else': 1,\n",
       "         'around': 1,\n",
       "         'him': 1,\n",
       "         'shows': 1,\n",
       "         'no': 2,\n",
       "         'signs': 1,\n",
       "         'cluttered': 1,\n",
       "         'His': 1,\n",
       "         'only': 1,\n",
       "         'obstacle': 1,\n",
       "         'appears': 1,\n",
       "         'to': 3,\n",
       "         'be': 2,\n",
       "         'winning': 1,\n",
       "         'over': 1,\n",
       "         'Finally': 1,\n",
       "         'when': 1,\n",
       "         'well': 1,\n",
       "         'past': 1,\n",
       "         'half': 1,\n",
       "         'way': 1,\n",
       "         'point': 1,\n",
       "         'this': 1,\n",
       "         'stinker': 1,\n",
       "         'tells': 1,\n",
       "         'all': 2,\n",
       "         'We': 1,\n",
       "         'told': 1,\n",
       "         'why': 1,\n",
       "         'driven': 1,\n",
       "         'best': 1,\n",
       "         'with': 1,\n",
       "         'prior': 1,\n",
       "         'inkling': 1,\n",
       "         'or': 1,\n",
       "         'foreshadowing': 1,\n",
       "         'No': 1,\n",
       "         'magic': 1,\n",
       "         'here': 1,\n",
       "         'it': 2,\n",
       "         'was': 1,\n",
       "         'could': 1,\n",
       "         'do': 1,\n",
       "         'keep': 1,\n",
       "         'turning': 1,\n",
       "         'an': 1,\n",
       "         'hour': 1})"
      ]
     },
     "execution_count": 47,
     "metadata": {},
     "output_type": "execute_result"
    }
   ],
   "source": [
    "# calcul du Counter\n",
    "pattern = r'[A-Za-zÀ-ÿ0-9]+'\n",
    "c = Counter()\n",
    "c.update(re.findall(pattern, reviews[0]))\n",
    "c"
   ]
  },
  {
   "cell_type": "code",
   "execution_count": 48,
   "metadata": {},
   "outputs": [
    {
     "data": {
      "text/plain": [
       "of           5\n",
       "the          5\n",
       "Costner      4\n",
       "are          4\n",
       "is           3\n",
       "            ..\n",
       "much         1\n",
       "until        1\n",
       "forgotten    1\n",
       "then         1\n",
       "hour         1\n",
       "Length: 120, dtype: int64"
      ]
     },
     "execution_count": 48,
     "metadata": {},
     "output_type": "execute_result"
    }
   ],
   "source": [
    "# mise en Series\n",
    "s = pd.Series(c)\n",
    "s = s.sort_values(ascending=False)\n",
    "s"
   ]
  },
  {
   "cell_type": "code",
   "execution_count": 49,
   "metadata": {},
   "outputs": [
    {
     "data": {
      "text/plain": [
       "the              1159007\n",
       "and               626061\n",
       "a                 624643\n",
       "of                576405\n",
       "to                533019\n",
       "                  ...   \n",
       "Hussien                1\n",
       "Commancheroes          1\n",
       "Rustlers               1\n",
       "Shahan                 1\n",
       "razzing                1\n",
       "Length: 184375, dtype: int64"
      ]
     },
     "execution_count": 49,
     "metadata": {},
     "output_type": "execute_result"
    }
   ],
   "source": [
    "# tous les textes\n",
    "pattern = r'[A-Za-zÀ-ÿ0-9]+'\n",
    "c = Counter()\n",
    "reviews.apply(lambda x: c.update(re.findall(pattern, x)))\n",
    "vocab = pd.Series(c)\n",
    "vocab = vocab.sort_values(ascending=False)\n",
    "vocab"
   ]
  },
  {
   "cell_type": "code",
   "execution_count": 50,
   "metadata": {},
   "outputs": [
    {
     "data": {
      "text/plain": [
       "the          98723\n",
       "a            96189\n",
       "and          96097\n",
       "of           94909\n",
       "to           93824\n",
       "             ...  \n",
       "unvented         1\n",
       "Learoyd          1\n",
       "Slickness        1\n",
       "Perovitch        1\n",
       "razzing          1\n",
       "Length: 184375, dtype: int64"
      ]
     },
     "execution_count": 50,
     "metadata": {},
     "output_type": "execute_result"
    }
   ],
   "source": [
    "# dictionaire fréquentiel\n",
    "# tous les textes\n",
    "pattern = r'[A-Za-zÀ-ÿ0-9]+'\n",
    "c = Counter()\n",
    "reviews.apply(lambda x: c.update(set(re.findall(pattern, x))))\n",
    "vocab = pd.Series(c)\n",
    "vocab = vocab.sort_values(ascending=False)\n",
    "vocab"
   ]
  },
  {
   "cell_type": "code",
   "execution_count": 5,
   "metadata": {},
   "outputs": [
    {
     "data": {
      "text/plain": [
       "['i',\n",
       " 'me',\n",
       " 'my',\n",
       " 'myself',\n",
       " 'we',\n",
       " 'our',\n",
       " 'ours',\n",
       " 'ourselves',\n",
       " 'you',\n",
       " \"you're\",\n",
       " \"you've\",\n",
       " \"you'll\",\n",
       " \"you'd\",\n",
       " 'your',\n",
       " 'yours',\n",
       " 'yourself',\n",
       " 'yourselves',\n",
       " 'he',\n",
       " 'him',\n",
       " 'his',\n",
       " 'himself',\n",
       " 'she',\n",
       " \"she's\",\n",
       " 'her',\n",
       " 'hers',\n",
       " 'herself',\n",
       " 'it',\n",
       " \"it's\",\n",
       " 'its',\n",
       " 'itself',\n",
       " 'they',\n",
       " 'them',\n",
       " 'their',\n",
       " 'theirs',\n",
       " 'themselves',\n",
       " 'what',\n",
       " 'which',\n",
       " 'who',\n",
       " 'whom',\n",
       " 'this',\n",
       " 'that',\n",
       " \"that'll\",\n",
       " 'these',\n",
       " 'those',\n",
       " 'am',\n",
       " 'is',\n",
       " 'are',\n",
       " 'was',\n",
       " 'were',\n",
       " 'be',\n",
       " 'been',\n",
       " 'being',\n",
       " 'have',\n",
       " 'has',\n",
       " 'had',\n",
       " 'having',\n",
       " 'do',\n",
       " 'does',\n",
       " 'did',\n",
       " 'doing',\n",
       " 'a',\n",
       " 'an',\n",
       " 'the',\n",
       " 'and',\n",
       " 'but',\n",
       " 'if',\n",
       " 'or',\n",
       " 'because',\n",
       " 'as',\n",
       " 'until',\n",
       " 'while',\n",
       " 'of',\n",
       " 'at',\n",
       " 'by',\n",
       " 'for',\n",
       " 'with',\n",
       " 'about',\n",
       " 'against',\n",
       " 'between',\n",
       " 'into',\n",
       " 'through',\n",
       " 'during',\n",
       " 'before',\n",
       " 'after',\n",
       " 'above',\n",
       " 'below',\n",
       " 'to',\n",
       " 'from',\n",
       " 'up',\n",
       " 'down',\n",
       " 'in',\n",
       " 'out',\n",
       " 'on',\n",
       " 'off',\n",
       " 'over',\n",
       " 'under',\n",
       " 'again',\n",
       " 'further',\n",
       " 'then',\n",
       " 'once',\n",
       " 'here',\n",
       " 'there',\n",
       " 'when',\n",
       " 'where',\n",
       " 'why',\n",
       " 'how',\n",
       " 'all',\n",
       " 'any',\n",
       " 'both',\n",
       " 'each',\n",
       " 'few',\n",
       " 'more',\n",
       " 'most',\n",
       " 'other',\n",
       " 'some',\n",
       " 'such',\n",
       " 'no',\n",
       " 'nor',\n",
       " 'not',\n",
       " 'only',\n",
       " 'own',\n",
       " 'same',\n",
       " 'so',\n",
       " 'than',\n",
       " 'too',\n",
       " 'very',\n",
       " 's',\n",
       " 't',\n",
       " 'can',\n",
       " 'will',\n",
       " 'just',\n",
       " 'don',\n",
       " \"don't\",\n",
       " 'should',\n",
       " \"should've\",\n",
       " 'now',\n",
       " 'd',\n",
       " 'll',\n",
       " 'm',\n",
       " 'o',\n",
       " 're',\n",
       " 've',\n",
       " 'y',\n",
       " 'ain',\n",
       " 'aren',\n",
       " \"aren't\",\n",
       " 'couldn',\n",
       " \"couldn't\",\n",
       " 'didn',\n",
       " \"didn't\",\n",
       " 'doesn',\n",
       " \"doesn't\",\n",
       " 'hadn',\n",
       " \"hadn't\",\n",
       " 'hasn',\n",
       " \"hasn't\",\n",
       " 'haven',\n",
       " \"haven't\",\n",
       " 'isn',\n",
       " \"isn't\",\n",
       " 'ma',\n",
       " 'mightn',\n",
       " \"mightn't\",\n",
       " 'mustn',\n",
       " \"mustn't\",\n",
       " 'needn',\n",
       " \"needn't\",\n",
       " 'shan',\n",
       " \"shan't\",\n",
       " 'shouldn',\n",
       " \"shouldn't\",\n",
       " 'wasn',\n",
       " \"wasn't\",\n",
       " 'weren',\n",
       " \"weren't\",\n",
       " 'won',\n",
       " \"won't\",\n",
       " 'wouldn',\n",
       " \"wouldn't\"]"
      ]
     },
     "execution_count": 5,
     "metadata": {},
     "output_type": "execute_result"
    }
   ],
   "source": [
    "# stop words\n",
    "from nltk.corpus import stopwords\n",
    "stopwords_en = stopwords.words(\"english\")\n",
    "\n",
    "stopwords_en"
   ]
  },
  {
   "cell_type": "code",
   "execution_count": 52,
   "metadata": {},
   "outputs": [
    {
     "data": {
      "text/plain": [
       "[\"you're\",\n",
       " \"you've\",\n",
       " \"you'll\",\n",
       " \"you'd\",\n",
       " \"she's\",\n",
       " \"it's\",\n",
       " \"that'll\",\n",
       " \"don't\",\n",
       " \"should've\",\n",
       " \"aren't\",\n",
       " \"couldn't\",\n",
       " \"didn't\",\n",
       " \"doesn't\",\n",
       " \"hadn't\",\n",
       " \"hasn't\",\n",
       " \"haven't\",\n",
       " \"isn't\",\n",
       " \"mightn't\",\n",
       " \"mustn't\",\n",
       " \"needn't\",\n",
       " \"shan't\",\n",
       " \"shouldn't\",\n",
       " \"wasn't\",\n",
       " \"weren't\",\n",
       " \"won't\",\n",
       " \"wouldn't\"]"
      ]
     },
     "execution_count": 52,
     "metadata": {},
     "output_type": "execute_result"
    }
   ],
   "source": [
    "# élisions en anglais\n",
    "[w for w in stopwords_en if \"'\" in w]"
   ]
  },
  {
   "cell_type": "code",
   "execution_count": 53,
   "metadata": {},
   "outputs": [
    {
     "data": {
      "text/plain": [
       "movie      61011\n",
       "one        56764\n",
       "film       55257\n",
       "like       46561\n",
       "good       37998\n",
       "           ...  \n",
       "qaulen         1\n",
       "alienâ         1\n",
       "quaien         1\n",
       "dimbulb        1\n",
       "razzing        1\n",
       "Length: 158814, dtype: int64"
      ]
     },
     "execution_count": 53,
     "metadata": {},
     "output_type": "execute_result"
    }
   ],
   "source": [
    "# dictionaire fréquentiel\n",
    "# tous les textes\n",
    "# mots en minuscules\n",
    "# sans stop words\n",
    "pattern = r'[A-Za-zÀ-ÿ0-9]+(?:\\'(?:d|ll|re|s|t|ve))?'\n",
    "c = Counter()\n",
    "reviews.apply(lambda x: c.update(set(re.findall(pattern, x.lower()))))\n",
    "vocab = pd.Series(c)\n",
    "vocab = vocab.drop(stopwords_en, errors='ignore')\n",
    "vocab = vocab.sort_values(ascending=False)\n",
    "vocab"
   ]
  },
  {
   "cell_type": "markdown",
   "metadata": {},
   "source": [
    "## 4. Calcul de bi-grammes\n",
    "\n",
    "Recherche de cooccurrence de mots."
   ]
  },
  {
   "cell_type": "code",
   "execution_count": 67,
   "metadata": {},
   "outputs": [
    {
     "name": "stderr",
     "output_type": "stream",
     "text": [
      "100%|███████████████████████████████████| 10000/10000 [00:28<00:00, 352.36it/s]\n"
     ]
    }
   ],
   "source": [
    "import nltk\n",
    "from nltk import word_tokenize\n",
    "\n",
    "from tqdm import tqdm\n",
    "\n",
    "def get_doc():\n",
    "    for text in tqdm(reviews[:10_000]):\n",
    "        words = word_tokenize(text.lower())\n",
    "        doc = [word for word in words if word.isalpha() and not word in stopwords_en]\n",
    "        yield doc\n",
    "\n",
    "bgm = nltk.collocations.BigramAssocMeasures()\n",
    "finder = nltk.collocations.BigramCollocationFinder.from_documents(get_doc())\n",
    "finder.apply_freq_filter(3)\n",
    "scored = finder.score_ngrams(bgm.likelihood_ratio)\n",
    "\n",
    "# save to pickle\n",
    "import pickle\n",
    "with open('scored.pkl', 'wb') as f:\n",
    "    pickle.dump(scored, f)"
   ]
  },
  {
   "cell_type": "code",
   "execution_count": 66,
   "metadata": {},
   "outputs": [
    {
     "data": {
      "text/plain": [
       "False"
      ]
     },
     "execution_count": 66,
     "metadata": {},
     "output_type": "execute_result"
    }
   ],
   "source": [
    "','.isalpha()"
   ]
  },
  {
   "cell_type": "code",
   "execution_count": 68,
   "metadata": {},
   "outputs": [
    {
     "data": {
      "text/plain": [
       "[(('special', 'effects'), 7399.650397993141),\n",
       " (('ever', 'seen'), 5975.185031974528),\n",
       " (('waste', 'time'), 4625.857295656097),\n",
       " (('low', 'budget'), 4471.6139617088065),\n",
       " (('looks', 'like'), 3242.9160305344794),\n",
       " (('high', 'school'), 2637.880234550541),\n",
       " (('years', 'ago'), 2294.221340387722),\n",
       " (('much', 'better'), 2290.987299592617),\n",
       " (('gon', 'na'), 2207.396013684298),\n",
       " (('main', 'character'), 2136.130037309281),\n",
       " (('year', 'old'), 2069.2581495752747),\n",
       " (('look', 'like'), 2004.8603860032704),\n",
       " (('even', 'though'), 1958.6687238731313),\n",
       " (('production', 'values'), 1933.540336442419),\n",
       " (('new', 'york'), 1927.7648055337806),\n",
       " (('one', 'worst'), 1648.5427599720213),\n",
       " (('ed', 'wood'), 1625.30715835149),\n",
       " (('martial', 'arts'), 1591.567001191247),\n",
       " (('character', 'development'), 1576.3995211242675),\n",
       " (('want', 'see'), 1426.8726885427775),\n",
       " (('stay', 'away'), 1424.5614153548238),\n",
       " (('pretty', 'much'), 1386.4211882831523),\n",
       " (('whole', 'thing'), 1298.0325768217915),\n",
       " (('read', 'book'), 1275.5294795599075),\n",
       " (('looked', 'like'), 1241.1935669770896),\n",
       " (('worth', 'watching'), 1240.3850958333178),\n",
       " (('star', 'trek'), 1196.765077248115),\n",
       " (('serial', 'killer'), 1193.7592282868775),\n",
       " (('camera', 'work'), 1174.6151059354831),\n",
       " (('outer', 'space'), 1149.6593999537088),\n",
       " (('soap', 'opera'), 1115.2456556825005),\n",
       " (('pretty', 'good'), 1115.1867241142436),\n",
       " (('plot', 'holes'), 1088.4592646090136),\n",
       " (('ca', 'believe'), 1060.841489522992),\n",
       " (('saving', 'grace'), 1047.2609110714643),\n",
       " (('jack', 'frost'), 1044.1809841645156),\n",
       " (('make', 'sense'), 1043.0452084467347),\n",
       " (('wan', 'na'), 1038.9209033319537),\n",
       " (('bad', 'acting'), 1010.7665640745136),\n",
       " (('chuck', 'norris'), 1007.1071718184031),\n",
       " (('blah', 'blah'), 1005.2118631491915),\n",
       " (('sandra', 'bullock'), 1003.5125835549554),\n",
       " (('blair', 'witch'), 1001.4468121802082),\n",
       " (('everyone', 'else'), 995.3788322130099),\n",
       " (('half', 'hour'), 985.9235539986073),\n",
       " (('ever', 'made'), 979.904108695609),\n",
       " (('science', 'fiction'), 975.5825829178608),\n",
       " (('video', 'store'), 974.3113441817871),\n",
       " (('piece', 'crap'), 968.2726487964511),\n",
       " (('even', 'worse'), 963.4419333354756),\n",
       " (('story', 'line'), 963.0051121033359),\n",
       " (('two', 'hours'), 958.8374452704946),\n",
       " (('many', 'times'), 957.6208133127603),\n",
       " (('los', 'angeles'), 952.9902502212644),\n",
       " (('hour', 'half'), 940.305907535414),\n",
       " (('looking', 'forward'), 929.27903395981),\n",
       " (('first', 'minutes'), 927.4402294320537),\n",
       " (('really', 'bad'), 927.2038732917937),\n",
       " (('star', 'wars'), 920.0214350143389),\n",
       " (('stock', 'footage'), 911.1407185390431),\n",
       " (('never', 'seen'), 906.3655112737838),\n",
       " (('anything', 'else'), 905.2377313282134),\n",
       " (('kung', 'fu'), 902.2537660941206),\n",
       " (('bad', 'guys'), 898.9995254984528),\n",
       " (('avoid', 'costs'), 894.2222765897952),\n",
       " (('real', 'life'), 893.8020479098225),\n",
       " (('tv', 'series'), 890.0542502472995),\n",
       " (('movies', 'ever'), 881.1930119098608),\n",
       " (('jim', 'carrey'), 875.200503586385),\n",
       " (('main', 'characters'), 871.8171752367375),\n",
       " (('ed', 'gein'), 852.4354148153159),\n",
       " (('van', 'dien'), 848.6614976003684),\n",
       " (('makes', 'sense'), 845.6715626261823),\n",
       " (('first', 'place'), 841.2530258158955),\n",
       " (('yet', 'another'), 832.263199590299),\n",
       " (('ten', 'minutes'), 832.0603632628809),\n",
       " (('five', 'minutes'), 831.2559258123932),\n",
       " (('takes', 'place'), 817.366476810187),\n",
       " (('years', 'later'), 814.3761891664572),\n",
       " (('eye', 'candy'), 808.1242072115374),\n",
       " (('comic', 'relief'), 804.3375351597648),\n",
       " (('action', 'scenes'), 803.847227717029),\n",
       " (('ha', 'ha'), 803.0963017593353),\n",
       " (('video', 'game'), 801.4569428628632),\n",
       " (('horror', 'movies'), 799.113724362458),\n",
       " (('ice', 'cream'), 798.0709823624305),\n",
       " (('fast', 'forward'), 787.2753543281042),\n",
       " (('comes', 'across'), 784.9414924710348),\n",
       " (('would', 'recommend'), 784.1517245675462),\n",
       " (('felt', 'like'), 783.3047779708581),\n",
       " (('horror', 'movie'), 779.1922073541955),\n",
       " (('puppet', 'master'), 771.7778798162719),\n",
       " (('uwe', 'boll'), 769.1146970509078),\n",
       " (('every', 'time'), 761.8573197368802),\n",
       " (('black', 'white'), 756.2536810791654),\n",
       " (('jackie', 'chan'), 753.7117499793757),\n",
       " (('subject', 'matter'), 752.0215983942113),\n",
       " (('good', 'thing'), 749.64193840649),\n",
       " (('worst', 'movies'), 748.396469739173),\n",
       " (('big', 'fan'), 737.7043623602976),\n",
       " (('fight', 'scenes'), 737.1174522664478),\n",
       " (('dennis', 'hopper'), 734.8063299618418),\n",
       " (('nothing', 'else'), 732.7712859919973),\n",
       " (('pulp', 'fiction'), 732.6539184531205),\n",
       " (('movie', 'ever'), 731.0676485395218),\n",
       " (('opening', 'credits'), 721.4190861252034),\n",
       " (('absolutely', 'nothing'), 719.8572936245488),\n",
       " (('seems', 'like'), 717.9390153323053),\n",
       " (('feels', 'like'), 712.2793683310271),\n",
       " (('van', 'sant'), 708.6140936708089),\n",
       " (('entertainment', 'value'), 706.4814437623116),\n",
       " (('worst', 'movie'), 700.4526624646151),\n",
       " (('everything', 'else'), 700.2781490684634),\n",
       " (('revolves', 'around'), 697.0819612364038),\n",
       " (('action', 'sequences'), 695.8883244508422),\n",
       " (('lucille', 'ball'), 694.9046110724565),\n",
       " (('van', 'helsing'), 691.9880463735558),\n",
       " (('sex', 'scenes'), 689.9619996056815),\n",
       " (('bottom', 'line'), 689.7549839267708),\n",
       " (('steven', 'seagal'), 689.0196847497783),\n",
       " (('bone', 'eater'), 688.6326890799434),\n",
       " (('poorly', 'written'), 675.1085833015396),\n",
       " (('one', 'thing'), 673.8907977059258),\n",
       " (('bruce', 'willis'), 671.1579521681194),\n",
       " (('box', 'office'), 670.5791305557066),\n",
       " (('waste', 'money'), 662.8872098320451),\n",
       " (('something', 'else'), 662.810929461468),\n",
       " (('got', 'ta'), 661.085733491987),\n",
       " (('fails', 'miserably'), 659.7849691708225),\n",
       " (('long', 'time'), 659.5266504326441),\n",
       " (('whole', 'movie'), 648.6343163275064),\n",
       " (('lonesome', 'dove'), 647.4985540593772),\n",
       " (('complete', 'waste'), 645.4774121588076),\n",
       " (('val', 'kilmer'), 643.0691967368473),\n",
       " (('rest', 'cast'), 638.6444551896784),\n",
       " (('let', 'alone'), 631.467363054497),\n",
       " (('hong', 'kong'), 628.7947652749467),\n",
       " (('jurassic', 'park'), 622.2530547006156),\n",
       " (('every', 'single'), 619.5766801449884),\n",
       " (('someone', 'else'), 619.1885945578957),\n",
       " (('slumber', 'party'), 614.5000767365817),\n",
       " (('vince', 'vaughn'), 613.5275640320294),\n",
       " (('small', 'town'), 613.1138934573659),\n",
       " (('watching', 'movie'), 611.6307338975889),\n",
       " (('matt', 'dillon'), 611.3746321909025),\n",
       " (('heart', 'darkness'), 610.3428468962461),\n",
       " (('towards', 'end'), 607.6937769977417),\n",
       " (('watch', 'movie'), 607.0066017232459),\n",
       " (('roger', 'corman'), 606.5992198894695),\n",
       " (('sounds', 'like'), 598.3325009066668),\n",
       " (('come', 'across'), 597.2062878575863),\n",
       " (('camera', 'angles'), 596.9949877566233),\n",
       " (('evan', 'almighty'), 591.7546912894885),\n",
       " (('laurel', 'hardy'), 589.8719538225153),\n",
       " (('supporting', 'cast'), 589.4710434659037),\n",
       " (('bad', 'guy'), 583.8725276499472),\n",
       " (('horror', 'film'), 583.7758670885341),\n",
       " (('piece', 'garbage'), 580.7625374774211),\n",
       " (('lance', 'henriksen'), 575.3312931230901),\n",
       " (('robin', 'williams'), 574.4659447799307),\n",
       " (('randy', 'quaid'), 570.4703688764744),\n",
       " (('young', 'woman'), 568.9276842902474),\n",
       " (('united', 'states'), 566.48288726707),\n",
       " (('put', 'together'), 565.267934695935),\n",
       " (('horror', 'films'), 564.7154277480191),\n",
       " (('time', 'money'), 561.1137583353526),\n",
       " (('van', 'damme'), 560.2493455663912),\n",
       " (('pam', 'grier'), 559.551023592959),\n",
       " (('late', 'night'), 558.9406416933439),\n",
       " (('first', 'time'), 553.7304836585954),\n",
       " (('never', 'heard'), 552.726538385182),\n",
       " (('last', 'night'), 551.1571400645342),\n",
       " (('films', 'ever'), 551.0313754998128),\n",
       " (('train', 'wreck'), 548.2509563894832),\n",
       " (('anyone', 'else'), 546.0886875657955),\n",
       " (('running', 'around'), 543.7008672094584),\n",
       " (('nowhere', 'near'), 543.2914589868388),\n",
       " (('slow', 'motion'), 542.6715071393859),\n",
       " (('julia', 'roberts'), 538.7274258219308),\n",
       " (('fell', 'asleep'), 537.9057839988869),\n",
       " (('hard', 'believe'), 536.3156358646193),\n",
       " (('little', 'bit'), 536.2285675105892),\n",
       " (('worth', 'seeing'), 535.8999746368476),\n",
       " (('sci', 'fi'), 535.4428080874277),\n",
       " (('year', 'olds'), 529.7614997473786),\n",
       " (('hulk', 'hogan'), 527.6933581019463),\n",
       " (('etc', 'etc'), 526.9874246484568),\n",
       " (('love', 'interest'), 523.5936568504129),\n",
       " (('glen', 'glenda'), 522.696828293896),\n",
       " (('aztec', 'mummy'), 521.0306809625833),\n",
       " (('big', 'screen'), 520.1002300778089),\n",
       " (('feel', 'like'), 519.2180350716444),\n",
       " (('full', 'moon'), 518.2925571903614),\n",
       " (('ca', 'help'), 514.4453647050785),\n",
       " (('must', 'say'), 514.363245615292),\n",
       " (('facial', 'expressions'), 511.7232742348326),\n",
       " (('thank', 'god'), 511.6979913150394),\n",
       " (('needless', 'say'), 507.63014158534014),\n",
       " (('back', 'forth'), 506.4034026010626),\n",
       " (('years', 'old'), 503.9179573384492),\n",
       " (('running', 'time'), 503.4325449398705),\n",
       " (('oh', 'yeah'), 502.42540799066705),\n",
       " (('every', 'scene'), 499.68366344604465),\n",
       " (('entire', 'movie'), 499.1770933290512),\n",
       " (('first', 'half'), 497.01694939345134),\n",
       " (('redeeming', 'qualities'), 496.13607732784413),\n",
       " (('civil', 'war'), 494.7061293854397),\n",
       " (('several', 'times'), 494.3001773032566),\n",
       " (('save', 'money'), 492.06586303263646),\n",
       " (('carrot', 'top'), 486.19194687367667),\n",
       " (('peter', 'cushing'), 486.1625863319512),\n",
       " (('many', 'people'), 482.8117828167367),\n",
       " (('last', 'minutes'), 479.4260721540031),\n",
       " (('chevy', 'chase'), 478.2971531010448),\n",
       " (('mystery', 'science'), 477.72465954515974),\n",
       " (('huge', 'fan'), 474.52699862696164),\n",
       " (('liv', 'tyler'), 474.1919000660453),\n",
       " (('casper', 'van'), 473.2761174230593),\n",
       " (('witch', 'project'), 472.9748435628522),\n",
       " (('painful', 'watch'), 472.8384988890689),\n",
       " (('spoiler', 'alert'), 472.4150099598541),\n",
       " (('could', 'easily'), 470.5439579475652),\n",
       " (('screen', 'time'), 468.61400977988393),\n",
       " (('adam', 'sandler'), 467.942691582871),\n",
       " (('kevin', 'spacey'), 467.55651745336),\n",
       " (('opening', 'scene'), 467.1395975809063),\n",
       " (('plan', 'outer'), 467.01564533375483),\n",
       " (('salman', 'khan'), 463.48948420099185),\n",
       " (('hours', 'life'), 463.1728758047361),\n",
       " (('oh', 'god'), 461.1552456311214),\n",
       " (('clint', 'eastwood'), 460.0371632641687),\n",
       " (('loch', 'ness'), 459.1865780946116),\n",
       " (('start', 'finish'), 458.31801854507455),\n",
       " (('could', 'done'), 455.5255590395333),\n",
       " (('horror', 'flick'), 452.89203561447107),\n",
       " (('suspension', 'disbelief'), 452.25527357829253),\n",
       " (('redeeming', 'quality'), 449.41051600896003),\n",
       " (('charlie', 'sheen'), 447.3224381955334),\n",
       " (('aeon', 'flux'), 447.2592650731013),\n",
       " (('saturday', 'night'), 442.11933464137917),\n",
       " (('good', 'job'), 440.9867235530106),\n",
       " (('falls', 'love'), 440.5946272897019),\n",
       " (('jim', 'wynorski'), 440.56461682097785),\n",
       " (('trying', 'make'), 437.4502767839898),\n",
       " (('carole', 'lombard'), 436.6159610842735),\n",
       " (('near', 'end'), 434.93956258129907),\n",
       " (('paint', 'dry'), 433.4936138186382),\n",
       " (('john', 'goodman'), 433.22318291813906),\n",
       " (('tv', 'show'), 432.3553079615764),\n",
       " (('tommy', 'lee'), 432.21631012506884),\n",
       " (('evil', 'dead'), 429.78632010331495),\n",
       " (('film', 'festival'), 429.4747413324787),\n",
       " (('film', 'makers'), 429.22591887490455),\n",
       " (('worst', 'films'), 428.7022638310313),\n",
       " (('dark', 'harvest'), 428.6857065800706),\n",
       " (('young', 'man'), 427.45958129232883),\n",
       " (('good', 'idea'), 425.8064944157702),\n",
       " (('vinnie', 'jones'), 425.6994773963677),\n",
       " (('skeleton', 'man'), 425.61546815731873),\n",
       " (('jane', 'austen'), 423.64339293967026),\n",
       " (('woody', 'allen'), 423.46450524759587),\n",
       " (('falls', 'flat'), 422.6487619963725),\n",
       " (('failed', 'miserably'), 422.0365079682707),\n",
       " (('politically', 'correct'), 421.42139044900694),\n",
       " (('done', 'better'), 421.40827602770435),\n",
       " (('apparent', 'reason'), 421.34493176307603),\n",
       " (('sex', 'scene'), 420.7199223694678),\n",
       " (('stephen', 'king'), 420.5630531109392),\n",
       " (('donald', 'sutherland'), 420.54329503154975),\n",
       " (('badly', 'written'), 419.7298274899438),\n",
       " (('mickey', 'rourke'), 417.6652162445713),\n",
       " (('cell', 'phone'), 417.41326429787284),\n",
       " (('take', 'place'), 417.3025620281787),\n",
       " (('without', 'doubt'), 417.04558730709624),\n",
       " (('great', 'deal'), 416.8264239611335),\n",
       " (('best', 'friend'), 416.442427384433),\n",
       " (('shirley', 'temple'), 416.3490532529322),\n",
       " (('michael', 'caine'), 414.5463696363802),\n",
       " (('title', 'brazil'), 414.06402424218624),\n",
       " (('errol', 'flynn'), 412.0647862044977),\n",
       " (('cast', 'members'), 411.5685818183374),\n",
       " (('silence', 'lambs'), 410.4624237695854),\n",
       " (('texas', 'chainsaw'), 408.10927565554243),\n",
       " (('old', 'man'), 407.95966520217587),\n",
       " (('one', 'point'), 407.6825731957946),\n",
       " (('beginning', 'end'), 406.82099271564823),\n",
       " (('bela', 'lugosi'), 406.6356707590452),\n",
       " (('could', 'possibly'), 406.57295378750746),\n",
       " (('seem', 'like'), 406.48424632441004),\n",
       " (('world', 'war'), 405.87477460190775),\n",
       " (('beyond', 'belief'), 404.70825945516196),\n",
       " (('acting', 'bad'), 403.63948566886575),\n",
       " (('northanger', 'abbey'), 402.86333008621096),\n",
       " (('wasting', 'time'), 402.2297760821715),\n",
       " (('delta', 'force'), 399.074229020659),\n",
       " (('lamberto', 'bava'), 397.3615844853119),\n",
       " (('feel', 'sorry'), 396.7144468400526),\n",
       " (('movies', 'like'), 396.35954288248115),\n",
       " (('plot', 'line'), 395.7081467821616),\n",
       " (('jeepers', 'creepers'), 395.5260273893871),\n",
       " (('even', 'remotely'), 395.36114584464667),\n",
       " (('mad', 'max'), 395.3470861388676),\n",
       " (('lead', 'actor'), 395.26339549131137),\n",
       " (('biggest', 'problem'), 389.7458579036178),\n",
       " (('alec', 'baldwin'), 389.50679532445383),\n",
       " (('wanted', 'see'), 389.49062750840113),\n",
       " (('motion', 'picture'), 389.3243957732564),\n",
       " (('point', 'view'), 389.31995811229626),\n",
       " (('years', 'earlier'), 388.9459043485166),\n",
       " (('femme', 'fatale'), 388.7578762414816),\n",
       " (('juan', 'p'), 388.4603796926285),\n",
       " (('soft', 'core'), 388.3396853226415),\n",
       " (('ridley', 'scott'), 386.2714271242994),\n",
       " (('badly', 'acted'), 386.12005680928155),\n",
       " (('bad', 'movies'), 384.9986764047055),\n",
       " (('fall', 'asleep'), 383.822402603696),\n",
       " (('monty', 'python'), 382.8528401277702),\n",
       " (('never', 'really'), 382.10737716588113),\n",
       " (('morgan', 'freeman'), 381.4349451700606),\n",
       " (('musical', 'score'), 380.4917505445765),\n",
       " (('mod', 'squad'), 380.44433571036217),\n",
       " (('love', 'story'), 380.3159490181635),\n",
       " (('citizen', 'kane'), 380.2434167702469),\n",
       " (('jess', 'franco'), 379.87554611249317),\n",
       " (('cheerleader', 'massacre'), 379.15748295160296),\n",
       " (('cast', 'crew'), 377.55685478643477),\n",
       " (('sound', 'effects'), 376.4956793747971),\n",
       " (('second', 'half'), 376.1876609443895),\n",
       " (('lord', 'rings'), 375.042643520131),\n",
       " (('law', 'enforcement'), 374.1166741120158),\n",
       " (('see', 'movie'), 373.32231453304604),\n",
       " (('come', 'close'), 373.22620510002815),\n",
       " (('plot', 'twists'), 372.2908560214542),\n",
       " (('take', 'seriously'), 372.22792169734146),\n",
       " (('steaming', 'pile'), 370.69793855474614),\n",
       " (('patrick', 'swayze'), 369.6758430688852),\n",
       " (('leading', 'man'), 369.3448692566868),\n",
       " (('drake', 'josh'), 368.74323570600944),\n",
       " (('theatrical', 'release'), 367.5716975554813),\n",
       " (('eric', 'roberts'), 366.70692587004083),\n",
       " (('best', 'thing'), 365.6568085635504),\n",
       " (('bad', 'movie'), 365.5613117415121),\n",
       " (('jamie', 'lynn'), 365.3660334445146),\n",
       " (('common', 'sense'), 364.3060206302403),\n",
       " (('ghost', 'hunters'), 364.246278265566),\n",
       " (('giovanni', 'ribisi'), 364.1216275681046),\n",
       " (('national', 'lampoon'), 363.1609736357358),\n",
       " (('ten', 'years'), 362.14594562270116),\n",
       " (('everyone', 'involved'), 361.44568893954687),\n",
       " (('chainsaw', 'massacre'), 361.4106604886135),\n",
       " (('iron', 'eagle'), 361.1375180835905),\n",
       " (('ca', 'imagine'), 360.9441041810631),\n",
       " (('indiana', 'jones'), 359.8085252157644),\n",
       " (('fifteen', 'minutes'), 359.3899757385929),\n",
       " (('possibly', 'worst'), 359.3696467694814),\n",
       " (('demi', 'moore'), 359.18546233488587),\n",
       " (('lon', 'chaney'), 358.8979571220694),\n",
       " (('poorly', 'acted'), 358.5832709503365),\n",
       " (('rob', 'lowe'), 358.49310795272555),\n",
       " (('mad', 'scientist'), 358.38571689346287),\n",
       " (('rated', 'r'), 356.8856660863009),\n",
       " (('contain', 'spoilers'), 356.30565361837483),\n",
       " (('could', 'go'), 355.8127627325566),\n",
       " (('david', 'lynch'), 355.7479388858433),\n",
       " (('something', 'like'), 355.73718663022726),\n",
       " (('get', 'shorty'), 355.16351039118774),\n",
       " (('made', 'sense'), 354.91871715570255),\n",
       " (('carlos', 'mencia'), 353.40352046464534),\n",
       " (('dvd', 'player'), 353.0565474963994),\n",
       " (('along', 'way'), 352.85379535677504),\n",
       " (('erika', 'eleniak'), 352.6952965273811),\n",
       " (('straight', 'video'), 352.60880860957064),\n",
       " (('romantic', 'comedy'), 352.26785438565264),\n",
       " (('lead', 'character'), 352.2009359778871),\n",
       " (('want', 'watch'), 351.5128640907738),\n",
       " (('mildly', 'amusing'), 351.099837503039),\n",
       " (('dee', 'snider'), 349.87289284284157),\n",
       " (('linnea', 'quigley'), 349.1124636272296),\n",
       " (('bill', 'murray'), 348.82538629883396),\n",
       " (('far', 'superior'), 348.7659361155267),\n",
       " (('yadda', 'yadda'), 348.76154764837275),\n",
       " (('science', 'theater'), 348.4727634150066),\n",
       " (('best', 'part'), 347.96980139134064),\n",
       " (('paranormal', 'state'), 347.8359312568729),\n",
       " (('steve', 'carell'), 347.8177608354968),\n",
       " (('like', 'plague'), 347.62002826473355),\n",
       " (('movie', 'made'), 347.3928408875778),\n",
       " (('almost', 'every'), 346.83641065438314),\n",
       " (('die', 'hard'), 346.49759647707765),\n",
       " (('las', 'vegas'), 346.33826075121794),\n",
       " (('chris', 'klein'), 345.5607516812113),\n",
       " (('tries', 'hard'), 344.7947870893573),\n",
       " (('written', 'directed'), 344.51043977542207),\n",
       " (('target', 'audience'), 343.65175284353626),\n",
       " (('party', 'massacre'), 343.3494434012357),\n",
       " (('wes', 'craven'), 342.66370307271745),\n",
       " (('gone', 'wind'), 341.7021201689967),\n",
       " (('mike', 'myers'), 341.69087865799304),\n",
       " (('make', 'sure'), 341.5260873434696),\n",
       " (('twenty', 'minutes'), 341.20468799419245),\n",
       " (('seemed', 'like'), 340.6410289941813),\n",
       " (('johnny', 'depp'), 340.2817880211442),\n",
       " (('spend', 'time'), 338.0600156699029),\n",
       " (('wesley', 'snipes'), 337.7184143541563),\n",
       " (('lot', 'better'), 337.4106334680092),\n",
       " (('linda', 'blair'), 336.94591854865905),\n",
       " (('worth', 'mentioning'), 336.4179679410567),\n",
       " (('along', 'lines'), 334.9511043902765),\n",
       " (('oh', 'well'), 334.27948216630034),\n",
       " (('let', 'say'), 334.0137767143236),\n",
       " (('rodney', 'dangerfield'), 333.9223717197965),\n",
       " (('sense', 'humor'), 333.6660516725307),\n",
       " (('pola', 'x'), 332.91894028801215),\n",
       " (('shower', 'scene'), 332.4069484771811),\n",
       " (('colin', 'firth'), 332.40013343406673),\n",
       " (('took', 'place'), 332.0954618651582),\n",
       " (('brad', 'pitt'), 331.9384576504657),\n",
       " (('ever', 'heard'), 331.2778626146404),\n",
       " (('san', 'francisco'), 330.5178083166965),\n",
       " (('go', 'back'), 330.3006972912957),\n",
       " (('next', 'time'), 329.7385042218519),\n",
       " (('bright', 'spot'), 329.725636985342),\n",
       " (('get', 'rid'), 329.3161816276857),\n",
       " (('charlize', 'theron'), 329.1900173837258),\n",
       " (('scantily', 'clad'), 328.8316900778639),\n",
       " (('olen', 'ray'), 328.5296969237727),\n",
       " (('john', 'wayne'), 328.49758788083363),\n",
       " (('get', 'back'), 328.40307012795125),\n",
       " (('one', 'scene'), 328.2109201599344),\n",
       " (('going', 'happen'), 328.02754824930366),\n",
       " (('much', 'less'), 327.5357437374824),\n",
       " (('high', 'hopes'), 326.66492579542654),\n",
       " (('steer', 'clear'), 324.6663660805359),\n",
       " (('minutes', 'life'), 324.1356042675753),\n",
       " (('mel', 'gibson'), 323.84373147926146),\n",
       " (('thought', 'would'), 323.6231976406824),\n",
       " (('christopher', 'walken'), 322.21606693178654),\n",
       " (('yeah', 'right'), 320.3553571243009),\n",
       " (('oh', 'dear'), 319.4701367824888),\n",
       " (('pun', 'intended'), 319.4189013243882),\n",
       " (('twilight', 'zone'), 319.4162908305021),\n",
       " (('harrison', 'ford'), 319.25895619117966),\n",
       " (('cat', 'hat'), 319.1530619646188),\n",
       " (('came', 'across'), 317.86771753717784),\n",
       " (('ca', 'even'), 317.8018986813065),\n",
       " (('fun', 'watch'), 317.7032600040386),\n",
       " (('saw', 'movie'), 317.34749274041326),\n",
       " (('richard', 'gere'), 317.1114185351078),\n",
       " (('quentin', 'tarantino'), 316.5090430717879),\n",
       " (('far', 'away'), 316.2420235845745),\n",
       " (('saudi', 'arabia'), 315.920269010562),\n",
       " (('eva', 'mendes'), 315.39091482447856),\n",
       " (('visual', 'effects'), 314.76165022468535),\n",
       " (('things', 'happen'), 314.6374739770193),\n",
       " (('komodo', 'cobra'), 314.60604191669665),\n",
       " (('gus', 'van'), 313.6977322147697),\n",
       " (('f', 'k'), 313.12966451432453),\n",
       " (('bill', 'paxton'), 311.8419601125578),\n",
       " (('young', 'girl'), 311.5786367334473),\n",
       " (('positive', 'reviews'), 311.00972449318937),\n",
       " (('piece', 'trash'), 309.47112619918437),\n",
       " (('million', 'dollars'), 308.1092909505913),\n",
       " (('true', 'story'), 307.85874085248224),\n",
       " (('female', 'lead'), 307.84448204323655),\n",
       " (('joe', 'estevez'), 307.7121475404424),\n",
       " (('twists', 'turns'), 307.1889670939661),\n",
       " (('watched', 'movie'), 307.1761761242463),\n",
       " (('anywhere', 'near'), 306.1289312304456),\n",
       " (('native', 'american'), 306.1029124971023),\n",
       " (('comedy', 'central'), 305.8099809054256),\n",
       " (('blackwater', 'valley'), 305.29285999518675),\n",
       " (('car', 'chase'), 304.749759167082),\n",
       " (('film', 'industry'), 304.0239914786577),\n",
       " (('fawlty', 'towers'), 303.71777031449056),\n",
       " (('human', 'beings'), 303.2065295063093),\n",
       " (('tim', 'robbins'), 302.65096711985075),\n",
       " (('lead', 'role'), 301.79912899694057),\n",
       " (('b', 'movies'), 301.5219052956676),\n",
       " (('movie', 'film'), 301.227007720768),\n",
       " (('well', 'done'), 301.03119376577695),\n",
       " (('rest', 'stop'), 300.84219099079917),\n",
       " (('nothing', 'new'), 300.54786831414594),\n",
       " (('norma', 'shearer'), 300.3818651508011),\n",
       " (('truly', 'awful'), 300.15810461120026),\n",
       " (('basic', 'premise'), 300.1470579693842),\n",
       " (('meet', 'spartans'), 300.145459426355),\n",
       " (('anne', 'heche'), 299.62164351933706),\n",
       " (('unintentionally', 'funny'), 299.1296381969149),\n",
       " (('phone', 'calls'), 298.4712581497672),\n",
       " (('stay', 'alive'), 298.42086818273714),\n",
       " (('air', 'force'), 298.1606655101307),\n",
       " (('norman', 'bates'), 298.1507814100455),\n",
       " (('credits', 'rolled'), 297.3379675968942),\n",
       " (('throughout', 'film'), 297.2189706591324),\n",
       " (('ed', 'harris'), 296.46572214515624),\n",
       " (('comanche', 'moon'), 296.02336521984495),\n",
       " (('alfred', 'hitchcock'), 295.2474840124049),\n",
       " (('suspend', 'disbelief'), 294.58831614165564),\n",
       " (('far', 'worst'), 293.95868838533903),\n",
       " (('close', 'ups'), 293.8539445401779),\n",
       " (('many', 'ways'), 293.3883269922651),\n",
       " (('sherlock', 'holmes'), 293.1596430562123),\n",
       " (('da', 'vinci'), 292.9654052659373),\n",
       " (('could', 'help'), 292.7613406477108),\n",
       " (('julianne', 'moore'), 292.3958577275547),\n",
       " (('bruce', 'almighty'), 292.2824569253274),\n",
       " (('police', 'officer'), 291.9992598938531),\n",
       " (('cutting', 'room'), 291.8542515551133),\n",
       " (('would', 'better'), 291.6297346677873),\n",
       " (('throughout', 'entire'), 291.25967825373505),\n",
       " (('comic', 'book'), 291.0966026833592),\n",
       " (('whole', 'lot'), 290.03440304196675),\n",
       " (('lee', 'jones'), 289.940404916828),\n",
       " (('johnson', 'county'), 289.3220642797006),\n",
       " (('tim', 'burton'), 288.4397840309501),\n",
       " (('george', 'kennedy'), 287.90604526593347),\n",
       " (('alien', 'predator'), 287.8259448752005),\n",
       " (('donald', 'pleasance'), 287.7017795079191),\n",
       " (('bad', 'taste'), 287.58995749985456),\n",
       " (('plus', 'side'), 287.2469253738733),\n",
       " (('could', 'get'), 287.11868822988646),\n",
       " (('bottom', 'barrel'), 287.1168110081717),\n",
       " (('navy', 'seals'), 287.04822030615486),\n",
       " (('give', 'break'), 285.765771798262),\n",
       " (('jackie', 'mason'), 284.6318828383654),\n",
       " (('production', 'value'), 284.4126016969816),\n",
       " (('ja', 'rule'), 284.31131733445386),\n",
       " (('well', 'known'), 284.2211147414376),\n",
       " (('brain', 'cells'), 283.84513613602246),\n",
       " (('austin', 'powers'), 283.7482092210333),\n",
       " (('like', 'watching'), 283.414288729658),\n",
       " (('fred', 'olen'), 282.1092382138945),\n",
       " (('theme', 'song'), 282.0057636302279),\n",
       " (('absolutely', 'terrible'), 281.64190392975127),\n",
       " (('worst', 'ever'), 281.5159495897763),\n",
       " (('new', 'groove'), 281.4445261161851),\n",
       " (('thank', 'goodness'), 280.95724176004705),\n",
       " (('keanu', 'reeves'), 280.9088501236326),\n",
       " (('really', 'wanted'), 280.61802563230725),\n",
       " (('main', 'problem'), 280.2561134375087),\n",
       " (('go', 'see'), 279.32842103415487),\n",
       " (('bargain', 'bin'), 278.9545522193349),\n",
       " (('might', 'well'), 278.9322769774002),\n",
       " (('orson', 'welles'), 278.7469185505873),\n",
       " (('new', 'orleans'), 278.00670898746506),\n",
       " (('little', 'girl'), 277.9837580342952),\n",
       " (('acting', 'terrible'), 277.8935165233586),\n",
       " (('terrible', 'acting'), 277.8935165233586),\n",
       " (('meg', 'ryan'), 277.44575751417847),\n",
       " (('rental', 'store'), 277.352005334),\n",
       " (('end', 'result'), 277.1358379548824),\n",
       " (('fast', 'forwarding'), 277.11656543876217),\n",
       " (('would', 'expect'), 276.8008709394844),\n",
       " (('poorly', 'done'), 276.7414324266142),\n",
       " (('rest', 'movie'), 276.57481268082626),\n",
       " (('ca', 'say'), 275.7452377090948),\n",
       " (('total', 'waste'), 275.6633256737196),\n",
       " (('wish', 'could'), 275.56393300411344),\n",
       " (('cameron', 'mitchell'), 275.31246868620696),\n",
       " (('bounty', 'hunter'), 275.132966818267),\n",
       " (('pretty', 'bad'), 274.36667168095835),\n",
       " (('went', 'see'), 274.08617475374604),\n",
       " (('acting', 'horrible'), 274.08349919233626),\n",
       " (('feature', 'length'), 273.95374842975866),\n",
       " (('quite', 'possibly'), 273.6814462684483),\n",
       " (('fbi', 'agent'), 273.34805174606953),\n",
       " (('cup', 'tea'), 272.1830739340725),\n",
       " (('angelina', 'jolie'), 271.9635909818066),\n",
       " (('robert', 'redford'), 271.96344586047576),\n",
       " (('twenty', 'years'), 271.96251278438297),\n",
       " (('get', 'wrong'), 271.32369680960585),\n",
       " (('far', 'cry'), 271.25099855038826),\n",
       " (('killing', 'spree'), 271.2114594363214),\n",
       " (('rod', 'steiger'), 271.06493345561216),\n",
       " (('go', 'ahead'), 270.41712321578746),\n",
       " (('complete', 'lack'), 269.6640327992371),\n",
       " (('tom', 'selleck'), 268.94296474505256),\n",
       " (('computer', 'generated'), 268.8617845511095),\n",
       " (('acts', 'like'), 268.83231569496),\n",
       " (('absolute', 'worst'), 268.03641244632433),\n",
       " (('would', 'make'), 267.6960322922191),\n",
       " (('horrible', 'acting'), 267.679648782014),\n",
       " (('film', 'movie'), 267.3766725638922),\n",
       " (('source', 'material'), 267.08174061708166),\n",
       " (('snake', 'island'), 266.7942464338591),\n",
       " (('john', 'travolta'), 266.58398572058394),\n",
       " (('poorly', 'executed'), 266.46331890689027),\n",
       " (('leading', 'lady'), 266.0182633852053),\n",
       " (('funny', 'moments'), 265.2695200216491),\n",
       " (('sleepy', 'hollow'), 265.25221346713323),\n",
       " (('udo', 'kier'), 264.4875338216054),\n",
       " (('heaven', 'gate'), 264.48145958172205),\n",
       " (('new', 'zealand'), 264.4598509208413),\n",
       " (('paz', 'vega'), 264.33919560682966),\n",
       " (('one', 'favorite'), 264.06230847618525),\n",
       " (('every', 'level'), 263.8647329778944),\n",
       " (('worst', 'film'), 263.57324704788243),\n",
       " (('completely', 'different'), 263.40267771530716),\n",
       " (('melanie', 'griffith'), 263.24926249155556),\n",
       " (('stan', 'laurel'), 262.8017523787588),\n",
       " (('joseph', 'conrad'), 262.7904490485133),\n",
       " (('taste', 'mouth'), 262.75860971174694),\n",
       " (('lynn', 'spears'), 262.6332269677662),\n",
       " (('eddie', 'murphy'), 262.4664738565871),\n",
       " (('helen', 'mirren'), 262.41655360887586),\n",
       " (('red', 'sonja'), 262.3306440777441),\n",
       " (('anthony', 'perkins'), 262.01277862146276),\n",
       " (('josh', 'hartnett'), 261.5996276231547),\n",
       " (('never', 'explained'), 261.2977749223055),\n",
       " (('sean', 'penn'), 260.93073666766225),\n",
       " (('living', 'dead'), 260.4636631185691),\n",
       " (('poor', 'acting'), 260.164963789352),\n",
       " (('plain', 'stupid'), 259.87835018839877),\n",
       " (('abbott', 'costello'), 259.5734434203943),\n",
       " (('rest', 'film'), 259.3422123811029),\n",
       " (('ninety', 'minutes'), 259.31889193085425),\n",
       " (('larry', 'bishop'), 259.28317877077455),\n",
       " (('present', 'day'), 259.0693793146919),\n",
       " (('kath', 'kim'), 259.0039622167528),\n",
       " (('fight', 'scene'), 258.7504184270932),\n",
       " (('fall', 'love'), 258.2806908366306),\n",
       " (('sesame', 'street'), 257.718382044738),\n",
       " (('meryl', 'streep'), 257.5497183195671),\n",
       " (('tom', 'cruise'), 257.216071909218),\n",
       " (('writer', 'director'), 257.0857088537268),\n",
       " (('guilty', 'pleasure'), 256.88295868890987),\n",
       " (('half', 'way'), 256.8692508548936),\n",
       " (('vanessa', 'redgrave'), 256.86506733409374),\n",
       " (('york', 'city'), 256.52991595169425),\n",
       " (('myrna', 'loy'), 256.1188625560293),\n",
       " (('gratuitous', 'nudity'), 255.81643083392822),\n",
       " (('must', 'admit'), 255.59242492848483),\n",
       " (('leonardo', 'dicaprio'), 254.94733877123747),\n",
       " (('root', 'canal'), 254.69242219341058),\n",
       " (('burt', 'reynolds'), 254.63680506519268),\n",
       " (('paying', 'attention'), 254.2298840186439),\n",
       " (('suffice', 'say'), 253.54307228239236),\n",
       " (('happy', 'ending'), 253.23250730002974),\n",
       " (('part', 'movie'), 251.24980308150757),\n",
       " (('starship', 'troopers'), 251.10022518020924),\n",
       " (('despite', 'fact'), 251.0597951645443),\n",
       " (('blood', 'gore'), 250.80799872423052),\n",
       " (('really', 'really'), 250.38587360195234),\n",
       " (('cover', 'art'), 250.31075631094546),\n",
       " (('little', 'boy'), 249.67978164706884),\n",
       " (('laura', 'linney'), 249.31556158080753),\n",
       " (('makes', 'wonder'), 249.07112569400635),\n",
       " (('private', 'ryan'), 249.0257149186281),\n",
       " (('walking', 'around'), 248.9022007367003),\n",
       " (('ron', 'howard'), 248.8968466225583),\n",
       " (('never', 'mind'), 248.7730820470794),\n",
       " (('rik', 'mayall'), 248.62298604882113),\n",
       " (('piece', 'junk'), 248.176626227947),\n",
       " (('every', 'episode'), 247.84991881865272),\n",
       " (('dvd', 'cover'), 247.6245948725153),\n",
       " (('fbi', 'agents'), 247.61494741093787),\n",
       " (('catherine', 'deneuve'), 247.3450406322),\n",
       " (('young', 'boy'), 247.07163099305356),\n",
       " (('total', 'lack'), 246.42434939607386),\n",
       " (('final', 'scene'), 245.66408747089045),\n",
       " (('dyan', 'cannon'), 245.65338912777014),\n",
       " (('elmore', 'leonard'), 245.05715913656556),\n",
       " (('money', 'back'), 244.99452300421535),\n",
       " (('kept', 'waiting'), 244.77717702717632),\n",
       " (('throughout', 'movie'), 243.91063148998578),\n",
       " (('drug', 'dealers'), 243.6048722945066),\n",
       " (('would', 'never'), 243.54462432628108),\n",
       " (('south', 'park'), 242.98664197104654),\n",
       " (('many', 'levels'), 242.88337248115135),\n",
       " (('thomas', 'howell'), 242.84293640621425),\n",
       " (('let', 'start'), 242.08539278828692),\n",
       " (('make', 'fun'), 241.71938478228657),\n",
       " (('actors', 'actresses'), 241.28841056397596),\n",
       " (('space', 'station'), 241.13559899948524),\n",
       " (('stay', 'awake'), 241.06085670710308),\n",
       " (('falling', 'asleep'), 240.74068245939105),\n",
       " (('dead', 'bodies'), 240.72514323365456),\n",
       " (('films', 'like'), 240.66181218629885),\n",
       " (('worth', 'time'), 240.2370645885245),\n",
       " (('hold', 'candle'), 239.80588044801962),\n",
       " (('plods', 'along'), 239.57813989520207),\n",
       " (('blade', 'runner'), 238.84816304180853),\n",
       " (('kane', 'hodder'), 238.76275182174058),\n",
       " (('james', 'bond'), 238.55923279393969),\n",
       " (('magnificent', 'seven'), 238.3148291171599),\n",
       " (('acting', 'skills'), 237.7017835836108),\n",
       " (('happy', 'days'), 237.09489373799929),\n",
       " (('worst', 'part'), 237.0800604634503),\n",
       " (('entire', 'film'), 236.89310294812367),\n",
       " (('trying', 'get'), 236.70348895226027),\n",
       " (('front', 'camera'), 236.41304757353706),\n",
       " (('janet', 'leigh'), 236.3822216392641),\n",
       " (('say', 'least'), 236.0188179396284),\n",
       " (('robert', 'englund'), 235.85329329363594),\n",
       " (('sound', 'like'), 235.59742735978358),\n",
       " (('irwin', 'allen'), 235.29729464646786),\n",
       " (('bette', 'midler'), 235.27468709072258),\n",
       " (('anna', 'paquin'), 235.08301085143836),\n",
       " (('recommend', 'anyone'), 234.91891524079466),\n",
       " (('robert', 'wagner'), 234.8141357659348),\n",
       " (('one', 'liners'), 234.79024312558937),\n",
       " (('gene', 'hackman'), 234.28784199377068),\n",
       " (('pay', 'attention'), 234.22165210491102),\n",
       " (('row', 'row'), 234.21057485648572),\n",
       " (('mark', 'hamill'), 233.94649405891178),\n",
       " (('taken', 'seriously'), 233.92374994041924),\n",
       " (('scifi', 'channel'), 233.68700978544854),\n",
       " (('pink', 'floyd'), 233.58185387200712),\n",
       " (('paul', 'newman'), 233.55730347005093),\n",
       " (('jet', 'li'), 233.36898635778348),\n",
       " (('academy', 'award'), 233.19239749892895),\n",
       " (('diane', 'arbus'), 233.0613205137843),\n",
       " (('sounded', 'like'), 232.76785016784368),\n",
       " (('end', 'credits'), 232.5528028798252),\n",
       " (('make', 'movie'), 232.3252123154145),\n",
       " (('ca', 'remember'), 231.77660406724243),\n",
       " (('give', 'credit'), 231.6671422103255),\n",
       " (('film', 'ever'), 231.60846128390074),\n",
       " (('battlestar', 'galactica'), 231.19218368308967),\n",
       " (('many', 'things'), 231.02103159616382),\n",
       " (('michael', 'myers'), 230.92002127377353),\n",
       " (('trying', 'figure'), 230.86707577574956),\n",
       " (('really', 'care'), 230.7843782159996),\n",
       " (('mildly', 'entertaining'), 230.2725999524365),\n",
       " (('lack', 'thereof'), 229.80571165177614),\n",
       " (('uma', 'thurman'), 229.76298166513507),\n",
       " (('valley', 'exorcism'), 229.54919020557963),\n",
       " (('boarding', 'school'), 229.4433961530308),\n",
       " (('elementary', 'school'), 229.4433961530308),\n",
       " (('takes', 'cake'), 229.43204685587244),\n",
       " (('dolph', 'lundgren'), 229.327397552889),\n",
       " (('without', 'trace'), 229.21496172959618),\n",
       " (('dick', 'jane'), 229.00849410294464),\n",
       " (('never', 'get'), 228.91790540522712),\n",
       " (('sid', 'haig'), 228.91343167446175),\n",
       " (('billy', 'zane'), 228.82454068148814),\n",
       " (('local', 'video'), 228.3634330534859),\n",
       " (('scott', 'thomas'), 227.60184763862918),\n",
       " (('credits', 'roll'), 227.27024825324477),\n",
       " (('acting', 'ability'), 227.13624664735005),\n",
       " (('vice', 'versa'), 226.81875394829135),\n",
       " (('kris', 'kristofferson'), 226.74598737568982),\n",
       " (('dominique', 'swain'), 226.56237568526942),\n",
       " (('mentally', 'challenged'), 226.278062794585),\n",
       " (('really', 'good'), 226.09542999484955),\n",
       " (('war', 'ii'), 225.66390969169623),\n",
       " (('run', 'around'), 225.59429984245222),\n",
       " (('forced', 'watch'), 224.96835651106338),\n",
       " (('haunted', 'house'), 224.76613258279846),\n",
       " (('saving', 'private'), 224.73396954844608),\n",
       " (('whole', 'film'), 224.69803991200004),\n",
       " (('especially', 'since'), 224.62105906770233),\n",
       " (('redeeming', 'feature'), 224.47249848014758),\n",
       " (('william', 'katt'), 224.4172895923623),\n",
       " (('margaret', 'mitchell'), 224.2835278552871),\n",
       " (('enough', 'make'), 223.9819819377645),\n",
       " (('tim', 'curry'), 223.94623401160484),\n",
       " (('sam', 'raimi'), 223.93925224545399),\n",
       " (('michael', 'jackson'), 223.69388609978037),\n",
       " (('wild', 'rebels'), 223.26908673691256),\n",
       " (('production', 'company'), 223.25369627421546),\n",
       " (('committed', 'suicide'), 222.95077565578882),\n",
       " (('gave', 'us'), 222.929973109566),\n",
       " (('reservoir', 'dogs'), 222.81887516691896),\n",
       " (('movie', 'starts'), 222.62716312462388),\n",
       " (('cameron', 'diaz'), 222.56523489288574),\n",
       " (('dan', 'aykroyd'), 222.50857425424633),\n",
       " (('huge', 'disappointment'), 222.4541377184041),\n",
       " (('scooby', 'doo'), 222.4533312457388),\n",
       " (('karen', 'black'), 222.34557535385719),\n",
       " (('left', 'behind'), 222.21829729560727),\n",
       " (('spend', 'money'), 222.20800897945188),\n",
       " (('nothing', 'special'), 222.14097745172674),\n",
       " (('small', 'role'), 221.89640383824934),\n",
       " (('set', 'pieces'), 221.84311549236173),\n",
       " (('prime', 'example'), 221.6339093212422),\n",
       " (('rise', 'undead'), 221.38061163849588),\n",
       " (('opening', 'sequence'), 221.34099271632425),\n",
       " (('one', 'day'), 221.23471692576803),\n",
       " (('puffy', 'chair'), 221.19572589530577),\n",
       " (('continuity', 'errors'), 221.1346489226051),\n",
       " (('product', 'placement'), 220.83868962657075),\n",
       " (('william', 'shatner'), 220.60241441006298),\n",
       " (('serial', 'killers'), 220.33359209105825),\n",
       " (('b', 'movie'), 220.19352412275077),\n",
       " (('god', 'knows'), 220.05146001286383),\n",
       " (('hot', 'chick'), 219.30722334029093),\n",
       " (('acting', 'poor'), 219.21785143432777),\n",
       " (('could', 'believe'), 219.1478089585911),\n",
       " (('omar', 'epps'), 218.85913914847794),\n",
       " (('vincent', 'price'), 218.7940073898047),\n",
       " (('taking', 'place'), 218.63406404891936),\n",
       " (('alain', 'delon'), 218.5914190695541),\n",
       " (('annette', 'bening'), 217.93434394339067),\n",
       " (('give', 'us'), 217.70742205671968),\n",
       " (('brinke', 'stevens'), 217.47078040624248),\n",
       " (('clark', 'gable'), 216.97258710325627),\n",
       " (('full', 'holes'), 216.96373548846637),\n",
       " (('nothing', 'happens'), 216.96230262350454),\n",
       " (('act', 'like'), 216.88675624997126),\n",
       " (('far', 'better'), 216.5123712781143),\n",
       " (('social', 'commentary'), 216.42237412867414),\n",
       " (('snakes', 'train'), 215.70345497412507),\n",
       " (('save', 'day'), 215.38754637876175),\n",
       " (('executive', 'producer'), 215.3284119415121),\n",
       " (('hedy', 'lamarr'), 215.2618337411472),\n",
       " (('reading', 'reviews'), 215.10428480209848),\n",
       " (('good', 'enough'), 214.89418946562805),\n",
       " (('ronald', 'reagan'), 214.87204770773653),\n",
       " (('forward', 'button'), 214.8001636969102),\n",
       " (('could', 'tell'), 214.7686555859783),\n",
       " (('machine', 'guns'), 214.55798306803842),\n",
       " (('least', 'bit'), 214.54084409382298),\n",
       " (('killer', 'snowman'), 214.32588840110327),\n",
       " (('christopher', 'lee'), 214.1958869763343),\n",
       " (('non', 'existent'), 214.10121442055686),\n",
       " (('open', 'mind'), 214.05949349510618),\n",
       " (('term', 'loosely'), 213.94682707601578),\n",
       " (('lion', 'king'), 213.87158516119732),\n",
       " (('charles', 'bronson'), 213.77876939835429),\n",
       " (('three', 'stooges'), 213.5649718420146),\n",
       " (('room', 'floor'), 213.14367449086535),\n",
       " (('use', 'term'), 213.11879838746546),\n",
       " (('watching', 'film'), 213.09544255602586),\n",
       " (('van', 'cleef'), 212.91520284118056),\n",
       " (('high', 'expectations'), 212.55936745840074),\n",
       " (('joel', 'schumacher'), 212.37667209920482),\n",
       " (('et', 'al'), 212.29030707128427),\n",
       " (('carbon', 'copy'), 212.2125016650437),\n",
       " (('college', 'student'), 212.02007768741058),\n",
       " (('video', 'games'), 211.97835970253385),\n",
       " (('f', 'ing'), 211.55314469322172),\n",
       " (('rock', 'roll'), 211.53589135143193),\n",
       " (('quite', 'good'), 211.33139778569404),\n",
       " (('gives', 'us'), 211.04148952374726),\n",
       " (('good', 'laugh'), 210.96804944403465),\n",
       " (('one', 'greatest'), 210.53326292550275),\n",
       " (('middle', 'nowhere'), 210.46776384219166),\n",
       " (('none', 'characters'), 210.27388050310884),\n",
       " (('could', 'make'), 210.19894333721845),\n",
       " (('virtual', 'reality'), 210.17952937655429),\n",
       " (('facial', 'expression'), 209.92393780897507),\n",
       " (('nicole', 'kidman'), 209.91636266169445),\n",
       " (('american', 'werewolf'), 209.8080486893848),\n",
       " (('time', 'machine'), 209.7706616443607),\n",
       " (('tom', 'hanks'), 209.29507138815575),\n",
       " (('finished', 'watching'), 209.173088438588),\n",
       " (('yvette', 'nipar'), 208.83213394654882),\n",
       " (('many', 'years'), 208.78701384973877),\n",
       " (('polar', 'express'), 208.6565763611447),\n",
       " (('jeremy', 'irons'), 208.54688379842412),\n",
       " (('bea', 'arthur'), 208.42022118561127),\n",
       " (('jodie', 'foster'), 208.39422140927604),\n",
       " (('vinci', 'code'), 208.26277318036676),\n",
       " (('gets', 'killed'), 208.23404036430094),\n",
       " (('car', 'chases'), 208.19725555965448),\n",
       " (('forward', 'seeing'), 208.12020896698982),\n",
       " (('savage', 'intruder'), 207.93972967600843),\n",
       " (('come', 'back'), 207.90422725559944),\n",
       " (('unintentionally', 'hilarious'), 207.52178479698497),\n",
       " (('lead', 'actress'), 207.3868896676321),\n",
       " (('top', 'billing'), 206.99987913394926),\n",
       " (('plot', 'twist'), 206.9966883709589),\n",
       " (('robert', 'montgomery'), 206.81591150499784),\n",
       " (('sean', 'bean'), 206.81361916302768),\n",
       " (('could', 'see'), 206.22447697156153),\n",
       " (('ghoulies', 'iv'), 206.20322354434276),\n",
       " (('closing', 'credits'), 206.1611434002227),\n",
       " (('bijou', 'phillips'), 206.14163452345215),\n",
       " (('bad', 'enough'), 206.08957688070436),\n",
       " (('bought', 'dvd'), 206.04839737027947),\n",
       " (('god', 'sake'), 206.04437190683646),\n",
       " (('elm', 'street'), 205.99908471378643),\n",
       " (('sigourney', 'weaver'), 205.71569844882862),\n",
       " (('within', 'first'), 205.65474805780406),\n",
       " (('ben', 'affleck'), 205.3872749355237),\n",
       " (('michael', 'pare'), 205.11229526464757),\n",
       " (('better', 'job'), 204.86194960080263),\n",
       " (('george', 'clooney'), 204.79223609631688),\n",
       " (('million', 'dollar'), 204.69570414752351),\n",
       " (('miranda', 'cosgrove'), 204.60483855364097),\n",
       " (('good', 'movie'), 204.24051581519365),\n",
       " (('sean', 'connery'), 204.23975035768476),\n",
       " (('modern', 'day'), 204.21451782187515),\n",
       " (('michelle', 'gellar'), 204.19226425586916),\n",
       " (('global', 'warming'), 204.11840366226423),\n",
       " (('go', 'watch'), 203.98187206448705),\n",
       " (('music', 'score'), 203.94521176630406),\n",
       " (('english', 'patient'), 203.8208399367769),\n",
       " (('mel', 'brooks'), 203.71741387244091),\n",
       " (('slow', 'moving'), 203.54010263550788),\n",
       " (('christopher', 'lambert'), 202.9482846532724),\n",
       " (('sense', 'whatsoever'), 202.918671711582),\n",
       " (('andy', 'milligan'), 202.90089415624803),\n",
       " (('another', 'reviewer'), 202.821733680893),\n",
       " (('john', 'malkovich'), 202.71900326296785),\n",
       " (('super', 'troopers'), 202.35353279152451),\n",
       " (('yul', 'brynner'), 202.33048528051995),\n",
       " (('even', 'bother'), 202.32778473028765),\n",
       " (('akshay', 'kumar'), 202.12775798247753),\n",
       " (('would', 'probably'), 202.08978053345714),\n",
       " (('murder', 'mystery'), 202.00579675379836),\n",
       " (('unless', 'want'), 201.98880828850957),\n",
       " (('oh', 'wait'), 201.96723139140028),\n",
       " (('far', 'fetched'), 201.95724729425396),\n",
       " (('miles', 'away'), 201.4857247677605),\n",
       " (('lil', 'pimp'), 201.21442171960254),\n",
       " (('care', 'less'), 201.19242709086933),\n",
       " (('hard', 'follow'), 201.09376282528956),\n",
       " (('fast', 'forwarded'), 200.82780303755447),\n",
       " (('trying', 'hard'), 200.5381927515905),\n",
       " (('chick', 'flick'), 200.0723562247596),\n",
       " (('jack', 'palance'), 199.96196257706748),\n",
       " (('lou', 'diamond'), 199.939072048347),\n",
       " (('roger', 'ebert'), 199.81254092954947),\n",
       " (('perfect', 'example'), 199.53670305703832),\n",
       " (('romeo', 'juliet'), 199.47817607707975),\n",
       " (('end', 'movie'), 199.41185261713247),\n",
       " (('one', 'dimensional'), 199.13487817287043),\n",
       " (('many', 'others'), 198.81519656836747),\n",
       " (('jeff', 'morrow'), 198.60028176721337),\n",
       " (('road', 'trip'), 198.52486271889055),\n",
       " (('thing', 'say'), 198.51240075009537),\n",
       " (('american', 'pie'), 198.47437945048134),\n",
       " (('get', 'started'), 198.29791109571408),\n",
       " (('camp', 'blood'), 198.04867762020655),\n",
       " (('dean', 'koontz'), 197.98859803874225),\n",
       " (('pearl', 'harbor'), 197.8352126049605),\n",
       " (('laugh', 'loud'), 197.7369558818509),\n",
       " (('director', 'writer'), 197.6999170233541),\n",
       " (('shannon', 'tweed'), 197.67270007817535),\n",
       " (('gary', 'cooper'), 197.6034304853173),\n",
       " (('movie', 'bad'), 197.4966746073743),\n",
       " (('bad', 'bad'), 197.4613364538393),\n",
       " (('joanne', 'whalley'), 197.27728377817084),\n",
       " (('awful', 'awful'), 196.7404996964791),\n",
       " (('matters', 'worse'), 196.70224401251187),\n",
       " (('solomon', 'kane'), 196.65022103182025),\n",
       " (('sophie', 'marceau'), 196.2339055358675),\n",
       " (('fall', 'flat'), 195.93114645339793),\n",
       " (('steven', 'segal'), 195.80839340728556),\n",
       " (('couple', 'hours'), 195.79116863787712),\n",
       " (('read', 'reviews'), 195.48800513535494),\n",
       " (('ex', 'machina'), 195.25662991047906),\n",
       " (('big', 'disappointment'), 195.1971103521091),\n",
       " (('rented', 'movie'), 195.19603712938462),\n",
       " (('probably', 'worst'), 194.99892078594763),\n",
       " (('nile', 'perch'), 194.99529174421676),\n",
       " (('donald', 'pleasence'), 194.74114179845083),\n",
       " (('rutger', 'hauer'), 194.72505023792314),\n",
       " (('christina', 'ricci'), 194.69401069449268),\n",
       " (('gone', 'wild'), 194.66731487376654),\n",
       " (('richard', 'pryor'), 194.51499230079162),\n",
       " (('many', 'scenes'), 194.37032466274786),\n",
       " (('background', 'music'), 193.19778239415172),\n",
       " (('von', 'sydow'), 193.09865915231595),\n",
       " (('horror', 'genre'), 193.03751781100513),\n",
       " (('beverly', 'hills'), 192.91266924562746),\n",
       " (('common', 'denominator'), 192.5708334574499),\n",
       " (('jeffrey', 'combs'), 192.42493004375322),\n",
       " (('quite', 'frankly'), 192.31368735034312),\n",
       " (('would', 'say'), 192.12997894416517),\n",
       " (('next', 'day'), 191.92855656621464),\n",
       " (('andy', 'garcia'), 191.83752319443136),\n",
       " (('chili', 'palmer'), 191.80557145142734),\n",
       " (('let', 'face'), 191.75655382947895),\n",
       " (('lloyd', 'kaufman'), 191.63298452453142),\n",
       " (('writing', 'directing'), 191.5091352685805),\n",
       " (('pale', 'imitation'), 191.10373739000352),\n",
       " (('naked', 'gun'), 190.946973885827),\n",
       " (('friday', 'night'), 190.91105249222355),\n",
       " (('paresh', 'rawal'), 190.18373702769912),\n",
       " (('ram', 'gopal'), 190.18373702769912),\n",
       " (('swan', 'princess'), 189.52822432782335),\n",
       " (('rita', 'hayworth'), 189.313582534381),\n",
       " (('look', 'elsewhere'), 189.30638753499346),\n",
       " (('katrina', 'kaif'), 189.23955754000795),\n",
       " (('bin', 'laden'), 189.23248068234744),\n",
       " (('movie', 'movie'), 188.9791647233448),\n",
       " (('abbie', 'hoffman'), 188.968887437411),\n",
       " (('road', 'house'), 188.8513539260965),\n",
       " (('irvin', 'kershner'), 188.64184874800262),\n",
       " (('get', 'better'), 188.30337053111103),\n",
       " (('brad', 'dourif'), 188.22452081002638),\n",
       " (('made', 'laugh'), 188.1717499872707),\n",
       " (('acting', 'talent'), 188.0856793961076),\n",
       " (('william', 'macy'), 188.0713947781316),\n",
       " (('planet', 'apes'), 188.0374376551787),\n",
       " (('two', 'main'), 187.8368952679573),\n",
       " (('would', 'think'), 187.7029953265974),\n",
       " (('made', 'tv'), 187.60551373536214),\n",
       " (('tim', 'roth'), 187.595411442004),\n",
       " (('minutes', 'long'), 187.58114749917252),\n",
       " (('toxic', 'avenger'), 187.35612972602797),\n",
       " (('may', 'contain'), 187.16025217237572),\n",
       " (('james', 'woods'), 187.00010993528622),\n",
       " (('three', 'times'), 186.8799004360202),\n",
       " (('stumble', 'upon'), 186.87169410906466),\n",
       " (('spoilers', 'ahead'), 186.86608219537592),\n",
       " (('story', 'lines'), 186.83307423935543),\n",
       " ...]"
      ]
     },
     "execution_count": 68,
     "metadata": {},
     "output_type": "execute_result"
    }
   ],
   "source": [
    "scored"
   ]
  },
  {
   "cell_type": "code",
   "execution_count": null,
   "metadata": {},
   "outputs": [],
   "source": [
    "# load from pickle\n",
    "import pickle\n",
    "with open('scored.pkl', 'rb') as f:\n",
    "    scored = pickle.load(f)"
   ]
  },
  {
   "cell_type": "code",
   "execution_count": null,
   "metadata": {},
   "outputs": [],
   "source": [
    "# bi-grammes trouvés\n",
    "scored"
   ]
  },
  {
   "cell_type": "code",
   "execution_count": 56,
   "metadata": {},
   "outputs": [
    {
     "data": {
      "text/plain": [
       "72697"
      ]
     },
     "execution_count": 56,
     "metadata": {},
     "output_type": "execute_result"
    }
   ],
   "source": [
    "# nb de bi-grammes\n",
    "len(scored)"
   ]
  },
  {
   "cell_type": "code",
   "execution_count": 57,
   "metadata": {},
   "outputs": [],
   "source": [
    "def search(word1=None, word2=None, n=10):\n",
    "    i = 0\n",
    "    for (w1, w2), s in scored:\n",
    "        if (word1 is None or (w1.find(word1)!=-1)) \\\n",
    "            and (word2 is None or (w2.find(word2)!=-1)):\n",
    "            print(w1, w2, s)\n",
    "            i += 1\n",
    "            if i == n:\n",
    "                 break"
   ]
  },
  {
   "cell_type": "code",
   "execution_count": 58,
   "metadata": {},
   "outputs": [
    {
     "name": "stdout",
     "output_type": "stream",
     "text": [
      "john goodman 452.1966069305043\n",
      "johnny depp 351.29948444121675\n",
      "john wayne 331.8427126724786\n",
      "johnson county 300.33907429309363\n",
      "john travolta 280.65203721732803\n",
      "john rhys-davies 233.34942504191974\n",
      "john malkovich 211.28806002810705\n",
      "johnathon schaech 178.21395030296267\n",
      "john waters 167.73483354268365\n",
      "john cusack 129.82297750080573\n"
     ]
    }
   ],
   "source": [
    "search('john')"
   ]
  },
  {
   "cell_type": "code",
   "execution_count": 69,
   "metadata": {},
   "outputs": [
    {
     "name": "stdout",
     "output_type": "stream",
     "text": [
      "funny moments 265.2695200216491\n",
      "funny parts 128.14575365353244\n",
      "funny enough 67.71772459512297\n",
      "funny bits 57.250243372811106\n",
      "unfunny jokes 49.98971368358514\n",
      "funny entertaining 47.08727528172048\n",
      "funny thing 43.410025837084426\n",
      "funny lines 43.40889381541119\n",
      "funny jokes 41.78178089290739\n",
      "funny stuff 35.39450784362176\n"
     ]
    }
   ],
   "source": [
    "search('funny')"
   ]
  },
  {
   "cell_type": "code",
   "execution_count": 63,
   "metadata": {},
   "outputs": [
    {
     "name": "stdout",
     "output_type": "stream",
     "text": [
      "alan smithee 162.5698781862651\n",
      "wilbur smith 113.88793589215531\n",
      "pinkett smith 89.45590700184366\n",
      "jerry goldsmith 88.14776124284808\n",
      "kevin smith 77.99511238209416\n",
      "mrs smith 69.8453414722879\n",
      "amber smith 68.58956858243319\n",
      "mrs. smith 56.60299175394711\n",
      "thorne smith 52.366487403221456\n",
      "jaclyn smith 48.54770465663168\n"
     ]
    }
   ],
   "source": [
    "search(word2='smith')"
   ]
  },
  {
   "cell_type": "markdown",
   "metadata": {},
   "source": [
    "## 5. Vector space model avec scikit-learn TF-IDF\n",
    "\n",
    "En recherche d'information, `TF–IDF`, abréviation de **term frequency–inverse document frequency**, est un indicateur statistique qui cherche à capturer l'importance d'un terme dans un document au sein d'un corpus.\n",
    "\n",
    "Un corpus contient `N` documents. Un terme apparaît dans `n` documents du corpus. pour un document donné de longueur `L`, un terme apparaît `T` fois.\n",
    "\n",
    "`TF–IDF` est le produit de 2 facteurs :\n",
    "- *term frequency* (dans un document donné) :\n",
    "    - $\\frac{T}{L}$\n",
    "- *inverse document frequency* (fréquence d'apparition dans le corpus):\n",
    "    - $\\log(\\frac{N}{n})$\n",
    "    \n",
    "Dans ce modèle, chaque document est représenté par un vecteur normalisé composé du calcul `TF–IDF` pour chaque terme qu'il contient (vector space model)."
   ]
  },
  {
   "cell_type": "markdown",
   "metadata": {},
   "source": [
    "La librairie `scikit-learn` permet de calculer les vecteurs `TF–IDF` pour un corpus de documents.\n",
    "\n",
    "Cette librairie comprend différentes classes traitant des textes:\n",
    "\n",
    "- `CountVectorizer`: implémente la tokenisation et le décompte des occurrences\n",
    "- `TfidfTransformer`: transforme une matrice de comptage en une représentation `TF` ou `TF–IDF`\n",
    "- `TfidfVectorizer`: équivalent à *CountVectorizer* suivi par *TfidfTransformer*\n",
    "\n",
    "Ces classes produisent des **matrices creuses**, c'est-à-dire des matrices pleines de 0 à 99% ou 99.9%, puisque chaque document ne contient que *100* ou *1000* termes et que l'ensemble d'un corpus peut contenir plusieurs *100K* termes.\n",
    "\n",
    "*Nota bene*\n",
    "\n",
    "- Traiter des matrices creuses nécessite une certaine attention car il est générallement pas possible de les transformer en *numpy* arrays ou *pandas* dataframes, à cause des limitations de mémoire."
   ]
  },
  {
   "cell_type": "markdown",
   "metadata": {},
   "source": [
    "<div class=\"alert alert-warning\">\n",
    "<b>Pour plus d'information</b>\n",
    "<ul>\n",
    "    <li><a href='https://scikit-learn.org/stable/modules/feature_extraction.html#text-feature-extraction'>https://scikit-learn.org/stable/modules/feature_extraction.html#text-feature-extraction</a></li>\n",
    "</ul>\n",
    "</div>"
   ]
  },
  {
   "cell_type": "markdown",
   "metadata": {},
   "source": [
    "### 5.1 CountVectorizer\n",
    "\n",
    "`CountVectorizer`: implémente la tokenisation des termes et le comptage des occurrences.\n",
    "\n",
    "Il effectue le même calcul que `Counter`. On peut calculer facilement le nombre de fois que chaque terme apparaît dans un document, ou dans tout le corpus."
   ]
  },
  {
   "cell_type": "code",
   "execution_count": 70,
   "metadata": {},
   "outputs": [],
   "source": [
    "# import\n",
    "from sklearn.feature_extraction.text import CountVectorizer"
   ]
  },
  {
   "cell_type": "code",
   "execution_count": 71,
   "metadata": {},
   "outputs": [
    {
     "name": "stdout",
     "output_type": "stream",
     "text": [
      "Wall time: 19.8 s\n"
     ]
    },
    {
     "data": {
      "text/plain": [
       "<100000x144342 sparse matrix of type '<class 'numpy.int64'>'\n",
       "\twith 13683613 stored elements in Compressed Sparse Row format>"
      ]
     },
     "execution_count": 71,
     "metadata": {},
     "output_type": "execute_result"
    }
   ],
   "source": [
    "%%time\n",
    "# CountVectorizer\n",
    "vectorizer = CountVectorizer()\n",
    "X = vectorizer.fit_transform(reviews)\n",
    "X"
   ]
  },
  {
   "cell_type": "markdown",
   "metadata": {},
   "source": [
    "On obtient une matrice creuse de *100.000* x *144.342*, c'est-à-dire, 144 milliards de nombres, mais qui ne contient que *13.683.613* éléments:\n",
    "\n",
    "En fait, on a :\n",
    "- 100.000: documents\n",
    "- 144.342: termes\n",
    "- 13.683.613: éléments"
   ]
  },
  {
   "cell_type": "code",
   "execution_count": 72,
   "metadata": {},
   "outputs": [
    {
     "name": "stdout",
     "output_type": "stream",
     "text": [
      "density: 0.0009479994041928198\n",
      "sparsity: 0.999%\n"
     ]
    }
   ],
   "source": [
    "# densité & sparsité\n",
    "density = X.count_nonzero() / X.shape[0] / X.shape[1]\n",
    "print('density:', density)\n",
    "sparsity = 1.0 - density\n",
    "print('sparsity: {:.3f}%'.format(sparsity))"
   ]
  },
  {
   "cell_type": "code",
   "execution_count": 73,
   "metadata": {},
   "outputs": [
    {
     "data": {
      "text/plain": [
       "scipy.sparse.csr.csr_matrix"
      ]
     },
     "execution_count": 73,
     "metadata": {},
     "output_type": "execute_result"
    }
   ],
   "source": [
    "# sparse matrix\n",
    "type(X)"
   ]
  },
  {
   "cell_type": "code",
   "execution_count": 74,
   "metadata": {},
   "outputs": [
    {
     "ename": "MemoryError",
     "evalue": "Unable to allocate 108. GiB for an array with shape (100000, 144342) and data type int64",
     "output_type": "error",
     "traceback": [
      "\u001b[1;31m---------------------------------------------------------------------------\u001b[0m",
      "\u001b[1;31mMemoryError\u001b[0m                               Traceback (most recent call last)",
      "\u001b[1;32m<ipython-input-74-15b404377efa>\u001b[0m in \u001b[0;36m<module>\u001b[1;34m\u001b[0m\n\u001b[0;32m      1\u001b[0m \u001b[1;31m# memory error!\u001b[0m\u001b[1;33m\u001b[0m\u001b[1;33m\u001b[0m\u001b[1;33m\u001b[0m\u001b[0m\n\u001b[1;32m----> 2\u001b[1;33m \u001b[0mX\u001b[0m\u001b[1;33m.\u001b[0m\u001b[0mtoarray\u001b[0m\u001b[1;33m(\u001b[0m\u001b[1;33m)\u001b[0m\u001b[1;33m\u001b[0m\u001b[1;33m\u001b[0m\u001b[0m\n\u001b[0m",
      "\u001b[1;32mc:\\users\\francis\\miniconda3\\envs\\bdf\\lib\\site-packages\\scipy\\sparse\\compressed.py\u001b[0m in \u001b[0;36mtoarray\u001b[1;34m(self, order, out)\u001b[0m\n\u001b[0;32m   1029\u001b[0m         \u001b[1;32mif\u001b[0m \u001b[0mout\u001b[0m \u001b[1;32mis\u001b[0m \u001b[1;32mNone\u001b[0m \u001b[1;32mand\u001b[0m \u001b[0morder\u001b[0m \u001b[1;32mis\u001b[0m \u001b[1;32mNone\u001b[0m\u001b[1;33m:\u001b[0m\u001b[1;33m\u001b[0m\u001b[1;33m\u001b[0m\u001b[0m\n\u001b[0;32m   1030\u001b[0m             \u001b[0morder\u001b[0m \u001b[1;33m=\u001b[0m \u001b[0mself\u001b[0m\u001b[1;33m.\u001b[0m\u001b[0m_swap\u001b[0m\u001b[1;33m(\u001b[0m\u001b[1;34m'cf'\u001b[0m\u001b[1;33m)\u001b[0m\u001b[1;33m[\u001b[0m\u001b[1;36m0\u001b[0m\u001b[1;33m]\u001b[0m\u001b[1;33m\u001b[0m\u001b[1;33m\u001b[0m\u001b[0m\n\u001b[1;32m-> 1031\u001b[1;33m         \u001b[0mout\u001b[0m \u001b[1;33m=\u001b[0m \u001b[0mself\u001b[0m\u001b[1;33m.\u001b[0m\u001b[0m_process_toarray_args\u001b[0m\u001b[1;33m(\u001b[0m\u001b[0morder\u001b[0m\u001b[1;33m,\u001b[0m \u001b[0mout\u001b[0m\u001b[1;33m)\u001b[0m\u001b[1;33m\u001b[0m\u001b[1;33m\u001b[0m\u001b[0m\n\u001b[0m\u001b[0;32m   1032\u001b[0m         \u001b[1;32mif\u001b[0m \u001b[1;32mnot\u001b[0m \u001b[1;33m(\u001b[0m\u001b[0mout\u001b[0m\u001b[1;33m.\u001b[0m\u001b[0mflags\u001b[0m\u001b[1;33m.\u001b[0m\u001b[0mc_contiguous\u001b[0m \u001b[1;32mor\u001b[0m \u001b[0mout\u001b[0m\u001b[1;33m.\u001b[0m\u001b[0mflags\u001b[0m\u001b[1;33m.\u001b[0m\u001b[0mf_contiguous\u001b[0m\u001b[1;33m)\u001b[0m\u001b[1;33m:\u001b[0m\u001b[1;33m\u001b[0m\u001b[1;33m\u001b[0m\u001b[0m\n\u001b[0;32m   1033\u001b[0m             \u001b[1;32mraise\u001b[0m \u001b[0mValueError\u001b[0m\u001b[1;33m(\u001b[0m\u001b[1;34m'Output array must be C or F contiguous'\u001b[0m\u001b[1;33m)\u001b[0m\u001b[1;33m\u001b[0m\u001b[1;33m\u001b[0m\u001b[0m\n",
      "\u001b[1;32mc:\\users\\francis\\miniconda3\\envs\\bdf\\lib\\site-packages\\scipy\\sparse\\base.py\u001b[0m in \u001b[0;36m_process_toarray_args\u001b[1;34m(self, order, out)\u001b[0m\n\u001b[0;32m   1200\u001b[0m             \u001b[1;32mreturn\u001b[0m \u001b[0mout\u001b[0m\u001b[1;33m\u001b[0m\u001b[1;33m\u001b[0m\u001b[0m\n\u001b[0;32m   1201\u001b[0m         \u001b[1;32melse\u001b[0m\u001b[1;33m:\u001b[0m\u001b[1;33m\u001b[0m\u001b[1;33m\u001b[0m\u001b[0m\n\u001b[1;32m-> 1202\u001b[1;33m             \u001b[1;32mreturn\u001b[0m \u001b[0mnp\u001b[0m\u001b[1;33m.\u001b[0m\u001b[0mzeros\u001b[0m\u001b[1;33m(\u001b[0m\u001b[0mself\u001b[0m\u001b[1;33m.\u001b[0m\u001b[0mshape\u001b[0m\u001b[1;33m,\u001b[0m \u001b[0mdtype\u001b[0m\u001b[1;33m=\u001b[0m\u001b[0mself\u001b[0m\u001b[1;33m.\u001b[0m\u001b[0mdtype\u001b[0m\u001b[1;33m,\u001b[0m \u001b[0morder\u001b[0m\u001b[1;33m=\u001b[0m\u001b[0morder\u001b[0m\u001b[1;33m)\u001b[0m\u001b[1;33m\u001b[0m\u001b[1;33m\u001b[0m\u001b[0m\n\u001b[0m\u001b[0;32m   1203\u001b[0m \u001b[1;33m\u001b[0m\u001b[0m\n\u001b[0;32m   1204\u001b[0m \u001b[1;33m\u001b[0m\u001b[0m\n",
      "\u001b[1;31mMemoryError\u001b[0m: Unable to allocate 108. GiB for an array with shape (100000, 144342) and data type int64"
     ]
    }
   ],
   "source": [
    "# memory error!\n",
    "X.toarray()"
   ]
  },
  {
   "cell_type": "markdown",
   "metadata": {},
   "source": [
    "Il est possible d'utiliser la méthode `get_feature_names()` de `CountVectorizer` qui donne la liste de tous les termes du corpus, dans le même ordre que la matrice creuse."
   ]
  },
  {
   "cell_type": "code",
   "execution_count": 75,
   "metadata": {},
   "outputs": [
    {
     "name": "stdout",
     "output_type": "stream",
     "text": [
      "144342 884\n"
     ]
    },
    {
     "data": {
      "text/plain": [
       "the         169\n",
       "godzilla     71\n",
       "of           54\n",
       "and          50\n",
       "to           47\n",
       "in           45\n",
       "it           31\n",
       "is           30\n",
       "that         27\n",
       "was          26\n",
       "film         22\n",
       "with         21\n",
       "but          19\n",
       "by           18\n",
       "for          18\n",
       "movie        18\n",
       "as           17\n",
       "version      17\n",
       "his          17\n",
       "us           15\n",
       "this         15\n",
       "up           13\n",
       "toho         13\n",
       "at           13\n",
       "which        13\n",
       "not          12\n",
       "ufo          10\n",
       "they         10\n",
       "from         10\n",
       "japanese      9\n",
       "dtype: int64"
      ]
     },
     "execution_count": 75,
     "metadata": {},
     "output_type": "execute_result"
    }
   ],
   "source": [
    "# termes d'un document donné\n",
    "big_review_id = reviews.str.len().idxmax()\n",
    "\n",
    "# ligne de la matrice avec les termes\n",
    "values = X[big_review_id].toarray()[0]\n",
    "\n",
    "# liste de tous les termes\n",
    "words = vectorizer.get_feature_names()\n",
    "\n",
    "# mise en Series\n",
    "vocab = pd.Series(values, index=words)\n",
    "\n",
    "# nombre total de termes et nombre de termes dans le document\n",
    "print(len(vocab), len(vocab[vocab!=0]))\n",
    "vocab = vocab[vocab!=0]\n",
    "vocab = vocab.sort_values(ascending=False)\n",
    "vocab.head(30)"
   ]
  },
  {
   "cell_type": "code",
   "execution_count": 76,
   "metadata": {},
   "outputs": [
    {
     "data": {
      "text/plain": [
       "the      1346539\n",
       "and       654466\n",
       "of        583341\n",
       "to        539678\n",
       "is        425474\n",
       "it        382098\n",
       "in        375724\n",
       "this      301752\n",
       "that      289467\n",
       "was       191564\n",
       "as        184786\n",
       "with      177161\n",
       "for       176780\n",
       "movie     176133\n",
       "but       167896\n",
       "film      160741\n",
       "you       138651\n",
       "on        135711\n",
       "not       120957\n",
       "he        118748\n",
       "are       118183\n",
       "his       116141\n",
       "have      111061\n",
       "one       108136\n",
       "be        107989\n",
       "all        94086\n",
       "at         93354\n",
       "they       92421\n",
       "by         90170\n",
       "an         86526\n",
       "dtype: int64"
      ]
     },
     "execution_count": 76,
     "metadata": {},
     "output_type": "execute_result"
    }
   ],
   "source": [
    "# termes de l'ensemble des documents en sommant selon l'axis 0\n",
    "# somme en colonne par terme\n",
    "values = np.asarray(X.sum(axis=0))[0]\n",
    "\n",
    "# liste de tous les termes\n",
    "words = vectorizer.get_feature_names()\n",
    "\n",
    "# mise en Series\n",
    "vocab = pd.Series(values, index=words)\n",
    "vocab = vocab.sort_values(ascending=False)\n",
    "vocab.head(30)"
   ]
  },
  {
   "cell_type": "markdown",
   "metadata": {},
   "source": [
    "### 5.2 TfidfVectorizer"
   ]
  },
  {
   "cell_type": "code",
   "execution_count": 77,
   "metadata": {},
   "outputs": [],
   "source": [
    "# import\n",
    "from sklearn.feature_extraction.text import TfidfVectorizer"
   ]
  },
  {
   "cell_type": "markdown",
   "metadata": {},
   "source": [
    "Afin d'éliminer les stop words, les mots rares ou inconnus, on utilise le `TfidfVectorizer` avec des paramètres particuliers. Le résultat est une matrice creuse plus petite."
   ]
  },
  {
   "cell_type": "code",
   "execution_count": null,
   "metadata": {},
   "outputs": [],
   "source": [
    "TfidfVectorizer?"
   ]
  },
  {
   "cell_type": "code",
   "execution_count": 78,
   "metadata": {},
   "outputs": [
    {
     "name": "stdout",
     "output_type": "stream",
     "text": [
      "Wall time: 18.1 s\n"
     ]
    },
    {
     "data": {
      "text/plain": [
       "<100000x37614 sparse matrix of type '<class 'numpy.float64'>'\n",
       "\twith 9767849 stored elements in Compressed Sparse Row format>"
      ]
     },
     "execution_count": 78,
     "metadata": {},
     "output_type": "execute_result"
    }
   ],
   "source": [
    "%%time\n",
    "# TfidfVectorizer\n",
    "pattern = '[A-Za-zÀ-ÿ0-9]+(?:\\'(?:d|ll|re|s|t|ve))?'\n",
    "vectorizer = TfidfVectorizer(analyzer='word',\n",
    "                             token_pattern=pattern,\n",
    "                             min_df=10,\n",
    "                             stop_words=stopwords_en)\n",
    "X = vectorizer.fit_transform(reviews)\n",
    "X"
   ]
  },
  {
   "cell_type": "code",
   "execution_count": 79,
   "metadata": {},
   "outputs": [
    {
     "name": "stdout",
     "output_type": "stream",
     "text": [
      "density: 0.002596865262934014\n",
      "sparsity: 0.997%\n"
     ]
    }
   ],
   "source": [
    "# density & sparsity\n",
    "density = X.count_nonzero()/X.shape[0]/X.shape[1]\n",
    "print('density:', density)\n",
    "sparsity = 1.0 - density\n",
    "print('sparsity: {:.3f}%'.format(sparsity))"
   ]
  },
  {
   "cell_type": "markdown",
   "metadata": {},
   "source": [
    "Il est possible de calculer la somme des `TD-IDF` de chaque terme pour l'ensemble du corpus."
   ]
  },
  {
   "cell_type": "code",
   "execution_count": 80,
   "metadata": {},
   "outputs": [
    {
     "data": {
      "text/plain": [
       "movie         4700.404678\n",
       "film          3886.157106\n",
       "one           2596.956824\n",
       "like          2228.797502\n",
       "good          1988.431767\n",
       "really        1686.254636\n",
       "story         1650.153339\n",
       "time          1636.400864\n",
       "see           1632.753555\n",
       "would         1626.677809\n",
       "bad           1603.771026\n",
       "even          1599.423594\n",
       "great         1495.340170\n",
       "well          1457.584629\n",
       "movies        1368.020356\n",
       "people        1359.713994\n",
       "much          1352.157816\n",
       "get           1310.730084\n",
       "first         1274.366293\n",
       "watch         1273.365029\n",
       "made          1253.355545\n",
       "also          1228.340399\n",
       "make          1210.379881\n",
       "could         1209.647803\n",
       "think         1199.584031\n",
       "acting        1189.139505\n",
       "seen          1189.120569\n",
       "characters    1179.731001\n",
       "way           1162.657489\n",
       "plot          1148.674564\n",
       "dtype: float64"
      ]
     },
     "execution_count": 80,
     "metadata": {},
     "output_type": "execute_result"
    }
   ],
   "source": [
    "# termes de tous les documents en sommant selon l'axis 0\n",
    "# somme en colonnes\n",
    "values = np.asarray(X.sum(axis=0))[0]\n",
    "index = vectorizer.get_feature_names()\n",
    "vocab = pd.Series(values, index=index)\n",
    "vocab = vocab.sort_values(ascending=False)\n",
    "vocab.head(30)"
   ]
  },
  {
   "cell_type": "markdown",
   "metadata": {},
   "source": [
    "Nous allons utiliser la vectorisation des documents avec `TF-IDF` pour rechercher les documents similaires à un document donné."
   ]
  },
  {
   "cell_type": "code",
   "execution_count": 81,
   "metadata": {},
   "outputs": [
    {
     "data": {
      "text/plain": [
       "\"The best bond game made of all systems. It was made of the best bond movie of all time. If you don't have the game Goldeneye you should rent it and if you don't have the movie Goldeneye you should rent it also to better understand the game. The best bond game of all!!!\""
      ]
     },
     "execution_count": 81,
     "metadata": {},
     "output_type": "execute_result"
    }
   ],
   "source": [
    "# sélection d'un document dans le corpus\n",
    "review_id = 13473\n",
    "df.loc[review_id, 'review']"
   ]
  },
  {
   "cell_type": "code",
   "execution_count": 82,
   "metadata": {},
   "outputs": [
    {
     "data": {
      "text/plain": [
       "array([ 1317,  3422,  3454,  4022, 13742, 14342, 20331, 22253, 27682,\n",
       "       33001, 33838, 35020], dtype=int64)"
      ]
     },
     "execution_count": 82,
     "metadata": {},
     "output_type": "execute_result"
    }
   ],
   "source": [
    "# indices des termes présents dans ce document\n",
    "indices = np.nonzero(X[review_id].toarray())[1]\n",
    "indices"
   ]
  },
  {
   "cell_type": "code",
   "execution_count": 83,
   "metadata": {},
   "outputs": [
    {
     "data": {
      "text/plain": [
       "['also',\n",
       " 'best',\n",
       " 'better',\n",
       " 'bond',\n",
       " 'game',\n",
       " 'goldeneye',\n",
       " 'made',\n",
       " 'movie',\n",
       " 'rent',\n",
       " 'systems',\n",
       " 'time',\n",
       " 'understand']"
      ]
     },
     "execution_count": 83,
     "metadata": {},
     "output_type": "execute_result"
    }
   ],
   "source": [
    "# termes correspondants\n",
    "termes = [vectorizer.get_feature_names()[i] for i in indices]\n",
    "termes"
   ]
  },
  {
   "cell_type": "code",
   "execution_count": 84,
   "metadata": {},
   "outputs": [
    {
     "data": {
      "text/plain": [
       "[0.06811109429840445,\n",
       " 0.2286447081990584,\n",
       " 0.0773820949224727,\n",
       " 0.4892196868829216,\n",
       " 0.5220673895214821,\n",
       " 0.5157206797513771,\n",
       " 0.13805540766751284,\n",
       " 0.08629267393483962,\n",
       " 0.26547157740857036,\n",
       " 0.2153314860233241,\n",
       " 0.059562124006196794,\n",
       " 0.11108659599890808]"
      ]
     },
     "execution_count": 84,
     "metadata": {},
     "output_type": "execute_result"
    }
   ],
   "source": [
    "# valeur TF-IDF de chaque terme\n",
    "values = [X[review_id, i] for i in indices]\n",
    "values"
   ]
  },
  {
   "cell_type": "code",
   "execution_count": 85,
   "metadata": {},
   "outputs": [
    {
     "data": {
      "text/plain": [
       "game          0.522067\n",
       "goldeneye     0.515721\n",
       "bond          0.489220\n",
       "rent          0.265472\n",
       "best          0.228645\n",
       "systems       0.215331\n",
       "made          0.138055\n",
       "understand    0.111087\n",
       "movie         0.086293\n",
       "better        0.077382\n",
       "also          0.068111\n",
       "time          0.059562\n",
       "dtype: float64"
      ]
     },
     "execution_count": 85,
     "metadata": {},
     "output_type": "execute_result"
    }
   ],
   "source": [
    "# mise en Series\n",
    "s = pd.Series(values, index=termes)\n",
    "s = s.sort_values(ascending=False)\n",
    "s"
   ]
  },
  {
   "cell_type": "markdown",
   "metadata": {},
   "source": [
    "Pour trouver les documents similaires, nous calculons le produit scalaire entre le vecteur de chacun des documents et le vecteur du document sélectionné, on conserve les documents qui produisent les meilleurs scores."
   ]
  },
  {
   "cell_type": "code",
   "execution_count": 86,
   "metadata": {},
   "outputs": [
    {
     "data": {
      "text/plain": [
       "array([1.])"
      ]
     },
     "execution_count": 86,
     "metadata": {},
     "output_type": "execute_result"
    }
   ],
   "source": [
    "# produit scalaire du document donné avec lui-même\n",
    "np.dot(X[review_id], X[review_id].T).toarray()[0]"
   ]
  },
  {
   "cell_type": "code",
   "execution_count": 87,
   "metadata": {},
   "outputs": [
    {
     "data": {
      "text/plain": [
       "array([ 7063, 13489, 13491, 47172, 13490, 47174, 42818, 42819, 47171,\n",
       "       13473], dtype=int64)"
      ]
     },
     "execution_count": 87,
     "metadata": {},
     "output_type": "execute_result"
    }
   ],
   "source": [
    "# indices des 10 meilleurs documents\n",
    "ids = np.dot(X, X[review_id].T).toarray().T[0].argsort()[-10:]\n",
    "ids"
   ]
  },
  {
   "cell_type": "code",
   "execution_count": 88,
   "metadata": {},
   "outputs": [
    {
     "data": {
      "text/html": [
       "<div>\n",
       "<style scoped>\n",
       "    .dataframe tbody tr th:only-of-type {\n",
       "        vertical-align: middle;\n",
       "    }\n",
       "\n",
       "    .dataframe tbody tr th {\n",
       "        vertical-align: top;\n",
       "    }\n",
       "\n",
       "    .dataframe thead th {\n",
       "        text-align: right;\n",
       "    }\n",
       "</style>\n",
       "<table border=\"1\" class=\"dataframe\">\n",
       "  <thead>\n",
       "    <tr style=\"text-align: right;\">\n",
       "      <th></th>\n",
       "      <th>review</th>\n",
       "    </tr>\n",
       "  </thead>\n",
       "  <tbody>\n",
       "    <tr>\n",
       "      <th>7063</th>\n",
       "      <td>When I first heared that there was going to be The World is not Enough video game for the Ninten...</td>\n",
       "    </tr>\n",
       "    <tr>\n",
       "      <th>13489</th>\n",
       "      <td>GoldenEye 007 is not only the best movie tie-in game of all time, but it is perhaps the most inf...</td>\n",
       "    </tr>\n",
       "    <tr>\n",
       "      <th>13491</th>\n",
       "      <td>This is one of my favorite James bond in games because: The missions are fun to play they have l...</td>\n",
       "    </tr>\n",
       "    <tr>\n",
       "      <th>47172</th>\n",
       "      <td>Don't get me wrong. \"GoldenEye\" was revolutionary and is definitely the best FPS game to be base...</td>\n",
       "    </tr>\n",
       "    <tr>\n",
       "      <th>13490</th>\n",
       "      <td>There isn't much that comes close to the perfect-paced storytelling and suspenseful action-packe...</td>\n",
       "    </tr>\n",
       "    <tr>\n",
       "      <th>47174</th>\n",
       "      <td>This game is the bomb and this is the 007 game of the year and should be on greatest hits. When ...</td>\n",
       "    </tr>\n",
       "    <tr>\n",
       "      <th>42818</th>\n",
       "      <td>This James bond game is the best bond game i have played in my life it is my favorite James bond...</td>\n",
       "    </tr>\n",
       "    <tr>\n",
       "      <th>42819</th>\n",
       "      <td>The goal of any James Bond game is to make the player feel like he is fulfilling an ultimate fan...</td>\n",
       "    </tr>\n",
       "    <tr>\n",
       "      <th>47171</th>\n",
       "      <td>Goldeneye will always go down as one of thee most legendary games in VG history. Their is no dou...</td>\n",
       "    </tr>\n",
       "    <tr>\n",
       "      <th>13473</th>\n",
       "      <td>The best bond game made of all systems. It was made of the best bond movie of all time. If you d...</td>\n",
       "    </tr>\n",
       "  </tbody>\n",
       "</table>\n",
       "</div>"
      ],
      "text/plain": [
       "                                                                                                    review\n",
       "7063   When I first heared that there was going to be The World is not Enough video game for the Ninten...\n",
       "13489  GoldenEye 007 is not only the best movie tie-in game of all time, but it is perhaps the most inf...\n",
       "13491  This is one of my favorite James bond in games because: The missions are fun to play they have l...\n",
       "47172  Don't get me wrong. \"GoldenEye\" was revolutionary and is definitely the best FPS game to be base...\n",
       "13490  There isn't much that comes close to the perfect-paced storytelling and suspenseful action-packe...\n",
       "47174  This game is the bomb and this is the 007 game of the year and should be on greatest hits. When ...\n",
       "42818  This James bond game is the best bond game i have played in my life it is my favorite James bond...\n",
       "42819  The goal of any James Bond game is to make the player feel like he is fulfilling an ultimate fan...\n",
       "47171  Goldeneye will always go down as one of thee most legendary games in VG history. Their is no dou...\n",
       "13473  The best bond game made of all systems. It was made of the best bond movie of all time. If you d..."
      ]
     },
     "execution_count": 88,
     "metadata": {},
     "output_type": "execute_result"
    }
   ],
   "source": [
    "# textes asociés\n",
    "df.loc[ids]"
   ]
  },
  {
   "cell_type": "markdown",
   "metadata": {},
   "source": [
    "Il est possible de tout mettre dans une seule fonction qui produit les n meilleurs documents."
   ]
  },
  {
   "cell_type": "code",
   "execution_count": 89,
   "metadata": {},
   "outputs": [],
   "source": [
    "# fonction qui trouve les revues similaires\n",
    "def find_similar_reviews(review_id, n=5):\n",
    "    # print review\n",
    "    print(reviews.loc[review_id])\n",
    "    print()\n",
    "    # ids des termes de la review\n",
    "    word_ids = np.nonzero(X[review_id].toarray())[1]\n",
    "    # termes de la review\n",
    "    words = [vectorizer.get_feature_names()[word_id] for word_id in word_ids]\n",
    "    # TF-IDF des termes de la review\n",
    "    values = [X[review_id, word_id] for word_id in word_ids]\n",
    "    # mises en Series et print\n",
    "    s = pd.Series(values, index=words)\n",
    "    s = s.nlargest(20)\n",
    "    print(s)\n",
    "    print()\n",
    "    # calcul du produit matriciel entre la matrice et la revue\n",
    "    # on retient du n° 2 au n° n+1\n",
    "    ids = np.dot(X, X[review_id].T).toarray().T[0].argsort()[-n-1:-1]\n",
    "    # collecte des reviews et print\n",
    "    results = df.loc[ids[::-1], 'review']\n",
    "    for i in range(len(results)):\n",
    "        print(i+1)\n",
    "        print(results.iloc[i])\n",
    "        print()"
   ]
  },
  {
   "cell_type": "code",
   "execution_count": 90,
   "metadata": {
    "scrolled": false
   },
   "outputs": [
    {
     "name": "stdout",
     "output_type": "stream",
     "text": [
      "The best bond game made of all systems. It was made of the best bond movie of all time. If you don't have the game Goldeneye you should rent it and if you don't have the movie Goldeneye you should rent it also to better understand the game. The best bond game of all!!!\n",
      "\n",
      "game          0.522067\n",
      "goldeneye     0.515721\n",
      "bond          0.489220\n",
      "rent          0.265472\n",
      "best          0.228645\n",
      "systems       0.215331\n",
      "made          0.138055\n",
      "understand    0.111087\n",
      "movie         0.086293\n",
      "better        0.077382\n",
      "also          0.068111\n",
      "time          0.059562\n",
      "dtype: float64\n",
      "\n",
      "1\n",
      "Goldeneye will always go down as one of thee most legendary games in VG history. Their is no doubt about that. But this game, although quite different, could quite possibly be the modern-day Bond champ, of its time.<br /><br />This was not a bond game based on material from another medium. This was a completely new; scripted game. Which even had its own theme song! (wouldnt be bond without it, haha!) Gameplay was excellent, and if you're a fan of the bond games or films alike, you'll enjoy it.<br /><br />Unlike some/most games, these cast members portrayed their characters themselves, as opposed to fictional creations for the game. Which gives it that more cinematic feel. With a very 'bond'-able storyline, you feel like you're in the game as much as you get lost in a movie.<br /><br />Enjoyable in all aspects, from start to finish. Even after beating the game there's still plenty more to be done. With the ranking system and unlockables to be achieved, as well as its multi-player missions, this is a stand-out game. Despite being quite old now, in video game years. It's still a good game that you can pick up & play whenever you feel the need to get a little more Bond in your life. Even now just thinking about it, I've got the theme song stuck in my head. Such a great cast and well-written storyline.<br /><br />The story comes to life on the screen, almost as if the actors were their in front of you, and is every bit as entertaining as the game itself. Superbly done, in true bond fashion. Which can only be named Awesome, Completely Awesome.<br /><br />I've gotta go throw this game on now. If you haven't played it yet, you're missing out!\n",
      "\n",
      "2\n",
      "The goal of any James Bond game is to make the player feel like he is fulfilling an ultimate fantasy: step into the shoes of Agent 007. \"FRWL\" comes closer to this goal than any other game, because this time you control the real James Bond. No offense to Pierce Brosnan, who made a fantastic Bond and loaned his voice and likeness to \"EON\", but Sean Connery was the original James Bond, and there will never be anyone who comes close to his level of cool.<br /><br />I must say at this point, like many others who have reviewed this game, that Sean 70 year old voice doesn't fit his 30 year old image on screen, and this takes some getting used to, but it's certainly worth it. He makes lines like \"BondÂ? James Bond\" and \"Shaken, not stirred\" into a big deal again. But controlling Sir Sean as he takes on the evil organization known as OCTOPUS is, as Bond said in \"Octopussy\", \"only the tip of the tentacle.\" The awesomeness of the game begins with the opening gun barrel. It's the original gun barrel from the movies. Then you take on first mission, rescuing the Prime Minister's hottie blonde daughter from terrorists at Parliament, and everything from the cars to the clothes is perfectly retro. The world of the game is truly the world of the original James Bond, right down to the classic rock-n-roll rendition of the James Bond theme that finally plays during a key moment late in the game, as Bond infiltrates a secret factory.<br /><br />After the game's opening, the plot faithfully follows the plot of the movie \"FRWL.\" James Bond is sent to Turkey to retrieve a Lektor device from a Russian cipher clerk who claims she has a crush on him. In Turkey, Bond teams up with lovable sidekick Kerim Bey. Bond must retrieve the device, protect the damsel in distress, and get both safely back to London. Bond screenwriter Bruce Feirstein worked on the script, and he's done a good job of making the game the same but different to the movie. The characters from the movie are all recreated well, but some are better than others. The impersonators voicing villains Rosa Klebb and Red Grant are uncanny. And there's a moment early on in the game where you interact with a Miss Moneypenny, M, and Q who all look and behave as they did in the original Sean Connery 007 movies.<br /><br />What puts this game miles ahead of the other Bond games, besides Sir Sean's voice and likeness, is two notable features in the game play. One is Bond focus. While you can dispatch villains simply by locking onto them with one button and killing them with the other, an additional button push will allow you to zoom in closer on a target and choose between spots Bond would shoot at, such as a grenade attached to a belt that will dispatch an enemy and a few of his friend or a rappel cord that will cause a suspended enemy to plunge to his death. The other notable feature is the stealth and mÃªlÃ©e kills. When you're in close enough range, just hit a button to beat down an enemy with the raw brutality that only Sean Connery's James Bond displayed.<br /><br />Sean Connery's Bond relied mostly on his raw wit and talent, so you only have a few gadgets, but they're good ones. The Q-copter is a remote control helicopter that can self-destruct and explore areas Bond can't reach, like the Q-spider in \"EON\", only better. The classic laser watch is useful, not just for getting into sealed rooms, but dispatching enemies when you have no other weapon available. Sonic cuff links and a serum gun are the most fun to play around with, but you must experience them for yourself. Besides the gadgets, you can go dress Bond up in a number of retro costumes found during the game, including the gray suit from the movie, the standard black tuxedo, a retro stealth suit, and that classic white tuxedo, all which look exactly like they did when Sir Sean wore them in the movies. When you drive in the game, you drive the Aston Martin DB5 straight out of \"Goldfinger.\" It can't turn invisible, but it has a gadget for popping tires like in the movie. And when you're not flying down the streets of Istanbul in the \"Goldinger\" car, you can fly through the air in the \"Thunderball\" jet pack.<br /><br />Then there's the multi-player. Of course, it has to be compared to the standard of the \"GoldenEye\" game, and it fails. Also, you can only play Bond villains rather than Bond himself or the other heroes of the game. But the multi-player is amusing, and a decent bonus since the awesomeness of the single player campaign alone makes the game worth playing. The basic game does have other flaws. Some of the movie's most exciting moments, particularly the gypsy camp shootout, Bond's brawl with Red Grant on the Orient Express, and a confrontation between Bond and Rosa Klebb's bladed shoe, aren't done justice in game form. And the game is a fast play, even on the hardest difficulty. But overall, this game is the best James Bond experience so far.\n",
      "\n",
      "3\n",
      "This James bond game is the best bond game i have played in my life it is my favorite James bond game so far because: <br /><br />The missions in this game are really fun they can be really hard that makes it more fun to play the missions have lots of actions the weapons you use are really good. The cars in this game are awesome the car missions have lots of action and are really fun to play. The voice over actors are really good and it is cool that Sean Connery does the voice for James bond also the way bond looks is really cool because it looks just like Sean Connery when he played James bond in the movies and the other character look pretty much the same as the look in the movie. The graphics a pretty good in this James bond game. Also the game follows the movie pretty much but not all the but most of the time it does which is cool.<br /><br />overall score ********** out of **********\n",
      "\n",
      "4\n",
      "This game is the bomb and this is the 007 game of the year and should be on greatest hits. When I got Agent Under Fire, I thought that was a good game but then Nightfire came around and that was better, but now there is a new type of James Bond game. This time it a 3rd person shooter and there is more than 12 missions, the graphics of the game are out of this house. It even has all of the great actors and actresses in this game like Pierce Bronsan as once again James Bond, William Dafoe as the villain Nikolai Diavolo, and Judi Dench as M (forgive me all if I spell it wrong). This game would be own as the greatest James Bond game around.<br /><br />I give this a 10/10\n",
      "\n",
      "5\n",
      "There isn't much that comes close to the perfect-paced storytelling and suspenseful action-packed levels as \"GoldenEye\". When it came out, it was the greatest game of all-time, and even today, it stays strong.<br /><br />I will admit that this game did get boring after a few months of playing, and by not playing it again until two years later, I was thrust back into its greatest, almost as if I was playing it for the first time again.<br /><br />There are 20 action-packed levels, which is probably the most of any James Bond game to date. Probably the most unforgettable one is the Tank level, which was likely the most explosive video game sequence at that time. And the first-person shooting as well as usage of Q gadgets is what James Bond fans are always dying to use.<br /><br />Frankly, as a James Bond fan, I look for aspects of a true James Bond experience, which are now showing up in the PS2 games. So this game, while it has some great action and usable gadgets, I was somewhat expecting a little more, even back in 1997. I also disliked that this game didn't have Q or M or Moneypenny, or anyone from MI6. While watching the movies, Bond interacts with these characters at least a few times throughout each movie, but they are nowhere to be seen in this game. And vocal dialogue would have made the game more lively rather than the text dialogue they wound up using. They had the technology. They just didn't use it.<br /><br />Probably the most annoying feature of this game is that in some ways it follows the story of the movie precisely, and other ways it's incoherent. For example, there are two many levels where you have to protect or save Natalya, even though in the movie she can take care of herself. There are also some unnecessary levels, like the Boat level where you have to disarm some bombs (which is not in the movie), which adds nothing to the storyline whatsoever. There are even some levels where you rescue Natalya, but at the beginning of the next level, she's captured again. How?<br /><br />Oh well. Even those little things can't really put this game down. And while I do prefer the newer games, this Bond experience is definitely one you won't forget.<br /><br />8 out of 10\n",
      "\n"
     ]
    }
   ],
   "source": [
    "# test\n",
    "find_similar_reviews(review_id)"
   ]
  },
  {
   "cell_type": "code",
   "execution_count": null,
   "metadata": {},
   "outputs": [],
   "source": [
    "# random review\n",
    "np.random.seed(1)\n",
    "review_id = np.random.randint(100_000)\n",
    "find_similar_reviews(review_id)"
   ]
  },
  {
   "cell_type": "markdown",
   "metadata": {},
   "source": [
    "Les autres applications de `TF-IDF` sont la classification, le clustering et l'extraction de thématiques de documents."
   ]
  },
  {
   "cell_type": "markdown",
   "metadata": {},
   "source": [
    "## 6 Gensim\n",
    "\n",
    "**Gensim** : topic modelling for humans\n",
    "\n",
    "### 6.1 Word2Vec\n",
    "\n",
    "Hypothèses :\n",
    "- un corpus composé de documents\n",
    "- les documents sont composés de mots\n",
    "\n",
    "L'algorithme utilise le plongement lexical (word embeddings) (i.e. le contexte local) pour produire des vecteurs pour chacun des mots :\n",
    "\n",
    "- préprocessing des documents : `gensim.utils.simple_preprocess()`\n",
    "- modélisation des mots : `gensim.models.Word2Vec()`\n",
    "\n",
    "Ensuite, il est possible d'utiliser les propriétés algébriques des vecteurs pour calculer et utiliser la similarité entre des mots. L'utilisation typique de `gensim` est d'aider à trouver des synonymes ou des antonymes pour des applications dédiées de text mining.\n",
    "\n",
    "- `most_similar(positive=[...])`: trouve les entités similaires à une liste d'entités (synonymes)\n",
    "- `most_similar(positive=[...], negative=[...])`: trouve les entités similaires à une liste d'entités (synonyms) et celles qui sont le moins similaires à une autre (antonymes)\n",
    "- `closer_than(entity1, entity2)`:  trouve les entités plus proches de `entity1` que `entity2` l'est de `entity1`\n",
    "- `doesnt_match()`: trouve l'entité qui correspond le moins au autres\n",
    "\n",
    "Il y a beaucoup d'autres techniques du type \"X2Vec\" : e.g., Doc2Vec, Fact2Vec.\n",
    "\n",
    "Installation, ouvrir un terminal dans le dossier `anaconda3/condabin` :\n",
    "\n",
    "- PC: `.\\conda install -c anaconda gensim`\n",
    "- Mac: `./conda install -c anaconda gensim`"
   ]
  },
  {
   "cell_type": "markdown",
   "metadata": {},
   "source": [
    "<div class=\"alert alert-warning\">\n",
    "<b>Further reading</b>\n",
    "<ul>\n",
    "    <li><a href='https://radimrehurek.com/gensim/index.html'>https://radimrehurek.com/gensim/index.html</a></li>\n",
    "</ul>\n",
    "</div>"
   ]
  },
  {
   "cell_type": "code",
   "execution_count": 91,
   "metadata": {},
   "outputs": [],
   "source": [
    "# import\n",
    "\n",
    "import gensim"
   ]
  },
  {
   "cell_type": "markdown",
   "metadata": {},
   "source": [
    "#### Dataset"
   ]
  },
  {
   "cell_type": "markdown",
   "metadata": {},
   "source": [
    "#### Application de l'algorithme de `gensim `"
   ]
  },
  {
   "cell_type": "code",
   "execution_count": 92,
   "metadata": {},
   "outputs": [
    {
     "name": "stdout",
     "output_type": "stream",
     "text": [
      "Wall time: 1.15 s\n"
     ]
    }
   ],
   "source": [
    "%%time\n",
    "# preprocesing & modelling\n",
    "if False:\n",
    "    # step 1: preprocessing texts\n",
    "    documents = reviews.apply(lambda x: gensim.utils.simple_preprocess(x)).values\n",
    "    # step 2: process documents\n",
    "    # time depends on vector size, here 150\n",
    "    model = gensim.models.Word2Vec(documents,\n",
    "                              size=150,\n",
    "                              window=10,\n",
    "                              min_count=2,\n",
    "                              workers=4)\n",
    "    model.save('imdb_master.bin')\n",
    "else:\n",
    "    model = gensim.models.Word2Vec.load('imdb_master.bin')"
   ]
  },
  {
   "cell_type": "markdown",
   "metadata": {},
   "source": [
    "#### Utilisation du modèle\n",
    "\n",
    "La fonction `most_similar()` prend des mots positifis et/ou negatifs, afin de trouver des mots similaires, ou non similaires.\n",
    "\n",
    "C'est utile pour fabriquer des liste de synonymes ou d'antonymes pour une application de text mining.\n",
    "\n",
    "**Synonymes**"
   ]
  },
  {
   "cell_type": "code",
   "execution_count": 93,
   "metadata": {},
   "outputs": [
    {
     "data": {
      "text/plain": [
       "[('decent', 0.7372847199440002),\n",
       " ('great', 0.7173424959182739),\n",
       " ('bad', 0.6717012524604797),\n",
       " ('nice', 0.6500412225723267),\n",
       " ('cool', 0.6040078401565552),\n",
       " ('fine', 0.5939881205558777),\n",
       " ('lousy', 0.5854933261871338),\n",
       " ('solid', 0.5635207295417786),\n",
       " ('ok', 0.5624659657478333),\n",
       " ('passable', 0.558483898639679)]"
      ]
     },
     "execution_count": 93,
     "metadata": {},
     "output_type": "execute_result"
    }
   ],
   "source": [
    "# good\n",
    "model.wv.most_similar(positive='good')"
   ]
  },
  {
   "cell_type": "code",
   "execution_count": 94,
   "metadata": {},
   "outputs": [
    {
     "data": {
      "text/plain": [
       "[('fantastic', 0.7759535908699036),\n",
       " ('terrific', 0.7716937065124512),\n",
       " ('wonderful', 0.7639157176017761),\n",
       " ('good', 0.7173424959182739),\n",
       " ('fine', 0.706637442111969),\n",
       " ('excellent', 0.6937817931175232),\n",
       " ('brilliant', 0.6893624663352966),\n",
       " ('superb', 0.6746258735656738),\n",
       " ('fabulous', 0.6516358256340027),\n",
       " ('phenomenal', 0.6321423649787903)]"
      ]
     },
     "execution_count": 94,
     "metadata": {},
     "output_type": "execute_result"
    }
   ],
   "source": [
    "# great\n",
    "model.wv.most_similar(positive='great')"
   ]
  },
  {
   "cell_type": "code",
   "execution_count": 95,
   "metadata": {},
   "outputs": [
    {
     "data": {
      "text/plain": [
       "[('terrible', 0.7413280606269836),\n",
       " ('horrible', 0.7148046493530273),\n",
       " ('awful', 0.6947861313819885),\n",
       " ('lousy', 0.6744930148124695),\n",
       " ('good', 0.6717012524604797),\n",
       " ('crappy', 0.657317042350769),\n",
       " ('atrocious', 0.6277039647102356),\n",
       " ('stupid', 0.608429491519928),\n",
       " ('cheesy', 0.5925301313400269),\n",
       " ('lame', 0.5901769399642944)]"
      ]
     },
     "execution_count": 95,
     "metadata": {},
     "output_type": "execute_result"
    }
   ],
   "source": [
    "# bad\n",
    "model.wv.most_similar(positive='bad')"
   ]
  },
  {
   "cell_type": "code",
   "execution_count": 96,
   "metadata": {},
   "outputs": [
    {
     "data": {
      "text/plain": [
       "[('terrible', 0.9124504923820496),\n",
       " ('awful', 0.8054178953170776),\n",
       " ('atrocious', 0.8022431135177612),\n",
       " ('horrid', 0.7930867075920105),\n",
       " ('horrendous', 0.7795374393463135),\n",
       " ('dreadful', 0.7412251234054565),\n",
       " ('bad', 0.7148047089576721),\n",
       " ('pathetic', 0.7093362212181091),\n",
       " ('lousy', 0.7015645503997803),\n",
       " ('abysmal', 0.691840648651123)]"
      ]
     },
     "execution_count": 96,
     "metadata": {},
     "output_type": "execute_result"
    }
   ],
   "source": [
    "# horrible\n",
    "model.wv.most_similar(positive='horrible')"
   ]
  },
  {
   "cell_type": "code",
   "execution_count": 97,
   "metadata": {},
   "outputs": [
    {
     "data": {
      "text/plain": [
       "[('spiderman', 0.5990325212478638),\n",
       " ('spoofing', 0.5359722971916199),\n",
       " ('superman', 0.5184179544448853),\n",
       " ('spoof', 0.51120525598526),\n",
       " ('batman', 0.5023487210273743),\n",
       " ('super', 0.4956606924533844),\n",
       " ('schwarzenegger', 0.49426546692848206),\n",
       " ('barbarian', 0.4854781925678253),\n",
       " ('punisher', 0.48213669657707214),\n",
       " ('joker', 0.4730650782585144)]"
      ]
     },
     "execution_count": 97,
     "metadata": {},
     "output_type": "execute_result"
    }
   ],
   "source": [
    "# superhero\n",
    "model.wv.most_similar(positive=['superhero'])"
   ]
  },
  {
   "cell_type": "code",
   "execution_count": 98,
   "metadata": {},
   "outputs": [
    {
     "data": {
      "text/plain": [
       "[('alfred', 0.7150639295578003),\n",
       " ('vertigo', 0.6679542660713196),\n",
       " ('argento', 0.5988355875015259),\n",
       " ('noir', 0.5870914459228516),\n",
       " ('welles', 0.5851997137069702),\n",
       " ('kurosawa', 0.5804299116134644),\n",
       " ('melville', 0.578719437122345),\n",
       " ('martino', 0.5532824993133545),\n",
       " ('hitchcockian', 0.5514825582504272),\n",
       " ('preminger', 0.5501150488853455)]"
      ]
     },
     "execution_count": 98,
     "metadata": {},
     "output_type": "execute_result"
    }
   ],
   "source": [
    "# hitchcock\n",
    "model.wv.most_similar(positive=['hitchcock'])"
   ]
  },
  {
   "cell_type": "code",
   "execution_count": 99,
   "metadata": {},
   "outputs": [
    {
     "data": {
      "text/plain": [
       "[('truffaut', 0.6346330046653748),\n",
       " ('alfred', 0.6264778971672058),\n",
       " ('les', 0.6224466562271118),\n",
       " ('chabrol', 0.6078898906707764),\n",
       " ('melville', 0.6053509712219238),\n",
       " ('le', 0.6002724766731262),\n",
       " ('rififi', 0.5945923328399658),\n",
       " ('renoir', 0.5865354537963867),\n",
       " ('godard', 0.5809279680252075),\n",
       " ('visconti', 0.576780378818512)]"
      ]
     },
     "execution_count": 99,
     "metadata": {},
     "output_type": "execute_result"
    }
   ],
   "source": [
    "# hitchcock & french\n",
    "model.wv.most_similar(positive=['hitchcock', 'french'])"
   ]
  },
  {
   "cell_type": "code",
   "execution_count": null,
   "metadata": {},
   "outputs": [],
   "source": [
    "gensim.models.Word2Vec?"
   ]
  },
  {
   "cell_type": "markdown",
   "metadata": {},
   "source": [
    "**Arithmétique des mots**"
   ]
  },
  {
   "cell_type": "code",
   "execution_count": 100,
   "metadata": {},
   "outputs": [
    {
     "data": {
      "text/plain": [
       "[('queen', 0.6149173974990845),\n",
       " ('princess', 0.58946293592453),\n",
       " ('belle', 0.5155186653137207),\n",
       " ('prince', 0.5135155320167542),\n",
       " ('solomon', 0.500019907951355),\n",
       " ('anastasia', 0.4996923506259918),\n",
       " ('bride', 0.4883219599723816),\n",
       " ('madame', 0.4859088063240051),\n",
       " ('marie', 0.4820948839187622),\n",
       " ('mary', 0.4794308841228485)]"
      ]
     },
     "execution_count": 100,
     "metadata": {},
     "output_type": "execute_result"
    }
   ],
   "source": [
    "# +woman +king -man\n",
    "model.wv.most_similar(positive=['king', 'woman'], negative=['man'])"
   ]
  },
  {
   "cell_type": "code",
   "execution_count": 101,
   "metadata": {},
   "outputs": [
    {
     "data": {
      "text/plain": [
       "[('king', 0.5724821090698242),\n",
       " ('prince', 0.5672413110733032),\n",
       " ('knight', 0.560492753982544),\n",
       " ('genie', 0.5395191311836243),\n",
       " ('warrior', 0.532518744468689),\n",
       " ('grail', 0.5186480283737183),\n",
       " ('knights', 0.5095853209495544),\n",
       " ('kingdom', 0.4961550831794739),\n",
       " ('greystoke', 0.49459391832351685),\n",
       " ('ramses', 0.493614137172699)]"
      ]
     },
     "execution_count": 101,
     "metadata": {},
     "output_type": "execute_result"
    }
   ],
   "source": [
    "# +man +queen -woman\n",
    "model.wv.most_similar(positive=['queen', 'man'], negative=['woman'])"
   ]
  },
  {
   "cell_type": "code",
   "execution_count": 102,
   "metadata": {},
   "outputs": [
    {
     "data": {
      "text/plain": [
       "[('actress', 0.8525031208992004),\n",
       " ('actresses', 0.6010979413986206),\n",
       " ('performer', 0.5956622362136841),\n",
       " ('comedienne', 0.5493450164794922),\n",
       " ('portman', 0.5371352434158325),\n",
       " ('birch', 0.5356237292289734),\n",
       " ('ms', 0.527675449848175),\n",
       " ('role', 0.5268688201904297),\n",
       " ('juliette', 0.5221812129020691),\n",
       " ('thespian', 0.5213044285774231)]"
      ]
     },
     "execution_count": 102,
     "metadata": {},
     "output_type": "execute_result"
    }
   ],
   "source": [
    "model.wv.most_similar(positive=['actor', 'woman'], negative=['man'])"
   ]
  },
  {
   "cell_type": "markdown",
   "metadata": {},
   "source": [
    "**Trouver l'intrus**"
   ]
  },
  {
   "cell_type": "code",
   "execution_count": 103,
   "metadata": {},
   "outputs": [
    {
     "data": {
      "text/plain": [
       "'comedy'"
      ]
     },
     "execution_count": 103,
     "metadata": {},
     "output_type": "execute_result"
    }
   ],
   "source": [
    "# doesnt_match\n",
    "model.wv.doesnt_match(['thriller', 'drama', 'comedy', 'melodrama', 'romance'])"
   ]
  },
  {
   "cell_type": "markdown",
   "metadata": {},
   "source": [
    "### 6.2 Topic Modelling\n",
    "\n",
    "Le topic modelling est un outil de machine learning non supervisé.\n",
    "\n",
    "Il permet de trouver les thèmes majeurs dans un corpus de textes, de façon automatique (ou presque).\n",
    "La librairie de référence est **gensim**."
   ]
  },
  {
   "cell_type": "markdown",
   "metadata": {},
   "source": [
    "Il existe plusieurs modèle de Topic Modelling, les plus connus sont :\n",
    "- LSA pour **Latent Semantic Analysis**, qui fonctionne un peu comme une analyse en composantes\n",
    "principales\n",
    "- LDA pour **Latent Dirichlet Allocation**, qui fonctionne un peu comme un K-means\n",
    "\n",
    "Nous allons ici nous focaliser sur la mise en oeuvre de la LDA, mais la méthodologie est la même pour la\n",
    "LSA :\n",
    "- Preprocessing des données textuelles : calcul du BOW et/ou du TF-IDF\n",
    "- Entrainement du modèle (e.g. LDA ou LSA)\n",
    "- Interprétation des résultats et définition des thèmes majeurs\n",
    "- Eventuelles itérations pour affiner les résultats"
   ]
  },
  {
   "cell_type": "markdown",
   "metadata": {},
   "source": [
    "Nous allons ici nous focaliser sur la mise en oeuvre de la LDA, mais la méthodologie est la même pour la\n",
    "LSA :\n",
    "- Preprocessing des données textuelles : calcul du BOW et/ou du TF-IDF\n",
    "- Entrainement du modèle (e.g. LDA ou LSA)\n",
    "- Interprétation des résultats et définition des thèmes majeurs\n",
    "- Eventuelles itérations pour affiner les résultats"
   ]
  },
  {
   "cell_type": "markdown",
   "metadata": {},
   "source": [
    "#### 6.2.1 Preprocessing"
   ]
  },
  {
   "cell_type": "code",
   "execution_count": 104,
   "metadata": {},
   "outputs": [
    {
     "data": {
      "text/plain": [
       "0    [costner, dragged, movie, far, longer, necessary, aside, terrific, sea, rescue, sequences, care,...\n",
       "1    [example, majority, action, films, generic, boring, really, nothing, worth, watching, complete, ...\n",
       "2    [first, hate, moronic, rappers, act, gun, pressed, foreheads, curse, shoot, acting, like, cliché...\n",
       "3    [even, beatles, could, write, songs, everyone, liked, although, walter, hill, second, none, come...\n",
       "4    [brass, pictures, movies, fitting, word, really, somewhat, brassy, alluring, visual, qualities, ...\n",
       "Name: review, dtype: object"
      ]
     },
     "execution_count": 104,
     "metadata": {},
     "output_type": "execute_result"
    }
   ],
   "source": [
    "from sklearn.feature_extraction.text import TfidfVectorizer\n",
    "from nltk.corpus import stopwords\n",
    "from nltk.tokenize import word_tokenize\n",
    "\n",
    "stopwords_en = stopwords.words('english')\n",
    "\n",
    "def clean_data(text):\n",
    "    text = text.lower()\n",
    "    tokens = word_tokenize(text)\n",
    "    tokens = [t for t in tokens if t.isalpha() and t not in stopwords_en]\n",
    "    return tokens\n",
    "\n",
    "# On effectue le traitement en tokens pour la suite\n",
    "tokens = reviews[:10_000].apply(clean_data)\n",
    "tokens.head()"
   ]
  },
  {
   "cell_type": "code",
   "execution_count": 105,
   "metadata": {},
   "outputs": [
    {
     "data": {
      "text/plain": [
       "<10000x46345 sparse matrix of type '<class 'numpy.float64'>'\n",
       "\twith 917923 stored elements in Compressed Sparse Row format>"
      ]
     },
     "execution_count": 105,
     "metadata": {},
     "output_type": "execute_result"
    }
   ],
   "source": [
    "# On calcule de TF-IDF\n",
    "vectorizer = TfidfVectorizer(stop_words=stopwords_en, analyzer=lambda x: x)\n",
    "tfidf = vectorizer.fit_transform(tokens)\n",
    "tfidf"
   ]
  },
  {
   "cell_type": "markdown",
   "metadata": {},
   "source": [
    "####  6.2.2 Topic Modelling\n",
    "Nous allons ensuite passer à l'étape de Topic Modelling à l'aide de gensim.\n",
    "\n",
    "La première étape est toujours la même : instancier le modèle de LDA qu'il faut importer au préalable de la façon suivante :\n",
    "\n",
    "```python\n",
    "    from gensim.models import LdaModel\n",
    "```\n",
    "\n",
    "La classe `LdaModel` possède la signature suivante (extrait) :\n",
    "\n",
    "```python\n",
    "    lda_model = gensim.models.ldamodel.LdaModel(corpus,\n",
    "                                            id2word,\n",
    "                                            num_topics,\n",
    "                                            random_state,\n",
    "                                            chunksize,\n",
    "                                            passes)\n",
    "```\n",
    "\n",
    "Avec :\n",
    "- `Corpus` le TF-IDF ou le BOW (calculé avec scikit-learn)\n",
    "- `id2word` un dictionnaire avec les correspondances entre indices dans le corpus et les mots (calculé par gensim)\n",
    "- `num_topics` est le nombre désiré de thèmes\n",
    "- `random_state` pour la reproductibilité (mettre toujours la même valeur)\n",
    "- `chunksize` la taille du mini-batch (laisser par défaut)\n",
    "- `passes` le nombre de fois que le modèle verra tout le corpus pour s'entraîner (1 par défaut, en général 5 ou 10 est très bien)\n",
    "\n",
    "La seule information qui manque est le paramètre `id2word`.\n",
    "\n",
    "On peut utiliser pour ça l'objet `Dictionary` du module `gensim.corpora`, qui s'importe de la façon suivante :\n",
    "```python\\n\",\n",
    "    from gensim.corpora import Dictionary\n",
    "```\n",
    "Et qui s'applique directement sur les tokens (d'où la nécessité de le calculer au-dessus) :"
   ]
  },
  {
   "cell_type": "code",
   "execution_count": 106,
   "metadata": {},
   "outputs": [],
   "source": [
    "from gensim.corpora import Dictionary\n",
    "from nltk.tokenize import word_tokenize\n",
    "id2word = Dictionary(tokens)"
   ]
  },
  {
   "cell_type": "markdown",
   "metadata": {},
   "source": [
    "Un dernier détail avant de pouvoir utiliser le modèle, il faut convertir le TF-IDF de `scikit-learn` en un format propre à `gensim` à l'aide de la classe `Sparse2Corpus` :"
   ]
  },
  {
   "cell_type": "code",
   "execution_count": 107,
   "metadata": {},
   "outputs": [],
   "source": [
    "from gensim.matutils import Sparse2Corpus\n",
    "tfidf_gensim = Sparse2Corpus(tfidf, documents_columns=False)"
   ]
  },
  {
   "cell_type": "markdown",
   "metadata": {},
   "source": [
    "Finalement, il est possible d'instancier et d'entrainer notre modèle (le tout se faisant en même temps) :"
   ]
  },
  {
   "cell_type": "code",
   "execution_count": 108,
   "metadata": {},
   "outputs": [
    {
     "name": "stdout",
     "output_type": "stream",
     "text": [
      "Wall time: 18.9 s\n"
     ]
    }
   ],
   "source": [
    "%%time\n",
    "from gensim.models import LdaModel\n",
    "\n",
    "# On instancie et entraine un modèle qui trouvera 3 thèmes\n",
    "lda = LdaModel(corpus=tfidf_gensim,\n",
    "    id2word=id2word,\n",
    "    num_topics=3,\n",
    "    random_state=0,\n",
    "    passes=5)"
   ]
  },
  {
   "cell_type": "markdown",
   "metadata": {},
   "source": [
    "Il est maintenant possible d'afficher les thèmes majeurs, avec la méthode `print_topics()` :"
   ]
  },
  {
   "cell_type": "code",
   "execution_count": 109,
   "metadata": {},
   "outputs": [
    {
     "name": "stdout",
     "output_type": "stream",
     "text": [
      "[(0,\n",
      "  '0.000*\"home\" + 0.000*\"tinsy\" + 0.000*\"questionâ\" + 0.000*\"sheppherd\" + '\n",
      "  '0.000*\"westernized\" + 0.000*\"weekend\" + 0.000*\"unmanned\" + 0.000*\"lulled\" + '\n",
      "  '0.000*\"barefooted\" + 0.000*\"waster\"'),\n",
      " (1,\n",
      "  '0.000*\"disclose\" + 0.000*\"korea\" + 0.000*\"boyce\" + 0.000*\"incantation\" + '\n",
      "  '0.000*\"rajiv\" + 0.000*\"relates\" + 0.000*\"varied\" + 0.000*\"nebraskans\" + '\n",
      "  '0.000*\"apologize\" + 0.000*\"gci\"'),\n",
      " (2,\n",
      "  '0.005*\"campier\" + 0.004*\"morality\" + 0.003*\"rougas\" + 0.003*\"sociopath\" + '\n",
      "  '0.002*\"liebe\" + 0.002*\"obstruction\" + 0.002*\"cinephile\" + 0.002*\"seth\" + '\n",
      "  '0.002*\"storywriting\" + 0.002*\"timid\"')]\n"
     ]
    }
   ],
   "source": [
    "from pprint import pprint\n",
    "pprint(lda.print_topics())"
   ]
  },
  {
   "cell_type": "markdown",
   "metadata": {},
   "source": [
    "L'idée est ensuite d'interpréter ces résultats...\n",
    "\n",
    "Une possibilité est d'utiliser les vecteurs obtenus par Word2Vec pour calculer un vecteur pour chaque topic."
   ]
  },
  {
   "cell_type": "code",
   "execution_count": 110,
   "metadata": {},
   "outputs": [
    {
     "data": {
      "text/plain": [
       "(2,\n",
       " [('campier', 0.005404091),\n",
       "  ('morality', 0.003953176),\n",
       "  ('rougas', 0.002788912),\n",
       "  ('sociopath', 0.0025350633),\n",
       "  ('liebe', 0.0023421515),\n",
       "  ('obstruction', 0.0021005285),\n",
       "  ('cinephile', 0.002071148),\n",
       "  ('seth', 0.0020104623),\n",
       "  ('storywriting', 0.0018757684),\n",
       "  ('timid', 0.0017556833)])"
      ]
     },
     "execution_count": 110,
     "metadata": {},
     "output_type": "execute_result"
    }
   ],
   "source": [
    "# obtention du topic n° 2\n",
    "topics = lda.show_topics(num_topics=10, num_words=10, log=False, formatted=False)\n",
    "topics[2]"
   ]
  },
  {
   "cell_type": "code",
   "execution_count": 111,
   "metadata": {},
   "outputs": [
    {
     "data": {
      "text/plain": [
       "[('morality', 0.8388537168502808),\n",
       " ('sociopath', 0.7139776945114136),\n",
       " ('compassionate', 0.6696017980575562)]"
      ]
     },
     "execution_count": 111,
     "metadata": {},
     "output_type": "execute_result"
    }
   ],
   "source": [
    "# calcul du vecteur pondéré et des mots similaires\n",
    "vector = np.zeros(150)\n",
    "\n",
    "for word, weight in topics[2][1]:\n",
    "    if word in model.wv:\n",
    "        vector += model.wv[word] * weight\n",
    "\n",
    "model.wv.most_similar(positive=[vector], topn=3)"
   ]
  },
  {
   "cell_type": "markdown",
   "metadata": {},
   "source": [
    "#### 6.2.3 Visualisation des résultats\n",
    "\n",
    "Il existe un package dédié de visualisation des résultats de LDA, nommé pyLDAvis . Il s'agit du portage en Python du package R `LDAvis`.\n",
    "\n",
    "Il doit au préalable être installé avec la commande suivante :\n",
    "```\n",
    "conda install -c conda-forge pyldavis\n",
    "```\n",
    "\n",
    "L'utilisation du package est ensuite relativement simple, il suffit ensuite d'effectuer quelques imports et d'écrire quelques lignes de code :"
   ]
  },
  {
   "cell_type": "code",
   "execution_count": 116,
   "metadata": {},
   "outputs": [
    {
     "name": "stderr",
     "output_type": "stream",
     "text": [
      "c:\\users\\francis\\miniconda3\\envs\\bdf\\lib\\site-packages\\ipykernel\\ipkernel.py:283: DeprecationWarning: `should_run_async` will not call `transform_cell` automatically in the future. Please pass the result to `transformed_cell` argument and any exception that happen during thetransform in `preprocessing_exc_tuple` in IPython 7.17 and above.\n",
      "  and should_run_async(code)\n"
     ]
    },
    {
     "data": {
      "text/plain": [
       "['PreparedData',\n",
       " '__all__',\n",
       " '__builtins__',\n",
       " '__cached__',\n",
       " '__doc__',\n",
       " '__file__',\n",
       " '__loader__',\n",
       " '__name__',\n",
       " '__package__',\n",
       " '__path__',\n",
       " '__spec__',\n",
       " '__version__',\n",
       " '_display',\n",
       " '_prepare',\n",
       " '_server',\n",
       " 'disable_notebook',\n",
       " 'display',\n",
       " 'enable_notebook',\n",
       " 'gensim',\n",
       " 'js_PCoA',\n",
       " 'prepare',\n",
       " 'prepared_data_to_html',\n",
       " 'save_html',\n",
       " 'save_json',\n",
       " 'show',\n",
       " 'urls',\n",
       " 'utils']"
      ]
     },
     "execution_count": 116,
     "metadata": {},
     "output_type": "execute_result"
    }
   ],
   "source": [
    "dir(pyLDAvis)"
   ]
  },
  {
   "cell_type": "code",
   "execution_count": 112,
   "metadata": {},
   "outputs": [
    {
     "data": {
      "text/html": [
       "\n",
       "<link rel=\"stylesheet\" type=\"text/css\" href=\"https://cdn.rawgit.com/bmabey/pyLDAvis/files/ldavis.v1.0.0.css\">\n",
       "\n",
       "\n",
       "<div id=\"ldavis_el925615946636484004562996\"></div>\n",
       "<script type=\"text/javascript\">\n",
       "\n",
       "var ldavis_el925615946636484004562996_data = {\"mdsDat\": {\"x\": [0.1430949165363136, -0.0715717173592949, -0.07152319917701869], \"y\": [0.0, 0.0, -0.0], \"topics\": [1, 2, 3], \"cluster\": [1, 1, 1], \"Freq\": [57.07549546256392, 21.940380314237327, 20.984124223198755]}, \"tinfo\": {\"Term\": [\"campier\", \"morality\", \"rougas\", \"sociopath\", \"liebe\", \"obstruction\", \"cinephile\", \"seth\", \"storywriting\", \"timid\", \"greenlit\", \"loosing\", \"barged\", \"millers\", \"tethered\", \"coattails\", \"neely\", \"expressions\", \"oooooh\", \"galling\", \"faking\", \"shibuya\", \"commentators\", \"mars\", \"gregory\", \"lattice\", \"commence\", \"program\", \"rhonda\", \"archeologist\", \"campier\", \"morality\", \"rougas\", \"sociopath\", \"liebe\", \"obstruction\", \"cinephile\", \"seth\", \"storywriting\", \"timid\", \"greenlit\", \"loosing\", \"barged\", \"millers\", \"tethered\", \"coattails\", \"expressions\", \"neely\", \"oooooh\", \"galling\", \"faking\", \"shibuya\", \"commentators\", \"mars\", \"gregory\", \"commence\", \"lattice\", \"program\", \"archeologist\", \"rhonda\", \"lemkow\", \"disclose\", \"rajiv\", \"incantation\", \"nebraskans\", \"boyce\", \"relates\", \"varied\", \"tragicomic\", \"sarge\", \"apologize\", \"gci\", \"shortly\", \"resemble\", \"biengs\", \"buffy\", \"tongue\", \"energy\", \"deign\", \"imparted\", \"thwarted\", \"caged\", \"pending\", \"producing\", \"eardrums\", \"comeuppance\", \"tye\", \"burst\", \"ashtrays\", \"irritated\", \"corelli\", \"neither\\u00e2\", \"sours\", \"melancholic\", \"salwar\", \"instalments\", \"disloyal\", \"unsalvageable\", \"korea\", \"wormy\", \"grasp\", \"stems\", \"natch\", \"home\", \"tinsy\", \"sheppherd\", \"westernized\", \"question\\u00e2\", \"weekend\", \"waster\", \"yrs\", \"dogfight\", \"tobey\", \"unmanned\", \"lulled\", \"barefooted\", \"db\", \"faxes\", \"ilk\", \"overtook\", \"kungfu\", \"bathebo\", \"woolrich\", \"enriching\", \"busmalis\", \"jonesing\", \"rainstorm\", \"shortening\", \"natured\", \"prolong\", \"adjl\", \"adulation\", \"superfluous\", \"berets\", \"teabag\", \"everett\", \"swim\", \"androgynous\", \"throat\", \"rehabilitate\"], \"Freq\": [3436.0, 2516.0, 1778.0, 1617.0, 1495.0, 1342.0, 1323.0, 1285.0, 1199.0, 1123.0, 1116.0, 1073.0, 1025.0, 1012.0, 976.0, 959.0, 956.0, 955.0, 924.0, 921.0, 901.0, 897.0, 860.0, 844.0, 841.0, 838.0, 838.0, 826.0, 810.0, 809.0, 3426.5377286825305, 2506.5653163544425, 1768.3477886652743, 1607.391531631199, 1485.0731498277746, 1331.8687676474992, 1313.2397024576971, 1274.7611194049064, 1189.3565961008549, 1113.2150088985052, 1105.9210806023711, 1063.0029846926705, 1014.9039808220629, 1002.4808886876726, 965.7046208368312, 949.2151492834747, 945.3869699840425, 945.9900362922521, 914.414680192957, 910.7423237792812, 890.9779142949172, 887.1949096075565, 850.1269997758417, 834.7050367842141, 831.4410234325965, 827.8114795597728, 827.9799247636081, 816.0316089443222, 799.4813140570656, 800.0878496573787, 799.517114198985, 18.763477716533085, 10.219017256611231, 10.219017256611231, 10.219017256611231, 10.219017256611231, 10.219017256611231, 10.219017256611231, 9.15709138187597, 9.15709138187597, 9.438428770325947, 9.265928529096195, 9.265928529096195, 9.265928529096195, 9.265928529096195, 8.77083527080363, 9.079362216493761, 8.056895471562722, 8.056862662848054, 7.774259922078287, 8.641615044553975, 8.199332289491748, 7.172259023676822, 7.171957538190678, 7.104759083495097, 7.104759083495097, 7.104759083495097, 7.104759083495097, 7.104759083495097, 7.104759083495097, 6.994665451175263, 6.994665451175263, 6.994665451175263, 7.610959421786037, 8.324997647170951, 8.324997647170951, 8.324997647170951, 7.871238935750831, 10.583790753351732, 8.263078735370973, 9.062220106440385, 9.014692692993723, 8.570155003839536, 8.592075393952557, 8.592075393952557, 7.804162115796812, 7.679196588923113, 8.401505340079776, 6.485613485750953, 5.963729418348391, 5.9293429510090645, 5.9293378625599, 5.929278073282221, 6.012503899736904, 6.012338525139068, 6.0120073519059645, 5.615629459100797, 5.615629459100797, 5.615629459100797, 5.615629459100797, 5.615629459100797, 5.615629459100797, 5.615629459100797, 5.615629459100797, 5.632393354872232, 5.450883708773727, 5.450882012624006, 5.450879468399424, 5.450877348212272, 5.450877348212272, 5.427053653262949, 5.427052805188089, 5.427051109038367, 5.58011378008445, 5.744882428432758, 5.7447497047170595, 5.912419617163819, 5.694558090236319, 5.721541712116604, 5.579978936181599], \"Total\": [3436.0, 2516.0, 1778.0, 1617.0, 1495.0, 1342.0, 1323.0, 1285.0, 1199.0, 1123.0, 1116.0, 1073.0, 1025.0, 1012.0, 976.0, 959.0, 956.0, 955.0, 924.0, 921.0, 901.0, 897.0, 860.0, 844.0, 841.0, 838.0, 838.0, 826.0, 810.0, 809.0, 3436.9368844081127, 2516.962044264484, 1778.699174916338, 1617.7188906386725, 1495.3856155615838, 1342.191482716593, 1323.554842576228, 1285.0690034395602, 1199.6589263786998, 1123.5090795558328, 1116.2345653745156, 1073.306986311903, 1025.2013573325441, 1012.770952391352, 976.0065176700743, 959.5097700562505, 955.6751006092346, 956.294111953892, 924.7167813664171, 921.0350655729251, 901.2813608160527, 897.4824689239122, 860.4174301340512, 844.9906286071807, 841.7283897617993, 838.0962503044467, 838.2760386370168, 826.3208010588529, 809.7654229947301, 810.3802477253121, 809.8061196131911, 31.932711560578905, 17.824436578735032, 17.824436578735032, 17.824436578735032, 17.824436578735032, 17.824436578735032, 17.824436578735032, 16.906935020921452, 16.906935020921452, 17.436345284851427, 17.185980066957256, 17.185980066957256, 17.185980066957256, 17.185980066957256, 16.817541796642406, 17.789296153241363, 15.795060633556925, 15.795042360538055, 15.602620197362498, 17.53309844759087, 16.640111623452388, 14.661214535908652, 14.661033016126055, 14.717539284653245, 14.717539284653245, 14.717539284653245, 14.717539284653245, 14.717539284653245, 14.717539284653245, 14.543216823513902, 14.543216823513902, 14.543216823513902, 15.90282094992301, 17.61202626620698, 17.61202626620698, 17.61202626620698, 16.783974288550404, 25.390251287469773, 18.180702455630566, 20.830645530555977, 20.69652294110869, 20.45930977291048, 16.270539959493895, 16.270539959493895, 15.458897567756257, 15.265948419587861, 17.145322447635845, 14.126547835058918, 13.49986141022179, 13.523973081612713, 13.52397015570434, 13.523935372847536, 13.82305676072681, 13.822963647549889, 13.822778770602653, 13.136926854996329, 13.136926854996329, 13.136926854996329, 13.136926854996329, 13.136926854996329, 13.136926854996329, 13.136926854996329, 13.136926854996329, 13.33170227129909, 12.948645453503806, 12.948644189862243, 12.948643109037222, 12.948641554674763, 12.948641853866386, 12.955993957364095, 12.955994140180639, 12.95599302070846, 13.390277051550443, 14.051533347794518, 14.051466920290654, 16.161837773608994, 14.828602050498267, 16.50358991966812, 14.806978296458123], \"Category\": [\"Default\", \"Default\", \"Default\", \"Default\", \"Default\", \"Default\", \"Default\", \"Default\", \"Default\", \"Default\", \"Default\", \"Default\", \"Default\", \"Default\", \"Default\", \"Default\", \"Default\", \"Default\", \"Default\", \"Default\", \"Default\", \"Default\", \"Default\", \"Default\", \"Default\", \"Default\", \"Default\", \"Default\", \"Default\", \"Default\", \"Topic1\", \"Topic1\", \"Topic1\", \"Topic1\", \"Topic1\", \"Topic1\", \"Topic1\", \"Topic1\", \"Topic1\", \"Topic1\", \"Topic1\", \"Topic1\", \"Topic1\", \"Topic1\", \"Topic1\", \"Topic1\", \"Topic1\", \"Topic1\", \"Topic1\", \"Topic1\", \"Topic1\", \"Topic1\", \"Topic1\", \"Topic1\", \"Topic1\", \"Topic1\", \"Topic1\", \"Topic1\", \"Topic1\", \"Topic1\", \"Topic1\", \"Topic2\", \"Topic2\", \"Topic2\", \"Topic2\", \"Topic2\", \"Topic2\", \"Topic2\", \"Topic2\", \"Topic2\", \"Topic2\", \"Topic2\", \"Topic2\", \"Topic2\", \"Topic2\", \"Topic2\", \"Topic2\", \"Topic2\", \"Topic2\", \"Topic2\", \"Topic2\", \"Topic2\", \"Topic2\", \"Topic2\", \"Topic2\", \"Topic2\", \"Topic2\", \"Topic2\", \"Topic2\", \"Topic2\", \"Topic2\", \"Topic2\", \"Topic2\", \"Topic2\", \"Topic2\", \"Topic2\", \"Topic2\", \"Topic2\", \"Topic2\", \"Topic2\", \"Topic2\", \"Topic2\", \"Topic2\", \"Topic3\", \"Topic3\", \"Topic3\", \"Topic3\", \"Topic3\", \"Topic3\", \"Topic3\", \"Topic3\", \"Topic3\", \"Topic3\", \"Topic3\", \"Topic3\", \"Topic3\", \"Topic3\", \"Topic3\", \"Topic3\", \"Topic3\", \"Topic3\", \"Topic3\", \"Topic3\", \"Topic3\", \"Topic3\", \"Topic3\", \"Topic3\", \"Topic3\", \"Topic3\", \"Topic3\", \"Topic3\", \"Topic3\", \"Topic3\", \"Topic3\", \"Topic3\", \"Topic3\", \"Topic3\", \"Topic3\", \"Topic3\", \"Topic3\"], \"logprob\": [30.0, 29.0, 28.0, 27.0, 26.0, 25.0, 24.0, 23.0, 22.0, 21.0, 20.0, 19.0, 18.0, 17.0, 16.0, 15.0, 14.0, 13.0, 12.0, 11.0, 10.0, 9.0, 8.0, 7.0, 6.0, 5.0, 4.0, 3.0, 2.0, 1.0, -5.220600128173828, -5.533199787139893, -5.8821001052856445, -5.977499961853027, -6.056700229644775, -6.165599822998047, -6.179699897766113, -6.209400177001953, -6.27869987487793, -6.344900131225586, -6.351500034332275, -6.39109992980957, -6.437399864196777, -6.449699878692627, -6.486999988555908, -6.504300117492676, -6.508299827575684, -6.507699966430664, -6.541600227355957, -6.545599937438965, -6.567599773406982, -6.571800231933594, -6.614500045776367, -6.632800102233887, -6.63670015335083, -6.64109992980957, -6.640900135040283, -6.6554999351501465, -6.675899982452393, -6.67519998550415, -6.675899982452393, -9.47189998626709, -10.07960033416748, -10.07960033416748, -10.07960033416748, -10.07960033416748, -10.07960033416748, -10.07960033416748, -10.189299583435059, -10.189299583435059, -10.159099578857422, -10.177499771118164, -10.177499771118164, -10.177499771118164, -10.177499771118164, -10.232399940490723, -10.19789981842041, -10.317299842834473, -10.317299842834473, -10.352999687194824, -10.247300148010254, -10.299799919128418, -10.433600425720215, -10.433699607849121, -10.443099975585938, -10.443099975585938, -10.443099975585938, -10.443099975585938, -10.443099975585938, -10.443099975585938, -10.458700180053711, -10.458700180053711, -10.458700180053711, -10.374300003051758, -10.284600257873535, -10.284600257873535, -10.284600257873535, -10.34060001373291, -10.044500350952148, -10.292099952697754, -10.199700355529785, -10.204999923706055, -10.255599975585938, -10.208499908447266, -10.208499908447266, -10.30459976196289, -10.320799827575684, -10.230899810791016, -10.489700317382812, -10.573599815368652, -10.579400062561035, -10.579400062561035, -10.579400062561035, -10.565500259399414, -10.565500259399414, -10.565500259399414, -10.633700370788574, -10.633700370788574, -10.633700370788574, -10.633700370788574, -10.633700370788574, -10.633700370788574, -10.633700370788574, -10.633700370788574, -10.630800247192383, -10.66349983215332, -10.66349983215332, -10.66349983215332, -10.66349983215332, -10.66349983215332, -10.667900085449219, -10.667900085449219, -10.667900085449219, -10.64009952545166, -10.611000061035156, -10.611000061035156, -10.582200050354004, -10.619799613952637, -10.615099906921387, -10.64009952545166], \"loglift\": [30.0, 29.0, 28.0, 27.0, 26.0, 25.0, 24.0, 23.0, 22.0, 21.0, 20.0, 19.0, 18.0, 17.0, 16.0, 15.0, 14.0, 13.0, 12.0, 11.0, 10.0, 9.0, 8.0, 7.0, 6.0, 5.0, 4.0, 3.0, 2.0, 1.0, 0.5578, 0.5567, 0.555, 0.5544, 0.5539, 0.5531, 0.553, 0.5527, 0.5522, 0.5516, 0.5515, 0.5511, 0.5507, 0.5506, 0.5502, 0.55, 0.55, 0.55, 0.5496, 0.5496, 0.5493, 0.5493, 0.5488, 0.5485, 0.5485, 0.5484, 0.5484, 0.5483, 0.548, 0.548, 0.548, 0.9851, 0.9605, 0.9605, 0.9605, 0.9605, 0.9605, 0.9605, 0.9036, 0.9036, 0.9031, 0.8991, 0.8991, 0.8991, 0.8991, 0.8659, 0.8442, 0.8437, 0.8437, 0.8202, 0.8093, 0.8091, 0.8019, 0.8018, 0.7886, 0.7886, 0.7886, 0.7886, 0.7886, 0.7886, 0.7849, 0.7849, 0.7849, 0.7799, 0.7675, 0.7675, 0.7675, 0.7596, 0.6418, 0.7283, 0.6845, 0.6857, 0.6467, 0.9229, 0.9229, 0.8779, 0.8743, 0.8481, 0.7829, 0.7444, 0.7369, 0.7369, 0.7368, 0.7289, 0.7289, 0.7288, 0.7115, 0.7115, 0.7115, 0.7115, 0.7115, 0.7115, 0.7115, 0.7115, 0.6998, 0.6962, 0.6962, 0.6962, 0.6962, 0.6962, 0.6912, 0.6912, 0.6912, 0.6861, 0.667, 0.667, 0.5558, 0.6044, 0.5021, 0.5855]}, \"token.table\": {\"Topic\": [1, 2, 3, 1, 2, 3, 1, 2, 3, 1, 2, 3, 1, 2, 3, 1, 2, 3, 1, 2, 3, 1, 2, 3, 1, 2, 3, 1, 2, 3, 1, 2, 3, 1, 2, 3, 1, 2, 3, 1, 2, 3, 1, 2, 3, 1, 2, 3, 1, 2, 3, 1, 2, 3, 1, 2, 3, 1, 2, 3, 1, 2, 3, 1, 2, 3, 1, 2, 3, 1, 2, 3, 1, 2, 3, 1, 2, 3, 1, 2, 3, 1, 2, 3, 1, 2, 3, 1, 2, 3, 1, 2, 3, 1, 2, 3, 1, 2, 3, 1, 2, 3, 1, 2, 3, 1, 2, 3, 1, 2, 3, 1, 2, 3, 1, 2, 3, 1, 2, 3, 1, 2, 3, 1, 2, 3, 1, 2, 3, 1, 2, 3, 1, 2, 3, 1, 2, 3, 1, 2, 3, 1, 2, 3, 1, 2, 3, 1, 2, 3, 1, 2, 3, 1, 2, 3, 1, 2, 3, 1, 2, 3, 1, 2, 3, 1, 2, 3, 1, 2, 3, 1, 2, 3, 1, 2, 3, 1, 2, 3, 1, 2, 3, 1, 2, 3, 1, 2, 3, 1, 2, 3, 1, 2, 3, 1, 2, 3, 1, 2, 3, 1, 2, 3, 1, 2, 3, 1, 2, 3, 1, 2, 3, 1, 2, 3, 1, 2, 3, 1, 2, 3, 1, 2, 3, 1, 2, 3, 1, 2, 3, 1, 2, 3, 1, 2, 3, 1, 2, 3, 1, 2, 3, 1, 2, 3, 1, 2, 3, 1, 2, 3, 1, 2, 3, 1, 2, 3, 1, 2, 3, 1, 2, 3, 1, 2, 3, 1, 2, 3, 1, 2, 3, 1, 2, 3, 1, 2, 3, 1, 2, 3, 1, 2, 3, 1, 2, 3, 1, 2, 3, 1, 2, 3, 1, 2, 3, 1, 2, 3, 1, 2, 3, 1, 2, 3, 1, 2, 3, 1, 2, 3, 1, 2, 3, 1, 2, 3, 1, 2, 3, 1, 2, 3, 1, 2, 3, 1, 2, 3], \"Freq\": [0.15436870429097524, 0.3859217607274381, 0.3859217607274381, 0.15436870211274387, 0.3859217552818596, 0.3859217552818596, 0.2697489612559663, 0.33718620156995793, 0.4046234418839495, 0.17205440423380344, 0.5161632127014103, 0.2867573403896724, 0.9867055042250178, 0.006174627686013879, 0.006174627686013879, 0.2038384231206543, 0.4756229872815267, 0.3397307052010905, 0.2170330618601953, 0.36172176976699216, 0.4340661237203906, 0.9900494110161082, 0.004877090694660632, 0.004877090694660632, 0.15224260758058084, 0.3806065189514521, 0.4567278227417425, 0.22404316120200318, 0.37340526867000534, 0.44808632240400637, 0.17456089139588674, 0.5236826741876602, 0.29093481899314455, 0.16830826527100834, 0.5610275509033611, 0.28051377545168055, 0.17838516688562325, 0.5351555006568698, 0.29730861147603876, 0.2038384231206543, 0.4756229872815267, 0.3397307052010905, 0.15001835169284145, 0.37504587923210364, 0.45005505507852434, 0.18028725214630373, 0.4807660057234766, 0.30047875357717285, 0.9971087963665577, 0.0014547837705960864, 0.0014547837705960864, 0.9920253832809197, 0.0037777051914734184, 0.0037777051914734184, 0.9890467295026768, 0.005210994359866579, 0.005210994359866579, 0.2038384231206543, 0.4756229872815267, 0.3397307052010905, 0.9879533522542558, 0.005965901885593332, 0.005965901885593332, 0.9878925858900509, 0.00581113285817677, 0.00581113285817677, 0.2062817350800623, 0.4813240485201454, 0.34380289180010387, 0.15224260758058084, 0.3806065189514521, 0.4567278227417425, 0.1899330138863778, 0.5064880370303408, 0.316555023143963, 0.2505267986661064, 0.5950011468320027, 0.1565792491663165, 0.22711753545785857, 0.45423507091571713, 0.2838969193223232, 0.14788556740170047, 0.3697139185042512, 0.44365670220510145, 0.2038384231206543, 0.4756229872815267, 0.3397307052010905, 0.18993279415632247, 0.5064874510835266, 0.31655465692720414, 0.15224260758058084, 0.3806065189514521, 0.4567278227417425, 0.21350084066083722, 0.3558347344347287, 0.42700168132167443, 0.9888297805368903, 0.005231903600724288, 0.005231903600724288, 0.9885925069983211, 0.005547657166096078, 0.005547657166096078, 0.15224260758058084, 0.3806065189514521, 0.4567278227417425, 0.9891045781555745, 0.0054286749624345475, 0.0054286749624345475, 0.17456089139588674, 0.5236826741876602, 0.29093481899314455, 0.2880371609799007, 0.432055741469851, 0.24003096748325056, 0.9908311696376454, 0.004479345251526426, 0.004479345251526426, 0.9872543329982783, 0.005940158441626223, 0.005940158441626223, 0.12292155054344067, 0.3073038763586017, 0.553146977445483, 0.15224260758058084, 0.3806065189514521, 0.4567278227417425, 0.19227539746863329, 0.5127343932496888, 0.3204589957810555, 0.16830826527100834, 0.5610275509033611, 0.28051377545168055, 0.22711753545785857, 0.45423507091571713, 0.2838969193223232, 0.2038384231206543, 0.4756229872815267, 0.3397307052010905, 0.15445631028987786, 0.38614077572469463, 0.38614077572469463, 0.39385195076564894, 0.43323714584221384, 0.19692597538282447, 0.15224260758058084, 0.3806065189514521, 0.4567278227417425, 0.9877414620442629, 0.005964622355339752, 0.005964622355339752, 0.9878907810453754, 0.006174317381533596, 0.006174317381533596, 0.9930548913581173, 0.003343619162821944, 0.003343619162821944, 0.9903969819973688, 0.004658499444954698, 0.004658499444954698, 0.21703015912450496, 0.361716931874175, 0.4340603182490099, 0.9881766397532141, 0.005917225387743797, 0.005917225387743797, 0.18864577608254615, 0.5030554028867897, 0.3144096268042436, 0.989364868368391, 0.004936950440960035, 0.004936950440960035, 0.996042036356017, 0.0019865218116394434, 0.0019865218116394434, 0.3421425296208417, 0.43989753808393933, 0.24438752115774406, 0.15445635679659023, 0.38614089199147555, 0.38614089199147555, 0.16830826527100834, 0.5610275509033611, 0.28051377545168055, 0.9892354121758011, 0.0052285169776733675, 0.0052285169776733675, 0.2062817350800623, 0.4813240485201454, 0.34380289180010387, 0.9924068340115185, 0.003725250878421616, 0.003725250878421616, 0.9884107419889349, 0.005407060951799425, 0.005407060951799425, 0.15224260758058084, 0.3806065189514521, 0.4567278227417425, 0.13641434651280387, 0.4774502127948136, 0.3410358662820097, 0.1364160354730903, 0.47745612415581606, 0.34104008868272573, 0.9875099343431416, 0.006050918715337877, 0.006050918715337877, 0.15445635322771803, 0.38614088306929506, 0.38614088306929506, 0.17497483696573274, 0.29162472827622127, 0.466599565241954, 0.15445632536307088, 0.3861408134076772, 0.3861408134076772, 0.16830826527100834, 0.5610275509033611, 0.28051377545168055, 0.27014289613410275, 0.3376786201676284, 0.4052143442011541, 0.16830826527100834, 0.5610275509033611, 0.28051377545168055, 0.17456089139588674, 0.5236826741876602, 0.29093481899314455, 0.9871908924798589, 0.006169943077999118, 0.006169943077999118, 0.9939848316864254, 0.002811043076036271, 0.002811043076036271, 0.22711753545785857, 0.45423507091571713, 0.2838969193223232, 0.17744197847141757, 0.5323259354142527, 0.29573663078569595, 0.9921646204113476, 0.003890841648671951, 0.003890841648671951, 0.12937533166475887, 0.3234383291618972, 0.5175013266590355, 0.9883201407416006, 0.005571139463030443, 0.005571139463030443, 0.1544563382555616, 0.386140845638904, 0.386140845638904, 0.17456089139588674, 0.5236826741876602, 0.29093481899314455, 0.993374070921283, 0.0030907718448079744, 0.0030907718448079744, 0.2062817350800623, 0.4813240485201454, 0.34380289180010387, 0.3382210635051251, 0.43485565307801793, 0.2415864739322322, 0.9911150359953766, 0.004167851286776185, 0.004167851286776185, 0.15436871545108596, 0.3859217886277149, 0.3859217886277149, 0.3093707578332834, 0.3093707578332834, 0.37124490939994004, 0.213499831352631, 0.355833052254385, 0.426999662705262, 0.9897474888856665, 0.00512291660913906, 0.00512291660913906, 0.3635572641592065, 0.30296438679933874, 0.3635572641592065, 0.22813993841171973, 0.5133148614263694, 0.2851749230146497, 0.9906461997085173, 0.004450342316749853, 0.004450342316749853, 0.12292155054344067, 0.3073038763586017, 0.553146977445483, 0.14788594775567088, 0.3697148693891772, 0.44365784326701263, 0.22485431495113795, 0.5059222086400603, 0.28106789368892243, 0.17744197847141757, 0.5323259354142527, 0.29573663078569595, 0.2038384231206543, 0.4756229872815267, 0.3397307052010905, 0.21702869719260715, 0.3617144953210119, 0.4340573943852143, 0.23832257671704712, 0.47664515343409425, 0.2979032208963089, 0.16830826527100834, 0.5610275509033611, 0.28051377545168055, 0.1481496690392425, 0.3703741725981063, 0.44444900711772756, 0.14157740612582284, 0.35394351531455714, 0.42473221837746855, 0.1310105304321469, 0.3275263260803672, 0.5240421217285876, 0.15224260758058084, 0.3806065189514521, 0.4567278227417425, 0.27501687639420663, 0.44002700223073055, 0.27501687639420663, 0.147885535406693, 0.3697138385167325, 0.443656606220079], \"Term\": [\"adjl\", \"adjl\", \"adjl\", \"adulation\", \"adulation\", \"adulation\", \"androgynous\", \"androgynous\", \"androgynous\", \"apologize\", \"apologize\", \"apologize\", \"archeologist\", \"archeologist\", \"archeologist\", \"ashtrays\", \"ashtrays\", \"ashtrays\", \"barefooted\", \"barefooted\", \"barefooted\", \"barged\", \"barged\", \"barged\", \"bathebo\", \"bathebo\", \"bathebo\", \"berets\", \"berets\", \"berets\", \"biengs\", \"biengs\", \"biengs\", \"boyce\", \"boyce\", \"boyce\", \"buffy\", \"buffy\", \"buffy\", \"burst\", \"burst\", \"burst\", \"busmalis\", \"busmalis\", \"busmalis\", \"caged\", \"caged\", \"caged\", \"campier\", \"campier\", \"campier\", \"cinephile\", \"cinephile\", \"cinephile\", \"coattails\", \"coattails\", \"coattails\", \"comeuppance\", \"comeuppance\", \"comeuppance\", \"commence\", \"commence\", \"commence\", \"commentators\", \"commentators\", \"commentators\", \"corelli\", \"corelli\", \"corelli\", \"db\", \"db\", \"db\", \"deign\", \"deign\", \"deign\", \"disclose\", \"disclose\", \"disclose\", \"disloyal\", \"disloyal\", \"disloyal\", \"dogfight\", \"dogfight\", \"dogfight\", \"eardrums\", \"eardrums\", \"eardrums\", \"energy\", \"energy\", \"energy\", \"enriching\", \"enriching\", \"enriching\", \"everett\", \"everett\", \"everett\", \"expressions\", \"expressions\", \"expressions\", \"faking\", \"faking\", \"faking\", \"faxes\", \"faxes\", \"faxes\", \"galling\", \"galling\", \"galling\", \"gci\", \"gci\", \"gci\", \"grasp\", \"grasp\", \"grasp\", \"greenlit\", \"greenlit\", \"greenlit\", \"gregory\", \"gregory\", \"gregory\", \"home\", \"home\", \"home\", \"ilk\", \"ilk\", \"ilk\", \"imparted\", \"imparted\", \"imparted\", \"incantation\", \"incantation\", \"incantation\", \"instalments\", \"instalments\", \"instalments\", \"irritated\", \"irritated\", \"irritated\", \"jonesing\", \"jonesing\", \"jonesing\", \"korea\", \"korea\", \"korea\", \"kungfu\", \"kungfu\", \"kungfu\", \"lattice\", \"lattice\", \"lattice\", \"lemkow\", \"lemkow\", \"lemkow\", \"liebe\", \"liebe\", \"liebe\", \"loosing\", \"loosing\", \"loosing\", \"lulled\", \"lulled\", \"lulled\", \"mars\", \"mars\", \"mars\", \"melancholic\", \"melancholic\", \"melancholic\", \"millers\", \"millers\", \"millers\", \"morality\", \"morality\", \"morality\", \"natch\", \"natch\", \"natch\", \"natured\", \"natured\", \"natured\", \"nebraskans\", \"nebraskans\", \"nebraskans\", \"neely\", \"neely\", \"neely\", \"neither\\u00e2\", \"neither\\u00e2\", \"neither\\u00e2\", \"obstruction\", \"obstruction\", \"obstruction\", \"oooooh\", \"oooooh\", \"oooooh\", \"overtook\", \"overtook\", \"overtook\", \"pending\", \"pending\", \"pending\", \"producing\", \"producing\", \"producing\", \"program\", \"program\", \"program\", \"prolong\", \"prolong\", \"prolong\", \"question\\u00e2\", \"question\\u00e2\", \"question\\u00e2\", \"rainstorm\", \"rainstorm\", \"rainstorm\", \"rajiv\", \"rajiv\", \"rajiv\", \"rehabilitate\", \"rehabilitate\", \"rehabilitate\", \"relates\", \"relates\", \"relates\", \"resemble\", \"resemble\", \"resemble\", \"rhonda\", \"rhonda\", \"rhonda\", \"rougas\", \"rougas\", \"rougas\", \"salwar\", \"salwar\", \"salwar\", \"sarge\", \"sarge\", \"sarge\", \"seth\", \"seth\", \"seth\", \"sheppherd\", \"sheppherd\", \"sheppherd\", \"shibuya\", \"shibuya\", \"shibuya\", \"shortening\", \"shortening\", \"shortening\", \"shortly\", \"shortly\", \"shortly\", \"sociopath\", \"sociopath\", \"sociopath\", \"sours\", \"sours\", \"sours\", \"stems\", \"stems\", \"stems\", \"storywriting\", \"storywriting\", \"storywriting\", \"superfluous\", \"superfluous\", \"superfluous\", \"swim\", \"swim\", \"swim\", \"teabag\", \"teabag\", \"teabag\", \"tethered\", \"tethered\", \"tethered\", \"throat\", \"throat\", \"throat\", \"thwarted\", \"thwarted\", \"thwarted\", \"timid\", \"timid\", \"timid\", \"tinsy\", \"tinsy\", \"tinsy\", \"tobey\", \"tobey\", \"tobey\", \"tongue\", \"tongue\", \"tongue\", \"tragicomic\", \"tragicomic\", \"tragicomic\", \"tye\", \"tye\", \"tye\", \"unmanned\", \"unmanned\", \"unmanned\", \"unsalvageable\", \"unsalvageable\", \"unsalvageable\", \"varied\", \"varied\", \"varied\", \"waster\", \"waster\", \"waster\", \"weekend\", \"weekend\", \"weekend\", \"westernized\", \"westernized\", \"westernized\", \"woolrich\", \"woolrich\", \"woolrich\", \"wormy\", \"wormy\", \"wormy\", \"yrs\", \"yrs\", \"yrs\"]}, \"R\": 30, \"lambda.step\": 0.01, \"plot.opts\": {\"xlab\": \"PC1\", \"ylab\": \"PC2\"}, \"topic.order\": [3, 2, 1]};\n",
       "\n",
       "function LDAvis_load_lib(url, callback){\n",
       "  var s = document.createElement('script');\n",
       "  s.src = url;\n",
       "  s.async = true;\n",
       "  s.onreadystatechange = s.onload = callback;\n",
       "  s.onerror = function(){console.warn(\"failed to load library \" + url);};\n",
       "  document.getElementsByTagName(\"head\")[0].appendChild(s);\n",
       "}\n",
       "\n",
       "if(typeof(LDAvis) !== \"undefined\"){\n",
       "   // already loaded: just create the visualization\n",
       "   !function(LDAvis){\n",
       "       new LDAvis(\"#\" + \"ldavis_el925615946636484004562996\", ldavis_el925615946636484004562996_data);\n",
       "   }(LDAvis);\n",
       "}else if(typeof define === \"function\" && define.amd){\n",
       "   // require.js is available: use it to load d3/LDAvis\n",
       "   require.config({paths: {d3: \"https://cdnjs.cloudflare.com/ajax/libs/d3/3.5.5/d3.min\"}});\n",
       "   require([\"d3\"], function(d3){\n",
       "      window.d3 = d3;\n",
       "      LDAvis_load_lib(\"https://cdn.rawgit.com/bmabey/pyLDAvis/files/ldavis.v1.0.0.js\", function(){\n",
       "        new LDAvis(\"#\" + \"ldavis_el925615946636484004562996\", ldavis_el925615946636484004562996_data);\n",
       "      });\n",
       "    });\n",
       "}else{\n",
       "    // require.js not available: dynamically load d3 & LDAvis\n",
       "    LDAvis_load_lib(\"https://cdnjs.cloudflare.com/ajax/libs/d3/3.5.5/d3.min.js\", function(){\n",
       "         LDAvis_load_lib(\"https://cdn.rawgit.com/bmabey/pyLDAvis/files/ldavis.v1.0.0.js\", function(){\n",
       "                 new LDAvis(\"#\" + \"ldavis_el925615946636484004562996\", ldavis_el925615946636484004562996_data);\n",
       "            })\n",
       "         });\n",
       "}\n",
       "</script>"
      ],
      "text/plain": [
       "PreparedData(topic_coordinates=              x    y  topics  cluster       Freq\n",
       "topic                                           \n",
       "2      0.143095  0.0       1        1  57.075495\n",
       "1     -0.071572  0.0       2        1  21.940380\n",
       "0     -0.071523 -0.0       3        1  20.984124, topic_info=               Term         Freq        Total Category  logprob  loglift\n",
       "26966       campier  3436.000000  3436.000000  Default  30.0000  30.0000\n",
       "15005      morality  2516.000000  2516.000000  Default  29.0000  29.0000\n",
       "28615        rougas  1778.000000  1778.000000  Default  28.0000  28.0000\n",
       "23678     sociopath  1617.000000  1617.000000  Default  27.0000  27.0000\n",
       "2797          liebe  1495.000000  1495.000000  Default  26.0000  26.0000\n",
       "...             ...          ...          ...      ...      ...      ...\n",
       "1326        everett     5.744750    14.051467   Topic3 -10.6110   0.6670\n",
       "18330          swim     5.912420    16.161838   Topic3 -10.5822   0.5558\n",
       "36436   androgynous     5.694558    14.828602   Topic3 -10.6198   0.6044\n",
       "5428         throat     5.721542    16.503590   Topic3 -10.6151   0.5021\n",
       "22096  rehabilitate     5.579979    14.806978   Topic3 -10.6401   0.5855\n",
       "\n",
       "[140 rows x 6 columns], token_table=       Topic      Freq       Term\n",
       "term                             \n",
       "22167      1  0.154369       adjl\n",
       "22167      2  0.385922       adjl\n",
       "22167      3  0.385922       adjl\n",
       "24482      1  0.154369  adulation\n",
       "24482      2  0.385922  adulation\n",
       "...      ...       ...        ...\n",
       "30391      2  0.440027      wormy\n",
       "30391      3  0.275017      wormy\n",
       "11945      1  0.147886        yrs\n",
       "11945      2  0.369714        yrs\n",
       "11945      3  0.443657        yrs\n",
       "\n",
       "[330 rows x 3 columns], R=30, lambda_step=0.01, plot_opts={'xlab': 'PC1', 'ylab': 'PC2'}, topic_order=[3, 2, 1])"
      ]
     },
     "execution_count": 112,
     "metadata": {},
     "output_type": "execute_result"
    }
   ],
   "source": [
    "import pyLDAvis\n",
    "import pyLDAvis.gensim\n",
    "\n",
    "pyLDAvis.enable_notebook()\n",
    "bow = [id2word.doc2bow(line) for line in tokens] # convert corpus to BoW format\n",
    "vis = pyLDAvis.gensim.prepare(topic_model=lda, dictionary=id2word, corpus=bow)\n",
    "vis"
   ]
  },
  {
   "cell_type": "code",
   "execution_count": 10,
   "metadata": {},
   "outputs": [
    {
     "name": "stderr",
     "output_type": "stream",
     "text": [
      "c:\\users\\francis\\miniconda3\\envs\\bdf\\lib\\site-packages\\ipykernel\\ipkernel.py:283: DeprecationWarning: `should_run_async` will not call `transform_cell` automatically in the future. Please pass the result to `transformed_cell` argument and any exception that happen during thetransform in `preprocessing_exc_tuple` in IPython 7.17 and above.\n",
      "  and should_run_async(code)\n"
     ]
    }
   ],
   "source": [
    "pyLDAvis?"
   ]
  },
  {
   "cell_type": "code",
   "execution_count": 9,
   "metadata": {},
   "outputs": [
    {
     "name": "stderr",
     "output_type": "stream",
     "text": [
      "c:\\users\\francis\\miniconda3\\envs\\bdf\\lib\\site-packages\\ipykernel\\ipkernel.py:283: DeprecationWarning: `should_run_async` will not call `transform_cell` automatically in the future. Please pass the result to `transformed_cell` argument and any exception that happen during thetransform in `preprocessing_exc_tuple` in IPython 7.17 and above.\n",
      "  and should_run_async(code)\n"
     ]
    },
    {
     "data": {
      "text/plain": [
       "'2.1.2'"
      ]
     },
     "execution_count": 9,
     "metadata": {},
     "output_type": "execute_result"
    }
   ],
   "source": [
    "import pyLDAvis\n",
    "pyLDAvis.__version__"
   ]
  },
  {
   "cell_type": "markdown",
   "metadata": {},
   "source": [
    "Ce package fournit une représentation graphique :\n",
    "- à gauche des topics détectés par le modèle LDA, avec leur proximité et le volume de leur\n",
    "vocabulaire,\n",
    "- à droite des termes du corpus et des différents topics, avec leur importance relative dans le topic.\n",
    "\n",
    "Il est possible de sélectionner :\n",
    "- un topic à gauche et de visualiser les termes correspondants,\n",
    "- un terme à droite et de visualiser les topics correspondants."
   ]
  },
  {
   "cell_type": "markdown",
   "metadata": {},
   "source": [
    "## 7. WordCloud\n",
    "\n",
    "Installation, ouvrir un terminal dans le dossier `anaconda3/condabin` :\n",
    "\n",
    "- sur PC : `.\\conda install -c conda-forge wordcloud`\n",
    "- sur Mac : `./conda install -c conda-forge wordcloud`"
   ]
  },
  {
   "cell_type": "markdown",
   "metadata": {},
   "source": [
    "Wordcloud est une librairie Python qui permet de fabriquer des nuages de mots. La taille des mots dépend de leur nombre d'occurences."
   ]
  },
  {
   "cell_type": "code",
   "execution_count": 6,
   "metadata": {},
   "outputs": [
    {
     "data": {
      "image/png": "[encoded data removed]",
      "text/plain": [
       "<Figure size 864x648 with 1 Axes>"
      ]
     },
     "metadata": {
      "needs_background": "light"
     },
     "output_type": "display_data"
    }
   ],
   "source": [
    "# import et utilisation de wordcloud\n",
    "from wordcloud import WordCloud\n",
    "\n",
    "# un texte\n",
    "text = reviews.loc[reviews.str.len().idxmax()]\n",
    "\n",
    "# texte aléatoire\n",
    "#from numpy import random\n",
    "#random.seed(100)\n",
    "#text = df.sample(1)['review'].values[0]\n",
    "\n",
    "# à essayer avec différentes options, e.g. stopwords=[]\n",
    "wc = WordCloud(max_words=100,\n",
    "               stopwords=stopwords_en,\n",
    "               normalize_plurals=True,\n",
    "               width=800,\n",
    "               height=600)\n",
    "wc.generate(text)\n",
    "\n",
    "# affichage du nuage de mots\n",
    "plt.figure(figsize=(12,9))\n",
    "plt.axis(\"off\")\n",
    "plt.imshow(wc);"
   ]
  },
  {
   "cell_type": "code",
   "execution_count": 7,
   "metadata": {},
   "outputs": [],
   "source": [
    "WordCloud?"
   ]
  }
 ],
 "metadata": {
  "kernelspec": {
   "display_name": "Python 3",
   "language": "python",
   "name": "python3"
  },
  "language_info": {
   "codemirror_mode": {
    "name": "ipython",
    "version": 3
   },
   "file_extension": ".py",
   "mimetype": "text/x-python",
   "name": "python",
   "nbconvert_exporter": "python",
   "pygments_lexer": "ipython3",
   "version": "3.8.10"
  }
 },
 "nbformat": 4,
 "nbformat_minor": 2
}
