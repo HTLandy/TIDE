{
 "cells": [
  {
   "cell_type": "markdown",
   "metadata": {
    "collapsed": true
   },
   "source": [
    "# Master TIDE - Conférences Python 2021\n",
    "\n",
    "Francis Wolinski\n",
    "\n",
    "&copy; 2021 Yotta Conseil\n",
    "\n",
    "\n",
    "# 4. Graphiques : Matplotlib et Seaborn"
   ]
  },
  {
   "cell_type": "markdown",
   "metadata": {},
   "source": [
    "Il existe de nombreuses librairies graphiques en Python. la librairie de référence est `matplotlib` qui est un framework graphique à la MATLAB.\n",
    "\n",
    "Nous utiliserons le sous-module `pyplot` et également la libriarie `seaborn` qui en est une extension.\n",
    "\n",
    "Documentation :\n",
    "- matplotlib : http://matplotlib.org\n",
    "- seaborn : http://seaborn.pydata.org"
   ]
  },
  {
   "cell_type": "code",
   "execution_count": 1,
   "metadata": {
    "scrolled": false
   },
   "outputs": [],
   "source": [
    "# import des modules usuels\n",
    "import pandas as pd\n",
    "import numpy as np\n",
    "import matplotlib.pyplot as plt\n",
    "\n",
    "# options d'affichage\n",
    "pd.set_option(\"display.max_rows\", 16)\n",
    "plt.style.use('seaborn-darkgrid')"
   ]
  },
  {
   "cell_type": "markdown",
   "metadata": {},
   "source": [
    "## 4.1 Matplotlib.pyplot\n",
    "\n",
    "[Voir notebook TIDE-04 - matplotlib]\n",
    "\n",
    "(...)"
   ]
  },
  {
   "cell_type": "markdown",
   "metadata": {},
   "source": [
    "### 4.1.2 Graphiques standards avec pandas"
   ]
  },
  {
   "cell_type": "code",
   "execution_count": 2,
   "metadata": {},
   "outputs": [
    {
     "data": {
      "text/html": [
       "<div>\n",
       "<style scoped>\n",
       "    .dataframe tbody tr th:only-of-type {\n",
       "        vertical-align: middle;\n",
       "    }\n",
       "\n",
       "    .dataframe tbody tr th {\n",
       "        vertical-align: top;\n",
       "    }\n",
       "\n",
       "    .dataframe thead th {\n",
       "        text-align: right;\n",
       "    }\n",
       "</style>\n",
       "<table border=\"1\" class=\"dataframe\">\n",
       "  <thead>\n",
       "    <tr style=\"text-align: right;\">\n",
       "      <th></th>\n",
       "      <th>Code Postal</th>\n",
       "      <th>Commune</th>\n",
       "      <th>Département</th>\n",
       "      <th>Région</th>\n",
       "      <th>Statut</th>\n",
       "      <th>Altitude Moyenne</th>\n",
       "      <th>Superficie</th>\n",
       "      <th>Population</th>\n",
       "      <th>geo_point_2d</th>\n",
       "      <th>geo_shape</th>\n",
       "    </tr>\n",
       "    <tr>\n",
       "      <th>Code INSEE</th>\n",
       "      <th></th>\n",
       "      <th></th>\n",
       "      <th></th>\n",
       "      <th></th>\n",
       "      <th></th>\n",
       "      <th></th>\n",
       "      <th></th>\n",
       "      <th></th>\n",
       "      <th></th>\n",
       "      <th></th>\n",
       "    </tr>\n",
       "  </thead>\n",
       "  <tbody>\n",
       "    <tr>\n",
       "      <th>01001</th>\n",
       "      <td>01400</td>\n",
       "      <td>L'ABERGEMENT-CLEMENCIAT</td>\n",
       "      <td>AIN</td>\n",
       "      <td>RHONE-ALPES</td>\n",
       "      <td>Commune simple</td>\n",
       "      <td>242.0</td>\n",
       "      <td>1565.0</td>\n",
       "      <td>0.8</td>\n",
       "      <td>46.1534255214, 4.92611354223</td>\n",
       "      <td>{\"type\": \"Polygon\", \"coordinates\": [[[4.926273...</td>\n",
       "    </tr>\n",
       "    <tr>\n",
       "      <th>01002</th>\n",
       "      <td>01640</td>\n",
       "      <td>L'ABERGEMENT-DE-VAREY</td>\n",
       "      <td>AIN</td>\n",
       "      <td>RHONE-ALPES</td>\n",
       "      <td>Commune simple</td>\n",
       "      <td>483.0</td>\n",
       "      <td>912.0</td>\n",
       "      <td>0.2</td>\n",
       "      <td>46.0091878776, 5.42801696363</td>\n",
       "      <td>{\"type\": \"Polygon\", \"coordinates\": [[[5.430089...</td>\n",
       "    </tr>\n",
       "    <tr>\n",
       "      <th>01004</th>\n",
       "      <td>01500</td>\n",
       "      <td>AMBERIEU-EN-BUGEY</td>\n",
       "      <td>AIN</td>\n",
       "      <td>RHONE-ALPES</td>\n",
       "      <td>Chef-lieu canton</td>\n",
       "      <td>379.0</td>\n",
       "      <td>2448.0</td>\n",
       "      <td>13.4</td>\n",
       "      <td>45.9608475114, 5.3729257777</td>\n",
       "      <td>{\"type\": \"Polygon\", \"coordinates\": [[[5.386190...</td>\n",
       "    </tr>\n",
       "    <tr>\n",
       "      <th>01005</th>\n",
       "      <td>01330</td>\n",
       "      <td>AMBERIEUX-EN-DOMBES</td>\n",
       "      <td>AIN</td>\n",
       "      <td>RHONE-ALPES</td>\n",
       "      <td>Commune simple</td>\n",
       "      <td>290.0</td>\n",
       "      <td>1605.0</td>\n",
       "      <td>1.6</td>\n",
       "      <td>45.9961799872, 4.91227250796</td>\n",
       "      <td>{\"type\": \"Polygon\", \"coordinates\": [[[4.895580...</td>\n",
       "    </tr>\n",
       "    <tr>\n",
       "      <th>01006</th>\n",
       "      <td>01300</td>\n",
       "      <td>AMBLEON</td>\n",
       "      <td>AIN</td>\n",
       "      <td>RHONE-ALPES</td>\n",
       "      <td>Commune simple</td>\n",
       "      <td>589.0</td>\n",
       "      <td>602.0</td>\n",
       "      <td>0.1</td>\n",
       "      <td>45.7494989044, 5.59432017366</td>\n",
       "      <td>{\"type\": \"Polygon\", \"coordinates\": [[[5.614854...</td>\n",
       "    </tr>\n",
       "  </tbody>\n",
       "</table>\n",
       "</div>"
      ],
      "text/plain": [
       "           Code Postal                  Commune Département       Région  \\\n",
       "Code INSEE                                                                 \n",
       "01001            01400  L'ABERGEMENT-CLEMENCIAT         AIN  RHONE-ALPES   \n",
       "01002            01640    L'ABERGEMENT-DE-VAREY         AIN  RHONE-ALPES   \n",
       "01004            01500        AMBERIEU-EN-BUGEY         AIN  RHONE-ALPES   \n",
       "01005            01330      AMBERIEUX-EN-DOMBES         AIN  RHONE-ALPES   \n",
       "01006            01300                  AMBLEON         AIN  RHONE-ALPES   \n",
       "\n",
       "                      Statut  Altitude Moyenne  Superficie  Population  \\\n",
       "Code INSEE                                                               \n",
       "01001         Commune simple             242.0      1565.0         0.8   \n",
       "01002         Commune simple             483.0       912.0         0.2   \n",
       "01004       Chef-lieu canton             379.0      2448.0        13.4   \n",
       "01005         Commune simple             290.0      1605.0         1.6   \n",
       "01006         Commune simple             589.0       602.0         0.1   \n",
       "\n",
       "                            geo_point_2d  \\\n",
       "Code INSEE                                 \n",
       "01001       46.1534255214, 4.92611354223   \n",
       "01002       46.0091878776, 5.42801696363   \n",
       "01004        45.9608475114, 5.3729257777   \n",
       "01005       45.9961799872, 4.91227250796   \n",
       "01006       45.7494989044, 5.59432017366   \n",
       "\n",
       "                                                    geo_shape  \n",
       "Code INSEE                                                     \n",
       "01001       {\"type\": \"Polygon\", \"coordinates\": [[[4.926273...  \n",
       "01002       {\"type\": \"Polygon\", \"coordinates\": [[[5.430089...  \n",
       "01004       {\"type\": \"Polygon\", \"coordinates\": [[[5.386190...  \n",
       "01005       {\"type\": \"Polygon\", \"coordinates\": [[[4.895580...  \n",
       "01006       {\"type\": \"Polygon\", \"coordinates\": [[[5.614854...  "
      ]
     },
     "execution_count": 2,
     "metadata": {},
     "output_type": "execute_result"
    }
   ],
   "source": [
    "# chargement des données\n",
    "geo = pd.read_csv(\"C:\\\\Users\\\\cleme\\\\Documents\\\\GitHub\\\\TIDE\\\\data\\\\correspondance-code-insee-code-postal.csv\",\n",
    "                   sep=';',\n",
    "                   usecols=range(11),\n",
    "                   index_col=\"Code INSEE\")\n",
    "geo = geo.sort_index()\n",
    "geo.head()"
   ]
  },
  {
   "cell_type": "code",
   "execution_count": 3,
   "metadata": {},
   "outputs": [
    {
     "name": "stdout",
     "output_type": "stream",
     "text": [
      "Wall time: 27.1 s\n"
     ]
    },
    {
     "data": {
      "text/html": [
       "<div>\n",
       "<style scoped>\n",
       "    .dataframe tbody tr th:only-of-type {\n",
       "        vertical-align: middle;\n",
       "    }\n",
       "\n",
       "    .dataframe tbody tr th {\n",
       "        vertical-align: top;\n",
       "    }\n",
       "\n",
       "    .dataframe thead th {\n",
       "        text-align: right;\n",
       "    }\n",
       "</style>\n",
       "<table border=\"1\" class=\"dataframe\">\n",
       "  <thead>\n",
       "    <tr style=\"text-align: right;\">\n",
       "      <th></th>\n",
       "      <th>Département</th>\n",
       "      <th>Commune</th>\n",
       "      <th>1 Mbit</th>\n",
       "      <th>3 Mbit</th>\n",
       "      <th>8 Mbit</th>\n",
       "      <th>30 Mbit</th>\n",
       "      <th>100 Mbit</th>\n",
       "      <th>DSL 1 Mbit</th>\n",
       "      <th>DSL 3 Mbit</th>\n",
       "      <th>DSL 8 Mbit</th>\n",
       "      <th>...</th>\n",
       "      <th>Câble 1 Mbit</th>\n",
       "      <th>Câble 3 Mbit</th>\n",
       "      <th>Câble 8 Mbit</th>\n",
       "      <th>Câble 30 Mbit</th>\n",
       "      <th>Câble 100 Mbit</th>\n",
       "      <th>Fibre 1 Mbit</th>\n",
       "      <th>Fibre 3 Mbit</th>\n",
       "      <th>Fibre 8 Mbit</th>\n",
       "      <th>Fibre 30 Mbit</th>\n",
       "      <th>Fibre 100 Mbit</th>\n",
       "    </tr>\n",
       "    <tr>\n",
       "      <th>Code INSEE</th>\n",
       "      <th></th>\n",
       "      <th></th>\n",
       "      <th></th>\n",
       "      <th></th>\n",
       "      <th></th>\n",
       "      <th></th>\n",
       "      <th></th>\n",
       "      <th></th>\n",
       "      <th></th>\n",
       "      <th></th>\n",
       "      <th></th>\n",
       "      <th></th>\n",
       "      <th></th>\n",
       "      <th></th>\n",
       "      <th></th>\n",
       "      <th></th>\n",
       "      <th></th>\n",
       "      <th></th>\n",
       "      <th></th>\n",
       "      <th></th>\n",
       "      <th></th>\n",
       "    </tr>\n",
       "  </thead>\n",
       "  <tbody>\n",
       "    <tr>\n",
       "      <th>01001</th>\n",
       "      <td>AIN</td>\n",
       "      <td>L'Abergement-Clémenciat</td>\n",
       "      <td>1.000</td>\n",
       "      <td>0.448</td>\n",
       "      <td>0.052</td>\n",
       "      <td>0.000</td>\n",
       "      <td>0.000</td>\n",
       "      <td>1.000</td>\n",
       "      <td>0.448</td>\n",
       "      <td>0.052</td>\n",
       "      <td>...</td>\n",
       "      <td>0.0</td>\n",
       "      <td>0.0</td>\n",
       "      <td>0.0</td>\n",
       "      <td>0.0</td>\n",
       "      <td>0.0</td>\n",
       "      <td>0.000</td>\n",
       "      <td>0.000</td>\n",
       "      <td>0.000</td>\n",
       "      <td>0.000</td>\n",
       "      <td>0.000</td>\n",
       "    </tr>\n",
       "    <tr>\n",
       "      <th>01002</th>\n",
       "      <td>AIN</td>\n",
       "      <td>L'Abergement-de-Varey</td>\n",
       "      <td>0.676</td>\n",
       "      <td>0.594</td>\n",
       "      <td>0.571</td>\n",
       "      <td>0.571</td>\n",
       "      <td>0.571</td>\n",
       "      <td>0.124</td>\n",
       "      <td>0.024</td>\n",
       "      <td>0.000</td>\n",
       "      <td>...</td>\n",
       "      <td>0.0</td>\n",
       "      <td>0.0</td>\n",
       "      <td>0.0</td>\n",
       "      <td>0.0</td>\n",
       "      <td>0.0</td>\n",
       "      <td>0.571</td>\n",
       "      <td>0.571</td>\n",
       "      <td>0.571</td>\n",
       "      <td>0.571</td>\n",
       "      <td>0.571</td>\n",
       "    </tr>\n",
       "    <tr>\n",
       "      <th>01004</th>\n",
       "      <td>AIN</td>\n",
       "      <td>Ambérieu-en-Bugey</td>\n",
       "      <td>1.000</td>\n",
       "      <td>0.966</td>\n",
       "      <td>0.794</td>\n",
       "      <td>0.234</td>\n",
       "      <td>0.000</td>\n",
       "      <td>1.000</td>\n",
       "      <td>0.966</td>\n",
       "      <td>0.794</td>\n",
       "      <td>...</td>\n",
       "      <td>0.0</td>\n",
       "      <td>0.0</td>\n",
       "      <td>0.0</td>\n",
       "      <td>0.0</td>\n",
       "      <td>0.0</td>\n",
       "      <td>0.000</td>\n",
       "      <td>0.000</td>\n",
       "      <td>0.000</td>\n",
       "      <td>0.000</td>\n",
       "      <td>0.000</td>\n",
       "    </tr>\n",
       "    <tr>\n",
       "      <th>01005</th>\n",
       "      <td>AIN</td>\n",
       "      <td>Ambérieux-en-Dombes</td>\n",
       "      <td>1.000</td>\n",
       "      <td>0.990</td>\n",
       "      <td>0.942</td>\n",
       "      <td>0.667</td>\n",
       "      <td>0.004</td>\n",
       "      <td>1.000</td>\n",
       "      <td>0.985</td>\n",
       "      <td>0.937</td>\n",
       "      <td>...</td>\n",
       "      <td>0.0</td>\n",
       "      <td>0.0</td>\n",
       "      <td>0.0</td>\n",
       "      <td>0.0</td>\n",
       "      <td>0.0</td>\n",
       "      <td>0.004</td>\n",
       "      <td>0.004</td>\n",
       "      <td>0.004</td>\n",
       "      <td>0.004</td>\n",
       "      <td>0.004</td>\n",
       "    </tr>\n",
       "    <tr>\n",
       "      <th>01006</th>\n",
       "      <td>AIN</td>\n",
       "      <td>Ambléon</td>\n",
       "      <td>1.000</td>\n",
       "      <td>1.000</td>\n",
       "      <td>1.000</td>\n",
       "      <td>0.934</td>\n",
       "      <td>0.934</td>\n",
       "      <td>1.000</td>\n",
       "      <td>1.000</td>\n",
       "      <td>1.000</td>\n",
       "      <td>...</td>\n",
       "      <td>0.0</td>\n",
       "      <td>0.0</td>\n",
       "      <td>0.0</td>\n",
       "      <td>0.0</td>\n",
       "      <td>0.0</td>\n",
       "      <td>0.934</td>\n",
       "      <td>0.934</td>\n",
       "      <td>0.934</td>\n",
       "      <td>0.934</td>\n",
       "      <td>0.934</td>\n",
       "    </tr>\n",
       "  </tbody>\n",
       "</table>\n",
       "<p>5 rows × 22 columns</p>\n",
       "</div>"
      ],
      "text/plain": [
       "           Département                  Commune  1 Mbit  3 Mbit  8 Mbit  \\\n",
       "Code INSEE                                                                \n",
       "01001              AIN  L'Abergement-Clémenciat   1.000   0.448   0.052   \n",
       "01002              AIN    L'Abergement-de-Varey   0.676   0.594   0.571   \n",
       "01004              AIN        Ambérieu-en-Bugey   1.000   0.966   0.794   \n",
       "01005              AIN      Ambérieux-en-Dombes   1.000   0.990   0.942   \n",
       "01006              AIN                  Ambléon   1.000   1.000   1.000   \n",
       "\n",
       "            30 Mbit  100 Mbit  DSL 1 Mbit  DSL 3 Mbit  DSL 8 Mbit  ...  \\\n",
       "Code INSEE                                                         ...   \n",
       "01001         0.000     0.000       1.000       0.448       0.052  ...   \n",
       "01002         0.571     0.571       0.124       0.024       0.000  ...   \n",
       "01004         0.234     0.000       1.000       0.966       0.794  ...   \n",
       "01005         0.667     0.004       1.000       0.985       0.937  ...   \n",
       "01006         0.934     0.934       1.000       1.000       1.000  ...   \n",
       "\n",
       "            Câble 1 Mbit  Câble 3 Mbit  Câble 8 Mbit  Câble 30 Mbit  \\\n",
       "Code INSEE                                                            \n",
       "01001                0.0           0.0           0.0            0.0   \n",
       "01002                0.0           0.0           0.0            0.0   \n",
       "01004                0.0           0.0           0.0            0.0   \n",
       "01005                0.0           0.0           0.0            0.0   \n",
       "01006                0.0           0.0           0.0            0.0   \n",
       "\n",
       "            Câble 100 Mbit  Fibre 1 Mbit  Fibre 3 Mbit  Fibre 8 Mbit  \\\n",
       "Code INSEE                                                             \n",
       "01001                  0.0         0.000         0.000         0.000   \n",
       "01002                  0.0         0.571         0.571         0.571   \n",
       "01004                  0.0         0.000         0.000         0.000   \n",
       "01005                  0.0         0.004         0.004         0.004   \n",
       "01006                  0.0         0.934         0.934         0.934   \n",
       "\n",
       "            Fibre 30 Mbit  Fibre 100 Mbit  \n",
       "Code INSEE                                 \n",
       "01001               0.000           0.000  \n",
       "01002               0.571           0.571  \n",
       "01004               0.000           0.000  \n",
       "01005               0.004           0.004  \n",
       "01006               0.934           0.934  \n",
       "\n",
       "[5 rows x 22 columns]"
      ]
     },
     "execution_count": 3,
     "metadata": {},
     "output_type": "execute_result"
    }
   ],
   "source": [
    "%%time\n",
    "# chargement de nouvelles données\n",
    "thd = pd.read_excel(\"C:\\\\Users\\\\cleme\\\\Documents\\\\GitHub\\\\TIDE\\\\data\\\\FranceTHD_Open_Data_Observatoire_Juin2015.xlsx\",\n",
    "                        sheet_name=\"Communes\",\n",
    "                        header=1,\n",
    "                        index_col=\"Code INSEE\",\n",
    "                        names=[\"Département\", \"Code INSEE\", \"Commune\",\n",
    "                                \"1 Mbit\", \"3 Mbit\", \"8 Mbit\", \"30 Mbit\", \"100 Mbit\",\n",
    "                                \"DSL 1 Mbit\", \"DSL 3 Mbit\", \"DSL 8 Mbit\", \"DSL 30 Mbit\", \"DSL 100 Mbit\",\n",
    "                                \"Câble 1 Mbit\", \"Câble 3 Mbit\", \"Câble 8 Mbit\", \"Câble 30 Mbit\", \"Câble 100 Mbit\",\n",
    "                                \"Fibre 1 Mbit\", \"Fibre 3 Mbit\", \"Fibre 8 Mbit\", \"Fibre 30 Mbit\", \"Fibre 100 Mbit\"])\n",
    "thd.head()"
   ]
  },
  {
   "cell_type": "markdown",
   "metadata": {},
   "source": [
    "**pickle**\n",
    "\n",
    "Le module pickle implémente des protocoles binaires de sérialisation et dé-sérialisation d'objets Python.\n",
    "\n",
    "En **pandas**, il existe la méthode `to_pickle()` et la fonction  `read_pickle()`.\n",
    "\n",
    "A utiliser ponctuellement dans un projet. Attention, ce n'est pas une technique que sauvegarde permanente des data (instable d'une version de pandas à l'autre) !"
   ]
  },
  {
   "cell_type": "code",
   "execution_count": 4,
   "metadata": {},
   "outputs": [],
   "source": [
    "# pickle\n",
    "thd.to_pickle('thd.pkl')"
   ]
  },
  {
   "cell_type": "code",
   "execution_count": 5,
   "metadata": {},
   "outputs": [
    {
     "name": "stdout",
     "output_type": "stream",
     "text": [
      "Wall time: 41.5 ms\n"
     ]
    }
   ],
   "source": [
    "%%time\n",
    "thd = pd.read_pickle('thd.pkl')"
   ]
  },
  {
   "cell_type": "markdown",
   "metadata": {},
   "source": [
    "Un objet *Series* ou *DataFrame* répond à la méthode **plot()** issue de la librairie *matplotlib.pyplot*.\n",
    "\n",
    "Il existe diférents types de graphiques disponibles :"
   ]
  },
  {
   "cell_type": "markdown",
   "metadata": {},
   "source": [
    "Option *kind=...*|Type de graphique\n",
    "-|-\n",
    "‘line’|line plot (default)\n",
    "‘bar’|vertical bar plot\n",
    "‘barh’|horizontal bar plot\n",
    "‘hist’|histogram\n",
    "‘box’|boxplot\n",
    "‘kde’|Kernel Density Estimation plot (estimation par noyau)\n",
    "‘density’|same as ‘kde’\n",
    "‘area’|area plot\n",
    "‘pie’|pie plot\n",
    "‘scatter’|scatter plot\n",
    "'hexbin'|hexagone plot"
   ]
  },
  {
   "cell_type": "markdown",
   "metadata": {},
   "source": [
    "Voir la documentation : http://pandas.pydata.org/pandas-docs/stable/visualization.html\n",
    "\n",
    "#### Courbes"
   ]
  },
  {
   "cell_type": "code",
   "execution_count": 6,
   "metadata": {},
   "outputs": [
    {
     "data": {
      "image/png": "[encoded data removed]",
      "text/plain": [
       "<Figure size 432x288 with 1 Axes>"
      ]
     },
     "metadata": {},
     "output_type": "display_data"
    }
   ],
   "source": [
    "# plot élémentaire\n",
    "thd[\"Département\"].value_counts().plot();"
   ]
  },
  {
   "cell_type": "code",
   "execution_count": 7,
   "metadata": {
    "scrolled": false
   },
   "outputs": [
    {
     "data": {
      "image/png": "[encoded data removed]",
      "text/plain": [
       "<Figure size 432x288 with 1 Axes>"
      ]
     },
     "metadata": {},
     "output_type": "display_data"
    }
   ],
   "source": [
    "# line plot du nombre de communes par département\n",
    "s = thd[\"Département\"].value_counts()\n",
    "\n",
    "ax = s.plot(use_index=None,\n",
    "            title=\"Nombre de communes par département\")\n",
    "ax.legend([\"Communes\"]);"
   ]
  },
  {
   "cell_type": "code",
   "execution_count": 8,
   "metadata": {
    "scrolled": false
   },
   "outputs": [
    {
     "data": {
      "image/png": "[encoded data removed]",
      "text/plain": [
       "<Figure size 576x288 with 1 Axes>"
      ]
     },
     "metadata": {},
     "output_type": "display_data"
    }
   ],
   "source": [
    "# les taux de 1 à 100 Mbit/s dans les Hauts-de-Seine\n",
    "hds = thd.loc[thd[\"Département\"] == \"HAUTS-DE-SEINE\", \"Commune\":\"100 Mbit\"]\n",
    "ax = hds.plot(figsize=(8, 4),\n",
    "             title=\"Débits dans les Hauts-de-Seine\");\n",
    "ax.set_xlabel(\"Commune\");"
   ]
  },
  {
   "cell_type": "markdown",
   "metadata": {},
   "source": [
    "<div class=\"alert alert-success\">\n",
    "<b>Exercice 1</b>\n",
    "<ul>\n",
    "    <li>Modifiez le graphique en rajoutant l'option 'subplots=True'.</li>\n",
    "    <li>Ajoutez les noms des communes en abscisse avec l'option 'xticks' et la méthode 'set_xticklabels()'.</li>\n",
    "    <li>Orientez les noms des communes à 60°.</li>\n",
    "</ul>"
   ]
  },
  {
   "cell_type": "markdown",
   "metadata": {},
   "source": [
    "#### Barres verticales"
   ]
  },
  {
   "cell_type": "code",
   "execution_count": 9,
   "metadata": {
    "scrolled": false
   },
   "outputs": [
    {
     "data": {
      "text/html": [
       "<div>\n",
       "<style scoped>\n",
       "    .dataframe tbody tr th:only-of-type {\n",
       "        vertical-align: middle;\n",
       "    }\n",
       "\n",
       "    .dataframe tbody tr th {\n",
       "        vertical-align: top;\n",
       "    }\n",
       "\n",
       "    .dataframe thead th {\n",
       "        text-align: right;\n",
       "    }\n",
       "</style>\n",
       "<table border=\"1\" class=\"dataframe\">\n",
       "  <thead>\n",
       "    <tr style=\"text-align: right;\">\n",
       "      <th></th>\n",
       "      <th>Commune</th>\n",
       "      <th>1 Mbit</th>\n",
       "      <th>3 Mbit</th>\n",
       "      <th>8 Mbit</th>\n",
       "      <th>30 Mbit</th>\n",
       "      <th>100 Mbit</th>\n",
       "    </tr>\n",
       "    <tr>\n",
       "      <th>Code INSEE</th>\n",
       "      <th></th>\n",
       "      <th></th>\n",
       "      <th></th>\n",
       "      <th></th>\n",
       "      <th></th>\n",
       "      <th></th>\n",
       "    </tr>\n",
       "  </thead>\n",
       "  <tbody>\n",
       "    <tr>\n",
       "      <th>29019</th>\n",
       "      <td>Brest</td>\n",
       "      <td>1.0</td>\n",
       "      <td>0.993</td>\n",
       "      <td>0.982</td>\n",
       "      <td>0.955</td>\n",
       "      <td>0.811</td>\n",
       "    </tr>\n",
       "    <tr>\n",
       "      <th>35238</th>\n",
       "      <td>Rennes</td>\n",
       "      <td>1.0</td>\n",
       "      <td>0.998</td>\n",
       "      <td>0.996</td>\n",
       "      <td>0.987</td>\n",
       "      <td>0.986</td>\n",
       "    </tr>\n",
       "  </tbody>\n",
       "</table>\n",
       "</div>"
      ],
      "text/plain": [
       "           Commune  1 Mbit  3 Mbit  8 Mbit  30 Mbit  100 Mbit\n",
       "Code INSEE                                                   \n",
       "29019        Brest     1.0   0.993   0.982    0.955     0.811\n",
       "35238       Rennes     1.0   0.998   0.996    0.987     0.986"
      ]
     },
     "execution_count": 9,
     "metadata": {},
     "output_type": "execute_result"
    }
   ],
   "source": [
    "# on sélectionne les données de 2 communes avec la méthode isin()\n",
    "var = thd.loc[thd[\"Commune\"].isin([\"Brest\", \"Rennes\"]), \"Commune\":\"100 Mbit\"]\n",
    "var"
   ]
  },
  {
   "cell_type": "code",
   "execution_count": 10,
   "metadata": {
    "scrolled": false
   },
   "outputs": [
    {
     "data": {
      "image/png": "[encoded data removed]",
      "text/plain": [
       "<Figure size 432x288 with 1 Axes>"
      ]
     },
     "metadata": {},
     "output_type": "display_data"
    }
   ],
   "source": [
    "# affichage en barres\n",
    "var.plot(kind='bar');"
   ]
  },
  {
   "cell_type": "markdown",
   "metadata": {},
   "source": [
    "<div class=\"alert alert-success\">\n",
    "<b>Exercice 2</b>\n",
    "<ul>\n",
    "    <li>Transposez le DataFrame en ne retenant que les colonnes numériques.</li>\n",
    "    <li>Obtenez le graphique inverse qui compare deux à deux les débits de chaque ville.</li>\n",
    "    <li>Mettez la légende à droite à l'extérieur du graphique.</li>\n",
    "</ul>"
   ]
  },
  {
   "cell_type": "markdown",
   "metadata": {},
   "source": [
    "#### Barres horizontales"
   ]
  },
  {
   "cell_type": "code",
   "execution_count": 11,
   "metadata": {
    "scrolled": false
   },
   "outputs": [
    {
     "data": {
      "image/png": "[encoded data removed]",
      "text/plain": [
       "<Figure size 432x288 with 1 Axes>"
      ]
     },
     "metadata": {},
     "output_type": "display_data"
    }
   ],
   "source": [
    "# affichage en barres horizontales\n",
    "ax = var.plot(kind='barh');\n",
    "ax.legend(bbox_to_anchor=(1.3, 0.5));"
   ]
  },
  {
   "cell_type": "markdown",
   "metadata": {},
   "source": [
    "#### Barres empilées"
   ]
  },
  {
   "cell_type": "code",
   "execution_count": 12,
   "metadata": {
    "scrolled": false
   },
   "outputs": [
    {
     "data": {
      "text/html": [
       "<div>\n",
       "<style scoped>\n",
       "    .dataframe tbody tr th:only-of-type {\n",
       "        vertical-align: middle;\n",
       "    }\n",
       "\n",
       "    .dataframe tbody tr th {\n",
       "        vertical-align: top;\n",
       "    }\n",
       "\n",
       "    .dataframe thead th {\n",
       "        text-align: right;\n",
       "    }\n",
       "</style>\n",
       "<table border=\"1\" class=\"dataframe\">\n",
       "  <thead>\n",
       "    <tr style=\"text-align: right;\">\n",
       "      <th></th>\n",
       "      <th>Commune</th>\n",
       "      <th>DSL 30 Mbit</th>\n",
       "      <th>Câble 30 Mbit</th>\n",
       "      <th>Fibre 30 Mbit</th>\n",
       "    </tr>\n",
       "    <tr>\n",
       "      <th>Code INSEE</th>\n",
       "      <th></th>\n",
       "      <th></th>\n",
       "      <th></th>\n",
       "      <th></th>\n",
       "    </tr>\n",
       "  </thead>\n",
       "  <tbody>\n",
       "    <tr>\n",
       "      <th>29019</th>\n",
       "      <td>Brest</td>\n",
       "      <td>0.131</td>\n",
       "      <td>0.947</td>\n",
       "      <td>0.239</td>\n",
       "    </tr>\n",
       "    <tr>\n",
       "      <th>35238</th>\n",
       "      <td>Rennes</td>\n",
       "      <td>0.193</td>\n",
       "      <td>0.984</td>\n",
       "      <td>0.264</td>\n",
       "    </tr>\n",
       "  </tbody>\n",
       "</table>\n",
       "</div>"
      ],
      "text/plain": [
       "           Commune  DSL 30 Mbit  Câble 30 Mbit  Fibre 30 Mbit\n",
       "Code INSEE                                                   \n",
       "29019        Brest        0.131          0.947          0.239\n",
       "35238       Rennes        0.193          0.984          0.264"
      ]
     },
     "execution_count": 12,
     "metadata": {},
     "output_type": "execute_result"
    }
   ],
   "source": [
    "# débits 30 Mbit des 3 technos pour 2 communes\n",
    "var = thd.loc[thd[\"Commune\"].isin([\"Brest\", \"Rennes\"]),\n",
    "              [\"Commune\", \"DSL 30 Mbit\", \"Câble 30 Mbit\", \"Fibre 30 Mbit\"]]\n",
    "var"
   ]
  },
  {
   "cell_type": "code",
   "execution_count": 14,
   "metadata": {
    "scrolled": false
   },
   "outputs": [
    {
     "data": {
      "image/png": "[encoded data removed]",
      "text/plain": [
       "<Figure size 432x288 with 1 Axes>"
      ]
     },
     "metadata": {},
     "output_type": "display_data"
    }
   ],
   "source": [
    "# affichage en barres empilées\n",
    "ax = var.plot(kind='bar',\n",
    "              stacked=True,\n",
    "              color=['c', 'g', 'm'],\n",
    "              rot=0);\n",
    "ax.set_xticklabels(var[\"Commune\"])\n",
    "ax.set_xlabel(\"Commune\")\n",
    "ax.legend(bbox_to_anchor=(1.4, 0.2)); # stacked=True pour les graphiques empilés"
   ]
  },
  {
   "cell_type": "markdown",
   "metadata": {},
   "source": [
    "#### Secteurs"
   ]
  },
  {
   "cell_type": "code",
   "execution_count": 16,
   "metadata": {
    "scrolled": false
   },
   "outputs": [
    {
     "data": {
      "image/png": "[encoded data removed]",
      "text/plain": [
       "<Figure size 360x360 with 1 Axes>"
      ]
     },
     "metadata": {},
     "output_type": "display_data"
    }
   ],
   "source": [
    "# affichage en secteurs\n",
    "geo[\"Statut\"].value_counts().plot(figsize=(5, 5),\n",
    "                                  kind='pie', # Pr avoir un secteur\n",
    "                                  explode=(0.0, 0.1, 0.2, 0.3, 1, 2));"
   ]
  },
  {
   "cell_type": "markdown",
   "metadata": {},
   "source": [
    "### 6.1.3 Graphiques statistiques\n",
    "\n",
    "#### Histogrammes\n",
    "On peut passer en revue les différents histogrammes par débit."
   ]
  },
  {
   "cell_type": "code",
   "execution_count": 23,
   "metadata": {
    "scrolled": false
   },
   "outputs": [
    {
     "data": {
      "image/png": "[encoded data removed]",
      "text/plain": [
       "<Figure size 432x288 with 1 Axes>"
      ]
     },
     "metadata": {},
     "output_type": "display_data"
    }
   ],
   "source": [
    "# histogramme\n",
    "thd[\"3 Mbit\"].plot(kind='hist');  # 1 Mbit, 3 Mbit, 8 Mbit, 30 Mbit, 100 Mbit"
   ]
  },
  {
   "cell_type": "markdown",
   "metadata": {},
   "source": [
    "Il est possible de modifier la partition qui vaut 10 par défaut."
   ]
  },
  {
   "cell_type": "code",
   "execution_count": 18,
   "metadata": {
    "scrolled": false
   },
   "outputs": [
    {
     "data": {
      "image/png": "[encoded data removed]",
      "text/plain": [
       "<Figure size 432x288 with 1 Axes>"
      ]
     },
     "metadata": {},
     "output_type": "display_data"
    }
   ],
   "source": [
    "# histogramme\n",
    "thd[\"30 Mbit\"].plot(kind='hist',\n",
    "                    bins=5);"
   ]
  },
  {
   "cell_type": "markdown",
   "metadata": {},
   "source": [
    "#### Boîte à moustaches\n",
    "Affichage de la médiane, des quartiles et de l'étendue des valeurs.\n",
    "On peut passer en revue les boites par débit."
   ]
  },
  {
   "cell_type": "code",
   "execution_count": 19,
   "metadata": {
    "scrolled": false
   },
   "outputs": [
    {
     "data": {
      "image/png": "[encoded data removed]",
      "text/plain": [
       "<Figure size 432x288 with 1 Axes>"
      ]
     },
     "metadata": {},
     "output_type": "display_data"
    }
   ],
   "source": [
    "# boite à moustaches du % par débit\n",
    "thd.loc[:, \"1 Mbit\":\"100 Mbit\"].plot(kind='box');"
   ]
  },
  {
   "cell_type": "markdown",
   "metadata": {},
   "source": [
    "#### Estimateur à noyau\n",
    "On peut passer en revue les différents noyaux par débit."
   ]
  },
  {
   "cell_type": "code",
   "execution_count": null,
   "metadata": {
    "scrolled": false
   },
   "outputs": [],
   "source": [
    "# estimation par noyau du % par débit\n",
    "thd[\"8 Mbit\"].plot(kind='kde');  # 1 Mbit, 3 Mbit, 8 Mbit, 30 Mbit, 100 Mbit"
   ]
  },
  {
   "cell_type": "markdown",
   "metadata": {},
   "source": [
    "#### Graphe de retard\n",
    "Nuage de points d'une séries croisée avec la même série décalée (par défaut de 1). Ce graphe permet de visualiser l'indépendance des valeurs d'une colonne.\n",
    "\n",
    "On peut afficher les graphes de retard pour les différents débits."
   ]
  },
  {
   "cell_type": "code",
   "execution_count": null,
   "metadata": {
    "scrolled": false
   },
   "outputs": [],
   "source": [
    "# graphe de retard par débit\n",
    "from pandas.plotting import lag_plot\n",
    "lag_plot(thd[\"1 Mbit\"]);"
   ]
  },
  {
   "cell_type": "markdown",
   "metadata": {},
   "source": [
    "A noter : la méthode **shift()** permet de décaler un objet *Series* ou *DataFrame*."
   ]
  },
  {
   "cell_type": "code",
   "execution_count": null,
   "metadata": {
    "scrolled": false
   },
   "outputs": [],
   "source": [
    "# colonne Superficie\n",
    "geo[\"Superficie\"].head()"
   ]
  },
  {
   "cell_type": "code",
   "execution_count": null,
   "metadata": {
    "scrolled": false
   },
   "outputs": [],
   "source": [
    "# colonne Superficie décalée de 1 vers le bas\n",
    "geo[\"Superficie\"].shift(1).head()"
   ]
  },
  {
   "cell_type": "markdown",
   "metadata": {},
   "source": [
    "#### Matrices croisées\n",
    "- Diagonale : histogrammes\n",
    "- Hors diagonale : nuages de points\n",
    "\n",
    "On peut tester avec différents départements."
   ]
  },
  {
   "cell_type": "code",
   "execution_count": null,
   "metadata": {
    "scrolled": false
   },
   "outputs": [],
   "source": [
    "# matrices croisées\n",
    "from pandas.plotting import scatter_matrix\n",
    "var = thd.loc[thd[\"Département\"] == \"RHONE\"]\n",
    "scatter_matrix(var[[\"1 Mbit\", \"3 Mbit\", \"8 Mbit\"]]);"
   ]
  },
  {
   "cell_type": "code",
   "execution_count": null,
   "metadata": {
    "scrolled": false
   },
   "outputs": [],
   "source": [
    "# matrices croisées\n",
    "var = thd[thd[\"Département\"] == \"SOMME\"]\n",
    "scatter_matrix(var[[\"1 Mbit\", \"3 Mbit\", \"8 Mbit\"]]);"
   ]
  },
  {
   "cell_type": "markdown",
   "metadata": {},
   "source": [
    "<div class=\"alert alert-success\">\n",
    "<b>Exercice 3</b>\n",
    "<ul>\n",
    "    <li>Créer un objet *Series* avec le nombre de lettres des noms des communes.</li>\n",
    "    <li>Etablir un histogramme pour cet objet *Series*.</li>\n",
    "</ul>"
   ]
  },
  {
   "cell_type": "markdown",
   "metadata": {},
   "source": [
    "### 6.1.4 Nuage de points\n",
    "\n",
    "On peut obtenir un nuage de points entre l'altitude moyenne et la population des communes. On constate que plus une commune a une altitude élevée moins elle a d'habitants."
   ]
  },
  {
   "cell_type": "code",
   "execution_count": null,
   "metadata": {
    "scrolled": false
   },
   "outputs": [],
   "source": [
    "geo.plot(kind='scatter',\n",
    "       x=\"Altitude Moyenne\",\n",
    "       y=\"Population\");"
   ]
  },
  {
   "cell_type": "markdown",
   "metadata": {},
   "source": [
    "### 4.1.5 Cartes (approche naïve)"
   ]
  },
  {
   "cell_type": "markdown",
   "metadata": {},
   "source": [
    "Puisque nous avons extrait la longitude et la latitude des données par commune. Il est possible de faire un graphique avec les points géométriques de chaque commune."
   ]
  },
  {
   "cell_type": "code",
   "execution_count": null,
   "metadata": {},
   "outputs": [],
   "source": [
    "geo['Superficie'] /= 100  # en km2\n",
    "geo['Densité'] = geo['Population'] * 1000 / geo['Superficie']\n",
    "geo[['Latitude', 'Longitude']] = geo['geo_point_2d'].str.extract('(.*), (.*)').astype(float)\n",
    "geo.head()"
   ]
  },
  {
   "cell_type": "code",
   "execution_count": null,
   "metadata": {
    "scrolled": false
   },
   "outputs": [],
   "source": [
    "# nuage de points avec les coordonnées géographiques\n",
    "geo.plot(kind='scatter', x=\"Longitude\", y=\"Latitude\");"
   ]
  },
  {
   "cell_type": "markdown",
   "metadata": {},
   "source": [
    "On obtient une carte de France avec les DOM."
   ]
  },
  {
   "cell_type": "markdown",
   "metadata": {},
   "source": [
    "<div class=\"alert alert-success\">\n",
    "<b>Exercice 4</b>\n",
    "<ul>\n",
    "    <li>Cherchez une condition pour n'afficher que la France métropolitaine (plusieurs solutions possibles).</li>\n",
    "</ul>\n",
    "</div>"
   ]
  },
  {
   "cell_type": "code",
   "execution_count": null,
   "metadata": {},
   "outputs": [],
   "source": [
    "# affichage de metro\n",
    "metro.plot(kind='scatter', x=\"Longitude\", y=\"Latitude\");"
   ]
  },
  {
   "cell_type": "markdown",
   "metadata": {},
   "source": [
    "N.B. : Il existe des données cartographiques opendata utilisables en Python.\n",
    "\n",
    "Voir Basemap : http://matplotlib.org/basemap/users/intro.html"
   ]
  },
  {
   "cell_type": "code",
   "execution_count": null,
   "metadata": {
    "scrolled": false
   },
   "outputs": [],
   "source": [
    "# zones de couleurs différentes\n",
    "metro1 = metro.loc[metro[\"Altitude Moyenne\"] <= 1000]\n",
    "metro2 = metro.loc[metro[\"Altitude Moyenne\"] > 1000]\n",
    "plt.scatter(metro1[\"Longitude\"], metro1[\"Latitude\"], color='blue')\n",
    "plt.scatter(metro2[\"Longitude\"], metro2[\"Latitude\"], color='red');"
   ]
  },
  {
   "cell_type": "markdown",
   "metadata": {},
   "source": [
    "**Remarque**\n",
    "\n",
    "Il existe dans *matplotlib* (et *seaborn*) un système de palettes de couleurs :\n",
    "\n",
    "- matplotlib : https://matplotlib.org/stable/tutorials/colors/colormaps.html\n",
    "\n",
    "- seaborn : http://seaborn.pydata.org/tutorial/color_palettes.html\n",
    "\n",
    "Les librairies gèrent également :\n",
    "\n",
    "- Les palettes de couleurs de **ColorBrewer** : http://colorbrewer2.org\n",
    "\n",
    "- Les 954 couleurs nommées de manière participative par l'initiative **xkcd** : https://xkcd.com/color/rgb/ Voir aussi l'étude https://blog.xkcd.com/2010/05/03/color-survey-results/"
   ]
  },
  {
   "cell_type": "markdown",
   "metadata": {},
   "source": [
    "L'altitude avec un nuancier bleu."
   ]
  },
  {
   "cell_type": "code",
   "execution_count": null,
   "metadata": {
    "scrolled": false
   },
   "outputs": [],
   "source": [
    "# nuancier bleu\n",
    "plt.scatter(metro[\"Longitude\"],\n",
    "            metro[\"Latitude\"],\n",
    "            c=metro[\"Altitude Moyenne\"],\n",
    "            cmap=plt.cm.Blues,\n",
    "            edgecolors='none');"
   ]
  },
  {
   "cell_type": "markdown",
   "metadata": {},
   "source": [
    "En fait, les points sont dessinés dans l'ordre du *DataFrame*. Donc de petites valeurs affichées en clair peuvent venir effacer des valeurs plus grandes affichées en foncé.\n",
    "\n",
    "On peut corriger le problème en triant préalablement avec la colonne représentant l'intensité de la couleur."
   ]
  },
  {
   "cell_type": "code",
   "execution_count": null,
   "metadata": {
    "scrolled": false
   },
   "outputs": [],
   "source": [
    "# nuancier bleu avec tri des valeurs\n",
    "metro2 = metro.sort_values(\"Altitude Moyenne\")\n",
    "plt.scatter(metro2[\"Longitude\"],\n",
    "            metro2[\"Latitude\"],\n",
    "            c=metro2[\"Altitude Moyenne\"],\n",
    "            cmap=plt.cm.Blues,\n",
    "            edgecolors='none');"
   ]
  },
  {
   "cell_type": "markdown",
   "metadata": {},
   "source": [
    "Utilisation de la palette *Spectral* inversée et ajout d'un nuancier.\n",
    "\n",
    "N.B. : pour chaque palette, son inverse est obtenu avec le suffixe \"*_r*\""
   ]
  },
  {
   "cell_type": "code",
   "execution_count": null,
   "metadata": {
    "scrolled": false
   },
   "outputs": [],
   "source": [
    "# on utilise plt.cm.Spectral_r\n",
    "ax = plt.scatter(x=metro2[\"Longitude\"],\n",
    "            y=metro2[\"Latitude\"],\n",
    "            c=metro2[\"Altitude Moyenne\"],\n",
    "            cmap=plt.cm.Spectral_r,\n",
    "            edgecolors='none')\n",
    "plt.colorbar(ax);"
   ]
  },
  {
   "cell_type": "code",
   "execution_count": null,
   "metadata": {},
   "outputs": [],
   "source": [
    "# terminaisons fréquentes\n",
    "res = geo[\"Commune\"].str.extract(\"(-[^-]+-[^-]+)$\", expand=False)\n",
    "res.dropna().value_counts().head(16)"
   ]
  },
  {
   "cell_type": "markdown",
   "metadata": {},
   "source": [
    "<div class=\"alert alert-success\">\n",
    "<b>Exercice 5</b>\n",
    "<ul>\n",
    "    <li>Ecrire une fonction qui affiche une carte de France mettant en exergue les communes se terminant par deux mots séparés par des tirets.</li>\n",
    "    <li>Exemples :</li>\n",
    "    <ul>\n",
    "    <li>show(metro, \"SUR\", \"MER\")</li>\n",
    "    <li>show(metro, \"SUR\", \"SEINE\")</li>\n",
    "    <li>show(metro, \"LES\", \"BAINS\")</li>\n",
    "    </ul>\n",
    "</ul>\n",
    "</div>"
   ]
  },
  {
   "cell_type": "code",
   "execution_count": null,
   "metadata": {},
   "outputs": [],
   "source": [
    "def show(metro, mot1, mot2):\n",
    "    pass\n",
    "\n",
    "show(metro, \"SUR\", \"LOIRE\")"
   ]
  },
  {
   "cell_type": "markdown",
   "metadata": {},
   "source": [
    "<div class=\"alert alert-success\">\n",
    "<b>Exercice 6</b>\n",
    "<ul>\n",
    "    <li>Sélectionner dans 2 sous-dataframes les villes de statut au moins \"Préfecture\" et les autres villes.</li>\n",
    "    <li>Afficher les autres villes dans une couleur uniforme.</li>\n",
    "    <li>Trier les villes de statut au moins \"Préfecture\" selon la \"Population\" décroissante et les représenter avec un cercle proportionnel à la \"Population' (option *s=...*) et dans une couleur égale à la \"Densité\".</li>\n",
    "</ul>\n",
    "</div>"
   ]
  },
  {
   "cell_type": "code",
   "execution_count": null,
   "metadata": {},
   "outputs": [],
   "source": [
    "from pandas import CategoricalDtype\n",
    "statuts = ['Commune simple', 'Chef-lieu canton', 'Sous-préfecture',\n",
    "       'Préfecture', 'Préfecture de région', \"Capitale d'état\"]\n",
    "cat_statut = CategoricalDtype(categories=statuts, ordered=True)\n",
    "geo[\"Statut\"] = geo[\"Statut\"].astype(cat_statut)"
   ]
  },
  {
   "cell_type": "markdown",
   "metadata": {},
   "source": [
    "<div class=\"alert alert-success\">\n",
    "<b>Questions</b>\n",
    "<ul>\n",
    "    <li>Pourquoi le cercle le plus large représente la ville de Toulouse ?</li>\n",
    "    <li>Aide : rechercher les Communes qui contiennent le mot \"ARRONDISSEMENT\".</li>\n",
    "</ul>\n",
    "</div>"
   ]
  },
  {
   "cell_type": "markdown",
   "metadata": {},
   "source": [
    "## 6.2 Seaborn\n",
    "\n",
    "Seaborn est une extension de matplotlib qui définit une vingtaine de graphiques pour illustrer des distributions, des régressions, des représentations catégorielles, des matrices et des séries temporelles.\n",
    "\n",
    "Nous allons étudier quelques graphiques."
   ]
  },
  {
   "cell_type": "markdown",
   "metadata": {},
   "source": [
    "### 6.2.1 barplot\n",
    "\n",
    "Show point estimates and confidence intervals as rectangular bars."
   ]
  },
  {
   "cell_type": "code",
   "execution_count": null,
   "metadata": {
    "scrolled": false
   },
   "outputs": [],
   "source": [
    "import seaborn as sns\n",
    "\n",
    "# seaborn barplot\n",
    "val = thd.loc[thd[\"Département\"] == \"VAL-DE-MARNE\", \"1 Mbit\":\"100 Mbit\"]\n",
    "g = sns.barplot(data=val, palette=\"Blues\", ci=None)\n",
    "g.axes.set_title('Tendance centrale des couvertures par débit dans le Val-de-Marne');"
   ]
  },
  {
   "cell_type": "markdown",
   "metadata": {},
   "source": [
    "### 6.2.2 countplot\n",
    "\n",
    "Show the counts of observations in each categorical bin using bars."
   ]
  },
  {
   "cell_type": "code",
   "execution_count": null,
   "metadata": {
    "scrolled": false
   },
   "outputs": [],
   "source": [
    "# seaborn countplot\n",
    "geo.sort_values(\"Commune\", inplace=True)\n",
    "geo[\"initiale\"] = geo[\"Commune\"].apply(lambda x: x[0])\n",
    "g = sns.countplot(data=geo, x=\"initiale\")\n",
    "g.axes.set_ylabel('nombre')\n",
    "g.axes.set_title('Décompte des communes par lettre initiale');"
   ]
  },
  {
   "cell_type": "markdown",
   "metadata": {},
   "source": [
    "### 6.2.3 distplot + kdeplot\n",
    "\n",
    "Flexibly plot a univariate distribution of observations.\n",
    "\n",
    "+ **kdeplot** Fit and plot a univariate or bivariate kernel density estimate."
   ]
  },
  {
   "cell_type": "code",
   "execution_count": null,
   "metadata": {
    "scrolled": false
   },
   "outputs": [],
   "source": [
    "# seaborn distplot\n",
    "sns.displot(x=\"8 Mbit\", data=thd);"
   ]
  },
  {
   "cell_type": "code",
   "execution_count": null,
   "metadata": {
    "scrolled": false
   },
   "outputs": [],
   "source": [
    "# seaborn distplot\n",
    "sns.displot(y=\"8 Mbit\", data=thd);"
   ]
  },
  {
   "cell_type": "markdown",
   "metadata": {},
   "source": [
    "### 6.2.4 distplot + rugplot\n",
    "\n",
    "Flexibly plot a univariate distribution of observations.\n",
    "\n",
    "+ **rugplot** Plot datapoints in an array as sticks on an axis."
   ]
  },
  {
   "cell_type": "code",
   "execution_count": null,
   "metadata": {
    "scrolled": false
   },
   "outputs": [],
   "source": [
    "# seaborn distplot\n",
    "var = geo.loc[geo['Département'] == 'HAUTS-DE-SEINE']\n",
    "sns.displot(x=\"Superficie\", data=var, rug=True);"
   ]
  },
  {
   "cell_type": "markdown",
   "metadata": {},
   "source": [
    "### 6.2.5 violinplot\n",
    "\n",
    "Draw a combination of boxplot and kernel density estimate."
   ]
  },
  {
   "cell_type": "code",
   "execution_count": null,
   "metadata": {
    "scrolled": false
   },
   "outputs": [],
   "source": [
    "# seaborn violinplot\n",
    "sns.violinplot(y=\"Altitude Moyenne\", data=geo);"
   ]
  },
  {
   "cell_type": "markdown",
   "metadata": {},
   "source": [
    "### 6.2.6 regplot\n",
    "\n",
    "Plot data and a linear regression model fit."
   ]
  },
  {
   "cell_type": "code",
   "execution_count": null,
   "metadata": {
    "scrolled": false
   },
   "outputs": [],
   "source": [
    "# seaborn regplot\n",
    "x = np.random.random(100)\n",
    "y = x * (1 + np.random.random(100)) / 2\n",
    "sns.regplot(x=x, y=y);"
   ]
  },
  {
   "cell_type": "markdown",
   "metadata": {},
   "source": [
    "### 6.2.7 stripplot\n",
    "\n",
    "Draw a scatterplot where one variable is categorical."
   ]
  },
  {
   "cell_type": "code",
   "execution_count": null,
   "metadata": {},
   "outputs": [],
   "source": [
    "# seaborn stripplot\n",
    "sns.stripplot(x=\"Population\", y=\"Statut\", data=geo);"
   ]
  },
  {
   "cell_type": "markdown",
   "metadata": {},
   "source": [
    "### 6.2.8 heatmap\n",
    "\n",
    "Plot rectangular data as a color-encoded matrix."
   ]
  },
  {
   "cell_type": "code",
   "execution_count": null,
   "metadata": {
    "scrolled": false
   },
   "outputs": [],
   "source": [
    "# seaborn heatmap\n",
    "var = thd.loc[thd[\"Département\"] == \"CANTAL\"]\n",
    "g = sns.heatmap(data=var.loc[:, \"1 Mbit\":\"100 Mbit\"], cmap='Blues')\n",
    "g.set_yticks([])\n",
    "g.set_ylabel('');"
   ]
  },
  {
   "cell_type": "markdown",
   "metadata": {},
   "source": [
    "<div class=\"alert alert-success\">\n",
    "<b>Exercice 7</b>\n",
    "<ul>\n",
    "    <li>Afficher une carte de chaleur avec les corrélations du *DataFrame* thd.</li>\n",
    "    <li>Ajouter des lignes blanches horizontales et verticales séparant les technologies.</li>\n",
    "</ul>\n",
    "</div>"
   ]
  },
  {
   "cell_type": "code",
   "execution_count": null,
   "metadata": {},
   "outputs": [],
   "source": [
    "# exercice\n",
    "# THD sélectionner les communes qui commencent par la lettre \"A\"\n",
    "# comprendre et corriger l'erreur"
   ]
  }
 ],
 "metadata": {
  "anaconda-cloud": {},
  "kernelspec": {
   "display_name": "Python 3",
   "language": "python",
   "name": "python3"
  },
  "language_info": {
   "codemirror_mode": {
    "name": "ipython",
    "version": 3
   },
   "file_extension": ".py",
   "mimetype": "text/x-python",
   "name": "python",
   "nbconvert_exporter": "python",
   "pygments_lexer": "ipython3",
   "version": "3.8.8"
  }
 },
 "nbformat": 4,
 "nbformat_minor": 1
}
