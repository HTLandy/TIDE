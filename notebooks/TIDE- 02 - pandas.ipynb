{
 "cells": [
  {
   "cell_type": "markdown",
   "metadata": {
    "collapsed": true
   },
   "source": [
    "# Master TIDE - Conférences Python 2021\n",
    "\n",
    "Francis Wolinski\n",
    "\n",
    "&copy; 2021 Yotta Conseil\n",
    "\n",
    "# 2. Pandas : accès aux données"
   ]
  },
  {
   "cell_type": "code",
   "execution_count": null,
   "metadata": {
    "scrolled": false
   },
   "outputs": [],
   "source": [
    "# import des modules usuels\n",
    "import pandas as pd\n",
    "import numpy as np\n",
    "\n",
    "# options d'affichage\n",
    "pd.set_option(\"display.max_rows\", 16)"
   ]
  },
  {
   "cell_type": "code",
   "execution_count": null,
   "metadata": {
    "scrolled": false
   },
   "outputs": [],
   "source": [
    "# chargement des données\n",
    "geo = pd.read_csv(\"correspondance-code-insee-code-postal.csv\",\n",
    "                   sep=';',\n",
    "                   usecols=range(11),\n",
    "                   index_col=\"Code INSEE\")\n",
    "geo = geo.sort_index()\n",
    "geo.head()"
   ]
  },
  {
   "cell_type": "code",
   "execution_count": null,
   "metadata": {},
   "outputs": [],
   "source": [
    "# index\n",
    "geo.index"
   ]
  },
  {
   "cell_type": "code",
   "execution_count": null,
   "metadata": {},
   "outputs": [],
   "source": [
    "# colonnes\n",
    "geo.columns"
   ]
  },
  {
   "cell_type": "code",
   "execution_count": null,
   "metadata": {},
   "outputs": [],
   "source": [
    "# accès avec []\n",
    "geo['Commune']"
   ]
  },
  {
   "cell_type": "code",
   "execution_count": null,
   "metadata": {},
   "outputs": [],
   "source": [
    "# accès par attribut : ne fonctionne pas toujours\n",
    "geo.Commune"
   ]
  },
  {
   "cell_type": "markdown",
   "metadata": {},
   "source": [
    "Point de vocabulaire :\n",
    "- Les objets *Series* et *DataFrame* possèdent des *index* qui peuvent être des entiers (par défaut) ou bien des labels (chaines de caractères, ou encore des tuples pour les index multiples / hiérarchiques). Lorsque l'index est unique, ils ont un comportement de type dictionnaire auquel on accède au moyen d'une clé.\n",
    "- Ces objets sont aussi basés sur des tableaux (*ndarray*) auxquels on peut accéder par position, c'est-à-dire par un entier appelé *indice* (en démarrant à 0). Ils ont un comportement de type séquence auquel on accède par un entier.\n",
    "\n",
    "## 2.1 Rappel sur les accès par indices en Python\n",
    "\n"
   ]
  },
  {
   "cell_type": "markdown",
   "metadata": {},
   "source": [
    "Notation|Signification\n",
    "-|-\n",
    "s[i]|accès à l'élement situé à la position i (démarrant à 0)\n",
    "s[i:j]|accès aux élements situés entre la position i et la position j-1\n",
    "s[i:j:k]|accès aux élements situés entre la position i et la position j-1 par pas de k\n",
    "s[:i]| accès à tous les éléments jusqu'à la position i-1\n",
    "s[i:]|accès à tous les éléments à partir de la position i\n",
    "s[:]|accès à tous les éléments\n",
    "s[::-1]|accès à tous les éléments dans l'ordre inverse"
   ]
  },
  {
   "cell_type": "markdown",
   "metadata": {},
   "source": [
    "**Rappel** : en Python le premier indice d'une séquence de longueur L est 0 et le dernier est L - 1. Par commodité, une séquence peut aussi être accédée par des indices négatifs allant de -L à -1."
   ]
  },
  {
   "cell_type": "markdown",
   "metadata": {},
   "source": [
    "P|y|t|h|o|n\n",
    "-|-|-|-|-|-\n",
    "0|1|2|3|4|5\n",
    "-6|-5|-4|-3|-2|-1"
   ]
  },
  {
   "cell_type": "markdown",
   "metadata": {},
   "source": [
    "**Remarques importantes**\n",
    "\n",
    "Cette notation utilisée pour les indices a été reprise pour les index des objets *Series* et *dataFrame*.\n",
    "- Lorsque 2 index sont indiqués, le second index est inclus dans la sélection, contrairement aux indices (idem avec les colonnes).\n",
    "- Lorsque 2 index sont indiqués, la notation fonctionne uniquement lorsque l'index est unique (idem avec les colonnes)."
   ]
  },
  {
   "cell_type": "markdown",
   "metadata": {},
   "source": [
    "## 2.2 *Series*\n",
    "\n",
    "Il existe plusieurs opérateurs pour effectuer des sélections dans les objets *Series* :\n",
    "+ `[]` : sélection à partir d'un index ou d'un indice (si l'index n'est pas un entier) :\n",
    "    - un seul index ou indice : `s[i]`\n",
    "    - liste d'index ou d'indices : `s[[i, j, k]]` (fancy indexing)\n",
    "    - plage d'index ou d'indices : `s[i:j]` et `s[i:j:k]` (attention index vs indices)\n",
    "    - vecteur de booléens (masque) : `True` = sélection, `False` = non sélection\n",
    "+ `.loc[]` idem mais réservé aux index\n",
    "+ `.iloc[]` idem mais réservé aux indices\n",
    "\n",
    "Lorsque la sélection correspond à une seule valeur, l'opération retourne un scalaire.\n",
    "Lorsque la sélection correspond à plusieurs valeurs, l'opération retourne un objet `Series`.\n",
    "\n",
    "N.B. : Les instructions de sélection avec les opérateurs `loc` et `iloc` permettent aussi l'affectation de valeurs."
   ]
  },
  {
   "cell_type": "markdown",
   "metadata": {},
   "source": [
    "### 2.2.1 Sélection par index ou indice"
   ]
  },
  {
   "cell_type": "code",
   "execution_count": null,
   "metadata": {},
   "outputs": [],
   "source": [
    "# sélection par index\n",
    "s = geo['Commune']\n",
    "s.loc['75113'] # ou s['75113']"
   ]
  },
  {
   "cell_type": "code",
   "execution_count": null,
   "metadata": {},
   "outputs": [],
   "source": [
    "# sélection par indice\n",
    "s.iloc[30836] # ou s[30836]"
   ]
  },
  {
   "cell_type": "code",
   "execution_count": null,
   "metadata": {},
   "outputs": [],
   "source": [
    "# sélection par une liste d'index\n",
    "s.loc[['01001', '01004', '01006']] # ou s[['01001', '01004', '01006']]"
   ]
  },
  {
   "cell_type": "code",
   "execution_count": null,
   "metadata": {},
   "outputs": [],
   "source": [
    "# sélection par une liste d'index\n",
    "l = ['01001', '01004', '01006']\n",
    "s.loc[l] # ou s[l]"
   ]
  },
  {
   "cell_type": "code",
   "execution_count": null,
   "metadata": {},
   "outputs": [],
   "source": [
    "# sélection par une liste d'indices\n",
    "s.iloc[[0, 2, 4]] # ou s[[0, 2, 4]]"
   ]
  },
  {
   "cell_type": "code",
   "execution_count": null,
   "metadata": {},
   "outputs": [],
   "source": [
    "# sélection par une plage d'index\n",
    "# 01006 est inclus\n",
    "s.loc['01001':'01006'] # ou s['01001':'01006']"
   ]
  },
  {
   "cell_type": "code",
   "execution_count": null,
   "metadata": {},
   "outputs": [],
   "source": [
    "# sélection par une plage d'indices\n",
    "# 5 est exclu\n",
    "s.iloc[0:5] # ou s[0:5]"
   ]
  },
  {
   "cell_type": "code",
   "execution_count": null,
   "metadata": {},
   "outputs": [],
   "source": [
    "# sélection par une plage d'index\n",
    "# 01006 est inclus\n",
    "s.loc['01001':'01006':2] # ou s['01001':'01006':2]"
   ]
  },
  {
   "cell_type": "code",
   "execution_count": null,
   "metadata": {},
   "outputs": [],
   "source": [
    "# sélection par une plage d'indices\n",
    "# 5 est exclu\n",
    "s.iloc[0:5:2] # ou s[0:5:2]"
   ]
  },
  {
   "cell_type": "markdown",
   "metadata": {},
   "source": [
    "### 2.2.1 Sélection avec un masque booléen\n",
    "\n",
    "Il est possible de sélectionner une partie d'un objet `Series` à partir d'un masque booléen, i.e. un autre objet `Series` de même dimension et composé de booléens.\n",
    "\n",
    "Opérateurs logiques:\n",
    "- & (ET)\n",
    "- | (OU)\n",
    "- ~ (NON)"
   ]
  },
  {
   "cell_type": "code",
   "execution_count": null,
   "metadata": {},
   "outputs": [],
   "source": [
    "# Series\n",
    "s"
   ]
  },
  {
   "cell_type": "code",
   "execution_count": null,
   "metadata": {
    "scrolled": false
   },
   "outputs": [],
   "source": [
    "# vecteur de booléens selon si le nom de la ville commence par \"A\"\n",
    "masque = s.str.startswith(\"A\")\n",
    "masque"
   ]
  },
  {
   "cell_type": "markdown",
   "metadata": {},
   "source": [
    "On obtient 2 objets `Series` parallèles et on ne retient que les élements qui correspondent à un `True`."
   ]
  },
  {
   "cell_type": "code",
   "execution_count": null,
   "metadata": {
    "scrolled": false
   },
   "outputs": [],
   "source": [
    "# sélection à partir du vecteur de booléens\n",
    "s.loc[masque]  # ou bien s[masque]"
   ]
  },
  {
   "cell_type": "code",
   "execution_count": null,
   "metadata": {
    "scrolled": false
   },
   "outputs": [],
   "source": [
    "# les communes qui commencent par SAINT\n",
    "s.loc[s.str.startswith(\"SAINT\")]"
   ]
  },
  {
   "cell_type": "markdown",
   "metadata": {},
   "source": [
    "<div class=\"alert alert-success\">\n",
    "<b>Exercice 1</b>\n",
    "<ul>\n",
    "    <li>Quelles communes commencent par la lettre \"Z\" ?</li>\n",
    "    <li>Quelles communes commencent et finissent par la lettre \"Y\" ?</li>\n",
    "    <li>Combien de communes sont \"SUR-MER\" ?</li>\n",
    "    <li>Quelles communes ont un nom avec la préposition \"SOUS\" ?</li>\n",
    "    <li>Quelles communes ont un nom avec \"SOUS\" mais pas la préposition \"SOUS\" ?</li>\n",
    "</ul>\n",
    "</div>"
   ]
  },
  {
   "cell_type": "markdown",
   "metadata": {},
   "source": [
    "#### Point sur les expressions régulières"
   ]
  },
  {
   "cell_type": "code",
   "execution_count": null,
   "metadata": {},
   "outputs": [],
   "source": [
    "# module re"
   ]
  },
  {
   "cell_type": "code",
   "execution_count": null,
   "metadata": {},
   "outputs": [],
   "source": [
    "# les communes comportant 2 Z\n",
    "s.loc[s.str.contains(\"ZZ\")].head(16)"
   ]
  },
  {
   "cell_type": "markdown",
   "metadata": {},
   "source": [
    "Les **expressions régulières**, ou **regex**, permettent de filtrer des chaines de caractères selon un motif. Dans ces expressions, certains caractères ont une signification spéciale pour permettre le filtrage :\n",
    "\n",
    "- `.`: tout caractère\n",
    "- `^`: le début de la chaine\n",
    "- `$`: la fin de la chaine\n",
    "- `*`: 0 ou plusieurs répétitions du motif précédent\n",
    "- `+`: 1 ou plusieurs répétitions du motif précédent\n",
    "- `?`: 0 ou 1 répétition du motif précédent\n",
    "- `\\`: pour que ces caractères soient traités normalement, il faut les préfixer pat un `\\`.\n",
    "\n",
    "La méthode `contains()` prend des expressions régulières par défaut. Il faut utiliser l'option `regex=False` pour chercher des chaines normales.\n",
    "\n",
    "Toutes les caractères alphanumériques : `[A-Za-zÀ-ÿ0-9]`"
   ]
  },
  {
   "cell_type": "markdown",
   "metadata": {},
   "source": [
    "## 2.3 *DataFrame*\n",
    "\n",
    "Les mêmes opérateurs existent pour effectuer des sélections dans les objets de type *DataFrame* :\n",
    "+ `[]` : sélection à partir d'un index ou d'un indice (si l'index n'est pas un entier) :\n",
    "    - une seule colonne : df[a]\n",
    "    - liste de colonnes ou d'indices : df[[a, b, c]] (fancy indexing)\n",
    "    - plage d'index ou d'indices : df[i:j] et df[i:j:k] (Attention index vs indices)\n",
    "    - vecteur de booléens (masque) : *True* = sélection, *False* = non sélection\n",
    "+ `.loc[]` idem mais réservé aux index\n",
    "+ `.iloc[]` idem mais réservé aux indices\n",
    "\n",
    "Lorsque la sélection correspond à une seule valeur, l'opération retourne un scalaire.\n",
    "Lorsque la sélection correspond à une colonne ou à une ligne, l'opération retourne un objet `Series`.\n",
    "Lorsque la sélection correspond à plusieurs colonnes et à plusieurs lignes, l'opération retourne un objet `DataFrame`.\n",
    "\n",
    "N.B. : Les instructions de sélection avec les opérateurs `loc` et `iloc` permettent aussi l'affectation de valeurs.\n",
    "\n",
    "### 2.3.1 Sélection de colonnes\n",
    "\n",
    "En sélectionnant une seule colonne, on obtient un objet `Series` qui partage l'index du `DataFrame` initial. Cf. ci-dessus.\n",
    "\n",
    "En sélectionnant plusieurs colonnes, on obtient un nouveau `DataFrame` sous-ensemble du `DataFrame` initial et partageant son index avec autant de lignes que le `DataFrame` initial."
   ]
  },
  {
   "cell_type": "code",
   "execution_count": null,
   "metadata": {
    "scrolled": false
   },
   "outputs": [],
   "source": [
    "# sélection d'une colonne\n",
    "geo[\"Commune\"]"
   ]
  },
  {
   "cell_type": "code",
   "execution_count": null,
   "metadata": {
    "scrolled": false
   },
   "outputs": [],
   "source": [
    "# communes + superficie et population\n",
    "l = [\"Commune\", \"Superficie\", \"Population\"]\n",
    "geo[l].head()"
   ]
  },
  {
   "cell_type": "code",
   "execution_count": null,
   "metadata": {
    "scrolled": false
   },
   "outputs": [],
   "source": [
    "# communes + superficie et population\n",
    "geo[[\"Commune\", \"Superficie\", \"Population\"]].head()"
   ]
  },
  {
   "cell_type": "markdown",
   "metadata": {},
   "source": [
    "### 2.3.2 Sélection de lignes\n",
    "\n",
    "En sélectionnant une seule ligne, on obtient un objet `Series` dont l'index correspond aux colonnes du `DataFrame` initial.\n",
    "\n",
    "En sélectionnant plusieurs lignes, on obtient un nouveau `DataFrame` sous-ensemble du `DataFrame` initial et partageant son index avec autant de colonnes que le `DataFrame` initial."
   ]
  },
  {
   "cell_type": "code",
   "execution_count": null,
   "metadata": {
    "scrolled": false
   },
   "outputs": [],
   "source": [
    "# sélection d'une ligne\n",
    "s = geo.loc[\"01001\"]\n",
    "s"
   ]
  },
  {
   "cell_type": "code",
   "execution_count": null,
   "metadata": {},
   "outputs": [],
   "source": [
    "# type\n",
    "type(s)"
   ]
  },
  {
   "cell_type": "code",
   "execution_count": null,
   "metadata": {
    "scrolled": false
   },
   "outputs": [],
   "source": [
    "# sélection d'une ligne\n",
    "geo.iloc[0]"
   ]
  },
  {
   "cell_type": "code",
   "execution_count": null,
   "metadata": {
    "scrolled": false
   },
   "outputs": [],
   "source": [
    "# sélection de plusieurs lignes\n",
    "geo.loc[\"01001\":\"01006\"]"
   ]
  },
  {
   "cell_type": "code",
   "execution_count": null,
   "metadata": {
    "scrolled": false
   },
   "outputs": [],
   "source": [
    "# sélection de plusieurs lignes\n",
    "geo.iloc[0:5]"
   ]
  },
  {
   "cell_type": "markdown",
   "metadata": {},
   "source": [
    "### 2.3.3 Sélection de lignes et de colonnes\n",
    "\n",
    "En sélectionnant plusieurs lignes et plusieurs colonnes, on obtient un nouveau `DataFrame` sous-ensemble du `DataFrame` initial."
   ]
  },
  {
   "cell_type": "code",
   "execution_count": null,
   "metadata": {
    "scrolled": false
   },
   "outputs": [],
   "source": [
    "# sélection de plusieurs lignes et de plusieurs colonnes\n",
    "geo.loc[\"01001\":\"01006\", \"Commune\":\"Statut\"]"
   ]
  },
  {
   "cell_type": "code",
   "execution_count": null,
   "metadata": {
    "scrolled": false
   },
   "outputs": [],
   "source": [
    "# sélection de plusieurs lignes et de plusieurs colonnes\n",
    "geo.iloc[0:5, 1:5]"
   ]
  },
  {
   "cell_type": "markdown",
   "metadata": {},
   "source": [
    "### 2.3.4 Sélection avec des conditions portant sur les valeurs\n",
    "\n",
    "Il est également possible de sélectionner une partie d'un `DataFrame` à partir de conditions portant sur les valeurs.\n",
    "\n",
    "La conjonction de conditions est notée `&`, la disjonction est notée `|` et la négation `~`."
   ]
  },
  {
   "cell_type": "code",
   "execution_count": null,
   "metadata": {
    "scrolled": false
   },
   "outputs": [],
   "source": [
    "# les communes des Hauts-de-Seine avec une population supérieure à 80000\n",
    "geo.loc[(geo[\"Département\"] == \"HAUTS-DE-SEINE\") & (geo[\"Population\"] > 80.0)]"
   ]
  },
  {
   "cell_type": "markdown",
   "metadata": {},
   "source": [
    "<div class=\"alert alert-success\">\n",
    "<b>Exercice 2</b>\n",
    "<ul>\n",
    "    <li>Affichez l'altitude moyenne, la superficie et la population de toutes les communes dénommées Sainte-Colombe.</li>\n",
    "    <li>Combien y a-t-il de départements dans lesquels au moins une commune a plus de 200.000 habitants ?</li>\n",
    "    <li>Donner la liste de ces départements.</li>\n",
    "    <li>Combien y a-t-il de communes dont le nom comporte 2 lettres?</li>\n",
    "    <li>Donnez la liste de ces communes dans l'ordre alphabétique.</li>\n",
    "    <li>Sélectionnez les communes pour lesquelles l'atitude moyenne vaut la superficie.</li>\n",
    "    <li>Quelle est la population totale de ces communes ?</li>\n",
    "    <li>Y a-t-il des communes au niveau de la mer ?</li>\n",
    "</ul>\n",
    "</div>"
   ]
  },
  {
   "cell_type": "markdown",
   "metadata": {},
   "source": [
    "### Index non unique"
   ]
  },
  {
   "cell_type": "code",
   "execution_count": null,
   "metadata": {},
   "outputs": [],
   "source": [
    "# test de l'unicité de l'index\n",
    "geo.index.is_unique"
   ]
  },
  {
   "cell_type": "code",
   "execution_count": null,
   "metadata": {},
   "outputs": [],
   "source": [
    "# reset de l'index\n",
    "geo = geo.reset_index()\n",
    "geo = geo.set_index('Commune', drop=True)\n",
    "geo.head()"
   ]
  },
  {
   "cell_type": "code",
   "execution_count": null,
   "metadata": {},
   "outputs": [],
   "source": [
    "# test de l'unicité de l'index\n",
    "geo.index.is_unique"
   ]
  },
  {
   "cell_type": "code",
   "execution_count": null,
   "metadata": {},
   "outputs": [],
   "source": [
    "# accès avec un index non unique\n",
    "geo.loc['SAINTE-COLOMBE']"
   ]
  },
  {
   "cell_type": "code",
   "execution_count": null,
   "metadata": {},
   "outputs": [],
   "source": [
    "# tête\n",
    "geo.head()"
   ]
  },
  {
   "cell_type": "code",
   "execution_count": null,
   "metadata": {},
   "outputs": [],
   "source": [
    "# tentative d'accès à une plage d'index\n",
    "geo.loc[\"L'ABERGEMENT-CLEMENCIAT\":\"SAINTE-COLOMBE\"]"
   ]
  }
 ],
 "metadata": {
  "anaconda-cloud": {},
  "kernelspec": {
   "display_name": "Python 3",
   "language": "python",
   "name": "python3"
  },
  "language_info": {
   "codemirror_mode": {
    "name": "ipython",
    "version": 3
   },
   "file_extension": ".py",
   "mimetype": "text/x-python",
   "name": "python",
   "nbconvert_exporter": "python",
   "pygments_lexer": "ipython3",
   "version": "3.8.10"
  }
 },
 "nbformat": 4,
 "nbformat_minor": 1
}
