{
 "cells": [
  {
   "cell_type": "markdown",
   "metadata": {},
   "source": [
    "# Master TIDE - Conférences Python 2021\n",
    "\n",
    "Francis Wolinski\n",
    "\n",
    "&copy; 2021 Yotta Conseil\n",
    "\n",
    "\n",
    "# 5. Opérations de pivot\n",
    "\n",
    "Cette séance utilise les données accessibles sur le site de la Sécurité Sociale US.\n",
    "\n",
    "Prénom, genre et nombre de naissances des enfants nés aux USA depuis 1880.\n",
    "\n",
    "Seuls les prénoms avec au moins 5 naissances dans une année sont présents."
   ]
  },
  {
   "cell_type": "code",
   "execution_count": null,
   "metadata": {},
   "outputs": [],
   "source": [
    "# import des modules usuels\n",
    "import numpy as np\n",
    "import pandas as pd\n",
    "from pandas import CategoricalDtype\n",
    "import matplotlib.pyplot as plt\n",
    "import seaborn as sns\n",
    "\n",
    "# options d'affichage\n",
    "pd.set_option(\"display.max_rows\", 16)\n",
    "plt.style.use('seaborn-darkgrid')"
   ]
  },
  {
   "cell_type": "code",
   "execution_count": null,
   "metadata": {},
   "outputs": [],
   "source": [
    "# names\n",
    "# https://www.ssa.gov/oact/babynames/names.zip\n",
    "\n",
    "from os.path import exists\n",
    "\n",
    "if exists(\"names.pkl\"):   \n",
    "    df = pd.read_pickle(\"names.pkl\") # restauration à partir du format pickle\n",
    "\n",
    "else:\n",
    "    import glob # Python module qui implémente la fonction glob()\n",
    "\n",
    "    files =  glob.glob('names/*.txt')  # lecture des fichiers .txt\n",
    "    files.sort()\n",
    "    dfs = []\n",
    "    for filename in files:\n",
    "        year = int(filename[-8:-4]) # extraction de l'année\n",
    "        csv = pd.read_csv(filename, names=['name', 'gender', 'births']) # chargement d'un fichier unitaire\n",
    "        csv['year'] = year # ajout de la colonne année\n",
    "        dfs.append(csv)\n",
    "        \n",
    "    df = pd.concat(dfs, ignore_index=True) # concaténation de tous les DataFrames\n",
    "\n",
    "    df = df[['year', 'name', 'gender', 'births']] # ordre des colonnes\n",
    "    df.to_pickle(\"names.pkl\") # sauvegarde au format pickle\n",
    "    \n",
    "df.shape"
   ]
  },
  {
   "cell_type": "code",
   "execution_count": null,
   "metadata": {},
   "outputs": [],
   "source": [
    "df"
   ]
  },
  {
   "cell_type": "markdown",
   "metadata": {},
   "source": [
    "## 5.1 Fonction `crosstab()`\n",
    "\n",
    "La fonction `crosstab()` calcule les modalités croisées de deux facteurs (2 objets de type `Series` partageant le même index. Par ex, 2 colonnes d'un même `DataFrame`).\n",
    "\n",
    "L'option `margine=True` calcule le total par ligne et par colonne. L'option `normalize=...` normalise les résultats en pourcentages compris entre 0 et 1 (`True` : toutes les valeurs, `index` : par ligne, `columns` par colonne).\n",
    "\n",
    "Le résultat est un objet de type `DataFrame` : l'index comprend les différentes modalités de la première `Series` et les colonnes les différentes modalités de la seconde `Series`."
   ]
  },
  {
   "cell_type": "code",
   "execution_count": null,
   "metadata": {},
   "outputs": [],
   "source": [
    "# ajout de la longueur des prénoms\n",
    "df['length'] = df['name'].str.len()\n",
    "df"
   ]
  },
  {
   "cell_type": "code",
   "execution_count": null,
   "metadata": {},
   "outputs": [],
   "source": [
    "# crosstable simple\n",
    "pd.crosstab(df['length'], df['gender'])"
   ]
  },
  {
   "cell_type": "markdown",
   "metadata": {},
   "source": [
    "## 5.2 La méthode `pivot_table()`\n",
    "\n",
    "La méthode `pivot_table()` construit un tableau synthétique de valeurs agrégées et ventilées selon les différentes valeurs d'une ou plusieurs colonnes.\n",
    "\n",
    "Elle retourne un nouveau `DataFrame` en fonction des paramètres fournis.\n",
    "\n",
    "- values : colonnes du `DataFrame` initial dont les valeurs sont agrégées\n",
    "- index : colonnes du `DataFrame` initial dont les valeurs sont utilisées en index\n",
    "- columns : colonnes du `DataFrame` initial dont les valeurs sont utilisées en nom de colonnes\n",
    "- aggfunc : fonction d'agrégation des valeurs, par défaut `numpy.mean` (calcul de la moyenne des valeurs), : mean, min, max, sum, count, nunique, median, fonction ou lambda."
   ]
  },
  {
   "cell_type": "code",
   "execution_count": null,
   "metadata": {
    "scrolled": false
   },
   "outputs": [],
   "source": [
    "# pivot table naissances par année et genres\n",
    "var = df.pivot_table(values='births',\n",
    "            index='year',\n",
    "            columns='gender',\n",
    "            aggfunc='sum')\n",
    "var"
   ]
  },
  {
   "cell_type": "code",
   "execution_count": null,
   "metadata": {},
   "outputs": [],
   "source": [
    "# vérification\n",
    "df.loc[(df['year']==1880)&(df['gender']=='F'), 'births'].sum()"
   ]
  },
  {
   "cell_type": "code",
   "execution_count": null,
   "metadata": {},
   "outputs": [],
   "source": [
    "# graphique\n",
    "var.plot(title='Nombre de naissances par année et par genre'); # pour changer les couleurs par exemple color=['m', 'c']"
   ]
  },
  {
   "cell_type": "code",
   "execution_count": null,
   "metadata": {},
   "outputs": [],
   "source": [
    "# sans l'option columns\n",
    "var = df.pivot_table(values='births',\n",
    "            index='year',\n",
    "            aggfunc='sum')\n",
    "var"
   ]
  },
  {
   "cell_type": "markdown",
   "metadata": {},
   "source": [
    "<div class=\"alert alert-success\">\n",
    "<b>Exercice 1</b>\n",
    "<ul>\n",
    "    <li>Pivot tables avec le premier ou le dernier nom par ordre alphabétique par année et par genre.</li>\n",
    "</ul>"
   ]
  },
  {
   "cell_type": "markdown",
   "metadata": {},
   "source": [
    "<div class=\"alert alert-success\">\n",
    "<b>Exercice 2</b>\n",
    "<ul>\n",
    "    <li>Pivot table avec la diversité des prénoms (nombre de prénoms différents) par année et par genre.</li>\n",
    "    <li>Vérifier pour les femmes en 1880.</li>\n",
    "    <li>Calcul de la différence de diversité des prénoms entre les hommes et les femmes par année</li>\n",
    "    <li>Calcul du maximum de cette différence. Pour quelle année ?</li>\n",
    "    <li>Faire un graphique.</li>\n",
    "</ul>"
   ]
  },
  {
   "cell_type": "markdown",
   "metadata": {},
   "source": [
    "## 6. Gestion des valeurs manquantes et des doublons\n",
    "\n",
    "### 6.1 Valeurs manquantes\n",
    "\n",
    "Le module pandas possède des fonctions pour gérer les valeurs manquantes."
   ]
  },
  {
   "cell_type": "code",
   "execution_count": null,
   "metadata": {},
   "outputs": [],
   "source": [
    "# pivot table of a subset of df with name equals to mary\n",
    "var = df.loc[(df['name']=='Mary')]\n",
    "tab = var.pivot_table(values='births',\n",
    "                        index='year',\n",
    "                        columns='gender',\n",
    "                        aggfunc='sum')\n",
    "tab"
   ]
  },
  {
   "cell_type": "markdown",
   "metadata": {},
   "source": [
    "On constate que la valeur `NaN` est affichée dans certaines lignes.\n",
    "\n",
    "Il s'agit de la valeur `np.nan`, `NaN` signifiant \"Not a Number\".\n",
    "\n",
    "`NaN` est objet spécial introduit par `NumPy` pour représenter l'absence de valeur.\n",
    "\n",
    "Il est à noter que la fonction `crosstab()` ne produit pas de `NaN` mais met des 0."
   ]
  },
  {
   "cell_type": "code",
   "execution_count": null,
   "metadata": {},
   "outputs": [],
   "source": [
    "# crosstab année x genre pour le prénom Mary\n",
    "pd.crosstab(var['year'], var['gender'])"
   ]
  },
  {
   "cell_type": "code",
   "execution_count": null,
   "metadata": {},
   "outputs": [],
   "source": [
    "# accès à la valeur\n",
    "tab.iloc[-2, -1]"
   ]
  },
  {
   "cell_type": "code",
   "execution_count": null,
   "metadata": {},
   "outputs": [],
   "source": [
    "# l'objet NaN de NumPy\n",
    "np.nan"
   ]
  },
  {
   "cell_type": "code",
   "execution_count": null,
   "metadata": {},
   "outputs": [],
   "source": [
    "# NaN est un nombre flottant\n",
    "type(np.nan)"
   ]
  },
  {
   "cell_type": "code",
   "execution_count": null,
   "metadata": {},
   "outputs": [],
   "source": [
    "# arithmétique de NaN : NaN est un élément absorbant\n",
    "np.nan + 1  # avec n'importe quelle opération mathématique"
   ]
  },
  {
   "cell_type": "code",
   "execution_count": null,
   "metadata": {},
   "outputs": [],
   "source": [
    "# toute opération avec NaN renvoie Nan\n",
    "1 + np.nan"
   ]
  },
  {
   "cell_type": "code",
   "execution_count": null,
   "metadata": {},
   "outputs": [],
   "source": [
    "# fonctions\n",
    "np.sqrt(np.nan)  # avec n'importe quelle fonction mathématique"
   ]
  },
  {
   "cell_type": "code",
   "execution_count": null,
   "metadata": {},
   "outputs": [],
   "source": [
    "np.nan == np.nan"
   ]
  },
  {
   "cell_type": "markdown",
   "metadata": {},
   "source": [
    "La librairie pandas propose toute une panoplie d'outils pour gérer l'absence de valeur, phénomène fréquent lorsque l'on fait de l'analyse de données."
   ]
  },
  {
   "cell_type": "code",
   "execution_count": null,
   "metadata": {},
   "outputs": [],
   "source": [
    "tab == np.nan"
   ]
  },
  {
   "cell_type": "code",
   "execution_count": null,
   "metadata": {},
   "outputs": [],
   "source": [
    "# test sur la présence de Nan\n",
    "tab.isnull()"
   ]
  },
  {
   "cell_type": "code",
   "execution_count": null,
   "metadata": {},
   "outputs": [],
   "source": [
    "# test sur l'absence de Nan\n",
    "tab.notnull()"
   ]
  },
  {
   "cell_type": "code",
   "execution_count": null,
   "metadata": {},
   "outputs": [],
   "source": [
    "# lignes ayant au moins un NaN\n",
    "tab.loc[tab.isnull().any(axis=1)]"
   ]
  },
  {
   "cell_type": "code",
   "execution_count": null,
   "metadata": {},
   "outputs": [],
   "source": [
    "# suppression des lignes comportant un Nan\n",
    "tab.dropna()"
   ]
  },
  {
   "cell_type": "code",
   "execution_count": null,
   "metadata": {},
   "outputs": [],
   "source": [
    "# suppression des colonnes comportant un Nan\n",
    "tab.dropna(axis=1)"
   ]
  },
  {
   "cell_type": "code",
   "execution_count": null,
   "metadata": {},
   "outputs": [],
   "source": [
    "# remplacement des NaN par une valeur fixe\n",
    "tab.fillna(0)"
   ]
  },
  {
   "cell_type": "markdown",
   "metadata": {},
   "source": [
    "Il existe d'autres méthodes de remplissage (ffill, bfill), voir http://pandas.pydata.org/pandas-docs/stable/missing_data.html\n",
    "\n",
    "Il faut aussi étudier les options de la fonction `read_csv()` :\n",
    "\n",
    "- na_values\n",
    "- keep_default_na\n",
    "- na_filter"
   ]
  },
  {
   "cell_type": "code",
   "execution_count": null,
   "metadata": {},
   "outputs": [],
   "source": [
    "# read_csv()\n",
    "\n",
    "pd.read_csv?"
   ]
  },
  {
   "cell_type": "markdown",
   "metadata": {},
   "source": [
    "### 6.2 Doublons\n",
    "\n",
    "Il est également possible de supprimer les éventuelles lignes dupliquées. La méthode `duplicated()` détermine si les lignes sont dupliquées ou non et la méthode `drop_duplicates()` supprime les doublons (seule la première ligne est conservée)."
   ]
  },
  {
   "cell_type": "code",
   "execution_count": null,
   "metadata": {},
   "outputs": [],
   "source": [
    "# décompte des lignes dupliquées\n",
    "df[['year', 'name']].duplicated().value_counts()"
   ]
  },
  {
   "cell_type": "code",
   "execution_count": null,
   "metadata": {},
   "outputs": [],
   "source": [
    "# supression des lignes dupliquées\n",
    "var = df[['year', 'name']].drop_duplicates()\n",
    "var.shape"
   ]
  },
  {
   "cell_type": "markdown",
   "metadata": {},
   "source": [
    "## Exercices complémentaires"
   ]
  },
  {
   "cell_type": "markdown",
   "metadata": {},
   "source": [
    "<div class=\"alert alert-success\">\n",
    "<b>Exercice 3</b>\n",
    "<p>Nous allons tracer l'évolution de la diversité des prénoms se terminant par une lettre donnée, et ce, pour les 7 lettres ayant le plus de diversité en 2018.</p>\n",
    "    <ul>\n",
    "    <li>Ajouter une colone au DataFrame avec la dernière lettre de chaque prénom en majuscule</li>\n",
    "    <li>Calculer un tableau croisé avec les années et les lettres terminales donnant le nombre de prénoms</li>\n",
    "    <li>Sélectionner les 7 plus grandes valeurs de la ligne correspondant à la dernière année</li>\n",
    "    <li>Tracer le tableau croisé obtenu limité aux 7 lettres correspondant aux 7 plus grandes valeurs trouvées</li>\n",
    "    </ul>\n",
    "</div>"
   ]
  },
  {
   "cell_type": "markdown",
   "metadata": {},
   "source": [
    "<div class=\"alert alert-success\">\n",
    "<b>Exercice 4</b>\n",
    "<p>Etude des prénoms qui ont changé de genre 1/2</p>\n",
    "    <ul>\n",
    "    <li>Faire un value counts des prénoms. Quelle interprétation ?</li>\n",
    "    <li>Calculer la liste des prénoms qui apparaissent au moins 10000 fois.</li>\n",
    "    <li>Sélectionner ces prénoms dans le DataFrame.</li>\n",
    "    <li>Pour chaque prénom calculer le nombre de naissances par genre et le ratio \"F/(F + M)\".</li>\n",
    "    <li>Afficher un histogramme du ratio trouvé.</li>\n",
    "    </ul>\n",
    "</div>"
   ]
  },
  {
   "cell_type": "markdown",
   "metadata": {},
   "source": [
    "<div class=\"alert alert-success\">\n",
    "<b>Exercice 5</b>\n",
    "<p>Etude des prénoms qui ont changé de genre 2/2</p>\n",
    "    <ul>\n",
    "    <li>Sélectionner le prénom \"Leslie\".</li>\n",
    "    <li>Calculer les ratios \"F/(F + M)\" et \"M/(F + M)\" avec la méthode <code>div()</code>.</li>\n",
    "    <li>Afficher un graphe avec l'évolution de ces ratios dans le temps.</li>\n",
    "    <li>Essayer avec d'autres prénoms : Donnie, Jean, Angel, Kim, Sydney.</li>\n",
    "    </ul>\n",
    "</div>"
   ]
  }
 ],
 "metadata": {
  "anaconda-cloud": {},
  "kernelspec": {
   "display_name": "Python 3",
   "language": "python",
   "name": "python3"
  },
  "language_info": {
   "codemirror_mode": {
    "name": "ipython",
    "version": 3
   },
   "file_extension": ".py",
   "mimetype": "text/x-python",
   "name": "python",
   "nbconvert_exporter": "python",
   "pygments_lexer": "ipython3",
   "version": "3.8.10"
  }
 },
 "nbformat": 4,
 "nbformat_minor": 1
}
