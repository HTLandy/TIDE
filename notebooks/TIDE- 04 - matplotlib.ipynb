{
 "cells": [
  {
   "cell_type": "markdown",
   "metadata": {
    "collapsed": true
   },
   "source": [
    "# Master TIDE - Conférences Python 2021\n",
    "\n",
    "Francis Wolinski\n",
    "\n",
    "&copy; 2021 Yotta Conseil\n",
    "\n",
    "\n",
    "# 4. Graphiques : Matplotlib et Seaborn"
   ]
  },
  {
   "cell_type": "markdown",
   "metadata": {},
   "source": [
    "Il existe de nombreuses librairies graphiques en Python. la librairie de référence est `matplotlib` qui est un framework graphique à la MATLAB.\n",
    "\n",
    "Nous utiliserons le sous-module `pyplot` et également la libriarie `seaborn` qui en est une extension.\n",
    "\n",
    "Documentation :\n",
    "- matplotlib : http://matplotlib.org\n",
    "- seaborn : http://seaborn.pydata.org"
   ]
  },
  {
   "cell_type": "code",
   "execution_count": null,
   "metadata": {
    "scrolled": false
   },
   "outputs": [],
   "source": [
    "# import des modules usuels\n",
    "import pandas as pd\n",
    "import numpy as np\n",
    "import matplotlib as mpl\n",
    "\n",
    "# options d'affichage\n",
    "pd.set_option(\"display.max_rows\", 16)"
   ]
  },
  {
   "cell_type": "markdown",
   "metadata": {},
   "source": [
    "## 4.1 Matplotlib.pyplot\n",
    "\n",
    "Dans matplotlib.pyplot les trois objets principaux sont :\n",
    "- `Figure` : ensemble de la représentation graphique\n",
    "- `Axes` (ou Subplots) : graphiques de la représentation\n",
    "- `Axis` : axe X ou Y d'un graphique, ne pas confondre avec *Axes*\n",
    "\n",
    "A noter, toutes les instructions entre la création d'une figure et son affichage sont cumulées dans le même graphique au sein d'un même script ou cellule de notebook."
   ]
  },
  {
   "cell_type": "markdown",
   "metadata": {},
   "source": [
    "### 4.1.1 Introduction"
   ]
  },
  {
   "cell_type": "code",
   "execution_count": null,
   "metadata": {},
   "outputs": [],
   "source": [
    "# style\n",
    "plt.style.use('seaborn-darkgrid')\n",
    "plt.subplots(figsize=(5, 5));"
   ]
  },
  {
   "cell_type": "code",
   "execution_count": null,
   "metadata": {},
   "outputs": [],
   "source": [
    "# avec un context manager\n",
    "with plt.style.context('fivethirtyeight'):\n",
    "    plt.subplots(figsize=(5, 5))"
   ]
  },
  {
   "cell_type": "markdown",
   "metadata": {},
   "source": [
    "A noter, la liste des styles disponibles est dans la variable `matplotlib.pyplot.style.available`."
   ]
  },
  {
   "cell_type": "code",
   "execution_count": null,
   "metadata": {},
   "outputs": [],
   "source": [
    "# styles disponibles\n",
    "print(*plt.style.available, sep='\\n')"
   ]
  },
  {
   "cell_type": "markdown",
   "metadata": {},
   "source": [
    "#### Fonctions de `pyplot`"
   ]
  },
  {
   "cell_type": "markdown",
   "metadata": {},
   "source": [
    "Fonctions de *pyplot*|Commentaires\n",
    "-|-\n",
    "figure()|création d'un objet *Figure*\n",
    "plot()|création d'un graphique\n",
    "subplots()|création d'un graphique avec sous-graphiques\n",
    "scatter()|affichage d'un nuage de points\n",
    "axhline()|affichage d'une ligne horizontale\n",
    "axvline()|affichage d'une ligne verticale\n",
    "colorbar()|affichage d'un nuancier latéral\n",
    "annotate()|ajout d'annotations\n",
    "show()|visualisation\n",
    "imshow()|visualisation d'une image\n",
    "savefig()|sauvegarde d'une figure dans un fichier (png, pdf, ps, eps, svg)\n",
    "clear() ou clf(), cla()|effacement de la figure, d'un objet *Axes*"
   ]
  },
  {
   "cell_type": "markdown",
   "metadata": {},
   "source": [
    "La fonction `figure()` crée une nouvelle figure, elle prend en paramètres :\n",
    "- figsize : dimension du graphique\n",
    "- dpi : résolution du graphique\n",
    "- facecolor : couleur de fond\n",
    "- edgecolor : couleur des bords\n",
    "\n",
    "La méthode `add_subplot()` de `Figure` permet de créer un sous-graphique (appelé `axes` ou `subplot`). Elle prend 3 arguments : nombre de lignes, nombre de colonnes et numéro du sous-graphique (démarrant à `1` de gauche à droite et de haut en bas).\n",
    "\n",
    "Par commodité, lorsque ces nombres sont inférieurs à 10, ils peuvent être concaténés sous la forme d'un entier.\n",
    "\n",
    "Exemples :\n",
    "- 111 : unique sous-graphique d'un graphique 1 ligne x 1 colonne\n",
    "- 211, 212 : sous-graphiques d'un graphique 2 lignes x 1 colonne\n",
    "- 121, 122 : sous-graphiques d'un graphique 1 ligne x 2 colonnes\n",
    "- 221, 222, 223, 224 : sous-graphiques d'un graphique 2 lignes x 2 colonnes\n",
    "\n",
    "La fonction `subplots()` grée une figure et les axes (subplots) en précisant les nombres de lignes et de colonnes. Elle retourne un tuple composé de la figure et de un `Axes` (subplot) ou un `ndarray` d'`Axes` (subplots).\n",
    "\n",
    "#### Méthodes de `Axes`"
   ]
  },
  {
   "cell_type": "markdown",
   "metadata": {},
   "source": [
    "Fonctions de *Axes*|Commentaires\n",
    "-|-\n",
    "plot()|graphique\n",
    "axhline()|ligne horizontale\n",
    "axvline()|ligne verticale\n",
    "scatter()|nuage de points\n",
    "set_title()|titre\n",
    "set_xlabel()|label de l'axe des X (idem pour Y)\n",
    "set_xticks()|marques de l'axe des X (idem pour Y)\n",
    "set_xticklabels()|labels des marques de l'axe des X (idem pour Y)\n",
    "legend()|légende et positionnement\n",
    "clear()|effacement"
   ]
  },
  {
   "cell_type": "markdown",
   "metadata": {},
   "source": [
    "#### Graphique élémentaire"
   ]
  },
  {
   "cell_type": "code",
   "execution_count": null,
   "metadata": {},
   "outputs": [],
   "source": [
    "# on crée une figure élémentaire\n",
    "np.random.seed(0)\n",
    "plt.plot((np.random.random(100) - 0.5).cumsum());"
   ]
  },
  {
   "cell_type": "markdown",
   "metadata": {},
   "source": [
    "#### Graphique simple"
   ]
  },
  {
   "cell_type": "code",
   "execution_count": null,
   "metadata": {
    "scrolled": false
   },
   "outputs": [],
   "source": [
    "# on crée une figure avec un unique subplot\n",
    "fig = plt.figure(figsize=(8, 6))\n",
    "ax = fig.add_subplot(111)  # équivalent à ax = fig.add_subplot(1, 1, 1)\n",
    "ax.set_title(\"Figure 1\")\n",
    "np.random.seed(0)\n",
    "ax.plot((np.random.random(100) - 0.5).cumsum())\n",
    "ax.axhline(y=0, color='k')\n",
    "ax.legend([\"Marche aléatoire\"], loc=\"best\");"
   ]
  },
  {
   "cell_type": "markdown",
   "metadata": {},
   "source": [
    "<div class=\"alert alert-success\">\n",
    "<b>Exercice 1</b>\n",
    "<ul>\n",
    "    <li>Implémentez une fonction qui affiche deux marches aléatoires dans le même graphique.</li>\n",
    "    <li>Ajoutez des lignes horizontales en pointillés avec la moyenne de chaque courbe.</li>\n",
    "    <li>Observez le positionnement de la légende</li>\n",
    "</ul>\n",
    "</div>"
   ]
  },
  {
   "cell_type": "code",
   "execution_count": null,
   "metadata": {},
   "outputs": [],
   "source": [
    "def double_walk():\n",
    "    pass"
   ]
  },
  {
   "cell_type": "markdown",
   "metadata": {},
   "source": [
    "#### Positionnement de la légende"
   ]
  },
  {
   "cell_type": "markdown",
   "metadata": {},
   "source": [
    "Emplacement (chaîne)|Emplacement (code)\n",
    "-|-\n",
    "'best'|0\n",
    "'upper right'|1\n",
    "'upper left'|2\n",
    "'lower left'|3\n",
    "'lower right'|4\n",
    "'right'|5\n",
    "'center left'|6\n",
    "'center right'|7\n",
    "'lower center'|8\n",
    "'upper center'|9\n",
    "'center'|10"
   ]
  },
  {
   "cell_type": "markdown",
   "metadata": {},
   "source": [
    "Il est également possible de spécifier une position relative avec l'option *bbox_to_anchor=(x, y)* qui fixe la position relative de la légende : 0.0 = bas/gauche, 1.0 = haut/droite."
   ]
  },
  {
   "cell_type": "markdown",
   "metadata": {},
   "source": [
    "<div class=\"alert alert-success\">\n",
    "<b>Exercice 2</b>\n",
    "<ul>\n",
    "    <li>Modifiez la fonction de sorte que les arguments en mots-clefs soient tous transmis à la méthode <code>legend()</code>.</li>\n",
    "    <li>Essayez différentes positions pour la légende.</li>\n",
    "    <li>Essayez l'option <code>bbox_to_anchor</code> pour mettre la légend à droite du graphique.</li>\n",
    "</ul>\n",
    "</div>"
   ]
  },
  {
   "cell_type": "code",
   "execution_count": null,
   "metadata": {},
   "outputs": [],
   "source": [
    "def double_walk(**kwargs):\n",
    "    pass"
   ]
  },
  {
   "cell_type": "markdown",
   "metadata": {},
   "source": [
    "#### Graphique composé\n",
    "\n",
    "Utilisation répétée de la méthode **add_subplot()**."
   ]
  },
  {
   "cell_type": "code",
   "execution_count": null,
   "metadata": {
    "scrolled": false
   },
   "outputs": [],
   "source": [
    "# figure composée\n",
    "fig = plt.figure(figsize=(8, 6))\n",
    "\n",
    "ax1 = fig.add_subplot(221)\n",
    "ax1.set_title(\"Figure 1\")\n",
    "ax1.plot(np.random.random(10))\n",
    "\n",
    "ax2 = fig.add_subplot(222)\n",
    "ax2.set_title(\"Figure 2\")\n",
    "ax2.plot(np.random.random(10), 'r--')\n",
    "\n",
    "ax3 = fig.add_subplot(223)\n",
    "ax3.set_title(\"Figure 3\")\n",
    "x = np.random.random(10)\n",
    "ax3.plot(x, 'c:')\n",
    "ax3.plot(x, '*', color='darkred')\n",
    "\n",
    "ax4 = fig.add_subplot(224)\n",
    "ax4.set_title(\"Figure 4\")\n",
    "x = np.random.random(10)\n",
    "ax4.plot(x, '-.', color='0.3')\n",
    "ax4.plot(x, '^', color='#ff0080');"
   ]
  },
  {
   "cell_type": "markdown",
   "metadata": {},
   "source": [
    "Idem avec la fonction **subplots()**."
   ]
  },
  {
   "cell_type": "code",
   "execution_count": null,
   "metadata": {
    "scrolled": false
   },
   "outputs": [],
   "source": [
    "# figure composée\n",
    "fig, [[ax1, ax2], [ax3, ax4]] = plt.subplots(2, 2, figsize=(8, 6))\n",
    "\n",
    "ax1.set_title(\"Figure 1\")\n",
    "ax1.plot(np.random.random(10))\n",
    "\n",
    "ax2.set_title(\"Figure 2\")\n",
    "ax2.plot(np.random.random(10), 'r--')\n",
    "\n",
    "ax3.set_title(\"Figure 3\")\n",
    "x = np.random.random(10)\n",
    "ax3.plot(x, 'c:')\n",
    "ax3.plot(x, '*', color='darkred')\n",
    "\n",
    "ax4.set_title(\"Figure 4\")\n",
    "x = np.random.random(10)\n",
    "ax4.plot(x, '-.', color='0.3')\n",
    "ax4.plot(x, '^', color='#ff0080');"
   ]
  },
  {
   "cell_type": "markdown",
   "metadata": {},
   "source": [
    "De base, il existe dans *matplotlib* :\n",
    "- 4 types de trait : '-' (plein), '--' (tiret), ':' (pointillé), '-.' (alterné)\n",
    "- plusieurs référentiels de couleurs :\n",
    "    - 8 couleurs prédéfinies : 'b' (bleu), 'g' (vert), 'r' (rouge), 'c' (cyan), 'm' (magenta), 'y' (jaune), 'k' (noir), 'w' (blanc)\n",
    "    - niveaux de gris : nombre entre 0 (noir) et 1 (blanc) sous forme de chaine de caractères\n",
    "    - 150 couleurs nommées : voir la variable *matplotlib.colors.cnames*\n",
    "    - 16+ millions de couleurs RVB en hexadécimal : #xxyyzz\n",
    "- 35 marqueurs de point : voir la variable *matplotlib.lines.Line2D.markers*."
   ]
  },
  {
   "cell_type": "code",
   "execution_count": null,
   "metadata": {},
   "outputs": [],
   "source": [
    "# couleurs\n",
    "print(*mpl.colors.cnames, sep=' ')"
   ]
  },
  {
   "cell_type": "code",
   "execution_count": null,
   "metadata": {},
   "outputs": [],
   "source": [
    "# marqueurs\n",
    "print(*mpl.lines.Line2D.markers, sep=' ')"
   ]
  },
  {
   "cell_type": "markdown",
   "metadata": {},
   "source": [
    "<div class=\"alert alert-success\">\n",
    "<b>Exercice 3</b>\n",
    "<ul>\n",
    "    <li>Modifiez le graphique en ajoutant 1 colonne avec 2 figures :</li>\n",
    "    <li>Figure 5: solid line and gold color width of 2 + black squares.</li>\n",
    "    <li>Figure 6: dashed line and light grey + blue circles.</li>\n",
    "</ul>"
   ]
  }
 ],
 "metadata": {
  "anaconda-cloud": {},
  "kernelspec": {
   "display_name": "Python 3",
   "language": "python",
   "name": "python3"
  },
  "language_info": {
   "codemirror_mode": {
    "name": "ipython",
    "version": 3
   },
   "file_extension": ".py",
   "mimetype": "text/x-python",
   "name": "python",
   "nbconvert_exporter": "python",
   "pygments_lexer": "ipython3",
   "version": "3.8.10"
  }
 },
 "nbformat": 4,
 "nbformat_minor": 1
}
