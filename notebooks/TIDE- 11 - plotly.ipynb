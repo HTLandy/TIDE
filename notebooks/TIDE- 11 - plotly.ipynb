{
 "cells": [
  {
   "cell_type": "markdown",
   "id": "7a3e9fa7",
   "metadata": {},
   "source": [
    "# Plotly pour des représentations interactives"
   ]
  },
  {
   "cell_type": "markdown",
   "id": "b419134c",
   "metadata": {},
   "source": [
    "### Utilisation de Plotly\n",
    "\n",
    "Plotly est un autre package intéressant pour la création de graphiques. Il est basé sur javascript. Son principal intérêt réside dans la création de graphiques interactifs. Il est édité par la société canadienne *Plotly* et est également intégré dans le package **dash** de création de dashboards.\n",
    "\n",
    "Nous allons principalement utiliser le module **plotly.express** dont l'API est particulièrement simple. Il existe un module plus complet que nous n'aborderons pas : **plotly.graph_objects**.\n",
    "\n",
    "Les graphiques sont produits avec une barre d'outils offrant différentes fonctions (snapshot, zoom, sélection, recentrage...). Il est possible de configurer ou de cacher ce menu avec l'instrcution : <code>fig.show(config={'displayModeBar': False})</code>."
   ]
  },
  {
   "cell_type": "code",
   "execution_count": null,
   "id": "43b8e25f",
   "metadata": {},
   "outputs": [],
   "source": [
    "# imports\n",
    "import numpy as np\n",
    "import pandas as pd\n",
    "import plotly.express as px"
   ]
  },
  {
   "cell_type": "markdown",
   "id": "e1890e81",
   "metadata": {},
   "source": [
    "**Exemples inspirés du site de plotly**"
   ]
  },
  {
   "cell_type": "markdown",
   "id": "6b0e2f48",
   "metadata": {},
   "source": [
    "#### bar"
   ]
  },
  {
   "cell_type": "code",
   "execution_count": null,
   "id": "2a2c5272",
   "metadata": {},
   "outputs": [],
   "source": [
    "# bar\n",
    "df = px.data.gapminder().query(\"country == 'France'\")\n",
    "px.bar(df, x='year', y='pop')"
   ]
  },
  {
   "cell_type": "markdown",
   "id": "3139172b",
   "metadata": {},
   "source": [
    "#### pie"
   ]
  },
  {
   "cell_type": "code",
   "execution_count": null,
   "id": "d4235f33",
   "metadata": {},
   "outputs": [],
   "source": [
    "# pie\n",
    "df = px.data.gapminder().query(\"year == 2007\").query(\"continent == 'Europe'\")\n",
    "df.loc[df['pop'] < 5.0e6, 'country'] = 'Autres' # Represent only large countries\n",
    "px.pie(df, values='pop', names='country', title='Population du continent européen')"
   ]
  },
  {
   "cell_type": "markdown",
   "id": "3a91cb4b",
   "metadata": {},
   "source": [
    "#### strip"
   ]
  },
  {
   "cell_type": "code",
   "execution_count": null,
   "id": "aa1d4766",
   "metadata": {},
   "outputs": [],
   "source": [
    "# strip\n",
    "df = px.data.tips()\n",
    "px.strip(df, x=\"total_bill\", y=\"day\")"
   ]
  },
  {
   "cell_type": "markdown",
   "id": "806b9600",
   "metadata": {},
   "source": [
    "#### scatter"
   ]
  },
  {
   "cell_type": "code",
   "execution_count": null,
   "id": "57d4b231",
   "metadata": {},
   "outputs": [],
   "source": [
    "# scatter\n",
    "px.scatter(df, x=\"total_bill\", y=\"tip\", color=\"sex\")"
   ]
  },
  {
   "cell_type": "markdown",
   "id": "2cf4f016",
   "metadata": {},
   "source": [
    "#### box"
   ]
  },
  {
   "cell_type": "code",
   "execution_count": null,
   "id": "18536787",
   "metadata": {},
   "outputs": [],
   "source": [
    "# box\n",
    "px.box(df, y=\"total_bill\")"
   ]
  },
  {
   "cell_type": "markdown",
   "id": "7816a32f",
   "metadata": {},
   "source": [
    "#### violin"
   ]
  },
  {
   "cell_type": "code",
   "execution_count": null,
   "id": "d7bd68c8",
   "metadata": {},
   "outputs": [],
   "source": [
    "# violin\n",
    "px.violin(df, y=\"total_bill\", color=\"sex\")"
   ]
  },
  {
   "cell_type": "markdown",
   "id": "33c3313e",
   "metadata": {},
   "source": [
    "#### histogram"
   ]
  },
  {
   "cell_type": "code",
   "execution_count": null,
   "id": "afa2d341",
   "metadata": {},
   "outputs": [],
   "source": [
    "# histogram\n",
    "px.histogram(df, x=\"total_bill\", nbins=10)"
   ]
  },
  {
   "cell_type": "markdown",
   "id": "d4099614",
   "metadata": {},
   "source": [
    "#### scatter_matrix"
   ]
  },
  {
   "cell_type": "code",
   "execution_count": null,
   "id": "f7b5fb73",
   "metadata": {},
   "outputs": [],
   "source": [
    "# scatter_matrix\n",
    "px.scatter_matrix(df)"
   ]
  },
  {
   "cell_type": "markdown",
   "id": "f7ded4a6",
   "metadata": {},
   "source": [
    "#### density_heatmap"
   ]
  },
  {
   "cell_type": "code",
   "execution_count": null,
   "id": "a3427bcf",
   "metadata": {},
   "outputs": [],
   "source": [
    "# density_heatmap\n",
    "px.density_heatmap(df, x=\"total_bill\", y=\"tip\", marginal_x=\"histogram\", marginal_y=\"histogram\")"
   ]
  },
  {
   "cell_type": "markdown",
   "id": "166853c7",
   "metadata": {},
   "source": [
    "#### facet"
   ]
  },
  {
   "cell_type": "code",
   "execution_count": null,
   "id": "1efccb96",
   "metadata": {},
   "outputs": [],
   "source": [
    "# grid + histogram\n",
    "px.histogram(df, x=\"total_bill\", facet_row=\"day\", facet_col=\"sex\")"
   ]
  },
  {
   "cell_type": "code",
   "execution_count": null,
   "id": "67d16e3c",
   "metadata": {},
   "outputs": [],
   "source": [
    "# grid + scatter\n",
    "px.scatter(df, x=\"total_bill\", y=\"tip\", facet_row=\"day\", facet_col=\"sex\")"
   ]
  },
  {
   "cell_type": "markdown",
   "id": "7e4e4f99",
   "metadata": {},
   "source": [
    "### treemap et sunburst\n",
    "\n",
    "Une treemap (resp. sunburst) ou carte proportionnelle est une représentation rectangulaire (resp. circulaire) de données hiérarchiques dans un espace limité."
   ]
  },
  {
   "cell_type": "code",
   "execution_count": null,
   "id": "962ebf34",
   "metadata": {},
   "outputs": [],
   "source": [
    "# dataset\n",
    "fortune = pd.read_csv(\"./Fortune_1000.csv\", na_values=\"-\")\n",
    "fortune = fortune.fillna(0)\n",
    "fortune.head()"
   ]
  },
  {
   "cell_type": "code",
   "execution_count": null,
   "id": "47ab64f5",
   "metadata": {},
   "outputs": [],
   "source": [
    "# treemap\n",
    "px.treemap(fortune,\n",
    "          path=[\"sector\", \"company\"],\n",
    "          values=\"Market Cap\")"
   ]
  },
  {
   "cell_type": "code",
   "execution_count": null,
   "id": "79feceac",
   "metadata": {},
   "outputs": [],
   "source": [
    "# on limite aux 4 première capitalisations par secteur\n",
    "fortune2 = fortune.groupby(\"sector\").apply(lambda g: g.nlargest(4, \"Market Cap\"))\n",
    "\n",
    "# sunburst\n",
    "px.sunburst(fortune2,\n",
    "          path=[\"sector\", \"company\"],\n",
    "          values=\"Market Cap\")"
   ]
  },
  {
   "cell_type": "markdown",
   "id": "d620bd56",
   "metadata": {},
   "source": [
    "<div class=\"alert alert-success\">\n",
    "    <h3><i class=\"fa fa-edit\"></i>  Exercise</h3>\n",
    "    <ul>\n",
    "        <li>Produire une treemap avec la hiérarchie à 3 niveaux : état (\"state\"), ville (\"city\"), société (\"company\") avec le nombre d'employés (\"num. of employees\").</li>\n",
    "    </ul>\n",
    "    <h4>Facultatif</h4>\n",
    "    <ul>\n",
    "        <li>A partir du fichier \"correspondance-code-insee-code-postal.csv\", produire une treemap avec la hiérarchie à 3 niveaux : \"Région\", \"Département\", \"Commune\" avec la \"Population\" limitée aux 3 villes les plus peuplées de chaque département</li>\n",
    "    </ul>\n",
    "</div>"
   ]
  },
  {
   "cell_type": "code",
   "execution_count": null,
   "id": "c04388bc",
   "metadata": {},
   "outputs": [],
   "source": [
    "# %load exos_viz/exo_11.py"
   ]
  },
  {
   "cell_type": "markdown",
   "id": "e66037a7",
   "metadata": {},
   "source": [
    "### Cartes choroplèthes\n",
    "\n",
    "Une carte choroplèthe est une carte thématique où les régions sont colorées ou remplies d'un motif qui montre une mesure statistique.\n",
    "\n",
    "Pour produire une carte choroplèthe, il faut récupérer un fichier *geojson* de la partie du monde considérée. Ce fichier contient entre autres 2 informations importantes :\n",
    "- Une clé qui désigne chaque sous-région,\n",
    "- La description d'un polygone ou d'un multi-polygone sous la forme d'une liste de coordonnées (latitude et longitude),\n",
    "\n",
    "Il faut ensuite faire coïncider les valaeurs de la clé du fichier *geojson* avec celles de la colonne du DataFrame qui contient les données relatives à chaque sous-région.\n",
    "\n",
    "Il est possible ensuite d'utiliser différents fonds de cartes."
   ]
  },
  {
   "cell_type": "markdown",
   "id": "d31511ad",
   "metadata": {},
   "source": [
    "Le fichier \"./data/departements.geojson\" utilisé ci-après provient du site : https://france-geojson.gregoiredavid.fr/ et il faut analyser le fichier pour trouver la clé correspondant à chaque sous-région."
   ]
  },
  {
   "cell_type": "code",
   "execution_count": null,
   "id": "6635295d",
   "metadata": {},
   "outputs": [],
   "source": [
    "import json\n",
    "\n",
    "with open(\"./departements.geojson\") as f:\n",
    "    departements = json.loads(f.read())\n",
    "\n",
    "departements"
   ]
  },
  {
   "cell_type": "markdown",
   "id": "d0c00e44",
   "metadata": {},
   "source": [
    "Analyse du fichier geojson :\n",
    "- departements[\"features\"] est une liste de 96 dictionnaires (les différents départements avec '2A' et '2B')\n",
    "- chaque dictionnaire contient les clés :\n",
    "    - 'type': 'Feature'\n",
    "    - 'geometry': informations géométriques (polygones...)\n",
    "    - 'properties' : informations d'identification qui permettent de référencer chaque dictionnaire"
   ]
  },
  {
   "cell_type": "code",
   "execution_count": null,
   "id": "ac94e406",
   "metadata": {},
   "outputs": [],
   "source": [
    "# analyse du dictionnaire \"departements\"\n",
    "departements[\"features\"][0][\"properties\"]"
   ]
  },
  {
   "cell_type": "code",
   "execution_count": null,
   "id": "b282a47c",
   "metadata": {},
   "outputs": [],
   "source": [
    "# liste des valeurs de la clé \"code\"\n",
    "codes = [f[\"properties\"][\"code\"] for f in departements[\"features\"]]\n",
    "codes.sort()\n",
    "print(*codes)"
   ]
  },
  {
   "cell_type": "code",
   "execution_count": null,
   "id": "80dda4ea",
   "metadata": {},
   "outputs": [],
   "source": [
    "# dataset \n",
    "geo = pd.read_csv(\"./correspondance-code-insee-code-postal.csv\",\n",
    "                 sep=\";\",\n",
    "                 )\n",
    "geo.head()"
   ]
  },
  {
   "cell_type": "markdown",
   "id": "6aea8c22",
   "metadata": {},
   "source": [
    "On voit que l'on va pouvoir utiliser la colonne \"Code Département\" pour référencer les dictionnaires du fichier *geojson*. La clé d'accès sera : \"properties.code\"."
   ]
  },
  {
   "cell_type": "code",
   "execution_count": null,
   "id": "3e5892c5",
   "metadata": {},
   "outputs": [],
   "source": [
    "# liste des \"Code Département\"\n",
    "codes2 = geo[\"Code Département\"].unique()\n",
    "codes2.sort()\n",
    "print(*codes2)"
   ]
  },
  {
   "cell_type": "markdown",
   "id": "7b197a35",
   "metadata": {},
   "source": [
    "On calcule le nombre d'habitants par département."
   ]
  },
  {
   "cell_type": "code",
   "execution_count": null,
   "id": "adcbeaa7",
   "metadata": {},
   "outputs": [],
   "source": [
    "# population des départements\n",
    "df = geo.groupby(\"Code Département\", as_index=False)[\"Population\"].sum()\n",
    "df.head()"
   ]
  },
  {
   "cell_type": "markdown",
   "id": "3469bff8",
   "metadata": {},
   "source": [
    "On produit la carte directement en donnant notamment les 4 informations :\n",
    "- le dictionnaire issu du fichier *geojson* : `geojson=departements`,\n",
    "- la clé dans le DataFrame : `locations='Code Département'`\n",
    "- la clé dans le fichier *geojson* : `featureidkey='properties.code'`\n",
    "- la grandeur représentée : `color='Population'`"
   ]
  },
  {
   "cell_type": "code",
   "execution_count": null,
   "id": "d8237822",
   "metadata": {},
   "outputs": [],
   "source": [
    "# choropleth_mapbox\n",
    "px.choropleth_mapbox(data_frame=df,\n",
    "                     geojson=departements,\n",
    "                     locations='Code Département',\n",
    "                     color='Population',\n",
    "                     featureidkey='properties.code',\n",
    "                     color_continuous_scale=\"teal\",\n",
    "                     mapbox_style=\"carto-positron\",\n",
    "                     zoom=4.0,\n",
    "                     center = {\"lat\": 47.0, \"lon\": 0.0},\n",
    "                     opacity=0.5,\n",
    "                     labels={'Population': 'Population en milliers'}\n",
    "                    )"
   ]
  },
  {
   "cell_type": "markdown",
   "id": "53efd629",
   "metadata": {},
   "source": [
    "<div class=\"alert alert-success\">\n",
    "    <h3><i class=\"fa fa-edit\"></i>  Exercise 12</h3>\n",
    "    <ul>\n",
    "        <li>Produire la même carte choroplèthe en utilisant non pas le n° mais le nom du département. Que constate-t-on ?</li>\n",
    "    </ul>\n",
    "</div>"
   ]
  },
  {
   "cell_type": "markdown",
   "id": "2ae3201d",
   "metadata": {},
   "source": [
    "<div class=\"alert alert-success\">\n",
    "    <h3><i class=\"fa fa-edit\"></i>  Exercise 13</h3>\n",
    "    <ul>\n",
    "        <li>Produire une carte choroplèthe avec la moyenne de l'Altitude Moyenne de chaque département, en utilisant le fond de carte \"stamen-terrain\" et le nuancier \"reds\".</li>\n",
    "    </ul>\n",
    "</div>"
   ]
  },
  {
   "cell_type": "markdown",
   "id": "95faab0a",
   "metadata": {},
   "source": [
    "<div class=\"alert alert-info\">\n",
    "    <h3><i class=\"fa fa-info-circle\"></i> Documentation</h3>\n",
    "    <p><a href=\"https://plotly.com/python/plotly-express/\">Plotly Express</a></p>\n",
    "    <p><a href=\"https://plotly.com/python/builtin-colorscales/\">Built-in Continuous Color Scales</a></p>\n",
    "    <p><a href=\"https://plotly.com/python/mapbox-layers/\">Mapbox Map Layers</a></p>\n",
    "</div>"
   ]
  }
 ],
 "metadata": {
  "kernelspec": {
   "display_name": "Python 3",
   "language": "python",
   "name": "python3"
  },
  "language_info": {
   "codemirror_mode": {
    "name": "ipython",
    "version": 3
   },
   "file_extension": ".py",
   "mimetype": "text/x-python",
   "name": "python",
   "nbconvert_exporter": "python",
   "pygments_lexer": "ipython3",
   "version": "3.8.10"
  }
 },
 "nbformat": 4,
 "nbformat_minor": 5
}
