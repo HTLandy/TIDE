{
 "cells": [
  {
   "cell_type": "markdown",
   "metadata": {},
   "source": [
    "\n",
    "# Master TIDE - Conférences Python 2021\n",
    "\n",
    "Francis Wolinski\n",
    "\n",
    "&copy; 2021 Yotta Conseil"
   ]
  },
  {
   "cell_type": "markdown",
   "metadata": {
    "collapsed": true
   },
   "source": [
    "# 1. Pandas : structures de données `Series` et `DataFrame`"
   ]
  },
  {
   "cell_type": "code",
   "execution_count": null,
   "metadata": {
    "scrolled": false
   },
   "outputs": [],
   "source": [
    "# import des modules usuels\n",
    "import numpy as np\n",
    "import pandas as pd\n",
    "\n",
    "# options d'affichage\n",
    "pd.set_option(\"display.max_rows\", 16)"
   ]
  },
  {
   "cell_type": "code",
   "execution_count": null,
   "metadata": {},
   "outputs": [],
   "source": [
    "# terminal\n",
    "# git clone https://github.com/fran6w/TIDE/\n",
    "# git pull"
   ]
  },
  {
   "cell_type": "code",
   "execution_count": null,
   "metadata": {},
   "outputs": [],
   "source": [
    "# windows\n",
    "!dir"
   ]
  },
  {
   "cell_type": "code",
   "execution_count": null,
   "metadata": {},
   "outputs": [],
   "source": [
    "# Mac\n",
    "!pwd"
   ]
  },
  {
   "cell_type": "code",
   "execution_count": null,
   "metadata": {},
   "outputs": [],
   "source": [
    "# Mac\n",
    "!ls"
   ]
  },
  {
   "cell_type": "code",
   "execution_count": null,
   "metadata": {},
   "outputs": [],
   "source": [
    "%magic"
   ]
  },
  {
   "cell_type": "code",
   "execution_count": null,
   "metadata": {},
   "outputs": [],
   "source": [
    "a = 1"
   ]
  },
  {
   "cell_type": "code",
   "execution_count": null,
   "metadata": {},
   "outputs": [],
   "source": [
    "%who"
   ]
  },
  {
   "cell_type": "markdown",
   "metadata": {},
   "source": [
    "## 1.1 Chargement des données\n",
    "\n",
    "On va également charger un jeu de données qui comprend la correspondance Code INSEE / Code Postal et intègre également des données de référence sur les communes :\n",
    "- Population\n",
    "- Superficie\n",
    "- Altitude moyenne\n",
    "- Latitude et longitude\n",
    "- Polygone(s)\n",
    "- etc.\n",
    "\n",
    "Les données open data proviennent du portail OpenDataSoft accessible à l'adresse http://public.opendatasoft.com/explore/\n",
    "\n",
    "Plusieurs points importants concernant l'open data :\n",
    "- Il ne faut pas négliger les données externes qui sont extrêmement riches.\n",
    "- Il peut y avoir un intérêt à combiner des données internes avec des données externes.\n",
    "- Il faut aussi s'interroger sur l'ouverture des données internes et leur monétisation par exemple sous forme d'API.\n",
    "\n",
    "Voici les principales fonctions d'import disponibles :"
   ]
  },
  {
   "cell_type": "markdown",
   "metadata": {},
   "source": [
    "fonction|usage\n",
    "-|-\n",
    "read_clipboard()|à partir d'une copie mémoire\n",
    "read_csv()|à partir d'un fichier *CSV* (Comma-Separated Value)\n",
    "read_excel()|à partir d'un fichier *Excel*\n",
    "read_fwf()| à partir d'une fichier texte à largeur fixe\n",
    "read_html()|à partir d'un fichier *HTML* (recherche des *< table >*)\n",
    "read_json()|à partir d'un fichier *JSON*\n",
    "read_pickle()|à partir d'un fichier au format Python *PICKLE*\n",
    "read_sas()|à partir d'un fichier *SAS*\n",
    "read_sql()|à partir d'une requête *SQL*\n",
    "read_stata()|à partir d'un fichier *STATA*"
   ]
  },
  {
   "cell_type": "markdown",
   "metadata": {},
   "source": [
    "Chacune de ces fonctions comporte un grand nombre d'options qui permettent d'adapter le fonctionnement de l'import aux données réelles.\n",
    "\n",
    "Pour la plupart des fonctions `read_xxx()`, il existe une fonction `to_xxx()` qui exporte un fichier au format spécifié.\n",
    "\n",
    "Voir la documentation : http://pandas.pydata.org/pandas-docs/stable/io.html\n",
    "\n",
    "L'analyse manuelle du fichier CSV montre que les données sont séparées par le caractère `;` et que l'on va seulement utiliser les 11 premières colonnes."
   ]
  },
  {
   "cell_type": "code",
   "execution_count": null,
   "metadata": {
    "scrolled": false
   },
   "outputs": [],
   "source": [
    "# utilisation de Tab\n",
    "#pd.read_"
   ]
  },
  {
   "cell_type": "code",
   "execution_count": null,
   "metadata": {},
   "outputs": [],
   "source": [
    "#pd?"
   ]
  },
  {
   "cell_type": "code",
   "execution_count": null,
   "metadata": {},
   "outputs": [],
   "source": [
    "# aide en ligne\n",
    "#pd.read_csv?"
   ]
  },
  {
   "cell_type": "code",
   "execution_count": null,
   "metadata": {
    "scrolled": false
   },
   "outputs": [],
   "source": [
    "# chargement des données\n",
    "geo = pd.read_csv(\"correspondance-code-insee-code-postal.csv\",\n",
    "                   sep=';',\n",
    "                   usecols=range(11))\n",
    "geo"
   ]
  },
  {
   "cell_type": "code",
   "execution_count": null,
   "metadata": {},
   "outputs": [],
   "source": [
    "# type ou classe\n",
    "type(geo)"
   ]
  },
  {
   "cell_type": "code",
   "execution_count": null,
   "metadata": {},
   "outputs": [],
   "source": [
    "# dimensions\n",
    "geo.shape"
   ]
  },
  {
   "cell_type": "markdown",
   "metadata": {},
   "source": [
    "Nous verrons que les tableaux obtenus sont de type `DataFrame` et qu'ils sont composés d'un ensemble de colonnes appelées *Series*.\n",
    "\n",
    "On va étudier les deux structures de données `Series` (1D) et `DataFrame` (2D)."
   ]
  },
  {
   "cell_type": "markdown",
   "metadata": {},
   "source": [
    "## 1.2 Chargement de tableaux HTML\n",
    "\n",
    "Au passage, la fonction `read_html()` permet de charger les tableaux d'une page trouvée sur le web.\n",
    "\n",
    "Attention, elle nécessite l'installation des librairies : `BeautifulSoup4`, `html5lib` et `lxml`.\n",
    "\n",
    "Comme cette fonction retourne une liste de tableaux HTML, on peut l'utiliser en la combinant avec l'attribut `shape` qui retourne les dimensions d'un `DataFrame`."
   ]
  },
  {
   "cell_type": "code",
   "execution_count": null,
   "metadata": {},
   "outputs": [],
   "source": [
    "# scraping d'une page HTML\n",
    "var = pd.read_html(\"https://fr.wikipedia.org/wiki/Liste_des_pays_par_PIB_nominal\")\n",
    "[df.shape for df in var]"
   ]
  },
  {
   "cell_type": "code",
   "execution_count": null,
   "metadata": {},
   "outputs": [],
   "source": [
    "# accès au n° 2\n",
    "df = var[1]\n",
    "df"
   ]
  },
  {
   "cell_type": "code",
   "execution_count": null,
   "metadata": {},
   "outputs": [],
   "source": [
    "# accès à des valeurs\n",
    "df.iloc[0]"
   ]
  },
  {
   "cell_type": "code",
   "execution_count": null,
   "metadata": {},
   "outputs": [],
   "source": [
    "# index de ligne = colonnes du DataFrame\n",
    "df.iloc[0].index"
   ]
  },
  {
   "cell_type": "code",
   "execution_count": null,
   "metadata": {},
   "outputs": [],
   "source": [
    "# accès à des valeurs\n",
    "var[1].iloc[[0, 1, 2, 76, -1]]"
   ]
  },
  {
   "cell_type": "code",
   "execution_count": null,
   "metadata": {},
   "outputs": [],
   "source": [
    "# accès à une valeur\n",
    "var[1].iloc[1, 2]"
   ]
  },
  {
   "cell_type": "code",
   "execution_count": null,
   "metadata": {},
   "outputs": [],
   "source": [
    "# aide sur read_html()\n",
    "pd.read_html?"
   ]
  },
  {
   "cell_type": "code",
   "execution_count": null,
   "metadata": {},
   "outputs": [],
   "source": [
    "# conversion automatique du séparateur des milliers\n",
    "var = pd.read_html(\"https://fr.wikipedia.org/wiki/Liste_des_pays_par_PIB_nominal\",\n",
    "                    header=0,\n",
    "                    thousands='\\xa0',\n",
    "                    decimal=',')\n",
    "var[1].iloc[[0, 1, 75, -1]]"
   ]
  },
  {
   "cell_type": "code",
   "execution_count": null,
   "metadata": {},
   "outputs": [],
   "source": [
    "# accès à une valeur\n",
    "var[1].iloc[0, 2]"
   ]
  },
  {
   "cell_type": "markdown",
   "metadata": {},
   "source": [
    "## 1.3 `Series`\n",
    "\n",
    "On accède aux colonnes d'un `DataFrame` avec l'opérateur `[]` et en utilisant le nom de la colonne.\n",
    "\n",
    "L'objet obtenu est de type `Series`. Un objet `Series` est une structure de données unidimensionnelle représentant un tableau de données en général homogène.\n",
    "\n",
    "Cette classe Python s'appuie sur la structure de données `ndarray` fournie par la librairie Python de calcul numérique `numpy` (N-dimensional array). Toutes les fonctions et opérations sur `ndarray` sont rendues disponibles aux objets de type `Series`.\n",
    "\n",
    "L'objet `Series` obtenu possède un index identique à celui du `DataFrame` et un tableau de valeurs correspondant à la colonne du `DataFrame`. Il possède également un nom qui est celui de la colonne dont il est tiré. En fait, c'est une vue du `DataFrame` : toute modification de l'objet `Series` est répercutée sur le `DataFrame`."
   ]
  },
  {
   "cell_type": "code",
   "execution_count": null,
   "metadata": {
    "scrolled": false
   },
   "outputs": [],
   "source": [
    "# on obtient un objet Series à partir d'une colonne du DataFrame\n",
    "s = geo[\"Commune\"]\n",
    "s"
   ]
  },
  {
   "cell_type": "markdown",
   "metadata": {},
   "source": [
    "### 1.3.1 Caractéristiques des `Series`\n",
    "\n",
    "attribut|résultat\n",
    "-|-\n",
    "s.name|nom de s\n",
    "s.values|valeurs de s\n",
    "s.index|index de s\n",
    "s.shape|dimension de s\n",
    "s.size|nombre d'éléments de s\n",
    "s.dtype|type des éléments de s\n",
    "s.empty|True si s est vide, False sinon"
   ]
  },
  {
   "cell_type": "code",
   "execution_count": null,
   "metadata": {
    "scrolled": false
   },
   "outputs": [],
   "source": [
    "# type de l'objet\n",
    "type(s)"
   ]
  },
  {
   "cell_type": "code",
   "execution_count": null,
   "metadata": {
    "scrolled": false
   },
   "outputs": [],
   "source": [
    "# accès à la variable d'instance \"name\" = nom de la colonne\n",
    "s.name"
   ]
  },
  {
   "cell_type": "code",
   "execution_count": null,
   "metadata": {
    "scrolled": false
   },
   "outputs": [],
   "source": [
    "# accès à la variable d'instance \"values\"\n",
    "s.values"
   ]
  },
  {
   "cell_type": "code",
   "execution_count": null,
   "metadata": {
    "scrolled": false
   },
   "outputs": [],
   "source": [
    "# type de la variable \"values\"\n",
    "type(s.values)"
   ]
  },
  {
   "cell_type": "code",
   "execution_count": null,
   "metadata": {
    "scrolled": false
   },
   "outputs": [],
   "source": [
    "# dimension de l'objet, retourne un tuple avec un seul élément\n",
    "s.shape"
   ]
  },
  {
   "cell_type": "code",
   "execution_count": null,
   "metadata": {
    "scrolled": false
   },
   "outputs": [],
   "source": [
    "# taille de l'objet, ou bien len(s)\n",
    "s.size"
   ]
  },
  {
   "cell_type": "code",
   "execution_count": null,
   "metadata": {
    "scrolled": false
   },
   "outputs": [],
   "source": [
    "# index numérique par défaut\n",
    "s.index"
   ]
  },
  {
   "cell_type": "code",
   "execution_count": null,
   "metadata": {},
   "outputs": [],
   "source": [
    "# dtype de la série\n",
    "s.dtype"
   ]
  },
  {
   "cell_type": "markdown",
   "metadata": {},
   "source": [
    "### 1.3.2 Méthodes usuelles\n",
    "\n",
    "Les objets `Series` ont des méthodes usuelles :\n",
    "\n",
    "méthode|résultat\n",
    "-|-\n",
    "s.head()|premiers éléments de s\n",
    "s.tail()|derniers éléments de s\n",
    "s.nunique()|nombre de valeurs uniques de s\n",
    "s.unique()|ndarray avec les valeurs uniques de s\n",
    "s.value_counts()|nombre d'occurrences de valeurs uniques de s\n",
    "\n",
    "La classe `Series` définit environ 325 attributs ou méthodes dans la librairie `pandas`."
   ]
  },
  {
   "cell_type": "code",
   "execution_count": null,
   "metadata": {
    "scrolled": false
   },
   "outputs": [],
   "source": [
    "# tête\n",
    "s.head()"
   ]
  },
  {
   "cell_type": "code",
   "execution_count": null,
   "metadata": {
    "scrolled": false
   },
   "outputs": [],
   "source": [
    "# queue\n",
    "s.tail(3)  # ou bien s.tail(n=3)"
   ]
  },
  {
   "cell_type": "markdown",
   "metadata": {},
   "source": [
    "Nombre de valeurs uniques d'un objet *Series*"
   ]
  },
  {
   "cell_type": "code",
   "execution_count": null,
   "metadata": {
    "scrolled": false
   },
   "outputs": [],
   "source": [
    "# nombre de valeurs uniques\n",
    "s.nunique()"
   ]
  },
  {
   "cell_type": "code",
   "execution_count": null,
   "metadata": {
    "scrolled": false
   },
   "outputs": [],
   "source": [
    "# nombre de départements\n",
    "geo[\"Département\"].nunique()"
   ]
  },
  {
   "cell_type": "code",
   "execution_count": null,
   "metadata": {
    "scrolled": false
   },
   "outputs": [],
   "source": [
    "# nombre de statuts de commune\n",
    "geo[\"Statut\"].nunique()"
   ]
  },
  {
   "cell_type": "markdown",
   "metadata": {},
   "source": [
    "Valeurs uniques d'un objet *Series*."
   ]
  },
  {
   "cell_type": "code",
   "execution_count": null,
   "metadata": {
    "scrolled": false
   },
   "outputs": [],
   "source": [
    "# liste des départements\n",
    "geo[\"Département\"].unique()"
   ]
  },
  {
   "cell_type": "markdown",
   "metadata": {},
   "source": [
    "<div class=\"alert alert-success\">\n",
    "<b>Exercice 1</b>\n",
    "<ul>\n",
    "    <li>Combien de valeurs différentes comporte la colonne \"Altitude Moyenne\" ?</li>\n",
    "    <li>Pour quelle altitude inférieure à 1000 mètres n'y a-t-il aucune commune ?</li>\n",
    "</ul>\n",
    "</div>"
   ]
  },
  {
   "cell_type": "markdown",
   "metadata": {},
   "source": [
    "Décompte du nombre d'occurences des valeurs uniques d'un objet *Series*."
   ]
  },
  {
   "cell_type": "code",
   "execution_count": null,
   "metadata": {
    "scrolled": false
   },
   "outputs": [],
   "source": [
    "# nombre de communes par département\n",
    "geo[\"Département\"].value_counts()"
   ]
  },
  {
   "cell_type": "markdown",
   "metadata": {},
   "source": [
    "**Remarque** : L'objet retourné par la méthode `value_counts()` est lui-même un objet de type *Series*."
   ]
  },
  {
   "cell_type": "code",
   "execution_count": null,
   "metadata": {
    "scrolled": false
   },
   "outputs": [],
   "source": [
    "# value_counts\n",
    "s2 = geo[\"Département\"].value_counts()\n",
    "type(s2)"
   ]
  },
  {
   "cell_type": "code",
   "execution_count": null,
   "metadata": {
    "scrolled": false
   },
   "outputs": [],
   "source": [
    "# l'index est composé des valeurs uniques de l'objet Series initial\n",
    "s2.index"
   ]
  },
  {
   "cell_type": "code",
   "execution_count": null,
   "metadata": {
    "scrolled": false
   },
   "outputs": [],
   "source": [
    "# les valeurs sont les nombres d'occurences des valeurs uniques de l'objet Series initial\n",
    "s2.values"
   ]
  },
  {
   "cell_type": "markdown",
   "metadata": {},
   "source": [
    "<div class=\"alert alert-success\">\n",
    "<b>Exercice 2</b>\n",
    "<ul>\n",
    "    <li>Donner le décompte des différents statuts des communes.</li>\n",
    "    <li>Quels sont les 10 noms de communes les plus fréquents ?</li>\n",
    "    <li>En français, le nom de famille le plus fréquent est *Martin*, mais quel est le nom de commune le plus fréquent ?</li>\n",
    "</ul>\n",
    "</div>"
   ]
  },
  {
   "cell_type": "markdown",
   "metadata": {},
   "source": [
    "### 1.3.3 Opérations sur les objets `Series`\n",
    "\n",
    "Toutes les opérations vectorielles des `ndarray` de `numpy` sont disponibles pour les `Series` :\n",
    "- logiques:\n",
    "    - entre 2 objets `Series` : `&` (ET), `|` (OU), `~` (NON)\n",
    "    - entre les valeurs d'un seul objet `Series` : `any()` (OU), `all()` (ET)\n",
    "- fonctions mathématiques usuelles : par ex., `abs()`, `sqrt()`, `sign()`, `floor()`, `rint()`\n",
    "- fonctions mathématiques avancées : par ex., trigonometrie, logarithme, exponentielle\n",
    "- cacul vectoriel avec une valeur scalaire, une liste de values avec la méthode `isin()`, ou un autre objet `Series`\n",
    "- comparaison avec une valeur scalaire ou un autre objet `Series`\n",
    "- fonctions statistiques usuelles : par ex., `sum()`, `min()`, `max()`, `mean()`, `median()`, `std()`, `var()`, `cumsum()`, `cumprod()`, `cummin()`, `cummax()`, `idxmin()`, `idxmax()`"
   ]
  },
  {
   "cell_type": "code",
   "execution_count": null,
   "metadata": {},
   "outputs": [],
   "source": [
    "# population\n",
    "geo[\"Population\"].sum()"
   ]
  },
  {
   "cell_type": "code",
   "execution_count": null,
   "metadata": {},
   "outputs": [],
   "source": [
    "# min\n",
    "geo['Altitude Moyenne'].min()"
   ]
  },
  {
   "cell_type": "code",
   "execution_count": null,
   "metadata": {},
   "outputs": [],
   "source": [
    "# max\n",
    "geo['Altitude Moyenne'].max()"
   ]
  },
  {
   "cell_type": "code",
   "execution_count": null,
   "metadata": {},
   "outputs": [],
   "source": [
    "# opération avec un scalaire\n",
    "geo[\"Population\"] * 1000"
   ]
  },
  {
   "cell_type": "code",
   "execution_count": null,
   "metadata": {},
   "outputs": [],
   "source": [
    "# comparaison\n",
    "geo['Altitude Moyenne'] == 49"
   ]
  },
  {
   "cell_type": "code",
   "execution_count": null,
   "metadata": {
    "scrolled": false
   },
   "outputs": [],
   "source": [
    "# exemple : appartenance à une liste de valeurs\n",
    "geo[\"Altitude Moyenne\"].isin([49.0, 59.0])"
   ]
  },
  {
   "cell_type": "code",
   "execution_count": null,
   "metadata": {},
   "outputs": [],
   "source": [
    "# somme cumulée population\n",
    "geo[\"Population\"].cumsum()"
   ]
  },
  {
   "cell_type": "code",
   "execution_count": null,
   "metadata": {},
   "outputs": [],
   "source": [
    "# produit cumulé population\n",
    "geo[\"Superficie\"].astype(int).cumprod().head(20)"
   ]
  },
  {
   "cell_type": "code",
   "execution_count": null,
   "metadata": {},
   "outputs": [],
   "source": [
    "# entiers Python\n",
    "from math import factorial\n",
    "factorial(1000)"
   ]
  },
  {
   "cell_type": "code",
   "execution_count": null,
   "metadata": {
    "scrolled": false
   },
   "outputs": [],
   "source": [
    "# exemple : calcul de la densité en divisant la population par la superficie\n",
    "geo[\"Population\"] / geo[\"Superficie\"]"
   ]
  },
  {
   "cell_type": "markdown",
   "metadata": {},
   "source": [
    "### 1.3.4 Opérations sur les `Series` comportant des chaînes de caractères\n",
    "\n",
    "L'opérateur `str` permet de traiter une `Series` comportant des chaînes de caractères et d'obtenir une nouvelle `Series` avec le résultat des opérations appliquées à chacune des chaînes de caractères.\n",
    "\n",
    "Grâce à l'opérateur `str`, la plupart des fonctions Python pour les chaînes de caractères sont disponibles en méthodes de *Series* composées de chaînes : `[]`, `len()`, `startswith()`, `contains()`, `endswith()`, `split()`, `lower()`...\n",
    "\n",
    "Ces méthodes retournent un objet `Series` composé du résultat élément par élément."
   ]
  },
  {
   "cell_type": "code",
   "execution_count": null,
   "metadata": {},
   "outputs": [],
   "source": [
    "# startswith\n",
    "geo[\"Commune\"].str.startswith(\"B\")"
   ]
  },
  {
   "cell_type": "code",
   "execution_count": null,
   "metadata": {},
   "outputs": [],
   "source": [
    "geo[\"Commune\"].str.capitalize()"
   ]
  },
  {
   "cell_type": "code",
   "execution_count": null,
   "metadata": {},
   "outputs": [],
   "source": [
    "geo[\"Commune\"].str.title()"
   ]
  },
  {
   "cell_type": "markdown",
   "metadata": {},
   "source": [
    "<div class=\"alert alert-success\">\n",
    "<b>Exercice 3</b>\n",
    "<ul>\n",
    "    <li>Calculez le minimum et le maximum des longueurs des noms des communes</li>\n",
    "    <li>Donnez le décompte des longueurs de noms des communes.</li>\n",
    "</ul>\n",
    "</div>"
   ]
  },
  {
   "cell_type": "markdown",
   "metadata": {},
   "source": [
    "### 1.3.5 La méthode `apply()`\n",
    "\n",
    "La méthode `apply()` permet d'appliquer une fonction (ou une lambda) sur toutes les valeurs d'un objet `Series`.\n",
    "\n",
    "Elle retourne un objet analogue dont les valeurs correspondent à l'application de la fonction à chaque élément."
   ]
  },
  {
   "cell_type": "code",
   "execution_count": null,
   "metadata": {
    "scrolled": false
   },
   "outputs": [],
   "source": [
    "s = geo[\"Superficie\"]\n",
    "s"
   ]
  },
  {
   "cell_type": "code",
   "execution_count": null,
   "metadata": {
    "scrolled": false
   },
   "outputs": [],
   "source": [
    "# côtés des carrés de surface équivalente\n",
    "s.apply(np.sqrt)"
   ]
  },
  {
   "cell_type": "code",
   "execution_count": null,
   "metadata": {},
   "outputs": [],
   "source": [
    "# avec numpy\n",
    "np.sqrt(s)"
   ]
  },
  {
   "cell_type": "code",
   "execution_count": null,
   "metadata": {},
   "outputs": [],
   "source": [
    "# rayons des cercles de surface équivalente\n",
    "# fonction standard\n",
    "def rayon(x):\n",
    "    rayon = np.sqrt(x / np.pi)\n",
    "    return rayon\n",
    "\n",
    "rayon(10)"
   ]
  },
  {
   "cell_type": "code",
   "execution_count": null,
   "metadata": {},
   "outputs": [],
   "source": [
    "# rayons des cercles de surface équivalente\n",
    "# fonction standard\n",
    "s.apply(rayon)"
   ]
  },
  {
   "cell_type": "code",
   "execution_count": null,
   "metadata": {
    "scrolled": false
   },
   "outputs": [],
   "source": [
    "# rayons des cercles de surface équivalente\n",
    "# element-wise\n",
    "# lambda\n",
    "s.apply(lambda x: np.sqrt(x / np.pi))"
   ]
  },
  {
   "cell_type": "markdown",
   "metadata": {},
   "source": [
    "## 1.4 DataFrame\n",
    "\n",
    "Un `DataFrame` est un tableau de données tel que l'on en rencontre fréquemment dans d'autres environnements informatiques : une table dans une base de données, une feuille de calcul en Excel, un *data.frame* du langage R, un fichier de données...\n",
    "\n",
    "En général, un tableau est constitué d'un ensemble d'enregistrements. Chaque ligne représente un enregistrement particulier et les diférentes colonnes matérialisent différentes caractéristiques de chaque enregistrement.\n",
    "\n",
    "Les objets contenu dans un *DataFrame* peuvent être de différents types :\n",
    "- booléen : `bool`\n",
    "- nombre entier : `int`\n",
    "- nombre flottant : `float`\n",
    "- chaîne de caractères : `object` (le type le plus général)\n",
    "- temps : date, heure...\n",
    "- n'importe quel objet Python...\n",
    "\n",
    "La librairie *pandas* essaie d'utiliser le type le plus approprié en fonction des objets de chaque colonne.\n",
    "\n",
    "Attention si le type d'une colonne est `object` (le type le plus général), il peut y avoir des objets qui ne sont pas des chaînes de caractères.\n",
    "\n",
    "Il est possible d'afficher les caractéristiques du `DataFrame` obtenu précédemment :\n",
    "- le type de l'objet obtenu par la fonction `read_csv()`\n",
    "- les dimensions du `DataFrame`\n",
    "- l'index du `DataFrame` (par défaut les entiers de 0 à L-1 où L est le nombre de lignes du `DataFrame`)\n",
    "- les noms des colonnes du `DataFrame`\n",
    "- des informations colonne par colonne et aussi sur l'empreinte mémoire"
   ]
  },
  {
   "cell_type": "markdown",
   "metadata": {},
   "source": [
    "### 1.4.1 Caractéristiques des DataFrames\n",
    "\n",
    "attribut|résultat\n",
    "-|-\n",
    "df.shape|dimensions de df\n",
    "df.size|nombre d'éléments of df\n",
    "df.values|valeurs de df\n",
    "df.index|index de df\n",
    "df.index.is_unique|si l'index de df est unique\n",
    "df.columns|colonnes de df\n",
    "df.dtypes|types des colonnes de df\n",
    "df.empty|True si s est vide, False sinon"
   ]
  },
  {
   "cell_type": "code",
   "execution_count": null,
   "metadata": {
    "scrolled": false
   },
   "outputs": [],
   "source": [
    "# type de l'objet\n",
    "type(geo)"
   ]
  },
  {
   "cell_type": "code",
   "execution_count": null,
   "metadata": {
    "scrolled": false
   },
   "outputs": [],
   "source": [
    "# dimensions\n",
    "geo.shape"
   ]
  },
  {
   "cell_type": "code",
   "execution_count": null,
   "metadata": {
    "scrolled": false
   },
   "outputs": [],
   "source": [
    "# nombre de lignes\n",
    "len(geo)"
   ]
  },
  {
   "cell_type": "code",
   "execution_count": null,
   "metadata": {
    "scrolled": false
   },
   "outputs": [],
   "source": [
    "# nombre total d'éléments\n",
    "geo.size"
   ]
  },
  {
   "cell_type": "code",
   "execution_count": null,
   "metadata": {
    "scrolled": false
   },
   "outputs": [],
   "source": [
    "# index\n",
    "geo.index"
   ]
  },
  {
   "cell_type": "code",
   "execution_count": null,
   "metadata": {
    "scrolled": false
   },
   "outputs": [],
   "source": [
    "# liste des colonnes\n",
    "geo.columns"
   ]
  },
  {
   "cell_type": "markdown",
   "metadata": {},
   "source": [
    "**Remarque importante**\n",
    "\n",
    "La liste des colonnes est également un index. Un `DataFrame` possède donc 2 index :\n",
    "- l'index vertical (`axis=0`)\n",
    "- l'index horizontal correspondant aux colonnes (`axis=1`)"
   ]
  },
  {
   "cell_type": "code",
   "execution_count": null,
   "metadata": {
    "scrolled": false
   },
   "outputs": [],
   "source": [
    "# types des colonnes\n",
    "geo.dtypes"
   ]
  },
  {
   "cell_type": "code",
   "execution_count": null,
   "metadata": {
    "scrolled": false
   },
   "outputs": [],
   "source": [
    "# appel de la méthode info()\n",
    "geo.info()"
   ]
  },
  {
   "cell_type": "markdown",
   "metadata": {},
   "source": [
    "### 1.4.2 Méthodes usuelles\n",
    "\n",
    "Les objets `DataFrame` ont des méthodes usuelles :\n",
    "\n",
    "méthode|résultat\n",
    "-|-\n",
    "df.head()|premières lignes de df\n",
    "df.tail()|dernières lignes de df\n",
    "df.info()|information sur df\n",
    "df.count()|nombre d'éléments non NA de chaque colonne\n",
    "df.nunique()|nombre d'éléments uniques de chaque colonne\n",
    "df.transpose or df.T()|transposition de df\n",
    "\n",
    "La classe `DataFrame` definit environ 224 attributs ou méthodes dans la librairie `pandas`."
   ]
  },
  {
   "cell_type": "code",
   "execution_count": null,
   "metadata": {
    "scrolled": false
   },
   "outputs": [],
   "source": [
    "# tête\n",
    "geo.head()"
   ]
  },
  {
   "cell_type": "code",
   "execution_count": null,
   "metadata": {
    "scrolled": false
   },
   "outputs": [],
   "source": [
    "# queue\n",
    "geo.tail()"
   ]
  },
  {
   "cell_type": "markdown",
   "metadata": {},
   "source": [
    "#### Transposition\n",
    "\n",
    "La méthode `transpose()`, également `T`, permet de transposer un `DataFrame`, c'est-à-dire d'échanger les lignes et les colonnes.\n",
    "\n",
    "La méthode retourne un nouveau `DataFrame` dans lequel l'index correspond aux noms des colonnes initiales et les noms des colonnes aux valeurs de l'index initial."
   ]
  },
  {
   "cell_type": "code",
   "execution_count": null,
   "metadata": {
    "scrolled": false
   },
   "outputs": [],
   "source": [
    "# transposition\n",
    "geo.transpose() # ou T"
   ]
  },
  {
   "cell_type": "code",
   "execution_count": null,
   "metadata": {
    "scrolled": false
   },
   "outputs": [],
   "source": [
    "# accès à la première ligne\n",
    "geo.head(1).T"
   ]
  },
  {
   "cell_type": "markdown",
   "metadata": {},
   "source": [
    "### 1.4.3 Modification de l'index"
   ]
  },
  {
   "cell_type": "code",
   "execution_count": null,
   "metadata": {
    "scrolled": false
   },
   "outputs": [],
   "source": [
    "# modification de l'index\n",
    "geo = geo.set_index(\"Code INSEE\")\n",
    "geo.head()"
   ]
  },
  {
   "cell_type": "markdown",
   "metadata": {},
   "source": [
    "La colonne \"`Code INSEE`\" a disparu de l'ensemble des colonnes et est venue remplacer l'ancien index. Le `DataFrame` obtenu n'a plus que 10 colonnes.\n",
    "\n",
    "On peut vérifier que l'index est unique, c'est-à-dire composé de valeurs distinctes."
   ]
  },
  {
   "cell_type": "code",
   "execution_count": null,
   "metadata": {
    "scrolled": false
   },
   "outputs": [],
   "source": [
    "# test de l'unicité de l'index\n",
    "geo.index.is_unique"
   ]
  },
  {
   "cell_type": "markdown",
   "metadata": {},
   "source": [
    "<div class=\"alert alert-success\">\n",
    "<b>Exercice 4</b>\n",
    "<ul>\n",
    "    <li>Modifiez l'index en utilisant la colonne 'Commune'.</li>\n",
    "    <li>Testez l'unicité de l'index. Expliquez.</li>\n",
    "</ul>\n",
    "</div>"
   ]
  }
 ],
 "metadata": {
  "anaconda-cloud": {},
  "kernelspec": {
   "display_name": "Python 3",
   "language": "python",
   "name": "python3"
  },
  "language_info": {
   "codemirror_mode": {
    "name": "ipython",
    "version": 3
   },
   "file_extension": ".py",
   "mimetype": "text/x-python",
   "name": "python",
   "nbconvert_exporter": "python",
   "pygments_lexer": "ipython3",
   "version": "3.8.10"
  }
 },
 "nbformat": 4,
 "nbformat_minor": 1
}
